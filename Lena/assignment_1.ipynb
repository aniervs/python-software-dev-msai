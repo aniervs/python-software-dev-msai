{
 "cells": [
  {
   "cell_type": "markdown",
   "metadata": {},
   "source": [
    "# Assignment 1"
   ]
  },
  {
   "cell_type": "markdown",
   "metadata": {},
   "source": []
  },
  {
   "cell_type": "code",
   "execution_count": 120,
   "metadata": {},
   "outputs": [],
   "source": [
    "name = \"Elena Vasileva\"\n",
    "if name is None:\n",
    "    raise ValueError(\"Put your full name in the `name` variable\")"
   ]
  },
  {
   "cell_type": "markdown",
   "metadata": {},
   "source": [
    "The objective of this assignment is to test a bunch of different topics we've discussed during our introductory classes. Complete the following exercises:"
   ]
  },
  {
   "cell_type": "markdown",
   "metadata": {},
   "source": [
    "## Instructions"
   ]
  },
  {
   "cell_type": "markdown",
   "metadata": {},
   "source": [
    "Complete the notebook and create a folder with your name, and put the notebook in that folder. Make a Pull Request with your code."
   ]
  },
  {
   "cell_type": "markdown",
   "metadata": {
    "id": "hia1cPPnbt-6"
   },
   "source": [
    "## Exercise 0\n",
    "\n",
    "Write your own simple function with simple documentation and all types of arguments (positional, positional with defaults, arbitrary args, keyword args, arbitrary keyword args)"
   ]
  },
  {
   "cell_type": "code",
   "execution_count": 121,
   "metadata": {
    "id": "82YW6fgZbppO"
   },
   "outputs": [],
   "source": [
    "# your code here\n",
    "def my_function(pos, pos_def=0, *args, kw=None, **kwargs):\n",
    "    pass"
   ]
  },
  {
   "cell_type": "markdown",
   "metadata": {
    "id": "HYhlKVnwTYzD"
   },
   "source": [
    "## Exercise 1\n"
   ]
  },
  {
   "cell_type": "code",
   "execution_count": 122,
   "metadata": {
    "id": "gv_TvLaHTXh8"
   },
   "outputs": [],
   "source": [
    "def is_prime(n):\n",
    "    \"\"\"\n",
    "    Check if the number is prime or not.\n",
    "    \"\"\"\n",
    "    # your code here\n",
    "    rn = n**0.5 #root of n\n",
    "\n",
    "    if n == 0:\n",
    "        raise ValueError(\"It is neither prime nor composite number\")\n",
    "    \n",
    "    if n < 0:\n",
    "        raise ValueError(\"Please pass a positive number\")\n",
    "    \n",
    "    if n in (1, 2):\n",
    "        return True\n",
    "\n",
    "    for i in range(2, round(rn + 1)):\n",
    "        r = n%i\n",
    "        \n",
    "        if r == 0:\n",
    "            return False\n",
    "    \n",
    "    return True"
   ]
  },
  {
   "cell_type": "code",
   "execution_count": 123,
   "metadata": {},
   "outputs": [
    {
     "data": {
      "text/plain": [
       "True"
      ]
     },
     "execution_count": 123,
     "metadata": {},
     "output_type": "execute_result"
    }
   ],
   "source": [
    "is_prime(293)"
   ]
  },
  {
   "cell_type": "markdown",
   "metadata": {
    "id": "1FXsMX-RKOBG"
   },
   "source": [
    "## Exercise 2\n",
    "\n",
    "[Inspect](https://docs.python.org/3.7/library/inspect.html) will help you. Use `my_function` for tests.\n",
    "\n"
   ]
  },
  {
   "cell_type": "code",
   "execution_count": 124,
   "metadata": {
    "id": "g68Y9DfNQcYD"
   },
   "outputs": [],
   "source": [
    "import inspect\n",
    "\n",
    "def inspect_function(func):\n",
    "    \"\"\"\n",
    "    Takes another function as an argument (but not built-in) \n",
    "    and print the following data: \n",
    "    the name of the analyzed function, \n",
    "    the name of all the arguments it takes \n",
    "    and their types (positional, keyword, etc.)\n",
    "    \"\"\"\n",
    "    print(func.__name__)\n",
    "    sig = inspect.signature(func)\n",
    "    print(sig.parameters)\n",
    "    print()"
   ]
  },
  {
   "cell_type": "code",
   "execution_count": 125,
   "metadata": {},
   "outputs": [
    {
     "name": "stdout",
     "output_type": "stream",
     "text": [
      "my_function\n",
      "OrderedDict({'pos': <Parameter \"pos\">, 'pos_def': <Parameter \"pos_def=0\">, 'args': <Parameter \"*args\">, 'kw': <Parameter \"kw=None\">, 'kwargs': <Parameter \"**kwargs\">})\n",
      "\n"
     ]
    }
   ],
   "source": [
    "inspect_function(my_function)"
   ]
  },
  {
   "cell_type": "markdown",
   "metadata": {
    "id": "oRaKEc0ZIgNs"
   },
   "source": [
    "## Exercise 3"
   ]
  },
  {
   "cell_type": "markdown",
   "metadata": {
    "id": "xmdOYiCrGpUd"
   },
   "source": [
    "The `my_time_now` function is not working correctly. Correct it so that it displays the current time with a message. "
   ]
  },
  {
   "cell_type": "code",
   "execution_count": 126,
   "metadata": {
    "id": "645BoTXIGnHr"
   },
   "outputs": [],
   "source": [
    "from datetime import datetime\n",
    "from time import sleep\n",
    " \n",
    "# wrong function\n",
    "def my_time_now(msg):\n",
    "    dt=datetime.now()\n",
    "    print(msg, dt)\n",
    " \n"
   ]
  },
  {
   "cell_type": "code",
   "execution_count": 127,
   "metadata": {
    "id": "3NeyF9UJHeyd"
   },
   "outputs": [
    {
     "name": "stdout",
     "output_type": "stream",
     "text": [
      "The time is now:  2025-01-07 04:53:33.043561\n",
      "The time is now:  2025-01-07 04:53:34.044903\n",
      "The time is now:  2025-01-07 04:53:35.045777\n"
     ]
    }
   ],
   "source": [
    "# simple tests :)\n",
    "my_time_now('The time is now: ')\n",
    "sleep(1)\n",
    "my_time_now('The time is now: ')\n",
    "sleep(1)\n",
    "my_time_now('The time is now: ')"
   ]
  },
  {
   "cell_type": "markdown",
   "metadata": {
    "id": "Qap8_Jb2ENra"
   },
   "source": [
    "## Exercise 4"
   ]
  },
  {
   "cell_type": "code",
   "execution_count": 128,
   "metadata": {
    "id": "JBwZGo84EMW1"
   },
   "outputs": [],
   "source": [
    "def limit(input_generator, max_count):\n",
    "    \"\"\"\n",
    "    Generator that returns not more than max_count values of the input_generator.\n",
    "    \"\"\"\n",
    "    count = 0\n",
    "    for value in input_generator:\n",
    "        if count >= max_count:\n",
    "            break\n",
    "        yield value\n",
    "        count += 1"
   ]
  },
  {
   "cell_type": "markdown",
   "metadata": {
    "id": "BvwCKaOxRQ3N"
   },
   "source": [
    "## Exercise 5\n",
    "\n",
    "Write a generator for an infinite sequence of numbers from the Pascal's triangle. The sequence look like this:\n",
    "`1 1 1 1 2 1 1 3 3 1 1 4 6 4 1 1 5 10 10 5 1 1 6 15 20 15 6 1 1 7 21 35 35 21 7 1 1 8 28 56 70 56 28 8 1 1 9 36 84 126 126 84 36 9 1 ... '\n",
    "\n",
    "Test it with a generator from the previous task)"
   ]
  },
  {
   "cell_type": "code",
   "execution_count": 129,
   "metadata": {
    "id": "EBNNXBUYUqKJ"
   },
   "outputs": [],
   "source": [
    "def pascal():\n",
    "    row = [1]\n",
    "    while True:\n",
    "        for num in row:\n",
    "            yield num\n",
    "        row = [row[0]] + [row[i]  + row[i+1] for i in range(len(row) - 1)] + [1]\n"
   ]
  },
  {
   "cell_type": "code",
   "execution_count": 130,
   "metadata": {},
   "outputs": [
    {
     "name": "stdout",
     "output_type": "stream",
     "text": [
      "[1, 1, 1, 1, 2, 1, 1, 3, 3, 1, 1, 4, 6, 4, 1, 1, 5, 10, 10, 5]\n"
     ]
    }
   ],
   "source": [
    "generator = limit(pascal(), 20)\n",
    "print(list(generator))"
   ]
  },
  {
   "cell_type": "markdown",
   "metadata": {
    "id": "vUiY14pIEiNC"
   },
   "source": [
    "## Exercise 6\n"
   ]
  },
  {
   "cell_type": "code",
   "execution_count": 131,
   "metadata": {
    "id": "eGLSDqNHGFYn"
   },
   "outputs": [],
   "source": [
    "import pathlib  # can change to os module if you want\n",
    "import sys\n",
    "\n",
    "def files_sorted_by_size(path_to_dir):\n",
    "    \"\"\"\n",
    "    Return a list of files in path_to_dir sorted by size.\n",
    "    The same size files sorted alphabetically\n",
    "    \"\"\"\n",
    "    path = pathlib.Path(path_to_dir)\n",
    "    files = [file for file in path.iterdir() if file.is_file()]\n",
    "    files_sorted = sorted(files, key=lambda f: (f.stat().st_size, f.name))\n",
    "    return [file.name for file in files_sorted]\n"
   ]
  },
  {
   "cell_type": "code",
   "execution_count": 132,
   "metadata": {},
   "outputs": [
    {
     "name": "stderr",
     "output_type": "stream",
     "text": [
      "<>:1: SyntaxWarning: invalid escape sequence '\\S'\n",
      "<>:1: SyntaxWarning: invalid escape sequence '\\S'\n",
      "C:\\Users\\Lena\\AppData\\Local\\Temp\\ipykernel_30588\\1995777761.py:1: SyntaxWarning: invalid escape sequence '\\S'\n",
      "  files_sorted_by_size(\"D:\\ScreenRecordings\\Fortnite\")\n"
     ]
    },
    {
     "data": {
      "text/plain": [
       "['Fortnite 2024.11.10 - 23.09.11.04.mp4',\n",
       " 'Fortnite 2024.11.07 - 01.14.51.01.mp4',\n",
       " 'Fortnite 2024.12.07 - 21.52.56.01.mp4',\n",
       " 'Fortnite 2024.11.10 - 22.52.10.01.mp4',\n",
       " 'Fortnite 2024.11.10 - 23.51.06.09.mp4',\n",
       " 'Fortnite 2024.12.07 - 23.28.42.07.mp4',\n",
       " 'Fortnite 2024.11.11 - 00.15.02.11.mp4',\n",
       " 'Fortnite 2024.11.10 - 23.12.14.05.mp4',\n",
       " 'Fortnite 2024.11.10 - 23.46.52.08.mp4',\n",
       " 'Fortnite 2024.11.10 - 23.02.16.03.mp4',\n",
       " 'Fortnite 2024.11.10 - 22.55.09.02.mp4',\n",
       " 'smehuechki.mp4',\n",
       " 'вырезать ппервые 10 сек.mp4',\n",
       " 'кор с владом три против фул.mp4',\n",
       " 'Fortnite 2024.12.07 - 22.36.55.04.mp4',\n",
       " 'Fortnite 2024.11.10 - 23.16.38.06.mp4',\n",
       " 'Fortnite 2024.12.07 - 23.34.57.08.mp4',\n",
       " 'Fortnite 2024.12.07 - 23.11.59.06.mp4',\n",
       " 'удачивлад.mp4',\n",
       " 'Fortnite 2024.12.07 - 22.55.08.05.mp4',\n",
       " 'Fortnite 2024.11.07 - 01.18.49.02.mp4',\n",
       " 'Fortnite 2024.12.07 - 23.47.33.09.mp4',\n",
       " 'Fortnite 2024.12.07 - 21.59.15.02.mp4',\n",
       " 'Fortnite 2024.11.10 - 23.56.13.10.mp4',\n",
       " 'kringe aq.mp4',\n",
       " 'coronnaya lebivonika.mp4',\n",
       " 'лщк вгщ вгрщеф.mp4']"
      ]
     },
     "execution_count": 132,
     "metadata": {},
     "output_type": "execute_result"
    }
   ],
   "source": [
    "files_sorted_by_size(\"D:\\ScreenRecordings\\Fortnite\")"
   ]
  },
  {
   "cell_type": "markdown",
   "metadata": {
    "id": "43eeoixHSa9Y"
   },
   "source": [
    "## Exercise 7\n",
    "\n",
    "Write a `merge_sorter` generator that merges sorted sequences of integers.\n",
    "\n",
    "The generator takes an arbitrary number of arguments. The argument can be any iterable, including another generator. It is guaranteed that each argument is a sequence of integers, sorted in non-decreasing order."
   ]
  },
  {
   "cell_type": "code",
   "execution_count": 133,
   "metadata": {
    "id": "VHmnqHVaScox"
   },
   "outputs": [],
   "source": [
    "def merge_sorter(*args):\n",
    "    iterators = [iter(seq) for seq in args]\n",
    "    current_elements = []\n",
    "\n",
    "    for i, it in enumerate(iterators):\n",
    "        try:\n",
    "            current_elements.append((next(it), i))\n",
    "        except StopIteration:\n",
    "            continue\n",
    "\n",
    "    while current_elements:\n",
    "        min_value, min_index = current_elements[0]\n",
    "        for value, index in current_elements:\n",
    "            if value < min_value:\n",
    "                min_value, min_index = value, index\n",
    "\n",
    "        yield min_value\n",
    "\n",
    "        try:\n",
    "            next_value = next(iterators[min_index])\n",
    "            for i, (value, index) in enumerate(current_elements):\n",
    "                if index == min_index:\n",
    "                    current_elements[i] = (next_value, min_index)\n",
    "                    break\n",
    "        except StopIteration:\n",
    "            current_elements = [(value, index) for value, index in current_elements if index != min_index]\n"
   ]
  },
  {
   "cell_type": "code",
   "execution_count": 134,
   "metadata": {},
   "outputs": [
    {
     "data": {
      "text/plain": [
       "[0, 1, 2, 2, 4, 5, 6, 9, 11]"
      ]
     },
     "execution_count": 134,
     "metadata": {},
     "output_type": "execute_result"
    }
   ],
   "source": [
    "list(merge_sorter([2, 5, 9], [4, 6, 11], [0, 1, 2]))"
   ]
  },
  {
   "cell_type": "markdown",
   "metadata": {
    "id": "7AF_IQRQVQ-k"
   },
   "source": [
    "## Exercise 8\n",
    "\n",
    "Write the decorator `proﬁler`, which, when calling a function, will store in its attributes (not to be confused with arguments) the time of its execution (in seconds, it can be fractional) and the number of recursive calls that occurred during execution. Name the attributes `last_time_taken` and `calls`.\n",
    "It is forbidden to use global variables.\n",
    "The decorator must behave in a decent manner, that is, it must not overwrite the function's documentation.\n",
    "\n",
    "For tests write [Ackermann function](https://en.wikipedia.org/wiki/Ackermann_function)"
   ]
  },
  {
   "cell_type": "code",
   "execution_count": 136,
   "metadata": {
    "id": "WyJ02jbTVQiu"
   },
   "outputs": [],
   "source": [
    "def profiler():\n",
    "    def decorator(func):\n",
    "        def wrapper(*args, **kwargs):\n",
    "            wrapper.calls = 0\n",
    "            start_time = current_time()\n",
    "\n",
    "            def counted_func(*args, **kwargs):\n",
    "                wrapper.calls += 1\n",
    "                return func(*args, **kwargs)\n",
    "\n",
    "            result = counted_func(*args, **kwargs)\n",
    "            wrapper.last_time_taken = current_time() - start_time\n",
    "            return result\n",
    "\n",
    "        wrapper.calls = 0\n",
    "        wrapper.last_time_taken = 0.0\n",
    "        wrapper.__doc__ = func.__doc__\n",
    "        return wrapper\n",
    "\n",
    "    return decorator\n",
    "\n",
    "def current_time():\n",
    "    from time import perf_counter\n",
    "    return perf_counter()\n",
    "\n",
    "@profiler()\n",
    "def ackermann(m, n):\n",
    "    if m == 0:\n",
    "        return n + 1\n",
    "    elif m > 0 and n == 0:\n",
    "        return ackermann(m - 1, 1)\n",
    "    else:\n",
    "        return ackermann(m - 1, ackermann(m, n - 1))\n"
   ]
  },
  {
   "cell_type": "code",
   "execution_count": 137,
   "metadata": {},
   "outputs": [
    {
     "name": "stdout",
     "output_type": "stream",
     "text": [
      "the result is: 3\n",
      "0.000007 seconds ago\n",
      " 1 time(s) called\n"
     ]
    }
   ],
   "source": [
    "res = ackermann(1, 1)\n",
    "print(f\"the result is: {res}\")\n",
    "print(f\"{ackermann.last_time_taken:.6f} seconds ago\")\n",
    "print(f\" {ackermann.calls} time(s) called\")"
   ]
  },
  {
   "cell_type": "markdown",
   "metadata": {
    "id": "QcjAealUfs2Q"
   },
   "source": [
    "## Exercise 9\n",
    "\n",
    "Write the function `encode` that implements [run-length encoding](https://en.wikipedia.org/wiki/Run-length_encoding) algorithm"
   ]
  },
  {
   "cell_type": "code",
   "execution_count": 138,
   "metadata": {
    "id": "tBhwbMm9fsMv"
   },
   "outputs": [],
   "source": [
    "def encode(sequence):\n",
    "    if not sequence:\n",
    "        return []\n",
    "    \n",
    "    encoded = []\n",
    "    current_char = sequence[0]\n",
    "    count = 1\n",
    "\n",
    "    for char in sequence[1:]:\n",
    "        if char == current_char:\n",
    "            count += 1\n",
    "        else:\n",
    "            encoded.append((current_char, count))\n",
    "            current_char = char\n",
    "            count = 1\n",
    "\n",
    "    encoded.append((current_char, count))\n",
    "    return encoded"
   ]
  },
  {
   "cell_type": "code",
   "execution_count": 139,
   "metadata": {},
   "outputs": [
    {
     "name": "stdout",
     "output_type": "stream",
     "text": [
      "[('l', 1), ('e', 1), ('n', 1), ('a', 1), ('_', 1), ('v', 1), ('a', 1), ('s', 1), ('i', 1), ('l', 1), ('e', 1), ('v', 1), ('a', 5)]\n"
     ]
    }
   ],
   "source": [
    "test_string = \"lena_vasilevaaaaa\"\n",
    "print(encode(test_string))"
   ]
  },
  {
   "cell_type": "markdown",
   "metadata": {},
   "source": [
    "## Exercise 10\n",
    "\n",
    "Write a decorator `visualizer` that takes a recursive function and will visualize the recursive calls that are made during the execution.\n",
    "Consider using the `networkx` library or some other one in order to draw the recursion tree.\n",
    "Test it with a recursive function that computes fibonacci."
   ]
  },
  {
   "cell_type": "code",
   "execution_count": 140,
   "metadata": {},
   "outputs": [],
   "source": [
    "@visualizer\n",
    "def fibonacci(n):\n",
    "    if n == 0 or n == 1:\n",
    "        return n \n",
    "    return fibonacci(n-1) + fibonacci(n-2)"
   ]
  },
  {
   "cell_type": "code",
   "execution_count": 141,
   "metadata": {},
   "outputs": [],
   "source": [
    "def visualizer(func):\n",
    "    def wrapper(*args, **kwargs):\n",
    "        indent = \" \" * wrapper.depth * 4\n",
    "        print(f\"{indent}{func.__name__}({', '.join(map(str, args))})\")\n",
    "        \n",
    "        wrapper.depth += 1\n",
    "        result = func(*args, **kwargs)\n",
    "        wrapper.depth -= 1\n",
    "        \n",
    "        return result\n",
    "\n",
    "    wrapper.depth = 0\n",
    "    return wrapper\n"
   ]
  },
  {
   "cell_type": "code",
   "execution_count": 142,
   "metadata": {},
   "outputs": [
    {
     "name": "stdout",
     "output_type": "stream",
     "text": [
      "fibonacci(4)\n",
      "    fibonacci(3)\n",
      "        fibonacci(2)\n",
      "            fibonacci(1)\n",
      "            fibonacci(0)\n",
      "        fibonacci(1)\n",
      "    fibonacci(2)\n",
      "        fibonacci(1)\n",
      "        fibonacci(0)\n",
      "result is: 3\n"
     ]
    }
   ],
   "source": [
    "print(\"result is:\", fibonacci(4))"
   ]
  },
  {
   "cell_type": "markdown",
   "metadata": {},
   "source": [
    "## Exercise 11\n",
    "\n",
    "Now write a decorator `memoizer` that will do caching on the calls of a function (memoization). \n",
    "Decorate fibonacci with the decorators `memoizer`, `profiler` and `visualizer` at the same time (not necessarily in that order). Test that they're working as one would expect."
   ]
  },
  {
   "cell_type": "code",
   "execution_count": 143,
   "metadata": {},
   "outputs": [],
   "source": [
    "def memoizer(func):\n",
    "    cache = {}\n",
    "    def wrapper(*args):\n",
    "        if args in cache:\n",
    "            return cache[args]\n",
    "        result = func(*args)\n",
    "        cache[args] = result\n",
    "        return result\n",
    "    return wrapper\n"
   ]
  },
  {
   "cell_type": "code",
   "execution_count": 144,
   "metadata": {},
   "outputs": [
    {
     "name": "stdout",
     "output_type": "stream",
     "text": [
      "fibonacci(5)\n",
      "    fibonacci(4)\n",
      "        fibonacci(3)\n",
      "            fibonacci(2)\n",
      "                fibonacci(1)\n",
      "                fibonacci(0)\n",
      "result is 5\n",
      "Last time taken: 0.000147 seconds\n",
      "Number of calls: 1\n"
     ]
    }
   ],
   "source": [
    "@profiler()\n",
    "@memoizer\n",
    "@visualizer\n",
    "def fibonacci(n):\n",
    "    if n == 0 or n == 1:\n",
    "        return n \n",
    "    return fibonacci(n-1) + fibonacci(n-2)\n",
    "\n",
    "print(\"result is\", fibonacci(5))\n",
    "print(f\"Last time taken: {fibonacci.last_time_taken:.6f} seconds\")\n",
    "print(f\"Number of calls: {fibonacci.calls}\")"
   ]
  },
  {
   "cell_type": "markdown",
   "metadata": {},
   "source": [
    "## Exercise 12"
   ]
  },
  {
   "cell_type": "markdown",
   "metadata": {},
   "source": [
    "By using the `isinstance` method, check whether the following objects belong to the proposed types (hint: `isinstance`).\n",
    "\n",
    "Visualize this correspondance matrix (object – type), e.g. using numpy and [pcolormesh](https://matplotlib.org/stable/api/_as_gen/matplotlib.pyplot.pcolormesh.html) for visualization."
   ]
  },
  {
   "cell_type": "code",
   "execution_count": 145,
   "metadata": {},
   "outputs": [
    {
     "data": {
      "image/png": "[encoded data removed]",
      "text/plain": [
       "<Figure size 1000x600 with 2 Axes>"
      ]
     },
     "metadata": {},
     "output_type": "display_data"
    }
   ],
   "source": [
    "import numpy as np\n",
    "import matplotlib.pyplot as plt\n",
    "\n",
    "list_of_objects = [\n",
    "    int,\n",
    "    2,\n",
    "    2.,\n",
    "    None,\n",
    "    object,\n",
    "    str,\n",
    "    str(2.),\n",
    "    float('2.0'),\n",
    "    'hello',\n",
    "    dict,\n",
    "    list,\n",
    "    [dict],\n",
    "    {1: []}\n",
    "]\n",
    "\n",
    "list_of_types = [\n",
    "    int,\n",
    "    float,\n",
    "    object,\n",
    "    str,\n",
    "    dict,\n",
    "    list\n",
    "]\n",
    "\n",
    "matrix = np.zeros((len(list_of_objects), len(list_of_types)), dtype=int)\n",
    "\n",
    "for i, obj in enumerate(list_of_objects):\n",
    "    for j, typ in enumerate(list_of_types):\n",
    "        if isinstance(obj, typ):\n",
    "            matrix[i, j] = 1\n",
    "\n",
    "plt.figure(figsize=(10, 6))\n",
    "plt.pcolormesh(matrix, cmap='Blues', edgecolors='k', linewidth=0.5)\n",
    "plt.xticks(np.arange(len(list_of_types)) + 0.5, list_of_types, rotation=45)\n",
    "plt.yticks(np.arange(len(list_of_objects)) + 0.5, range(len(list_of_objects)))\n",
    "plt.colorbar(label='1: True, 0: False')\n",
    "plt.title('Object-Type Correspondence Matrix', pad=20)\n",
    "plt.xlabel('Type')\n",
    "plt.ylabel('Object Index')\n",
    "plt.show()"
   ]
  }
 ],
 "metadata": {
  "colab": {
   "collapsed_sections": [],
   "name": "home-assignment04",
   "provenance": []
  },
  "kernelspec": {
   "display_name": "my_vasileva",
   "language": "python",
   "name": "python3"
  },
  "language_info": {
   "codemirror_mode": {
    "name": "ipython",
    "version": 3
   },
   "file_extension": ".py",
   "mimetype": "text/x-python",
   "name": "python",
   "nbconvert_exporter": "python",
   "pygments_lexer": "ipython3",
   "version": "3.12.4"
  }
 },
 "nbformat": 4,
 "nbformat_minor": 1
}
