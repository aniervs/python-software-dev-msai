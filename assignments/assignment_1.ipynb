{
  "cells": [
    {
      "cell_type": "markdown",
      "metadata": {
        "id": "xvuah5fk82NR"
      },
      "source": [
        "# Assignment 1"
      ]
    },
    {
      "cell_type": "markdown",
      "metadata": {
        "id": "d80XPvHx82NT"
      },
      "source": []
    },
    {
      "cell_type": "code",
      "execution_count": 1,
      "metadata": {
        "id": "NPS-_xVK82NT"
      },
      "outputs": [],
      "source": [
        "name = \"Faran Taimoor Butt\"\n",
        "if name is None:\n",
        "    raise ValueError(\"Put your full name in the `name` variable\")"
      ]
    },
    {
      "cell_type": "markdown",
      "metadata": {
        "id": "wCJRl7Pk82NU"
      },
      "source": [
        "The objective of this assignment is to test a bunch of different topics we've discussed during our introductory classes. Complete the following exercises:"
      ]
    },
    {
      "cell_type": "markdown",
      "metadata": {
        "id": "VsJC8DjS82NU"
      },
      "source": [
        "## Instructions"
      ]
    },
    {
      "cell_type": "markdown",
      "metadata": {
        "id": "VfptgFcc82NV"
      },
      "source": [
        "Complete the notebook and create a folder with your name, and put the notebook in that folder. Make a Pull Request with your code."
      ]
    },
    {
      "cell_type": "markdown",
      "metadata": {
        "id": "hia1cPPnbt-6"
      },
      "source": [
        "## Exercise 0\n",
        "\n",
        "Write your own simple function with simple documentation and all types of arguments (positional, positional with defaults, arbitrary args, keyword args, arbitrary keyword args)"
      ]
    },
    {
      "cell_type": "code",
      "execution_count": 2,
      "metadata": {
        "id": "82YW6fgZbppO"
      },
      "outputs": [],
      "source": [
        "# your code here\n",
        "def my_function(model,company = \"Unknown\",*specs,color='Unknown',**other_info):\n",
        "    '''\n",
        "    function: Get the description of car\n",
        "\n",
        "    Parameters:\n",
        "    - company: str = The company of the car (Default=\"Unknown\")\n",
        "    - model: str = The model of the car (e.g 1996,1997,2014 etc)\n",
        "    - specs: tuple = Additional specifications of the car (hp, rimsize etc)\n",
        "    - color: str = The color of the car (Default: \"Unknown\")\n",
        "    - other: tuple = Other info about car\n",
        "\n",
        "    Returns:\n",
        "    str: A string desciption of car\n",
        "    '''\n",
        "\n",
        "    description = f'{company} is of {color}'\n",
        "    if specs:\n",
        "        description = f'Specs: {', '.join(specs)}'\n",
        "    if other_info:\n",
        "        other_details = ', '.join(f'{key}:{value}' for key,value in other_info)\n",
        "        description = f'Additional Info: {other_details}'\n",
        "    return description\n"
      ]
    },
    {
      "cell_type": "markdown",
      "metadata": {
        "id": "HYhlKVnwTYzD"
      },
      "source": [
        "## Exercise 1\n"
      ]
    },
    {
      "cell_type": "code",
      "execution_count": 3,
      "metadata": {
        "id": "gv_TvLaHTXh8",
        "outputId": "9e100c57-f8b8-4f2f-d1b5-7184602319ff"
      },
      "outputs": [
        {
          "data": {
            "text/plain": [
              "False"
            ]
          },
          "execution_count": 3,
          "metadata": {},
          "output_type": "execute_result"
        }
      ],
      "source": [
        "def is_prime(n):\n",
        "    \"\"\"\n",
        "    Check if the number is prime or not.\n",
        "    \"\"\"\n",
        "    # your code here\n",
        "    if n <= 1:\n",
        "        return False\n",
        "    for i in range(2, int(n ** 0.5) + 1):\n",
        "        if n % i == 0:\n",
        "            return False\n",
        "    return True\n",
        "is_prime(6)"
      ]
    },
    {
      "cell_type": "markdown",
      "metadata": {
        "id": "1FXsMX-RKOBG"
      },
      "source": [
        "## Exercise 2\n",
        "\n",
        "[Inspect](https://docs.python.org/3.7/library/inspect.html) will help you. Use `my_function` for tests.\n",
        "\n"
      ]
    },
    {
      "cell_type": "code",
      "execution_count": 4,
      "metadata": {
        "id": "g68Y9DfNQcYD",
        "outputId": "054f09aa-7148-464f-a6da-2ddb781448c2"
      },
      "outputs": [
        {
          "name": "stdout",
          "output_type": "stream",
          "text": [
            "Function name: my_function\n",
            "function parameters: OrderedDict({'model': <Parameter \"model\">, 'company': <Parameter \"company='Unknown'\">, 'specs': <Parameter \"*specs\">, 'color': <Parameter \"color='Unknown'\">, 'other_info': <Parameter \"**other_info\">})\n",
            " - model - POSITIONAL_OR_KEYWORD - No Default\n",
            " - company - POSITIONAL_OR_KEYWORD - Unknown\n",
            " - specs - VAR_POSITIONAL - No Default\n",
            " - color - KEYWORD_ONLY - Unknown\n",
            " - other_info - VAR_KEYWORD - No Default\n"
          ]
        }
      ],
      "source": [
        "import inspect\n",
        "\n",
        "def inspect_function(func):\n",
        "    \"\"\"\n",
        "    Takes another function as an argument (but not built-in)\n",
        "    and print the following data:\n",
        "    the name of the analyzed function,\n",
        "    the name of all the arguments it takes\n",
        "    and their types (positional, keyword, etc.)\n",
        "    \"\"\"\n",
        "    # your code here\n",
        "    if not callable(func):\n",
        "        raise TypeError(\"Provided Arguemnt if not a function\")\n",
        "    func_name = func.__name__\n",
        "    signature = inspect.signature(func)\n",
        "    parameters = signature.parameters\n",
        "    print(f\"Function name: {func_name}\")\n",
        "    print(f'function parameters: {parameters}')\n",
        "\n",
        "    for param_name,param in parameters.items():\n",
        "        kind = param.kind\n",
        "        default = param.default if param.default is not inspect.Parameter.empty else \"No Default\"\n",
        "        print(f' - {param_name} - {kind} - {default}')\n",
        "inspect_function(my_function)"
      ]
    },
    {
      "cell_type": "markdown",
      "metadata": {
        "id": "oRaKEc0ZIgNs"
      },
      "source": [
        "## Exercise 3"
      ]
    },
    {
      "cell_type": "markdown",
      "metadata": {
        "id": "xmdOYiCrGpUd"
      },
      "source": [
        "The `my_time_now` function is not working correctly. Correct it so that it displays the current time with a message."
      ]
    },
    {
      "cell_type": "code",
      "execution_count": null,
      "metadata": {
        "id": "645BoTXIGnHr",
        "outputId": "94f4baa5-afa7-4fec-80da-1b9266926b71"
      },
      "outputs": [
        {
          "name": "stdout",
          "output_type": "stream",
          "text": [
            "date and time now is:  2024-12-11 14:22:35.404256\n",
            "After 2 seconds date and time is:  2024-12-11 14:22:37.404953\n"
          ]
        }
      ],
      "source": [
        "from datetime import datetime\n",
        "from time import sleep\n",
        "\n",
        "# wrong function\n",
        "def my_time_now(msg, *, dt = None):\n",
        "    if dt is None:\n",
        "        dt =  datetime.now()\n",
        "    print(msg,dt)\n",
        "\n",
        "my_time_now(\"date and time now is: \")\n",
        "sleep(2)\n",
        "my_time_now(\"After 2 seconds date and time is: \")\n"
      ]
    },
    {
      "cell_type": "code",
      "execution_count": null,
      "metadata": {
        "id": "3NeyF9UJHeyd",
        "outputId": "f0f017a2-ab8a-4f22-ea18-143cc2bb5286"
      },
      "outputs": [
        {
          "name": "stdout",
          "output_type": "stream",
          "text": [
            "The time is now:  2024-12-11 14:22:44.873974\n",
            "The time is now:  2024-12-11 14:22:45.879473\n",
            "The time is now:  2024-12-11 14:22:46.880515\n"
          ]
        }
      ],
      "source": [
        "# simple tests :)\n",
        "my_time_now('The time is now: ')\n",
        "sleep(1)\n",
        "my_time_now('The time is now: ')\n",
        "sleep(1)\n",
        "my_time_now('The time is now: ')"
      ]
    },
    {
      "cell_type": "markdown",
      "metadata": {
        "id": "Qap8_Jb2ENra"
      },
      "source": [
        "## Exercise 4"
      ]
    },
    {
      "cell_type": "code",
      "execution_count": null,
      "metadata": {
        "id": "JBwZGo84EMW1",
        "outputId": "cead71f4-4578-4268-af38-ca5f2801c6f8"
      },
      "outputs": [
        {
          "data": {
            "text/plain": [
              "[1, 2, 3, 4, 5]"
            ]
          },
          "execution_count": 38,
          "metadata": {},
          "output_type": "execute_result"
        }
      ],
      "source": [
        "def limit(input_generator, max_count):\n",
        "    \"\"\"\n",
        "    Generator that returns not more than max_count values of the input_generator.\n",
        "    \"\"\"\n",
        "    # your code here\n",
        "    count = 0\n",
        "    for value in input_generator:\n",
        "        if count >= max_count:\n",
        "            break\n",
        "        yield value\n",
        "        count += 1\n",
        "def num():\n",
        "    i = 1\n",
        "    while True:\n",
        "        yield i\n",
        "        i += 1\n",
        "\n",
        "list(limit(num(),5))"
      ]
    },
    {
      "cell_type": "markdown",
      "metadata": {
        "id": "BvwCKaOxRQ3N"
      },
      "source": [
        "## Exercise 5\n",
        "\n",
        "Write a generator for an infinite sequence of numbers from the Pascal's triangle. The sequence look like this:\n",
        "`1 1 1 1 2 1 1 3 3 1 1 4 6 4 1 1 5 10 10 5 1 1 6 15 20 15 6 1 1 7 21 35 35 21 7 1 1 8 28 56 70 56 28 8 1 1 9 36 84 126 126 84 36 9 1 ... '\n",
        "\n",
        "Test it with a generator from the previous task)"
      ]
    },
    {
      "cell_type": "code",
      "execution_count": null,
      "metadata": {
        "id": "EBNNXBUYUqKJ"
      },
      "outputs": [],
      "source": [
        "# your code here\n",
        "def pascal_traingle():\n",
        "    row = [1]\n",
        "    while True:\n",
        "        for num in row:\n",
        "            yield num\n",
        "        row = [1] + [row[i] + row[i+1] for i in range(len(row)-1)] + [1]\n",
        "list(limit(pascal_traingle(),float('inf')))"
      ]
    },
    {
      "cell_type": "markdown",
      "metadata": {
        "id": "vUiY14pIEiNC"
      },
      "source": [
        "## Exercise 6\n"
      ]
    },
    {
      "cell_type": "code",
      "execution_count": null,
      "metadata": {
        "id": "eGLSDqNHGFYn",
        "outputId": "6d429e93-8a61-4754-961f-04c609077e36"
      },
      "outputs": [
        {
          "name": "stdout",
          "output_type": "stream",
          "text": [
            "('8c5751f-bc8f-065c-cda5-633ab7ad5b_DS_Roadmap.pdf', 767830)\n",
            "('Timothy Masters - Modern Data Mining Algorithms in C++ and CUDA C_ Recent Developments in Feature Extraction and Selection Algorithms for Data Science-Apress (2020).pdf', 2372007)\n",
            "('Large Scale Machine Learning.pdf', 4561261)\n",
            "('Data Science from Scratch- First Principles with Python.pdf', 5842217)\n",
            "('Foundations of Machine Learning.pdf', 6224448)\n",
            "('Soledad Galli - Python Feature Engineering Cookbook_ Over 70 Recipes for Creating, Engineering, and Transforming Features to Build Machine Learning Models-Packt Publishing Ltd (2020).pdf', 8725510)\n",
            "('statistical learning theory.pdf', 13201614)\n",
            "('Machine Learning Design Interview_ Machine Learning System Design Interview-Independently published (2022).pdf', 15539730)\n",
            "(\"Chip Huyen - Designing Machine Learning Systems_ An Iterative Process for Production-Ready Applications-O'Reilly Media (2022).pdf\", 16238412)\n",
            "('SEBASTIAN LIU YUXI (HAYDEN) MIRJALILI VAHID RASCHKA - MACHINE LEARNING WITH PYTORCH AND SCIKIT-LEARN _ develop machine learning and deep learning... models with scikit-learn and pytorch.-PACKT PUBLISH.pdf', 30745878)\n"
          ]
        }
      ],
      "source": [
        "import pathlib  # can change to os module if you want\n",
        "import sys\n",
        "\n",
        "def files_sorted_by_size(path_to_dir):\n",
        "    \"\"\"\n",
        "    Return a list of files in path_to_dir sorted by size.\n",
        "    The same size files sorted alphabetically\n",
        "    \"\"\"\n",
        "    # your code here\n",
        "    path = pathlib.Path(path_to_dir)\n",
        "    files = [(file.name,file.stat().st_size) for file in path.iterdir() if file.is_file()]\n",
        "    sorted_files = sorted(files,key = lambda x:(x[1],x[0]))\n",
        "    return sorted_files\n",
        "if __name__ == '__main__':\n",
        "    path = '/Users/mac/Desktop/Books/machine learning'\n",
        "    sortedfiles = files_sorted_by_size(path)\n",
        "    for file in sortedfiles:\n",
        "        print(file)\n"
      ]
    },
    {
      "cell_type": "markdown",
      "metadata": {
        "id": "43eeoixHSa9Y"
      },
      "source": [
        "## Exercise 7\n",
        "\n",
        "Write a `merge_sorter` generator that merges sorted sequences of integers.\n",
        "\n",
        "The generator takes an arbitrary number of arguments. The argument can be any iterable, including another generator. It is guaranteed that each argument is a sequence of integers, sorted in non-decreasing order."
      ]
    },
    {
      "cell_type": "code",
      "execution_count": null,
      "metadata": {
        "id": "VHmnqHVaScox",
        "outputId": "c676c9d7-0909-4aea-e57a-0c197a16aacc"
      },
      "outputs": [
        {
          "name": "stdout",
          "output_type": "stream",
          "text": [
            "[1, 2, 3, 4, 5, 6, 7, 8, 9]\n"
          ]
        }
      ],
      "source": [
        "import heapq\n",
        "def merge_sorter(*args):\n",
        "    # your code here\n",
        "    ite = [iter(arg) for arg in args]\n",
        "    heap = []\n",
        "    for i,it in enumerate(ite):\n",
        "        try:\n",
        "            value = next(it)\n",
        "            heapq.heappush(heap,(value,i))\n",
        "        except StopIteration:\n",
        "            pass\n",
        "    while heap:\n",
        "        value,i = heapq.heappop(heap)\n",
        "        yield value\n",
        "        try:\n",
        "            next_value = next(ite[i])\n",
        "            heapq.heappush(heap,(next_value,i))\n",
        "        except StopIteration:\n",
        "            pass\n",
        "\n",
        "s1 = [1,4,7]\n",
        "s2 = [3,5,9]\n",
        "s3 = [2,6,8]\n",
        "merged = (merge_sorter(s1,s2,s3))\n",
        "print(list(merged))"
      ]
    },
    {
      "cell_type": "markdown",
      "metadata": {
        "id": "7AF_IQRQVQ-k"
      },
      "source": [
        "## Exercise 8\n",
        "\n",
        "Write the decorator `proﬁler`, which, when calling a function, will store in its attributes (not to be confused with arguments) the time of its execution (in seconds, it can be fractional) and the number of recursive calls that occurred during execution. Name the attributes `last_time_taken` and `calls`.\n",
        "It is forbidden to use global variables.\n",
        "The decorator must behave in a decent manner, that is, it must not overwrite the function's documentation.\n",
        "\n",
        "For tests write [Ackermann function](https://en.wikipedia.org/wiki/Ackermann_function)"
      ]
    },
    {
      "cell_type": "code",
      "execution_count": 28,
      "metadata": {
        "colab": {
          "base_uri": "https://localhost:8080/"
        },
        "id": "WyJ02jbTVQiu",
        "outputId": "35f8a559-6b62-46d3-80eb-07fe2ff2c7ff"
      },
      "outputs": [
        {
          "name": "stdout",
          "output_type": "stream",
          "text": [
            "A(2, 2) = 7\n",
            "Time taken: 0.000018 seconds\n",
            "Number of recursive calls: 26\n"
          ]
        }
      ],
      "source": [
        "import functools\n",
        "import time\n",
        "def profiler(func):\n",
        "    @functools.wraps(func)\n",
        "    def wrapper(*args, **kwargs):\n",
        "        if wrapper.call_depth == 0:\n",
        "            wrapper.calls = 0\n",
        "            wrapper.last_time_taken = 0.0\n",
        "            wrapper.call_depth = 0\n",
        "            start_time = time.time()\n",
        "            wrapper.call_depth += 1\n",
        "            try:\n",
        "                result = func(*args, **kwargs)\n",
        "            finally:\n",
        "                wrapper.last_time_taken = time.time() - start_time\n",
        "                wrapper.call_depth -= 1\n",
        "            return result\n",
        "        else:\n",
        "            wrapper.calls += 1\n",
        "            wrapper.call_depth += 1\n",
        "            try:\n",
        "                result = func(*args, **kwargs)\n",
        "            finally:\n",
        "                wrapper.call_depth -= 1\n",
        "            return result\n",
        "    wrapper.calls = 0\n",
        "    wrapper.last_time_taken = 0.0\n",
        "    wrapper.call_depth = 0\n",
        "    return wrapper\n",
        "@profiler\n",
        "def A(m, n):\n",
        "    if m == 0:\n",
        "        return n + 1\n",
        "    elif m > 0 and n == 0:\n",
        "        return A(m - 1, 1)\n",
        "    else:\n",
        "        return A(m - 1, A(m, n - 1))\n",
        "if __name__ == \"__main__\":\n",
        "    m = 2\n",
        "    n = 2\n",
        "    result = A(m, n)\n",
        "    print(f\"A({m}, {n}) = {result}\")\n",
        "    print(f\"Time taken: {A.last_time_taken:.6f} seconds\")\n",
        "    print(f\"Number of recursive calls: {A.calls}\")"
      ]
    },
    {
      "cell_type": "markdown",
      "metadata": {
        "id": "QcjAealUfs2Q"
      },
      "source": [
        "## Exercise 9\n",
        "\n",
        "Write the function `encode` that implements [run-length encoding](https://en.wikipedia.org/wiki/Run-length_encoding) algorithm"
      ]
    },
    {
      "cell_type": "code",
      "execution_count": null,
      "metadata": {
        "colab": {
          "base_uri": "https://localhost:8080/"
        },
        "id": "tBhwbMm9fsMv",
        "outputId": "20279a20-f336-4db7-f482-91388683437a"
      },
      "outputs": [
        {
          "name": "stdout",
          "output_type": "stream",
          "text": [
            "12W1B12W3B24W1B14W\n"
          ]
        }
      ],
      "source": [
        "def encode(sequence):\n",
        "    # your code here\n",
        "    encoded_str = ''\n",
        "    count = 1\n",
        "    char = sequence[0]\n",
        "    for i in range(1,len(sequence)):\n",
        "      if char == sequence[i]:\n",
        "        count += 1\n",
        "      else:\n",
        "        encoded_str += str(count) + char\n",
        "        char = sequence[i]\n",
        "        count = 1\n",
        "    encoded_str += str(count) + char\n",
        "    return encoded_str\n",
        "\n",
        "s = 'WWWWWWWWWWWWBWWWWWWWWWWWWBBBWWWWWWWWWWWWWWWWWWWWWWWWBWWWWWWWWWWWWWW'\n",
        "print(encode(s))"
      ]
    },
    {
      "cell_type": "markdown",
      "metadata": {
        "id": "o3k_DfWu82Nm"
      },
      "source": [
        "## Exercise 10\n",
        "\n",
        "Write a decorator `visualizer` that takes a recursive function and will visualize the recursive calls that are made during the execution.\n",
        "Consider using the `networkx` library or some other one in order to draw the recursion tree.\n",
        "Test it with a recursive function that computes fibonacci."
      ]
    },
    {
      "cell_type": "code",
      "execution_count": 15,
      "metadata": {
        "id": "IHTma08mSkE0"
      },
      "outputs": [],
      "source": [
        "import networkx as nx\n",
        "@profiler\n",
        "@visulaize\n",
        "def fibonacci(n):\n",
        "  if n == 0:\n",
        "    return 0\n",
        "  elif n == 1:\n",
        "    return 1\n",
        "  else:\n",
        "    return fibonacci(n-1) + fibonacci(n-2)\n"
      ]
    },
    {
      "cell_type": "code",
      "execution_count": 16,
      "metadata": {
        "id": "GnLf_uDdTVyA"
      },
      "outputs": [],
      "source": [
        "def visulaize(func):\n",
        "  G = nx.DiGraph()\n",
        "  call_counter = 0\n",
        "  def wrapper(n,parent = None):\n",
        "    nonlocal call_counter\n",
        "    call_counter += 1\n",
        "    result = func(n)\n",
        "    node_id = f'fib({n}) = {result}'\n",
        "    G.add_node(node_id)\n",
        "    if parent is not None:\n",
        "      G.add_edge(parent,node_id)\n",
        "    if n > 1:\n",
        "      wrapper(n-1,node_id)\n",
        "      wrapper(n-2,node_id)\n",
        "    return result\n",
        "  def visalizer():\n",
        "    pos = nx.spring_layout(G)\n",
        "    nx.draw(G,pos,with_labels = True, arrows = True)\n",
        "    plt.title(\"Fibanooci Tree\")\n",
        "    plt.show()\n",
        "  wrapper.visalizer = visalizer\n",
        "  return wrapper\n"
      ]
    },
    {
      "cell_type": "code",
      "execution_count": 17,
      "metadata": {
        "colab": {
          "base_uri": "https://localhost:8080/",
          "height": 539
        },
        "id": "JqRb4CFlkyPH",
        "outputId": "decfcbf9-9ddc-429c-de9e-287db7d6236a"
      },
      "outputs": [
        {
          "data": {
            "image/png": "[encoded data removed]",
            "text/plain": [
              "<Figure size 640x480 with 1 Axes>"
            ]
          },
          "metadata": {},
          "output_type": "display_data"
        }
      ],
      "source": [
        "fibonacci(5)\n",
        "fibonacci.visalizer()"
      ]
    },
    {
      "cell_type": "markdown",
      "metadata": {
        "id": "EaRZJR8082Nm"
      },
      "source": [
        "## Exercise 11\n",
        "\n",
        "Now write a decorator `memoizer` that will do caching on the calls of a function (memoization).\n",
        "Decorate fibonacci with the decorators `memoizer`, `profiler` and `visualizer` at the same time (not necessarily in that order). Test that they're working as one would expect."
      ]
    },
    {
      "cell_type": "code",
      "execution_count": 22,
      "metadata": {
        "id": "zus3_wp982Nm"
      },
      "outputs": [],
      "source": [
        "def memoizer(func):\n",
        "    cache = {}\n",
        "    @wraps(func)\n",
        "    def wrapper(*args,**kwargs):\n",
        "      key = args + tuple(kwargs.items())\n",
        "      if key not in cache:\n",
        "        cache[key] = func(*args,**kwargs)\n",
        "      return cache[key]\n",
        "    return wrapper"
      ]
    },
    {
      "cell_type": "code",
      "execution_count": 24,
      "metadata": {
        "id": "c522gswkxwUS"
      },
      "outputs": [],
      "source": [
        "import networkx as nx\n",
        "import matplotlib.pyplot as plt\n",
        "from functools import wraps\n",
        "\n",
        "@profiler\n",
        "@visulaize\n",
        "@memoizer\n",
        "def fibonacci(n):\n",
        "  if n == 0:\n",
        "    return 0\n",
        "  elif n == 1:\n",
        "    return 1\n",
        "  else:\n",
        "    return fibonacci(n-1) + fibonacci(n-2)"
      ]
    },
    {
      "cell_type": "code",
      "execution_count": 25,
      "metadata": {
        "colab": {
          "base_uri": "https://localhost:8080/",
          "height": 610
        },
        "id": "jYWON9ERx515",
        "outputId": "9df00461-fa6b-4103-cf79-dbcd1dcc7051"
      },
      "outputs": [
        {
          "name": "stdout",
          "output_type": "stream",
          "text": [
            "5\n",
            "Fib(5) =  5\n",
            "TIME TAKEN: 4.982948303222656e-05\n"
          ]
        },
        {
          "data": {
            "image/png": "[encoded data removed]",
            "text/plain": [
              "<Figure size 640x480 with 1 Axes>"
            ]
          },
          "metadata": {},
          "output_type": "display_data"
        }
      ],
      "source": [
        "print(fibonacci(5))\n",
        "print(\"Fib(5) = \",fibonacci(5))\n",
        "print(\"TIME TAKEN:\" , fibonacci.last_time_taken)\n",
        "fibonacci.visalizer()"
      ]
    },
    {
      "cell_type": "markdown",
      "metadata": {
        "id": "zaiU6NIF82Nn"
      },
      "source": [
        "## Exercise 12"
      ]
    },
    {
      "cell_type": "markdown",
      "metadata": {
        "id": "k2rl2_OG82Nn"
      },
      "source": [
        "By using the `isinstance` method, check whether the following objects belong to the proposed types (hint: `isinstance`).\n",
        "\n",
        "Visualize this correspondance matrix (object – type), e.g. using numpy and [pcolormesh](https://matplotlib.org/stable/api/_as_gen/matplotlib.pyplot.pcolormesh.html) for visualization."
      ]
    },
    {
      "cell_type": "code",
      "execution_count": 26,
      "metadata": {
        "id": "ZWqyjF3N82Nn"
      },
      "outputs": [],
      "source": [
        "import numpy as np\n",
        "import matplotlib.pyplot as plt\n",
        "list_of_objects = [\n",
        "    int,\n",
        "    2,\n",
        "    2.,\n",
        "    None,\n",
        "    object,\n",
        "    str,\n",
        "    str(2.),\n",
        "    float('2.0'),\n",
        "    'hello',\n",
        "    dict,\n",
        "    list,\n",
        "    [dict],\n",
        "    {1: []}\n",
        "]\n",
        "\n",
        "list_of_types = [\n",
        "    int,\n",
        "    float,\n",
        "    object,\n",
        "    str,\n",
        "    dict,\n",
        "    list\n",
        "]"
      ]
    },
    {
      "cell_type": "code",
      "execution_count": null,
      "metadata": {
        "id": "OP0PQ_WO82Nn",
        "outputId": "13bcec4a-73da-4741-bacf-5c770c824d30"
      },
      "outputs": [
        {
          "data": {
            "image/png": "[encoded data removed]",
            "text/plain": [
              "<Figure size 600x600 with 1 Axes>"
            ]
          },
          "metadata": {},
          "output_type": "display_data"
        }
      ],
      "source": [
        "mat = np.array([[isinstance(obj,typ) for typ in list_of_types] for obj in list_of_objects])\n",
        "plt.figure(figsize=(6,6))\n",
        "plt.pcolormesh(mat,cmap=\"Blues\")\n",
        "plt.xticks(np.arange(len(list_of_types))+0.5,[typ.__name__ for typ in list_of_types],rotation = 45)\n",
        "plt.yticks(np.arange(len(list_of_objects)) + 0.5, [str(obj) for obj in list_of_objects])\n",
        "plt.show()"
      ]
    },
    {
      "cell_type": "markdown",
      "metadata": {
        "id": "Eg0BIAHb82Nn"
      },
      "source": []
    }
  ],
  "metadata": {
    "colab": {
      "provenance": []
    },
    "kernelspec": {
      "display_name": "Python 3 (ipykernel)",
      "language": "python",
      "name": "python3"
    },
    "language_info": {
      "codemirror_mode": {
        "name": "ipython",
        "version": 3
      },
      "file_extension": ".py",
      "mimetype": "text/x-python",
      "name": "python",
      "nbconvert_exporter": "python",
      "pygments_lexer": "ipython3",
      "version": "3.12.4"
    }
  },
  "nbformat": 4,
  "nbformat_minor": 0
}
