{
 "cells": [
  {
   "cell_type": "markdown",
   "metadata": {},
   "source": [
    "# Assignment 1"
   ]
  },
  {
   "cell_type": "markdown",
   "metadata": {},
   "source": []
  },
  {
   "cell_type": "code",
   "execution_count": null,
   "metadata": {},
   "outputs": [],
   "source": [
    "name = 'Artem Remnev'\n",
    "if name is None:\n",
    "    raise ValueError(\"Put your full name in the `name` variable\")"
   ]
  },
  {
   "cell_type": "markdown",
   "metadata": {},
   "source": [
    "The objective of this assignment is to test a bunch of different topics we've discussed during our introductory classes. Complete the following exercises:"
   ]
  },
  {
   "cell_type": "markdown",
   "metadata": {},
   "source": [
    "## Instructions"
   ]
  },
  {
   "cell_type": "markdown",
   "metadata": {},
   "source": [
    "Complete the notebook and create a folder with your name, and put the notebook in that folder. Make a Pull Request with your code."
   ]
  },
  {
   "cell_type": "markdown",
   "metadata": {
    "id": "hia1cPPnbt-6"
   },
   "source": [
    "## Exercise 0\n",
    "\n",
    "Write your own simple function with simple documentation and all types of arguments (positional, positional with defaults, arbitrary args, keyword args, arbitrary keyword args)"
   ]
  },
  {
   "cell_type": "code",
   "execution_count": null,
   "metadata": {
    "id": "82YW6fgZbppO"
   },
   "outputs": [],
   "source": [
    "def my_function(a, b=10, *args, c=20, d=30, **kwargs):\n",
    "    \"\"\"\n",
    "    Simple function\n",
    "\n",
    "    Parameters\n",
    "    ----------\n",
    "    a : any\n",
    "        A required positional argument.\n",
    "    b : any, optional\n",
    "        A positional argument with a default value. Default is 10.\n",
    "    *args : tuple\n",
    "        Arbitrary additional positional arguments.\n",
    "    c : any, optional\n",
    "        A keyword-only argument with a default value. Default is 20.\n",
    "    d : any, optional\n",
    "        Another keyword-only argument with a default value. Default is 30.\n",
    "    **kwargs : dict\n",
    "        Arbitrary additional keyword arguments.\n",
    "\n",
    "    Returns\n",
    "    -------\n",
    "    None\n",
    "        This function does not return anything; it just prints the arguments.\n",
    "    \"\"\"\n",
    "    print(\"Positional argument a:\", a)\n",
    "    print(\"Positional argument with default b:\", b)\n",
    "    print(\"Arbitrary positional args:\", args)\n",
    "    print(\"Keyword-only argument c:\", c)\n",
    "    print(\"Keyword-only argument d:\", d)\n",
    "    print(\"Arbitrary keyword args:\", kwargs)"
   ]
  },
  {
   "cell_type": "markdown",
   "metadata": {
    "id": "HYhlKVnwTYzD"
   },
   "source": [
    "## Exercise 1\n"
   ]
  },
  {
   "cell_type": "code",
   "execution_count": null,
   "metadata": {
    "id": "gv_TvLaHTXh8"
   },
   "outputs": [],
   "source": [
    "def is_prime(n):\n",
    "    if n <= 1:\n",
    "        return False\n",
    "    if n == 2:\n",
    "        return True\n",
    "    if n % 2 == 0:\n",
    "        return False\n",
    "    for i in range(3, int(n**0.5) + 1, 2):\n",
    "        if n % i == 0:\n",
    "            return False\n",
    "        return True"
   ]
  },
  {
   "cell_type": "markdown",
   "metadata": {
    "id": "1FXsMX-RKOBG"
   },
   "source": [
    "## Exercise 2\n",
    "\n",
    "[Inspect](https://docs.python.org/3.7/library/inspect.html) will help you. Use `my_function` for tests.\n",
    "\n"
   ]
  },
  {
   "cell_type": "code",
   "execution_count": null,
   "metadata": {
    "id": "g68Y9DfNQcYD"
   },
   "outputs": [],
   "source": [
    "import inspect\n",
    "\n",
    "def inspect_function(func):\n",
    "    \"\"\"\n",
    "    Takes another function as an argument (but not built-in) \n",
    "    and print the following data: \n",
    "    the name of the analyzed function, \n",
    "    the name of all the arguments it takes \n",
    "    and their types (positional, keyword, etc.)\n",
    "    \"\"\"\n",
    "    # your code here\n",
    "    # Get the signature of the function\n",
    "    sig = inspect.signature(func)\n",
    "\n",
    "    # Print the name of the function\n",
    "    print(\"Function name:\", func.__name__)\n",
    "\n",
    "    # Print the details of the parameters\n",
    "    print(\"Parameters:\")\n",
    "    for name, param in sig.parameters.items():\n",
    "        # param.kind can be one of:\n",
    "        # POSITIONAL_ONLY, POSITIONAL_OR_KEYWORD, VAR_POSITIONAL, KEYWORD_ONLY, VAR_KEYWORD\n",
    "        print(f\"  {name}: {param.kind}\")"
   ]
  },
  {
   "cell_type": "code",
   "execution_count": null,
   "metadata": {},
   "outputs": [],
   "source": [
    "inspect_function(my_function)"
   ]
  },
  {
   "cell_type": "markdown",
   "metadata": {
    "id": "oRaKEc0ZIgNs"
   },
   "source": [
    "## Exercise 3"
   ]
  },
  {
   "cell_type": "markdown",
   "metadata": {
    "id": "xmdOYiCrGpUd"
   },
   "source": [
    "The `my_time_now` function is not working correctly. Correct it so that it displays the current time with a message. "
   ]
  },
  {
   "cell_type": "code",
   "execution_count": 1,
   "metadata": {
    "id": "645BoTXIGnHr"
   },
   "outputs": [],
   "source": [
    "from datetime import datetime\n",
    "from time import sleep\n",
    "\n",
    "# wrong function\n",
    "def my_time_now(msg):\n",
    "    dt = datetime.now()\n",
    "    print(msg, dt)"
   ]
  },
  {
   "cell_type": "code",
   "execution_count": null,
   "metadata": {
    "id": "3NeyF9UJHeyd"
   },
   "outputs": [],
   "source": [
    "# simple tests :)\n",
    "my_time_now('The time is now: ')\n",
    "sleep(1)\n",
    "my_time_now('The time is now: ')\n",
    "sleep(1)\n",
    "my_time_now('The time is now: ')"
   ]
  },
  {
   "cell_type": "markdown",
   "metadata": {
    "id": "Qap8_Jb2ENra"
   },
   "source": [
    "## Exercise 4"
   ]
  },
  {
   "cell_type": "code",
   "execution_count": null,
   "metadata": {
    "id": "JBwZGo84EMW1"
   },
   "outputs": [],
   "source": [
    "def limit(input_generator, max_count):\n",
    "    \"\"\"\n",
    "    Generator that returns not more than max_count values of the input_generator.\n",
    "    \"\"\"\n",
    "    # your code here\n",
    "    count = 0\n",
    "    for value in input_generator:\n",
    "        if count < max_count:\n",
    "            yield value\n",
    "            count += 1\n",
    "        else:\n",
    "            break"
   ]
  },
  {
   "cell_type": "markdown",
   "metadata": {
    "id": "BvwCKaOxRQ3N"
   },
   "source": [
    "## Exercise 5\n",
    "\n",
    "Write a generator for an infinite sequence of numbers from the Pascal's triangle. The sequence look like this:\n",
    "`1 1 1 1 2 1 1 3 3 1 1 4 6 4 1 1 5 10 10 5 1 1 6 15 20 15 6 1 1 7 21 35 35 21 7 1 1 8 28 56 70 56 28 8 1 1 9 36 84 126 126 84 36 9 1 ... '\n",
    "\n",
    "Test it with a generator from the previous task)"
   ]
  },
  {
   "cell_type": "code",
   "execution_count": null,
   "metadata": {
    "id": "EBNNXBUYUqKJ"
   },
   "outputs": [],
   "source": [
    "def pascal_triangle():\n",
    "    row = [1]\n",
    "    while True:\n",
    "        for value in row:\n",
    "            yield value\n",
    "\n",
    "        row = [x + y for x, y in zip([0] + row, row + [0])]"
   ]
  },
  {
   "cell_type": "markdown",
   "metadata": {
    "id": "vUiY14pIEiNC"
   },
   "source": [
    "## Exercise 6\n"
   ]
  },
  {
   "cell_type": "code",
   "execution_count": null,
   "metadata": {
    "id": "eGLSDqNHGFYn"
   },
   "outputs": [],
   "source": [
    "import pathlib\n",
    "import sys\n",
    "\n",
    "\n",
    "def files_sorted_by_size(path_to_dir):\n",
    "    \"\"\"\n",
    "    Return a list of files in path_to_dir sorted by size.\n",
    "    The same size files sorted alphabetically.\n",
    "    \"\"\"\n",
    "    path = pathlib.Path(path_to_dir)\n",
    "\n",
    "    files = [file for file in path.iterdir() if file.is_file()]\n",
    "\n",
    "    sorted_files = sorted(files, key=lambda f: (f.stat().st_size, f.name))\n",
    "\n",
    "    return [f.name for f in sorted_files]"
   ]
  },
  {
   "cell_type": "markdown",
   "metadata": {
    "id": "43eeoixHSa9Y"
   },
   "source": [
    "## Exercise 7\n",
    "\n",
    "Write a `merge_sorter` generator that merges sorted sequences of integers.\n",
    "\n",
    "The generator takes an arbitrary number of arguments. The argument can be any iterable, including another generator. It is guaranteed that each argument is a sequence of integers, sorted in non-decreasing order."
   ]
  },
  {
   "cell_type": "code",
   "execution_count": 2,
   "metadata": {
    "id": "VHmnqHVaScox"
   },
   "outputs": [],
   "source": [
    "import heapq\n",
    "\n",
    "\n",
    "def merge_sorter(*args):\n",
    "    iterators = [iter(arg) for arg in args]\n",
    "\n",
    "    heap = []\n",
    "\n",
    "    for i, it in enumerate(iterators):\n",
    "        try:\n",
    "            value = next(it)\n",
    "            heapq.heappush(heap, (value, i))\n",
    "        except StopIteration:\n",
    "            pass\n",
    "\n",
    "    while heap:\n",
    "        value, i = heapq.heappop(heap)\n",
    "        yield value\n",
    "        try:\n",
    "            next_val = next(iterators[i])\n",
    "            heapq.heappush(heap, (next_val, i))\n",
    "        except StopIteration:\n",
    "            pass"
   ]
  },
  {
   "cell_type": "code",
   "execution_count": null,
   "metadata": {},
   "outputs": [],
   "source": [
    "# Example usage:\n",
    "\n",
    "arr = [1, 3, 5, 7]\n",
    "\n",
    "gen = (x for x in [2, 2, 3, 10])\n",
    "\n",
    "tup = (0, 4, 4, 6)\n",
    "\n",
    "# Merge them all\n",
    "for val in merge_sorter(arr, gen, tup):\n",
    "    print(val, end=' ')"
   ]
  },
  {
   "cell_type": "markdown",
   "metadata": {
    "id": "7AF_IQRQVQ-k"
   },
   "source": [
    "## Exercise 8\n",
    "\n",
    "Write the decorator `proﬁler`, which, when calling a function, will store in its attributes (not to be confused with arguments) the time of its execution (in seconds, it can be fractional) and the number of recursive calls that occurred during execution. Name the attributes `last_time_taken` and `calls`.\n",
    "It is forbidden to use global variables.\n",
    "The decorator must behave in a decent manner, that is, it must not overwrite the function's documentation.\n",
    "\n",
    "For tests write [Ackermann function](https://en.wikipedia.org/wiki/Ackermann_function)"
   ]
  },
  {
   "cell_type": "code",
   "execution_count": null,
   "metadata": {
    "id": "WyJ02jbTVQiu"
   },
   "outputs": [],
   "source": [
    "import time\n",
    "from functools import wraps\n",
    "import sys\n",
    "\n",
    "sys.setrecursionlimit(10000)  # Increase recursion limit if needed\n",
    "\n",
    "\n",
    "def profiler():\n",
    "    def decorator(func):\n",
    "        @wraps(func)\n",
    "        def wrapper(*args, **kwargs):\n",
    "            is_top_level = not wrapper.running\n",
    "            if is_top_level:\n",
    "                wrapper.calls = 0\n",
    "                wrapper.running = True\n",
    "                start = time.time()\n",
    "\n",
    "            wrapper.calls += 1\n",
    "\n",
    "            result = func(*args, **kwargs)\n",
    "\n",
    "            if is_top_level:\n",
    "                end = time.time()\n",
    "                wrapper.last_time_taken = end - start\n",
    "                wrapper.running = False\n",
    "\n",
    "            return result\n",
    "\n",
    "        wrapper.last_time_taken = 0.0\n",
    "        wrapper.calls = 0\n",
    "        wrapper.running = False\n",
    "        return wrapper\n",
    "\n",
    "    return decorator\n",
    "\n",
    "\n",
    "@profiler()\n",
    "def ackermann(m, n):\n",
    "    if m == 0:\n",
    "        return n + 1\n",
    "    elif n == 0:\n",
    "        return ackermann(m - 1, 1)\n",
    "    else:\n",
    "        return ackermann(m - 1, ackermann(m, n - 1))"
   ]
  },
  {
   "cell_type": "code",
   "execution_count": null,
   "metadata": {},
   "outputs": [],
   "source": [
    "import sys\n",
    "\n",
    "sys.setrecursionlimit(10000)\n",
    "\n",
    "result = ackermann(3, 5)\n",
    "print(\"Ackermann =\", result)\n",
    "print(\"Time taken:\", ackermann.last_time_taken)\n",
    "print(\"Number of calls:\", ackermann.calls)"
   ]
  },
  {
   "cell_type": "markdown",
   "metadata": {
    "id": "QcjAealUfs2Q"
   },
   "source": [
    "## Exercise 9\n",
    "\n",
    "Write the function `encode` that implements [run-length encoding](https://en.wikipedia.org/wiki/Run-length_encoding) algorithm"
   ]
  },
  {
   "cell_type": "code",
   "execution_count": 25,
   "metadata": {
    "id": "tBhwbMm9fsMv"
   },
   "outputs": [],
   "source": [
    "def encode(sequence):\n",
    "    encoded_str = ''\n",
    "    count = 1\n",
    "    char = sequence[0]\n",
    "    for i in range(1,len(sequence)):\n",
    "      if char == sequence[i]:\n",
    "        count += 1\n",
    "      else:\n",
    "        encoded_str += str(count) + char\n",
    "        char = sequence[i]\n",
    "        count = 1\n",
    "    encoded_str += str(count) + char\n",
    "    return encoded_str"
   ]
  },
  {
   "cell_type": "code",
   "execution_count": 28,
   "metadata": {},
   "outputs": [
    {
     "name": "stdout",
     "output_type": "stream",
     "text": [
      "5A3B1C3D1E\n"
     ]
    }
   ],
   "source": [
    "print(encode('AAAAABBBCDDDE'))"
   ]
  },
  {
   "cell_type": "markdown",
   "metadata": {},
   "source": [
    "## Exercise 10\n",
    "\n",
    "Write a decorator `visualizer` that takes a recursive function and will visualize the recursive calls that are made during the execution.\n",
    "Consider using the `networkx` library or some other one in order to draw the recursion tree.\n",
    "Test it with a recursive function that computes fibonacci."
   ]
  },
  {
   "cell_type": "code",
   "execution_count": null,
   "metadata": {},
   "outputs": [],
   "source": [
    "import networkx as nx\n",
    "import matplotlib.pyplot as plt\n",
    "from functools import wraps\n",
    "import itertools\n",
    "\n",
    "\n",
    "def build_hierarchy_layout(graph, start=None, total_width=1.0, vertical_gap=0.3, level=0):\n",
    "    \"\"\"\n",
    "    Produces a hierarchy-based layout for a directed acyclic graph (DAG),\n",
    "    ideally representing a tree structure where edges go from parent to children\n",
    "    \"\"\"\n",
    "\n",
    "    if start is None:\n",
    "        start = next(iter(nx.topological_sort(graph)))\n",
    "\n",
    "    def _assign_positions(g, node, x_left, x_right, y_level, layout_positions):\n",
    "        \"\"\"\n",
    "        Recursively assign positions by splitting [x_left, x_right] among children.\n",
    "        \"\"\"\n",
    "        children = list(g.successors(node))\n",
    "        if not children:\n",
    "            layout_positions[node] = ((x_left + x_right) / 2, y_level)\n",
    "        else:\n",
    "            step = (x_right - x_left) / len(children)\n",
    "            for i, child in enumerate(children):\n",
    "                left_bound = x_left + i * step\n",
    "                right_bound = x_left + (i + 1) * step\n",
    "                _assign_positions(\n",
    "                    g, child, left_bound, right_bound, y_level - vertical_gap, layout_positions\n",
    "                )\n",
    "            layout_positions[node] = ((x_left + x_right) / 2, y_level)\n",
    "        return layout_positions\n",
    "\n",
    "    return _assign_positions(graph, start, 0, total_width, level, {})\n",
    "\n",
    "\n",
    "def recursion_treemap(func):\n",
    "    call_graph = nx.DiGraph()\n",
    "    unique_ids = itertools.count()\n",
    "    call_stack = []\n",
    "\n",
    "    @wraps(func)\n",
    "    def wrapped_function(*args, **kwargs):\n",
    "        current_id = next(unique_ids)\n",
    "        node_label = f\"{func.__name__}({', '.join(map(str, args))})\"\n",
    "        call_graph.add_node(current_id, label=node_label)\n",
    "\n",
    "        if call_stack:\n",
    "            parent_id = call_stack[-1]\n",
    "            call_graph.add_edge(parent_id, current_id)\n",
    "\n",
    "        call_stack.append(current_id)\n",
    "        outcome = func(*args, **kwargs)\n",
    "        call_stack.pop()\n",
    "\n",
    "        if not call_stack:\n",
    "            positions = build_hierarchy_layout(call_graph)\n",
    "            labels_dict = nx.get_node_attributes(call_graph, 'label')\n",
    "\n",
    "            plt.figure(figsize=(12, 8))\n",
    "            nx.draw_networkx(\n",
    "                call_graph,\n",
    "                positions,\n",
    "                labels=labels_dict,\n",
    "                node_color=\"skyblue\",\n",
    "                node_size=2000,\n",
    "                arrowsize=20,\n",
    "                arrowstyle=\"->\",\n",
    "                with_labels=True,\n",
    "                font_size=10,\n",
    "                font_weight=\"bold\",\n",
    "            )\n",
    "            plt.title(f\"Recursion Tree for {func.__name__}\")\n",
    "            plt.axis(\"off\")\n",
    "            plt.show()\n",
    "\n",
    "        return outcome\n",
    "\n",
    "    return wrapped_function\n",
    "\n",
    "\n",
    "@recursion_treemap\n",
    "def fibonacci(n):\n",
    "    if n == 0 or n == 1:\n",
    "        return n\n",
    "    return fibonacci(n - 1) + fibonacci(n - 2)\n",
    "\n",
    "\n",
    "val = 4\n",
    "print(f\"fibonacci({val}) = {fibonacci(val)}\")"
   ]
  },
  {
   "cell_type": "markdown",
   "metadata": {},
   "source": [
    "## Exercise 11\n",
    "\n",
    "Now write a decorator `memoizer` that will do caching on the calls of a function (memoization). \n",
    "Decorate fibonacci with the decorators `memoizer`, `profiler` and `visualizer` at the same time (not necessarily in that order). Test that they're working as one would expect."
   ]
  },
  {
   "cell_type": "code",
   "execution_count": null,
   "metadata": {},
   "outputs": [],
   "source": [
    "def memoizer(func):\n",
    "    cache = {}\n",
    "\n",
    "    @wraps(func)\n",
    "    def wrapper(*args, **kwargs):\n",
    "        key = (args, tuple(sorted(kwargs.items())))\n",
    "        if key in cache:\n",
    "            return cache[key]\n",
    "        result = func(*args, **kwargs)\n",
    "        cache[key] = result\n",
    "        return result\n",
    "\n",
    "    wrapper.cache = cache\n",
    "    return wrapper"
   ]
  },
  {
   "cell_type": "code",
   "execution_count": null,
   "metadata": {},
   "outputs": [],
   "source": [
    "@memoizer\n",
    "@profiler()\n",
    "@visualizer\n",
    "def fibonacci(n):\n",
    "    if n < 2:\n",
    "        return n\n",
    "    return fibonacci(n - 1) + fibonacci(n - 2)\n",
    "\n",
    "\n",
    "x = 4\n",
    "val = fibonacci(x)\n",
    "print(f\"fibonacci({x}) = {val}\")\n",
    "print(f\"Total calls: {fibonacci.calls}\")\n",
    "print(f\"Time (sec):  {fibonacci.last_time_taken:.5f}\")\n",
    "\n",
    "print(f\"Memoizer Cache:\")\n",
    "for args, result in fibonacci.cache.items():\n",
    "    print(f\"fibonacci{args} = {result}\")"
   ]
  },
  {
   "cell_type": "markdown",
   "metadata": {},
   "source": [
    "## Exercise 12"
   ]
  },
  {
   "cell_type": "markdown",
   "metadata": {},
   "source": [
    "By using the `isinstance` method, check whether the following objects belong to the proposed types (hint: `isinstance`).\n",
    "\n",
    "Visualize this correspondance matrix (object – type), e.g. using numpy and [pcolormesh](https://matplotlib.org/stable/api/_as_gen/matplotlib.pyplot.pcolormesh.html) for visualization."
   ]
  },
  {
   "cell_type": "code",
   "execution_count": null,
   "metadata": {},
   "outputs": [],
   "source": [
    "import numpy as np\n",
    "\n",
    "list_of_objects = [\n",
    "    int,\n",
    "    2,\n",
    "    2.0,\n",
    "    None,\n",
    "    object,\n",
    "    str,\n",
    "    str(2.0),\n",
    "    float('2.0'),\n",
    "    'hello',\n",
    "    dict,\n",
    "    list,\n",
    "    [dict],\n",
    "    {1: []},\n",
    "]\n",
    "\n",
    "list_of_types = [int, float, object, str, dict, list]\n",
    "\n",
    "rows = len(list_of_objects)\n",
    "cols = len(list_of_types)\n",
    "matrix = np.zeros((rows, cols), dtype=int)\n",
    "\n",
    "for i, obj in enumerate(list_of_objects):\n",
    "    for j, t in enumerate(list_of_types):\n",
    "        matrix[i, j] = int(isinstance(obj, t))\n",
    "\n",
    "plt.figure(figsize=(8, 6))\n",
    "plt.pcolormesh(matrix, cmap=\"Reds_r\", edgecolors=\"green\", linewidth=1)\n",
    "\n",
    "plt.xticks(np.arange(len(list_of_types)) + 0.5, list_of_types, rotation=45, ha=\"right\")\n",
    "plt.yticks(np.arange(len(list_of_objects)) + 0.5, [str(obj) for obj in list_of_objects])\n",
    "\n",
    "plt.xlabel(\"Types\")\n",
    "plt.ylabel(\"Objects\")\n",
    "plt.title(\"isinstance Matrix\")\n",
    "plt.colorbar(label=\"Is Instance (1=Yes, 0=No)\")\n",
    "plt.tight_layout()\n",
    "plt.show()"
   ]
  },
  {
   "cell_type": "markdown",
   "metadata": {},
   "source": []
  }
 ],
 "metadata": {
  "colab": {
   "collapsed_sections": [],
   "name": "home-assignment04",
   "provenance": []
  },
  "kernelspec": {
   "display_name": "Python 3",
   "language": "python",
   "name": "python3"
  },
  "language_info": {
   "codemirror_mode": {
    "name": "ipython",
    "version": 3
   },
   "file_extension": ".py",
   "mimetype": "text/x-python",
   "name": "python",
   "nbconvert_exporter": "python",
   "pygments_lexer": "ipython3",
   "version": "3.9.13"
  }
 },
 "nbformat": 4,
 "nbformat_minor": 1
}
