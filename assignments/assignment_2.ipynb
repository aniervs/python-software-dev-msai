{
  "cells": [
    {
      "cell_type": "markdown",
      "metadata": {},
      "source": [
        "# Assignment: Basic Web Scrapping and more..."
      ]
    },
    {
      "cell_type": "markdown",
      "metadata": {
        "id": "c5sYFDnJbO4D"
      },
      "source": [
        "Fill in your name here."
      ]
    },
    {
      "cell_type": "code",
      "execution_count": 1,
      "metadata": {
        "id": "kskUAopgbHaV"
      },
      "outputs": [],
      "source": [
        "name = 'Nesterov Artyom'\n",
        "if name == '':\n",
        "    raise NotImplementedError('Put your name')"
      ]
    },
    {
      "cell_type": "markdown",
      "metadata": {
        "id": "ciNKbkYsqLkV"
      },
      "source": [
        "You will receive points for:\n",
        "- implementing the given tasks.\n",
        "- using good practices such as OOP in some cases, or decorators.\n",
        "- good code structure on the last task.\n",
        "- handling edge cases and exceptions.\n",
        "- comprehensive unit tests (by using any of the libraries seen. I recommend `unittest`)."
      ]
    },
    {
      "cell_type": "markdown",
      "metadata": {
        "id": "cqkfkMyFs7h9"
      },
      "source": [
        "We will need the following libraries, but of course you can add the libraries you prefer."
      ]
    },
    {
      "cell_type": "code",
      "execution_count": 57,
      "metadata": {
        "id": "mPvyKt04s7A0"
      },
      "outputs": [],
      "source": [
        "for _ in range(2):\n",
        "    try:\n",
        "        from bs4 import BeautifulSoup\n",
        "        import requests \n",
        "        import unittest\n",
        "        import networkx as nx\n",
        "        from urllib.parse import urljoin\n",
        "        from functools import wraps\n",
        "    except ImportError:\n",
        "        ! pip install beautifulsoup4\n",
        "        ! pip install requests\n",
        "        ! pip install unittest2\n",
        "        ! pip install networkx\n",
        "    else:\n",
        "        break"
      ]
    },
    {
      "cell_type": "markdown",
      "metadata": {
        "id": "dbuC4_A8fEHA"
      },
      "source": [
        "## Task 1"
      ]
    },
    {
      "cell_type": "markdown",
      "metadata": {
        "id": "Z8vPAe-Oevw_"
      },
      "source": [
        "The following function receives a URL, and tries to fetch all the links on it, and returns a list with all those links.\n",
        "\n",
        "1. Modify the function so that it returns the expected links.\n",
        "\n",
        "2. Be sure to do unit testing to check that the behaviour of the function is the one we expect.\n",
        "\n",
        "3. Consider edge cases (for example, what if the given URL is not a valid URL)."
      ]
    },
    {
      "cell_type": "code",
      "execution_count": 26,
      "metadata": {},
      "outputs": [],
      "source": [
        "def get_all_links(url: str):\n",
        "    \"\"\"\n",
        "    Get all the links in the webpage at the given URL\n",
        "\n",
        "    :param url: A string that is the URL of the webpage where we need to find the links\n",
        "    :return: A list with all the links of the given webpage\n",
        "    \"\"\"\n",
        "    try:\n",
        "        response = requests.get(url, timeout=1)\n",
        "        response.raise_for_status()\n",
        "    except requests.RequestException as e:\n",
        "        print(f\"Error fetching the URL: {e}\")\n",
        "        return []\n",
        "\n",
        "    soup = BeautifulSoup(response.text, 'html.parser')\n",
        "    links = [urljoin(url, a.get('href')) for a in soup.find_all('a', href=True)]\n",
        "    return links"
      ]
    },
    {
      "cell_type": "code",
      "execution_count": 40,
      "metadata": {},
      "outputs": [
        {
          "name": "stderr",
          "output_type": "stream",
          "text": [
            "."
          ]
        },
        {
          "name": "stdout",
          "output_type": "stream",
          "text": [
            "Error fetching the URL: Invalid URL '': No scheme supplied. Perhaps you meant https://?\n"
          ]
        },
        {
          "name": "stderr",
          "output_type": "stream",
          "text": [
            "."
          ]
        },
        {
          "name": "stdout",
          "output_type": "stream",
          "text": [
            "Error fetching the URL: HTTPConnectionPool(host='ww25.invalid-url.com', port=80): Max retries exceeded with url: /?subid1=20250214-0352-27ca-b2e1-6f8990c0df64 (Caused by ConnectTimeoutError(<urllib3.connection.HTTPConnection object at 0x125035bf0>, 'Connection to ww25.invalid-url.com timed out. (connect timeout=1)'))\n"
          ]
        },
        {
          "name": "stderr",
          "output_type": "stream",
          "text": [
            ".\n",
            "----------------------------------------------------------------------\n",
            "Ran 3 tests in 2.716s\n",
            "\n",
            "OK\n"
          ]
        },
        {
          "data": {
            "text/plain": [
              "<unittest.main.TestProgram at 0x1258d5350>"
            ]
          },
          "execution_count": 40,
          "metadata": {},
          "output_type": "execute_result"
        }
      ],
      "source": [
        "# Unit tests\n",
        "class TestGetAllLinks(unittest.TestCase):\n",
        "\n",
        "    def test_valid_url(self):\n",
        "        url = 'https://education.yandex.ru/handbook/python/article/intro'\n",
        "        links = get_all_links(url)\n",
        "        assertLinks = ['https://yandex.ru/support/common/browsers-settings/browsers-java-js-settings.html','https://www.ya.ru']\n",
        "        for asLink in assertLinks:\n",
        "            self.assertIn(asLink, links)\n",
        "\n",
        "    def test_invalid_url(self):\n",
        "        url = 'http://invalid-url.com'\n",
        "        links = get_all_links(url)\n",
        "        self.assertEqual(links, [])\n",
        "\n",
        "    def test_edge_case_empty_url(self):\n",
        "        url = ''\n",
        "        links = get_all_links(url)\n",
        "        self.assertEqual(links, [])\n",
        "\n",
        "\n",
        "unittest.main(argv=[''], exit=False)"
      ]
    },
    {
      "cell_type": "code",
      "execution_count": 20,
      "metadata": {
        "colab": {
          "base_uri": "https://localhost:8080/",
          "height": 249
        },
        "id": "XfWUPk46XcjZ",
        "outputId": "7c36b952-f5b2-4d55-bb5e-1d657f098135"
      },
      "outputs": [
        {
          "data": {
            "text/plain": [
              "['https://www.ya.ru',\n",
              " 'https://yandex.ru/support/smart-captcha/problems.html?form-unique_key=6052946581187879173',\n",
              " 'https://yandex.ru/support/common/browsers-settings/browsers-java-js-settings.html',\n",
              " 'https://cloud.yandex.ru/services/smartcaptcha?utm_source=captcha&utm_medium=chbx&utm_campaign=security',\n",
              " 'https://yandex.ru/support/smart-captcha/problems.html?form-unique_key=6052946581187879173']"
            ]
          },
          "execution_count": 20,
          "metadata": {},
          "output_type": "execute_result"
        }
      ],
      "source": [
        "get_all_links('https://education.yandex.ru/handbook/python/article/intro')[:10]"
      ]
    },
    {
      "cell_type": "markdown",
      "metadata": {
        "id": "PalS-LuKiZ7p"
      },
      "source": [
        "## Task 2"
      ]
    },
    {
      "cell_type": "markdown",
      "metadata": {
        "id": "I_h1F54SjBAH"
      },
      "source": [
        "Create a generator (`get_neighbor_pages`) that receives a URL, but instead of returning a list with all the links in that page, it should go to those links, and  **yield** their html content.\n",
        "\n",
        "Remember to add unit tests."
      ]
    },
    {
      "cell_type": "code",
      "execution_count": 33,
      "metadata": {
        "id": "ELqc47njbiE9"
      },
      "outputs": [],
      "source": [
        "def get_neighbor_pages(url: str):\n",
        "    \"\"\"\n",
        "    Go through the links in the webpage at the given URL\n",
        "    and yield the HTML content of each of them\n",
        "\n",
        "    :param url: A string that is the URL of the webpage\n",
        "    \"\"\"\n",
        "    links = get_all_links(url)\n",
        "    for link in links:\n",
        "        try:\n",
        "            response = requests.get(link, timeout=10)\n",
        "            response.raise_for_status()\n",
        "            yield response.text\n",
        "        except requests.RequestException as e:\n",
        "            print(f\"Error fetching the URL: {e}\")\n"
      ]
    },
    {
      "cell_type": "code",
      "execution_count": 50,
      "metadata": {},
      "outputs": [
        {
          "name": "stdout",
          "output_type": "stream",
          "text": [
            "Error fetching the URL: 404 Client Error: Not Found for url: https://yandex.ru/support/common/browsers-settings/browsers-java-js-settings.html\n"
          ]
        },
        {
          "name": "stderr",
          "output_type": "stream",
          "text": [
            ".."
          ]
        },
        {
          "name": "stdout",
          "output_type": "stream",
          "text": [
            "Error fetching the URL: Invalid URL '': No scheme supplied. Perhaps you meant https://?\n"
          ]
        },
        {
          "name": "stderr",
          "output_type": "stream",
          "text": [
            "."
          ]
        },
        {
          "name": "stdout",
          "output_type": "stream",
          "text": [
            "Error fetching the URL: HTTPConnectionPool(host='ww25.invalid-url.com', port=80): Max retries exceeded with url: /?subid1=20250214-0359-3835-a409-9df49b05c869 (Caused by ConnectTimeoutError(<urllib3.connection.HTTPConnection object at 0x125b45d00>, 'Connection to ww25.invalid-url.com timed out. (connect timeout=1)'))\n",
            "Error fetching the URL: 404 Client Error: Not Found for url: https://yandex.ru/support/common/browsers-settings/browsers-java-js-settings.html\n"
          ]
        },
        {
          "name": "stderr",
          "output_type": "stream",
          "text": [
            ".\n",
            "----------------------------------------------------------------------\n",
            "Ran 4 tests in 18.234s\n",
            "\n",
            "OK\n"
          ]
        },
        {
          "data": {
            "text/plain": [
              "<unittest.main.TestProgram at 0x12597b250>"
            ]
          },
          "execution_count": 50,
          "metadata": {},
          "output_type": "execute_result"
        }
      ],
      "source": [
        "# Unit tests\n",
        "class TestGetNeighborPages(unittest.TestCase):\n",
        "\n",
        "    def test_valid_url(self):\n",
        "        url = 'https://education.yandex.ru/handbook/python/article/intro'\n",
        "        pages = list(get_neighbor_pages(url))\n",
        "        self.assertGreater(len(pages), 0)\n",
        "\n",
        "    def test_invalid_url(self):\n",
        "        url = 'http://invalid-url.com'\n",
        "        pages = list(get_neighbor_pages(url))\n",
        "        self.assertEqual(len(pages), 0)\n",
        "\n",
        "    def test_edge_case_empty_url(self):\n",
        "        url = ''\n",
        "        pages = list(get_neighbor_pages(url))\n",
        "        self.assertEqual(len(pages), 0)\n",
        "\n",
        "\n",
        "unittest.main(argv=[''], exit=False)"
      ]
    },
    {
      "cell_type": "code",
      "execution_count": null,
      "metadata": {},
      "outputs": [
        {
          "name": "stdout",
          "output_type": "stream",
          "text": [
            "Error fetching the URL: 404 Client Error: Not Found for url: https://yandex.ru/support/common/browsers-settings/browsers-java-js-settings.html\n"
          ]
        },
        {
          "data": {
            "text/plain": [
              "4"
            ]
          },
          "execution_count": 54,
          "metadata": {},
          "output_type": "execute_result"
        }
      ],
      "source": [
        "pages = list(get_neighbor_pages('https://education.yandex.ru/handbook/python/article/intro'))\n",
        "len(pages)"
      ]
    },
    {
      "cell_type": "markdown",
      "metadata": {
        "id": "1viFWBojkbpj"
      },
      "source": [
        "## Task 3"
      ]
    },
    {
      "cell_type": "markdown",
      "metadata": {
        "id": "E3553IODkdZ1"
      },
      "source": [
        "Create a function (`get_pages_depth()`) that receives a URL and a number `depth`, that will go through all the links the given URL, as deep as the given depth.\n",
        "\n",
        "For example, let's say the current page `page_1` has a link to a page `page_2` and a link to a page `page_3`, and the page `page_2` has a link to a page `page_4`,  and `page_4` has a link to a page `page_5`, and `page_3` has a link to a page `page_6`, and `page_6` has a link to a page `page_7`.\n",
        "\n",
        "![image.png](data:image/png;base64,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)\n",
        "\n",
        "Then, if we call `get_pages_depth()` at `page_1` with `depth = 2`, then it should retrieve the pages `page_1`, `page_2`, `page_4`, `page_3` and `page_6`. We won't care about the order in which these pages are retrieved.\n",
        "\n",
        "- Implement the function as a generator.\n",
        "\n",
        "- Remember that a page might contain a link to a parent page, so try to take that into account.\n",
        "\n",
        "- Consider any other edge cases that might happen, such as two pages leading to the same page. In that case, that page should only be retrieved once.\n",
        "\n",
        "- Maybe you can add a decorator to handle such cases?"
      ]
    },
    {
      "cell_type": "code",
      "execution_count": 84,
      "metadata": {
        "id": "agObtuQ0dYen"
      },
      "outputs": [],
      "source": [
        "import requests\n",
        "from urllib.parse import urljoin, urldefrag\n",
        "from bs4 import BeautifulSoup\n",
        "from collections import deque\n",
        "\n",
        "def get_all_links(url: str):\n",
        "    \"\"\"\n",
        "    Get all the links in the webpage at the given URL.\n",
        "\n",
        "    :param url: A string that is the URL of the webpage where we need to find the links.\n",
        "    :return: A list with all the links of the given webpage.\n",
        "    \"\"\"\n",
        "    try:\n",
        "        response = requests.get(url, timeout=1)\n",
        "        response.raise_for_status()\n",
        "    except requests.RequestException as e:\n",
        "        print(f\"Error fetching the URL: {e}\")\n",
        "        return []\n",
        "\n",
        "    soup = BeautifulSoup(response.text, 'html.parser')\n",
        "    links = [urldefrag(urljoin(url, a.get('href'))).url for a in soup.find_all('a', href=True)]\n",
        "    return links\n",
        "\n",
        "def get_pages_depth(url: str, depth: int, links_limit = 20):\n",
        "    \"\"\"\n",
        "    Traverse the web pages starting from the given URL up to the specified depth\n",
        "    and yield the URLs of the pages encountered.\n",
        "\n",
        "    :param url: A string that is the URL of the starting webpage.\n",
        "    :param depth: An integer that specifies the depth of traversal.\n",
        "    :yield: The URLs of the pages encountered during traversal.\n",
        "    \"\"\"\n",
        "    queue = deque([(url, 0)])  # (url, current_depth)\n",
        "    visited = set()\n",
        "\n",
        "    while queue:\n",
        "        current_url, current_depth = queue.popleft()\n",
        "\n",
        "        if current_url in visited or current_depth > depth:\n",
        "            continue\n",
        "\n",
        "        visited.add(current_url)\n",
        "        yield (current_url, current_depth)\n",
        "\n",
        "        if current_depth <= depth:\n",
        "            links = get_all_links(current_url)[:links_limit]\n",
        "            for link in links:\n",
        "                if link not in visited:\n",
        "                    queue.append((link, current_depth + 1))"
      ]
    },
    {
      "cell_type": "code",
      "execution_count": 85,
      "metadata": {
        "id": "6owNf7PmZVaK"
      },
      "outputs": [
        {
          "name": "stdout",
          "output_type": "stream",
          "text": [
            "('https://en.wikipedia.org/wiki/King_Philip%27s_War', 0)\n",
            "('https://en.wikipedia.org/wiki/Main_Page', 1)\n",
            "('https://en.wikipedia.org/wiki/Wikipedia:Contents', 1)\n",
            "('https://en.wikipedia.org/wiki/Portal:Current_events', 1)\n",
            "('https://en.wikipedia.org/wiki/Special:Random', 1)\n",
            "('https://en.wikipedia.org/wiki/Wikipedia:About', 1)\n",
            "('https://en.wikipedia.org/wiki/Wikipedia:Contact_us', 1)\n",
            "('https://en.wikipedia.org/wiki/Help:Contents', 1)\n",
            "('https://en.wikipedia.org/wiki/Help:Introduction', 1)\n",
            "('https://en.wikipedia.org/wiki/Wikipedia:Community_portal', 1)\n",
            "('https://en.wikipedia.org/wiki/Special:RecentChanges', 1)\n",
            "('https://en.wikipedia.org/wiki/Wikipedia:File_upload_wizard', 1)\n",
            "('https://en.wikipedia.org/wiki/Special:Search', 1)\n",
            "('https://donate.wikimedia.org/?wmf_source=donate&wmf_medium=sidebar&wmf_campaign=en.wikipedia.org&uselang=en', 1)\n",
            "('https://en.wikipedia.org/w/index.php?title=Special:CreateAccount&returnto=King+Philip%27s+War', 1)\n",
            "('https://en.wikipedia.org/w/index.php?title=Special:UserLogin&returnto=King+Philip%27s+War', 1)\n",
            "('https://en.wikipedia.org/wiki/Special:SpecialPages', 2)\n",
            "('https://en.wikipedia.org/w/index.php?title=Special:CreateAccount&returnto=Main+Page', 2)\n",
            "('https://en.wikipedia.org/w/index.php?title=Special:UserLogin&returnto=Main+Page', 2)\n",
            "('https://en.wikipedia.org/w/index.php?title=Special:CreateAccount&returnto=Wikipedia%3AContents', 2)\n",
            "('https://en.wikipedia.org/w/index.php?title=Special:UserLogin&returnto=Wikipedia%3AContents', 2)\n",
            "('https://en.wikipedia.org/w/index.php?title=Special:CreateAccount&returnto=Portal%3ACurrent+events', 2)\n",
            "('https://en.wikipedia.org/w/index.php?title=Special:UserLogin&returnto=Portal%3ACurrent+events', 2)\n",
            "('https://en.wikipedia.org/w/index.php?title=Special:CreateAccount&returnto=Austin+Carr', 2)\n",
            "('https://en.wikipedia.org/w/index.php?title=Special:UserLogin&returnto=Austin+Carr', 2)\n",
            "('https://en.wikipedia.org/w/index.php?title=Special:CreateAccount&returnto=Wikipedia%3AAbout', 2)\n",
            "('https://en.wikipedia.org/w/index.php?title=Special:UserLogin&returnto=Wikipedia%3AAbout', 2)\n",
            "('https://en.wikipedia.org/w/index.php?title=Special:CreateAccount&returnto=Wikipedia%3AContact+us', 2)\n",
            "('https://en.wikipedia.org/w/index.php?title=Special:UserLogin&returnto=Wikipedia%3AContact+us', 2)\n",
            "('https://en.wikipedia.org/w/index.php?title=Special:CreateAccount&returnto=Help%3AContents', 2)\n",
            "('https://en.wikipedia.org/w/index.php?title=Special:UserLogin&returnto=Help%3AContents', 2)\n",
            "('https://en.wikipedia.org/w/index.php?title=Special:CreateAccount&returnto=Help%3AIntroduction', 2)\n",
            "('https://en.wikipedia.org/w/index.php?title=Special:UserLogin&returnto=Help%3AIntroduction', 2)\n",
            "('https://en.wikipedia.org/w/index.php?title=Special:CreateAccount&returnto=Wikipedia%3ACommunity+portal', 2)\n",
            "('https://en.wikipedia.org/w/index.php?title=Special:UserLogin&returnto=Wikipedia%3ACommunity+portal', 2)\n",
            "('https://en.wikipedia.org/w/index.php?title=Special:CreateAccount&returnto=Special%3ARecentChanges', 2)\n",
            "('https://en.wikipedia.org/w/index.php?title=Special:UserLogin&returnto=Special%3ARecentChanges', 2)\n",
            "('https://en.wikipedia.org/w/index.php?title=Special:CreateAccount&returnto=Wikipedia%3AFile+upload+wizard', 2)\n",
            "('https://en.wikipedia.org/w/index.php?title=Special:UserLogin&returnto=Wikipedia%3AFile+upload+wizard', 2)\n",
            "('https://en.wikipedia.org/w/index.php?title=Special:CreateAccount&returnto=Special%3ASearch', 2)\n",
            "('https://en.wikipedia.org/w/index.php?title=Special:UserLogin&returnto=Special%3ASearch', 2)\n",
            "('https://foundation.wikimedia.org/wiki/Donor_privacy_policy', 2)\n",
            "('https://donate.wikimedia.org/wiki/Special:LandingCheck?landing_page=Tax_deductibility&basic=true&language=en', 2)\n",
            "('https://foundation.wikimedia.org/wiki/Special:LandingCheck?landing_page=Donor_privacy_policy&basic=true&language=en', 2)\n",
            "('https://foundation.wikimedia.org/wiki/Policy:Donor_privacy_policy/Supplement', 2)\n",
            "('https://donate.wikimedia.org/wiki/Special:LandingCheck?landing_page=Problems_donating&basic=true&language=en', 2)\n",
            "('https://donate.wikimedia.org/wiki/Special:LandingCheck?landing_page=Ways_to_Give&basic=true&language=en', 2)\n",
            "('https://donate.wikimedia.org/wiki/Special:LandingCheck?landing_page=FAQ&basic=true&language=en', 2)\n",
            "('https://donate.wikimedia.org/wiki/Special:LandingPage', 2)\n",
            "('https://donate.wikimedia.org/w/index.php?title=Special:UserLogin&returnto=Special%3ALandingPage&returntoquery=country%3DLV%26uselang%3Den%26wmf_campaign%3Den.wikipedia.org%26wmf_medium%3Dsidebar%26wmf_source%3Ddonate', 2)\n",
            "('https://donate.wikimedia.org/w/index.php?country=LV&title=Special:LandingPage&uselang=en&wmf_campaign=en.wikipedia.org&wmf_medium=sidebar&wmf_source=donate', 2)\n",
            "('https://donate.wikimedia.org/wiki/Special:FundraiserRedirector', 2)\n",
            "('https://donate.wikimedia.org/wiki/Support_pages_index', 2)\n",
            "('https://donate.wikimedia.org/wiki/Other_ways_to_give', 2)\n",
            "Error fetching the URL: 404 Client Error: Not Found for url: https://donate.wikimedia.org/wiki/Other_ways_to_give\n",
            "('https://donate.wikimedia.org/wiki/Problems_donating', 2)\n",
            "('https://en.wikipedia.org/w/index.php?title=Special:CreateAccount&returnto=Special%3ASpecialPages', 3)\n",
            "('https://en.wikipedia.org/w/index.php?title=Special:UserLogin&returnto=Special%3ASpecialPages', 3)\n",
            "('https://foundation.wikimedia.org/wiki/Special:MyLanguage/Home', 3)\n",
            "('https://wikimediafoundation.org/', 3)\n",
            "('https://wikimediafoundation.org/about/contact/', 3)\n",
            "('https://wikimediafoundation.org/news/', 3)\n",
            "('https://diff.wikimedia.org/', 3)\n",
            "('https://diff.wikimedia.org/calendar', 3)\n",
            "('https://meta.wikimedia.org/wiki/Special:MyLanguage/Answers', 3)\n",
            "('https://wikimediafoundation.org/participate/', 3)\n",
            "('https://wikimediaendowment.org', 3)\n",
            "('https://enterprise.wikimedia.com', 3)\n",
            "Error fetching the URL: HTTPSConnectionPool(host='enterprise.wikimedia.com', port=443): Read timed out. (read timeout=1)\n",
            "('https://store.wikimedia.org/', 3)\n",
            "('https://foundation.wikimedia.org/wiki/Special:MyLanguage/Legal:Bylaws', 3)\n",
            "('https://wikimediafoundation.org/about/values/', 3)\n",
            "('https://foundation.wikimedia.org/wiki/Special:MyLanguage/Policy:Main', 3)\n",
            "('https://foundation.wikimedia.org/wiki/Special:MyLanguage/Resolution:Main', 3)\n",
            "('https://foundation.wikimedia.org/wiki/Special:MyLanguage/Board_meetings', 3)\n",
            "('https://meta.wikimedia.org/wiki/Special:MyLanguage/Wikimedia_movement_affiliates', 3)\n",
            "Error fetching the URL: HTTPSConnectionPool(host='meta.wikimedia.org', port=443): Max retries exceeded with url: /wiki/Special:MyLanguage/Wikimedia_movement_affiliates (Caused by ConnectTimeoutError(<urllib3.connection.HTTPSConnection object at 0x124b87250>, 'Connection to meta.wikimedia.org timed out. (connect timeout=1)'))\n",
            "('https://annual.wikimedia.org/', 3)\n",
            "('https://wikimediafoundation.org/about/financial-reports/', 3)\n",
            "('https://donate.wikimedia.org/w/index.php?title=Tax_deductibility/en&redirect=no', 3)\n",
            "('https://donate.wikimedia.org/wiki/Tax_deductibility/af', 3)\n",
            "Error fetching the URL: HTTPSConnectionPool(host='donate.wikimedia.org', port=443): Read timed out. (read timeout=1)\n",
            "('https://donate.wikimedia.org/wiki/Tax_deductibility/ca', 3)\n",
            "('https://donate.wikimedia.org/wiki/Tax_deductibility/cs', 3)\n",
            "('https://donate.wikimedia.org/wiki/Tax_deductibility/da', 3)\n",
            "('https://donate.wikimedia.org/wiki/Tax_deductibility/de', 3)\n",
            "('https://donate.wikimedia.org/wiki/Tax_deductibility/el', 3)\n",
            "('https://donate.wikimedia.org/wiki/Tax_deductibility/es', 3)\n",
            "('https://donate.wikimedia.org/wiki/Tax_deductibility/fr', 3)\n",
            "('https://donate.wikimedia.org/wiki/Tax_deductibility/he', 3)\n",
            "('https://donate.wikimedia.org/wiki/Tax_deductibility/hu', 3)\n",
            "('https://donate.wikimedia.org/wiki/Tax_deductibility/it', 3)\n",
            "('https://donate.wikimedia.org/wiki/Tax_deductibility/ja', 3)\n",
            "('https://donate.wikimedia.org/wiki/Tax_deductibility/lv', 3)\n",
            "('https://donate.wikimedia.org/wiki/Tax_deductibility/nb', 3)\n",
            "('https://donate.wikimedia.org/wiki/Tax_deductibility/nl', 3)\n",
            "('https://donate.wikimedia.org/wiki/Tax_deductibility/pl', 3)\n",
            "('https://donate.wikimedia.org/w/index.php?title=Problems_donating/en&redirect=no', 3)\n",
            "('https://donate.wikimedia.org/wiki/Problems_donating/af', 3)\n",
            "('https://donate.wikimedia.org/wiki/Problems_donating/ca', 3)\n",
            "Error fetching the URL: HTTPSConnectionPool(host='donate.wikimedia.org', port=443): Max retries exceeded with url: /wiki/Problems_donating/ca (Caused by ConnectTimeoutError(<urllib3.connection.HTTPSConnection object at 0x124ef34d0>, 'Connection to donate.wikimedia.org timed out. (connect timeout=1)'))\n",
            "('https://donate.wikimedia.org/wiki/Problems_donating/cs', 3)\n",
            "('https://donate.wikimedia.org/wiki/Problems_donating/da', 3)\n",
            "('https://donate.wikimedia.org/wiki/Problems_donating/de', 3)\n",
            "('https://donate.wikimedia.org/wiki/Problems_donating/el', 3)\n",
            "('https://donate.wikimedia.org/wiki/Problems_donating/es', 3)\n",
            "('https://donate.wikimedia.org/wiki/Problems_donating/fr', 3)\n",
            "('https://donate.wikimedia.org/wiki/Problems_donating/he', 3)\n",
            "('https://donate.wikimedia.org/wiki/Problems_donating/hu', 3)\n",
            "('https://donate.wikimedia.org/wiki/Problems_donating/it', 3)\n",
            "('https://donate.wikimedia.org/wiki/Problems_donating/ja', 3)\n",
            "('https://donate.wikimedia.org/wiki/Problems_donating/lv', 3)\n",
            "('https://donate.wikimedia.org/wiki/Problems_donating/nb', 3)\n",
            "('https://donate.wikimedia.org/wiki/Problems_donating/nl', 3)\n",
            "('https://donate.wikimedia.org/wiki/Problems_donating/pl', 3)\n",
            "('https://donate.wikimedia.org/w/index.php?title=Ways_to_Give/en&redirect=no', 3)\n",
            "Error fetching the URL: HTTPSConnectionPool(host='donate.wikimedia.org', port=443): Max retries exceeded with url: /w/index.php?title=Ways_to_Give/en&redirect=no (Caused by ConnectTimeoutError(<urllib3.connection.HTTPSConnection object at 0x124f3fc50>, 'Connection to donate.wikimedia.org timed out. (connect timeout=1)'))\n",
            "('https://wikimediafoundation.org', 3)\n",
            "('https://donate.wikimedia.org/wiki/Ways_to_Give/af', 3)\n",
            "('https://donate.wikimedia.org/wiki/Ways_to_Give/ca', 3)\n",
            "('https://donate.wikimedia.org/wiki/Ways_to_Give/cs', 3)\n",
            "('https://donate.wikimedia.org/wiki/Ways_to_Give/da', 3)\n",
            "('https://donate.wikimedia.org/wiki/Ways_to_Give/de', 3)\n",
            "('https://donate.wikimedia.org/wiki/Ways_to_Give/el', 3)\n",
            "('https://donate.wikimedia.org/wiki/Ways_to_Give/es', 3)\n",
            "Error fetching the URL: HTTPSConnectionPool(host='donate.wikimedia.org', port=443): Read timed out. (read timeout=1)\n",
            "('https://donate.wikimedia.org/wiki/Ways_to_Give/fr', 3)\n",
            "('https://donate.wikimedia.org/wiki/Ways_to_Give/he', 3)\n",
            "('https://donate.wikimedia.org/wiki/Ways_to_Give/hu', 3)\n",
            "('https://donate.wikimedia.org/wiki/Ways_to_Give/it', 3)\n",
            "('https://donate.wikimedia.org/wiki/Ways_to_Give/ja', 3)\n",
            "('https://donate.wikimedia.org/wiki/Ways_to_Give/lv', 3)\n",
            "('https://donate.wikimedia.org/wiki/Ways_to_Give/nb', 3)\n",
            "('https://donate.wikimedia.org/wiki/Ways_to_Give/nl', 3)\n",
            "('https://donate.wikimedia.org/wiki/Ways_to_Give/pl', 3)\n",
            "('https://donate.wikimedia.org/w/index.php?title=FAQ/en&redirect=no', 3)\n",
            "('https://donate.wikimedia.org/wiki/FAQ/af', 3)\n",
            "('https://donate.wikimedia.org/wiki/FAQ/ar', 3)\n",
            "('https://donate.wikimedia.org/wiki/FAQ/ca', 3)\n",
            "('https://donate.wikimedia.org/wiki/FAQ/cs', 3)\n",
            "('https://donate.wikimedia.org/wiki/FAQ/da', 3)\n",
            "('https://donate.wikimedia.org/wiki/FAQ/de', 3)\n",
            "('https://donate.wikimedia.org/wiki/FAQ/el', 3)\n",
            "('https://donate.wikimedia.org/wiki/FAQ/es', 3)\n",
            "('https://donate.wikimedia.org/wiki/FAQ/fr', 3)\n",
            "('https://donate.wikimedia.org/wiki/FAQ/he', 3)\n",
            "('https://donate.wikimedia.org/wiki/FAQ/hu', 3)\n",
            "('https://donate.wikimedia.org/wiki/FAQ/it', 3)\n",
            "('https://donate.wikimedia.org/wiki/FAQ/ja', 3)\n",
            "('https://donate.wikimedia.org/wiki/FAQ/lv', 3)\n",
            "('https://donate.wikimedia.org/wiki/FAQ/nb', 3)\n",
            "('https://donate.wikimedia.org/wiki/FAQ/nl', 3)\n",
            "('https://donate.wikimedia.org/w/index.php?title=Special:UserLogin&returnto=Special%3ALandingPage', 3)\n",
            "('https://donate.wikimedia.org/wiki/Cancel_or_change_recurring_giving', 3)\n",
            "('https://donate.wikimedia.org/wiki/Matching_Gifts', 3)\n",
            "('https://donate.wikimedia.org/wiki/Special:SpecialPages', 3)\n",
            "('https://donate.wikimedia.org/wiki/Special:RecentChanges', 3)\n",
            "('https://collab.wikimedia.org/wiki/Fundraising/Donatewiki_documentation', 3)\n",
            "('javascript:print();', 3)\n",
            "Error fetching the URL: No connection adapters were found for 'javascript:print();'\n",
            "('https://donate.wikimedia.org/w/index.php?title=Special:UrlShortener&url=https%3A%2F%2Fdonate.wikimedia.org%2Fwiki%2FSpecial%3ALandingPage', 3)\n",
            "('https://donate.wikimedia.org/w/index.php?title=Special:QrCode&url=https%3A%2F%2Fdonate.wikimedia.org%2Fwiki%2FSpecial%3ALandingPage', 3)\n",
            "('https://foundation.wikimedia.org/wiki/Project:Privacy_policy', 3)\n",
            "('https://donate.wikimedia.org/w/index.php?title=Special:UserLogin&returnto=Special%3ALandingPage&returntoquery=country%3DLV%26uselang%3Den%26wmf_campaign%3Den.wikipedia.org%26wmf_medium%3Dsidebar%26wmf_source%3Ddonate&uselang=de', 3)\n",
            "('https://donate.wikimedia.org/w/index.php?title=Special:UserLogin&returnto=Special%3ALandingPage&returntoquery=country%3DLV%26uselang%3Den%26wmf_campaign%3Den.wikipedia.org%26wmf_medium%3Dsidebar%26wmf_source%3Ddonate&uselang=eo', 3)\n",
            "('https://donate.wikimedia.org/w/index.php?title=Special:UserLogin&returnto=Special%3ALandingPage&returntoquery=country%3DLV%26uselang%3Den%26wmf_campaign%3Den.wikipedia.org%26wmf_medium%3Dsidebar%26wmf_source%3Ddonate&uselang=fr', 3)\n",
            "('https://donate.wikimedia.org/w/index.php?title=Special:UserLogin&returnto=Special%3ALandingPage&returntoquery=country%3DLV%26uselang%3Den%26wmf_campaign%3Den.wikipedia.org%26wmf_medium%3Dsidebar%26wmf_source%3Ddonate&uselang=es', 3)\n",
            "('https://donate.wikimedia.org/w/index.php?title=Special:UserLogin&returnto=Special%3ALandingPage&returntoquery=country%3DLV%26uselang%3Den%26wmf_campaign%3Den.wikipedia.org%26wmf_medium%3Dsidebar%26wmf_source%3Ddonate&uselang=it', 3)\n",
            "('https://donate.wikimedia.org/w/index.php?title=Special:UserLogin&returnto=Special%3ALandingPage&returntoquery=country%3DLV%26uselang%3Den%26wmf_campaign%3Den.wikipedia.org%26wmf_medium%3Dsidebar%26wmf_source%3Ddonate&uselang=nl', 3)\n",
            "('https://www.mediawiki.org/wiki/Special:MyLanguage/Help:Logging_in', 3)\n",
            "('https://donate.wikimedia.org/wiki/Special:PasswordReset', 3)\n",
            "('https://donate.wikimedia.org/wiki/Special:UserLogin', 3)\n",
            "('https://donate.wikimedia.org/w/index.php?returnto=Special%3ALandingPage&returntoquery=country%3DLV%26uselang%3Den%26wmf_campaign%3Den.wikipedia.org%26wmf_medium%3Dsidebar%26wmf_source%3Ddonate&title=Special:UserLogin', 3)\n",
            "('https://donate.wikimedia.org/w/index.php?title=Special:UserLogin&returnto=Special%3ALandingPage&returntoquery=country%3DLV%26wmf_campaign%3Dspontaneous%26wmf_medium%3Dspontaneous%26wmf_source%3Dfr-redir', 3)\n",
            "('https://donate.wikimedia.org/w/index.php?country=LV&title=Special:LandingPage&wmf_campaign=spontaneous&wmf_medium=spontaneous&wmf_source=fr-redir', 3)\n",
            "('https://donate.wikimedia.org/w/index.php?title=Support_pages_index&redirect=no', 3)\n",
            "('https://donate.wikimedia.org/wiki/Template:Support_Page', 3)\n",
            "('https://donate.wikimedia.org/wiki/Template:Support_Page_end', 3)\n",
            "('https://donate.wikimedia.org/wiki/MediaWiki:SupportPage.js', 3)\n",
            "('https://donate.wikimedia.org/wiki/MediaWiki:Common.js', 3)\n",
            "('https://donate.wikimedia.org/wiki/Template:LocalPage', 3)\n",
            "('https://phabricator.wikimedia.org/project/view/3499/', 3)\n",
            "('https://thankyou.wikipedia.org/', 3)\n",
            "('https://donate.wikimedia.org/wiki/Ways_to_Give', 3)\n",
            "('https://donate.wikimedia.org/wiki/Workplace_giving', 3)\n",
            "('https://donate.wikimedia.org/wiki/FAQ', 3)\n",
            "('https://donate.wikimedia.org/wiki/Tax_deductibility', 3)\n",
            "('https://donate.wikimedia.org/wiki/Problems_donating/pt', 3)\n"
          ]
        }
      ],
      "source": [
        "for page_url in get_pages_depth('https://en.wikipedia.org/wiki/King_Philip%27s_War', 3, 20):\n",
        "    print(page_url)"
      ]
    },
    {
      "cell_type": "markdown",
      "metadata": {
        "id": "z9oXx2RWtniT"
      },
      "source": [
        "## Task 4"
      ]
    },
    {
      "cell_type": "markdown",
      "metadata": {
        "id": "OOm4WJW1tp7V"
      },
      "source": [
        "Create a class `ComputerScientist` that will contain information such as `name`, `birthdate`, `major_achievements`, `alma_mater`, etc.\n",
        "\n",
        "- Implement the methods you consider appropriate.\n",
        "\n",
        "- Make unit tests to make sure the methods work alright.\n",
        "\n",
        "Write a script to go to this [list of computer scientists](https://en.wikipedia.org/wiki/List_of_computer_scientists) and fetch information about 100 random scientists from this list, and create a python `list` containing `ComputerScientist()` objects with the information retrieved from the given link."
      ]
    },
    {
      "cell_type": "code",
      "execution_count": 152,
      "metadata": {
        "id": "8qj_ycL03OXm"
      },
      "outputs": [],
      "source": [
        "class ComputerScientist:\n",
        "    def __init__(self, name, birthdate=None, major_achievements=None, alma_mater=None):\n",
        "        self.name = name\n",
        "        self.birthdate = birthdate\n",
        "        self.major_achievements = major_achievements\n",
        "        self.alma_mater = alma_mater\n",
        "\n",
        "    def __str__(self):\n",
        "        return (f\"Name: {self.name}\\n\"\n",
        "                f\"Birthdate: {self.birthdate}\\n\"\n",
        "                f\"Major Achievements: {self.major_achievements}\\n\"\n",
        "                f\"Alma Mater: {self.alma_mater}\\n\")\n",
        "\n",
        "    def add_achievement(self, achievement):\n",
        "        self.major_achievements.append(achievement)\n",
        "\n",
        "    def update_alma_mater(self, alma_mater):\n",
        "        self.alma_mater = alma_mater"
      ]
    },
    {
      "cell_type": "code",
      "execution_count": 164,
      "metadata": {},
      "outputs": [],
      "source": [
        "import requests\n",
        "from bs4 import BeautifulSoup\n",
        "import random\n",
        "from openai import OpenAI\n",
        "\n",
        "def fetch_scientists(url, num_scientists=100):\n",
        "    response = requests.get(url)\n",
        "    soup = BeautifulSoup(response.content, 'html.parser')\n",
        "    \n",
        "    # Find all <ul> tags that do not have the class \"vector-menu-content-list\"\n",
        "    ul_tags = soup.find_all('ul', class_=lambda x: x != 'vector-menu-content-list')\n",
        "    \n",
        "    # Extract all <li> tags from the filtered <ul> tags\n",
        "    scientist_items = []\n",
        "    for ul in ul_tags:\n",
        "        scientist_items.extend(ul.find_all('li'))\n",
        "    \n",
        "    # Filter out items that do not contain links (likely not scientists)\n",
        "    # Also, ensure <a> tags do not contain \"vector\" in their class attribute\n",
        "    scientist_links = []\n",
        "    for item in scientist_items:\n",
        "        a_tag = item.find('a')\n",
        "        if a_tag and (not a_tag.get('class') or 'vector' not in ' '.join(a_tag.get('class', []))):\n",
        "            scientist_links.append(a_tag)\n",
        "    \n",
        "    # Randomly select 100 scientists\n",
        "    # selected_scientists = random.sample(scientist_links, min(num_scientists, len(scientist_links)))\n",
        "    selected_scientists = scientist_links[:num_scientists]\n",
        "    print(scientist_links)\n",
        "    \n",
        "    scientists = []\n",
        "    for scientist in selected_scientists:\n",
        "        name = scientist.get_text()\n",
        "        href = scientist.get('href')\n",
        "        if href:\n",
        "            # Fetch details from the individual scientist's page\n",
        "            details = fetch_scientist_details(\"https://en.wikipedia.org\" + href)\n",
        "            scientists.append(ComputerScientist(\n",
        "                name=name,\n",
        "                birthdate=details.get('birthdate'),\n",
        "                major_achievements=details.get('major_achievements'),\n",
        "                alma_mater=details.get('alma_mater')\n",
        "            ))\n",
        "    \n",
        "    return scientists\n",
        "\n",
        "\n",
        "def fetch_scientist_details(url):\n",
        "    response = requests.get(url)\n",
        "    soup = BeautifulSoup(response.content, 'html.parser')\n",
        "    \n",
        "    details = {\n",
        "        'birthdate': None,\n",
        "        'major_achievements': None,\n",
        "        'alma_mater': None\n",
        "    }\n",
        "    \n",
        "    # Extract birthdate from the infobox\n",
        "    infobox = soup.find('table', class_='infobox')\n",
        "    if not infobox:\n",
        "        return details\n",
        "    birthdate_row = infobox.find('th', string='Born')\n",
        "    if birthdate_row:\n",
        "        details['birthdate'] = birthdate_row.find_next_sibling('td').get_text(strip=True)\n",
        "    \n",
        "    # Extract alma mater from the infobox\n",
        "    alma_mater_row = infobox.find('th', string='Alma Mater')\n",
        "    if not alma_mater_row:\n",
        "        alma_mater_row = infobox.find('th', string='Institutions')\n",
        "    if alma_mater_row:\n",
        "        details['alma_mater'] = alma_mater_row.find_next_sibling('td').get_text(strip=True)\n",
        "    \n",
        "    # Extract major achievements (this is more heuristic)\n",
        "    major_achievements_row = infobox.find('th', string='Known for')\n",
        "    if major_achievements_row:\n",
        "        details['major_achievements'] = major_achievements_row.find_next_sibling('td').get_text(strip=True)\n",
        "    \n",
        "    # print(infobox)\n",
        "    \n",
        "    return details\n"
      ]
    },
    {
      "cell_type": "code",
      "execution_count": 155,
      "metadata": {},
      "outputs": [
        {
          "name": "stdout",
          "output_type": "stream",
          "text": [
            "[<a href=\"/wiki/Wil_van_der_Aalst\" title=\"Wil van der Aalst\">Wil van der Aalst</a>, <a href=\"/wiki/Scott_Aaronson\" title=\"Scott Aaronson\">Scott Aaronson</a>, <a href=\"/wiki/Rediet_Abebe\" title=\"Rediet Abebe\">Rediet Abebe</a>, <a href=\"/wiki/Hal_Abelson\" title=\"Hal Abelson\">Hal Abelson</a>, <a href=\"/wiki/Serge_Abiteboul\" title=\"Serge Abiteboul\">Serge Abiteboul</a>, <a href=\"/wiki/Samson_Abramsky\" title=\"Samson Abramsky\">Samson Abramsky</a>, <a href=\"/wiki/Leonard_Adleman\" title=\"Leonard Adleman\">Leonard Adleman</a>, <a href=\"/wiki/Manindra_Agrawal\" title=\"Manindra Agrawal\">Manindra Agrawal</a>, <a href=\"/wiki/Luis_von_Ahn\" title=\"Luis von Ahn\">Luis von Ahn</a>, <a href=\"/wiki/Alfred_Aho\" title=\"Alfred Aho\">Alfred Aho</a>, <a class=\"mw-redirect\" href=\"/wiki/Frances_E._Allen\" title=\"Frances E. Allen\">Frances E. Allen</a>, <a href=\"/wiki/Gene_Amdahl\" title=\"Gene Amdahl\">Gene Amdahl</a>, <a href=\"/wiki/David_P._Anderson\" title=\"David P. Anderson\">David P. Anderson</a>, <a href=\"/wiki/Lisa_Anthony\" title=\"Lisa Anthony\">Lisa Anthony</a>, <a href=\"/wiki/Andrew_Appel\" title=\"Andrew Appel\">Andrew Appel</a>, <a href=\"/wiki/Cecilia_R._Aragon\" title=\"Cecilia R. Aragon\">Cecilia R. Aragon</a>, <a href=\"/wiki/Bruce_Arden\" title=\"Bruce Arden\">Bruce Arden</a>, <a href=\"/wiki/Kevin_Ashton\" title=\"Kevin Ashton\">Kevin Ashton</a>, <a href=\"/wiki/Sanjeev_Arora\" title=\"Sanjeev Arora\">Sanjeev Arora</a>, <a href=\"/wiki/Winifred_Asprey\" title=\"Winifred Asprey\">Winifred \"Tim\" Alice Asprey</a>, <a href=\"/wiki/John_Vincent_Atanasoff\" title=\"John Vincent Atanasoff\">John Vincent Atanasoff</a>, <a class=\"mw-redirect\" href=\"/wiki/Shakuntala_Atre\" title=\"Shakuntala Atre\">Shakuntala Atre</a>, <a href=\"/wiki/Lennart_Augustsson\" title=\"Lennart Augustsson\">Lennart Augustsson</a>, <a href=\"/wiki/Charles_Babbage\" title=\"Charles Babbage\">Charles Babbage</a>, <a href=\"/wiki/Charles_Bachman\" title=\"Charles Bachman\">Charles Bachman</a>, <a href=\"/wiki/Roland_Carl_Backhouse\" title=\"Roland Carl Backhouse\">Roland Carl Backhouse</a>, <a href=\"/wiki/John_Backus\" title=\"John Backus\">John Backus</a>, <a href=\"/wiki/David_F._Bacon\" title=\"David F. Bacon\">David F. Bacon</a>, <a href=\"/wiki/David_Bader_(computer_scientist)\" title=\"David Bader (computer scientist)\">David Bader</a>, <a href=\"/wiki/Victor_Bahl\" title=\"Victor Bahl\">Victor Bahl</a>, <a href=\"/wiki/Anthony_James_Barr\" title=\"Anthony James Barr\">Anthony James Barr</a>, <a href=\"/wiki/Jean_Bartik\" title=\"Jean Bartik\">Jean Bartik</a>, <a href=\"/wiki/Andrew_Barto\" title=\"Andrew Barto\">Andrew Barto</a>, <a href=\"/wiki/Friedrich_L._Bauer\" title=\"Friedrich L. Bauer\">Friedrich L. Bauer</a>, <a href=\"/wiki/Rudolf_Bayer\" title=\"Rudolf Bayer\">Rudolf Bayer</a>, <a href=\"/wiki/Gordon_Bell\" title=\"Gordon Bell\">Gordon Bell</a>, <a href=\"/wiki/Steven_M._Bellovin\" title=\"Steven M. Bellovin\">Steven M. Bellovin</a>, <a href=\"/wiki/Cecilia_Berdichevsky\" title=\"Cecilia Berdichevsky\">Cecilia Berdichevsky</a>, <a href=\"/wiki/Tim_Berners-Lee\" title=\"Tim Berners-Lee\">Tim Berners-Lee</a>, <a href=\"/wiki/Daniel_J._Bernstein\" title=\"Daniel J. Bernstein\">Daniel J. Bernstein</a>, <a href=\"/wiki/Peter_Bernus\" title=\"Peter Bernus\">Peter Bernus</a>, <a href=\"/wiki/Abhay_Bhushan\" title=\"Abhay Bhushan\">Abhay Bhushan</a>, <a href=\"/wiki/Dines_Bj%C3%B8rner\" title=\"Dines Bjørner\">Dines Bjørner</a>, <a href=\"/wiki/Gerrit_Blaauw\" title=\"Gerrit Blaauw\">Gerrit Blaauw</a>, <a href=\"/wiki/Sue_Black_(computer_scientist)\" title=\"Sue Black (computer scientist)\">Sue Black</a>, <a href=\"/wiki/David_Blei\" title=\"David Blei\">David Blei</a>, <a href=\"/wiki/Dorothy_Blum\" title=\"Dorothy Blum\">Dorothy Blum</a>, <a href=\"/wiki/Lenore_Blum\" title=\"Lenore Blum\">Lenore Blum</a>, <a href=\"/wiki/Manuel_Blum\" title=\"Manuel Blum\">Manuel Blum</a>, <a href=\"/wiki/Barry_Boehm\" title=\"Barry Boehm\">Barry Boehm</a>, <a href=\"/wiki/Corrado_B%C3%B6hm\" title=\"Corrado Böhm\">Corrado Böhm</a>, <a href=\"/wiki/Kurt_Bollacker\" title=\"Kurt Bollacker\">Kurt Bollacker</a>, <a href=\"/wiki/Jeff_Bonwick\" title=\"Jeff Bonwick\">Jeff Bonwick</a>, <a href=\"/wiki/Grady_Booch\" title=\"Grady Booch\">Grady Booch</a>, <a href=\"/wiki/George_Boole\" title=\"George Boole\">George Boole</a>, <a href=\"/wiki/Andrew_Donald_Booth\" title=\"Andrew Donald Booth\">Andrew Booth</a>, <a href=\"/wiki/Kathleen_Booth\" title=\"Kathleen Booth\">Kathleen Booth</a>, <a href=\"/wiki/Anita_Borg\" title=\"Anita Borg\">Anita Borg</a>, <a href=\"/wiki/Alan_H._Borning\" title=\"Alan H. Borning\">Alan H. Borning</a>, <a href=\"/wiki/Bert_Bos\" title=\"Bert Bos\">Bert Bos</a>, <a href=\"/wiki/Mikhail_Botvinnik\" title=\"Mikhail Botvinnik\">Mikhail Botvinnik</a>, <a href=\"/wiki/Jonathan_Bowen\" title=\"Jonathan Bowen\">Jonathan Bowen</a>, <a href=\"/wiki/Stephen_R._Bourne\" title=\"Stephen R. Bourne\">Stephen R. Bourne</a>, <a href=\"/wiki/Harry_Bouwman\" title=\"Harry Bouwman\">Harry Bouwman</a>, <a href=\"/wiki/Robert_S._Boyer\" title=\"Robert S. Boyer\">Robert S. Boyer</a>, <a href=\"/wiki/Karlheinz_Brandenburg\" title=\"Karlheinz Brandenburg\">Karlheinz Brandenburg</a>, <a href=\"/wiki/Gilles_Brassard\" title=\"Gilles Brassard\">Gilles Brassard</a>, <a href=\"/wiki/Lawrence_M._Breed\" title=\"Lawrence M. Breed\">Lawrence M. Breed</a>, <a class=\"mw-redirect\" href=\"/wiki/Jack_E._Bresenham\" title=\"Jack E. Bresenham\">Jack E. Bresenham</a>, <a href=\"/wiki/Sergey_Brin\" title=\"Sergey Brin\">Sergey Brin</a>, <a href=\"/wiki/David_J._Brown_(computer_scientist)\" title=\"David J. Brown (computer scientist)\">David J. Brown</a>, <a href=\"/wiki/Per_Brinch_Hansen\" title=\"Per Brinch Hansen\">Per Brinch Hansen</a>, <a href=\"/wiki/Sjaak_Brinkkemper\" title=\"Sjaak Brinkkemper\">Sjaak Brinkkemper</a>, <a href=\"/wiki/Fred_Brooks\" title=\"Fred Brooks\">Fred Brooks</a>, <a class=\"mw-redirect\" href=\"/wiki/Rod_Brooks\" title=\"Rod Brooks\">Rod Brooks</a>, <a href=\"/wiki/Margaret_Burnett\" title=\"Margaret Burnett\">Margaret Burnett</a>, <a href=\"/wiki/Rod_Burstall\" title=\"Rod Burstall\">Rod Burstall</a>, <a href=\"/wiki/Michael_Butler_(computer_scientist)\" title=\"Michael Butler (computer scientist)\">Michael Butler</a>, <a href=\"/wiki/Pino_Caballero_Gil\" title=\"Pino Caballero Gil\">Pino Caballero Gil</a>, <a href=\"/wiki/Tracy_Camp\" title=\"Tracy Camp\">Tracy Camp</a>, <a href=\"/wiki/Martin_Campbell-Kelly\" title=\"Martin Campbell-Kelly\">Martin Campbell-Kelly</a>, <a href=\"/wiki/Rosemary_Candlin\" title=\"Rosemary Candlin\">Rosemary Candlin</a>, <a href=\"/wiki/Rod_Canion\" title=\"Rod Canion\">Rod Canion</a>, <a href=\"/wiki/Bryan_Cantrill\" title=\"Bryan Cantrill\">Bryan Cantrill</a>, <a href=\"/wiki/Luca_Cardelli\" title=\"Luca Cardelli\">Luca Cardelli</a>, <a href=\"/wiki/John_Carmack\" title=\"John Carmack\">John Carmack</a>, <a href=\"/wiki/Michael_E._Caspersen\" title=\"Michael E. Caspersen\">Michael Caspersen</a>, <a href=\"/wiki/Edwin_Catmull\" title=\"Edwin Catmull\">Edwin Catmull</a>, <a href=\"/wiki/Vint_Cerf\" title=\"Vint Cerf\">Vint Cerf</a>, <a href=\"/wiki/Gregory_Chaitin\" title=\"Gregory Chaitin\">Gregory Chaitin</a>, <a href=\"/wiki/Robert_Cailliau\" title=\"Robert Cailliau\">Robert Cailliau</a>, <a href=\"/wiki/Zhou_Chaochen\" title=\"Zhou Chaochen\">Zhou Chaochen</a>, <a href=\"/wiki/Peter_Chen\" title=\"Peter Chen\">Peter Chen</a>, <a href=\"/wiki/Leonardo_Chiariglione\" title=\"Leonardo Chiariglione\">Leonardo Chiariglione</a>, <a href=\"/wiki/Tracy_Chou_(software_engineer)\" title=\"Tracy Chou (software engineer)\">Tracy Chou</a>, <a href=\"/wiki/Alonzo_Church\" title=\"Alonzo Church\">Alonzo Church</a>, <a href=\"/wiki/Alberto_Ciaramella\" title=\"Alberto Ciaramella\">Alberto Ciaramella</a>, <a href=\"/wiki/Edmund_M._Clarke\" title=\"Edmund M. Clarke\">Edmund M. Clarke</a>, <a href=\"/wiki/John_Cocke_(computer_scientist)\" title=\"John Cocke (computer scientist)\">John Cocke</a>, <a href=\"/wiki/Edgar_F._Codd\" title=\"Edgar F. Codd\">Edgar F. Codd</a>, <a href=\"/wiki/Jacques_Cohen_(computer_scientist)\" title=\"Jacques Cohen (computer scientist)\">Jacques Cohen</a>, <a href=\"/wiki/Ian_Coldwater\" title=\"Ian Coldwater\">Ian Coldwater</a>, <a href=\"/wiki/Simon_Colton\" title=\"Simon Colton\">Simon Colton</a>, <a href=\"/wiki/Alain_Colmerauer\" title=\"Alain Colmerauer\">Alain Colmerauer</a>, <a href=\"/wiki/Douglas_Comer\" title=\"Douglas Comer\">Douglas Comer</a>, <a href=\"/wiki/Paul_Justin_Compton\" title=\"Paul Justin Compton\">Paul Justin Compton</a>, <a href=\"/wiki/Richard_W._Conway\" title=\"Richard W. Conway\">Richard W. Conway</a>, <a href=\"/wiki/Stephen_Cook\" title=\"Stephen Cook\">Stephen Cook</a>, <a href=\"/wiki/James_Cooley\" title=\"James Cooley\">James Cooley</a>, <a href=\"/wiki/Steven_Anson_Coons\" title=\"Steven Anson Coons\">Steven Anson Coons</a>, <a href=\"/wiki/Danese_Cooper\" title=\"Danese Cooper\">Danese Cooper</a>, <a href=\"/wiki/Fernando_J._Corbat%C3%B3\" title=\"Fernando J. Corbató\">Fernando J. Corbató</a>, <a href=\"/wiki/Gordon_Cormack\" title=\"Gordon Cormack\">Gordon Cormack</a>, <a href=\"/wiki/Kit_Cosper\" title=\"Kit Cosper\">Kit Cosper</a>, <a href=\"/wiki/Patrick_Cousot\" title=\"Patrick Cousot\">Patrick Cousot</a>, <a href=\"/wiki/Ingemar_Cox\" title=\"Ingemar Cox\">Ingemar Cox</a>, <a href=\"/wiki/Damien_Coyle\" title=\"Damien Coyle\">Damien Coyle</a>, <a href=\"/wiki/Seymour_Cray\" title=\"Seymour Cray\">Seymour Cray</a>, <a href=\"/wiki/Nello_Cristianini\" title=\"Nello Cristianini\">Nello Cristianini</a>, <a href=\"/wiki/Jon_Crowcroft\" title=\"Jon Crowcroft\">Jon Crowcroft</a>, <a href=\"/wiki/W._Bruce_Croft\" title=\"W. Bruce Croft\">W. Bruce Croft</a>, <a href=\"/wiki/Glen_Culler\" title=\"Glen Culler\">Glen Culler</a>, <a href=\"/wiki/Haskell_Curry\" title=\"Haskell Curry\">Haskell Curry</a>, <a href=\"/wiki/Luigi_Dadda\" title=\"Luigi Dadda\">Luigi Dadda</a>, <a href=\"/wiki/Ole-Johan_Dahl\" title=\"Ole-Johan Dahl\">Ole-Johan Dahl</a>, <a href=\"/wiki/Ryan_Dahl\" title=\"Ryan Dahl\">Ryan Dahl</a>, <a href=\"/wiki/Andries_van_Dam\" title=\"Andries van Dam\">Andries van Dam</a>, <a href=\"/wiki/Samir_Das\" title=\"Samir Das\">Samir Das</a>, <a href=\"/wiki/Neil_Daswani\" title=\"Neil Daswani\">Neil Daswani</a>, <a href=\"/wiki/Christopher_J._Date\" title=\"Christopher J. Date\">Christopher J. Date</a>, <a href=\"/wiki/Terry_A._Davis\" title=\"Terry A. Davis\">Terry A. Davis</a>, <a href=\"/wiki/Jeff_Dean\" title=\"Jeff Dean\">Jeff Dean</a>, <a href=\"/wiki/Erik_Demaine\" title=\"Erik Demaine\">Erik Demaine</a>, <a href=\"/wiki/Tom_DeMarco\" title=\"Tom DeMarco\">Tom DeMarco</a>, <a href=\"/wiki/Richard_DeMillo\" title=\"Richard DeMillo\">Richard DeMillo</a>, <a href=\"/wiki/Dorothy_E._Denning\" title=\"Dorothy E. Denning\">Dorothy E. Denning</a>, <a href=\"/wiki/Peter_J._Denning\" title=\"Peter J. Denning\">Peter J. Denning</a>, <a href=\"/wiki/Michael_Dertouzos\" title=\"Michael Dertouzos\">Michael Dertouzos</a>, <a class=\"mw-redirect\" href=\"/wiki/Alexander_Dewdney\" title=\"Alexander Dewdney\">Alexander Dewdney</a>, <a href=\"/wiki/Robert_Dewar\" title=\"Robert Dewar\">Robert Dewar</a>, <a href=\"/wiki/Vinod_Dham\" title=\"Vinod Dham\">Vinod Dham</a>, <a href=\"/wiki/Jan_Dietz\" title=\"Jan Dietz\">Jan Dietz</a>, <a href=\"/wiki/Whitfield_Diffie\" title=\"Whitfield Diffie\">Whitfield Diffie</a>, <a href=\"/wiki/Edsger_W._Dijkstra\" title=\"Edsger W. Dijkstra\">Edsger W. Dijkstra</a>, <a href=\"/wiki/Matthew_Dillon\" title=\"Matthew Dillon\">Matthew Dillon</a>, <a href=\"/wiki/Alan_Dix\" title=\"Alan Dix\">Alan Dix</a>, <a href=\"/wiki/Jack_Dongarra\" title=\"Jack Dongarra\">Jack Dongarra</a>, <a href=\"/wiki/Marco_Dorigo\" title=\"Marco Dorigo\">Marco Dorigo</a>, <a href=\"/wiki/Paul_Dourish\" title=\"Paul Dourish\">Paul Dourish</a>, <a href=\"/wiki/Charles_Stark_Draper\" title=\"Charles Stark Draper\">Charles Stark Draper</a>, <a href=\"/wiki/Susan_Dumais\" title=\"Susan Dumais\">Susan Dumais</a>, <a href=\"/wiki/Adam_Dunkels\" title=\"Adam Dunkels\">Adam Dunkels</a>, <a href=\"/wiki/Jon_Michael_Dunn\" title=\"Jon Michael Dunn\">Jon Michael Dunn</a>, <a href=\"/wiki/Schahram_Dustdar\" title=\"Schahram Dustdar\">Schahram Dustdar</a>, <a href=\"/wiki/Peter_Eades\" title=\"Peter Eades\">Peter Eades</a>, <a href=\"/wiki/Annie_Easley\" title=\"Annie Easley\">Annie Easley</a>, <a href=\"/wiki/Wim_Ebbinkhuijsen\" title=\"Wim Ebbinkhuijsen\">Wim Ebbinkhuijsen</a>, <a class=\"mw-redirect\" href=\"/wiki/John_Presper_Eckert\" title=\"John Presper Eckert\">John Presper Eckert</a>, <a href=\"/wiki/Alan_Edelman\" title=\"Alan Edelman\">Alan Edelman</a>, <a href=\"/wiki/Brendan_Eich\" title=\"Brendan Eich\">Brendan Eich</a>, <a href=\"/wiki/Philip_Emeagwali\" title=\"Philip Emeagwali\">Philip Emeagwali</a>, <a href=\"/wiki/E._Allen_Emerson\" title=\"E. Allen Emerson\">E. Allen Emerson</a>, <a href=\"/wiki/Douglas_Engelbart\" title=\"Douglas Engelbart\">Douglas Engelbart</a>, <a href=\"/wiki/Barbara_Engelhardt\" title=\"Barbara Engelhardt\">Barbara Engelhardt</a>, <a href=\"/wiki/David_Eppstein\" title=\"David Eppstein\">David Eppstein</a>, <a class=\"mw-redirect\" href=\"/wiki/Andrey_Ershov\" title=\"Andrey Ershov\">Andrey Ershov</a>, <a class=\"mw-redirect\" href=\"/wiki/Don_Estridge\" title=\"Don Estridge\">Don Estridge</a>, <a href=\"/wiki/Oren_Etzioni\" title=\"Oren Etzioni\">Oren Etzioni</a>, <a class=\"mw-redirect\" href=\"/wiki/Christopher_Riche_Evans\" title=\"Christopher Riche Evans\">Christopher Riche Evans</a>, <a href=\"/wiki/David_C._Evans\" title=\"David C. Evans\">David C. Evans</a>, <a href=\"/wiki/Shimon_Even\" title=\"Shimon Even\">Shimon Even</a>, <a href=\"/wiki/Scott_Fahlman\" title=\"Scott Fahlman\">Scott Fahlman</a>, <a href=\"/wiki/Edward_Feigenbaum\" title=\"Edward Feigenbaum\">Edward Feigenbaum</a>, <a href=\"/wiki/Edward_Felten\" title=\"Edward Felten\">Edward Felten</a>, <a href=\"/wiki/Tim_Finin\" title=\"Tim Finin\">Tim Finin</a>, <a href=\"/wiki/Raphael_Finkel\" title=\"Raphael Finkel\">Raphael Finkel</a>, <a href=\"/wiki/Donald_Firesmith\" title=\"Donald Firesmith\">Donald Firesmith</a>, <a href=\"/wiki/Gary_William_Flake\" title=\"Gary William Flake\">Gary William Flake</a>, <a href=\"/wiki/Tommy_Flowers\" title=\"Tommy Flowers\">Tommy Flowers</a>, <a href=\"/wiki/Robert_W._Floyd\" title=\"Robert W. Floyd\">Robert Floyd</a>, <a href=\"/wiki/Sally_Floyd\" title=\"Sally Floyd\">Sally Floyd</a>, <a href=\"/wiki/Lawrence_J._Fogel\" title=\"Lawrence J. Fogel\">Lawrence J. Fogel</a>, <a href=\"/wiki/James_D._Foley\" title=\"James D. Foley\">James D. Foley</a>, <a href=\"/wiki/Ken_Forbus\" title=\"Ken Forbus\">Ken Forbus</a>, <a class=\"mw-redirect\" href=\"/wiki/L._R._Ford,_Jr.\" title=\"L. R. Ford, Jr.\">L. R. Ford, Jr.</a>, <a href=\"/wiki/Lance_Fortnow\" title=\"Lance Fortnow\">Lance Fortnow</a>, <a href=\"/wiki/Mahmoud_Samir_Fayed\" title=\"Mahmoud Samir Fayed\">Mahmoud Samir Fayed</a>, <a href=\"/wiki/Martin_Fowler_(software_engineer)\" title=\"Martin Fowler (software engineer)\">Martin Fowler</a>, <a href=\"/wiki/Robert_France\" title=\"Robert France\">Robert France</a>, <a href=\"/wiki/Herbert_W._Franke\" title=\"Herbert W. Franke\">Herbert W. Franke</a>, <a href=\"/wiki/Edward_Fredkin\" title=\"Edward Fredkin\">Edward Fredkin</a>, <a href=\"/wiki/Yoav_Freund\" title=\"Yoav Freund\">Yoav Freund</a>, <a href=\"/wiki/Daniel_P._Friedman\" title=\"Daniel P. Friedman\">Daniel P. Friedman</a>, <a href=\"/wiki/Charlotte_Froese_Fischer\" title=\"Charlotte Froese Fischer\">Charlotte Froese Fischer</a>, <a href=\"/wiki/Ping_Fu\" title=\"Ping Fu\">Ping Fu</a>, <a href=\"/wiki/Xiaoming_Fu\" title=\"Xiaoming Fu\">Xiaoming Fu</a>, <a href=\"/wiki/Kunihiko_Fukushima\" title=\"Kunihiko Fukushima\">Kunihiko Fukushima</a>, <a href=\"/wiki/D._R._Fulkerson\" title=\"D. R. Fulkerson\">D. R. Fulkerson</a>, <a href=\"/wiki/Richard_P._Gabriel\" title=\"Richard P. Gabriel\">Richard P. Gabriel</a>, <a href=\"/wiki/Zvi_Galil\" title=\"Zvi Galil\">Zvi Galil</a>, <a href=\"/wiki/Bernard_Galler\" title=\"Bernard Galler\">Bernard Galler</a>, <a class=\"mw-redirect\" href=\"/wiki/Hector_Garcia-Molina\" title=\"Hector Garcia-Molina\">Hector Garcia-Molina</a>, <a href=\"/wiki/Michael_Garey\" title=\"Michael Garey\">Michael Garey</a>, <a href=\"/wiki/Hugo_de_Garis\" title=\"Hugo de Garis\">Hugo de Garis</a>, <a href=\"/wiki/Bill_Gates\" title=\"Bill Gates\">Bill Gates</a>, <a href=\"/wiki/David_Gelernter\" title=\"David Gelernter\">David Gelernter</a>, <a href=\"/wiki/Lisa_Gelobter\" title=\"Lisa Gelobter\">Lisa Gelobter</a>, <a href=\"/wiki/Charles_Geschke\" title=\"Charles Geschke\">Charles Geschke</a>, <a href=\"/wiki/Zoubin_Ghahramani\" title=\"Zoubin Ghahramani\">Zoubin Ghahramani</a>, <a href=\"/wiki/Sanjay_Ghemawat\" title=\"Sanjay Ghemawat\">Sanjay Ghemawat</a>, <a href=\"/wiki/Jeremy_Gibbons\" title=\"Jeremy Gibbons\">Jeremy Gibbons</a>, <a href=\"/wiki/Juan_E._Gilbert\" title=\"Juan E. Gilbert\">Juan E. Gilbert</a>, <a href=\"/wiki/Lee_Giles\" title=\"Lee Giles\">Lee Giles</a>, <a href=\"/wiki/Seymour_Ginsburg\" title=\"Seymour Ginsburg\">Seymour Ginsburg</a>, <a href=\"/wiki/Robert_L._Glass\" title=\"Robert L. Glass\">Robert L. Glass</a>, <a href=\"/wiki/Kurt_G%C3%B6del\" title=\"Kurt Gödel\">Kurt Gödel</a>, <a href=\"/wiki/Ashok_Goel\" title=\"Ashok Goel\">Ashok Goel</a>, <a href=\"/wiki/Joseph_Goguen\" title=\"Joseph Goguen\">Joseph Goguen</a>, <a href=\"/wiki/E._Mark_Gold\" title=\"E. Mark Gold\">E. Mark Gold</a>, <a href=\"/wiki/Adele_Goldberg_(computer_scientist)\" title=\"Adele Goldberg (computer scientist)\">Adele Goldberg</a>, <a href=\"/wiki/Andrew_V._Goldberg\" title=\"Andrew V. Goldberg\">Andrew V. Goldberg</a>, <a href=\"/wiki/Ian_Goldberg\" title=\"Ian Goldberg\">Ian Goldberg</a>, <a href=\"/wiki/Judy_Goldsmith_(computer_scientist)\" title=\"Judy Goldsmith (computer scientist)\">Judy Goldsmith</a>, <a href=\"/wiki/Oded_Goldreich\" title=\"Oded Goldreich\">Oded Goldreich</a>, <a href=\"/wiki/Shafi_Goldwasser\" title=\"Shafi Goldwasser\">Shafi Goldwasser</a>, <a class=\"mw-redirect\" href=\"/wiki/Gene_Golub\" title=\"Gene Golub\">Gene Golub</a>, <a href=\"/wiki/Martin_Charles_Golumbic\" title=\"Martin Charles Golumbic\">Martin Charles Golumbic</a>, <a class=\"mw-redirect\" href=\"/wiki/Gast%C3%B3n_Gonnet\" title=\"Gastón Gonnet\">Gastón Gonnet</a>, <a href=\"/wiki/Ian_Goodfellow\" title=\"Ian Goodfellow\">Ian Goodfellow</a>, <a href=\"/wiki/James_Gosling\" title=\"James Gosling\">James Gosling</a>, <a class=\"mw-redirect\" href=\"/wiki/Paul_Graham_(computer_programmer)\" title=\"Paul Graham (computer programmer)\">Paul Graham</a>, <a href=\"/wiki/Robert_M._Graham_(computer_scientist)\" title=\"Robert M. Graham (computer scientist)\">Robert M. Graham</a>, <a href=\"/wiki/Susan_L._Graham\" title=\"Susan L. Graham\">Susan L. Graham</a>, <a href=\"/wiki/Jim_Gray_(computer_scientist)\" title=\"Jim Gray (computer scientist)\">Jim Gray</a>, <a href=\"/wiki/Sheila_Greibach\" title=\"Sheila Greibach\">Sheila Greibach</a>, <a href=\"/wiki/David_Gries\" title=\"David Gries\">David Gries</a>, <a href=\"/wiki/Robert_Griesemer\" title=\"Robert Griesemer\">Robert Griesemer</a>, <a href=\"/wiki/Ralph_Griswold\" title=\"Ralph Griswold\">Ralph Griswold</a>, <a href=\"/wiki/Bill_Gropp\" title=\"Bill Gropp\">Bill Gropp</a>, <a href=\"/wiki/Tom_Gruber\" title=\"Tom Gruber\">Tom Gruber</a>, <a href=\"/wiki/Shelia_Guberman\" title=\"Shelia Guberman\">Shelia Guberman</a>, <a href=\"/wiki/Ramanathan_V._Guha\" title=\"Ramanathan V. Guha\">Ramanathan V. Guha</a>, <a href=\"/wiki/Neil_J._Gunther\" title=\"Neil J. Gunther\">Neil J. Gunther</a>, <a href=\"/wiki/J%C3%BCrg_Gutknecht\" title=\"Jürg Gutknecht\">Jürg Gutknecht</a>, <a href=\"/wiki/Michael_Guy\" title=\"Michael Guy\">Michael Guy</a>, <a class=\"new\" href=\"/w/index.php?title=Giri_Topper&amp;action=edit&amp;redlink=1\" title=\"Giri Topper (page does not exist)\">Giri Topper</a>, <a href=\"/wiki/Nico_Habermann\" title=\"Nico Habermann\">Nico Habermann</a>, <a href=\"/wiki/Philipp_Matth%C3%A4us_Hahn\" title=\"Philipp Matthäus Hahn\">Philipp Matthäus Hahn</a>, <a href=\"/wiki/Eldon_C._Hall\" title=\"Eldon C. Hall\">Eldon C. Hall</a>, <a href=\"/wiki/Wendy_Hall\" title=\"Wendy Hall\">Wendy Hall</a>, <a href=\"/wiki/Joseph_Halpern\" title=\"Joseph Halpern\">Joseph Halpern</a>, <a href=\"/wiki/Margaret_Hamilton_(software_engineer)\" title=\"Margaret Hamilton (software engineer)\">Margaret Hamilton</a>, <a href=\"/wiki/Richard_Hamming\" title=\"Richard Hamming\">Richard Hamming</a>, <a href=\"/wiki/Jiawei_Han\" title=\"Jiawei Han\">Jiawei Han</a>, <a href=\"/wiki/Frank_Harary\" title=\"Frank Harary\">Frank Harary</a>, <a href=\"/wiki/Brian_Harris_(translation_researcher)\" title=\"Brian Harris (translation researcher)\">Brian Harris</a>, <a href=\"/wiki/Juris_Hartmanis\" title=\"Juris Hartmanis\">Juris Hartmanis</a>, <a href=\"/wiki/Johan_H%C3%A5stad\" title=\"Johan Håstad\">Johan Håstad</a>, <a href=\"/wiki/Les_Hatton\" title=\"Les Hatton\">Les Hatton</a>, <a href=\"/wiki/Igor_Hawryszkiewycz\" title=\"Igor Hawryszkiewycz\">Igor Hawryszkiewycz</a>, <a href=\"/wiki/He_Jifeng\" title=\"He Jifeng\">He Jifeng</a>, <a href=\"/wiki/Eric_Hehner\" title=\"Eric Hehner\">Eric Hehner</a>, <a href=\"/wiki/Martin_Hellman\" title=\"Martin Hellman\">Martin Hellman</a>, <a href=\"/wiki/Gernot_Heiser\" title=\"Gernot Heiser\">Gernot Heiser</a>, <a href=\"/wiki/James_Hendler\" title=\"James Hendler\">James Hendler</a>, <a href=\"/wiki/John_L._Hennessy\" title=\"John L. Hennessy\">John L. Hennessy</a>, <a href=\"/wiki/Andrew_Herbert\" title=\"Andrew Herbert\">Andrew Herbert</a>, <a href=\"/wiki/Carl_Hewitt\" title=\"Carl Hewitt\">Carl Hewitt</a>, <a href=\"/wiki/Kelsey_Hightower\" title=\"Kelsey Hightower\">Kelsey Hightower</a>, <a href=\"/wiki/Danny_Hillis\" title=\"Danny Hillis\">Danny Hillis</a>, <a href=\"/wiki/Geoffrey_Hinton\" title=\"Geoffrey Hinton\">Geoffrey Hinton</a>, <a href=\"/wiki/Julia_Hirschberg\" title=\"Julia Hirschberg\">Julia Hirschberg</a>, <a href=\"/wiki/Tin_Kam_Ho\" title=\"Tin Kam Ho\">Tin Kam Ho</a>, <a class=\"mw-redirect\" href=\"/wiki/C._A._R._Hoare\" title=\"C. A. R. Hoare\">C. A. R. Hoare</a>, <a href=\"/wiki/Louis_Hodes\" title=\"Louis Hodes\">Louis Hodes</a>, <a href=\"/wiki/Betty_Holberton\" title=\"Betty Holberton\">Betty Holberton</a>, <a href=\"/wiki/John_Henry_Holland\" title=\"John Henry Holland\">John Henry Holland</a>, <a href=\"/wiki/Herman_Hollerith\" title=\"Herman Hollerith\">Herman Hollerith</a>, <a class=\"mw-redirect\" href=\"/wiki/Gerard_Holzmann\" title=\"Gerard Holzmann\">Gerard Holzmann</a>, <a href=\"/wiki/John_Hopcroft\" title=\"John Hopcroft\">John Hopcroft</a>, <a href=\"/wiki/Grace_Hopper\" title=\"Grace Hopper\">Grace Hopper</a>, <a href=\"/wiki/Eric_Horvitz\" title=\"Eric Horvitz\">Eric Horvitz</a>, <a class=\"mw-redirect\" href=\"/wiki/Alston_Householder\" title=\"Alston Householder\">Alston Householder</a>, <a href=\"/wiki/Paul_Hudak\" title=\"Paul Hudak\">Paul Hudak</a>, <a href=\"/wiki/David_A._Huffman\" title=\"David A. Huffman\">David A. Huffman</a>, <a href=\"/wiki/John_Hughes_(computer_scientist)\" title=\"John Hughes (computer scientist)\">John Hughes</a>, <a href=\"/wiki/Roger_Hui\" title=\"Roger Hui\">Roger Hui</a>, <a href=\"/wiki/Watts_Humphrey\" title=\"Watts Humphrey\">Watts Humphrey</a>, <a href=\"/wiki/Sandra_Hutchins\" title=\"Sandra Hutchins\">Sandra Hutchins</a>, <a href=\"/wiki/Jean_Ichbiah\" title=\"Jean Ichbiah\">Jean Ichbiah</a>, <a href=\"/wiki/Roberto_Ierusalimschy\" title=\"Roberto Ierusalimschy\">Roberto Ierusalimschy</a>, <a href=\"/wiki/Dan_Ingalls\" title=\"Dan Ingalls\">Dan Ingalls</a>, <a href=\"/wiki/Mary_Jane_Irwin\" title=\"Mary Jane Irwin\">Mary Jane Irwin</a>, <a href=\"/wiki/Kenneth_E._Iverson\" title=\"Kenneth E. Iverson\">Kenneth E. Iverson</a>, <a href=\"/wiki/Ivar_Jacobson\" title=\"Ivar Jacobson\">Ivar Jacobson</a>, <a href=\"/wiki/Anil_K._Jain_(computer_scientist,_born_1948)\" title=\"Anil K. Jain (computer scientist, born 1948)\">Anil K. Jain</a>, <a href=\"/wiki/Ramesh_Jain\" title=\"Ramesh Jain\">Ramesh Jain</a>, <a href=\"/wiki/Jonathan_James\" title=\"Jonathan James\">Jonathan James</a>, <a href=\"/wiki/Jordi_Ustrell_Aguil%C3%A0\" title=\"Jordi Ustrell Aguilà\">Jordi Ustrell Aguilà</a>, <a href=\"/wiki/David_S._Johnson\" title=\"David S. Johnson\">David S. Johnson</a>, <a href=\"/wiki/Stephen_C._Johnson\" title=\"Stephen C. Johnson\">Stephen C. Johnson</a>, <a href=\"/wiki/Angie_Jones\" title=\"Angie Jones\">Angie Jones</a>, <a href=\"/wiki/Cliff_Jones_(computer_scientist)\" title=\"Cliff Jones (computer scientist)\">Cliff Jones</a>, <a href=\"/wiki/Michael_I._Jordan\" title=\"Michael I. Jordan\">Michael I. Jordan</a>, <a href=\"/wiki/Mathai_Joseph\" title=\"Mathai Joseph\">Mathai Joseph</a>, <a class=\"mw-redirect\" href=\"/wiki/Aravind_K._Joshi\" title=\"Aravind K. Joshi\">Aravind K. Joshi</a>, <a href=\"/wiki/Bill_Joy\" title=\"Bill Joy\">Bill Joy</a>, <a href=\"/wiki/Dan_Jurafsky\" title=\"Dan Jurafsky\">Dan Jurafsky</a>, <a href=\"/wiki/William_Kahan\" title=\"William Kahan\">William Kahan</a>, <a class=\"mw-redirect\" href=\"/wiki/Robert_E._Kahn\" title=\"Robert E. Kahn\">Robert E. Kahn</a>, <a href=\"/wiki/Avinash_Kak\" title=\"Avinash Kak\">Avinash Kak</a>, <a href=\"/wiki/Poul-Henning_Kamp\" title=\"Poul-Henning Kamp\">Poul-Henning Kamp</a>, <a href=\"/wiki/David_Karger\" title=\"David Karger\">David Karger</a>, <a class=\"mw-redirect\" href=\"/wiki/Richard_Karp\" title=\"Richard Karp\">Richard Karp</a>, <a href=\"/wiki/Narendra_Karmarkar\" title=\"Narendra Karmarkar\">Narendra Karmarkar</a>, <a href=\"/wiki/Marek_Karpinski\" title=\"Marek Karpinski\">Marek Karpinski</a>, <a href=\"/wiki/Ted_Kaehler\" title=\"Ted Kaehler\">Ted Kaehler</a>, <a href=\"/wiki/Alan_Kay\" title=\"Alan Kay\">Alan Kay</a>, <a href=\"/wiki/Neeraj_Kayal\" title=\"Neeraj Kayal\">Neeraj Kayal</a>, <a href=\"/wiki/Manolis_Kellis\" title=\"Manolis Kellis\">Manolis Kellis</a>, <a class=\"mw-redirect\" href=\"/wiki/John_George_Kemeny\" title=\"John George Kemeny\">John George Kemeny</a>, <a href=\"/wiki/Ken_Kennedy_(computer_scientist)\" title=\"Ken Kennedy (computer scientist)\">Ken Kennedy</a>, <a href=\"/wiki/Brian_Kernighan\" title=\"Brian Kernighan\">Brian Kernighan</a>, <a href=\"/wiki/Carl_Kesselman\" title=\"Carl Kesselman\">Carl Kesselman</a>, <a href=\"/wiki/Gregor_Kiczales\" title=\"Gregor Kiczales\">Gregor Kiczales</a>, <a href=\"/wiki/Peter_T._Kirstein\" title=\"Peter T. Kirstein\">Peter T. Kirstein</a>, <a href=\"/wiki/Stephen_Cole_Kleene\" title=\"Stephen Cole Kleene\">Stephen Cole Kleene</a>, <a href=\"/wiki/Dan_Klein\" title=\"Dan Klein\">Dan Klein</a>, <a href=\"/wiki/Leonard_Kleinrock\" title=\"Leonard Kleinrock\">Leonard Kleinrock</a>, <a href=\"/wiki/Donald_Knuth\" title=\"Donald Knuth\">Donald Knuth</a>, <a href=\"/wiki/Andrew_Koenig_(programmer)\" title=\"Andrew Koenig (programmer)\">Andrew Koenig</a>, <a href=\"/wiki/Daphne_Koller\" title=\"Daphne Koller\">Daphne Koller</a>, <a href=\"/wiki/Michael_K%C3%B6lling\" title=\"Michael Kölling\">Michael Kölling</a>, <a class=\"mw-redirect\" href=\"/wiki/Andrey_Nikolaevich_Kolmogorov\" title=\"Andrey Nikolaevich Kolmogorov\">Andrey Nikolaevich Kolmogorov</a>, <a href=\"/wiki/Janet_L._Kolodner\" title=\"Janet L. Kolodner\">Janet L. Kolodner</a>, <a href=\"/wiki/David_Korn_(computer_scientist)\" title=\"David Korn (computer scientist)\">David Korn</a>, <a class=\"mw-redirect\" href=\"/wiki/Kees_Koster\" title=\"Kees Koster\">Kees Koster</a>, <a href=\"/wiki/Robert_Kowalski\" title=\"Robert Kowalski\">Robert Kowalski</a>, <a href=\"/wiki/John_Koza\" title=\"John Koza\">John Koza</a>, <a href=\"/wiki/John_Krogstie\" title=\"John Krogstie\">John Krogstie</a>, <a href=\"/wiki/Joseph_Kruskal\" title=\"Joseph Kruskal\">Joseph Kruskal</a>, <a href=\"/wiki/Maarja_Kruusmaa\" title=\"Maarja Kruusmaa\">Maarja Kruusmaa</a>, <a href=\"/wiki/Thomas_E._Kurtz\" title=\"Thomas E. Kurtz\">Thomas E. Kurtz</a>, <a href=\"/wiki/Richard_E._Ladner\" title=\"Richard E. Ladner\">Richard E. Ladner</a>, <a href=\"/wiki/Monica_S._Lam\" title=\"Monica S. Lam\">Monica S. Lam</a>, <a href=\"/wiki/Leslie_Lamport\" title=\"Leslie Lamport\">Leslie Lamport</a>, <a href=\"/wiki/Butler_Lampson\" title=\"Butler Lampson\">Butler Lampson</a>, <a href=\"/wiki/Peter_Landin\" title=\"Peter Landin\">Peter Landin</a>, <a href=\"/wiki/Tom_Lane_(computer_scientist)\" title=\"Tom Lane (computer scientist)\">Tom Lane</a>, <a href=\"/wiki/B%C3%B6rje_Langefors\" title=\"Börje Langefors\">Börje Langefors</a>, <a href=\"/wiki/Chris_Lattner\" title=\"Chris Lattner\">Chris Lattner</a>, <a href=\"/wiki/Steve_Lawrence_(computer_scientist)\" title=\"Steve Lawrence (computer scientist)\">Steve Lawrence</a>, <a class=\"mw-redirect\" href=\"/wiki/Edward_D._Lazowska\" title=\"Edward D. Lazowska\">Edward D. Lazowska</a>, <a href=\"/wiki/Joshua_Lederberg\" title=\"Joshua Lederberg\">Joshua Lederberg</a>, <a class=\"mw-redirect\" href=\"/wiki/Manny_M_Lehman\" title=\"Manny M Lehman\">Manny M Lehman</a>, <a href=\"/wiki/Charles_E._Leiserson\" title=\"Charles E. Leiserson\">Charles E. Leiserson</a>, <a href=\"/wiki/Douglas_Lenat\" title=\"Douglas Lenat\">Douglas Lenat</a>, <a href=\"/wiki/Yann_LeCun\" title=\"Yann LeCun\">Yann LeCun</a>, <a href=\"/wiki/Rasmus_Lerdorf\" title=\"Rasmus Lerdorf\">Rasmus Lerdorf</a>, <a href=\"/wiki/Max_Levchin\" title=\"Max Levchin\">Max Levchin</a>, <a href=\"/wiki/Leonid_Levin\" title=\"Leonid Levin\">Leonid Levin</a>, <a href=\"/wiki/Kevin_Leyton-Brown\" title=\"Kevin Leyton-Brown\">Kevin Leyton-Brown</a>, <a class=\"mw-redirect\" href=\"/wiki/J.C.R._Licklider\" title=\"J.C.R. Licklider\">J.C.R. Licklider</a>, <a href=\"/wiki/David_Liddle\" title=\"David Liddle\">David Liddle</a>, <a href=\"/wiki/Jochen_Liedtke\" title=\"Jochen Liedtke\">Jochen Liedtke</a>, <a href=\"/wiki/John_Lions\" title=\"John Lions\">John Lions</a>, <a href=\"/wiki/Charles_H._Lindsey\" title=\"Charles H. Lindsey\">Charles H. Lindsey</a>, <a class=\"mw-redirect\" href=\"/wiki/Richard_J._Lipton\" title=\"Richard J. Lipton\">Richard J. Lipton</a>, <a href=\"/wiki/Barbara_Liskov\" title=\"Barbara Liskov\">Barbara Liskov</a>, <a href=\"/wiki/Yanhong_Annie_Liu\" title=\"Yanhong Annie Liu\">Yanhong Annie Liu</a>, <a href=\"/wiki/Darrell_Long\" title=\"Darrell Long\">Darrell Long</a>, <a href=\"/wiki/Patricia_D._Lopez\" title=\"Patricia D. Lopez\">Patricia D. Lopez</a>, <a href=\"/wiki/Gillian_Lovegrove\" title=\"Gillian Lovegrove\">Gillian Lovegrove</a>, <a href=\"/wiki/Ada_Lovelace\" title=\"Ada Lovelace\">Ada Lovelace</a>, <a href=\"/wiki/David_Luckham\" title=\"David Luckham\">David Luckham</a>, <a class=\"mw-redirect\" href=\"/wiki/Eugene_Luks\" title=\"Eugene Luks\">Eugene Luks</a>, <a href=\"/wiki/Nancy_Lynch\" title=\"Nancy Lynch\">Nancy Lynch</a>, <a href=\"/wiki/Nadia_Magnenat_Thalmann\" title=\"Nadia Magnenat Thalmann\">Nadia Magnenat Thalmann</a>, <a href=\"/wiki/Tom_Maibaum\" title=\"Tom Maibaum\">Tom Maibaum</a>, <a href=\"/wiki/George_Mallen\" title=\"George Mallen\">George Mallen</a>, <a href=\"/wiki/Simon_Marlow\" title=\"Simon Marlow\">Simon Marlow</a>, <a href=\"/wiki/Zohar_Manna\" title=\"Zohar Manna\">Zohar Manna</a>, <a href=\"/wiki/James_Martin_(author)\" title=\"James Martin (author)\">James Martin</a>, <a href=\"/wiki/Robert_C._Martin\" title=\"Robert C. Martin\">Robert C. Martin</a>, <a href=\"/wiki/John_Mashey\" title=\"John Mashey\">John Mashey</a>, <a href=\"/wiki/Yuri_Matiyasevich\" title=\"Yuri Matiyasevich\">Yuri Matiyasevich</a>, <a href=\"/wiki/Yukihiro_Matsumoto\" title=\"Yukihiro Matsumoto\">Yukihiro Matsumoto</a>, <a href=\"/wiki/John_Mauchly\" title=\"John Mauchly\">John Mauchly</a>, <a href=\"/wiki/Ujjwal_Maulik\" title=\"Ujjwal Maulik\">Ujjwal Maulik</a>, <a href=\"/wiki/Derek_McAuley\" title=\"Derek McAuley\">Derek McAuley</a>, <a href=\"/wiki/Conor_McBride\" title=\"Conor McBride\">Conor McBride</a>, <a href=\"/wiki/John_McCarthy_(computer_scientist)\" title=\"John McCarthy (computer scientist)\">John McCarthy</a>, <a href=\"/wiki/Andrew_McCallum\" title=\"Andrew McCallum\">Andrew McCallum</a>, <a href=\"/wiki/Douglas_McIlroy\" title=\"Douglas McIlroy\">Douglas McIlroy</a>, <a href=\"/wiki/Chris_McKinstry\" title=\"Chris McKinstry\">Chris McKinstry</a>, <a href=\"/wiki/Marshall_Kirk_McKusick\" title=\"Marshall Kirk McKusick\">Marshall Kirk McKusick</a>, <a href=\"/wiki/Lambert_Meertens\" title=\"Lambert Meertens\">Lambert Meertens</a>, <a href=\"/wiki/Kurt_Mehlhorn\" title=\"Kurt Mehlhorn\">Kurt Mehlhorn</a>, <a href=\"/wiki/Dora_Metcalf\" title=\"Dora Metcalf\">Dora Metcalf</a>, <a href=\"/wiki/Bertrand_Meyer\" title=\"Bertrand Meyer\">Bertrand Meyer</a>, <a href=\"/wiki/Silvio_Micali\" title=\"Silvio Micali\">Silvio Micali</a>, <a href=\"/wiki/Robin_Milner\" title=\"Robin Milner\">Robin Milner</a>, <a href=\"/wiki/Jack_Minker\" title=\"Jack Minker\">Jack Minker</a>, <a href=\"/wiki/Marvin_Minsky\" title=\"Marvin Minsky\">Marvin Minsky</a>, <a href=\"/wiki/James_G._Mitchell\" title=\"James G. Mitchell\">James G. Mitchell</a>, <a href=\"/wiki/Tom_M._Mitchell\" title=\"Tom M. Mitchell\">Tom M. Mitchell</a>, <a href=\"/wiki/Arvind_(computer_scientist)\" title=\"Arvind (computer scientist)\">Arvind Mithal</a>, <a href=\"/wiki/Paul_Mockapetris\" title=\"Paul Mockapetris\">Paul Mockapetris</a>, <a href=\"/wiki/Cleve_Moler\" title=\"Cleve Moler\">Cleve Moler</a>, <a href=\"/wiki/Faron_Moller\" title=\"Faron Moller\">Faron Moller</a>, <a href=\"/wiki/John_P._Moon\" title=\"John P. Moon\">John P. Moon</a>, <a href=\"/wiki/Charles_H._Moore\" title=\"Charles H. Moore\">Charles H. Moore</a>, <a href=\"/wiki/Edward_F._Moore\" title=\"Edward F. Moore\">Edward F. Moore</a>, <a href=\"/wiki/Gordon_Moore\" title=\"Gordon Moore\">Gordon Moore</a>, <a href=\"/wiki/J_Strother_Moore\" title=\"J Strother Moore\">J Strother Moore</a>, <a href=\"/wiki/Roger_Moore_(computer_scientist)\" title=\"Roger Moore (computer scientist)\">Roger Moore</a>, <a href=\"/wiki/Hans_Moravec\" title=\"Hans Moravec\">Hans Moravec</a>, <a href=\"/wiki/Carroll_Morgan_(computer_scientist)\" title=\"Carroll Morgan (computer scientist)\">Carroll Morgan</a>, <a href=\"/wiki/Robert_Tappan_Morris\" title=\"Robert Tappan Morris\">Robert Tappan Morris</a>, <a href=\"/wiki/Joel_Moses\" title=\"Joel Moses\">Joel Moses</a>, <a href=\"/wiki/Rajeev_Motwani\" title=\"Rajeev Motwani\">Rajeev Motwani</a>, <a href=\"/wiki/Oleg_A._Mukhanov\" title=\"Oleg A. Mukhanov\">Oleg A. Mukhanov</a>, <a href=\"/wiki/Stephen_Muggleton\" title=\"Stephen Muggleton\">Stephen Muggleton</a>, <a href=\"/wiki/Klaus-Robert_M%C3%BCller\" title=\"Klaus-Robert Müller\">Klaus-Robert Müller</a>, <a href=\"/wiki/Alan_Mycroft\" title=\"Alan Mycroft\">Alan Mycroft</a>, <a href=\"/wiki/Brad_A._Myers\" title=\"Brad A. Myers\">Brad A. Myers</a>, <a href=\"/wiki/Mihai_Nadin\" title=\"Mihai Nadin\">Mihai Nadin</a>, <a href=\"/wiki/Makoto_Nagao\" title=\"Makoto Nagao\">Makoto Nagao</a>, <a href=\"/wiki/Frieder_Nake\" title=\"Frieder Nake\">Frieder Nake</a>, <a href=\"/wiki/Bonnie_Nardi\" title=\"Bonnie Nardi\">Bonnie Nardi</a>, <a href=\"/wiki/Peter_Naur\" title=\"Peter Naur\">Peter Naur</a>, <a href=\"/wiki/Roger_Needham\" title=\"Roger Needham\">Roger Needham</a>, <a href=\"/wiki/James_G._Nell\" title=\"James G. Nell\">James G. Nell</a>, <a href=\"/wiki/Greg_Nelson_(computer_scientist)\" title=\"Greg Nelson (computer scientist)\">Greg Nelson</a>, <a href=\"/wiki/Bernard_de_Neumann\" title=\"Bernard de Neumann\">Bernard de Neumann</a>, <a class=\"mw-redirect\" href=\"/wiki/Klara_Dan_von_Neumann\" title=\"Klara Dan von Neumann\">Klara Dan von Neumann</a>, <a href=\"/wiki/John_von_Neumann\" title=\"John von Neumann\">John von Neumann</a>, <a href=\"/wiki/Allen_Newell\" title=\"Allen Newell\">Allen Newell</a>, <a href=\"/wiki/Max_Newman\" title=\"Max Newman\">Max Newman</a>, <a href=\"/wiki/Andrew_Ng\" title=\"Andrew Ng\">Andrew Ng</a>, <a href=\"/wiki/Nils_John_Nilsson\" title=\"Nils John Nilsson\">Nils John Nilsson</a>, <a class=\"mw-redirect\" href=\"/wiki/G.M._Nijssen\" title=\"G.M. Nijssen\">G.M. Nijssen</a>, <a href=\"/wiki/Tobias_Nipkow\" title=\"Tobias Nipkow\">Tobias Nipkow</a>, <a href=\"/wiki/Maurice_Nivat\" title=\"Maurice Nivat\">Maurice Nivat</a>, <a href=\"/wiki/Jerre_Noe\" title=\"Jerre Noe\">Jerre Noe</a>, <a href=\"/wiki/Peter_Nordin\" title=\"Peter Nordin\">Peter Nordin</a>, <a class=\"mw-redirect\" href=\"/wiki/Donald_Norman\" title=\"Donald Norman\">Donald Norman</a>, <a href=\"/wiki/Peter_Norvig\" title=\"Peter Norvig\">Peter Norvig</a>, <a href=\"/wiki/George_Novacky\" title=\"George Novacky\">George Novacky</a>, <a href=\"/wiki/Kristen_Nygaard\" title=\"Kristen Nygaard\">Kristen Nygaard</a>, <a href=\"/wiki/Martin_Odersky\" title=\"Martin Odersky\">Martin Odersky</a>, <a href=\"/wiki/Peter_O%27Hearn\" title=\"Peter O'Hearn\">Peter O'Hearn</a>, <a href=\"/wiki/T._William_Olle\" title=\"T. William Olle\">T. William Olle</a>, <a href=\"/wiki/Steve_Omohundro\" title=\"Steve Omohundro\">Steve Omohundro</a>, <a href=\"/wiki/Severo_Ornstein\" title=\"Severo Ornstein\">Severo Ornstein</a>, <a href=\"/wiki/John_O%27Sullivan_(engineer)\" title=\"John O'Sullivan (engineer)\">John O'Sullivan</a>, <a href=\"/wiki/John_Ousterhout\" title=\"John Ousterhout\">John Ousterhout</a>, <a href=\"/wiki/Mark_Overmars\" title=\"Mark Overmars\">Mark Overmars</a>, <a href=\"/wiki/Susan_Owicki\" title=\"Susan Owicki\">Susan Owicki</a>, <a href=\"/wiki/Larry_Page\" title=\"Larry Page\">Larry Page</a>, <a class=\"mw-redirect\" href=\"/wiki/Sankar_Pal\" title=\"Sankar Pal\">Sankar Pal</a>, <a href=\"/wiki/Paritosh_Pandya\" title=\"Paritosh Pandya\">Paritosh Pandya</a>, <a href=\"/wiki/Christos_Papadimitriou\" title=\"Christos Papadimitriou\">Christos Papadimitriou</a>, <a href=\"/wiki/Keshab_K._Parhi\" title=\"Keshab K. Parhi\">Keshab K. Parhi</a>, <a href=\"/wiki/David_Park_(computer_scientist)\" title=\"David Park (computer scientist)\">David Park</a>, <a href=\"/wiki/David_Parnas\" title=\"David Parnas\">David Parnas</a>, <a href=\"/wiki/DJ_Patil\" title=\"DJ Patil\">DJ Patil</a>, <a href=\"/wiki/Yale_Patt\" title=\"Yale Patt\">Yale Patt</a>, <a href=\"/wiki/David_Patterson_(computer_scientist)\" title=\"David Patterson (computer scientist)\">David Patterson</a>, <a href=\"/wiki/Mike_Paterson\" title=\"Mike Paterson\">Mike Paterson</a>, <a href=\"/wiki/Mihai_P%C4%83tra%C8%99cu_(computer_scientist)\" title=\"Mihai Pătrașcu (computer scientist)\">Mihai Pătraşcu</a>, <a href=\"/wiki/Lawrence_Paulson\" title=\"Lawrence Paulson\">Lawrence Paulson</a>, <a href=\"/wiki/Randy_Pausch\" title=\"Randy Pausch\">Randy Pausch</a>, <a href=\"/wiki/Juan_Pav%C3%B3n\" title=\"Juan Pavón\">Juan Pavón</a>, <a href=\"/wiki/Judea_Pearl\" title=\"Judea Pearl\">Judea Pearl</a>, <a href=\"/wiki/Alan_Perlis\" title=\"Alan Perlis\">Alan Perlis</a>, <a href=\"/wiki/Radia_Perlman\" title=\"Radia Perlman\">Radia Perlman</a>, <a href=\"/wiki/Pier_Giorgio_Perotto\" title=\"Pier Giorgio Perotto\">Pier Giorgio Perotto</a>, <a href=\"/wiki/R%C3%B3zsa_P%C3%A9ter\" title=\"Rózsa Péter\">Rózsa Péter</a>, <a href=\"/wiki/Simon_Peyton_Jones\" title=\"Simon Peyton Jones\">Simon Peyton Jones</a>, <a href=\"/wiki/Kathy_Pham\" title=\"Kathy Pham\">Kathy Pham</a>, <a href=\"/wiki/Roberto_Pieraccini\" title=\"Roberto Pieraccini\">Roberto Pieraccini</a>, <a href=\"/wiki/Keshav_K_Pingali\" title=\"Keshav K Pingali\">Keshav Pingali</a>, <a href=\"/wiki/Gordon_Plotkin\" title=\"Gordon Plotkin\">Gordon Plotkin</a>, <a href=\"/wiki/Amir_Pnueli\" title=\"Amir Pnueli\">Amir Pnueli</a>, <a href=\"/wiki/Willem_van_der_Poel\" title=\"Willem van der Poel\">Willem van der Poel</a>, <a href=\"/wiki/Robin_Popplestone\" title=\"Robin Popplestone\">Robin Popplestone</a>, <a href=\"/wiki/Cicely_Popplewell\" title=\"Cicely Popplewell\">Cicely Popplewell</a>, <a class=\"mw-redirect\" href=\"/wiki/Emil_Post\" title=\"Emil Post\">Emil Post</a>, <a href=\"/wiki/Jon_Postel\" title=\"Jon Postel\">Jon Postel</a>, <a class=\"mw-redirect\" href=\"/wiki/Franco_Preparata\" title=\"Franco Preparata\">Franco Preparata</a>, <a href=\"/wiki/William_H._Press\" title=\"William H. Press\">William H. Press</a>, <a href=\"/wiki/Rapelang_Rabana\" title=\"Rapelang Rabana\">Rapelang Rabana</a>, <a href=\"/wiki/Grzegorz_Rozenberg\" title=\"Grzegorz Rozenberg\">Grzegorz Rozenberg</a>, <a href=\"/wiki/Michael_O._Rabin\" title=\"Michael O. Rabin\">Michael O. Rabin</a>, <a href=\"/wiki/Dragomir_R._Radev\" title=\"Dragomir R. Radev\">Dragomir R. Radev</a>, <a href=\"/wiki/T._V._Raman\" title=\"T. V. Raman\">T. V. Raman</a>, <a href=\"/wiki/Brian_Randell\" title=\"Brian Randell\">Brian Randell</a>, <a href=\"/wiki/Anders_P._Ravn\" title=\"Anders P. Ravn\">Anders P. Ravn</a>, <a href=\"/wiki/Raj_Reddy\" title=\"Raj Reddy\">Raj Reddy</a>, <a href=\"/wiki/David_P._Reed\" title=\"David P. Reed\">David P. Reed</a>, <a href=\"/wiki/Trygve_Reenskaug\" title=\"Trygve Reenskaug\">Trygve Reenskaug</a>, <a href=\"/wiki/John_C._Reynolds\" title=\"John C. Reynolds\">John C. Reynolds</a>, <a href=\"/wiki/Joyce_K._Reynolds\" title=\"Joyce K. Reynolds\">Joyce K. Reynolds</a>, <a href=\"/wiki/Reinder_van_de_Riet\" title=\"Reinder van de Riet\">Reinder van de Riet</a>, <a href=\"/wiki/Bernard_Richards\" title=\"Bernard Richards\">Bernard Richards</a>, <a href=\"/wiki/Martin_Richards_(computer_scientist)\" title=\"Martin Richards (computer scientist)\">Martin Richards</a>, <a href=\"/wiki/Adam_Ries\" title=\"Adam Ries\">Adam Ries</a>, <a href=\"/wiki/C._J._van_Rijsbergen\" title=\"C. J. van Rijsbergen\">C. J. van Rijsbergen</a>, <a href=\"/wiki/Dennis_Ritchie\" title=\"Dennis Ritchie\">Dennis Ritchie</a>, <a href=\"/wiki/Ron_Rivest\" title=\"Ron Rivest\">Ron Rivest</a>, <a href=\"/wiki/Larry_Roberts_(computer_scientist)\" title=\"Larry Roberts (computer scientist)\">Lawrence Roberts</a>, <a href=\"/wiki/Ken_Robinson_(computer_scientist)\" title=\"Ken Robinson (computer scientist)\">Ken Robinson</a>, <a href=\"/wiki/Colette_Rolland\" title=\"Colette Rolland\">Colette Rolland</a>, <a href=\"/wiki/John_Romero\" title=\"John Romero\">John Romero</a>, <a href=\"/wiki/Azriel_Rosenfeld\" title=\"Azriel Rosenfeld\">Azriel Rosenfeld</a>, <a href=\"/wiki/Douglas_T._Ross\" title=\"Douglas T. Ross\">Douglas T. Ross</a>, <a href=\"/wiki/Guido_van_Rossum\" title=\"Guido van Rossum\">Guido van Rossum</a>, <a href=\"/wiki/M._A._Rothman\" title=\"M. A. Rothman\">M. A. Rothman</a>, <a href=\"/wiki/Winston_W._Royce\" title=\"Winston W. Royce\">Winston W. Royce</a>, <a href=\"/wiki/Rudy_Rucker\" title=\"Rudy Rucker\">Rudy Rucker</a>, <a href=\"/wiki/Steven_Rudich\" title=\"Steven Rudich\">Steven Rudich</a>, <a href=\"/wiki/Jeff_Rulifson\" title=\"Jeff Rulifson\">Jeff Rulifson</a>, <a href=\"/wiki/James_Rumbaugh\" title=\"James Rumbaugh\">James Rumbaugh</a>, <a href=\"/wiki/Peter_Ru%C5%BEi%C4%8Dka\" title=\"Peter Ružička\">Peter Ružička</a>, <a href=\"/wiki/George_Sadowsky\" title=\"George Sadowsky\">George Sadowsky</a>, <a href=\"/wiki/Mehrnoosh_Sadrzadeh\" title=\"Mehrnoosh Sadrzadeh\">Mehrnoosh Sadrzadeh</a>, <a href=\"/wiki/Umar_Saif\" title=\"Umar Saif\">Umar Saif</a>, <a href=\"/wiki/Gerard_Salton\" title=\"Gerard Salton\">Gerard Salton</a>, <a href=\"/wiki/Jean_E._Sammet\" title=\"Jean E. Sammet\">Jean E. Sammet</a>, <a href=\"/wiki/Claude_Sammut\" title=\"Claude Sammut\">Claude Sammut</a>, <a href=\"/wiki/Carl_Sassenrath\" title=\"Carl Sassenrath\">Carl Sassenrath</a>, <a href=\"/wiki/Mahadev_Satyanarayanan\" title=\"Mahadev Satyanarayanan\">Mahadev Satyanarayanan</a>, <a href=\"/wiki/Walter_Savitch\" title=\"Walter Savitch\">Walter Savitch</a>, <a href=\"/wiki/Nitin_Saxena\" title=\"Nitin Saxena\">Nitin Saxena</a>, <a href=\"/wiki/Jonathan_Schaeffer\" title=\"Jonathan Schaeffer\">Jonathan Schaeffer</a>, <a href=\"/wiki/Wilhelm_Schickard\" title=\"Wilhelm Schickard\">Wilhelm Schickard</a>, <a href=\"/wiki/J%C3%BCrgen_Schmidhuber\" title=\"Jürgen Schmidhuber\">Jürgen Schmidhuber</a>, <a href=\"/wiki/Steve_Schneider_(computer_scientist)\" title=\"Steve Schneider (computer scientist)\">Steve Schneider</a>, <a href=\"/wiki/Bruce_Schneier\" title=\"Bruce Schneier\">Bruce Schneier</a>, <a href=\"/wiki/Fred_B._Schneider\" title=\"Fred B. Schneider\">Fred B. Schneider</a>, <a href=\"/wiki/Sarita_Schoenebeck\" title=\"Sarita Schoenebeck\">Sarita Schoenebeck</a>, <a href=\"/wiki/Glenda_Schroeder\" title=\"Glenda Schroeder\">Glenda Schroeder</a>, <a href=\"/wiki/Bernhard_Sch%C3%B6lkopf\" title=\"Bernhard Schölkopf\">Bernhard Schölkopf</a>, <a href=\"/wiki/Dana_Scott\" title=\"Dana Scott\">Dana Scott</a>, <a href=\"/wiki/Michael_L._Scott\" title=\"Michael L. Scott\">Michael L. Scott</a>, <a href=\"/wiki/Robert_Sedgewick_(computer_scientist)\" title=\"Robert Sedgewick (computer scientist)\">Robert Sedgewick</a>, <a href=\"/wiki/Ravi_Sethi\" title=\"Ravi Sethi\">Ravi Sethi</a>, <a href=\"/wiki/Nigel_Shadbolt\" title=\"Nigel Shadbolt\">Nigel Shadbolt</a>, <a href=\"/wiki/Adi_Shamir\" title=\"Adi Shamir\">Adi Shamir</a>, <a href=\"/wiki/Claude_Shannon\" title=\"Claude Shannon\">Claude Shannon</a>, <a href=\"/wiki/David_E._Shaw\" title=\"David E. Shaw\">David E. Shaw</a>, <a href=\"/wiki/Cliff_Shaw\" title=\"Cliff Shaw\">Cliff Shaw</a>, <a href=\"/wiki/Scott_Shenker\" title=\"Scott Shenker\">Scott Shenker</a>, <a href=\"/wiki/Shashi_Shekhar_(scientist)\" title=\"Shashi Shekhar (scientist)\">Shashi Shekhar</a>, <a href=\"/wiki/Ben_Shneiderman\" title=\"Ben Shneiderman\">Ben Shneiderman</a>, <a href=\"/wiki/Edward_H._Shortliffe\" title=\"Edward H. Shortliffe\">Edward H. Shortliffe</a>, <a href=\"/wiki/Daniel_Siewiorek\" title=\"Daniel Siewiorek\">Daniel Siewiorek</a>, <a href=\"/wiki/Joseph_Sifakis\" title=\"Joseph Sifakis\">Joseph Sifakis</a>, <a href=\"/wiki/Herbert_A._Simon\" title=\"Herbert A. Simon\">Herbert A. Simon</a>, <a href=\"/wiki/Munindar_P._Singh\" title=\"Munindar P. Singh\">Munindar P. Singh</a>, <a href=\"/wiki/Ramesh_Sitaraman\" title=\"Ramesh Sitaraman\">Ramesh Sitaraman</a>, <a href=\"/wiki/Daniel_Sleator\" title=\"Daniel Sleator\">Daniel Sleator</a>, <a href=\"/wiki/Aaron_Sloman\" title=\"Aaron Sloman\">Aaron Sloman</a>, <a href=\"/wiki/Arne_S%C3%B8lvberg\" title=\"Arne Sølvberg\">Arne Sølvberg</a>, <a href=\"/wiki/Brian_Cantwell_Smith\" title=\"Brian Cantwell Smith\">Brian Cantwell Smith</a>, <a href=\"/wiki/David_Canfield_Smith\" title=\"David Canfield Smith\">David Canfield Smith</a>, <a href=\"/wiki/Steven_Spewak\" title=\"Steven Spewak\">Steven Spewak</a>, <a href=\"/wiki/Carol_Spradling\" title=\"Carol Spradling\">Carol Spradling</a>, <a href=\"/wiki/Robert_Sproull\" title=\"Robert Sproull\">Robert Sproull</a>, <a href=\"/wiki/Rohini_Kesavan_Srihari\" title=\"Rohini Kesavan Srihari\">Rohini Kesavan Srihari</a>, <a href=\"/wiki/Sargur_Srihari\" title=\"Sargur Srihari\">Sargur Srihari</a>, <a href=\"/wiki/Maciej_Stachowiak\" title=\"Maciej Stachowiak\">Maciej Stachowiak</a>, <a href=\"/wiki/Richard_Stallman\" title=\"Richard Stallman\">Richard Stallman</a>, <a href=\"/wiki/Ronald_Stamper\" title=\"Ronald Stamper\">Ronald Stamper</a>, <a href=\"/wiki/Thad_Starner\" title=\"Thad Starner\">Thad Starner</a>, <a href=\"/wiki/Richard_E._Stearns\" title=\"Richard E. Stearns\">Richard E. Stearns</a>, <a class=\"mw-redirect\" href=\"/wiki/Guy_L._Steele,_Jr.\" title=\"Guy L. Steele, Jr.\">Guy L. Steele, Jr.</a>, <a href=\"/wiki/Thomas_Sterling_(computing)\" title=\"Thomas Sterling (computing)\">Thomas Sterling</a>, <a href=\"/wiki/Alexander_Stepanov\" title=\"Alexander Stepanov\">Alexander Stepanov</a>, <a href=\"/wiki/W._Richard_Stevens\" title=\"W. Richard Stevens\">W. Richard Stevens</a>, <a href=\"/wiki/Larry_Stockmeyer\" title=\"Larry Stockmeyer\">Larry Stockmeyer</a>, <a class=\"mw-redirect\" href=\"/wiki/Salvatore_Stolfo\" title=\"Salvatore Stolfo\">Salvatore Stolfo</a>, <a href=\"/wiki/Michael_Stonebraker\" title=\"Michael Stonebraker\">Michael Stonebraker</a>, <a href=\"/wiki/Olaf_Storaasli\" title=\"Olaf Storaasli\">Olaf Storaasli</a>, <a href=\"/wiki/Christopher_Strachey\" title=\"Christopher Strachey\">Christopher Strachey</a>, <a href=\"/wiki/Volker_Strassen\" title=\"Volker Strassen\">Volker Strassen</a>, <a href=\"/wiki/Bjarne_Stroustrup\" title=\"Bjarne Stroustrup\">Bjarne Stroustrup</a>, <a href=\"/wiki/Madhu_Sudan\" title=\"Madhu Sudan\">Madhu Sudan</a>, <a href=\"/wiki/Gerald_Jay_Sussman\" title=\"Gerald Jay Sussman\">Gerald Jay Sussman</a>, <a href=\"/wiki/Bert_Sutherland\" title=\"Bert Sutherland\">Bert Sutherland</a>, <a href=\"/wiki/Ivan_Sutherland\" title=\"Ivan Sutherland\">Ivan Sutherland</a>, <a href=\"/wiki/Latanya_Sweeney\" title=\"Latanya Sweeney\">Latanya Sweeney</a>, <a href=\"/wiki/Mario_Szegedy\" title=\"Mario Szegedy\">Mario Szegedy</a>, <a href=\"/wiki/Parisa_Tabriz\" title=\"Parisa Tabriz\">Parisa Tabriz</a>, <a href=\"/wiki/Roberto_Tamassia\" title=\"Roberto Tamassia\">Roberto Tamassia</a>, <a href=\"/wiki/Andrew_S._Tanenbaum\" title=\"Andrew S. Tanenbaum\">Andrew S. Tanenbaum</a>, <a href=\"/wiki/Austin_Tate\" title=\"Austin Tate\">Austin Tate</a>, <a href=\"/wiki/Bernhard_Thalheim\" title=\"Bernhard Thalheim\">Bernhard Thalheim</a>, <a href=\"/wiki/%C3%89va_Tardos\" title=\"Éva Tardos\">Éva Tardos</a>, <a href=\"/wiki/G%C3%A1bor_Tardos\" title=\"Gábor Tardos\">Gábor Tardos</a>, <a href=\"/wiki/Robert_Tarjan\" title=\"Robert Tarjan\">Robert Tarjan</a>, <a href=\"/wiki/Valerie_Taylor_(computer_scientist)\" title=\"Valerie Taylor (computer scientist)\">Valerie Taylor</a>, <a href=\"/wiki/Mario_Tchou\" title=\"Mario Tchou\">Mario Tchou</a>, <a href=\"/wiki/Jaime_Teevan\" title=\"Jaime Teevan\">Jaime Teevan</a>, <a href=\"/wiki/Shang-Hua_Teng\" title=\"Shang-Hua Teng\">Shang-Hua Teng</a>, <a href=\"/wiki/Larry_Tesler\" title=\"Larry Tesler\">Larry Tesler</a>, <a href=\"/wiki/Avie_Tevanian\" title=\"Avie Tevanian\">Avie Tevanian</a>, <a href=\"/wiki/Charles_P._Thacker\" title=\"Charles P. Thacker\">Charles P. Thacker</a>, <a href=\"/wiki/Daniel_Thalmann\" title=\"Daniel Thalmann\">Daniel Thalmann</a>, <a href=\"/wiki/Ken_Thompson\" title=\"Ken Thompson\">Ken Thompson</a>, <a href=\"/wiki/Simon_Thompson_(professor)\" title=\"Simon Thompson (professor)\">Simon Thompson</a>, <a href=\"/wiki/Sebastian_Thrun\" title=\"Sebastian Thrun\">Sebastian Thrun</a>, <a href=\"/wiki/Walter_F._Tichy\" title=\"Walter F. Tichy\">Walter F. Tichy</a>, <a href=\"/wiki/Seinosuke_Toda\" title=\"Seinosuke Toda\">Seinosuke Toda</a>, <a href=\"/wiki/Chai_Keong_Toh\" title=\"Chai Keong Toh\">Chai Keong Toh</a>, <a href=\"/wiki/Linus_Torvalds\" title=\"Linus Torvalds\">Linus Torvalds</a>, <a href=\"/wiki/Leonardo_Torres_Quevedo\" title=\"Leonardo Torres Quevedo\">Leonardo Torres Quevedo</a>, <a href=\"/wiki/Godfried_Toussaint\" title=\"Godfried Toussaint\">Godfried Toussaint</a>, <a href=\"/wiki/Gloria_Townsend\" title=\"Gloria Townsend\">Gloria Townsend</a>, <a href=\"/wiki/Edwin_E._Tozer\" title=\"Edwin E. Tozer\">Edwin E. Tozer</a>, <a class=\"mw-redirect\" href=\"/wiki/Joseph_F_Traub\" title=\"Joseph F Traub\">Joseph F Traub</a>, <a href=\"/wiki/John_V._Tucker\" title=\"John V. Tucker\">John V. Tucker</a>, <a href=\"/wiki/John_Tukey\" title=\"John Tukey\">John Tukey</a>, <a href=\"/wiki/Alan_Turing\" title=\"Alan Turing\">Alan Turing</a>, <a href=\"/wiki/David_Turner_(computer_scientist)\" title=\"David Turner (computer scientist)\">David Turner</a>, <a href=\"/wiki/Murray_Turoff\" title=\"Murray Turoff\">Murray Turoff</a>, <a class=\"mw-redirect\" href=\"/wiki/Jeffrey_D._Ullman\" title=\"Jeffrey D. Ullman\">Jeffrey D. Ullman</a>, <a href=\"/wiki/Leslie_Valiant\" title=\"Leslie Valiant\">Leslie Valiant</a>, <a href=\"/wiki/Vladimir_Vapnik\" title=\"Vladimir Vapnik\">Vladimir Vapnik</a>, <a href=\"/wiki/Moshe_Vardi\" title=\"Moshe Vardi\">Moshe Vardi</a>, <a href=\"/wiki/Dorothy_Vaughan\" title=\"Dorothy Vaughan\">Dorothy Vaughan</a>, <a href=\"/wiki/Bernard_Vauquois\" title=\"Bernard Vauquois\">Bernard Vauquois</a>, <a href=\"/wiki/Umesh_Vazirani\" title=\"Umesh Vazirani\">Umesh Vazirani</a>, <a href=\"/wiki/Manuela_M._Veloso\" title=\"Manuela M. Veloso\">Manuela M. Veloso</a>, <a href=\"/wiki/Fran%C3%A7ois_Vernadat\" title=\"François Vernadat\">François Vernadat</a>, <a href=\"/wiki/Richard_Veryard\" title=\"Richard Veryard\">Richard Veryard</a>, <a href=\"/wiki/Sergiy_Vilkomir\" title=\"Sergiy Vilkomir\">Sergiy Vilkomir</a>, <a class=\"mw-redirect\" href=\"/wiki/Paul_Vitanyi\" title=\"Paul Vitanyi\">Paul Vitanyi</a>, <a href=\"/wiki/Andrew_Viterbi\" title=\"Andrew Viterbi\">Andrew Viterbi</a>, <a class=\"mw-redirect\" href=\"/wiki/Jeffrey_Scott_Vitter\" title=\"Jeffrey Scott Vitter\">Jeffrey Scott Vitter</a>, <a href=\"/wiki/Paul_Vixie\" title=\"Paul Vixie\">Paul Vixie</a>, <a href=\"/wiki/Eiiti_Wada\" title=\"Eiiti Wada\">Eiiti Wada</a>, <a href=\"/wiki/David_A._Wagner\" title=\"David A. Wagner\">David Wagner</a>, <a href=\"/wiki/David_Waltz\" title=\"David Waltz\">David Waltz</a>, <a href=\"/wiki/James_Z._Wang\" title=\"James Z. Wang\">James Z. Wang</a>, <a href=\"/wiki/Steve_Ward_(computer_scientist)\" title=\"Steve Ward (computer scientist)\">Steve Ward</a>, <a href=\"/wiki/Manfred_K._Warmuth\" title=\"Manfred K. Warmuth\">Manfred K. Warmuth</a>, <a href=\"/wiki/David_H._D._Warren\" title=\"David H. D. Warren\">David H. D. Warren</a>, <a href=\"/wiki/Kevin_Warwick\" title=\"Kevin Warwick\">Kevin Warwick</a>, <a class=\"mw-redirect\" href=\"/wiki/Jan_Weglarz\" title=\"Jan Weglarz\">Jan Weglarz</a>, <a href=\"/wiki/Philip_Wadler\" title=\"Philip Wadler\">Philip Wadler</a>, <a href=\"/wiki/Peter_Wegner_(computer_scientist)\" title=\"Peter Wegner (computer scientist)\">Peter Wegner</a>, <a href=\"/wiki/Joseph_Henry_Wegstein\" title=\"Joseph Henry Wegstein\">Joseph Henry Wegstein</a>, <a href=\"/wiki/Peter_J._Weinberger\" title=\"Peter J. Weinberger\">Peter J. Weinberger</a>, <a href=\"/wiki/Mark_Weiser\" title=\"Mark Weiser\">Mark Weiser</a>, <a href=\"/wiki/Joseph_Weizenbaum\" title=\"Joseph Weizenbaum\">Joseph Weizenbaum</a>, <a href=\"/wiki/David_Wheeler_(computer_scientist)\" title=\"David Wheeler (computer scientist)\">David Wheeler</a>, <a href=\"/wiki/Franklin_H._Westervelt\" title=\"Franklin H. Westervelt\">Franklin H. Westervelt</a>, <a href=\"/wiki/Steve_Whittaker\" title=\"Steve Whittaker\">Steve Whittaker</a>, <a href=\"/wiki/Jennifer_Widom\" title=\"Jennifer Widom\">Jennifer Widom</a>, <a href=\"/wiki/Gio_Wiederhold\" title=\"Gio Wiederhold\">Gio Wiederhold</a>, <a href=\"/wiki/Norbert_Wiener\" title=\"Norbert Wiener\">Norbert Wiener</a>, <a href=\"/wiki/Adriaan_van_Wijngaarden\" title=\"Adriaan van Wijngaarden\">Adriaan van Wijngaarden</a>, <a href=\"/wiki/Mary_Allen_Wilkes\" title=\"Mary Allen Wilkes\">Mary Allen Wilkes</a>, <a class=\"mw-redirect\" href=\"/wiki/Maurice_Vincent_Wilkes\" title=\"Maurice Vincent Wilkes\">Maurice Vincent Wilkes</a>, <a href=\"/wiki/Yorick_Wilks\" title=\"Yorick Wilks\">Yorick Wilks</a>, <a href=\"/wiki/James_H._Wilkinson\" title=\"James H. Wilkinson\">James H. Wilkinson</a>, <a href=\"/wiki/Sophie_Wilson\" title=\"Sophie Wilson\">Sophie Wilson</a>, <a href=\"/wiki/Shmuel_Winograd\" title=\"Shmuel Winograd\">Shmuel Winograd</a>, <a href=\"/wiki/Terry_Winograd\" title=\"Terry Winograd\">Terry Winograd</a>, <a href=\"/wiki/Patrick_Winston\" title=\"Patrick Winston\">Patrick Winston</a>, <a href=\"/wiki/Niklaus_Wirth\" title=\"Niklaus Wirth\">Niklaus Wirth</a>, <a href=\"/wiki/Neil_Wiseman\" title=\"Neil Wiseman\">Neil Wiseman</a>, <a href=\"/wiki/Dennis_E._Wisnosky\" title=\"Dennis E. Wisnosky\">Dennis E. Wisnosky</a>, <a href=\"/wiki/Stephen_Wolfram\" title=\"Stephen Wolfram\">Stephen Wolfram</a>, <a href=\"/wiki/Mike_Woodger\" title=\"Mike Woodger\">Mike Woodger</a>, <a href=\"/wiki/Philip_Woodward\" title=\"Philip Woodward\">Philip Woodward</a>, <a class=\"mw-redirect\" href=\"/wiki/Beatrice_Helen_Worsley\" title=\"Beatrice Helen Worsley\">Beatrice Helen Worsley</a>, <a href=\"/wiki/Steve_Wozniak\" title=\"Steve Wozniak\">Steve Wozniak</a>, <a href=\"/wiki/Jie_Wu\" title=\"Jie Wu\">Jie Wu</a>, <a href=\"/wiki/William_Wulf\" title=\"William Wulf\">William Wulf</a>, <a href=\"/wiki/Mihalis_Yannakakis\" title=\"Mihalis Yannakakis\">Mihalis Yannakakis</a>, <a class=\"mw-redirect\" href=\"/wiki/Andrew_Chi-Chih_Yao\" title=\"Andrew Chi-Chih Yao\">Andrew Chi-Chih Yao</a>, <a href=\"/wiki/John_Yen\" title=\"John Yen\">John Yen</a>, <a href=\"/wiki/Nobuo_Yoneda\" title=\"Nobuo Yoneda\">Nobuo Yoneda</a>, <a href=\"/wiki/Edward_Yourdon\" title=\"Edward Yourdon\">Edward Yourdon</a>, <a href=\"/wiki/Moti_Yung\" title=\"Moti Yung\">Moti Yung</a>, <a class=\"mw-redirect\" href=\"/wiki/Lotfi_Zadeh\" title=\"Lotfi Zadeh\">Lotfi Zadeh</a>, <a href=\"/wiki/Hans_Zantema\" title=\"Hans Zantema\">Hans Zantema</a>, <a href=\"/wiki/Arif_Zaman\" title=\"Arif Zaman\">Arif Zaman</a>, <a href=\"/wiki/Stanley_Zdonik\" title=\"Stanley Zdonik\">Stanley Zdonik</a>, <a href=\"/wiki/Hussein_Zedan\" title=\"Hussein Zedan\">Hussein Zedan</a>, <a href=\"/wiki/Shlomo_Zilberstein\" title=\"Shlomo Zilberstein\">Shlomo Zilberstein</a>, <a href=\"/wiki/Jill_Zimmerman\" title=\"Jill Zimmerman\">Jill Zimmerman</a>, <a href=\"/wiki/Mark_Zuckerberg\" title=\"Mark Zuckerberg\">Mark Zuckerberg</a>, <a href=\"/wiki/Konrad_Zuse\" title=\"Konrad Zuse\">Konrad Zuse</a>, <a class=\"mw-redirect\" href=\"/wiki/Portal:Lists\" title=\"Portal:Lists\">Lists portal</a>, <a href=\"/wiki/List_of_computing_people\" title=\"List of computing people\">List of computing people</a>, <a href=\"/wiki/List_of_Jewish_American_computer_scientists\" title=\"List of Jewish American computer scientists\">List of Jewish American computer scientists</a>, <a class=\"mw-redirect\" href=\"/wiki/List_of_members_of_the_National_Academy_of_Sciences_(computer_and_information_sciences)\" title=\"List of members of the National Academy of Sciences (computer and information sciences)\">List of members of the National Academy of Sciences (computer and information sciences)</a>, <a href=\"/wiki/List_of_pioneers_in_computer_science\" title=\"List of pioneers in computer science\">List of pioneers in computer science</a>, <a href=\"/wiki/List_of_programmers\" title=\"List of programmers\">List of programmers</a>, <a href=\"/wiki/List_of_programming_language_researchers\" title=\"List of programming language researchers\">List of programming language researchers</a>, <a href=\"/wiki/List_of_Russian_IT_developers\" title=\"List of Russian IT developers\">List of Russian IT developers</a>, <a href=\"/wiki/List_of_Slovenian_computer_scientists\" title=\"List of Slovenian computer scientists\">List of Slovenian computer scientists</a>, <a class=\"mw-redirect\" href=\"/wiki/List_of_Indian_computer_scientists\" title=\"List of Indian computer scientists\">List of Indian computer scientists</a>, <a class=\"external text\" href=\"http://citeseerx.ist.psu.edu/stats/authors?all=true\" rel=\"nofollow\">CiteSeer list of the most cited authors in computer science</a>, <a class=\"external text\" href=\"http://www.cs.ucla.edu/~palsberg/h-number.html\" rel=\"nofollow\">Computer scientists with h-index &gt;= 40</a>, <a href=\"/wiki/Category:Lists_of_computer_scientists\" title=\"Category:Lists of computer scientists\">Lists of computer scientists</a>, <a href=\"/wiki/Category:Computer_scientists\" title=\"Category:Computer scientists\">Computer scientists</a>, <a href=\"/wiki/Category:Lists_of_people_by_occupation\" title=\"Category:Lists of people by occupation\">Lists of people by occupation</a>, <a href=\"/wiki/Category:Articles_with_short_description\" title=\"Category:Articles with short description\">Articles with short description</a>, <a href=\"/wiki/Category:Short_description_is_different_from_Wikidata\" title=\"Category:Short description is different from Wikidata\">Short description is different from Wikidata</a>, <a href=\"/wiki/Category:Dynamic_lists\" title=\"Category:Dynamic lists\">Dynamic lists</a>, <a href=\"/wiki/Category:Use_mdy_dates_from_November_2012\" title=\"Category:Use mdy dates from November 2012\">Use mdy dates from November 2012</a>, <a href=\"/wiki/Category:Commons_category_link_is_on_Wikidata\" title=\"Category:Commons category link is on Wikidata\">Commons category link is on Wikidata</a>, <a href=\"/wiki/Wikipedia:Text_of_the_Creative_Commons_Attribution-ShareAlike_4.0_International_License\" title=\"Wikipedia:Text of the Creative Commons Attribution-ShareAlike 4.0 International License\">Creative Commons Attribution-ShareAlike 4.0 License</a>, <a href=\"https://foundation.wikimedia.org/wiki/Special:MyLanguage/Policy:Privacy_policy\">Privacy policy</a>, <a href=\"/wiki/Wikipedia:About\">About Wikipedia</a>, <a href=\"/wiki/Wikipedia:General_disclaimer\">Disclaimers</a>, <a href=\"//en.wikipedia.org/wiki/Wikipedia:Contact_us\">Contact Wikipedia</a>, <a href=\"https://foundation.wikimedia.org/wiki/Special:MyLanguage/Policy:Universal_Code_of_Conduct\">Code of Conduct</a>, <a href=\"https://developer.wikimedia.org\">Developers</a>, <a href=\"https://stats.wikimedia.org/#/en.wikipedia.org\">Statistics</a>, <a href=\"https://foundation.wikimedia.org/wiki/Special:MyLanguage/Policy:Cookie_statement\">Cookie statement</a>, <a class=\"noprint stopMobileRedirectToggle\" href=\"//en.m.wikipedia.org/w/index.php?title=List_of_computer_scientists&amp;mobileaction=toggle_view_mobile\">Mobile view</a>, <a class=\"cdx-button cdx-button--fake-button cdx-button--size-large cdx-button--fake-button--enabled\" href=\"https://wikimediafoundation.org/\"><img alt=\"Wikimedia Foundation\" height=\"29\" lang=\"en\" loading=\"lazy\" src=\"/static/images/footer/wikimedia-button.svg\" width=\"84\"/></a>, <a class=\"cdx-button cdx-button--fake-button cdx-button--size-large cdx-button--fake-button--enabled\" href=\"https://www.mediawiki.org/\"><img alt=\"Powered by MediaWiki\" height=\"31\" loading=\"lazy\" src=\"/w/resources/assets/poweredby_mediawiki.svg\" width=\"88\"/></a>]\n"
          ]
        },
        {
          "name": "stderr",
          "output_type": "stream",
          "text": [
            "/var/folders/6n/ncg6qgv97_ggb605s3fvy7k00000gn/T/ipykernel_30222/2221034909.py:62: DeprecationWarning: The 'text' argument to find()-type methods is deprecated. Use 'string' instead.\n",
            "  birthdate_row = infobox.find('th', text='Born')\n",
            "/var/folders/6n/ncg6qgv97_ggb605s3fvy7k00000gn/T/ipykernel_30222/2221034909.py:67: DeprecationWarning: The 'text' argument to find()-type methods is deprecated. Use 'string' instead.\n",
            "  alma_mater_row = infobox.find('th', text='Alma Mater')\n",
            "/var/folders/6n/ncg6qgv97_ggb605s3fvy7k00000gn/T/ipykernel_30222/2221034909.py:69: DeprecationWarning: The 'text' argument to find()-type methods is deprecated. Use 'string' instead.\n",
            "  alma_mater_row = infobox.find('th', text='Institutions')\n",
            "/var/folders/6n/ncg6qgv97_ggb605s3fvy7k00000gn/T/ipykernel_30222/2221034909.py:74: DeprecationWarning: The 'text' argument to find()-type methods is deprecated. Use 'string' instead.\n",
            "  major_achievements_row = infobox.find('th', text='Known for')\n"
          ]
        },
        {
          "name": "stdout",
          "output_type": "stream",
          "text": [
            "Name: Wil van der Aalst\n",
            "Birthdate: (1966-01-29)29 January 1966(age 59)Eersel,North Brabant\n",
            "Major Achievements: Workflow patterns, ProM framework,YAWL, software tools such as Declare, Woflan, XRL,\n",
            "Alma Mater: RWTH Aachen University\n",
            "\n",
            "Name: Scott Aaronson\n",
            "Birthdate: Scott Joel Aaronson(1981-05-21)May 21, 1981(age 43)[1][2]Philadelphia,Pennsylvania,United States\n",
            "Major Achievements: Quantum Turing machine with postselectionAlgebrizationBoson sampling\n",
            "Alma Mater: University of Texas at AustinMassachusetts Institute of TechnologyInstitute for Advanced StudyUniversity of Waterloo\n",
            "\n"
          ]
        }
      ],
      "source": [
        "url = \"https://en.wikipedia.org/wiki/List_of_computer_scientists\"\n",
        "scientists = fetch_scientists(url, 2)\n",
        "for scientist in scientists:\n",
        "    print(scientist)"
      ]
    },
    {
      "cell_type": "markdown",
      "metadata": {
        "id": "E9_NoSnMvlS9"
      },
      "source": [
        "# Task 5"
      ]
    },
    {
      "cell_type": "markdown",
      "metadata": {
        "id": "8UXnEooLvrYu"
      },
      "source": [
        "Use the previously defined `ComputerScientist` class.\n",
        "\n",
        "Add a new attribute `wikipedia_link` without modifying the definition of the original class. Consider using `setattr()`.\n",
        "\n",
        "Write a function `fetch_scientist()` that will receive the name of a scientist, and will go to wikipedia and fetch the required scientist, and return a `ComputerScientist` object.\n",
        "\n",
        "- Remember checking edge cases, such as the scientist not existing.\n",
        "\n",
        "Add a decorator to cache the request, (i.e: store the answers, and if the scientist was already found before, to not execute the search again)."
      ]
    },
    {
      "cell_type": "code",
      "execution_count": 165,
      "metadata": {
        "id": "bNxBD1ynb8YZ"
      },
      "outputs": [],
      "source": [
        "import requests\n",
        "from bs4 import BeautifulSoup\n",
        "\n",
        "def cache_results(func):\n",
        "    cache = {}\n",
        "\n",
        "    def wrapper(name):\n",
        "        # Check if the result is already in the cache\n",
        "        if name in cache:\n",
        "            print(f\"Fetching '{name}' from cache...\")\n",
        "            return cache[name]\n",
        "        \n",
        "        # If not in cache, call the function and store the result\n",
        "        result = func(name)\n",
        "        cache[name] = result\n",
        "        return result\n",
        "\n",
        "    return wrapper\n",
        "\n",
        "# Fetch scientist details with caching\n",
        "@cache_results\n",
        "def fetch_scientist(name):\n",
        "    # Construct the Wikipedia search URL\n",
        "    search_url = f\"https://en.wikipedia.org/wiki/{name.replace(' ', '_')}\"\n",
        "    \n",
        "    # Fetch the page\n",
        "    response = requests.get(search_url)\n",
        "    if response.status_code != 200:\n",
        "        return None  # Scientist not found or other error\n",
        "    \n",
        "    # Extract details using the previously defined fetch_scientist_details function\n",
        "    details = fetch_scientist_details(search_url)\n",
        "    \n",
        "    # Create a ComputerScientist object\n",
        "    scientist = ComputerScientist(\n",
        "        name=name,\n",
        "        birthdate=details.get('birthdate'),\n",
        "        major_achievements=details.get('major_achievements'),\n",
        "        alma_mater=details.get('alma_mater')\n",
        "    )\n",
        "    \n",
        "    # Add the wikipedia_link attribute using setattr\n",
        "    setattr(scientist, 'wikipedia_link', search_url)\n",
        "    \n",
        "    return scientist"
      ]
    },
    {
      "cell_type": "code",
      "execution_count": 167,
      "metadata": {},
      "outputs": [
        {
          "name": "stdout",
          "output_type": "stream",
          "text": [
            "Fetching 'Alan Turing' from cache...\n",
            "Name: Alan Turing\n",
            "Birthdate: Alan Mathison Turing(1912-06-23)23 June 1912Maida Vale, London, England\n",
            "Major Achievements: Cryptanalysis of the EnigmaTuring's proofTuring machineTuring testunorganised machineTuring patternTuring reduction\"The Chemical Basis of Morphogenesis\"Turing paradox\n",
            "Alma Mater: University of ManchesterGovernment Code and Cypher SchoolNational Physical Laboratory\n",
            "\n",
            "Wikipedia Link: https://en.wikipedia.org/wiki/Alan_Turing\n"
          ]
        }
      ],
      "source": [
        "scientist_name = \"Alan Turing\"\n",
        "scientist = fetch_scientist(scientist_name)\n",
        "if scientist:\n",
        "    print(scientist)\n",
        "    print(f\"Wikipedia Link: {scientist.wikipedia_link}\")\n",
        "else:\n",
        "    print(f\"Scientist '{scientist_name}' not found.\")"
      ]
    },
    {
      "cell_type": "markdown",
      "metadata": {},
      "source": [
        "# Task 6**"
      ]
    },
    {
      "cell_type": "markdown",
      "metadata": {},
      "source": [
        "Consider the directed graph where the nodes represent the wikipedia pages of the scientists and the edges represent whether a scientist's page contains a link to the page of another scientist."
      ]
    },
    {
      "cell_type": "markdown",
      "metadata": {},
      "source": [
        "Implement a class named `ScientistGraph`, with some attributes and methods like:\n",
        "- `scientist_list : list[ComputerScientist]`: the list of all scientists\n",
        "- `graph`: the graph of scientists connected to other scientists (you can use the graph object from `network`, or implement your own way of storing the graph, for e.g: with an adjacency list or an adjacency matrix).\n",
        "- `add_scientist(scientist_name: str)`: method that will receive the name of the scientist, fetch the corresponding wikipedia page, create the corresponding `ComputerScientist` object, and will add the new edges involving that scientist to the graph. Consider edge cases like the name being incorrect or the scientist being already stored.\n",
        "- `remove_scientist(scientist_name: str)`: method that will receive the name of a scientist, remove them from the list and removing its node and the edges involving it from the graph. Consider edge cases like the name being incorrect or the scientist not being stored.\n",
        "- `plot()`: method that will visualize the graph. Show how the graph changes when adding someone new or deleting someone. Bonus: perhaps you want to implement it in a dynamic way, so each time that a scientist is removed from or added to the graph, the visualization changes.\n",
        "- `rank_scientists():` method that will rank scientists. For this method you can be as creative as you wish: You can start by designing a ranking based on the number of neighbours of each scientists, or the number of times a scientist is mentioned in one of the articles, or by using the famous `PageRank (you need to google it)`, etc., or by any other methods you might like to consider."
      ]
    },
    {
      "cell_type": "markdown",
      "metadata": {},
      "source": [
        "Show the usage of these methods in a proper way.\n",
        "Feel free to add more functionalities."
      ]
    }
  ],
  "metadata": {
    "colab": {
      "collapsed_sections": [],
      "provenance": []
    },
    "kernelspec": {
      "display_name": ".venv",
      "language": "python",
      "name": "python3"
    },
    "language_info": {
      "codemirror_mode": {
        "name": "ipython",
        "version": 3
      },
      "file_extension": ".py",
      "mimetype": "text/x-python",
      "name": "python",
      "nbconvert_exporter": "python",
      "pygments_lexer": "ipython3",
      "version": "3.13.0"
    }
  },
  "nbformat": 4,
  "nbformat_minor": 0
}
