{
  "cells": [
    {
      "cell_type": "markdown",
      "metadata": {
        "id": "4vnVrnPApFZB"
      },
      "source": [
        "# Assignment 1"
      ]
    },
    {
      "cell_type": "markdown",
      "metadata": {
        "id": "4-2f4VAvpFZC"
      },
      "source": []
    },
    {
      "cell_type": "code",
      "execution_count": null,
      "metadata": {
        "id": "6Bw99jTbpFZD"
      },
      "outputs": [],
      "source": [
        "name = Nick\n",
        "if name is None:\n",
        "    raise ValueError(\"Put your full name in the `name` variable\")"
      ]
    },
    {
      "cell_type": "markdown",
      "metadata": {
        "id": "f07sFEXspFZE"
      },
      "source": [
        "The objective of this assignment is to test a bunch of different topics we've discussed during our introductory classes. Complete the following exercises:"
      ]
    },
    {
      "cell_type": "markdown",
      "metadata": {
        "id": "pQ_uBmv9pFZE"
      },
      "source": [
        "## Instructions"
      ]
    },
    {
      "cell_type": "markdown",
      "metadata": {
        "id": "MLuTsJcvpFZE"
      },
      "source": [
        "Complete the notebook and create a folder with your name, and put the notebook in that folder. Make a Pull Request with your code."
      ]
    },
    {
      "cell_type": "markdown",
      "metadata": {
        "id": "hia1cPPnbt-6"
      },
      "source": [
        "## Exercise 0\n",
        "\n",
        "Write your own simple function with simple documentation and all types of arguments (positional, positional with defaults, arbitrary args, keyword args, arbitrary keyword args)"
      ]
    },
    {
      "cell_type": "code",
      "execution_count": 11,
      "metadata": {
        "id": "82YW6fgZbppO",
        "colab": {
          "base_uri": "https://localhost:8080/"
        },
        "outputId": "b81769fa-b1cd-46aa-c8a8-56e279166d07"
      },
      "outputs": [
        {
          "output_type": "stream",
          "name": "stdout",
          "text": [
            "Name: Nick, Age: 23, City: Moscow, Skills: Python, Data Analysis, Additional Information: {'hobby': 'Hiking', 'profession': 'Machine Learning'}\n"
          ]
        }
      ],
      "source": [
        "# your code here\n",
        "def my_function(name, age=18, *skills, city=\"Unknown\", **additional_info):\n",
        "\n",
        "    summary = f\"Name: {name}, Age: {age}, City: {city}, Skills: {', '.join(skills)}\"\n",
        "    if additional_info:\n",
        "        summary += f\", Additional Information: {additional_info}\"\n",
        "    return summary\n",
        "\n",
        "# Example\n",
        "result = my_function(\n",
        "    \"Nick\",\n",
        "    23,\n",
        "    \"Python\",\n",
        "    \"Data Analysis\",\n",
        "    city=\"Moscow\",\n",
        "    hobby=\"Hiking\",\n",
        "    profession=\"Machine Learning\"\n",
        ")\n",
        "print(result)"
      ]
    },
    {
      "cell_type": "markdown",
      "metadata": {
        "id": "HYhlKVnwTYzD"
      },
      "source": [
        "## Exercise 1\n"
      ]
    },
    {
      "cell_type": "code",
      "execution_count": 12,
      "metadata": {
        "id": "gv_TvLaHTXh8",
        "colab": {
          "base_uri": "https://localhost:8080/"
        },
        "outputId": "0ec67361-1016-4bbf-dd1c-cd77d61c5b92"
      },
      "outputs": [
        {
          "output_type": "stream",
          "name": "stdout",
          "text": [
            "True\n",
            "False\n"
          ]
        }
      ],
      "source": [
        "def is_prime(n):\n",
        "    \"\"\"\n",
        "    Check if the number is prime or not.\n",
        "    \"\"\"\n",
        "    if n <= 1:\n",
        "        return False\n",
        "    for i in range(2, int(n**0.5) + 1):\n",
        "        if n % i == 0:\n",
        "            return False\n",
        "    return True\n",
        "\n",
        "# Example\n",
        "print(is_prime(7))\n",
        "print(is_prime(10))"
      ]
    },
    {
      "cell_type": "markdown",
      "metadata": {
        "id": "1FXsMX-RKOBG"
      },
      "source": [
        "## Exercise 2\n",
        "\n",
        "[Inspect](https://docs.python.org/3.7/library/inspect.html) will help you. Use `my_function` for tests.\n",
        "\n"
      ]
    },
    {
      "cell_type": "code",
      "execution_count": 14,
      "metadata": {
        "id": "g68Y9DfNQcYD",
        "colab": {
          "base_uri": "https://localhost:8080/"
        },
        "outputId": "4c5cc60c-0507-454c-d1aa-bdae3ec2577a"
      },
      "outputs": [
        {
          "output_type": "stream",
          "name": "stdout",
          "text": [
            "Function Name: my_function\n",
            "Documentation: None\n",
            "Arguments:\n",
            "  - name: POSITIONAL_OR_KEYWORD\n",
            "  - age: POSITIONAL_OR_KEYWORD\n",
            "  - skills: VAR_POSITIONAL\n",
            "  - city: KEYWORD_ONLY\n",
            "  - additional_info: VAR_KEYWORD\n"
          ]
        }
      ],
      "source": [
        "import inspect\n",
        "\n",
        "def inspect_function(func):\n",
        "    \"\"\"\n",
        "    Takes another function as an argument (but not built-in)\n",
        "    and print the following data:\n",
        "    the name of the analyzed function,\n",
        "    the name of all the arguments it takes\n",
        "    and their types (positional, keyword, etc.)\n",
        "    \"\"\"\n",
        "    # your code here\n",
        "    func_name = func.__name__\n",
        "    func_signature = inspect.signature(func)\n",
        "    func_doc = inspect.getdoc(func)\n",
        "\n",
        "    print(f\"Function Name: {func_name}\")\n",
        "    print(f\"Documentation: {func_doc}\")\n",
        "    print(\"Arguments:\")\n",
        "\n",
        "    for param_name, param in func_signature.parameters.items():\n",
        "        print(f\"  - {param_name}: {param.kind}\")\n",
        "\n",
        "# Example\n",
        "inspect_function(my_function)"
      ]
    },
    {
      "cell_type": "markdown",
      "metadata": {
        "id": "oRaKEc0ZIgNs"
      },
      "source": [
        "## Exercise 3"
      ]
    },
    {
      "cell_type": "markdown",
      "metadata": {
        "id": "xmdOYiCrGpUd"
      },
      "source": [
        "The `my_time_now` function is not working correctly. Correct it so that it displays the current time with a message."
      ]
    },
    {
      "cell_type": "code",
      "execution_count": 15,
      "metadata": {
        "id": "645BoTXIGnHr"
      },
      "outputs": [],
      "source": [
        "from datetime import datetime\n",
        "from time import sleep\n",
        "\n",
        "def my_time_now(msg, *, dt=None):\n",
        "    if dt is None:\n",
        "        dt = datetime.now()\n",
        "    print(msg, dt)\n",
        "\n"
      ]
    },
    {
      "cell_type": "code",
      "execution_count": 17,
      "metadata": {
        "id": "3NeyF9UJHeyd",
        "colab": {
          "base_uri": "https://localhost:8080/"
        },
        "outputId": "1b74a174-a05b-40cb-aafe-162c0325b4d7"
      },
      "outputs": [
        {
          "output_type": "stream",
          "name": "stdout",
          "text": [
            "The time is now:  2025-01-24 09:51:07.303583\n",
            "The time is now:  2025-01-24 09:51:08.305466\n",
            "The time is now:  2025-01-24 09:51:09.307253\n"
          ]
        }
      ],
      "source": [
        "# simple tests :)\n",
        "my_time_now('The time is now: ')\n",
        "sleep(1)\n",
        "my_time_now('The time is now: ')\n",
        "sleep(1)\n",
        "my_time_now('The time is now: ')"
      ]
    },
    {
      "cell_type": "markdown",
      "metadata": {
        "id": "Qap8_Jb2ENra"
      },
      "source": [
        "## Exercise 4"
      ]
    },
    {
      "cell_type": "code",
      "execution_count": 21,
      "metadata": {
        "id": "JBwZGo84EMW1",
        "colab": {
          "base_uri": "https://localhost:8080/"
        },
        "outputId": "6cf42314-25a4-482f-d278-a22a1b8f6b4e"
      },
      "outputs": [
        {
          "output_type": "stream",
          "name": "stdout",
          "text": [
            "0\n",
            "1\n",
            "2\n",
            "3\n",
            "4\n"
          ]
        }
      ],
      "source": [
        "def limit(input_generator, max_count):\n",
        "    \"\"\"\n",
        "    Generator that returns not more than max_count items from input_generator.\n",
        "    \"\"\"\n",
        "    count = 0\n",
        "    for item in input_generator:\n",
        "        if count >= max_count:\n",
        "            break\n",
        "        yield item\n",
        "        count += 1\n",
        "\n",
        "  # Example\n",
        "def sample_generator():\n",
        "    for i in range(10):\n",
        "        yield i\n",
        "\n",
        "limited_gen = limit(sample_generator(), 5)\n",
        "for item in limited_gen:\n",
        "    print(item)"
      ]
    },
    {
      "cell_type": "markdown",
      "metadata": {
        "id": "BvwCKaOxRQ3N"
      },
      "source": [
        "## Exercise 5\n",
        "\n",
        "Write a generator for an infinite sequence of numbers from the Pascal's triangle. The sequence look like this:\n",
        "`1 1 1 1 2 1 1 3 3 1 1 4 6 4 1 1 5 10 10 5 1 1 6 15 20 15 6 1 1 7 21 35 35 21 7 1 1 8 28 56 70 56 28 8 1 1 9 36 84 126 126 84 36 9 1 ... '\n",
        "\n",
        "Test it with a generator from the previous task)"
      ]
    },
    {
      "cell_type": "code",
      "execution_count": 22,
      "metadata": {
        "id": "EBNNXBUYUqKJ",
        "colab": {
          "base_uri": "https://localhost:8080/"
        },
        "outputId": "42ab1bdc-9b2d-4a1c-8f91-32015c0beaaf"
      },
      "outputs": [
        {
          "output_type": "stream",
          "name": "stdout",
          "text": [
            "[1, 1, 1, 1, 2, 1, 1, 3, 3, 1, 1, 4, 6, 4, 1, 1, 5, 10, 10, 5]\n"
          ]
        }
      ],
      "source": [
        "# your code here\n",
        "\n",
        "def pascal_triangle():\n",
        "    row = [1]\n",
        "    while True:\n",
        "        for num in row:\n",
        "            yield num\n",
        "        row = [1] + [row[i] + row[i+1] for i in range(len(row) - 1)] + [1]\n",
        "\n",
        "# Example\n",
        "limited_pascal = limit(pascal_triangle(), 20)\n",
        "print(list(limited_pascal))"
      ]
    },
    {
      "cell_type": "markdown",
      "metadata": {
        "id": "vUiY14pIEiNC"
      },
      "source": [
        "## Exercise 6\n"
      ]
    },
    {
      "cell_type": "code",
      "execution_count": 28,
      "metadata": {
        "id": "eGLSDqNHGFYn",
        "colab": {
          "base_uri": "https://localhost:8080/",
          "height": 108
        },
        "outputId": "05b3ab8b-58bf-4472-cf75-ebe414364441"
      },
      "outputs": [
        {
          "output_type": "error",
          "ename": "SyntaxError",
          "evalue": "unterminated string literal (detected at line 11) (<ipython-input-28-f57eb69370d6>, line 11)",
          "traceback": [
            "\u001b[0;36m  File \u001b[0;32m\"<ipython-input-28-f57eb69370d6>\"\u001b[0;36m, line \u001b[0;32m11\u001b[0m\n\u001b[0;31m    raise ValueError(f\"{/Users/baglaev_nik/Desktop/COURSERA})\u001b[0m\n\u001b[0m                     ^\u001b[0m\n\u001b[0;31mSyntaxError\u001b[0m\u001b[0;31m:\u001b[0m unterminated string literal (detected at line 11)\n"
          ]
        }
      ],
      "source": [
        "import pathlib  # can change to os module if you want\n",
        "import sys\n",
        "\n",
        "def files_sorted_by_size(path_to_dir):\n",
        "    \"\"\"\n",
        "    Return a list of files in path_to_dir sorted by file size.\n",
        "    Files with the same size are sorted alphabetically.\n",
        "    \"\"\"\n",
        "    path = pathlib.Path(path_to_dir)\n",
        "    if not path.is_dir():\n",
        "        raise ValueError(f\"{path_to_dir})\n",
        "\n",
        "    files = [file for file in path.iterdir() if file.is_file()]\n",
        "    sorted_files = sorted(files, key=lambda f: (f.stat().st_size, f.name))\n",
        "\n",
        "    return [str(f.name) for f in sorted_files]"
      ]
    },
    {
      "cell_type": "markdown",
      "metadata": {
        "id": "43eeoixHSa9Y"
      },
      "source": [
        "## Exercise 7\n",
        "\n",
        "Write a `merge_sorter` generator that merges sorted sequences of integers.\n",
        "\n",
        "The generator takes an arbitrary number of arguments. The argument can be any iterable, including another generator. It is guaranteed that each argument is a sequence of integers, sorted in non-decreasing order."
      ]
    },
    {
      "cell_type": "code",
      "execution_count": 30,
      "metadata": {
        "id": "VHmnqHVaScox",
        "colab": {
          "base_uri": "https://localhost:8080/"
        },
        "outputId": "3262a0d4-4ef6-4319-cf99-73480f232642"
      },
      "outputs": [
        {
          "output_type": "stream",
          "name": "stdout",
          "text": [
            "1\n",
            "2\n",
            "3\n",
            "4\n",
            "5\n",
            "6\n",
            "7\n",
            "8\n",
            "9\n"
          ]
        }
      ],
      "source": [
        "import heapq\n",
        "\n",
        "def merge_sorter(*args):\n",
        "    iterators = [iter(arg) for arg in args]\n",
        "    heap = []\n",
        "\n",
        "    for i, it in enumerate(iterators):\n",
        "        try:\n",
        "            first_val = next(it)\n",
        "            heapq.heappush(heap, (first_val, i))\n",
        "        except StopIteration:\n",
        "            continue\n",
        "\n",
        "    while heap:\n",
        "        val, i = heapq.heappop(heap)\n",
        "        yield val\n",
        "        try:\n",
        "            next_val = next(iterators[i])\n",
        "            heapq.heappush(heap, (next_val, i))\n",
        "        except StopIteration:\n",
        "            pass\n",
        "# Example\n",
        "\n",
        "seq1 = [1, 4, 7]\n",
        "seq2 = [2, 5, 8]\n",
        "seq3 = [3, 6, 9]\n",
        "\n",
        "for num in merge_sorter(seq1, seq2, seq3):\n",
        "    print(num)"
      ]
    },
    {
      "cell_type": "markdown",
      "metadata": {
        "id": "7AF_IQRQVQ-k"
      },
      "source": [
        "## Exercise 8\n",
        "\n",
        "Write the decorator `proﬁler`, which, when calling a function, will store in its attributes (not to be confused with arguments) the time of its execution (in seconds, it can be fractional) and the number of recursive calls that occurred during execution. Name the attributes `last_time_taken` and `calls`.\n",
        "It is forbidden to use global variables.\n",
        "The decorator must behave in a decent manner, that is, it must not overwrite the function's documentation.\n",
        "\n",
        "For tests write [Ackermann function](https://en.wikipedia.org/wiki/Ackermann_function)"
      ]
    },
    {
      "cell_type": "code",
      "execution_count": 32,
      "metadata": {
        "id": "WyJ02jbTVQiu",
        "colab": {
          "base_uri": "https://localhost:8080/"
        },
        "outputId": "c45766ea-b753-4f10-af21-7218f8be8a82"
      },
      "outputs": [
        {
          "output_type": "stream",
          "name": "stdout",
          "text": [
            "125\n",
            "Calls: 0\n",
            "Last time taken: 0.000000 seconds\n"
          ]
        }
      ],
      "source": [
        "import time\n",
        "from functools import wraps\n",
        "\n",
        "def profiler():\n",
        "    def decorator(func):\n",
        "        func.calls = 0\n",
        "        func.last_time_taken = 0\n",
        "\n",
        "        @wraps(func)\n",
        "        def wrapper(*args, **kwargs):\n",
        "            start_time = time.time()\n",
        "            func.calls += 1\n",
        "            result = func(*args, **kwargs)\n",
        "            func.last_time_taken = time.time() - start_time\n",
        "            return result\n",
        "\n",
        "        return wrapper\n",
        "    return decorator\n",
        "\n",
        "@profiler()\n",
        "def ackermann(n, m):\n",
        "    if n == 0:\n",
        "        return m + 1\n",
        "    elif m == 0:\n",
        "        return ackermann(n - 1, 1)\n",
        "    else:\n",
        "        return ackermann(n - 1, ackermann(n, m - 1))\n",
        "\n",
        "# Example\n",
        "try:\n",
        "    print(ackermann(3, 4))\n",
        "except RecursionError:\n",
        "    print(\"Maximum recursion depth exceeded.\")\n",
        "\n",
        "print(f\"Calls: {ackermann.calls}\")\n",
        "print(f\"Last time taken: {ackermann.last_time_taken:.6f} seconds\")"
      ]
    },
    {
      "cell_type": "markdown",
      "metadata": {
        "id": "QcjAealUfs2Q"
      },
      "source": [
        "## Exercise 9\n",
        "\n",
        "Write the function `encode` that implements [run-length encoding](https://en.wikipedia.org/wiki/Run-length_encoding) algorithm"
      ]
    },
    {
      "cell_type": "code",
      "execution_count": 33,
      "metadata": {
        "id": "tBhwbMm9fsMv",
        "colab": {
          "base_uri": "https://localhost:8080/"
        },
        "outputId": "b8e4656a-00ec-418d-f380-32290a9081f9"
      },
      "outputs": [
        {
          "output_type": "stream",
          "name": "stdout",
          "text": [
            "[('a', 3), ('b', 2), ('c', 4), ('d', 1), ('a', 2)]\n"
          ]
        }
      ],
      "source": [
        "def encode(sequence):\n",
        "    if not sequence:\n",
        "        return []\n",
        "\n",
        "    encoded = []\n",
        "    current_char = sequence[0]\n",
        "    count = 1\n",
        "\n",
        "    for char in sequence[1:]:\n",
        "        if char == current_char:\n",
        "            count += 1\n",
        "        else:\n",
        "            encoded.append((current_char, count))\n",
        "            current_char = char\n",
        "            count = 1\n",
        "\n",
        "    encoded.append((current_char, count))\n",
        "    return encoded\n",
        "\n",
        "# Example\n",
        "result = encode(\"aaabbccccdaa\")\n",
        "print(result)"
      ]
    },
    {
      "cell_type": "markdown",
      "metadata": {
        "id": "uk4GVkyvpFZI"
      },
      "source": [
        "## Exercise 10\n",
        "\n",
        "Write a decorator `visualizer` that takes a recursive function and will visualize the recursive calls that are made during the execution.\n",
        "Consider using the `networkx` library or some other one in order to draw the recursion tree.\n",
        "Test it with a recursive function that computes fibonacci."
      ]
    },
    {
      "cell_type": "code",
      "execution_count": null,
      "metadata": {
        "id": "Xcvv1vIkpFZJ"
      },
      "outputs": [],
      "source": [
        "def fibonacci(n):\n",
        "    if n == 0 or n == 1:\n",
        "        return n\n",
        "    return fibonacci(n-1) + fibonacci(n-2)"
      ]
    },
    {
      "cell_type": "code",
      "execution_count": 34,
      "metadata": {
        "colab": {
          "base_uri": "https://localhost:8080/",
          "height": 516
        },
        "id": "EXfljfdZpFZJ",
        "outputId": "e55b4dd2-6647-4d64-c7d8-f677fc29d8f9"
      },
      "outputs": [
        {
          "output_type": "display_data",
          "data": {
            "text/plain": [
              "<Figure size 640x480 with 1 Axes>"
            ],
            "image/png": "[encoded data removed]"
          },
          "metadata": {}
        }
      ],
      "source": [
        "import networkx as nx\n",
        "import matplotlib.pyplot as plt\n",
        "from functools import wraps\n",
        "\n",
        "def visualizer(func):\n",
        "    graph = nx.DiGraph()\n",
        "    call_id = 0\n",
        "\n",
        "    @wraps(func)\n",
        "    def wrapper(*args, **kwargs):\n",
        "        nonlocal call_id\n",
        "        current_id = call_id\n",
        "        graph.add_node(current_id, label=f\"{func.__name__}{args}\")\n",
        "        call_id += 1\n",
        "\n",
        "        parent_id = kwargs.pop(\"parent_id\", None)\n",
        "        if parent_id is not None:\n",
        "            graph.add_edge(parent_id, current_id)\n",
        "\n",
        "        result = func(*args, **kwargs, parent_id=current_id)\n",
        "\n",
        "        return result\n",
        "\n",
        "    def show_graph():\n",
        "        labels = nx.get_node_attributes(graph, \"label\")\n",
        "        pos = nx.spring_layout(graph)\n",
        "        nx.draw(graph, pos, with_labels=True, labels=labels, node_size=3000, node_color=\"lightblue\", font_size=10)\n",
        "        plt.show()\n",
        "\n",
        "    wrapper.show_graph = show_graph\n",
        "    return wrapper\n",
        "\n",
        "@visualizer\n",
        "def fibonacci(n, parent_id=None):\n",
        "    if n == 0 or n == 1:\n",
        "        return n\n",
        "    return fibonacci(n-1, parent_id=parent_id) + fibonacci(n-2, parent_id=parent_id)\n",
        "\n",
        "# Example\n",
        "fibonacci(4)\n",
        "fibonacci.show_graph()"
      ]
    },
    {
      "cell_type": "markdown",
      "metadata": {
        "id": "UczDr1rYpFZJ"
      },
      "source": [
        "## Exercise 11\n",
        "\n",
        "Now write a decorator `memoizer` that will do caching on the calls of a function (memoization).\n",
        "Decorate fibonacci with the decorators `memoizer`, `profiler` and `visualizer` at the same time (not necessarily in that order). Test that they're working as one would expect."
      ]
    },
    {
      "cell_type": "code",
      "execution_count": 35,
      "metadata": {
        "colab": {
          "base_uri": "https://localhost:8080/",
          "height": 552
        },
        "id": "5QTLdQUQpFZJ",
        "outputId": "8d7ef5f4-882f-4421-89cd-e00cd3c99d06"
      },
      "outputs": [
        {
          "output_type": "display_data",
          "data": {
            "text/plain": [
              "<Figure size 640x480 with 1 Axes>"
            ],
            "image/png": "[encoded data removed]"
          },
          "metadata": {}
        },
        {
          "output_type": "stream",
          "name": "stdout",
          "text": [
            "Calls: 0\n",
            "Last time taken: 0.000000 seconds\n"
          ]
        }
      ],
      "source": [
        "from functools import wraps\n",
        "\n",
        "def memoizer(func):\n",
        "    cache = {}\n",
        "\n",
        "    @wraps(func)\n",
        "    def wrapper(*args, **kwargs):\n",
        "        if args in cache:\n",
        "            return cache[args]\n",
        "        result = func(*args, **kwargs)\n",
        "        cache[args] = result\n",
        "        return result\n",
        "\n",
        "    return wrapper\n",
        "\n",
        "@profiler()\n",
        "@memoizer\n",
        "@visualizer\n",
        "def fibonacci(n, parent_id=None):\n",
        "    if n == 0 or n == 1:\n",
        "        return n\n",
        "    return fibonacci(n - 1, parent_id=parent_id) + fibonacci(n - 2, parent_id=parent_id)\n",
        "\n",
        "# Example\n",
        "fibonacci(5)\n",
        "fibonacci.show_graph()\n",
        "print(f\"Calls: {fibonacci.calls}\")\n",
        "print(f\"Last time taken: {fibonacci.last_time_taken:.6f} seconds\")"
      ]
    },
    {
      "cell_type": "markdown",
      "metadata": {
        "id": "XHYFizAJpFZJ"
      },
      "source": [
        "## Exercise 12"
      ]
    },
    {
      "cell_type": "markdown",
      "metadata": {
        "id": "EBppAny8pFZJ"
      },
      "source": [
        "By using the `isinstance` method, check whether the following objects belong to the proposed types (hint: `isinstance`).\n",
        "\n",
        "Visualize this correspondance matrix (object – type), e.g. using numpy and [pcolormesh](https://matplotlib.org/stable/api/_as_gen/matplotlib.pyplot.pcolormesh.html) for visualization."
      ]
    },
    {
      "cell_type": "code",
      "execution_count": 36,
      "metadata": {
        "colab": {
          "base_uri": "https://localhost:8080/",
          "height": 725
        },
        "id": "uzWRTUA8pFZJ",
        "outputId": "3889c36a-c0e1-4d58-c43b-9caa70803ecb"
      },
      "outputs": [
        {
          "output_type": "display_data",
          "data": {
            "text/plain": [
              "<Figure size 1000x800 with 2 Axes>"
            ],
            "image/png": "[encoded data removed]"
          },
          "metadata": {}
        }
      ],
      "source": [
        "import numpy as np\n",
        "import matplotlib.pyplot as plt\n",
        "\n",
        "list_of_objects = [\n",
        "    int,\n",
        "    2,\n",
        "    2.,\n",
        "    None,\n",
        "    object,\n",
        "    str,\n",
        "    str(2.),\n",
        "    float('2.0'),\n",
        "    'hello',\n",
        "    dict,\n",
        "    list,\n",
        "    [dict],\n",
        "    {1: []}\n",
        "]\n",
        "\n",
        "list_of_types = [\n",
        "    int,\n",
        "    float,\n",
        "    object,\n",
        "    str,\n",
        "    dict,\n",
        "    list\n",
        "]\n",
        "\n",
        "matrix = np.zeros((len(list_of_objects), len(list_of_types)), dtype=int)\n",
        "\n",
        "for i, obj in enumerate(list_of_objects):\n",
        "    for j, t in enumerate(list_of_types):\n",
        "        if isinstance(obj, t):\n",
        "            matrix[i, j] = 1\n",
        "\n",
        "plt.figure(figsize=(10, 8))\n",
        "plt.pcolormesh(matrix, cmap='Greens', edgecolors='black', linewidth=0.5)\n",
        "plt.xticks(np.arange(len(list_of_types)) + 0.5, [t.__name__ for t in list_of_types], rotation=45)\n",
        "plt.yticks(np.arange(len(list_of_objects)) + 0.5, [str(obj) for obj in list_of_objects])\n",
        "plt.colorbar(label=\"1=True, 0=False\")\n",
        "plt.title(\"Correspondence Matrix: Objects vs. Types\")\n",
        "plt.show()"
      ]
    },
    {
      "cell_type": "markdown",
      "metadata": {
        "id": "gGSWhtprpFZK"
      },
      "source": []
    }
  ],
  "metadata": {
    "colab": {
      "provenance": []
    },
    "kernelspec": {
      "display_name": "Python 3 (ipykernel)",
      "language": "python",
      "name": "python3"
    },
    "language_info": {
      "codemirror_mode": {
        "name": "ipython",
        "version": 3
      },
      "file_extension": ".py",
      "mimetype": "text/x-python",
      "name": "python",
      "nbconvert_exporter": "python",
      "pygments_lexer": "ipython3",
      "version": "3.8.12"
    }
  },
  "nbformat": 4,
  "nbformat_minor": 0
}