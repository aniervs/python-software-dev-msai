{
 "cells": [
  {
   "cell_type": "markdown",
   "metadata": {},
   "source": [
    "# Assignment 1"
   ]
  },
  {
   "cell_type": "markdown",
   "metadata": {},
   "source": []
  },
  {
   "cell_type": "code",
   "execution_count": null,
   "metadata": {},
   "outputs": [],
   "source": [
    "name = None \n",
    "if name is None:\n",
    "    raise ValueError(\"Put your full name in the `name` variable\")"
   ]
  },
  {
   "cell_type": "markdown",
   "metadata": {},
   "source": [
    "The objective of this assignment is to test a bunch of different topics we've discussed during our introductory classes. Complete the following exercises:"
   ]
  },
  {
   "cell_type": "markdown",
   "metadata": {},
   "source": [
    "## Instructions"
   ]
  },
  {
   "cell_type": "markdown",
   "metadata": {},
   "source": [
    "Complete the notebook and create a folder with your name, and put the notebook in that folder. Make a Pull Request with your code."
   ]
  },
  {
   "cell_type": "markdown",
   "metadata": {
    "id": "hia1cPPnbt-6"
   },
   "source": [
    "## Exercise 0\n",
    "\n",
    "Write your own simple function with simple documentation and all types of arguments (positional, positional with defaults, arbitrary args, keyword args, arbitrary keyword args)"
   ]
  },
  {
   "cell_type": "code",
   "execution_count": 13,
   "metadata": {
    "id": "82YW6fgZbppO"
   },
   "outputs": [],
   "source": [
    "def jwtGenerator(secret, *scopes, alg=\"HS256\", **payload):\n",
    "    \"\"\"\n",
    "    Function to get data from users\n",
    "    \n",
    "    Parameters:\n",
    "    secret (string): secret for jwt\n",
    "    alg (int, optional): crypto algorithim for jwt\n",
    "    *scopes: scopes for business logic\n",
    "    **payload: playload for jwt\n",
    "\n",
    "    Returns:\n",
    "    dict: ready-to-use jwt, encoded using specific algorithm.\n",
    "    \"\"\"\n",
    "    return {\n",
    "        \"secret\": secret,\n",
    "        \"alg\": alg,\n",
    "        \"scopes\": scopes,\n",
    "        \"payload\": payload,\n",
    "    }"
   ]
  },
  {
   "cell_type": "code",
   "execution_count": 17,
   "metadata": {},
   "outputs": [
    {
     "data": {
      "text/plain": [
       "{'secret': 'YtaERTSGdsfg',\n",
       " 'alg': 'HS256',\n",
       " 'scopes': ('email', 'phone', 'security'),\n",
       " 'payload': {'payload': {'sub': '134141',\n",
       "   'name': 'Boba',\n",
       "   'sso': '3242-23423-2342-23423'}}}"
      ]
     },
     "execution_count": 17,
     "metadata": {},
     "output_type": "execute_result"
    }
   ],
   "source": [
    "jwtGenerator(\"YtaERTSGdsfg\", \"email\", \"phone\", \"security\", payload={\"sub\":\"134141\", \"name\":\"Boba\", \"sso\": \"3242-23423-2342-23423\"})"
   ]
  },
  {
   "cell_type": "markdown",
   "metadata": {
    "id": "HYhlKVnwTYzD"
   },
   "source": [
    "## Exercise 1\n"
   ]
  },
  {
   "cell_type": "code",
   "execution_count": 21,
   "metadata": {
    "id": "gv_TvLaHTXh8"
   },
   "outputs": [],
   "source": [
    "def is_prime(n):\n",
    "    if n < 2:\n",
    "        return False\n",
    "    for i in range(2, int(n ** 0.5) + 1):\n",
    "        if n % i == 0:\n",
    "            return False\n",
    "    return True"
   ]
  },
  {
   "cell_type": "markdown",
   "metadata": {
    "id": "1FXsMX-RKOBG"
   },
   "source": [
    "## Exercise 2\n",
    "\n",
    "[Inspect](https://docs.python.org/3.7/library/inspect.html) will help you. Use `my_function` for tests.\n",
    "\n"
   ]
  },
  {
   "cell_type": "code",
   "execution_count": 27,
   "metadata": {
    "id": "g68Y9DfNQcYD"
   },
   "outputs": [
    {
     "name": "stdout",
     "output_type": "stream",
     "text": [
      "Function Name: jwtGenerator\n",
      "Arguments:\n",
      "  - secret: POSITIONAL_OR_KEYWORD\n",
      "  - scopes: VAR_POSITIONAL\n",
      "  - alg: KEYWORD_ONLY\n",
      "  - payload: VAR_KEYWORD\n"
     ]
    }
   ],
   "source": [
    "import inspect\n",
    "\n",
    "def inspect_function(func):\n",
    "    \"\"\"\n",
    "    Takes another function as an argument (but not built-in) \n",
    "    and prints the following data:\n",
    "    - The name of the analyzed function\n",
    "    - The names of all the arguments it takes\n",
    "    - Their types (positional, keyword, etc.)\n",
    "    \"\"\"\n",
    "    if not callable(func) or inspect.isbuiltin(func):\n",
    "        print(\"Cannot inspect built-in functions.\")\n",
    "        return\n",
    "\n",
    "    signature = inspect.signature(func)\n",
    "    print(f\"Function Name: {func.__name__}\")\n",
    "    print(\"Arguments:\")\n",
    "\n",
    "    for name, param in signature.parameters.items():\n",
    "        print(f\"  - {name}: {param.kind}\")\n",
    "\n",
    "inspect_function(jwtGenerator)"
   ]
  },
  {
   "cell_type": "markdown",
   "metadata": {
    "id": "oRaKEc0ZIgNs"
   },
   "source": [
    "## Exercise 3"
   ]
  },
  {
   "cell_type": "markdown",
   "metadata": {
    "id": "xmdOYiCrGpUd"
   },
   "source": [
    "The `my_time_now` function is not working correctly. Correct it so that it displays the current time with a message. "
   ]
  },
  {
   "cell_type": "code",
   "execution_count": 32,
   "metadata": {
    "id": "645BoTXIGnHr"
   },
   "outputs": [],
   "source": [
    "from datetime import datetime\n",
    "from time import sleep\n",
    " \n",
    "# wrong function\n",
    "def my_time_now(msg):\n",
    "    print(msg, datetime.now())\n",
    " \n"
   ]
  },
  {
   "cell_type": "code",
   "execution_count": 33,
   "metadata": {
    "id": "3NeyF9UJHeyd"
   },
   "outputs": [
    {
     "name": "stdout",
     "output_type": "stream",
     "text": [
      "The time is now:  2025-02-12 12:52:11.145672\n",
      "The time is now:  2025-02-12 12:52:12.151323\n",
      "The time is now:  2025-02-12 12:52:13.157124\n"
     ]
    }
   ],
   "source": [
    "# simple tests :)\n",
    "my_time_now('The time is now: ')\n",
    "sleep(1)\n",
    "my_time_now('The time is now: ')\n",
    "sleep(1)\n",
    "my_time_now('The time is now: ')"
   ]
  },
  {
   "cell_type": "markdown",
   "metadata": {
    "id": "Qap8_Jb2ENra"
   },
   "source": [
    "## Exercise 4"
   ]
  },
  {
   "cell_type": "code",
   "execution_count": 37,
   "metadata": {
    "id": "JBwZGo84EMW1"
   },
   "outputs": [
    {
     "name": "stdout",
     "output_type": "stream",
     "text": [
      "0\n",
      "1\n",
      "2\n",
      "3\n",
      "4\n"
     ]
    }
   ],
   "source": [
    "def limit(input_generator, max_count):\n",
    "    \"\"\"\n",
    "    Generator that returns not more than max_count values of the input_generator.\n",
    "    \"\"\"\n",
    "    count = 0\n",
    "    for value in input_generator:\n",
    "        if count >= max_count:\n",
    "            break\n",
    "        yield value\n",
    "        count += 1\n",
    "\n",
    "def my_generator():\n",
    "    for i in range(10):\n",
    "        yield i\n",
    "\n",
    "limited_gen = limit(my_generator(), 5)\n",
    "\n",
    "for value in limited_gen:\n",
    "    print(value)"
   ]
  },
  {
   "cell_type": "markdown",
   "metadata": {
    "id": "BvwCKaOxRQ3N"
   },
   "source": [
    "## Exercise 5\n",
    "\n",
    "Write a generator for an infinite sequence of numbers from the Pascal's triangle. The sequence look like this:\n",
    "`1 1 1 1 2 1 1 3 3 1 1 4 6 4 1 1 5 10 10 5 1 1 6 15 20 15 6 1 1 7 21 35 35 21 7 1 1 8 28 56 70 56 28 8 1 1 9 36 84 126 126 84 36 9 1 ... '\n",
    "\n",
    "Test it with a generator from the previous task"
   ]
  },
  {
   "cell_type": "code",
   "execution_count": 40,
   "metadata": {
    "id": "EBNNXBUYUqKJ"
   },
   "outputs": [
    {
     "name": "stdout",
     "output_type": "stream",
     "text": [
      "1 1 1 1 2 1 1 3 3 1 1 4 6 4 1 1 5 10 10 5 1 1 6 15 20 15 6 1 1 7 21 35 35 21 7 1 1 8 28 56 70 56 28 8 1 1 9 36 84 126 126 84 36 9 1 1 10 45 120 210 252 210 120 45 10 1 1 11 55 165 330 462 462 330 165 55 11 1 1 12 66 220 495 792 924 792 495 220 66 12 1 1 13 78 286 715 1287 1716 1716 1287 "
     ]
    }
   ],
   "source": [
    "def pascal_triangle():\n",
    "    \"\"\"\n",
    "    Generator for an infinite sequence of numbers from Pascal's triangle.\n",
    "    \"\"\"\n",
    "    row = [1]\n",
    "    while True:\n",
    "        yield from row\n",
    "        # Generate the next row using the current row\n",
    "        row = [1] + [row[i] + row[i + 1] for i in range(len(row) - 1)] + [1]\n",
    "\n",
    "limited_pascal = limit(pascal_triangle(), 100)\n",
    "\n",
    "for value in limited_pascal:\n",
    "    print(value, end=' ')"
   ]
  },
  {
   "cell_type": "markdown",
   "metadata": {
    "id": "vUiY14pIEiNC"
   },
   "source": [
    "## Exercise 6\n"
   ]
  },
  {
   "cell_type": "code",
   "execution_count": 41,
   "metadata": {
    "id": "eGLSDqNHGFYn"
   },
   "outputs": [
    {
     "name": "stdout",
     "output_type": "stream",
     "text": [
      "assignment_1.ipynb\n",
      "assignment_2.ipynb\n"
     ]
    }
   ],
   "source": [
    "import pathlib  # can change to os module if you want\n",
    "import sys\n",
    "\n",
    "def files_sorted_by_size(path_to_dir):\n",
    "    \"\"\"\n",
    "    Return a list of files in path_to_dir sorted by size.\n",
    "    The same size files sorted alphabetically.\n",
    "    \"\"\"\n",
    "    dir_path = pathlib.Path(path_to_dir)\n",
    "    files = [file for file in dir_path.iterdir() if file.is_file()]\n",
    "    sorted_files = sorted(files, key=lambda f: (f.stat().st_size, f.name))\n",
    "    return sorted_files\n",
    "\n",
    "path = '.'\n",
    "sorted_files = files_sorted_by_size(path)\n",
    "for file in sorted_files:\n",
    "    print(file)"
   ]
  },
  {
   "cell_type": "markdown",
   "metadata": {
    "id": "43eeoixHSa9Y"
   },
   "source": [
    "## Exercise 7\n",
    "\n",
    "Write a `merge_sorter` generator that merges sorted sequences of integers.\n",
    "\n",
    "The generator takes an arbitrary number of arguments. The argument can be any iterable, including another generator. It is guaranteed that each argument is a sequence of integers, sorted in non-decreasing order."
   ]
  },
  {
   "cell_type": "code",
   "execution_count": 2,
   "metadata": {
    "id": "VHmnqHVaScox"
   },
   "outputs": [],
   "source": [
    "def merge_sorter(*args):\n",
    "    # your code here\n",
    "    raise NotImplementedError"
   ]
  },
  {
   "cell_type": "markdown",
   "metadata": {
    "id": "7AF_IQRQVQ-k"
   },
   "source": [
    "## Exercise 8\n",
    "\n",
    "Write the decorator `proﬁler`, which, when calling a function, will store in its attributes (not to be confused with arguments) the time of its execution (in seconds, it can be fractional) and the number of recursive calls that occurred during execution. Name the attributes `last_time_taken` and `calls`.\n",
    "It is forbidden to use global variables.\n",
    "The decorator must behave in a decent manner, that is, it must not overwrite the function's documentation.\n",
    "\n",
    "For tests write [Ackermann function](https://en.wikipedia.org/wiki/Ackermann_function)"
   ]
  },
  {
   "cell_type": "code",
   "execution_count": null,
   "metadata": {
    "id": "WyJ02jbTVQiu"
   },
   "outputs": [],
   "source": [
    "def profiler():\n",
    "    # your code here\n",
    "    raise NotImplementedError\n",
    "\n",
    "def ackermann(n, m):\n",
    "    # your code here\n",
    "    raise NotImplementedError"
   ]
  },
  {
   "cell_type": "markdown",
   "metadata": {
    "id": "QcjAealUfs2Q"
   },
   "source": [
    "## Exercise 9\n",
    "\n",
    "Write the function `encode` that implements [run-length encoding](https://en.wikipedia.org/wiki/Run-length_encoding) algorithm"
   ]
  },
  {
   "cell_type": "code",
   "execution_count": null,
   "metadata": {
    "id": "tBhwbMm9fsMv"
   },
   "outputs": [],
   "source": [
    "def encode(sequence):\n",
    "    # your code here\n",
    "    raise NotImplementedError"
   ]
  },
  {
   "cell_type": "markdown",
   "metadata": {},
   "source": [
    "## Exercise 10\n",
    "\n",
    "Write a decorator `visualizer` that takes a recursive function and will visualize the recursive calls that are made during the execution.\n",
    "Consider using the `networkx` library or some other one in order to draw the recursion tree.\n",
    "Test it with a recursive function that computes fibonacci."
   ]
  },
  {
   "cell_type": "code",
   "execution_count": null,
   "metadata": {},
   "outputs": [],
   "source": [
    "def fibonacci(n):\n",
    "    if n == 0 or n == 1:\n",
    "        return n \n",
    "    return fibonacci(n-1) + fibonacci(n-2)"
   ]
  },
  {
   "cell_type": "code",
   "execution_count": null,
   "metadata": {},
   "outputs": [],
   "source": [
    "def visualizer(func):\n",
    "    # your code here\n",
    "    raise NotImplementedError"
   ]
  },
  {
   "cell_type": "markdown",
   "metadata": {},
   "source": [
    "## Exercise 11\n",
    "\n",
    "Now write a decorator `memoizer` that will do caching on the calls of a function (memoization). \n",
    "Decorate fibonacci with the decorators `memoizer`, `profiler` and `visualizer` at the same time (not necessarily in that order). Test that they're working as one would expect."
   ]
  },
  {
   "cell_type": "code",
   "execution_count": null,
   "metadata": {},
   "outputs": [],
   "source": [
    "def memoizer(func):\n",
    "    # your code here\n",
    "    raise NotImplementedError"
   ]
  },
  {
   "cell_type": "markdown",
   "metadata": {},
   "source": [
    "## Exercise 12"
   ]
  },
  {
   "cell_type": "markdown",
   "metadata": {},
   "source": [
    "By using the `isinstance` method, check whether the following objects belong to the proposed types (hint: `isinstance`).\n",
    "\n",
    "Visualize this correspondance matrix (object – type), e.g. using numpy and [pcolormesh](https://matplotlib.org/stable/api/_as_gen/matplotlib.pyplot.pcolormesh.html) for visualization."
   ]
  },
  {
   "cell_type": "code",
   "execution_count": null,
   "metadata": {},
   "outputs": [],
   "source": [
    "list_of_objects = [\n",
    "    int,\n",
    "    2,\n",
    "    2.,\n",
    "    None,\n",
    "    object,\n",
    "    str,\n",
    "    str(2.),\n",
    "    float('2.0'),\n",
    "    'hello',\n",
    "    dict,\n",
    "    list,\n",
    "    [dict],\n",
    "    {1: []}\n",
    "]\n",
    "\n",
    "list_of_types = [\n",
    "    int,\n",
    "    float,\n",
    "    object,\n",
    "    str,\n",
    "    dict,\n",
    "    list\n",
    "]"
   ]
  },
  {
   "cell_type": "markdown",
   "metadata": {},
   "source": []
  }
 ],
 "metadata": {
  "colab": {
   "collapsed_sections": [],
   "name": "home-assignment04",
   "provenance": []
  },
  "kernelspec": {
   "display_name": ".venv",
   "language": "python",
   "name": "python3"
  },
  "language_info": {
   "codemirror_mode": {
    "name": "ipython",
    "version": 3
   },
   "file_extension": ".py",
   "mimetype": "text/x-python",
   "name": "python",
   "nbconvert_exporter": "python",
   "pygments_lexer": "ipython3",
   "version": "3.13.0"
  }
 },
 "nbformat": 4,
 "nbformat_minor": 1
}
