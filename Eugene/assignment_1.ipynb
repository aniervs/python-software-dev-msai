{
 "cells": [
  {
   "cell_type": "markdown",
   "metadata": {},
   "source": [
    "# Assignment 1"
   ]
  },
  {
   "cell_type": "markdown",
   "metadata": {},
   "source": []
  },
  {
   "cell_type": "code",
   "execution_count": 33,
   "metadata": {},
   "outputs": [],
   "source": [
    "name = \"Eugene Zolotarev\"\n",
    "if name is None:\n",
    "    raise ValueError(\"Put your full name in the `name` variable\")"
   ]
  },
  {
   "cell_type": "markdown",
   "metadata": {},
   "source": [
    "The objective of this assignment is to test a bunch of different topics we've discussed during our introductory classes. Complete the following exercises:"
   ]
  },
  {
   "cell_type": "markdown",
   "metadata": {},
   "source": [
    "## Instructions"
   ]
  },
  {
   "cell_type": "markdown",
   "metadata": {},
   "source": [
    "Complete the notebook and create a folder with your name, and put the notebook in that folder. Make a Pull Request with your code."
   ]
  },
  {
   "cell_type": "markdown",
   "metadata": {
    "id": "hia1cPPnbt-6"
   },
   "source": [
    "## Exercise 0\n",
    "\n",
    "Write your own simple function with simple documentation and all types of arguments (positional, positional with defaults, arbitrary args, keyword args, arbitrary keyword args)"
   ]
  },
  {
   "cell_type": "code",
   "execution_count": 34,
   "metadata": {
    "id": "82YW6fgZbppO"
   },
   "outputs": [
    {
     "name": "stdout",
     "output_type": "stream",
     "text": [
      "first = 1, second = 2, args = (3, 4, 5), kw_first = 6, kwargs = {'kw_second': '7'}\n"
     ]
    }
   ],
   "source": [
    "# your code here\n",
    "def my_function(first, second=\"default\", *args, kw_first, **kwargs):\n",
    "    \"\"\"\n",
    "    A function demonstrating different types of arguments\n",
    "\n",
    "    Args:\n",
    "        first (str): first position argument\n",
    "        kw_first (str): first kw argument\n",
    "        second (str, optional): second positional argument. Defaults to \"default\".\n",
    "    \"\"\"\n",
    "\n",
    "    print(f\"first = {first}, second = {second}, args = {repr(args)}, kw_first = {kw_first}, kwargs = {repr(kwargs)}\")\n",
    "\n",
    "my_function('1', '2', 3, 4, 5, kw_first='6', kw_second='7')"
   ]
  },
  {
   "cell_type": "markdown",
   "metadata": {
    "id": "HYhlKVnwTYzD"
   },
   "source": [
    "## Exercise 1\n"
   ]
  },
  {
   "cell_type": "code",
   "execution_count": 35,
   "metadata": {
    "id": "gv_TvLaHTXh8"
   },
   "outputs": [
    {
     "name": "stdout",
     "output_type": "stream",
     "text": [
      "[(1, False), (2, False), (3, True), (4, False), (5, True), (6, False), (7, True), (8, False), (9, False)]\n"
     ]
    }
   ],
   "source": [
    "from math import sqrt, floor\n",
    "\n",
    "def is_prime(n):\n",
    "    \"\"\"\n",
    "    Check if the number is prime or not.\n",
    "\n",
    "    Args:\n",
    "        n (int): a number to test (should be > 0)\n",
    "    \"\"\"\n",
    "\n",
    "    if n < 3:\n",
    "        return False\n",
    "\n",
    "    for i in range(2, floor(sqrt(n) + 1)):\n",
    "        if n % i == 0:\n",
    "            return False\n",
    "\n",
    "    return True\n",
    "\n",
    "print(repr(list((x, is_prime(x)) for x in range(1, 10))))"
   ]
  },
  {
   "cell_type": "markdown",
   "metadata": {
    "id": "1FXsMX-RKOBG"
   },
   "source": [
    "## Exercise 2\n",
    "\n",
    "[Inspect](https://docs.python.org/3.7/library/inspect.html) will help you. Use `my_function` for tests.\n",
    "\n"
   ]
  },
  {
   "cell_type": "code",
   "execution_count": 36,
   "metadata": {
    "id": "g68Y9DfNQcYD"
   },
   "outputs": [
    {
     "name": "stdout",
     "output_type": "stream",
     "text": [
      "name: my_function\n",
      "first: Positional/Keyword\n",
      "second: Positional/Keyword\n",
      "args: Positional Arbitrary\n",
      "kw_first: Keyword\n",
      "kwargs: Keyword Arbitrary\n"
     ]
    }
   ],
   "source": [
    "from inspect import signature, Parameter\n",
    "\n",
    "def inspect_function(func):\n",
    "    \"\"\"\n",
    "    Takes another function as an argument (but not built-in)\n",
    "    and print the following data:\n",
    "    the name of the analyzed function,\n",
    "    the name of all the arguments it takes\n",
    "    and their types (positional, keyword, etc.)\n",
    "    \"\"\"\n",
    "\n",
    "    print(f\"name: {func.__name__}\")\n",
    "    for arg_name, arg_data in signature(func).parameters.items():\n",
    "        kind = {\n",
    "            Parameter.POSITIONAL_ONLY: 'Positional',\n",
    "            Parameter.POSITIONAL_OR_KEYWORD: 'Positional/Keyword',\n",
    "            Parameter.VAR_POSITIONAL: 'Positional Arbitrary',\n",
    "            Parameter.KEYWORD_ONLY: 'Keyword',\n",
    "            Parameter.VAR_KEYWORD: 'Keyword Arbitrary'\n",
    "        }[arg_data.kind]\n",
    "        print(f\"{arg_name}: {kind}\")\n",
    "\n",
    "inspect_function(my_function)"
   ]
  },
  {
   "cell_type": "markdown",
   "metadata": {
    "id": "oRaKEc0ZIgNs"
   },
   "source": [
    "## Exercise 3"
   ]
  },
  {
   "cell_type": "markdown",
   "metadata": {
    "id": "xmdOYiCrGpUd"
   },
   "source": [
    "The `my_time_now` function is not working correctly. Correct it so that it displays the current time with a message. "
   ]
  },
  {
   "cell_type": "code",
   "execution_count": 37,
   "metadata": {
    "id": "645BoTXIGnHr"
   },
   "outputs": [],
   "source": [
    "from datetime import datetime\n",
    "from time import sleep\n",
    "\n",
    "# wrong function\n",
    "def my_time_now(msg, *, dt=None):\n",
    "    if dt is None:\n",
    "        dt = datetime.now()\n",
    "    print(msg, dt)\n"
   ]
  },
  {
   "cell_type": "code",
   "execution_count": 38,
   "metadata": {
    "id": "3NeyF9UJHeyd"
   },
   "outputs": [
    {
     "name": "stdout",
     "output_type": "stream",
     "text": [
      "The time is now:  2024-12-09 15:20:08.453224\n",
      "The time is now:  2024-12-09 15:20:09.453564\n",
      "The time is now:  2024-12-09 15:20:10.453900\n"
     ]
    }
   ],
   "source": [
    "# simple tests :)\n",
    "my_time_now('The time is now: ')\n",
    "sleep(1)\n",
    "my_time_now('The time is now: ')\n",
    "sleep(1)\n",
    "my_time_now('The time is now: ')"
   ]
  },
  {
   "cell_type": "markdown",
   "metadata": {
    "id": "Qap8_Jb2ENra"
   },
   "source": [
    "## Exercise 4"
   ]
  },
  {
   "cell_type": "code",
   "execution_count": 23,
   "metadata": {
    "id": "JBwZGo84EMW1"
   },
   "outputs": [
    {
     "name": "stdout",
     "output_type": "stream",
     "text": [
      "[0, 1, 2, 3, 4]\n"
     ]
    }
   ],
   "source": [
    "def limit(input_generator, max_count):\n",
    "    \"\"\"\n",
    "    Generator that returns not more than max_count values of the input_generator.\n",
    "    \"\"\"\n",
    "    for _ in range(max_count):\n",
    "        yield next(input_generator)\n",
    "\n",
    "print(list(limit((x for x in range(100)), 5)))"
   ]
  },
  {
   "cell_type": "markdown",
   "metadata": {
    "id": "BvwCKaOxRQ3N"
   },
   "source": [
    "## Exercise 5\n",
    "\n",
    "Write a generator for an infinite sequence of numbers from the Pascal's triangle. The sequence look like this:\n",
    "`1 1 1 1 2 1 1 3 3 1 1 4 6 4 1 1 5 10 10 5 1 1 6 15 20 15 6 1 1 7 21 35 35 21 7 1 1 8 28 56 70 56 28 8 1 1 9 36 84 126 126 84 36 9 1 ... '\n",
    "\n",
    "Test it with a generator from the previous task)"
   ]
  },
  {
   "cell_type": "code",
   "execution_count": 39,
   "metadata": {
    "id": "EBNNXBUYUqKJ"
   },
   "outputs": [
    {
     "name": "stdout",
     "output_type": "stream",
     "text": [
      "[1, 1, 1, 1, 2, 1, 1, 3, 3, 1, 1, 4, 6, 4, 1, 1, 5, 10, 10, 5, 1, 1, 6, 15, 20, 15, 6, 1, 1, 7, 21, 35, 35, 21, 7, 1, 1, 8, 28, 56, 70, 56, 28, 8, 1, 1, 9, 36, 84, 126, 126, 84, 36, 9, 1]\n"
     ]
    }
   ],
   "source": [
    "from itertools import count\n",
    "\n",
    "def pascal_triangle_generator():\n",
    "    result = [[1]]\n",
    "    yield 1\n",
    "    for i in count(start=1):\n",
    "        row = [1]\n",
    "        yield 1\n",
    "        for j in range(1, i):\n",
    "            n = result[i - 1][j - 1] + result[i - 1][j]\n",
    "            yield n\n",
    "            row.append(n)\n",
    "        row.append(1)\n",
    "        yield 1\n",
    "        result.append(row)\n",
    "\n",
    "print(list(limit(pascal_triangle_generator(), 55)))"
   ]
  },
  {
   "cell_type": "markdown",
   "metadata": {
    "id": "vUiY14pIEiNC"
   },
   "source": [
    "## Exercise 6\n"
   ]
  },
  {
   "cell_type": "code",
   "execution_count": 40,
   "metadata": {
    "id": "eGLSDqNHGFYn"
   },
   "outputs": [
    {
     "name": "stdout",
     "output_type": "stream",
     "text": [
      "[PosixPath('../.gitignore'), PosixPath('../README.md')]\n"
     ]
    }
   ],
   "source": [
    "from pathlib import Path\n",
    "\n",
    "def files_sorted_by_size(path_to_dir):\n",
    "    \"\"\"\n",
    "    Return a list of files in path_to_dir sorted by size.\n",
    "    The same size files sorted alphabetically\n",
    "    \"\"\"\n",
    "\n",
    "    def order(f):\n",
    "        return [f.stat().st_size, f.name]\n",
    "\n",
    "    result = [x for x in Path(path_to_dir).iterdir() if x.is_file()]\n",
    "    result.sort(key=order)\n",
    "\n",
    "    return result\n",
    "\n",
    "print(repr(files_sorted_by_size('..')))"
   ]
  },
  {
   "cell_type": "markdown",
   "metadata": {
    "id": "43eeoixHSa9Y"
   },
   "source": [
    "## Exercise 7\n",
    "\n",
    "Write a `merge_sorter` generator that merges sorted sequences of integers.\n",
    "\n",
    "The generator takes an arbitrary number of arguments. The argument can be any iterable, including another generator. It is guaranteed that each argument is a sequence of integers, sorted in non-decreasing order."
   ]
  },
  {
   "cell_type": "code",
   "execution_count": 41,
   "metadata": {
    "id": "VHmnqHVaScox"
   },
   "outputs": [
    {
     "name": "stdout",
     "output_type": "stream",
     "text": [
      "[1, 1, 1, 1, 2, 3, 4, 5, 5, 6, 7, 8, 9, 11]\n"
     ]
    }
   ],
   "source": [
    "def merge_sorter(*generators):\n",
    "    generators = [iter(x) for x in generators]\n",
    "    values = [next(x, None) for x in generators]\n",
    "    while True:\n",
    "        m = min([x for x in values if x is not None], default=None)\n",
    "        i = values.index(m)\n",
    "        if m is None:\n",
    "            return\n",
    "        yield m\n",
    "        values[i] = next(generators[i], None)\n",
    "\n",
    "print(repr(list(merge_sorter([3, 4, 5], [7, 8, 9], [5, 6, 11], limit(pascal_triangle_generator(), 5)))))\n"
   ]
  },
  {
   "cell_type": "markdown",
   "metadata": {
    "id": "7AF_IQRQVQ-k"
   },
   "source": [
    "## Exercise 8\n",
    "\n",
    "Write the decorator `proﬁler`, which, when calling a function, will store in its attributes (not to be confused with arguments) the time of its execution (in seconds, it can be fractional) and the number of recursive calls that occurred during execution. Name the attributes `last_time_taken` and `calls`.\n",
    "It is forbidden to use global variables.\n",
    "The decorator must behave in a decent manner, that is, it must not overwrite the function's documentation.\n",
    "\n",
    "For tests write [Ackermann function](https://en.wikipedia.org/wiki/Ackermann_function)"
   ]
  },
  {
   "cell_type": "code",
   "execution_count": 42,
   "metadata": {
    "id": "WyJ02jbTVQiu"
   },
   "outputs": [
    {
     "name": "stdout",
     "output_type": "stream",
     "text": [
      "A(3, 1) = 13, time = 0:00:00.000093, calls = 106\n"
     ]
    }
   ],
   "source": [
    "import functools\n",
    "from datetime import datetime\n",
    "\n",
    "# Using standard template, described e.g. at https://gist.github.com/jaantollander/48480cfabbe98a7efe4c9848a5b55e6a\n",
    "def profiler(function):\n",
    "    @functools.wraps(function)\n",
    "    def wrapper(*args, **kwargs):\n",
    "        if not hasattr(wrapper, 'calls'):\n",
    "            wrapper.calls = 0\n",
    "\n",
    "        wrapper.calls += 1\n",
    "\n",
    "        start = datetime.now()\n",
    "        result = function(*args, **kwargs)\n",
    "        end = datetime.now()\n",
    "\n",
    "        wrapper.last_time_taken = end - start\n",
    "\n",
    "        return result\n",
    "    return wrapper\n",
    "\n",
    "\n",
    "@profiler\n",
    "def ackermann(m, n):\n",
    "    \"\"\"\n",
    "    Ackerman's function\n",
    "\n",
    "    Args:\n",
    "        n (int): an integer >= 0\n",
    "        m (int): an integer >= 0\n",
    "    \"\"\"\n",
    "    if m == 0:\n",
    "        return n + 1\n",
    "    if n == 0:\n",
    "        return ackermann(m-1, 1)\n",
    "    return ackermann(m-1, ackermann(m, n-1))\n",
    "\n",
    "r = ackermann(3, 1)\n",
    "print(f\"A(3, 1) = {r}, time = {ackermann.last_time_taken}, calls = {ackermann.calls}\")\n"
   ]
  },
  {
   "cell_type": "markdown",
   "metadata": {
    "id": "QcjAealUfs2Q"
   },
   "source": [
    "## Exercise 9\n",
    "\n",
    "Write the function `encode` that implements [run-length encoding](https://en.wikipedia.org/wiki/Run-length_encoding) algorithm"
   ]
  },
  {
   "cell_type": "code",
   "execution_count": 43,
   "metadata": {
    "id": "tBhwbMm9fsMv"
   },
   "outputs": [
    {
     "name": "stdout",
     "output_type": "stream",
     "text": [
      "[4, 'A', 3, 'B', 2, 'C', 1, 'D', 2, 'A']\n"
     ]
    }
   ],
   "source": [
    "from itertools import groupby\n",
    "\n",
    "def encode(sequence):\n",
    "    \"\"\"\n",
    "    Performs RLE\n",
    "\n",
    "    Args:\n",
    "        sequence (list): List of chars\n",
    "\n",
    "    Returns: list; a list where counts is interlaced 1-on-1 with chars\n",
    "    \"\"\"\n",
    "\n",
    "    result = []\n",
    "    for x, group in groupby(sequence):\n",
    "        result.append(sum(1 for _ in group))\n",
    "        result.append(x)\n",
    "\n",
    "    return result\n",
    "\n",
    "print(repr(encode(\"AAAABBBCCDAA\")))"
   ]
  },
  {
   "cell_type": "markdown",
   "metadata": {},
   "source": [
    "## Exercise 10\n",
    "\n",
    "Write a decorator `visualizer` that takes a recursive function and will visualize the recursive calls that are made during the execution.\n",
    "Consider using the `networkx` library or some other one in order to draw the recursion tree.\n",
    "Test it with a recursive function that computes fibonacci."
   ]
  },
  {
   "cell_type": "code",
   "execution_count": 44,
   "metadata": {},
   "outputs": [],
   "source": [
    "import functools\n",
    "from graphviz import Digraph\n",
    "\n",
    "def visualizer(function):\n",
    "    @functools.wraps(function)\n",
    "    def wrapper(*args, **kwargs):\n",
    "        wrapper.__calls += 1\n",
    "        dot = wrapper.__dot\n",
    "        current = str(wrapper.__calls)\n",
    "        dot.node(current, label=repr(args))\n",
    "\n",
    "        old_current = wrapper.__current\n",
    "        wrapper.__current = current\n",
    "        if old_current is not None:\n",
    "            dot.edge(current, old_current)\n",
    "\n",
    "        result = function(*args, **kwargs)\n",
    "\n",
    "        wrapper.__current = old_current\n",
    "        return result\n",
    "    wrapper.__dot = Digraph()\n",
    "    wrapper.__calls = 0\n",
    "    wrapper.__current = None\n",
    "    return wrapper"
   ]
  },
  {
   "cell_type": "code",
   "execution_count": 46,
   "metadata": {},
   "outputs": [
    {
     "data": {
      "image/svg+xml": [
       "<?xml version=\"1.0\" encoding=\"UTF-8\" standalone=\"no\"?>\n",
       "<!DOCTYPE svg PUBLIC \"-//W3C//DTD SVG 1.1//EN\"\n",
       " \"http://www.w3.org/Graphics/SVG/1.1/DTD/svg11.dtd\">\n",
       "<!-- Generated by graphviz version 2.43.0 (0)\n",
       " -->\n",
       "<!-- Title: %3 Pages: 1 -->\n",
       "<svg width=\"458pt\" height=\"332pt\"\n",
       " viewBox=\"0.00 0.00 458.00 332.00\" xmlns=\"http://www.w3.org/2000/svg\" xmlns:xlink=\"http://www.w3.org/1999/xlink\">\n",
       "<g id=\"graph0\" class=\"graph\" transform=\"scale(1 1) rotate(0) translate(4 328)\">\n",
       "<title>%3</title>\n",
       "<polygon fill=\"white\" stroke=\"transparent\" points=\"-4,4 -4,-328 454,-328 454,4 -4,4\"/>\n",
       "<!-- 1 -->\n",
       "<g id=\"node1\" class=\"node\">\n",
       "<title>1</title>\n",
       "<ellipse fill=\"none\" stroke=\"black\" cx=\"279\" cy=\"-18\" rx=\"27\" ry=\"18\"/>\n",
       "<text text-anchor=\"middle\" x=\"279\" y=\"-14.3\" font-family=\"Times,serif\" font-size=\"14.00\">(5,)</text>\n",
       "</g>\n",
       "<!-- 2 -->\n",
       "<g id=\"node2\" class=\"node\">\n",
       "<title>2</title>\n",
       "<ellipse fill=\"none\" stroke=\"black\" cx=\"243\" cy=\"-90\" rx=\"27\" ry=\"18\"/>\n",
       "<text text-anchor=\"middle\" x=\"243\" y=\"-86.3\" font-family=\"Times,serif\" font-size=\"14.00\">(4,)</text>\n",
       "</g>\n",
       "<!-- 2&#45;&gt;1 -->\n",
       "<g id=\"edge1\" class=\"edge\">\n",
       "<title>2&#45;&gt;1</title>\n",
       "<path fill=\"none\" stroke=\"black\" d=\"M251.35,-72.76C255.71,-64.28 261.15,-53.71 266.04,-44.2\"/>\n",
       "<polygon fill=\"black\" stroke=\"black\" points=\"269.23,-45.64 270.7,-35.15 263.01,-42.44 269.23,-45.64\"/>\n",
       "</g>\n",
       "<!-- 3 -->\n",
       "<g id=\"node3\" class=\"node\">\n",
       "<title>3</title>\n",
       "<ellipse fill=\"none\" stroke=\"black\" cx=\"135\" cy=\"-162\" rx=\"27\" ry=\"18\"/>\n",
       "<text text-anchor=\"middle\" x=\"135\" y=\"-158.3\" font-family=\"Times,serif\" font-size=\"14.00\">(3,)</text>\n",
       "</g>\n",
       "<!-- 3&#45;&gt;2 -->\n",
       "<g id=\"edge2\" class=\"edge\">\n",
       "<title>3&#45;&gt;2</title>\n",
       "<path fill=\"none\" stroke=\"black\" d=\"M153.81,-148.81C171,-137.67 196.62,-121.06 215.99,-108.5\"/>\n",
       "<polygon fill=\"black\" stroke=\"black\" points=\"217.92,-111.43 224.4,-103.05 214.11,-105.56 217.92,-111.43\"/>\n",
       "</g>\n",
       "<!-- 4 -->\n",
       "<g id=\"node4\" class=\"node\">\n",
       "<title>4</title>\n",
       "<ellipse fill=\"none\" stroke=\"black\" cx=\"63\" cy=\"-234\" rx=\"27\" ry=\"18\"/>\n",
       "<text text-anchor=\"middle\" x=\"63\" y=\"-230.3\" font-family=\"Times,serif\" font-size=\"14.00\">(2,)</text>\n",
       "</g>\n",
       "<!-- 4&#45;&gt;3 -->\n",
       "<g id=\"edge3\" class=\"edge\">\n",
       "<title>4&#45;&gt;3</title>\n",
       "<path fill=\"none\" stroke=\"black\" d=\"M77.57,-218.83C87.75,-208.94 101.52,-195.55 113.03,-184.36\"/>\n",
       "<polygon fill=\"black\" stroke=\"black\" points=\"115.47,-186.87 120.2,-177.38 110.59,-181.85 115.47,-186.87\"/>\n",
       "</g>\n",
       "<!-- 5 -->\n",
       "<g id=\"node5\" class=\"node\">\n",
       "<title>5</title>\n",
       "<ellipse fill=\"none\" stroke=\"black\" cx=\"27\" cy=\"-306\" rx=\"27\" ry=\"18\"/>\n",
       "<text text-anchor=\"middle\" x=\"27\" y=\"-302.3\" font-family=\"Times,serif\" font-size=\"14.00\">(1,)</text>\n",
       "</g>\n",
       "<!-- 5&#45;&gt;4 -->\n",
       "<g id=\"edge4\" class=\"edge\">\n",
       "<title>5&#45;&gt;4</title>\n",
       "<path fill=\"none\" stroke=\"black\" d=\"M35.35,-288.76C39.71,-280.28 45.15,-269.71 50.04,-260.2\"/>\n",
       "<polygon fill=\"black\" stroke=\"black\" points=\"53.23,-261.64 54.7,-251.15 47.01,-258.44 53.23,-261.64\"/>\n",
       "</g>\n",
       "<!-- 6 -->\n",
       "<g id=\"node6\" class=\"node\">\n",
       "<title>6</title>\n",
       "<ellipse fill=\"none\" stroke=\"black\" cx=\"99\" cy=\"-306\" rx=\"27\" ry=\"18\"/>\n",
       "<text text-anchor=\"middle\" x=\"99\" y=\"-302.3\" font-family=\"Times,serif\" font-size=\"14.00\">(0,)</text>\n",
       "</g>\n",
       "<!-- 6&#45;&gt;4 -->\n",
       "<g id=\"edge5\" class=\"edge\">\n",
       "<title>6&#45;&gt;4</title>\n",
       "<path fill=\"none\" stroke=\"black\" d=\"M90.65,-288.76C86.29,-280.28 80.85,-269.71 75.96,-260.2\"/>\n",
       "<polygon fill=\"black\" stroke=\"black\" points=\"78.99,-258.44 71.3,-251.15 72.77,-261.64 78.99,-258.44\"/>\n",
       "</g>\n",
       "<!-- 7 -->\n",
       "<g id=\"node7\" class=\"node\">\n",
       "<title>7</title>\n",
       "<ellipse fill=\"none\" stroke=\"black\" cx=\"135\" cy=\"-234\" rx=\"27\" ry=\"18\"/>\n",
       "<text text-anchor=\"middle\" x=\"135\" y=\"-230.3\" font-family=\"Times,serif\" font-size=\"14.00\">(1,)</text>\n",
       "</g>\n",
       "<!-- 7&#45;&gt;3 -->\n",
       "<g id=\"edge6\" class=\"edge\">\n",
       "<title>7&#45;&gt;3</title>\n",
       "<path fill=\"none\" stroke=\"black\" d=\"M135,-215.7C135,-207.98 135,-198.71 135,-190.11\"/>\n",
       "<polygon fill=\"black\" stroke=\"black\" points=\"138.5,-190.1 135,-180.1 131.5,-190.1 138.5,-190.1\"/>\n",
       "</g>\n",
       "<!-- 8 -->\n",
       "<g id=\"node8\" class=\"node\">\n",
       "<title>8</title>\n",
       "<ellipse fill=\"none\" stroke=\"black\" cx=\"243\" cy=\"-162\" rx=\"27\" ry=\"18\"/>\n",
       "<text text-anchor=\"middle\" x=\"243\" y=\"-158.3\" font-family=\"Times,serif\" font-size=\"14.00\">(2,)</text>\n",
       "</g>\n",
       "<!-- 8&#45;&gt;2 -->\n",
       "<g id=\"edge7\" class=\"edge\">\n",
       "<title>8&#45;&gt;2</title>\n",
       "<path fill=\"none\" stroke=\"black\" d=\"M243,-143.7C243,-135.98 243,-126.71 243,-118.11\"/>\n",
       "<polygon fill=\"black\" stroke=\"black\" points=\"246.5,-118.1 243,-108.1 239.5,-118.1 246.5,-118.1\"/>\n",
       "</g>\n",
       "<!-- 9 -->\n",
       "<g id=\"node9\" class=\"node\">\n",
       "<title>9</title>\n",
       "<ellipse fill=\"none\" stroke=\"black\" cx=\"207\" cy=\"-234\" rx=\"27\" ry=\"18\"/>\n",
       "<text text-anchor=\"middle\" x=\"207\" y=\"-230.3\" font-family=\"Times,serif\" font-size=\"14.00\">(1,)</text>\n",
       "</g>\n",
       "<!-- 9&#45;&gt;8 -->\n",
       "<g id=\"edge8\" class=\"edge\">\n",
       "<title>9&#45;&gt;8</title>\n",
       "<path fill=\"none\" stroke=\"black\" d=\"M215.35,-216.76C219.71,-208.28 225.15,-197.71 230.04,-188.2\"/>\n",
       "<polygon fill=\"black\" stroke=\"black\" points=\"233.23,-189.64 234.7,-179.15 227.01,-186.44 233.23,-189.64\"/>\n",
       "</g>\n",
       "<!-- 10 -->\n",
       "<g id=\"node10\" class=\"node\">\n",
       "<title>10</title>\n",
       "<ellipse fill=\"none\" stroke=\"black\" cx=\"279\" cy=\"-234\" rx=\"27\" ry=\"18\"/>\n",
       "<text text-anchor=\"middle\" x=\"279\" y=\"-230.3\" font-family=\"Times,serif\" font-size=\"14.00\">(0,)</text>\n",
       "</g>\n",
       "<!-- 10&#45;&gt;8 -->\n",
       "<g id=\"edge9\" class=\"edge\">\n",
       "<title>10&#45;&gt;8</title>\n",
       "<path fill=\"none\" stroke=\"black\" d=\"M270.65,-216.76C266.29,-208.28 260.85,-197.71 255.96,-188.2\"/>\n",
       "<polygon fill=\"black\" stroke=\"black\" points=\"258.99,-186.44 251.3,-179.15 252.77,-189.64 258.99,-186.44\"/>\n",
       "</g>\n",
       "<!-- 11 -->\n",
       "<g id=\"node11\" class=\"node\">\n",
       "<title>11</title>\n",
       "<ellipse fill=\"none\" stroke=\"black\" cx=\"351\" cy=\"-90\" rx=\"27\" ry=\"18\"/>\n",
       "<text text-anchor=\"middle\" x=\"351\" y=\"-86.3\" font-family=\"Times,serif\" font-size=\"14.00\">(3,)</text>\n",
       "</g>\n",
       "<!-- 11&#45;&gt;1 -->\n",
       "<g id=\"edge10\" class=\"edge\">\n",
       "<title>11&#45;&gt;1</title>\n",
       "<path fill=\"none\" stroke=\"black\" d=\"M336.43,-74.83C326.25,-64.94 312.48,-51.55 300.97,-40.36\"/>\n",
       "<polygon fill=\"black\" stroke=\"black\" points=\"303.41,-37.85 293.8,-33.38 298.53,-42.87 303.41,-37.85\"/>\n",
       "</g>\n",
       "<!-- 12 -->\n",
       "<g id=\"node12\" class=\"node\">\n",
       "<title>12</title>\n",
       "<ellipse fill=\"none\" stroke=\"black\" cx=\"351\" cy=\"-162\" rx=\"27\" ry=\"18\"/>\n",
       "<text text-anchor=\"middle\" x=\"351\" y=\"-158.3\" font-family=\"Times,serif\" font-size=\"14.00\">(2,)</text>\n",
       "</g>\n",
       "<!-- 12&#45;&gt;11 -->\n",
       "<g id=\"edge11\" class=\"edge\">\n",
       "<title>12&#45;&gt;11</title>\n",
       "<path fill=\"none\" stroke=\"black\" d=\"M351,-143.7C351,-135.98 351,-126.71 351,-118.11\"/>\n",
       "<polygon fill=\"black\" stroke=\"black\" points=\"354.5,-118.1 351,-108.1 347.5,-118.1 354.5,-118.1\"/>\n",
       "</g>\n",
       "<!-- 13 -->\n",
       "<g id=\"node13\" class=\"node\">\n",
       "<title>13</title>\n",
       "<ellipse fill=\"none\" stroke=\"black\" cx=\"351\" cy=\"-234\" rx=\"27\" ry=\"18\"/>\n",
       "<text text-anchor=\"middle\" x=\"351\" y=\"-230.3\" font-family=\"Times,serif\" font-size=\"14.00\">(1,)</text>\n",
       "</g>\n",
       "<!-- 13&#45;&gt;12 -->\n",
       "<g id=\"edge12\" class=\"edge\">\n",
       "<title>13&#45;&gt;12</title>\n",
       "<path fill=\"none\" stroke=\"black\" d=\"M351,-215.7C351,-207.98 351,-198.71 351,-190.11\"/>\n",
       "<polygon fill=\"black\" stroke=\"black\" points=\"354.5,-190.1 351,-180.1 347.5,-190.1 354.5,-190.1\"/>\n",
       "</g>\n",
       "<!-- 14 -->\n",
       "<g id=\"node14\" class=\"node\">\n",
       "<title>14</title>\n",
       "<ellipse fill=\"none\" stroke=\"black\" cx=\"423\" cy=\"-234\" rx=\"27\" ry=\"18\"/>\n",
       "<text text-anchor=\"middle\" x=\"423\" y=\"-230.3\" font-family=\"Times,serif\" font-size=\"14.00\">(0,)</text>\n",
       "</g>\n",
       "<!-- 14&#45;&gt;12 -->\n",
       "<g id=\"edge13\" class=\"edge\">\n",
       "<title>14&#45;&gt;12</title>\n",
       "<path fill=\"none\" stroke=\"black\" d=\"M408.43,-218.83C398.25,-208.94 384.48,-195.55 372.97,-184.36\"/>\n",
       "<polygon fill=\"black\" stroke=\"black\" points=\"375.41,-181.85 365.8,-177.38 370.53,-186.87 375.41,-181.85\"/>\n",
       "</g>\n",
       "<!-- 15 -->\n",
       "<g id=\"node15\" class=\"node\">\n",
       "<title>15</title>\n",
       "<ellipse fill=\"none\" stroke=\"black\" cx=\"423\" cy=\"-162\" rx=\"27\" ry=\"18\"/>\n",
       "<text text-anchor=\"middle\" x=\"423\" y=\"-158.3\" font-family=\"Times,serif\" font-size=\"14.00\">(1,)</text>\n",
       "</g>\n",
       "<!-- 15&#45;&gt;11 -->\n",
       "<g id=\"edge14\" class=\"edge\">\n",
       "<title>15&#45;&gt;11</title>\n",
       "<path fill=\"none\" stroke=\"black\" d=\"M408.43,-146.83C398.25,-136.94 384.48,-123.55 372.97,-112.36\"/>\n",
       "<polygon fill=\"black\" stroke=\"black\" points=\"375.41,-109.85 365.8,-105.38 370.53,-114.87 375.41,-109.85\"/>\n",
       "</g>\n",
       "</g>\n",
       "</svg>\n"
      ],
      "text/plain": [
       "<graphviz.graphs.Digraph at 0x7f5c37d283b0>"
      ]
     },
     "execution_count": 46,
     "metadata": {},
     "output_type": "execute_result"
    }
   ],
   "source": [
    "@visualizer\n",
    "def fibonacci(n):\n",
    "    if n == 0 or n == 1:\n",
    "        return n\n",
    "    return fibonacci(n-1) + fibonacci(n-2)\n",
    "\n",
    "fibonacci(5)\n",
    "fibonacci.__dot"
   ]
  },
  {
   "cell_type": "markdown",
   "metadata": {},
   "source": [
    "## Exercise 11\n",
    "\n",
    "Now write a decorator `memoizer` that will do caching on the calls of a function (memoization). \n",
    "Decorate fibonacci with the decorators `memoizer`, `profiler` and `visualizer` at the same time (not necessarily in that order). Test that they're working as one would expect."
   ]
  },
  {
   "cell_type": "code",
   "execution_count": 47,
   "metadata": {},
   "outputs": [],
   "source": [
    "import functools\n",
    "\n",
    "def memoizer(function):\n",
    "    @functools.wraps(function)\n",
    "    def wrapper(*args, **kwargs):\n",
    "        cached = wrapper.__cache.get(args, None)\n",
    "        if cached is not None:\n",
    "            return cached\n",
    "\n",
    "        result = function(*args, **kwargs)\n",
    "\n",
    "        wrapper.__cache[args] = result\n",
    "        return result\n",
    "    wrapper.__cache = {}\n",
    "    return wrapper"
   ]
  },
  {
   "cell_type": "code",
   "execution_count": 49,
   "metadata": {},
   "outputs": [
    {
     "name": "stdout",
     "output_type": "stream",
     "text": [
      "decorated_fib(5) = 5, time = 0:00:00.000111, calls = 9\n"
     ]
    },
    {
     "data": {
      "image/svg+xml": [
       "<?xml version=\"1.0\" encoding=\"UTF-8\" standalone=\"no\"?>\n",
       "<!DOCTYPE svg PUBLIC \"-//W3C//DTD SVG 1.1//EN\"\n",
       " \"http://www.w3.org/Graphics/SVG/1.1/DTD/svg11.dtd\">\n",
       "<!-- Generated by graphviz version 2.43.0 (0)\n",
       " -->\n",
       "<!-- Title: %3 Pages: 1 -->\n",
       "<svg width=\"242pt\" height=\"332pt\"\n",
       " viewBox=\"0.00 0.00 242.00 332.00\" xmlns=\"http://www.w3.org/2000/svg\" xmlns:xlink=\"http://www.w3.org/1999/xlink\">\n",
       "<g id=\"graph0\" class=\"graph\" transform=\"scale(1 1) rotate(0) translate(4 328)\">\n",
       "<title>%3</title>\n",
       "<polygon fill=\"white\" stroke=\"transparent\" points=\"-4,4 -4,-328 238,-328 238,4 -4,4\"/>\n",
       "<!-- 1 -->\n",
       "<g id=\"node1\" class=\"node\">\n",
       "<title>1</title>\n",
       "<ellipse fill=\"none\" stroke=\"black\" cx=\"171\" cy=\"-18\" rx=\"27\" ry=\"18\"/>\n",
       "<text text-anchor=\"middle\" x=\"171\" y=\"-14.3\" font-family=\"Times,serif\" font-size=\"14.00\">(5,)</text>\n",
       "</g>\n",
       "<!-- 2 -->\n",
       "<g id=\"node2\" class=\"node\">\n",
       "<title>2</title>\n",
       "<ellipse fill=\"none\" stroke=\"black\" cx=\"135\" cy=\"-90\" rx=\"27\" ry=\"18\"/>\n",
       "<text text-anchor=\"middle\" x=\"135\" y=\"-86.3\" font-family=\"Times,serif\" font-size=\"14.00\">(4,)</text>\n",
       "</g>\n",
       "<!-- 2&#45;&gt;1 -->\n",
       "<g id=\"edge1\" class=\"edge\">\n",
       "<title>2&#45;&gt;1</title>\n",
       "<path fill=\"none\" stroke=\"black\" d=\"M143.35,-72.76C147.71,-64.28 153.15,-53.71 158.04,-44.2\"/>\n",
       "<polygon fill=\"black\" stroke=\"black\" points=\"161.23,-45.64 162.7,-35.15 155.01,-42.44 161.23,-45.64\"/>\n",
       "</g>\n",
       "<!-- 3 -->\n",
       "<g id=\"node3\" class=\"node\">\n",
       "<title>3</title>\n",
       "<ellipse fill=\"none\" stroke=\"black\" cx=\"99\" cy=\"-162\" rx=\"27\" ry=\"18\"/>\n",
       "<text text-anchor=\"middle\" x=\"99\" y=\"-158.3\" font-family=\"Times,serif\" font-size=\"14.00\">(3,)</text>\n",
       "</g>\n",
       "<!-- 3&#45;&gt;2 -->\n",
       "<g id=\"edge2\" class=\"edge\">\n",
       "<title>3&#45;&gt;2</title>\n",
       "<path fill=\"none\" stroke=\"black\" d=\"M107.35,-144.76C111.71,-136.28 117.15,-125.71 122.04,-116.2\"/>\n",
       "<polygon fill=\"black\" stroke=\"black\" points=\"125.23,-117.64 126.7,-107.15 119.01,-114.44 125.23,-117.64\"/>\n",
       "</g>\n",
       "<!-- 4 -->\n",
       "<g id=\"node4\" class=\"node\">\n",
       "<title>4</title>\n",
       "<ellipse fill=\"none\" stroke=\"black\" cx=\"63\" cy=\"-234\" rx=\"27\" ry=\"18\"/>\n",
       "<text text-anchor=\"middle\" x=\"63\" y=\"-230.3\" font-family=\"Times,serif\" font-size=\"14.00\">(2,)</text>\n",
       "</g>\n",
       "<!-- 4&#45;&gt;3 -->\n",
       "<g id=\"edge3\" class=\"edge\">\n",
       "<title>4&#45;&gt;3</title>\n",
       "<path fill=\"none\" stroke=\"black\" d=\"M71.35,-216.76C75.71,-208.28 81.15,-197.71 86.04,-188.2\"/>\n",
       "<polygon fill=\"black\" stroke=\"black\" points=\"89.23,-189.64 90.7,-179.15 83.01,-186.44 89.23,-189.64\"/>\n",
       "</g>\n",
       "<!-- 5 -->\n",
       "<g id=\"node5\" class=\"node\">\n",
       "<title>5</title>\n",
       "<ellipse fill=\"none\" stroke=\"black\" cx=\"27\" cy=\"-306\" rx=\"27\" ry=\"18\"/>\n",
       "<text text-anchor=\"middle\" x=\"27\" y=\"-302.3\" font-family=\"Times,serif\" font-size=\"14.00\">(1,)</text>\n",
       "</g>\n",
       "<!-- 5&#45;&gt;4 -->\n",
       "<g id=\"edge4\" class=\"edge\">\n",
       "<title>5&#45;&gt;4</title>\n",
       "<path fill=\"none\" stroke=\"black\" d=\"M35.35,-288.76C39.71,-280.28 45.15,-269.71 50.04,-260.2\"/>\n",
       "<polygon fill=\"black\" stroke=\"black\" points=\"53.23,-261.64 54.7,-251.15 47.01,-258.44 53.23,-261.64\"/>\n",
       "</g>\n",
       "<!-- 6 -->\n",
       "<g id=\"node6\" class=\"node\">\n",
       "<title>6</title>\n",
       "<ellipse fill=\"none\" stroke=\"black\" cx=\"99\" cy=\"-306\" rx=\"27\" ry=\"18\"/>\n",
       "<text text-anchor=\"middle\" x=\"99\" y=\"-302.3\" font-family=\"Times,serif\" font-size=\"14.00\">(0,)</text>\n",
       "</g>\n",
       "<!-- 6&#45;&gt;4 -->\n",
       "<g id=\"edge5\" class=\"edge\">\n",
       "<title>6&#45;&gt;4</title>\n",
       "<path fill=\"none\" stroke=\"black\" d=\"M90.65,-288.76C86.29,-280.28 80.85,-269.71 75.96,-260.2\"/>\n",
       "<polygon fill=\"black\" stroke=\"black\" points=\"78.99,-258.44 71.3,-251.15 72.77,-261.64 78.99,-258.44\"/>\n",
       "</g>\n",
       "<!-- 7 -->\n",
       "<g id=\"node7\" class=\"node\">\n",
       "<title>7</title>\n",
       "<ellipse fill=\"none\" stroke=\"black\" cx=\"135\" cy=\"-234\" rx=\"27\" ry=\"18\"/>\n",
       "<text text-anchor=\"middle\" x=\"135\" y=\"-230.3\" font-family=\"Times,serif\" font-size=\"14.00\">(1,)</text>\n",
       "</g>\n",
       "<!-- 7&#45;&gt;3 -->\n",
       "<g id=\"edge6\" class=\"edge\">\n",
       "<title>7&#45;&gt;3</title>\n",
       "<path fill=\"none\" stroke=\"black\" d=\"M126.65,-216.76C122.29,-208.28 116.85,-197.71 111.96,-188.2\"/>\n",
       "<polygon fill=\"black\" stroke=\"black\" points=\"114.99,-186.44 107.3,-179.15 108.77,-189.64 114.99,-186.44\"/>\n",
       "</g>\n",
       "<!-- 8 -->\n",
       "<g id=\"node8\" class=\"node\">\n",
       "<title>8</title>\n",
       "<ellipse fill=\"none\" stroke=\"black\" cx=\"171\" cy=\"-162\" rx=\"27\" ry=\"18\"/>\n",
       "<text text-anchor=\"middle\" x=\"171\" y=\"-158.3\" font-family=\"Times,serif\" font-size=\"14.00\">(2,)</text>\n",
       "</g>\n",
       "<!-- 8&#45;&gt;2 -->\n",
       "<g id=\"edge7\" class=\"edge\">\n",
       "<title>8&#45;&gt;2</title>\n",
       "<path fill=\"none\" stroke=\"black\" d=\"M162.65,-144.76C158.29,-136.28 152.85,-125.71 147.96,-116.2\"/>\n",
       "<polygon fill=\"black\" stroke=\"black\" points=\"150.99,-114.44 143.3,-107.15 144.77,-117.64 150.99,-114.44\"/>\n",
       "</g>\n",
       "<!-- 9 -->\n",
       "<g id=\"node9\" class=\"node\">\n",
       "<title>9</title>\n",
       "<ellipse fill=\"none\" stroke=\"black\" cx=\"207\" cy=\"-90\" rx=\"27\" ry=\"18\"/>\n",
       "<text text-anchor=\"middle\" x=\"207\" y=\"-86.3\" font-family=\"Times,serif\" font-size=\"14.00\">(3,)</text>\n",
       "</g>\n",
       "<!-- 9&#45;&gt;1 -->\n",
       "<g id=\"edge8\" class=\"edge\">\n",
       "<title>9&#45;&gt;1</title>\n",
       "<path fill=\"none\" stroke=\"black\" d=\"M198.65,-72.76C194.29,-64.28 188.85,-53.71 183.96,-44.2\"/>\n",
       "<polygon fill=\"black\" stroke=\"black\" points=\"186.99,-42.44 179.3,-35.15 180.77,-45.64 186.99,-42.44\"/>\n",
       "</g>\n",
       "</g>\n",
       "</svg>\n"
      ],
      "text/plain": [
       "<graphviz.graphs.Digraph at 0x7f5c1e612360>"
      ]
     },
     "execution_count": 49,
     "metadata": {},
     "output_type": "execute_result"
    }
   ],
   "source": [
    "@profiler\n",
    "@visualizer\n",
    "@memoizer\n",
    "def decorated_fib(n):\n",
    "    if n == 0 or n == 1:\n",
    "        return n\n",
    "    return decorated_fib(n-1) + decorated_fib(n-2)\n",
    "\n",
    "r = decorated_fib(5)\n",
    "print(f\"decorated_fib(5) = {r}, time = {decorated_fib.last_time_taken}, calls = {decorated_fib.calls}\")\n",
    "decorated_fib.__dot"
   ]
  },
  {
   "cell_type": "markdown",
   "metadata": {},
   "source": [
    "## Exercise 12"
   ]
  },
  {
   "cell_type": "markdown",
   "metadata": {},
   "source": [
    "By using the `isinstance` method, check whether the following objects belong to the proposed types (hint: `isinstance`).\n",
    "\n",
    "Visualize this correspondance matrix (object – type), e.g. using numpy and [pcolormesh](https://matplotlib.org/stable/api/_as_gen/matplotlib.pyplot.pcolormesh.html) for visualization."
   ]
  },
  {
   "cell_type": "code",
   "execution_count": 60,
   "metadata": {},
   "outputs": [
    {
     "data": {
      "text/html": [
       "<table><tr><td><h4></h4></td><td><h4>&lt;class &#x27;int&#x27;&gt;</h4></td><td><h4>&lt;class &#x27;float&#x27;&gt;</h4></td><td><h4>&lt;class &#x27;object&#x27;&gt;</h4></td><td><h4>&lt;class &#x27;str&#x27;&gt;</h4></td><td><h4>&lt;class &#x27;dict&#x27;&gt;</h4></td><td><h4>&lt;class &#x27;list&#x27;&gt;</h4></td></tr><tr><td><h4>&lt;class &#x27;int&#x27;&gt;</h4></td><td><h4>False</h4></td><td><h4>False</h4></td><td><h4>True</h4></td><td><h4>False</h4></td><td><h4>False</h4></td><td><h4>False</h4></td></tr><tr><td><h4>2</h4></td><td><h4>True</h4></td><td><h4>False</h4></td><td><h4>True</h4></td><td><h4>False</h4></td><td><h4>False</h4></td><td><h4>False</h4></td></tr><tr><td><h4>2.0</h4></td><td><h4>False</h4></td><td><h4>True</h4></td><td><h4>True</h4></td><td><h4>False</h4></td><td><h4>False</h4></td><td><h4>False</h4></td></tr><tr><td><h4>None</h4></td><td><h4>False</h4></td><td><h4>False</h4></td><td><h4>True</h4></td><td><h4>False</h4></td><td><h4>False</h4></td><td><h4>False</h4></td></tr><tr><td><h4>&lt;class &#x27;object&#x27;&gt;</h4></td><td><h4>False</h4></td><td><h4>False</h4></td><td><h4>True</h4></td><td><h4>False</h4></td><td><h4>False</h4></td><td><h4>False</h4></td></tr><tr><td><h4>&lt;class &#x27;str&#x27;&gt;</h4></td><td><h4>False</h4></td><td><h4>False</h4></td><td><h4>True</h4></td><td><h4>False</h4></td><td><h4>False</h4></td><td><h4>False</h4></td></tr><tr><td><h4>&#x27;2.0&#x27;</h4></td><td><h4>False</h4></td><td><h4>False</h4></td><td><h4>True</h4></td><td><h4>True</h4></td><td><h4>False</h4></td><td><h4>False</h4></td></tr><tr><td><h4>2.0</h4></td><td><h4>False</h4></td><td><h4>True</h4></td><td><h4>True</h4></td><td><h4>False</h4></td><td><h4>False</h4></td><td><h4>False</h4></td></tr><tr><td><h4>&#x27;hello&#x27;</h4></td><td><h4>False</h4></td><td><h4>False</h4></td><td><h4>True</h4></td><td><h4>True</h4></td><td><h4>False</h4></td><td><h4>False</h4></td></tr><tr><td><h4>&lt;class &#x27;dict&#x27;&gt;</h4></td><td><h4>False</h4></td><td><h4>False</h4></td><td><h4>True</h4></td><td><h4>False</h4></td><td><h4>False</h4></td><td><h4>False</h4></td></tr><tr><td><h4>&lt;class &#x27;list&#x27;&gt;</h4></td><td><h4>False</h4></td><td><h4>False</h4></td><td><h4>True</h4></td><td><h4>False</h4></td><td><h4>False</h4></td><td><h4>False</h4></td></tr><tr><td><h4>[&lt;class &#x27;dict&#x27;&gt;]</h4></td><td><h4>False</h4></td><td><h4>False</h4></td><td><h4>True</h4></td><td><h4>False</h4></td><td><h4>False</h4></td><td><h4>True</h4></td></tr><tr><td><h4>{1: []}</h4></td><td><h4>False</h4></td><td><h4>False</h4></td><td><h4>True</h4></td><td><h4>False</h4></td><td><h4>True</h4></td><td><h4>False</h4></td></tr></table>"
      ],
      "text/plain": [
       "<IPython.core.display.HTML object>"
      ]
     },
     "metadata": {},
     "output_type": "display_data"
    }
   ],
   "source": [
    "from IPython.display import HTML, display\n",
    "from html import escape\n",
    "\n",
    "list_of_objects = [\n",
    "    int,\n",
    "    2,\n",
    "    2.,\n",
    "    None,\n",
    "    object,\n",
    "    str,\n",
    "    str(2.),\n",
    "    float('2.0'),\n",
    "    'hello',\n",
    "    dict,\n",
    "    list,\n",
    "    [dict],\n",
    "    {1: []}\n",
    "]\n",
    "\n",
    "list_of_types = [\n",
    "    int,\n",
    "    float,\n",
    "    object,\n",
    "    str,\n",
    "    dict,\n",
    "    list\n",
    "]\n",
    "\n",
    "def display_table(data):\n",
    "    html = \"<table>\"\n",
    "    for row in data:\n",
    "        html += \"<tr>\"\n",
    "        for field in row:\n",
    "            html += f\"<td><h4>{escape(field)}</h4></td>\"\n",
    "        html += \"</tr>\"\n",
    "    html += \"</table>\"\n",
    "    display(HTML(html))\n",
    "\n",
    "data = [['', *[repr(x) for x in list_of_types]]]\n",
    "for o in list_of_objects:\n",
    "    data.append([repr(o)])\n",
    "    for t in list_of_types:\n",
    "        data[-1].append(str(isinstance(o, t)))\n",
    "\n",
    "display_table(data)"
   ]
  }
 ],
 "metadata": {
  "colab": {
   "collapsed_sections": [],
   "name": "home-assignment04",
   "provenance": []
  },
  "kernelspec": {
   "display_name": "Python 3 (ipykernel)",
   "language": "python",
   "name": "python3"
  },
  "language_info": {
   "codemirror_mode": {
    "name": "ipython",
    "version": 3
   },
   "file_extension": ".py",
   "mimetype": "text/x-python",
   "name": "python",
   "nbconvert_exporter": "python",
   "pygments_lexer": "ipython3",
   "version": "3.12.8"
  }
 },
 "nbformat": 4,
 "nbformat_minor": 4
}
