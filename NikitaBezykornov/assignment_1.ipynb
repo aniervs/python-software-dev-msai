{
 "cells": [
  {
   "cell_type": "markdown",
   "metadata": {},
   "source": [
    "# Assignment 1"
   ]
  },
  {
   "cell_type": "markdown",
   "metadata": {},
   "source": []
  },
  {
   "cell_type": "markdown",
   "metadata": {},
   "source": [
    "The objective of this assignment is to test a bunch of different topics we've discussed during our introductory classes. Complete the following exercises:"
   ]
  },
  {
   "cell_type": "markdown",
   "metadata": {},
   "source": [
    "## Instructions"
   ]
  },
  {
   "cell_type": "markdown",
   "metadata": {},
   "source": [
    "Complete the notebook and create a folder with your name, and put the notebook in that folder. Make a Pull Request with your code."
   ]
  },
  {
   "cell_type": "markdown",
   "metadata": {
    "id": "hia1cPPnbt-6"
   },
   "source": [
    "## Exercise 0\n",
    "\n",
    "Write your own simple function with simple documentation and all types of arguments (positional, positional with defaults, arbitrary args, keyword args, arbitrary keyword args)"
   ]
  },
  {
   "cell_type": "code",
   "execution_count": 2,
   "metadata": {
    "id": "82YW6fgZbppO"
   },
   "outputs": [],
   "source": [
    "def my_function(a, b=1, *args, c=\"default\", **kwargs):\n",
    "    return a, b, args, c, kwargs"
   ]
  },
  {
   "cell_type": "markdown",
   "metadata": {
    "id": "HYhlKVnwTYzD"
   },
   "source": [
    "## Exercise 1\n"
   ]
  },
  {
   "cell_type": "code",
   "execution_count": 3,
   "metadata": {
    "id": "gv_TvLaHTXh8"
   },
   "outputs": [],
   "source": [
    "def is_prime(n):\n",
    "    if n < 2:\n",
    "        return False\n",
    "    for i in range(2, int(n**0.5) + 1):\n",
    "        if n % i == 0:\n",
    "            return False\n",
    "    return True"
   ]
  },
  {
   "cell_type": "markdown",
   "metadata": {
    "id": "1FXsMX-RKOBG"
   },
   "source": [
    "## Exercise 2\n",
    "\n",
    "[Inspect](https://docs.python.org/3.7/library/inspect.html) will help you. Use `my_function` for tests.\n",
    "\n"
   ]
  },
  {
   "cell_type": "code",
   "execution_count": 4,
   "metadata": {
    "id": "g68Y9DfNQcYD"
   },
   "outputs": [],
   "source": [
    "import inspect\n",
    "\n",
    "def inspect_function(func):\n",
    "    sig = inspect.signature(func)\n",
    "    print(\"Function name:\", func.__name__)\n",
    "    for param in sig.parameters.values():\n",
    "        print(f\"Argument: {param.name}, kind: {param.kind}, default: {param.default}\")"
   ]
  },
  {
   "cell_type": "markdown",
   "metadata": {
    "id": "oRaKEc0ZIgNs"
   },
   "source": [
    "## Exercise 3"
   ]
  },
  {
   "cell_type": "markdown",
   "metadata": {
    "id": "xmdOYiCrGpUd"
   },
   "source": [
    "The `my_time_now` function is not working correctly. Correct it so that it displays the current time with a message. "
   ]
  },
  {
   "cell_type": "code",
   "execution_count": 8,
   "metadata": {
    "id": "645BoTXIGnHr"
   },
   "outputs": [],
   "source": [
    "from datetime import datetime\n",
    "from time import sleep\n",
    " \n",
    "# wrong function\n",
    "def my_time_now(msg, *, dt=datetime.now()):\n",
    "    dt = datetime.now()\n",
    "    print(msg, dt)\n",
    " \n"
   ]
  },
  {
   "cell_type": "code",
   "execution_count": 9,
   "metadata": {
    "id": "3NeyF9UJHeyd"
   },
   "outputs": [
    {
     "name": "stdout",
     "output_type": "stream",
     "text": [
      "The time is now:  2024-12-18 17:27:17.647726\n",
      "The time is now:  2024-12-18 17:27:18.648122\n",
      "The time is now:  2024-12-18 17:27:19.648591\n"
     ]
    }
   ],
   "source": [
    "# simple tests :)\n",
    "my_time_now('The time is now: ')\n",
    "sleep(1)\n",
    "my_time_now('The time is now: ')\n",
    "sleep(1)\n",
    "my_time_now('The time is now: ')"
   ]
  },
  {
   "cell_type": "markdown",
   "metadata": {
    "id": "Qap8_Jb2ENra"
   },
   "source": [
    "## Exercise 4"
   ]
  },
  {
   "cell_type": "code",
   "execution_count": 10,
   "metadata": {
    "id": "JBwZGo84EMW1"
   },
   "outputs": [],
   "source": [
    "def limit(input_generator, max_count):\n",
    "    count = 0\n",
    "    for val in input_generator:\n",
    "        if count >= max_count:\n",
    "            break\n",
    "        yield val\n",
    "        count += 1"
   ]
  },
  {
   "cell_type": "markdown",
   "metadata": {
    "id": "BvwCKaOxRQ3N"
   },
   "source": [
    "## Exercise 5\n",
    "\n",
    "Write a generator for an infinite sequence of numbers from the Pascal's triangle. The sequence look like this:\n",
    "`1 1 1 1 2 1 1 3 3 1 1 4 6 4 1 1 5 10 10 5 1 1 6 15 20 15 6 1 1 7 21 35 35 21 7 1 1 8 28 56 70 56 28 8 1 1 9 36 84 126 126 84 36 9 1 ... '\n",
    "\n",
    "Test it with a generator from the previous task)"
   ]
  },
  {
   "cell_type": "code",
   "execution_count": 13,
   "metadata": {
    "id": "EBNNXBUYUqKJ"
   },
   "outputs": [],
   "source": [
    "def pascal_triangle():\n",
    "    row = [1]\n",
    "    while True:\n",
    "        for x in row:\n",
    "            yield x\n",
    "        row = [1] + [row[i] + row[i+1] for i in range(len(row)-1)] + [1]"
   ]
  },
  {
   "cell_type": "code",
   "execution_count": 15,
   "metadata": {},
   "outputs": [
    {
     "name": "stdout",
     "output_type": "stream",
     "text": [
      "1 1 1 1 2 1 1 3 3 1 1 4 6 4 1 "
     ]
    }
   ],
   "source": [
    "for x in limit(pascal_triangle(), 15):\n",
    "    print(x, end=' ')"
   ]
  },
  {
   "cell_type": "markdown",
   "metadata": {
    "id": "vUiY14pIEiNC"
   },
   "source": [
    "## Exercise 6\n"
   ]
  },
  {
   "cell_type": "code",
   "execution_count": 16,
   "metadata": {
    "id": "eGLSDqNHGFYn"
   },
   "outputs": [],
   "source": [
    "import pathlib  # can change to os module if you want\n",
    "import sys\n",
    "\n",
    "def files_sorted_by_size(path_to_dir):\n",
    "    p = pathlib.Path(path_to_dir)\n",
    "    files = [f for f in p.iterdir() if f.is_file()]\n",
    "    files.sort(key=lambda x: (x.stat().st_size, x.name))\n",
    "    return files"
   ]
  },
  {
   "cell_type": "markdown",
   "metadata": {
    "id": "43eeoixHSa9Y"
   },
   "source": [
    "## Exercise 7\n",
    "\n",
    "Write a `merge_sorter` generator that merges sorted sequences of integers.\n",
    "\n",
    "The generator takes an arbitrary number of arguments. The argument can be any iterable, including another generator. It is guaranteed that each argument is a sequence of integers, sorted in non-decreasing order."
   ]
  },
  {
   "cell_type": "code",
   "execution_count": 17,
   "metadata": {
    "id": "VHmnqHVaScox"
   },
   "outputs": [],
   "source": [
    "import heapq\n",
    "\n",
    "def merge_sorter(*args):\n",
    "    for val in heapq.merge(*args):\n",
    "        yield val"
   ]
  },
  {
   "cell_type": "markdown",
   "metadata": {
    "id": "7AF_IQRQVQ-k"
   },
   "source": [
    "## Exercise 8\n",
    "\n",
    "Write the decorator `proﬁler`, which, when calling a function, will store in its attributes (not to be confused with arguments) the time of its execution (in seconds, it can be fractional) and the number of recursive calls that occurred during execution. Name the attributes `last_time_taken` and `calls`.\n",
    "It is forbidden to use global variables.\n",
    "The decorator must behave in a decent manner, that is, it must not overwrite the function's documentation.\n",
    "\n",
    "For tests write [Ackermann function](https://en.wikipedia.org/wiki/Ackermann_function)"
   ]
  },
  {
   "cell_type": "code",
   "execution_count": 19,
   "metadata": {
    "id": "WyJ02jbTVQiu"
   },
   "outputs": [],
   "source": [
    "import time\n",
    "\n",
    "def profiler():\n",
    "    def decorator(func):\n",
    "        func.last_time_taken = 0\n",
    "        func.calls = 0\n",
    "        call_depth = 0\n",
    "\n",
    "        def wrapper(*args, **kwargs):\n",
    "            nonlocal call_depth\n",
    "            start = None\n",
    "            if call_depth == 0:\n",
    "                func.calls = 0\n",
    "                start = time.time()\n",
    "\n",
    "            call_depth += 1\n",
    "            func.calls += 1\n",
    "            result = func(*args, **kwargs)\n",
    "            call_depth -= 1\n",
    "\n",
    "            if call_depth == 0 and start is not None:\n",
    "                end = time.time()\n",
    "                func.last_time_taken = end - start\n",
    "            return result\n",
    "\n",
    "        wrapper.__doc__ = func.__doc__\n",
    "        wrapper.__name__ = func.__name__\n",
    "        return wrapper\n",
    "    return decorator\n",
    "\n",
    "\n",
    "def ackermann(m, n):\n",
    "    if m == 0:\n",
    "        return n+1\n",
    "    elif n == 0:\n",
    "        return ackermann(m-1,1)\n",
    "    else:\n",
    "        return ackermann(m-1, ackermann(m,n-1))"
   ]
  },
  {
   "cell_type": "code",
   "execution_count": null,
   "metadata": {},
   "outputs": [
    {
     "data": {
      "text/plain": [
       "<function __main__.profiler.<locals>.decorator.<locals>.wrapper(*args, **kwargs)>"
      ]
     },
     "execution_count": 21,
     "metadata": {},
     "output_type": "execute_result"
    }
   ],
   "source": [
    "ackermann = profiler()(ackermann)"
   ]
  },
  {
   "cell_type": "markdown",
   "metadata": {
    "id": "QcjAealUfs2Q"
   },
   "source": [
    "## Exercise 9\n",
    "\n",
    "Write the function `encode` that implements [run-length encoding](https://en.wikipedia.org/wiki/Run-length_encoding) algorithm"
   ]
  },
  {
   "cell_type": "code",
   "execution_count": 22,
   "metadata": {
    "id": "tBhwbMm9fsMv"
   },
   "outputs": [],
   "source": [
    "def encode(sequence):\n",
    "    if not sequence:\n",
    "        return []\n",
    "    result = []\n",
    "    current_value = sequence[0]\n",
    "    count = 1\n",
    "    for item in sequence[1:]:\n",
    "        if item == current_value:\n",
    "            count += 1\n",
    "        else:\n",
    "            result.append((count, current_value))\n",
    "            current_value = item\n",
    "            count = 1\n",
    "    result.append((count, current_value))\n",
    "    return result"
   ]
  },
  {
   "cell_type": "markdown",
   "metadata": {},
   "source": [
    "## Exercise 10\n",
    "\n",
    "Write a decorator `visualizer` that takes a recursive function and will visualize the recursive calls that are made during the execution.\n",
    "Consider using the `networkx` library or some other one in order to draw the recursion tree.\n",
    "Test it with a recursive function that computes fibonacci."
   ]
  },
  {
   "cell_type": "code",
   "execution_count": 23,
   "metadata": {},
   "outputs": [],
   "source": [
    "def fibonacci(n):\n",
    "    if n == 0 or n == 1:\n",
    "        return n \n",
    "    return fibonacci(n-1) + fibonacci(n-2)"
   ]
  },
  {
   "cell_type": "code",
   "execution_count": 28,
   "metadata": {},
   "outputs": [],
   "source": [
    "import networkx as nx\n",
    "import matplotlib.pyplot as plt\n",
    "\n",
    "def visualizer(func):\n",
    "    graph = nx.DiGraph()\n",
    "    call_stack = []\n",
    "    call_id_counter = [0]\n",
    "\n",
    "    def wrapper(*args, **kwargs):\n",
    "        call_id = call_id_counter[0]\n",
    "        call_id_counter[0] += 1\n",
    "        node_label = f\"{func.__name__}({args},{kwargs})#{call_id}\"\n",
    "\n",
    "        if call_stack:\n",
    "            graph.add_node(node_label)\n",
    "            graph.add_edge(call_stack[-1], node_label)\n",
    "        else:\n",
    "            graph.add_node(node_label)\n",
    "\n",
    "        call_stack.append(node_label)\n",
    "        result = func(*args, **kwargs)\n",
    "        call_stack.pop()\n",
    "\n",
    "        if not call_stack:\n",
    "            plt.figure(figsize=(10,8))\n",
    "            pos = nx.spring_layout(graph, seed=42)\n",
    "            nx.draw_networkx(graph, pos, with_labels=True, font_size=8)\n",
    "            plt.title(\"Recursion Tree\")\n",
    "            plt.axis('off')\n",
    "            plt.show()\n",
    "            graph.clear()\n",
    "            call_id_counter[0] = 0\n",
    "        return result\n",
    "\n",
    "    wrapper.__doc__ = func.__doc__\n",
    "    wrapper.__name__ = func.__name__\n",
    "    return wrapper"
   ]
  },
  {
   "cell_type": "markdown",
   "metadata": {},
   "source": [
    "## Exercise 11\n",
    "\n",
    "Now write a decorator `memoizer` that will do caching on the calls of a function (memoization). \n",
    "Decorate fibonacci with the decorators `memoizer`, `profiler` and `visualizer` at the same time (not necessarily in that order). Test that they're working as one would expect."
   ]
  },
  {
   "cell_type": "code",
   "execution_count": 35,
   "metadata": {},
   "outputs": [],
   "source": [
    "def memoizer(func):\n",
    "    cache = {}\n",
    "    def wrapper(*args, **kwargs):\n",
    "        key = (args, tuple(sorted(kwargs.items())))\n",
    "        if key in cache:\n",
    "            return cache[key]\n",
    "        result = func(*args, **kwargs)\n",
    "        cache[key] = result\n",
    "        return result\n",
    "    wrapper.__doc__ = func.__doc__\n",
    "    wrapper.__name__ = func.__name__\n",
    "    return wrapper\n",
    "\n",
    "@memoizer\n",
    "@profiler()\n",
    "@visualizer\n",
    "def fibonacci(n):\n",
    "    if n == 0 or n == 1:\n",
    "        return n\n",
    "    return fibonacci(n-1) + fibonacci(n-2)"
   ]
  },
  {
   "cell_type": "markdown",
   "metadata": {},
   "source": [
    "## Exercise 12"
   ]
  },
  {
   "cell_type": "markdown",
   "metadata": {},
   "source": [
    "By using the `isinstance` method, check whether the following objects belong to the proposed types (hint: `isinstance`).\n",
    "\n",
    "Visualize this correspondance matrix (object – type), e.g. using numpy and [pcolormesh](https://matplotlib.org/stable/api/_as_gen/matplotlib.pyplot.pcolormesh.html) for visualization."
   ]
  },
  {
   "cell_type": "code",
   "execution_count": 30,
   "metadata": {},
   "outputs": [
    {
     "data": {
      "image/png": "[encoded data removed]",
      "text/plain": [
       "<Figure size 600x600 with 2 Axes>"
      ]
     },
     "metadata": {},
     "output_type": "display_data"
    }
   ],
   "source": [
    "import numpy as np\n",
    "\n",
    "list_of_objects = [\n",
    "    int,\n",
    "    2,\n",
    "    2.,\n",
    "    None,\n",
    "    object,\n",
    "    str,\n",
    "    str(2.),\n",
    "    float('2.0'),\n",
    "    'hello',\n",
    "    dict,\n",
    "    list,\n",
    "    [dict],\n",
    "    {1: []}\n",
    "]\n",
    "\n",
    "list_of_types = [\n",
    "    int,\n",
    "    float,\n",
    "    object,\n",
    "    str,\n",
    "    dict,\n",
    "    list\n",
    "]\n",
    "\n",
    "matrix = np.zeros((len(list_of_objects), len(list_of_types)), dtype=int)\n",
    "\n",
    "for i, obj in enumerate(list_of_objects):\n",
    "    for j, t in enumerate(list_of_types):\n",
    "        if isinstance(obj, t):\n",
    "            matrix[i, j] = 1\n",
    "\n",
    "plt.figure(figsize=(6,6))\n",
    "plt.pcolormesh(matrix, cmap='Greys', edgecolors='k', linewidth=1)\n",
    "plt.xticks(np.arange(len(list_of_types)) + 0.5, [t.__name__ for t in list_of_types], rotation=90)\n",
    "plt.yticks(np.arange(len(list_of_objects)) + 0.5, [repr(o) for o in list_of_objects])\n",
    "plt.title(\"Isinstance matrix\")\n",
    "plt.colorbar()\n",
    "plt.show()"
   ]
  },
  {
   "cell_type": "markdown",
   "metadata": {},
   "source": []
  }
 ],
 "metadata": {
  "colab": {
   "collapsed_sections": [],
   "name": "home-assignment04",
   "provenance": []
  },
  "kernelspec": {
   "display_name": "Python 3",
   "language": "python",
   "name": "python3"
  },
  "language_info": {
   "codemirror_mode": {
    "name": "ipython",
    "version": 3
   },
   "file_extension": ".py",
   "mimetype": "text/x-python",
   "name": "python",
   "nbconvert_exporter": "python",
   "pygments_lexer": "ipython3",
   "version": "3.12.7"
  }
 },
 "nbformat": 4,
 "nbformat_minor": 1
}
