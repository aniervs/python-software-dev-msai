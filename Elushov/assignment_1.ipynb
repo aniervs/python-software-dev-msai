{
 "cells": [
  {
   "cell_type": "markdown",
   "metadata": {},
   "source": [
    "# Assignment 1"
   ]
  },
  {
   "cell_type": "markdown",
   "metadata": {},
   "source": []
  },
  {
   "cell_type": "code",
   "execution_count": 1,
   "metadata": {},
   "outputs": [],
   "source": [
    "name = 'Ilya_Elushov' \n",
    "if name is None:\n",
    "    raise ValueError(\"Put your full name in the `name` variable\")"
   ]
  },
  {
   "cell_type": "markdown",
   "metadata": {},
   "source": [
    "The objective of this assignment is to test a bunch of different topics we've discussed during our introductory classes. Complete the following exercises:"
   ]
  },
  {
   "cell_type": "markdown",
   "metadata": {},
   "source": [
    "## Instructions"
   ]
  },
  {
   "cell_type": "markdown",
   "metadata": {},
   "source": [
    "Complete the notebook and create a folder with your name, and put the notebook in that folder. Make a Pull Request with your code."
   ]
  },
  {
   "cell_type": "markdown",
   "metadata": {
    "id": "hia1cPPnbt-6"
   },
   "source": [
    "## Exercise 0\n",
    "\n",
    "Write your own simple function with simple documentation and all types of arguments (positional, positional with defaults, arbitrary args, keyword args, arbitrary keyword args)"
   ]
  },
  {
   "cell_type": "code",
   "execution_count": 27,
   "metadata": {
    "id": "82YW6fgZbppO"
   },
   "outputs": [],
   "source": [
    "# your code here\n",
    "def polynt(x, a=0, b=1, c=2, *args, **kwargs):\n",
    "    \"\"\"\n",
    "    This function evaluates a polynomial\n",
    "    a is a cubic coefficient\n",
    "    b is a quadratic coefficient\n",
    "    c is a linear coefficient\n",
    "    args are summed into intercept \n",
    "\n",
    "    \"\"\"\n",
    "\n",
    "    defaultKwargs = { 'func_name': 'test_polynomial'}\n",
    "\n",
    "    kwargs = {**defaultKwargs, **kwargs}\n",
    "\n",
    "    d = sum(args)\n",
    "\n",
    "    if len(kwargs) > 1:\n",
    "        print(f\"keywords arbitrary arguments are: {kwargs}\")\n",
    "\n",
    "    print(f\"Resulting intercept = {d}\")\n",
    "\n",
    "\n",
    "    return a * (x ** 3) + b * (x ** 2) + c * x + d"
   ]
  },
  {
   "cell_type": "code",
   "execution_count": 28,
   "metadata": {},
   "outputs": [
    {
     "name": "stdout",
     "output_type": "stream",
     "text": [
      "keywords arbitrary arguments are: {'func_name': 'test_polynomial', 'key': 'test_key'}\n",
      "Resulting intercept = 11\n"
     ]
    },
    {
     "data": {
      "text/plain": [
       "20"
      ]
     },
     "execution_count": 28,
     "metadata": {},
     "output_type": "execute_result"
    }
   ],
   "source": [
    "polynt(1,2,3,4,5,6, key='test_key')"
   ]
  },
  {
   "cell_type": "markdown",
   "metadata": {
    "id": "HYhlKVnwTYzD"
   },
   "source": [
    "## Exercise 1\n"
   ]
  },
  {
   "cell_type": "code",
   "execution_count": 18,
   "metadata": {
    "id": "gv_TvLaHTXh8"
   },
   "outputs": [],
   "source": [
    "def is_prime(n):\n",
    "    \"\"\"\n",
    "    Check if the number is prime or not.\n",
    "    \"\"\"\n",
    "    not_prime_flag = 0 #presume num is a prime number\n",
    "    if n > 1:\n",
    "        for i in range(2, int(n / 2)):\n",
    "            if (n % i == 0):\n",
    "                not_prime_flag = 1 \n",
    "                break # stop cycle\n",
    "        if not_prime_flag == 1:\n",
    "            print(n , \"is not a prime number\")\n",
    "        else:\n",
    "            print(n , \"is a prime number\")\n",
    "    else:\n",
    "        print(\"Entered number is <= 1, execute again!\")\n",
    "\n",
    "    return not(not_prime_flag)"
   ]
  },
  {
   "cell_type": "code",
   "execution_count": 21,
   "metadata": {},
   "outputs": [
    {
     "name": "stdout",
     "output_type": "stream",
     "text": [
      "Entered number is <= 1, execute again!\n",
      "3 is a prime number\n",
      "8 is not a prime number\n"
     ]
    },
    {
     "data": {
      "text/plain": [
       "False"
      ]
     },
     "execution_count": 21,
     "metadata": {},
     "output_type": "execute_result"
    }
   ],
   "source": [
    "is_prime(1)\n",
    "is_prime(3)\n",
    "is_prime(8)"
   ]
  },
  {
   "cell_type": "markdown",
   "metadata": {
    "id": "1FXsMX-RKOBG"
   },
   "source": [
    "## Exercise 2\n",
    "\n",
    "[Inspect](https://docs.python.org/3.7/library/inspect.html) will help you. Use `my_function` for tests.\n",
    "\n"
   ]
  },
  {
   "cell_type": "code",
   "execution_count": 39,
   "metadata": {
    "id": "g68Y9DfNQcYD"
   },
   "outputs": [],
   "source": [
    "import inspect\n",
    "\n",
    "def inspect_function(func):\n",
    "    \"\"\"\n",
    "    Takes another function as an argument (but not built-in) \n",
    "    and print the following data: \n",
    "    the name of the analyzed function, \n",
    "    the name of all the arguments it takes \n",
    "    and their types (positional, keyword, etc.)\n",
    "    \"\"\"\n",
    "    print(f\"Name: {func.__name__}\")\n",
    "\n",
    "    sig = inspect.signature(func)\n",
    "    for param in sig.parameters.values():\n",
    "        kind_str = {\n",
    "            param.POSITIONAL_ONLY: \"Positional-only\",\n",
    "            param.POSITIONAL_OR_KEYWORD: \"Positional or Keyword\",\n",
    "            param.KEYWORD_ONLY: \"Keyword-only\",\n",
    "            param.VAR_POSITIONAL: \"*args\",\n",
    "            param.VAR_KEYWORD: \"**kwargs\"\n",
    "        }[param.kind]\n",
    "        \n",
    "        print(f\"  - {param.name}: {kind_str}\")\n",
    "    return None"
   ]
  },
  {
   "cell_type": "code",
   "execution_count": 40,
   "metadata": {},
   "outputs": [
    {
     "name": "stdout",
     "output_type": "stream",
     "text": [
      "Name: polynt\n",
      "  - x: Positional or Keyword\n",
      "  - a: Positional or Keyword\n",
      "  - b: Positional or Keyword\n",
      "  - c: Positional or Keyword\n",
      "  - args: *args\n",
      "  - kwargs: **kwargs\n"
     ]
    }
   ],
   "source": [
    "inspect_function(polynt)"
   ]
  },
  {
   "cell_type": "markdown",
   "metadata": {
    "id": "oRaKEc0ZIgNs"
   },
   "source": [
    "## Exercise 3"
   ]
  },
  {
   "cell_type": "markdown",
   "metadata": {
    "id": "xmdOYiCrGpUd"
   },
   "source": [
    "The `my_time_now` function is not working correctly. Correct it so that it displays the current time with a message. "
   ]
  },
  {
   "cell_type": "code",
   "execution_count": null,
   "metadata": {
    "id": "645BoTXIGnHr"
   },
   "outputs": [],
   "source": [
    "from datetime import datetime\n",
    "from time import sleep\n",
    " \n",
    "# wrong function\n",
    "def my_time_now(msg, *, dt=datetime.now()):\n",
    "    # we have to update dt\n",
    "    dt = datetime.now()\n",
    "    print(msg, dt)\n",
    " \n"
   ]
  },
  {
   "cell_type": "code",
   "execution_count": 46,
   "metadata": {
    "id": "3NeyF9UJHeyd"
   },
   "outputs": [
    {
     "name": "stdout",
     "output_type": "stream",
     "text": [
      "The time is now:  2025-01-18 16:18:20.002694\n",
      "The time is now:  2025-01-18 16:18:21.003595\n",
      "The time is now:  2025-01-18 16:18:22.004633\n"
     ]
    }
   ],
   "source": [
    "# simple tests :)\n",
    "my_time_now('The time is now: ')\n",
    "sleep(1)\n",
    "my_time_now('The time is now: ')\n",
    "sleep(1)\n",
    "my_time_now('The time is now: ')"
   ]
  },
  {
   "cell_type": "markdown",
   "metadata": {
    "id": "Qap8_Jb2ENra"
   },
   "source": [
    "## Exercise 4"
   ]
  },
  {
   "cell_type": "code",
   "execution_count": 103,
   "metadata": {
    "id": "JBwZGo84EMW1"
   },
   "outputs": [],
   "source": [
    "def limit(input_generator, max_count):\n",
    "    \"\"\"\n",
    "    Generator that returns not more than max_count values of the input_generator.\n",
    "    \"\"\"\n",
    "    count = 1\n",
    "    while count <= max_count:\n",
    "        yield next(input_generator)\n",
    "        count += 1\n",
    "\n"
   ]
  },
  {
   "cell_type": "code",
   "execution_count": 104,
   "metadata": {},
   "outputs": [
    {
     "name": "stdout",
     "output_type": "stream",
     "text": [
      "0\n",
      "1\n",
      "2\n",
      "3\n",
      "4\n",
      "5\n"
     ]
    }
   ],
   "source": [
    "for j in limit(iter(range(10)),6):\n",
    "    print(j)"
   ]
  },
  {
   "cell_type": "markdown",
   "metadata": {
    "id": "BvwCKaOxRQ3N"
   },
   "source": [
    "## Exercise 5\n",
    "\n",
    "Write a generator for an infinite sequence of numbers from the Pascal's triangle. The sequence look like this:\n",
    "`1 1 1 1 2 1 1 3 3 1 1 4 6 4 1 1 5 10 10 5 1 1 6 15 20 15 6 1 1 7 21 35 35 21 7 1 1 8 28 56 70 56 28 8 1 1 9 36 84 126 126 84 36 9 1 ... '\n",
    "\n",
    "Test it with a generator from the previous task)"
   ]
  },
  {
   "cell_type": "code",
   "execution_count": 109,
   "metadata": {},
   "outputs": [],
   "source": [
    "from math import factorial\n",
    "def tri():\n",
    "\n",
    "    n = 1\n",
    "    while n:\n",
    "        vals = \" \".join([str(factorial(n)//(factorial(m)*factorial(n-m))) for m in range(n+1)])\n",
    "        yield vals\n",
    "        n += 1\n",
    "\n"
   ]
  },
  {
   "cell_type": "code",
   "execution_count": 110,
   "metadata": {},
   "outputs": [
    {
     "name": "stdout",
     "output_type": "stream",
     "text": [
      "1 1\n",
      "1 2 1\n",
      "1 3 3 1\n",
      "1 4 6 4 1\n",
      "1 5 10 10 5 1\n",
      "1 6 15 20 15 6 1\n"
     ]
    }
   ],
   "source": [
    "for j in limit(tri(), 6):\n",
    "    print(j)"
   ]
  },
  {
   "cell_type": "markdown",
   "metadata": {
    "id": "vUiY14pIEiNC"
   },
   "source": [
    "## Exercise 6\n"
   ]
  },
  {
   "cell_type": "code",
   "execution_count": 112,
   "metadata": {
    "id": "eGLSDqNHGFYn"
   },
   "outputs": [],
   "source": [
    "#import pathlib  # can change to os module if you want\n",
    "import os\n",
    "import sys\n",
    "\n",
    "def files_sorted_by_size(path_to_dir):\n",
    "    \"\"\"\n",
    "    Return a list of files in path_to_dir sorted by size.\n",
    "    The same size files sorted alphabetically\n",
    "    \"\"\"\n",
    "    # your code here\n",
    "    raise NotImplementedError"
   ]
  },
  {
   "cell_type": "code",
   "execution_count": 125,
   "metadata": {},
   "outputs": [
    {
     "data": {
      "text/plain": [
       "['homework_git',\n",
       " 'repo_copy',\n",
       " 'requitements_1.txt',\n",
       " 'task2.txt',\n",
       " '.venv',\n",
       " 'my_elushov.yml',\n",
       " 'task1.txt',\n",
       " 'assignment_1.ipynb',\n",
       " 'Practics №1 eng.docx',\n",
       " 'for2lec.ipynb',\n",
       " 'assignment_2.ipynb',\n",
       " 'xgboost-2.1.1+e36d361674cb1b8fd599da891e1e91a427bb4159-py3-none-manylinux_2_28_x86_64.whl',\n",
       " 'obsolete.whl']"
      ]
     },
     "execution_count": 125,
     "metadata": {},
     "output_type": "execute_result"
    }
   ],
   "source": [
    "path = os.getcwd()\n",
    "files_sorted_by_size(path)"
   ]
  },
  {
   "cell_type": "markdown",
   "metadata": {
    "id": "43eeoixHSa9Y"
   },
   "source": [
    "## Exercise 7\n",
    "\n",
    "Write a `merge_sorter` generator that merges sorted sequences of integers.\n",
    "\n",
    "The generator takes an arbitrary number of arguments. The argument can be any iterable, including another generator. It is guaranteed that each argument is a sequence of integers, sorted in non-decreasing order."
   ]
  },
  {
   "cell_type": "code",
   "execution_count": 126,
   "metadata": {
    "id": "VHmnqHVaScox"
   },
   "outputs": [],
   "source": [
    "import heapq\n",
    "\n",
    "def merge_sorter(*args):\n",
    "    # your code here\n",
    "    return heapq.merge(*args)"
   ]
  },
  {
   "cell_type": "code",
   "execution_count": 132,
   "metadata": {},
   "outputs": [
    {
     "data": {
      "text/plain": [
       "[2, 4, 5, 6, 6, 7, 8]"
      ]
     },
     "execution_count": 132,
     "metadata": {},
     "output_type": "execute_result"
    }
   ],
   "source": [
    "list(merge_sorter(iter(range(2,10,2)),[5,6,7]))"
   ]
  },
  {
   "cell_type": "markdown",
   "metadata": {
    "id": "7AF_IQRQVQ-k"
   },
   "source": [
    "## Exercise 8\n",
    "\n",
    "Write the decorator `proﬁler`, which, when calling a function, will store in its attributes (not to be confused with arguments) the time of its execution (in seconds, it can be fractional) and the number of recursive calls that occurred during execution. Name the attributes `last_time_taken` and `calls`.\n",
    "It is forbidden to use global variables.\n",
    "The decorator must behave in a decent manner, that is, it must not overwrite the function's documentation.\n",
    "\n",
    "For tests write [Ackermann function](https://en.wikipedia.org/wiki/Ackermann_function)"
   ]
  },
  {
   "cell_type": "code",
   "execution_count": 25,
   "metadata": {
    "id": "WyJ02jbTVQiu"
   },
   "outputs": [],
   "source": [
    "import time\n",
    "import functools\n",
    "\n",
    "def profiler(func):\n",
    "    @functools.wraps(func)\n",
    "    def wrapper(*args, **kwargs):\n",
    "\n",
    "        wrapper.calls += 1\n",
    "\n",
    "        start_time = time.perf_counter()\n",
    "                \n",
    "        result = func(*args, **kwargs)\n",
    "        \n",
    "        end_time = time.perf_counter()\n",
    "        \n",
    "        wrapper.last_time_taken = end_time - start_time\n",
    "        \n",
    "        return result\n",
    "    \n",
    "    # attributes initialized after wrapper function definition\n",
    "    wrapper.calls = 0\n",
    "    wrapper.last_time_taken = None\n",
    "    \n",
    "    return wrapper\n",
    "\n",
    "@profiler\n",
    "def ackermann(n, m):\n",
    "    if m == 0:\n",
    "        return n + 1\n",
    "    if n == 0:\n",
    "        return ackermann(m - 1, 1)\n",
    "    n2 = ackermann(m, n - 1)\n",
    "    return ackermann(m - 1, n2)\n",
    "\n",
    "@profiler\n",
    "def fibonacci(n):\n",
    "    if n == 0 or n == 1:\n",
    "        return n\n",
    "    return fibonacci(n-1) + fibonacci(n-2)"
   ]
  },
  {
   "cell_type": "code",
   "execution_count": 29,
   "metadata": {},
   "outputs": [
    {
     "name": "stdout",
     "output_type": "stream",
     "text": [
      "Last execution time: 0.000091 seconds\n",
      "Total calls: 207\n"
     ]
    }
   ],
   "source": [
    "fibonacci(10)\n",
    "print(f\"Last execution time: {fibonacci.last_time_taken:.6f} seconds\")\n",
    "print(f\"Total calls: {fibonacci.calls}\")"
   ]
  },
  {
   "cell_type": "code",
   "execution_count": 27,
   "metadata": {},
   "outputs": [
    {
     "name": "stdout",
     "output_type": "stream",
     "text": [
      "Last execution time: 0.000001 seconds\n",
      "Total calls: 7480\n"
     ]
    }
   ],
   "source": [
    "try:\n",
    "    ackermann(2, 2)\n",
    "except:\n",
    "    ackermann(1, 0)\n",
    "print(f\"Last execution time: {ackermann.last_time_taken:.6f} seconds\")\n",
    "print(f\"Total calls: {ackermann.calls}\")"
   ]
  },
  {
   "cell_type": "markdown",
   "metadata": {},
   "source": [
    "what the?!"
   ]
  },
  {
   "cell_type": "markdown",
   "metadata": {
    "id": "QcjAealUfs2Q"
   },
   "source": [
    "## Exercise 9\n",
    "\n",
    "Write the function `encode` that implements [run-length encoding](https://en.wikipedia.org/wiki/Run-length_encoding) algorithm"
   ]
  },
  {
   "cell_type": "code",
   "execution_count": 176,
   "metadata": {
    "id": "tBhwbMm9fsMv"
   },
   "outputs": [
    {
     "name": "stdout",
     "output_type": "stream",
     "text": [
      "w3x3w3\n"
     ]
    }
   ],
   "source": [
    "# Function to perform Run-Length Encoding using a simple iterative approach\n",
    "def encode(input):\n",
    "    output = ''\n",
    "    \n",
    "    # We start with the first character\n",
    "    count = 1  \n",
    "    \n",
    "    # Loop through the string starting from the second character\n",
    "    for i in range(1, len(input)):\n",
    "      \n",
    "       # If the current character is the same as the previous one\n",
    "        if input[i] == input[i - 1]: \n",
    "            count += 1  # Increment the count\n",
    "        else:\n",
    "          \n",
    "              # Add previous character and its count to output\n",
    "            output += f\"{input[i - 1]}{count}\"  \n",
    "            \n",
    "            # Reset count for the new character\n",
    "            count = 1  \n",
    "    \n",
    "    # After the loop, we still need to add the last character group\n",
    "    output += f\"{input[-1]}{count}\"\n",
    "    \n",
    "    return output\n",
    "\n",
    "\n",
    "input = \"wwwxxxwww\"\n",
    "print(encode(input))  # Expected output: w3x3w3"
   ]
  },
  {
   "cell_type": "markdown",
   "metadata": {},
   "source": [
    "## Exercise 10\n",
    "\n",
    "Write a decorator `visualizer` that takes a recursive function and will visualize the recursive calls that are made during the execution.\n",
    "Consider using the `networkx` library or some other one in order to draw the recursion tree.\n",
    "Test it with a recursive function that computes fibonacci."
   ]
  },
  {
   "cell_type": "code",
   "execution_count": 53,
   "metadata": {},
   "outputs": [
    {
     "data": {
      "image/png": "[encoded data removed]",
      "text/plain": [
       "<Figure size 640x480 with 1 Axes>"
      ]
     },
     "metadata": {},
     "output_type": "display_data"
    }
   ],
   "source": [
    "import networkx as nx\n",
    "import matplotlib.pyplot as plt\n",
    "\n",
    "def visualizer(func):\n",
    "    graph = nx.DiGraph()\n",
    "    \n",
    "    @functools.wraps(func)\n",
    "    def wrapper(n):\n",
    "        # Create a unique identifier for each call\n",
    "        node_id = f\"fib({n})\"\n",
    "        graph.add_node(node_id)\n",
    "        \n",
    "        # Visualize the call\n",
    "        if n > 1:\n",
    "            parent1 = f\"fib({n-1})\"\n",
    "            parent2 = f\"fib({n-2})\"\n",
    "            graph.add_edge(node_id, parent1)\n",
    "            graph.add_edge(node_id, parent2)\n",
    "        \n",
    "        result = func(n)\n",
    "        \n",
    "        return result\n",
    "    \n",
    "    def show_graph():\n",
    "        pos = nx.spring_layout(graph)\n",
    "        nx.draw(graph, pos, with_labels=True, arrows=True)\n",
    "        plt.show()\n",
    "    \n",
    "    wrapper.show_graph = show_graph\n",
    "    \n",
    "    return wrapper\n",
    "\n",
    "# Add decorator\n",
    "# Decorator accepts optional arguments: ignore_args , show_argument_name, show_return_value and node_properties_kwargs\n",
    "@visualizer\n",
    "def fibonacci(n):\n",
    "    if n == 0 or n == 1:\n",
    "        return n\n",
    "    return fibonacci(n-1) + fibonacci(n-2)\n",
    "\n",
    "\n",
    "fibonacci(n=6)\n",
    "fibonacci.show_graph()\n"
   ]
  },
  {
   "cell_type": "markdown",
   "metadata": {},
   "source": [
    "## Exercise 11\n",
    "\n",
    "Now write a decorator `memoizer` that will do caching on the calls of a function (memoization). \n",
    "Decorate fibonacci with the decorators `memoizer`, `profiler` and `visualizer` at the same time (not necessarily in that order). Test that they're working as one would expect."
   ]
  },
  {
   "cell_type": "code",
   "execution_count": 41,
   "metadata": {},
   "outputs": [],
   "source": [
    "memory = {}\n",
    "\n",
    "def memoizer(func):\n",
    "    @functools.wraps\n",
    "    def inner(num):\n",
    "        if num not in memory:\n",
    "            memory[num] = func(num)\n",
    "        return memory[num]\n",
    " \n",
    "    return inner"
   ]
  },
  {
   "cell_type": "code",
   "execution_count": 58,
   "metadata": {},
   "outputs": [
    {
     "data": {
      "text/plain": [
       "8"
      ]
     },
     "execution_count": 58,
     "metadata": {},
     "output_type": "execute_result"
    }
   ],
   "source": [
    "@profiler\n",
    "@visualizer\n",
    "@memoizer\n",
    "def fib_new(n):\n",
    "    if n == 0 or n == 1:\n",
    "        return n\n",
    "    return fib_new(n-1) + fib_new(n-2)\n",
    "\n",
    "fib_new(6)\n",
    "\n"
   ]
  },
  {
   "cell_type": "code",
   "execution_count": 59,
   "metadata": {},
   "outputs": [
    {
     "data": {
      "image/png": "[encoded data removed]",
      "text/plain": [
       "<Figure size 640x480 with 1 Axes>"
      ]
     },
     "metadata": {},
     "output_type": "display_data"
    },
    {
     "name": "stdout",
     "output_type": "stream",
     "text": [
      "Last execution time: 0.000048 seconds\n",
      "Total calls: 11\n"
     ]
    }
   ],
   "source": [
    "fib_new.show_graph()\n",
    "print(f\"Last execution time: {fib_new.last_time_taken:.6f} seconds\")\n",
    "print(f\"Total calls: {fib_new.calls}\")"
   ]
  },
  {
   "cell_type": "markdown",
   "metadata": {},
   "source": [
    "## Exercise 12"
   ]
  },
  {
   "cell_type": "markdown",
   "metadata": {},
   "source": [
    "By using the `isinstance` method, check whether the following objects belong to the proposed types (hint: `isinstance`).\n",
    "\n",
    "Visualize this correspondance matrix (object – type), e.g. using numpy and [pcolormesh](https://matplotlib.org/stable/api/_as_gen/matplotlib.pyplot.pcolormesh.html) for visualization."
   ]
  },
  {
   "cell_type": "code",
   "execution_count": 61,
   "metadata": {},
   "outputs": [],
   "source": [
    "list_of_objects = [\n",
    "    int,\n",
    "    2,\n",
    "    2.,\n",
    "    None,\n",
    "    object,\n",
    "    str,\n",
    "    str(2.),\n",
    "    float('2.0'),\n",
    "    'hello',\n",
    "    dict,\n",
    "    list,\n",
    "    [dict],\n",
    "    {1: []}\n",
    "]\n",
    "\n",
    "list_of_types = [\n",
    "    int,\n",
    "    float,\n",
    "    object,\n",
    "    str,\n",
    "    dict,\n",
    "    list\n",
    "]\n",
    "\n",
    "correspondence_matrix = [\n",
    "    [isinstance(obj, typ) for obj in list_of_objects] \n",
    "    for typ in list_of_types\n",
    "    ]"
   ]
  },
  {
   "cell_type": "code",
   "execution_count": 68,
   "metadata": {},
   "outputs": [
    {
     "data": {
      "text/plain": [
       "[False,\n",
       " True,\n",
       " False,\n",
       " False,\n",
       " False,\n",
       " False,\n",
       " False,\n",
       " False,\n",
       " False,\n",
       " False,\n",
       " False,\n",
       " False,\n",
       " False]"
      ]
     },
     "execution_count": 68,
     "metadata": {},
     "output_type": "execute_result"
    }
   ],
   "source": [
    "correspondence_matrix[0]"
   ]
  },
  {
   "cell_type": "code",
   "execution_count": 69,
   "metadata": {},
   "outputs": [
    {
     "data": {
      "image/png": "[encoded data removed]",
      "text/plain": [
       "<Figure size 600x400 with 1 Axes>"
      ]
     },
     "metadata": {},
     "output_type": "display_data"
    }
   ],
   "source": [
    "plt.figure(figsize=(6, 4))\n",
    "\n",
    "plt.pcolormesh(correspondence_matrix, cmap='Greens')\n",
    "\n",
    "plt.yticks(range(len(list_of_types)), [typ.__name__ for typ in list_of_types], rotation=0)\n",
    "plt.xticks(range(len(list_of_objects)), [str(obj) for obj in list_of_objects], rotation=45)\n",
    "\n",
    "plt.title(\"Type Correspondence Matrix\")\n",
    "\n",
    "plt.tight_layout()\n",
    "plt.show()"
   ]
  },
  {
   "cell_type": "markdown",
   "metadata": {},
   "source": []
  }
 ],
 "metadata": {
  "colab": {
   "collapsed_sections": [],
   "name": "home-assignment04",
   "provenance": []
  },
  "kernelspec": {
   "display_name": "Python 3",
   "language": "python",
   "name": "python3"
  },
  "language_info": {
   "codemirror_mode": {
    "name": "ipython",
    "version": 3
   },
   "file_extension": ".py",
   "mimetype": "text/x-python",
   "name": "python",
   "nbconvert_exporter": "python",
   "pygments_lexer": "ipython3",
   "version": "3.10.12"
  }
 },
 "nbformat": 4,
 "nbformat_minor": 1
}
