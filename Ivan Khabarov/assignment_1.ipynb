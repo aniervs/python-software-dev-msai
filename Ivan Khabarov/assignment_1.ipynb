{
 "cells": [
  {
   "cell_type": "markdown",
   "metadata": {},
   "source": [
    "# Assignment 1"
   ]
  },
  {
   "cell_type": "markdown",
   "metadata": {},
   "source": []
  },
  {
   "cell_type": "code",
   "execution_count": 4,
   "metadata": {},
   "outputs": [],
   "source": [
    "name = 'Ivan Khabarov' \n",
    "if name is None:\n",
    "    raise ValueError(\"Put your full name in the `name` variable\")"
   ]
  },
  {
   "cell_type": "markdown",
   "metadata": {},
   "source": [
    "The objective of this assignment is to test a bunch of different topics we've discussed during our introductory classes. Complete the following exercises:"
   ]
  },
  {
   "cell_type": "markdown",
   "metadata": {},
   "source": [
    "## Instructions"
   ]
  },
  {
   "cell_type": "markdown",
   "metadata": {},
   "source": [
    "Complete the notebook and create a folder with your name, and put the notebook in that folder. Make a Pull Request with your code."
   ]
  },
  {
   "cell_type": "markdown",
   "metadata": {
    "id": "hia1cPPnbt-6"
   },
   "source": [
    "## Exercise 0\n",
    "\n",
    "Write your own simple function with simple documentation and all types of arguments (positional, positional with defaults, arbitrary args, keyword args, arbitrary keyword args)"
   ]
  },
  {
   "cell_type": "code",
   "execution_count": 103,
   "metadata": {
    "id": "82YW6fgZbppO"
   },
   "outputs": [
    {
     "name": "stdout",
     "output_type": "stream",
     "text": [
      "knock knock knock Penny?\n",
      "knock knock knock Penny?\n",
      "knock knock knock Penny?\n",
      "\n",
      "knock knock knock Hovard?\n",
      "knock knock knock Hovard?\n",
      "knock knock knock Hovard?\n",
      "\n",
      "Hi, Penny!\n",
      "\n",
      "Where are the others?\n",
      "\n",
      "- Raj at home.\n",
      "- Leonard at work.\n"
     ]
    }
   ],
   "source": [
    "# your code here\n",
    "def my_function(question_count, knocks=1, *friends, opener=\"\", **others):\n",
    "    '''\n",
    "    Sheldon Cooper knocks on the door.\n",
    "\n",
    "    Args:\n",
    "        question_count - the first value;\n",
    "        knocks - count of knocks;\n",
    "        *friends - friends of Sheldon;\n",
    "        opener - who open the door;\n",
    "        **others - where are the other friends.\n",
    "\n",
    "    Returns:\n",
    "    \n",
    "    '''\n",
    "    for friend in friends:\n",
    "        for _ in range(question_count):\n",
    "            print('knock '*knocks + f'{friend}?')\n",
    "        print()\n",
    "    print(f'Hi, {opener}!')\n",
    "    print()\n",
    "    print('Where are the others?',end='\\n\\n')\n",
    "    for key in others.keys():\n",
    "        print(f'- {key.capitalize()} {others[key]}.')\n",
    "\n",
    "my_function(3, 3, \"Penny\", \"Hovard\", opener=\"Penny\", raj='at home', leonard='at work')"
   ]
  },
  {
   "cell_type": "markdown",
   "metadata": {
    "id": "HYhlKVnwTYzD"
   },
   "source": [
    "## Exercise 1\n"
   ]
  },
  {
   "cell_type": "code",
   "execution_count": 104,
   "metadata": {
    "id": "gv_TvLaHTXh8"
   },
   "outputs": [
    {
     "name": "stdout",
     "output_type": "stream",
     "text": [
      "Number 2 is prime\n",
      "Number 3 is prime\n",
      "Number 4 is NOT prime\n",
      "Number 5 is prime\n",
      "Number 6 is NOT prime\n",
      "Number 7 is prime\n",
      "Number 8 is NOT prime\n",
      "Number 9 is NOT prime\n",
      "Number 10 is NOT prime\n",
      "Number 11 is prime\n",
      "Number 12 is NOT prime\n",
      "Number 13 is prime\n",
      "Number 14 is NOT prime\n",
      "Number 15 is NOT prime\n",
      "Number 16 is NOT prime\n",
      "Number 17 is prime\n",
      "Number 18 is NOT prime\n",
      "Number 19 is prime\n"
     ]
    }
   ],
   "source": [
    "def is_prime(n):\n",
    "    \"\"\"\n",
    "    Check if the number is prime or not.\n",
    "    \"\"\"\n",
    "    # your code here\n",
    "    for i in range(2,n):\n",
    "        if n % i == 0:\n",
    "            return print(f\"Number {n} is NOT prime\")\n",
    "    return print(f\"Number {n} is prime\")\n",
    "\n",
    "for number in range(2,20):\n",
    "    is_prime(number)"
   ]
  },
  {
   "cell_type": "markdown",
   "metadata": {
    "id": "1FXsMX-RKOBG"
   },
   "source": [
    "## Exercise 2\n",
    "\n",
    "[Inspect](https://docs.python.org/3.7/library/inspect.html) will help you. Use `my_function` for tests.\n",
    "\n"
   ]
  },
  {
   "cell_type": "code",
   "execution_count": 105,
   "metadata": {
    "id": "g68Y9DfNQcYD"
   },
   "outputs": [
    {
     "name": "stdout",
     "output_type": "stream",
     "text": [
      "The name of the function: my_function\n",
      "\n",
      "Arguments:\n",
      "    name: question_count\n",
      "    type: POSITIONAL_OR_KEYWORD\n",
      "    default: None\n",
      "\n",
      "    name: knocks\n",
      "    type: POSITIONAL_OR_KEYWORD\n",
      "    default: 1\n",
      "\n",
      "    name: friends\n",
      "    type: VAR_POSITIONAL\n",
      "    default: None\n",
      "\n",
      "    name: opener\n",
      "    type: KEYWORD_ONLY\n",
      "    default: \n",
      "\n",
      "    name: others\n",
      "    type: VAR_KEYWORD\n",
      "    default: None\n",
      "\n"
     ]
    }
   ],
   "source": [
    "import inspect\n",
    "\n",
    "def inspect_function(func):\n",
    "    \"\"\"\n",
    "    Takes another function as an argument (but not built-in) \n",
    "    and print the following data: \n",
    "    the name of the analyzed function, \n",
    "    the name of all the arguments it takes \n",
    "    and their types (positional, keyword, etc.)\n",
    "    \"\"\"\n",
    "    # your code here\n",
    "    print(f'The name of the function: {func.__name__}')\n",
    "    print()\n",
    "    print('Arguments:')\n",
    "    signature = inspect.signature(func)\n",
    "    for name, param in signature.parameters.items():\n",
    "        print(f\"    name: {name}\")\n",
    "        print(f\"    type: {param.kind}\")\n",
    "        print(f\"    default: {param.default if param.default != inspect.Parameter.empty else 'None'}\")\n",
    "        print()\n",
    "\n",
    "inspect_function(my_function)"
   ]
  },
  {
   "cell_type": "markdown",
   "metadata": {
    "id": "oRaKEc0ZIgNs"
   },
   "source": [
    "## Exercise 3"
   ]
  },
  {
   "cell_type": "markdown",
   "metadata": {
    "id": "xmdOYiCrGpUd"
   },
   "source": [
    "The `my_time_now` function is not working correctly. Correct it so that it displays the current time with a message. "
   ]
  },
  {
   "cell_type": "code",
   "execution_count": 101,
   "metadata": {
    "id": "645BoTXIGnHr"
   },
   "outputs": [],
   "source": [
    "from datetime import datetime\n",
    "from time import sleep\n",
    " \n",
    "# wrong function\n",
    "def my_time_now(msg):\n",
    "    print(msg, datetime.now())\n"
   ]
  },
  {
   "cell_type": "code",
   "execution_count": 106,
   "metadata": {
    "id": "3NeyF9UJHeyd"
   },
   "outputs": [
    {
     "name": "stdout",
     "output_type": "stream",
     "text": [
      "The time is now:  2024-12-08 15:16:14.257141\n",
      "The time is now:  2024-12-08 15:16:15.264556\n",
      "The time is now:  2024-12-08 15:16:16.269318\n"
     ]
    }
   ],
   "source": [
    "# simple tests :)\n",
    "my_time_now('The time is now: ')\n",
    "sleep(1)\n",
    "my_time_now('The time is now: ')\n",
    "sleep(1)\n",
    "my_time_now('The time is now: ')"
   ]
  },
  {
   "cell_type": "markdown",
   "metadata": {
    "id": "Qap8_Jb2ENra"
   },
   "source": [
    "## Exercise 4"
   ]
  },
  {
   "cell_type": "code",
   "execution_count": 145,
   "metadata": {
    "id": "JBwZGo84EMW1"
   },
   "outputs": [
    {
     "name": "stdout",
     "output_type": "stream",
     "text": [
      "[0, 1, 2, 3, 4, 5, 6, 7, 8, 9]\n"
     ]
    }
   ],
   "source": [
    "def limit(input_generator, max_count):\n",
    "    \"\"\"\n",
    "    Generator that returns not more than max_count values of the input_generator.\n",
    "    \"\"\"\n",
    "    # your code here \n",
    "    count = 0\n",
    "    for item in input_generator:\n",
    "        if count >= max_count:\n",
    "            break\n",
    "        yield item\n",
    "        count += 1\n",
    "\n",
    "def generator():\n",
    "    i=0\n",
    "    while True:\n",
    "        yield i\n",
    "        i+=1\n",
    "\n",
    "limited_gen = limit(generator(), 10)\n",
    "print(list(limited_gen))"
   ]
  },
  {
   "cell_type": "markdown",
   "metadata": {
    "id": "BvwCKaOxRQ3N"
   },
   "source": [
    "## Exercise 5\n",
    "\n",
    "Write a generator for an infinite sequence of numbers from the Pascal's triangle. The sequence look like this:\n",
    "`1 1 1 1 2 1 1 3 3 1 1 4 6 4 1 1 5 10 10 5 1 1 6 15 20 15 6 1 1 7 21 35 35 21 7 1 1 8 28 56 70 56 28 8 1 1 9 36 84 126 126 84 36 9 1 ... '\n",
    "\n",
    "Test it with a generator from the previous task)"
   ]
  },
  {
   "cell_type": "code",
   "execution_count": 151,
   "metadata": {
    "id": "EBNNXBUYUqKJ"
   },
   "outputs": [
    {
     "name": "stdout",
     "output_type": "stream",
     "text": [
      "[1, 1, 1, 1, 2, 1, 1, 3, 3, 1, 1, 4, 6, 4, 1, 1, 5, 10, 10, 5]\n"
     ]
    }
   ],
   "source": [
    "# your code here\n",
    "def pascals_triangle():\n",
    "    row = [1] \n",
    "    while True:\n",
    "        for num in row:\n",
    "            yield num\n",
    "        row = [1] + [row[i] + row[i + 1] for i in range(len(row) - 1)] + [1]\n",
    "\n",
    "limited_gen = limit(pascals_triangle(), 20)\n",
    "print(list(limited_gen))"
   ]
  },
  {
   "cell_type": "markdown",
   "metadata": {
    "id": "vUiY14pIEiNC"
   },
   "source": [
    "## Exercise 6\n"
   ]
  },
  {
   "cell_type": "code",
   "execution_count": 161,
   "metadata": {
    "id": "eGLSDqNHGFYn"
   },
   "outputs": [
    {
     "name": "stdout",
     "output_type": "stream",
     "text": [
      "['test_day2.py', 'aoc1.py', 'aoc2.py', 'test_day1.py']\n"
     ]
    }
   ],
   "source": [
    "import pathlib  # can change to os module if you want\n",
    "import sys\n",
    "\n",
    "def files_sorted_by_size(path_to_dir):\n",
    "    \"\"\"\n",
    "    Return a list of files in path_to_dir sorted by size.\n",
    "    The same size files sorted alphabetically\n",
    "    \"\"\"\n",
    "    # your code here\n",
    "    path = pathlib.Path(path_to_dir)\n",
    "    \n",
    "    stat_list = []\n",
    "    for file in path.iterdir():\n",
    "        if file.is_file():\n",
    "            stat_list.append((file.name, file.stat().st_size))\n",
    "    \n",
    "    sorted_files = sorted(stat_list, key=lambda x: (x[1], x[0]))\n",
    "\n",
    "    # show sorted list\n",
    "    # for i in sorted_files:\n",
    "    #     print(i[0], i[1])\n",
    "    \n",
    "    return [file[0] for file in sorted_files]\n",
    "\n",
    "\n",
    "result = files_sorted_by_size(\"../aoc_example\")\n",
    "print(result)"
   ]
  },
  {
   "cell_type": "markdown",
   "metadata": {
    "id": "43eeoixHSa9Y"
   },
   "source": [
    "## Exercise 7\n",
    "\n",
    "Write a `merge_sorter` generator that merges sorted sequences of integers.\n",
    "\n",
    "The generator takes an arbitrary number of arguments. The argument can be any iterable, including another generator. It is guaranteed that each argument is a sequence of integers, sorted in non-decreasing order."
   ]
  },
  {
   "cell_type": "code",
   "execution_count": null,
   "metadata": {
    "id": "VHmnqHVaScox"
   },
   "outputs": [],
   "source": [
    "def merge_sorter(*args):\n",
    "    # your code here\n",
    "    raise NotImplementedError"
   ]
  },
  {
   "cell_type": "code",
   "execution_count": 206,
   "metadata": {},
   "outputs": [
    {
     "name": "stdout",
     "output_type": "stream",
     "text": [
      "[1, 2, 3, 4, 5, 6, 7, 8, 9, 10, 11, 12]\n"
     ]
    }
   ],
   "source": [
    "import heapq\n",
    "\n",
    "def merge_sorter(*iterables):\n",
    "    iterators = [iter(it) for it in iterables]\n",
    "    heap = []\n",
    "\n",
    "    for idx, it in enumerate(iterators):\n",
    "        try:\n",
    "            first_value = next(it)\n",
    "            heapq.heappush(heap, (first_value, idx))\n",
    "        except StopIteration:\n",
    "            pass \n",
    "\n",
    "    while heap:\n",
    "        value, idx = heapq.heappop(heap)\n",
    "        yield value\n",
    "        try:\n",
    "            next_value = next(iterators[idx])\n",
    "            heapq.heappush(heap, (next_value, idx))\n",
    "        except StopIteration:\n",
    "            pass \n",
    "\n",
    "LIST = [1, 4, 7]\n",
    "TUPLE = (2, 5, 8)\n",
    "DICT = {3:3, 6:6, 9:9}\n",
    "GENERATOR = (x for x in [10, 11, 12]) \n",
    "\n",
    "merged = merge_sorter(LIST, TUPLE, DICT, GENERATOR)\n",
    "print(list(merged))"
   ]
  },
  {
   "cell_type": "markdown",
   "metadata": {
    "id": "7AF_IQRQVQ-k"
   },
   "source": [
    "## Exercise 8\n",
    "\n",
    "Write the decorator `proﬁler`, which, when calling a function, will store in its attributes (not to be confused with arguments) the time of its execution (in seconds, it can be fractional) and the number of recursive calls that occurred during execution. Name the attributes `last_time_taken` and `calls`.\n",
    "It is forbidden to use global variables.\n",
    "The decorator must behave in a decent manner, that is, it must not overwrite the function's documentation.\n",
    "\n",
    "For tests write [Ackermann function](https://en.wikipedia.org/wiki/Ackermann_function)"
   ]
  },
  {
   "cell_type": "code",
   "execution_count": 242,
   "metadata": {
    "id": "WyJ02jbTVQiu"
   },
   "outputs": [
    {
     "name": "stdout",
     "output_type": "stream",
     "text": [
      "7\n",
      "4.887580871582031e-05\n",
      "27\n"
     ]
    }
   ],
   "source": [
    "import time\n",
    "\n",
    "def profiler(func):\n",
    "    # your code here\n",
    "    def wrapper(*args, **kwargs):\n",
    "        result = func(*args, **kwargs)\n",
    "        wrapper.calls += 1\n",
    "        wrapper.last_time_taken = time.time() - start_time\n",
    "        return result\n",
    "    wrapper.last_time_taken = 0\n",
    "    wrapper.calls = 0\n",
    "    start_time = time.time()\n",
    "    return wrapper\n",
    "\n",
    "@profiler\n",
    "def ackermann(n, m):\n",
    "    # your code here\n",
    "    if n == 0: \n",
    "        return m + 1\n",
    "    elif n > 0 and m == 0:\n",
    "        return ackermann(n - 1, 1)\n",
    "    return ackermann(n - 1, ackermann(n, m - 1))\n",
    "\n",
    "print(ackermann(2,2))\n",
    "print(ackermann.last_time_taken)\n",
    "print(ackermann.calls)\n"
   ]
  },
  {
   "cell_type": "markdown",
   "metadata": {
    "id": "QcjAealUfs2Q"
   },
   "source": [
    "## Exercise 9\n",
    "\n",
    "Write the function `encode` that implements [run-length encoding](https://en.wikipedia.org/wiki/Run-length_encoding) algorithm"
   ]
  },
  {
   "cell_type": "code",
   "execution_count": 212,
   "metadata": {
    "id": "tBhwbMm9fsMv"
   },
   "outputs": [
    {
     "data": {
      "text/plain": [
       "'3A2B1C2D4E'"
      ]
     },
     "execution_count": 212,
     "metadata": {},
     "output_type": "execute_result"
    }
   ],
   "source": [
    "def encode(sequence):\n",
    "    # your code here\n",
    "    output = ''\n",
    "    count = 1  \n",
    "    \n",
    "    for i in range(1, len(sequence)):\n",
    "        if sequence[i] == sequence[i - 1]: \n",
    "            count += 1 \n",
    "        else:\n",
    "            output += f\"{count}{sequence[i - 1]}\"  \n",
    "            count = 1  \n",
    "    \n",
    "    output += f\"{count}{sequence[-1]}\"\n",
    "    return output\n",
    "\n",
    "encode('AAABBCDDEEEE')"
   ]
  },
  {
   "cell_type": "markdown",
   "metadata": {},
   "source": [
    "## Exercise 10\n",
    "\n",
    "Write a decorator `visualizer` that takes a recursive function and will visualize the recursive calls that are made during the execution.\n",
    "Consider using the `networkx` library or some other one in order to draw the recursion tree.\n",
    "Test it with a recursive function that computes fibonacci."
   ]
  },
  {
   "cell_type": "code",
   "execution_count": 238,
   "metadata": {},
   "outputs": [
    {
     "data": {
      "image/png": "[encoded data removed]",
      "text/plain": [
       "<Figure size 1200x800 with 1 Axes>"
      ]
     },
     "metadata": {},
     "output_type": "display_data"
    },
    {
     "name": "stdout",
     "output_type": "stream",
     "text": [
      "3\n"
     ]
    }
   ],
   "source": [
    "import networkx as nx\n",
    "import matplotlib.pyplot as plt\n",
    "\n",
    "def fibonacci_visualizer():\n",
    "    def visualizer(func):\n",
    "        G = nx.DiGraph()  \n",
    "        call_counter = {\"counter\": 0}  \n",
    "\n",
    "        def wrapper(n, parent=None):\n",
    "            call_id = call_counter[\"counter\"]\n",
    "            call_counter[\"counter\"] += 1\n",
    "\n",
    "            G.add_node(call_id, label=f\"F({n})\")\n",
    "\n",
    "            if parent is not None:\n",
    "                G.add_edge(parent, call_id)\n",
    "            if n == 0 or n == 1:\n",
    "                return n\n",
    "            left = wrapper(n - 1, parent=call_id)\n",
    "            right = wrapper(n - 2, parent=call_id)\n",
    "\n",
    "            return left + right\n",
    "        \n",
    "        def calculate_positions(tree):\n",
    "            pos = {}\n",
    "            levels = {} \n",
    "\n",
    "            def assign_levels(node, level):\n",
    "                if node not in levels:\n",
    "                    levels[node] = level\n",
    "                for child in tree.successors(node):\n",
    "                    assign_levels(child, level + 1)\n",
    "\n",
    "            assign_levels(0, 0)\n",
    "\n",
    "            max_level = max(levels.values())\n",
    "            level_widths = [2 ** lvl for lvl in range(max_level + 1)] \n",
    "\n",
    "            x_offsets = {lvl: 0 for lvl in range(max_level + 1)}\n",
    "            for node, level in levels.items():\n",
    "                x = x_offsets[level] - level_widths[level] / 2\n",
    "                y = -level  \n",
    "                pos[node] = (x, y)\n",
    "                x_offsets[level] += 1\n",
    "            return pos\n",
    "\n",
    "        def draw_graph():\n",
    "            labels = nx.get_node_attributes(G, \"label\")\n",
    "            plt.figure(figsize=(12, 8))\n",
    "            pos = calculate_positions(G)  \n",
    "            nx.draw(G, pos, with_labels=False, node_size=3000, node_color=\"lightblue\")\n",
    "            nx.draw_networkx_labels(G, pos, labels, font_size=10)\n",
    "            plt.show()\n",
    "\n",
    "        def wrapped(*args, **kwargs):\n",
    "            result = wrapper(*args, **kwargs)\n",
    "            draw_graph()  \n",
    "            return result\n",
    "        \n",
    "        return wrapped\n",
    "    return visualizer\n",
    "\n",
    "\n",
    "@fibonacci_visualizer()\n",
    "def fibonacci(n):\n",
    "    if n == 0 or n == 1:\n",
    "        return n\n",
    "    return fibonacci(n - 1) + fibonacci(n - 2)\n",
    "\n",
    "print(fibonacci(4))"
   ]
  },
  {
   "cell_type": "code",
   "execution_count": 22,
   "metadata": {},
   "outputs": [
    {
     "name": "stdout",
     "output_type": "stream",
     "text": [
      "3\n"
     ]
    },
    {
     "data": {
      "image/png": "[encoded data removed]",
      "text/plain": [
       "<Figure size 1200x800 with 1 Axes>"
      ]
     },
     "metadata": {},
     "output_type": "display_data"
    }
   ],
   "source": [
    "import networkx as nx\n",
    "import matplotlib.pyplot as plt\n",
    "\n",
    "def visualizer(func):\n",
    "    call_counter = {\"counter\": 0}  \n",
    "\n",
    "    def wrapper(**kwargs):\n",
    "        call_id = call_counter[\"counter\"]\n",
    "        call_counter[\"counter\"] += 1\n",
    "        wrapper.graph.add_node(call_id, label=f\"F({kwargs['n']})\")\n",
    "\n",
    "        if kwargs['parent'] is not None:\n",
    "            wrapper.graph.add_edge(kwargs['parent'], call_id)\n",
    "        if kwargs['n'] == 0 or kwargs['n'] == 1:\n",
    "            return kwargs['n']\n",
    "        left = wrapper(n = kwargs['n'] - 1, parent=call_id)\n",
    "        right = wrapper(n = kwargs['n'] - 2, parent=call_id)\n",
    "        return left + right\n",
    "    \n",
    "    wrapper.graph = nx.DiGraph()\n",
    "    return wrapper\n",
    "\n",
    "\n",
    "\n",
    "def calculate_positions(tree):\n",
    "    pos = {}\n",
    "    levels = {} \n",
    "\n",
    "    def assign_levels(node, level):\n",
    "        if node not in levels:\n",
    "            levels[node] = level\n",
    "        for child in tree.successors(node):\n",
    "            assign_levels(child, level + 1)\n",
    "\n",
    "    assign_levels(0, 0)\n",
    "\n",
    "    max_level = max(levels.values())\n",
    "    level_widths = [2 ** lvl for lvl in range(max_level + 1)] \n",
    "\n",
    "    x_offsets = {lvl: 0 for lvl in range(max_level + 1)}\n",
    "    for node, level in levels.items():\n",
    "        x = x_offsets[level] - level_widths[level] / 2\n",
    "        y = -level  \n",
    "        pos[node] = (x, y)\n",
    "        x_offsets[level] += 1\n",
    "    return pos\n",
    "\n",
    "\n",
    "@visualizer\n",
    "def fibonacci(n):\n",
    "    if n == 0 or n == 1:\n",
    "        return n\n",
    "    return fibonacci(n - 1) + fibonacci(n - 2)\n",
    "\n",
    "print(fibonacci(n=4, parent=None))\n",
    "\n",
    "G = fibonacci.graph\n",
    "labels = nx.get_node_attributes(G, \"label\")\n",
    "plt.figure(figsize=(12, 8))\n",
    "pos = calculate_positions(G)  \n",
    "nx.draw(G, pos, with_labels=False, node_size=3000, node_color=\"lightblue\")\n",
    "nx.draw_networkx_labels(G, pos, labels, font_size=10)\n",
    "plt.show()\n",
    "\n"
   ]
  },
  {
   "cell_type": "markdown",
   "metadata": {},
   "source": [
    "## Exercise 11\n",
    "\n",
    "Now write a decorator `memoizer` that will do caching on the calls of a function (memoization). \n",
    "Decorate fibonacci with the decorators `memoizer`, `profiler` and `visualizer` at the same time (not necessarily in that order). Test that they're working as one would expect."
   ]
  },
  {
   "cell_type": "code",
   "execution_count": null,
   "metadata": {},
   "outputs": [],
   "source": [
    "def memoizer(func):\n",
    "    # your code here\n",
    "    raise NotImplementedError"
   ]
  },
  {
   "cell_type": "code",
   "execution_count": 243,
   "metadata": {},
   "outputs": [
    {
     "data": {
      "image/png": "[encoded data removed]",
      "text/plain": [
       "<Figure size 1200x800 with 1 Axes>"
      ]
     },
     "metadata": {},
     "output_type": "display_data"
    },
    {
     "name": "stdout",
     "output_type": "stream",
     "text": [
      "3\n"
     ]
    },
    {
     "ename": "AttributeError",
     "evalue": "'function' object has no attribute 'last_time_taken'",
     "output_type": "error",
     "traceback": [
      "\u001b[0;31m---------------------------------------------------------------------------\u001b[0m",
      "\u001b[0;31mAttributeError\u001b[0m                            Traceback (most recent call last)",
      "Cell \u001b[0;32mIn[243], line 9\u001b[0m\n\u001b[1;32m      6\u001b[0m     \u001b[38;5;28;01mreturn\u001b[39;00m fibonacci(n \u001b[38;5;241m-\u001b[39m \u001b[38;5;241m1\u001b[39m) \u001b[38;5;241m+\u001b[39m fibonacci(n \u001b[38;5;241m-\u001b[39m \u001b[38;5;241m2\u001b[39m)\n\u001b[1;32m      8\u001b[0m \u001b[38;5;28mprint\u001b[39m(fibonacci(\u001b[38;5;241m4\u001b[39m))\n\u001b[0;32m----> 9\u001b[0m \u001b[38;5;28mprint\u001b[39m(\u001b[43mfibonacci\u001b[49m\u001b[38;5;241;43m.\u001b[39;49m\u001b[43mlast_time_taken\u001b[49m)\n\u001b[1;32m     10\u001b[0m \u001b[38;5;28mprint\u001b[39m(fibonacci\u001b[38;5;241m.\u001b[39mcalls)\n",
      "\u001b[0;31mAttributeError\u001b[0m: 'function' object has no attribute 'last_time_taken'"
     ]
    }
   ],
   "source": [
    "@fibonacci_visualizer()\n",
    "@profiler\n",
    "def fibonacci(n):\n",
    "    if n == 0 or n == 1:\n",
    "        return n\n",
    "    return fibonacci(n - 1) + fibonacci(n - 2)\n",
    "\n",
    "print(fibonacci(4))\n",
    "print(fibonacci.last_time_taken)\n",
    "print(fibonacci.calls)"
   ]
  },
  {
   "cell_type": "markdown",
   "metadata": {},
   "source": [
    "## Exercise 12"
   ]
  },
  {
   "cell_type": "markdown",
   "metadata": {},
   "source": [
    "By using the `isinstance` method, check whether the following objects belong to the proposed types (hint: `isinstance`).\n",
    "\n",
    "Visualize this correspondance matrix (object – type), e.g. using numpy and [pcolormesh](https://matplotlib.org/stable/api/_as_gen/matplotlib.pyplot.pcolormesh.html) for visualization."
   ]
  },
  {
   "cell_type": "code",
   "execution_count": 232,
   "metadata": {},
   "outputs": [
    {
     "data": {
      "image/png": "[encoded data removed]",
      "text/plain": [
       "<Figure size 640x480 with 2 Axes>"
      ]
     },
     "metadata": {},
     "output_type": "display_data"
    }
   ],
   "source": [
    "import matplotlib.pyplot as plt\n",
    "import numpy as np\n",
    "\n",
    "list_of_objects = [\n",
    "    int,\n",
    "    2,\n",
    "    2.,\n",
    "    None,\n",
    "    object,\n",
    "    str,\n",
    "    str(2.),\n",
    "    float('2.0'),\n",
    "    'hello',\n",
    "    dict,\n",
    "    list,\n",
    "    [dict],\n",
    "    {1: []}\n",
    "]\n",
    "\n",
    "list_of_types = [\n",
    "    int,\n",
    "    float,\n",
    "    object,\n",
    "    str,\n",
    "    dict,\n",
    "    list\n",
    "]\n",
    "\n",
    "matrix = np.zeros((len(list_of_objects), len(list_of_types)))\n",
    "\n",
    "for i, obj in enumerate(list_of_objects):\n",
    "    for j, type in enumerate(list_of_types):\n",
    "        matrix[i,j] = isinstance(obj, type)\n",
    "\n",
    "plt.imshow(matrix)\n",
    "plt.colorbar()\n",
    "plt.show()"
   ]
  },
  {
   "cell_type": "markdown",
   "metadata": {},
   "source": []
  }
 ],
 "metadata": {
  "colab": {
   "collapsed_sections": [],
   "name": "home-assignment04",
   "provenance": []
  },
  "kernelspec": {
   "display_name": "Python 3 (ipykernel)",
   "language": "python",
   "name": "python3"
  },
  "language_info": {
   "codemirror_mode": {
    "name": "ipython",
    "version": 3
   },
   "file_extension": ".py",
   "mimetype": "text/x-python",
   "name": "python",
   "nbconvert_exporter": "python",
   "pygments_lexer": "ipython3",
   "version": "3.8.12"
  }
 },
 "nbformat": 4,
 "nbformat_minor": 1
}
