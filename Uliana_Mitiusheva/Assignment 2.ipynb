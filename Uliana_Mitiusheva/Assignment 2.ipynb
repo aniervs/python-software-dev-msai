{
 "cells": [
  {
   "cell_type": "markdown",
   "metadata": {
    "id": "3-R76jC7LtVj"
   },
   "source": [
    "# Assignment: Basic Web Scrapping and more..."
   ]
  },
  {
   "cell_type": "markdown",
   "metadata": {
    "id": "c5sYFDnJbO4D"
   },
   "source": [
    "Fill in your name here."
   ]
  },
  {
   "cell_type": "code",
   "metadata": {
    "id": "kskUAopgbHaV",
    "ExecuteTime": {
     "end_time": "2025-01-24T11:10:07.656545Z",
     "start_time": "2025-01-24T11:10:07.652131Z"
    }
   },
   "source": [
    "name = 'Uliana Mitiusheva'\n",
    "if name == '':\n",
    "    raise NotImplementedError('Put your name')"
   ],
   "outputs": [],
   "execution_count": 1
  },
  {
   "cell_type": "markdown",
   "metadata": {
    "id": "ciNKbkYsqLkV"
   },
   "source": [
    "You will receive points for:\n",
    "- implementing the given tasks.\n",
    "- using good practices such as OOP in some cases, or decorators.\n",
    "- good code structure on the last task.\n",
    "- handling edge cases and exceptions.\n",
    "- comprehensive unit tests (by using any of the libraries seen. I recommend `unittest`)."
   ]
  },
  {
   "cell_type": "markdown",
   "metadata": {
    "id": "cqkfkMyFs7h9"
   },
   "source": [
    "We will need the following libraries, but of course you can add the libraries you prefer."
   ]
  },
  {
   "cell_type": "code",
   "metadata": {
    "id": "mPvyKt04s7A0",
    "ExecuteTime": {
     "end_time": "2025-01-24T11:10:13.778636Z",
     "start_time": "2025-01-24T11:10:13.769108Z"
    }
   },
   "source": [
    "for _ in range(2):\n",
    "    try:\n",
    "        from bs4 import BeautifulSoup\n",
    "        import requests\n",
    "        import unittest\n",
    "        import networkx as nx\n",
    "        import re\n",
    "        from functools import wraps\n",
    "        from urllib.parse import urljoin\n",
    "        import types\n",
    "        import matplotlib.pyplot as plt\n",
    "    except ImportError:\n",
    "        ! pip install beautifulsoup4\n",
    "        ! pip install requests\n",
    "        ! pip install unittest2\n",
    "        ! pip install networkx\n",
    "    else:\n",
    "        break"
   ],
   "outputs": [],
   "execution_count": 3
  },
  {
   "cell_type": "markdown",
   "metadata": {
    "id": "dbuC4_A8fEHA"
   },
   "source": [
    "## Task 1"
   ]
  },
  {
   "cell_type": "markdown",
   "metadata": {
    "id": "Z8vPAe-Oevw_"
   },
   "source": [
    "The following function receives a URL, and tries to fetch all the links on it, and returns a list with all those links.\n",
    "\n",
    "1. Modify the function so that it returns the expected links.\n",
    "\n",
    "2. Be sure to do unit testing to check that the behaviour of the function is the one we expect.\n",
    "\n",
    "3. Consider edge cases (for example, what if the given URL is not a valid URL)."
   ]
  },
  {
   "cell_type": "code",
   "source": [
    "def get_all_links(url: str):\n",
    "    if not isinstance(url, str):\n",
    "        raise ValueError(\"URL must be a string\")\n",
    "    if not (url.startswith(\"http://\") or url.startswith(\"https://\")):\n",
    "        raise ValueError(\"URL is not valid\")\n",
    "    if \" \" in url:\n",
    "        raise ValueError(\"URL must not contain spaces\")\n",
    "\n",
    "    try:\n",
    "        response = requests.get(url)\n",
    "        response.raise_for_status()\n",
    "    except requests.exceptions.RequestException as e:\n",
    "        raise ConnectionError(f\"Failed to fetch the URL: {e}\")\n",
    "\n",
    "    content_type = response.headers.get('Content-Type', '')\n",
    "    if 'text/html' not in content_type.lower():\n",
    "        return []\n",
    "\n",
    "    soup = BeautifulSoup(response.text, 'html.parser')\n",
    "    links = []\n",
    "    for link in soup.find_all('a', href=True):\n",
    "        href = link['href']\n",
    "        absolute_url = urljoin(url, href)\n",
    "        if absolute_url.startswith(\"http://\") or absolute_url.startswith(\"https://\"):\n",
    "            links.append(absolute_url)\n",
    "    return links"
   ],
   "metadata": {
    "id": "YjGmEZoWQXFv"
   },
   "execution_count": 73,
   "outputs": []
  },
  {
   "cell_type": "code",
   "source": [
    "class TestGetAllLinks(unittest.TestCase):\n",
    "  def test_valid_ur(self):\n",
    "    url = \"https://www.example.com\"\n",
    "    links = get_all_links(url)\n",
    "    self.assertIsInstance(links, list)\n",
    "\n",
    "  def test_invalid_url(self):\n",
    "      with self.assertRaises(ValueError):\n",
    "          get_all_links(\"invalid_url\")\n",
    "\n",
    "  def test_url_with_space(self):\n",
    "      with self.assertRaises(ValueError):\n",
    "          get_all_links(\"https://www. example.com\")\n",
    "\n",
    "  def test_non_string_url(self):\n",
    "      with self.assertRaises(ValueError):\n",
    "          get_all_links(123)\n",
    "\n",
    "  def test_nonexistent_url(self):\n",
    "      with self.assertRaises(ConnectionError):\n",
    "          get_all_links(\"https://nonexistentwebsite.com\")\n",
    "\n",
    "  def test_non_html_content_type_returns_empty_list(self):\n",
    "        url = \"https://api.github.com\"\n",
    "        links = get_all_links(url)\n",
    "        self.assertEqual(links, [], \"Expected an empty list from a JSON (non-HTML) response.\")\n",
    "\n",
    "  def test_html_content_without_links_returns_empty_list(self):\n",
    "        url = \"https://httpbin.org/html\"\n",
    "        links = get_all_links(url)\n",
    "        self.assertEqual(links, [], \"Expected an empty list from an HTML page with no anchor tags.\")"
   ],
   "metadata": {
    "id": "HBwRAES3QBJ4"
   },
   "execution_count": 74,
   "outputs": []
  },
  {
   "cell_type": "code",
   "source": [
    "suite = unittest.TestLoader().loadTestsFromTestCase(TestGetAllLinks)\n",
    "\n",
    "runner = unittest.TextTestRunner(verbosity=2)\n",
    "runner.run(suite)"
   ],
   "metadata": {
    "colab": {
     "base_uri": "https://localhost:8080/"
    },
    "id": "EPedlCKNRipR",
    "outputId": "fda48cb6-410b-47ef-dd04-3cd98d56d347"
   },
   "execution_count": 75,
   "outputs": [
    {
     "output_type": "stream",
     "name": "stderr",
     "text": [
      "test_html_content_without_links_returns_empty_list (__main__.TestGetAllLinks.test_html_content_without_links_returns_empty_list) ... ok\n",
      "test_invalid_url (__main__.TestGetAllLinks.test_invalid_url) ... ok\n",
      "test_non_html_content_type_returns_empty_list (__main__.TestGetAllLinks.test_non_html_content_type_returns_empty_list) ... ok\n",
      "test_non_string_url (__main__.TestGetAllLinks.test_non_string_url) ... ok\n",
      "test_nonexistent_url (__main__.TestGetAllLinks.test_nonexistent_url) ... ok\n",
      "test_url_with_space (__main__.TestGetAllLinks.test_url_with_space) ... ok\n",
      "test_valid_ur (__main__.TestGetAllLinks.test_valid_ur) ... ok\n",
      "\n",
      "----------------------------------------------------------------------\n",
      "Ran 7 tests in 0.334s\n",
      "\n",
      "OK\n"
     ]
    },
    {
     "output_type": "execute_result",
     "data": {
      "text/plain": [
       "<unittest.runner.TextTestResult run=7 errors=0 failures=0>"
      ]
     },
     "metadata": {},
     "execution_count": 75
    }
   ]
  },
  {
   "cell_type": "code",
   "execution_count": 76,
   "metadata": {
    "id": "XfWUPk46XcjZ",
    "colab": {
     "base_uri": "https://localhost:8080/"
    },
    "outputId": "5f834e21-5254-410b-cfe4-65a39eb91995"
   },
   "outputs": [
    {
     "output_type": "execute_result",
     "data": {
      "text/plain": [
       "['http://en.wikipedia.com#bodyContent',\n",
       " 'http://en.wikipedia.com/wiki/Main_Page',\n",
       " 'http://en.wikipedia.com/wiki/Wikipedia:Contents',\n",
       " 'http://en.wikipedia.com/wiki/Portal:Current_events',\n",
       " 'http://en.wikipedia.com/wiki/Special:Random',\n",
       " 'http://en.wikipedia.com/wiki/Wikipedia:About',\n",
       " 'http://en.wikipedia.org/wiki/Wikipedia:Contact_us',\n",
       " 'http://en.wikipedia.com/wiki/Help:Contents',\n",
       " 'http://en.wikipedia.com/wiki/Help:Introduction',\n",
       " 'http://en.wikipedia.com/wiki/Wikipedia:Community_portal']"
      ]
     },
     "metadata": {},
     "execution_count": 76
    }
   ],
   "source": [
    "get_all_links('http://en.wikipedia.com')[:10]"
   ]
  },
  {
   "cell_type": "markdown",
   "metadata": {
    "id": "PalS-LuKiZ7p"
   },
   "source": [
    "## Task 2"
   ]
  },
  {
   "cell_type": "markdown",
   "metadata": {
    "id": "I_h1F54SjBAH"
   },
   "source": [
    "Create a generator (`get_neighbor_pages`) that receives a URL, but instead of returning a list with all the links in that page, it should go to those links, and  **yield** their html content.\n",
    "\n",
    "Remember to add unit tests."
   ]
  },
  {
   "cell_type": "code",
   "source": [
    "def get_neighbor_pages(url):\n",
    "    try:\n",
    "        links = get_all_links(url)\n",
    "    except ConnectionError as e:\n",
    "        print(f\"Error fetching the main URL {url}: {e}\")\n",
    "        return\n",
    "\n",
    "    for link in links:\n",
    "        try:\n",
    "            response = requests.get(link)\n",
    "            response.raise_for_status()\n",
    "            if 'text/html' in response.headers.get('Content-Type', '').lower():\n",
    "                yield response.text\n",
    "        except requests.exceptions.RequestException as e:\n",
    "            print(f\"Error fetching {link}: {e}\")\n",
    "            continue"
   ],
   "metadata": {
    "id": "Q2s5EJdTagBZ"
   },
   "execution_count": 77,
   "outputs": []
  },
  {
   "cell_type": "code",
   "source": [
    "class TestGetNeighborPages(unittest.TestCase):\n",
    "    def test_generator_type(self):\n",
    "        url = \"https://www.example.com\"\n",
    "        pages = get_neighbor_pages(url)\n",
    "        self.assertIsInstance(pages, types.GeneratorType)\n",
    "\n",
    "    def test_yields_html_content(self):\n",
    "        url = \"https://www.example.com\"\n",
    "        pages = get_neighbor_pages(url)\n",
    "        first_page = next(pages, None)\n",
    "        self.assertIsNotNone(first_page, \"Generator did not yield any pages.\")\n",
    "        self.assertIsInstance(first_page, str, \"Yielded page is not a string.\")\n",
    "        self.assertIn('<html', first_page.lower(), \"Yielded content does not contain HTML.\")\n",
    "\n",
    "    def test_invalid_url(self):\n",
    "        url = \"invalid_url\"\n",
    "        with self.assertRaises(ValueError) as context:\n",
    "            list(get_neighbor_pages(url))\n",
    "        self.assertEqual(str(context.exception), \"URL is not valid\")\n",
    "\n",
    "    def test_nonexistent_url(self):\n",
    "        url = \"https://nonexistentwebsite123456789.com\"\n",
    "        pages = get_neighbor_pages(url)\n",
    "        result = list(pages)\n",
    "        self.assertEqual(result, [], \"Nonexistent URL should yield no pages.\")\n"
   ],
   "metadata": {
    "id": "6k1xeQ1iaiik"
   },
   "execution_count": 78,
   "outputs": []
  },
  {
   "cell_type": "code",
   "source": [
    "suite = unittest.TestLoader().loadTestsFromTestCase(TestGetNeighborPages)\n",
    "\n",
    "runner = unittest.TextTestRunner(verbosity=2)\n",
    "runner.run(suite)"
   ],
   "metadata": {
    "colab": {
     "base_uri": "https://localhost:8080/"
    },
    "id": "VNuq9rYljppz",
    "outputId": "7bc5b033-3ec9-4c10-afb9-c3e8c76739ff"
   },
   "execution_count": 79,
   "outputs": [
    {
     "output_type": "stream",
     "name": "stderr",
     "text": [
      "test_generator_type (__main__.TestGetNeighborPages.test_generator_type) ... ok\n",
      "test_invalid_url (__main__.TestGetNeighborPages.test_invalid_url) ... ok\n",
      "test_nonexistent_url (__main__.TestGetNeighborPages.test_nonexistent_url) ... ok\n",
      "test_yields_html_content (__main__.TestGetNeighborPages.test_yields_html_content) ... "
     ]
    },
    {
     "output_type": "stream",
     "name": "stdout",
     "text": [
      "Error fetching the main URL https://nonexistentwebsite123456789.com: Failed to fetch the URL: HTTPSConnectionPool(host='nonexistentwebsite123456789.com', port=443): Max retries exceeded with url: / (Caused by NameResolutionError(\"<urllib3.connection.HTTPSConnection object at 0x795ef927c150>: Failed to resolve 'nonexistentwebsite123456789.com' ([Errno -2] Name or service not known)\"))\n"
     ]
    },
    {
     "output_type": "stream",
     "name": "stderr",
     "text": [
      "ok\n",
      "\n",
      "----------------------------------------------------------------------\n",
      "Ran 4 tests in 0.432s\n",
      "\n",
      "OK\n"
     ]
    },
    {
     "output_type": "execute_result",
     "data": {
      "text/plain": [
       "<unittest.runner.TextTestResult run=4 errors=0 failures=0>"
      ]
     },
     "metadata": {},
     "execution_count": 79
    }
   ]
  },
  {
   "cell_type": "markdown",
   "metadata": {
    "id": "1viFWBojkbpj"
   },
   "source": [
    "## Task 3"
   ]
  },
  {
   "cell_type": "markdown",
   "metadata": {
    "id": "E3553IODkdZ1"
   },
   "source": [
    "Create a function (`get_pages_depth()`) that receives a URL and a number `depth`, that will go through all the links the given URL, as deep as the given depth.\n",
    "\n",
    "For example, let's say the current page `page_1` has a link to a page `page_2` and a link to a page `page_3`, and the page `page_2` has a link to a page `page_4`,  and `page_4` has a link to a page `page_5`, and `page_3` has a link to a page `page_6`, and `page_6` has a link to a page `page_7`.\n",
    "\n",
    "![image.png](data:image/png;base64,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)\n",
    "\n",
    "Then, if we call `get_pages_depth()` at `page_1` with `depth = 2`, then it should retrieve the pages `page_1`, `page_2`, `page_4`, `page_3` and `page_6`. We won't care about the order in which these pages are retrieved.\n",
    "\n",
    "- Implement the function as a generator.\n",
    "\n",
    "- Remember that a page might contain a link to a parent page, so try to take that into account.\n",
    "\n",
    "- Consider any other edge cases that might happen, such as two pages leading to the same page. In that case, that page should only be retrieved once.\n",
    "\n",
    "- Maybe you can add a decorator to handle such cases?"
   ]
  },
  {
   "cell_type": "code",
   "source": [
    "def skip_visited(func):\n",
    "    visited_pages = set()\n",
    "\n",
    "    @wraps(func)\n",
    "    def wrapper(*args, **kwargs):\n",
    "        kwargs['visited_pages'] = visited_pages\n",
    "\n",
    "        for page_content in func(*args, **kwargs):\n",
    "            yield page_content\n",
    "\n",
    "    return wrapper"
   ],
   "metadata": {
    "id": "Io4rWXvzWCar"
   },
   "execution_count": 80,
   "outputs": []
  },
  {
   "cell_type": "code",
   "execution_count": 81,
   "metadata": {
    "id": "agObtuQ0dYen"
   },
   "outputs": [],
   "source": [
    "@skip_visited\n",
    "def get_pages_depth(url: str, depth: int, visited_pages=None):\n",
    "    \"\"\"\n",
    "    Go as deep as the given depth through the links in the webpage at the given URL\n",
    "    and yield the HTML content of each page found. Avoid revisiting pages already visited.\n",
    "\n",
    "    :param url: A string that is the URL of the webpage.\n",
    "    :param depth: An integer that is the maximum depth to explore.\n",
    "    :param visited_pages: A set used to track pages that have been visited.\n",
    "                         This is handled automatically by the decorator.\n",
    "    \"\"\"\n",
    "    if visited_pages is None:\n",
    "        visited_pages = set()\n",
    "\n",
    "    queue = [(url, 0)]\n",
    "\n",
    "    while queue:\n",
    "        current_url, current_depth = queue.pop(0)\n",
    "\n",
    "        if current_url in visited_pages:\n",
    "            continue\n",
    "        visited_pages.add(current_url)\n",
    "\n",
    "        try:\n",
    "            response = requests.get(current_url, timeout=5)\n",
    "            response.raise_for_status()\n",
    "            page_content = response.text\n",
    "        except (requests.RequestException, requests.HTTPError):\n",
    "            continue\n",
    "\n",
    "        yield page_content\n",
    "\n",
    "        if current_depth < depth:\n",
    "            soup = BeautifulSoup(page_content, 'html.parser')\n",
    "            for link in soup.find_all('a', href=True):\n",
    "                new_url = urljoin(current_url, link['href'])\n",
    "                if new_url not in visited_pages:\n",
    "                    queue.append((new_url, current_depth + 1))"
   ]
  },
  {
   "cell_type": "code",
   "execution_count": 82,
   "metadata": {
    "id": "6owNf7PmZVaK"
   },
   "outputs": [],
   "source": [
    "pages = get_pages_depth(depth = 2, url = 'http://en.wikipedia.org')"
   ]
  },
  {
   "cell_type": "code",
   "execution_count": 83,
   "metadata": {
    "id": "SiTydX5obp4Q",
    "colab": {
     "base_uri": "https://localhost:8080/",
     "height": 178
    },
    "outputId": "6cddd599-1cd1-47ca-d22b-b7222e9b7d90"
   },
   "outputs": [
    {
     "output_type": "execute_result",
     "data": {
      "text/plain": [
       "'<!DOCTYPE html>\\n<html class=\"client-nojs vector-feature-language-in-header-enabled vector-feature-language-in-main-page-header-disabled vector-feature-page-tools-pinned-disabled vector-feature-toc-pinned-clientpref-1 vector-feature-main-menu-pinned-disabled vector-feature-limited-width-clientpref-1 vector-feature-limited-width-content-disabled vector-feature-custom-font-size-clientpref-1 vector-feature-appearance-pinned-clientpref-1 vector-feature-night-mode-enabled skin-theme-clientpref-day vector-sticky-header-enabled vector-toc-not-available\" lang=\"en\" dir=\"ltr\">\\n<head>\\n<meta charset=\"UTF-8\">\\n<title>Wikipedia, the free encyclopedia</title>\\n<script>(function(){var className=\"client-js vector-feature-language-in-header-enabled vector-feature-language-in-main-page-header-disabled vector-feature-page-tools-pinned-disabled vector-feature-toc-pinned-clientpref-1 vector-feature-main-menu-pinned-disabled vector-feature-limited-width-clientpref-1 vector-feature-limited-width-content-disabled vector-feature-custom-font-size-clientpref-1 vector-feature-appearance-pinned-clientpref-1 vector-feature-night-mode-enabled skin-theme-clientpref-day vector-sticky-header-enabled vector-toc-not-available\";var cookie=document.cookie.match(/(?:^|; )enwikimwclientpreferences=([^;]+)/);if(cookie){cookie[1].split(\\'%2C\\').forEach(function(pref){className=className.replace(new RegExp(\\'(^| )\\'+pref.replace(/-clientpref-\\\\w+$|[^\\\\w-]+/g,\\'\\')+\\'-clientpref-\\\\\\\\w+( |$)\\'),\\'$1\\'+pref+\\'$2\\');});}document.documentElement.className=className;}());RLCONF={\"wgBreakFrames\":false,\"wgSeparatorTransformTable\":[\"\",\"\"],\"wgDigitTransformTable\":[\"\",\"\"],\"wgDefaultDateFormat\":\"dmy\",\\n\"wgMonthNames\":[\"\",\"January\",\"February\",\"March\",\"April\",\"May\",\"June\",\"July\",\"August\",\"September\",\"October\",\"November\",\"December\"],\"wgRequestId\":\"0f56f7d0-381d-4c07-a406-2eadc3179ca6\",\"wgCanonicalNamespace\":\"\",\"wgCanonicalSpecialPageName\":false,\"wgNamespaceNumber\":0,\"wgPageName\":\"Main_Page\",\"wgTitle\":\"Main Page\",\"wgCurRevisionId\":1267837350,\"wgRevisionId\":1267837350,\"wgArticleId\":15580374,\"wgIsArticle\":true,\"wgIsRedirect\":false,\"wgAction\":\"view\",\"wgUserName\":null,\"wgUserGroups\":[\"*\"],\"wgCategories\":[],\"wgPageViewLanguage\":\"en\",\"wgPageContentLanguage\":\"en\",\"wgPageContentModel\":\"wikitext\",\"wgRelevantPageName\":\"Main_Page\",\"wgRelevantArticleId\":15580374,\"wgIsProbablyEditable\":false,\"wgRelevantPageIsProbablyEditable\":false,\"wgRestrictionEdit\":[\"sysop\"],\"wgRestrictionMove\":[\"sysop\"],\"wgIsMainPage\":true,\"wgNoticeProject\":\"wikipedia\",\"wgCiteReferencePreviewsActive\":false,\"wgFlaggedRevsParams\":{\"tags\":{\"status\":{\"levels\":1}}},\"wgMediaViewerOnClick\":true,\"wgMediaViewerEnabledByDefault\":true,\\n\"wgPopupsFlags\":0,\"wgVisualEditor\":{\"pageLanguageCode\":\"en\",\"pageLanguageDir\":\"ltr\",\"pageVariantFallbacks\":\"en\"},\"wgMFDisplayWikibaseDescriptions\":{\"search\":true,\"watchlist\":true,\"tagline\":false,\"nearby\":true},\"wgWMESchemaEditAttemptStepOversample\":false,\"wgWMEPageLength\":3000,\"wgRelatedArticlesCompat\":[],\"wgEditSubmitButtonLabelPublish\":true,\"wgULSPosition\":\"interlanguage\",\"wgULSisCompactLinksEnabled\":false,\"wgVector2022LanguageInHeader\":true,\"wgULSisLanguageSelectorEmpty\":false,\"wgWikibaseItemId\":\"Q5296\",\"wgCheckUserClientHintsHeadersJsApi\":[\"brands\",\"architecture\",\"bitness\",\"fullVersionList\",\"mobile\",\"model\",\"platform\",\"platformVersion\"],\"GEHomepageSuggestedEditsEnableTopics\":true,\"wgGETopicsMatchModeEnabled\":false,\"wgGEStructuredTaskRejectionReasonTextInputEnabled\":false,\"wgGELevelingUpEnabledForUser\":false};RLSTATE={\"ext.globalCssJs.user.styles\":\"ready\",\"site.styles\":\"ready\",\"user.styles\":\"ready\",\"ext.globalCssJs.user\":\"ready\",\"user\":\"ready\",\"user.options\":\"loading\",\\n\"skins.vector.search.codex.styles\":\"ready\",\"skins.vector.styles\":\"ready\",\"skins.vector.icons\":\"ready\",\"ext.wikimediamessages.styles\":\"ready\",\"ext.visualEditor.desktopArticleTarget.noscript\":\"ready\",\"ext.uls.interlanguage\":\"ready\",\"ext.wikimediaBadges\":\"ready\"};RLPAGEMODULES=[\"site\",\"mediawiki.page.ready\",\"skins.vector.js\",\"ext.centralNotice.geoIP\",\"ext.centralNotice.startUp\",\"ext.gadget.ReferenceTooltips\",\"ext.gadget.switcher\",\"ext.urlShortener.toolbar\",\"ext.centralauth.centralautologin\",\"mmv.bootstrap\",\"ext.popups\",\"ext.visualEditor.desktopArticleTarget.init\",\"ext.visualEditor.targetLoader\",\"ext.echo.centralauth\",\"ext.eventLogging\",\"ext.wikimediaEvents\",\"ext.navigationTiming\",\"ext.uls.interface\",\"ext.cx.eventlogging.campaigns\",\"wikibase.client.vector-2022\",\"ext.checkUser.clientHints\",\"ext.growthExperiments.SuggestedEditSession\"];</script>\\n<script>(RLQ=window.RLQ||[]).push(function(){mw.loader.impl(function(){return[\"user.options@12s5i\",function($,jQuery,require,module){mw.user.tokens.set({\"patrolToken\":\"+\\\\\\\\\",\"watchToken\":\"+\\\\\\\\\",\"csrfToken\":\"+\\\\\\\\\"});\\n}];});});</script>\\n<link rel=\"stylesheet\" href=\"/w/load.php?lang=en&amp;modules=ext.uls.interlanguage%7Cext.visualEditor.desktopArticleTarget.noscript%7Cext.wikimediaBadges%7Cext.wikimediamessages.styles%7Cskins.vector.icons%2Cstyles%7Cskins.vector.search.codex.styles&amp;only=styles&amp;skin=vector-2022\">\\n<script async=\"\" src=\"/w/load.php?lang=en&amp;modules=startup&amp;only=scripts&amp;raw=1&amp;skin=vector-2022\"></script>\\n<meta name=\"ResourceLoaderDynamicStyles\" content=\"\">\\n<link rel=\"stylesheet\" href=\"/w/load.php?lang=en&amp;modules=site.styles&amp;only=styles&amp;skin=vector-2022\">\\n<meta name=\"generator\" content=\"MediaWiki 1.44.0-wmf.13\">\\n<meta name=\"referrer\" content=\"origin\">\\n<meta name=\"referrer\" content=\"origin-when-cross-origin\">\\n<meta name=\"robots\" content=\"max-image-preview:standard\">\\n<meta name=\"format-detection\" content=\"telephone=no\">\\n<meta property=\"og:image\" content=\"https://upload.wikimedia.org/wikipedia/commons/thumb/d/d5/Castell_Coch_2018.jpg/1200px-Castell_Coch_2018.jpg\">\\n<meta property=\"og:image:width\" content=\"1200\">\\n<meta property=\"og:image:height\" content=\"903\">\\n<meta property=\"og:image\" content=\"https://upload.wikimedia.org/wikipedia/commons/thumb/d/d5/Castell_Coch_2018.jpg/800px-Castell_Coch_2018.jpg\">\\n<meta property=\"og:image:width\" content=\"800\">\\n<meta property=\"og:image:height\" content=\"602\">\\n<meta property=\"og:image\" content=\"https://upload.wikimedia.org/wikipedia/commons/thumb/d/d5/Castell_Coch_2018.jpg/640px-Castell_Coch_2018.jpg\">\\n<meta property=\"og:image:width\" content=\"640\">\\n<meta property=\"og:image:height\" content=\"482\">\\n<meta name=\"viewport\" content=\"width=1120\">\\n<meta property=\"og:title\" content=\"Wikipedia, the free encyclopedia\">\\n<meta property=\"og:type\" content=\"website\">\\n<link rel=\"preconnect\" href=\"//upload.wikimedia.org\">\\n<link rel=\"alternate\" media=\"only screen and (max-width: 640px)\" href=\"//en.m.wikipedia.org/wiki/Main_Page\">\\n<link rel=\"alternate\" type=\"application/atom+xml\" title=\"Wikipedia picture of the day feed\" href=\"/w/api.php?action=featuredfeed&amp;feed=potd&amp;feedformat=atom\">\\n<link rel=\"alternate\" type=\"application/atom+xml\" title=\"Wikipedia featured articles feed\" href=\"/w/api.php?action=featuredfeed&amp;feed=featured&amp;feedformat=atom\">\\n<link rel=\"alternate\" type=\"application/atom+xml\" title=\"Wikipedia &quot;On this day...&quot; feed\" href=\"/w/api.php?action=featuredfeed&amp;feed=onthisday&amp;feedformat=atom\">\\n<link rel=\"apple-touch-icon\" href=\"/static/apple-touch/wikipedia.png\">\\n<link rel=\"icon\" href=\"/static/favicon/wikipedia.ico\">\\n<link rel=\"search\" type=\"application/opensearchdescription+xml\" href=\"/w/rest.php/v1/search\" title=\"Wikipedia (en)\">\\n<link rel=\"EditURI\" type=\"application/rsd+xml\" href=\"//en.wikipedia.org/w/api.php?action=rsd\">\\n<link rel=\"canonical\" href=\"https://en.wikipedia.org/wiki/Main_Page\">\\n<link rel=\"license\" href=\"https://creativecommons.org/licenses/by-sa/4.0/deed.en\">\\n<link rel=\"alternate\" type=\"application/atom+xml\" title=\"Wikipedia Atom feed\" href=\"/w/index.php?title=Special:RecentChanges&amp;feed=atom\">\\n<link rel=\"dns-prefetch\" href=\"//meta.wikimedia.org\" />\\n<link rel=\"dns-prefetch\" href=\"login.wikimedia.org\">\\n</head>\\n<body class=\"skin--responsive skin-vector skin-vector-search-vue mediawiki ltr sitedir-ltr mw-hide-empty-elt ns-0 ns-subject page-Main_Page rootpage-Main_Page skin-vector-2022 action-view\"><a class=\"mw-jump-link\" href=\"#bodyContent\">Jump to content</a>\\n<div class=\"vector-header-container\">\\n\\t<header class=\"vector-header mw-header\">\\n\\t\\t<div class=\"vector-header-start\">\\n\\t\\t\\t<nav class=\"vector-main-menu-landmark\" aria-label=\"Site\">\\n\\t\\t\\t\\t\\n<div id=\"vector-main-menu-dropdown\" class=\"vector-dropdown vector-main-menu-dropdown vector-button-flush-left vector-button-flush-right\"  title=\"Main menu\" >\\n\\t<input type=\"checkbox\" id=\"vector-main-menu-dropdown-checkbox\" role=\"button\" aria-haspopup=\"true\" data-event-name=\"ui.dropdown-vector-main-menu-dropdown\" class=\"vector-dropdown-checkbox \"  aria-label=\"Main menu\"  >\\n\\t<label id=\"vector-main-menu-dropdown-label\" for=\"vector-main-menu-dropdown-checkbox\" class=\"vector-dropdown-label cdx-button cdx-button--fake-button cdx-button--fake-button--enabled cdx-button--weight-quiet cdx-button--icon-only \" aria-hidden=\"true\"  ><span class=\"vector-icon mw-ui-icon-menu mw-ui-icon-wikimedia-menu\"></span>\\n\\n<span class=\"vector-dropdown-label-text\">Main menu</span>\\n\\t</label>\\n\\t<div class=\"vector-dropdown-content\">\\n\\n\\n\\t\\t\\t\\t<div id=\"vector-main-menu-unpinned-container\" class=\"vector-unpinned-container\">\\n\\t\\t\\n<div id=\"vector-main-menu\" class=\"vector-main-menu vector-pinnable-element\">\\n\\t<div\\n\\tclass=\"vector-pinnable-header vector-main-menu-pinnable-header vector-pinnable-header-unpinned\"\\n\\tdata-feature-name=\"main-menu-pinned\"\\n\\tdata-pinnable-element-id=\"vector-main-menu\"\\n\\tdata-pinned-container-id=\"vector-main-menu-pinned-container\"\\n\\tdata-unpinned-container-id=\"vector-main-menu-unpinned-container\"\\n>\\n\\t<div class=\"vector-pinnable-header-label\">Main menu</div>\\n\\t<button class=\"vector-pinnable-header-toggle-button vector-pinnable-header-pin-button\" data-event-name=\"pinnable-header.vector-main-menu.pin\">move to sidebar</button>\\n\\t<button class=\"vector-pinnable-header-toggle-button vector-pinnable-header-unpin-button\" data-event-name=\"pinnable-header.vector-main-menu.unpin\">hide</button>\\n</div>\\n\\n\\t\\n<div id=\"p-navigation\" class=\"vector-menu mw-portlet mw-portlet-navigation\"  >\\n\\t<div class=\"vector-menu-heading\">\\n\\t\\tNavigation\\n\\t</div>\\n\\t<div class=\"vector-menu-content\">\\n\\t\\t\\n\\t\\t<ul class=\"vector-menu-content-list\">\\n\\t\\t\\t\\n\\t\\t\\t<li id=\"n-mainpage-description\" class=\"mw-list-item\"><a href=\"/wiki/Main_Page\" title=\"Visit the main page [z]\" accesskey=\"z\"><span>Main page</span></a></li><li id=\"n-contents\" class=\"mw-list-item\"><a href=\"/wiki/Wikipedia:Contents\" title=\"Guides to browsing Wikipedia\"><span>Contents</span></a></li><li id=\"n-currentevents\" class=\"mw-list-item\"><a href=\"/wiki/Portal:Current_events\" title=\"Articles related to current events\"><span>Current events</span></a></li><li id=\"n-randompage\" class=\"mw-list-item\"><a href=\"/wiki/Special:Random\" title=\"Visit a randomly selected article [x]\" accesskey=\"x\"><span>Random article</span></a></li><li id=\"n-aboutsite\" class=\"mw-list-item\"><a href=\"/wiki/Wikipedia:About\" title=\"Learn about Wikipedia and how it works\"><span>About Wikipedia</span></a></li><li id=\"n-contactpage\" class=\"mw-list-item\"><a href=\"//en.wikipedia.org/wiki/Wikipedia:Contact_us\" title=\"How to contact Wikipedia\"><span>Contact us</span></a></li>\\n\\t\\t</ul>\\n\\t\\t\\n\\t</div>\\n</div>\\n\\n\\t\\n\\t\\n<div id=\"p-interaction\" class=\"vector-menu mw-portlet mw-portlet-interaction\"  >\\n\\t<div class=\"vector-menu-heading\">\\n\\t\\tContribute\\n\\t</div>\\n\\t<div class=\"vector-menu-content\">\\n\\t\\t\\n\\t\\t<ul class=\"vector-menu-content-list\">\\n\\t\\t\\t\\n\\t\\t\\t<li id=\"n-help\" class=\"mw-list-item\"><a href=\"/wiki/Help:Contents\" title=\"Guidance on how to use and edit Wikipedia\"><span>Help</span></a></li><li id=\"n-introduction\" class=\"mw-list-item\"><a href=\"/wiki/Help:Introduction\" title=\"Learn how to edit Wikipedia\"><span>Learn to edit</span></a></li><li id=\"n-portal\" class=\"mw-list-item\"><a href=\"/wiki/Wikipedia:Community_portal\" title=\"The hub for editors\"><span>Community portal</span></a></li><li id=\"n-recentchanges\" class=\"mw-list-item\"><a href=\"/wiki/Special:RecentChanges\" title=\"A list of recent changes to Wikipedia [r]\" accesskey=\"r\"><span>Recent changes</span></a></li><li id=\"n-upload\" class=\"mw-list-item\"><a href=\"/wiki/Wikipedia:File_upload_wizard\" title=\"Add images or other media for use on Wikipedia\"><span>Upload file</span></a></li>\\n\\t\\t</ul>\\n\\t\\t\\n\\t</div>\\n</div>\\n\\n</div>\\n\\n\\t\\t\\t\\t</div>\\n\\n\\t</div>\\n</div>\\n\\n\\t\\t</nav>\\n\\t\\t\\t\\n<a href=\"/wiki/Main_Page\" class=\"mw-logo\">\\n\\t<img class=\"mw-logo-icon\" src=\"/static/images/icons/wikipedia.png\" alt=\"\" aria-hidden=\"true\" height=\"50\" width=\"50\">\\n\\t<span class=\"mw-logo-container skin-invert\">\\n\\t\\t<img class=\"mw-logo-wordmark\" alt=\"Wikipedia\" src=\"/static/images/mobile/copyright/wikipedia-wordmark-en.svg\" style=\"width: 7.5em; height: 1.125em;\">\\n\\t\\t<img class=\"mw-logo-tagline\" alt=\"The Free Encyclopedia\" src=\"/static/images/mobile/copyright/wikipedia-tagline-en.svg\" width=\"117\" height=\"13\" style=\"width: 7.3125em; height: 0.8125em;\">\\n\\t</span>\\n</a>\\n\\n\\t\\t</div>\\n\\t\\t<div class=\"vector-header-end\">\\n\\t\\t\\t\\n<div id=\"p-search\" role=\"search\" class=\"vector-search-box-vue  vector-search-box-collapses vector-search-box-show-thumbnail vector-search-box-auto-expand-width vector-search-box\">\\n\\t<a href=\"/wiki/Special:Search\" class=\"cdx-button cdx-button--fake-button cdx-button--fake-button--enabled cdx-button--weight-quiet cdx-button--icon-only search-toggle\" title=\"Search Wikipedia [f]\" accesskey=\"f\"><span class=\"vector-icon mw-ui-icon-search mw-ui-icon-wikimedia-search\"></span>\\n\\n<span>Search</span>\\n\\t</a>\\n\\t<div class=\"vector-typeahead-search-container\">\\n\\t\\t<div class=\"cdx-typeahead-search cdx-typeahead-search--show-thumbnail cdx-typeahead-search--auto-expand-width\">\\n\\t\\t\\t<form action=\"/w/index.php\" id=\"searchform\" class=\"cdx-search-input cdx-search-input--has-end-button\">\\n\\t\\t\\t\\t<div id=\"simpleSearch\" class=\"cdx-search-input__input-wrapper\"  data-search-loc=\"header-moved\">\\n\\t\\t\\t\\t\\t<div class=\"cdx-text-input cdx-text-input--has-start-icon\">\\n\\t\\t\\t\\t\\t\\t<input\\n\\t\\t\\t\\t\\t\\t\\tclass=\"cdx-text-input__input\"\\n\\t\\t\\t\\t\\t\\t\\t type=\"search\" name=\"search\" placeholder=\"Search Wikipedia\" aria-label=\"Search Wikipedia\" autocapitalize=\"sentences\" title=\"Search Wikipedia [f]\" accesskey=\"f\" id=\"searchInput\"\\n\\t\\t\\t\\t\\t\\t\\t>\\n\\t\\t\\t\\t\\t\\t<span class=\"cdx-text-input__icon cdx-text-input__start-icon\"></span>\\n\\t\\t\\t\\t\\t</div>\\n\\t\\t\\t\\t\\t<input type=\"hidden\" name=\"title\" value=\"Special:Search\">\\n\\t\\t\\t\\t</div>\\n\\t\\t\\t\\t<button class=\"cdx-button cdx-search-input__end-button\">Search</button>\\n\\t\\t\\t</form>\\n\\t\\t</div>\\n\\t</div>\\n</div>\\n\\n\\t\\t\\t<nav class=\"vector-user-links vector-user-links-wide\" aria-label=\"Personal tools\">\\n\\t<div class=\"vector-user-links-main\">\\n\\t\\n<div id=\"p-vector-user-menu-preferences\" class=\"vector-menu mw-portlet emptyPortlet\"  >\\n\\t<div class=\"vector-menu-content\">\\n\\t\\t\\n\\t\\t<ul class=\"vector-menu-content-list\">\\n\\t\\t\\t\\n\\t\\t\\t\\n\\t\\t</ul>\\n\\t\\t\\n\\t</div>\\n</div>\\n\\n\\t\\n<div id=\"p-vector-user-menu-userpage\" class=\"vector-menu mw-portlet emptyPortlet\"  >\\n\\t<div class=\"vector-menu-content\">\\n\\t\\t\\n\\t\\t<ul class=\"vector-menu-content-list\">\\n\\t\\t\\t\\n\\t\\t\\t\\n\\t\\t</ul>\\n\\t\\t\\n\\t</div>\\n</div>\\n\\n\\t<nav class=\"vector-appearance-landmark\" aria-label=\"Appearance\">\\n\\t\\t\\n<div id=\"vector-appearance-dropdown\" class=\"vector-dropdown \"  title=\"Change the appearance of the page&#039;s font size, width, and color\" >\\n\\t<input type=\"checkbox\" id=\"vector-appearance-dropdown-checkbox\" role=\"button\" aria-haspopup=\"true\" data-event-name=\"ui.dropdown-vector-appearance-dropdown\" class=\"vector-dropdown-checkbox \"  aria-label=\"Appearance\"  >\\n\\t<label id=\"vector-appearance-dropdown-label\" for=\"vector-appearance-dropdown-checkbox\" class=\"vector-dropdown-label cdx-button cdx-button--fake-button cdx-button--fake-button--enabled cdx-button--weight-quiet cdx-button--icon-only \" aria-hidden=\"true\"  ><span class=\"vector-icon mw-ui-icon-appearance mw-ui-icon-wikimedia-appearance\"></span>\\n\\n<span class=\"vector-dropdown-label-text\">Appearance</span>\\n\\t</label>\\n\\t<div class=\"vector-dropdown-content\">\\n\\n\\n\\t\\t\\t<div id=\"vector-appearance-unpinned-container\" class=\"vector-unpinned-container\">\\n\\t\\t\\t\\t\\n\\t\\t\\t</div>\\n\\t\\t\\n\\t</div>\\n</div>\\n\\n\\t</nav>\\n\\t\\n<div id=\"p-vector-user-menu-notifications\" class=\"vector-menu mw-portlet emptyPortlet\"  >\\n\\t<div class=\"vector-menu-content\">\\n\\t\\t\\n\\t\\t<ul class=\"vector-menu-content-list\">\\n\\t\\t\\t\\n\\t\\t\\t\\n\\t\\t</ul>\\n\\t\\t\\n\\t</div>\\n</div>\\n\\n\\t\\n<div id=\"p-vector-user-menu-overflow\" class=\"vector-menu mw-portlet\"  >\\n\\t<div class=\"vector-menu-content\">\\n\\t\\t\\n\\t\\t<ul class=\"vector-menu-content-list\">\\n\\t\\t\\t<li id=\"pt-sitesupport-2\" class=\"user-links-collapsible-item mw-list-item user-links-collapsible-item\"><a data-mw=\"interface\" href=\"https://donate.wikimedia.org/?wmf_source=donate&amp;wmf_medium=sidebar&amp;wmf_campaign=en.wikipedia.org&amp;uselang=en\" class=\"\"><span>Donate</span></a>\\n</li>\\n<li id=\"pt-createaccount-2\" class=\"user-links-collapsible-item mw-list-item user-links-collapsible-item\"><a data-mw=\"interface\" href=\"/w/index.php?title=Special:CreateAccount&amp;returnto=Main+Page\" title=\"You are encouraged to create an account and log in; however, it is not mandatory\" class=\"\"><span>Create account</span></a>\\n</li>\\n<li id=\"pt-login-2\" class=\"user-links-collapsible-item mw-list-item user-links-collapsible-item\"><a data-mw=\"interface\" href=\"/w/index.php?title=Special:UserLogin&amp;returnto=Main+Page\" title=\"You&#039;re encouraged to log in; however, it&#039;s not mandatory. [o]\" accesskey=\"o\" class=\"\"><span>Log in</span></a>\\n</li>\\n\\n\\t\\t\\t\\n\\t\\t</ul>\\n\\t\\t\\n\\t</div>\\n</div>\\n\\n\\t</div>\\n\\t\\n<div id=\"vector-user-links-dropdown\" class=\"vector-dropdown vector-user-menu vector-button-flush-right vector-user-menu-logged-out\"  title=\"Log in and more options\" >\\n\\t<input type=\"checkbox\" id=\"vector-user-links-dropdown-checkbox\" role=\"button\" aria-haspopup=\"true\" data-event-name=\"ui.dropdown-vector-user-links-dropdown\" class=\"vector-dropdown-checkbox \"  aria-label=\"Personal tools\"  >\\n\\t<label id=\"vector-user-links-dropdown-label\" for=\"vector-user-links-dropdown-checkbox\" class=\"vector-dropdown-label cdx-button cdx-button--fake-button cdx-button--fake-button--enabled cdx-button--weight-quiet cdx-button--icon-only \" aria-hidden=\"true\"  ><span class=\"vector-icon mw-ui-icon-ellipsis mw-ui-icon-wikimedia-ellipsis\"></span>\\n\\n<span class=\"vector-dropdown-label-text\">Personal tools</span>\\n\\t</label>\\n\\t<div class=\"vector-dropdown-content\">\\n\\n\\n\\t\\t\\n<div id=\"p-personal\" class=\"vector-menu mw-portlet mw-portlet-personal user-links-collapsible-item\"  title=\"User menu\" >\\n\\t<div class=\"vector-menu-content\">\\n\\t\\t\\n\\t\\t<ul class=\"vector-menu-content-list\">\\n\\t\\t\\t\\n\\t\\t\\t<li id=\"pt-sitesupport\" class=\"user-links-collapsible-item mw-list-item\"><a href=\"https://donate.wikimedia.org/?wmf_source=donate&amp;wmf_medium=sidebar&amp;wmf_campaign=en.wikipedia.org&amp;uselang=en\"><span>Donate</span></a></li><li id=\"pt-createaccount\" class=\"user-links-collapsible-item mw-list-item\"><a href=\"/w/index.php?title=Special:CreateAccount&amp;returnto=Main+Page\" title=\"You are encouraged to create an account and log in; however, it is not mandatory\"><span class=\"vector-icon mw-ui-icon-userAdd mw-ui-icon-wikimedia-userAdd\"></span> <span>Create account</span></a></li><li id=\"pt-login\" class=\"user-links-collapsible-item mw-list-item\"><a href=\"/w/index.php?title=Special:UserLogin&amp;returnto=Main+Page\" title=\"You&#039;re encouraged to log in; however, it&#039;s not mandatory. [o]\" accesskey=\"o\"><span class=\"vector-icon mw-ui-icon-logIn mw-ui-icon-wikimedia-logIn\"></span> <span>Log in</span></a></li>\\n\\t\\t</ul>\\n\\t\\t\\n\\t</div>\\n</div>\\n\\n<div id=\"p-user-menu-anon-editor\" class=\"vector-menu mw-portlet mw-portlet-user-menu-anon-editor\"  >\\n\\t<div class=\"vector-menu-heading\">\\n\\t\\tPages for logged out editors <a href=\"/wiki/Help:Introduction\" aria-label=\"Learn more about editing\"><span>learn more</span></a>\\n\\t</div>\\n\\t<div class=\"vector-menu-content\">\\n\\t\\t\\n\\t\\t<ul class=\"vector-menu-content-list\">\\n\\t\\t\\t\\n\\t\\t\\t<li id=\"pt-anoncontribs\" class=\"mw-list-item\"><a href=\"/wiki/Special:MyContributions\" title=\"A list of edits made from this IP address [y]\" accesskey=\"y\"><span>Contributions</span></a></li><li id=\"pt-anontalk\" class=\"mw-list-item\"><a href=\"/wiki/Special:MyTalk\" title=\"Discussion about edits from this IP address [n]\" accesskey=\"n\"><span>Talk</span></a></li>\\n\\t\\t</ul>\\n\\t\\t\\n\\t</div>\\n</div>\\n\\n\\t\\n\\t</div>\\n</div>\\n\\n</nav>\\n\\n\\t\\t</div>\\n\\t</header>\\n</div>\\n<div class=\"mw-page-container\">\\n\\t<div class=\"mw-page-container-inner\">\\n\\t\\t<div class=\"vector-sitenotice-container\">\\n\\t\\t\\t<div id=\"siteNotice\"><!-- CentralNotice --></div>\\n\\t\\t</div>\\n\\t\\t<div class=\"vector-column-start\">\\n\\t\\t\\t<div class=\"vector-main-menu-container\">\\n\\t\\t<div id=\"mw-navigation\">\\n\\t\\t\\t<nav id=\"mw-panel\" class=\"vector-main-menu-landmark\" aria-label=\"Site\">\\n\\t\\t\\t\\t<div id=\"vector-main-menu-pinned-container\" class=\"vector-pinned-container\">\\n\\t\\t\\t\\t\\n\\t\\t\\t\\t</div>\\n\\t\\t</nav>\\n\\t\\t</div>\\n\\t</div>\\n</div>\\n\\t\\t<div class=\"mw-content-container\">\\n\\t\\t\\t<main id=\"content\" class=\"mw-body\">\\n\\t\\t\\t\\t<header class=\"mw-body-header vector-page-titlebar vector-page-titlebar-blank\">\\n\\t\\t\\t\\t\\t<h1 id=\"firstHeading\" class=\"firstHeading mw-first-heading\" style=\"display: none\"><span class=\"mw-page-title-main\">Main Page</span></h1>\\n\\t\\t\\t\\t\\t\\t<div class=\"mw-indicators\">\\n\\t\\t</div>\\n</header>\\n\\t\\t\\t\\t<div class=\"vector-page-toolbar\">\\n\\t\\t\\t\\t\\t<div class=\"vector-page-toolbar-container\">\\n\\t\\t\\t\\t\\t\\t<div id=\"left-navigation\">\\n\\t\\t\\t\\t\\t\\t\\t<nav aria-label=\"Namespaces\">\\n\\t\\t\\t\\t\\t\\t\\t\\t\\n<div id=\"p-associated-pages\" class=\"vector-menu vector-menu-tabs mw-portlet mw-portlet-associated-pages\"  >\\n\\t<div class=\"vector-menu-content\">\\n\\t\\t\\n\\t\\t<ul class=\"vector-menu-content-list\">\\n\\t\\t\\t\\n\\t\\t\\t<li id=\"ca-nstab-main\" class=\"selected vector-tab-noicon mw-list-item\"><a href=\"/wiki/Main_Page\" title=\"View the content page [c]\" accesskey=\"c\"><span>Main Page</span></a></li><li id=\"ca-talk\" class=\"vector-tab-noicon mw-list-item\"><a href=\"/wiki/Talk:Main_Page\" rel=\"discussion\" title=\"Discuss improvements to the content page [t]\" accesskey=\"t\"><span>Talk</span></a></li>\\n\\t\\t</ul>\\n\\t\\t\\n\\t</div>\\n</div>\\n\\n\\t\\t\\t\\t\\t\\t\\t\\t\\n<div id=\"vector-variants-dropdown\" class=\"vector-dropdown emptyPortlet\"  >\\n\\t<input type=\"checkbox\" id=\"vector-variants-dropdown-checkbox\" role=\"button\" aria-haspopup=\"true\" data-event-name=\"ui.dropdown-vector-variants-dropdown\" class=\"vector-dropdown-checkbox \" aria-label=\"Change language variant\"   >\\n\\t<label id=\"vector-variants-dropdown-label\" for=\"vector-variants-dropdown-checkbox\" class=\"vector-dropdown-label cdx-button cdx-button--fake-button cdx-button--fake-button--enabled cdx-button--weight-quiet\" aria-hidden=\"true\"  ><span class=\"vector-dropdown-label-text\">English</span>\\n\\t</label>\\n\\t<div class=\"vector-dropdown-content\">\\n\\n\\n\\t\\t\\t\\t\\t\\n<div id=\"p-variants\" class=\"vector-menu mw-portlet mw-portlet-variants emptyPortlet\"  >\\n\\t<div class=\"vector-menu-content\">\\n\\t\\t\\n\\t\\t<ul class=\"vector-menu-content-list\">\\n\\t\\t\\t\\n\\t\\t\\t\\n\\t\\t</ul>\\n\\t\\t\\n\\t</div>\\n</div>\\n\\n\\t\\t\\t\\t\\n\\t</div>\\n</div>\\n\\n\\t\\t\\t\\t\\t\\t\\t</nav>\\n\\t\\t\\t\\t\\t\\t</div>\\n\\t\\t\\t\\t\\t\\t<div id=\"right-navigation\" class=\"vector-collapsible\">\\n\\t\\t\\t\\t\\t\\t\\t<nav aria-label=\"Views\">\\n\\t\\t\\t\\t\\t\\t\\t\\t\\n<div id=\"p-views\" class=\"vector-menu vector-menu-tabs mw-portlet mw-portlet-views\"  >\\n\\t<div class=\"vector-menu-content\">\\n\\t\\t\\n\\t\\t<ul class=\"vector-menu-content-list\">\\n\\t\\t\\t\\n\\t\\t\\t<li id=\"ca-view\" class=\"selected vector-tab-noicon mw-list-item\"><a href=\"/wiki/Main_Page\"><span>Read</span></a></li><li id=\"ca-viewsource\" class=\"vector-tab-noicon mw-list-item\"><a href=\"/w/index.php?title=Main_Page&amp;action=edit\" title=\"This page is protected.&#10;You can view its source [e]\" accesskey=\"e\"><span>View source</span></a></li><li id=\"ca-history\" class=\"vector-tab-noicon mw-list-item\"><a href=\"/w/index.php?title=Main_Page&amp;action=history\" title=\"Past revisions of this page [h]\" accesskey=\"h\"><span>View history</span></a></li>\\n\\t\\t</ul>\\n\\t\\t\\n\\t</div>\\n</div>\\n\\n\\t\\t\\t\\t\\t\\t\\t</nav>\\n\\t\\t\\t\\t\\n\\t\\t\\t\\t\\t\\t\\t<nav class=\"vector-page-tools-landmark\" aria-label=\"Page tools\">\\n\\t\\t\\t\\t\\t\\t\\t\\t\\n<div id=\"vector-page-tools-dropdown\" class=\"vector-dropdown vector-page-tools-dropdown\"  >\\n\\t<input type=\"checkbox\" id=\"vector-page-tools-dropdown-checkbox\" role=\"button\" aria-haspopup=\"true\" data-event-name=\"ui.dropdown-vector-page-tools-dropdown\" class=\"vector-dropdown-checkbox \"  aria-label=\"Tools\"  >\\n\\t<label id=\"vector-page-tools-dropdown-label\" for=\"vector-page-tools-dropdown-checkbox\" class=\"vector-dropdown-label cdx-button cdx-button--fake-button cdx-button--fake-button--enabled cdx-button--weight-quiet\" aria-hidden=\"true\"  ><span class=\"vector-dropdown-label-text\">Tools</span>\\n\\t</label>\\n\\t<div class=\"vector-dropdown-content\">\\n\\n\\n\\t\\t\\t\\t\\t\\t\\t\\t\\t<div id=\"vector-page-tools-unpinned-container\" class=\"vector-unpinned-container\">\\n\\t\\t\\t\\t\\t\\t\\n<div id=\"vector-page-tools\" class=\"vector-page-tools vector-pinnable-element\">\\n\\t<div\\n\\tclass=\"vector-pinnable-header vector-page-tools-pinnable-header vector-pinnable-header-unpinned\"\\n\\tdata-feature-name=\"page-tools-pinned\"\\n\\tdata-pinnable-element-id=\"vector-page-tools\"\\n\\tdata-pinned-container-id=\"vector-page-tools-pinned-container\"\\n\\tdata-unpinned-container-id=\"vector-page-tools-unpinned-container\"\\n>\\n\\t<div class=\"vector-pinnable-header-label\">Tools</div>\\n\\t<button class=\"vector-pinnable-header-toggle-button vector-pinnable-header-pin-button\" data-event-name=\"pinnable-header.vector-page-tools.pin\">move to sidebar</button>\\n\\t<button class=\"vector-pinnable-header-toggle-button vector-pinnable-header-unpin-button\" data-event-name=\"pinnable-header.vector-page-tools.unpin\">hide</button>\\n</div>\\n\\n\\t\\n<div id=\"p-cactions\" class=\"vector-menu mw-portlet mw-portlet-cactions emptyPortlet vector-has-collapsible-items\"  title=\"More options\" >\\n\\t<div class=\"vector-menu-heading\">\\n\\t\\tActions\\n\\t</div>\\n\\t<div class=\"vector-menu-content\">\\n\\t\\t\\n\\t\\t<ul class=\"vector-menu-content-list\">\\n\\t\\t\\t\\n\\t\\t\\t<li id=\"ca-more-view\" class=\"selected vector-more-collapsible-item mw-list-item\"><a href=\"/wiki/Main_Page\"><span>Read</span></a></li><li id=\"ca-more-viewsource\" class=\"vector-more-collapsible-item mw-list-item\"><a href=\"/w/index.php?title=Main_Page&amp;action=edit\"><span>View source</span></a></li><li id=\"ca-more-history\" class=\"vector-more-collapsible-item mw-list-item\"><a href=\"/w/index.php?title=Main_Page&amp;action=history\"><span>View history</span></a></li>\\n\\t\\t</ul>\\n\\t\\t\\n\\t</div>\\n</div>\\n\\n<div id=\"p-tb\" class=\"vector-menu mw-portlet mw-portlet-tb\"  >\\n\\t<div class=\"vector-menu-heading\">\\n\\t\\tGeneral\\n\\t</div>\\n\\t<div class=\"vector-menu-content\">\\n\\t\\t\\n\\t\\t<ul class=\"vector-menu-content-list\">\\n\\t\\t\\t\\n\\t\\t\\t<li id=\"t-whatlinkshere\" class=\"mw-list-item\"><a href=\"/wiki/Special:WhatLinksHere/Main_Page\" title=\"List of all English Wikipedia pages containing links to this page [j]\" accesskey=\"j\"><span>What links here</span></a></li><li id=\"t-recentchangeslinked\" class=\"mw-list-item\"><a href=\"/wiki/Special:RecentChangesLinked/Main_Page\" rel=\"nofollow\" title=\"Recent changes in pages linked from this page [k]\" accesskey=\"k\"><span>Related changes</span></a></li><li id=\"t-upload\" class=\"mw-list-item\"><a href=\"/wiki/Wikipedia:File_Upload_Wizard\" title=\"Upload files [u]\" accesskey=\"u\"><span>Upload file</span></a></li><li id=\"t-specialpages\" class=\"mw-list-item\"><a href=\"/wiki/Special:SpecialPages\" title=\"A list of all special pages [q]\" accesskey=\"q\"><span>Special pages</span></a></li><li id=\"t-permalink\" class=\"mw-list-item\"><a href=\"/w/index.php?title=Main_Page&amp;oldid=1267837350\" title=\"Permanent link to this revision of this page\"><span>Permanent link</span></a></li><li id=\"t-info\" class=\"mw-list-item\"><a href=\"/w/index.php?title=Main_Page&amp;action=info\" title=\"More information about this page\"><span>Page information</span></a></li><li id=\"t-cite\" class=\"mw-list-item\"><a href=\"/w/index.php?title=Special:CiteThisPage&amp;page=Main_Page&amp;id=1267837350&amp;wpFormIdentifier=titleform\" title=\"Information on how to cite this page\"><span>Cite this page</span></a></li><li id=\"t-urlshortener\" class=\"mw-list-item\"><a href=\"/w/index.php?title=Special:UrlShortener&amp;url=https%3A%2F%2Fen.wikipedia.org%2Fwiki%2FMain_Page\"><span>Get shortened URL</span></a></li><li id=\"t-urlshortener-qrcode\" class=\"mw-list-item\"><a href=\"/w/index.php?title=Special:QrCode&amp;url=https%3A%2F%2Fen.wikipedia.org%2Fwiki%2FMain_Page\"><span>Download QR code</span></a></li>\\n\\t\\t</ul>\\n\\t\\t\\n\\t</div>\\n</div>\\n\\n<div id=\"p-coll-print_export\" class=\"vector-menu mw-portlet mw-portlet-coll-print_export\"  >\\n\\t<div class=\"vector-menu-heading\">\\n\\t\\tPrint/export\\n\\t</div>\\n\\t<div class=\"vector-menu-content\">\\n\\t\\t\\n\\t\\t<ul class=\"vector-menu-content-list\">\\n\\t\\t\\t\\n\\t\\t\\t<li id=\"coll-download-as-rl\" class=\"mw-list-item\"><a href=\"/w/index.php?title=Special:DownloadAsPdf&amp;page=Main_Page&amp;action=show-download-screen\" title=\"Download this page as a PDF file\"><span>Download as PDF</span></a></li><li id=\"t-print\" class=\"mw-list-item\"><a href=\"/w/index.php?title=Main_Page&amp;printable=yes\" title=\"Printable version of this page [p]\" accesskey=\"p\"><span>Printable version</span></a></li>\\n\\t\\t</ul>\\n\\t\\t\\n\\t</div>\\n</div>\\n\\n<div id=\"p-wikibase-otherprojects\" class=\"vector-menu mw-portlet mw-portlet-wikibase-otherprojects\"  >\\n\\t<div class=\"vector-menu-heading\">\\n\\t\\tIn other projects\\n\\t</div>\\n\\t<div class=\"vector-menu-content\">\\n\\t\\t\\n\\t\\t<ul class=\"vector-menu-content-list\">\\n\\t\\t\\t\\n\\t\\t\\t<li class=\"wb-otherproject-link wb-otherproject-commons mw-list-item\"><a href=\"https://commons.wikimedia.org/wiki/Main_Page\" hreflang=\"en\"><span>Wikimedia Commons</span></a></li><li class=\"wb-otherproject-link wb-otherproject-foundation mw-list-item\"><a href=\"https://foundation.wikimedia.org/wiki/Home\" hreflang=\"en\"><span>Wikimedia Foundation</span></a></li><li class=\"wb-otherproject-link wb-otherproject-mediawiki mw-list-item\"><a href=\"https://www.mediawiki.org/wiki/MediaWiki\" hreflang=\"en\"><span>MediaWiki</span></a></li><li class=\"wb-otherproject-link wb-otherproject-meta mw-list-item\"><a href=\"https://meta.wikimedia.org/wiki/Main_Page\" hreflang=\"en\"><span>Meta-Wiki</span></a></li><li class=\"wb-otherproject-link wb-otherproject-outreach mw-list-item\"><a href=\"https://outreach.wikimedia.org/wiki/Main_Page\" hreflang=\"en\"><span>Wikimedia Outreach</span></a></li><li class=\"wb-otherproject-link wb-otherproject-sources mw-list-item\"><a href=\"https://wikisource.org/wiki/Main_Page\" hreflang=\"en\"><span>Multilingual Wikisource</span></a></li><li class=\"wb-otherproject-link wb-otherproject-species mw-list-item\"><a href=\"https://species.wikimedia.org/wiki/Main_Page\" hreflang=\"en\"><span>Wikispecies</span></a></li><li class=\"wb-otherproject-link wb-otherproject-wikibooks mw-list-item\"><a href=\"https://en.wikibooks.org/wiki/Main_Page\" hreflang=\"en\"><span>Wikibooks</span></a></li><li class=\"wb-otherproject-link wb-otherproject-wikidata mw-list-item\"><a href=\"https://www.wikidata.org/wiki/Wikidata:Main_Page\" hreflang=\"en\"><span>Wikidata</span></a></li><li class=\"wb-otherproject-link wb-otherproject-wikifunctions mw-list-item\"><a href=\"https://www.wikifunctions.org/wiki/Wikifunctions:Main_Page\" hreflang=\"en\"><span>Wikifunctions</span></a></li><li class=\"wb-otherproject-link wb-otherproject-wikimania badge-Q70894304 mw-list-item\" title=\"\"><a href=\"https://wikimania.wikimedia.org/wiki/Wikimania\" hreflang=\"en\"><span>Wikimania</span></a></li><li class=\"wb-otherproject-link wb-otherproject-wikinews mw-list-item\"><a href=\"https://en.wikinews.org/wiki/Main_Page\" hreflang=\"en\"><span>Wikinews</span></a></li><li class=\"wb-otherproject-link wb-otherproject-wikiquote mw-list-item\"><a href=\"https://en.wikiquote.org/wiki/Main_Page\" hreflang=\"en\"><span>Wikiquote</span></a></li><li class=\"wb-otherproject-link wb-otherproject-wikisource mw-list-item\"><a href=\"https://en.wikisource.org/wiki/Main_Page\" hreflang=\"en\"><span>Wikisource</span></a></li><li class=\"wb-otherproject-link wb-otherproject-wikiversity mw-list-item\"><a href=\"https://en.wikiversity.org/wiki/Wikiversity:Main_Page\" hreflang=\"en\"><span>Wikiversity</span></a></li><li class=\"wb-otherproject-link wb-otherproject-wikivoyage mw-list-item\"><a href=\"https://en.wikivoyage.org/wiki/Main_Page\" hreflang=\"en\"><span>Wikivoyage</span></a></li><li class=\"wb-otherproject-link wb-otherproject-wiktionary mw-list-item\"><a href=\"https://en.wiktionary.org/wiki/Wiktionary:Main_Page\" hreflang=\"en\"><span>Wiktionary</span></a></li><li id=\"t-wikibase\" class=\"wb-otherproject-link wb-otherproject-wikibase-dataitem mw-list-item\"><a href=\"https://www.wikidata.org/wiki/Special:EntityPage/Q5296\" title=\"Structured data on this page hosted by Wikidata [g]\" accesskey=\"g\"><span>Wikidata item</span></a></li>\\n\\t\\t</ul>\\n\\t\\t\\n\\t</div>\\n</div>\\n\\n</div>\\n\\n\\t\\t\\t\\t\\t\\t\\t\\t\\t</div>\\n\\t\\t\\t\\t\\n\\t</div>\\n</div>\\n\\n\\t\\t\\t\\t\\t\\t\\t</nav>\\n\\t\\t\\t\\t\\t\\t</div>\\n\\t\\t\\t\\t\\t</div>\\n\\t\\t\\t\\t</div>\\n\\t\\t\\t\\t<div class=\"vector-column-end\">\\n\\t\\t\\t\\t\\t<div class=\"vector-sticky-pinned-container\">\\n\\t\\t\\t\\t\\t\\t<nav class=\"vector-page-tools-landmark\" aria-label=\"Page tools\">\\n\\t\\t\\t\\t\\t\\t\\t<div id=\"vector-page-tools-pinned-container\" class=\"vector-pinned-container\">\\n\\t\\t\\t\\t\\n\\t\\t\\t\\t\\t\\t\\t</div>\\n\\t\\t</nav>\\n\\t\\t\\t\\t\\t\\t<nav class=\"vector-appearance-landmark\" aria-label=\"Appearance\">\\n\\t\\t\\t\\t\\t\\t\\t<div id=\"vector-appearance-pinned-container\" class=\"vector-pinned-container\">\\n\\t\\t\\t\\t<div id=\"vector-appearance\" class=\"vector-appearance vector-pinnable-element\">\\n\\t<div\\n\\tclass=\"vector-pinnable-header vector-appearance-pinnable-header vector-pinnable-header-pinned\"\\n\\tdata-feature-name=\"appearance-pinned\"\\n\\tdata-pinnable-element-id=\"vector-appearance\"\\n\\tdata-pinned-container-id=\"vector-appearance-pinned-container\"\\n\\tdata-unpinned-container-id=\"vector-appearance-unpinned-container\"\\n>\\n\\t<div class=\"vector-pinnable-header-label\">Appearance</div>\\n\\t<button class=\"vector-pinnable-header-toggle-button vector-pinnable-header-pin-button\" data-event-name=\"pinnable-header.vector-appearance.pin\">move to sidebar</button>\\n\\t<button class=\"vector-pinnable-header-toggle-button vector-pinnable-header-unpin-button\" data-event-name=\"pinnable-header.vector-appearance.unpin\">hide</button>\\n</div>\\n\\n\\n</div>\\n\\n\\t\\t\\t\\t\\t\\t\\t</div>\\n\\t\\t</nav>\\n\\t\\t\\t\\t\\t</div>\\n\\t\\t\\t\\t</div>\\n\\t\\t\\t\\t<div id=\"bodyContent\" class=\"vector-body\" aria-labelledby=\"firstHeading\" data-mw-ve-target-container>\\n\\t\\t\\t\\t\\t<div class=\"vector-body-before-content\">\\n\\t\\t\\t\\t\\t\\n\\t\\t\\t\\t\\t\\t<div id=\"siteSub\" class=\"noprint\">From Wikipedia, the free encyclopedia</div>\\n\\t\\t\\t\\t\\t</div>\\n\\t\\t\\t\\t\\t<div id=\"contentSub\"><div id=\"mw-content-subtitle\"></div></div>\\n\\t\\t\\t\\t\\t\\n\\t\\t\\t\\t\\t\\n\\t\\t\\t\\t\\t<div id=\"mw-content-text\" class=\"mw-body-content\"><div class=\"mw-content-ltr mw-parser-output\" lang=\"en\" dir=\"ltr\"><style data-mw-deduplicate=\"TemplateStyles:r1267836611\">.mw-parser-output .mp-box{border:1px solid #aaa;padding:0 0.5em 0.5em;margin-top:4px}.mw-parser-output .mp-h2,body.skin-timeless .mw-parser-output .mp-h2{border:1px solid #aaa;margin:0.5em 0;padding:0.2em 0.4em;font-size:120%;font-weight:bold;font-family:inherit}.mw-parser-output .mp-later{font-size:85%;font-weight:normal}.mw-parser-output #mp-welcomecount{text-align:center;margin:0.4em}.mw-parser-output #mp-welcome{font-size:162%;padding:0.1em}.mw-parser-output #mp-welcome h1,.mw-parser-output #mp-welcome .mw-heading1{font-size:inherit;font-family:inherit;display:inline;border:none}.mw-parser-output #mp-free{font-size:95%}.mw-parser-output #articlecount{font-size:85%}.mw-parser-output #articlecount>ul{margin:0;padding:0}.mw-parser-output #articlecount>ul>li{margin:0;display:inline}.mw-parser-output #articlecount>ul>li::after{content:\" · \";font-weight:bold}.mw-parser-output #articlecount>ul>li:last-child::after{content:\"\"}.mw-parser-output .mp-contains-float::after{content:\"\";display:block;clear:both}@media(max-width:875px){.mw-parser-output #mp-tfp table,.mw-parser-output #mp-tfp tr,.mw-parser-output #mp-tfp td,.mw-parser-output #mp-tfp tbody{display:block!important;width:100%!important;box-sizing:border-box}.mw-parser-output #mp-tfp tr:first-child td:first-child a.mw-file-description{text-align:center;display:table;margin:0 auto}.mw-parser-output #articlecount>ul>li::after{content:\"\";font-weight:normal}.mw-parser-output #articlecount>ul>li{display:block}}@media(min-width:875px){.mw-parser-output #mp-upper{display:flex}.mw-parser-output #mp-left{flex:1 1 55%;margin-right:2px}.mw-parser-output #mp-right{flex:1 1 45%;margin-left:2px}}@media screen{.mw-parser-output #mp-topbanner{background-color:#f9f9f9;border-color:#ddd}.mw-parser-output #mp-banner{background-color:#fffaf5;border-color:#f2e0ce}.mw-parser-output #mp-left{background-color:#f5fffa;border-color:#cef2e0}.mw-parser-output #mp-left .mp-h2{background-color:#cef2e0;border-color:#a3bfb1}.mw-parser-output #mp-right{background-color:#f5faff;border-color:#cedff2}.mw-parser-output #mp-right .mp-h2{background-color:#cedff2;border-color:#a3b0bf}.mw-parser-output #mp-middle{background-color:#fff5fa;border-color:#f2cedd}.mw-parser-output #mp-middle .mp-h2{background-color:#f2cedd;border-color:#bfa3af}.mw-parser-output #mp-lower{background-color:#faf5ff;border-color:#ddcef2}.mw-parser-output #mp-lower .mp-h2{background-color:#ddcef2;border-color:#afa3bf}.mw-parser-output #mp-bottom{border-color:#e2e2e2}.mw-parser-output #mp-bottom .mp-h2{background-color:#eee;border-color:#ddd}html.skin-theme-clientpref-night .mw-parser-output #mp-topbanner{background-color:#171a1d;border-color:#676767}html.skin-theme-clientpref-night .mw-parser-output #mp-banner{background-color:#431107;border-color:#663428}html.skin-theme-clientpref-night .mw-parser-output #mp-left{background-color:#0b1e1c;border-color:#104437}html.skin-theme-clientpref-night .mw-parser-output #mp-left .mp-h2{background-color:#104437;border-color:#2f4d41}html.skin-theme-clientpref-night .mw-parser-output #mp-right{background-color:#0d1a27;border-color:#082849}html.skin-theme-clientpref-night .mw-parser-output #mp-right .mp-h2{background-color:#082849;border-color:#a3b0bf}html.skin-theme-clientpref-night .mw-parser-output #mp-middle{background-color:#270e1a;border-color:#882c43}html.skin-theme-clientpref-night .mw-parser-output #mp-middle .mp-h2{background-color:#882c43;border-color:#926c80}html.skin-theme-clientpref-night .mw-parser-output #mp-lower{background-color:#130e20;border-color:#7545ab}html.skin-theme-clientpref-night .mw-parser-output #mp-lower .mp-h2{background-color:#7545ab;border-color:#afa3bf}html.skin-theme-clientpref-night .mw-parser-output #mp-bottom{border-color:#676767}html.skin-theme-clientpref-night .mw-parser-output #mp-bottom .mp-h2{background-color:#3d3d3d;border-color:#676767}}@media screen and (prefers-color-scheme:dark){html.skin-theme-clientpref-os .mw-parser-output #mp-topbanner{background-color:#171a1d;border-color:#676767}html.skin-theme-clientpref-os .mw-parser-output #mp-banner{background-color:#431107;border-color:#663428}html.skin-theme-clientpref-os .mw-parser-output #mp-left{background-color:#0b1e1c;border-color:#104437}html.skin-theme-clientpref-os .mw-parser-output #mp-left .mp-h2{background-color:#104437;border-color:#2f4d41}html.skin-theme-clientpref-os .mw-parser-output #mp-right{background-color:#0d1a27;border-color:#082849}html.skin-theme-clientpref-os .mw-parser-output #mp-right .mp-h2{background-color:#082849;border-color:#a3b0bf}html.skin-theme-clientpref-os .mw-parser-output #mp-middle{background-color:#270e1a;border-color:#882c43}html.skin-theme-clientpref-os .mw-parser-output #mp-middle .mp-h2{background-color:#882c43;border-color:#926c80}html.skin-theme-clientpref-os .mw-parser-output #mp-lower{background-color:#130e20;border-color:#7545ab}html.skin-theme-clientpref-os .mw-parser-output #mp-lower .mp-h2{background-color:#7545ab;border-color:#afa3bf}html.skin-theme-clientpref-os .mw-parser-output #mp-bottom{border-color:#676767}html.skin-theme-clientpref-os .mw-parser-output #mp-bottom .mp-h2{background-color:#3d3d3d;border-color:#676767}}</style>\\n<div id=\"mp-topbanner\" class=\"mp-box\">\\n<div id=\"mp-welcomecount\">\\n<div id=\"mp-welcome\"><div class=\"mw-heading mw-heading1\"><h1 id=\"Welcome_to_Wikipedia\">Welcome to <a href=\"/wiki/Wikipedia\" title=\"Wikipedia\">Wikipedia</a></h1></div>,</div>\\n<div id=\"mp-free\">the <a href=\"/wiki/Free_content\" title=\"Free content\">free</a> <a href=\"/wiki/Encyclopedia\" title=\"Encyclopedia\">encyclopedia</a> that <a href=\"/wiki/Help:Introduction_to_Wikipedia\" title=\"Help:Introduction to Wikipedia\">anyone can edit</a>.</div>\\n<div id=\"articlecount\"><ul><li><a href=\"/wiki/Special:Statistics\" title=\"Special:Statistics\">119,842</a> active editors</li><li><a href=\"/wiki/Special:Statistics\" title=\"Special:Statistics\">6,943,774</a> articles in <a href=\"/wiki/English_language\" title=\"English language\">English</a></li></ul></div>\\n</div>\\n</div>\\n<div id=\"mp-upper\">\\n<div id=\"mp-left\" class=\"MainPageBG mp-box\">\\n<h2 id=\"mp-tfa-h2\" class=\"mp-h2\">From today\\'s featured article</h2>\\n<div id=\"mp-tfa\" class=\"mp-contains-float\"><div id=\"mp-tfa-img\" style=\"float: left; margin: 0.5em 0.9em 0.4em 0em;\">\\n<div class=\"thumbinner mp-thumb\" style=\"background: transparent; color: inherit; border: none; padding: 0; max-width: 161px;\">\\n<span typeof=\"mw:File\"><a href=\"/wiki/File:Castell_Coch_2018.jpg\" class=\"mw-file-description\" title=\"Castell Coch\"><img alt=\"Castell Coch\" src=\"//upload.wikimedia.org/wikipedia/commons/thumb/d/d5/Castell_Coch_2018.jpg/161px-Castell_Coch_2018.jpg\" decoding=\"async\" width=\"161\" height=\"121\" class=\"mw-file-element\" srcset=\"//upload.wikimedia.org/wikipedia/commons/thumb/d/d5/Castell_Coch_2018.jpg/242px-Castell_Coch_2018.jpg 1.5x, //upload.wikimedia.org/wikipedia/commons/thumb/d/d5/Castell_Coch_2018.jpg/322px-Castell_Coch_2018.jpg 2x\" data-file-width=\"3984\" data-file-height=\"2999\" /></a></span></div>\\n</div> \\n<p><b><a href=\"/wiki/Castell_Coch\" title=\"Castell Coch\">Castell Coch</a></b> is a 19th-century <a href=\"/wiki/Gothic_Revival_architecture\" title=\"Gothic Revival architecture\">Gothic Revival</a> castle built above the village of <a href=\"/wiki/Tongwynlais\" title=\"Tongwynlais\">Tongwynlais</a> in <a href=\"/wiki/South_Wales\" title=\"South Wales\">South Wales</a>. The first castle on the site was built by the Normans after 1081 to protect the newly conquered town of <a href=\"/wiki/Cardiff\" title=\"Cardiff\">Cardiff</a>. The castle\\'s earth <a href=\"/wiki/Motte-and-bailey_castle\" title=\"Motte-and-bailey castle\">motte</a> was reused by <a href=\"/wiki/Gilbert_de_Clare,_7th_Earl_of_Gloucester\" title=\"Gilbert de Clare, 7th Earl of Gloucester\">Gilbert de Clare</a> as the basis for a new stone fortification, built between 1267 and 1277. <a href=\"/wiki/John_Crichton-Stuart,_3rd_Marquess_of_Bute\" title=\"John Crichton-Stuart, 3rd Marquess of Bute\">John Crichton-Stuart, 3rd Marquess of Bute</a>, inherited the castle ruins in 1848. One of Britain\\'s wealthiest men, he employed the architect <a href=\"/wiki/William_Burges\" title=\"William Burges\">William Burges</a> to reconstruct the castle as a summer residence. Burges rebuilt the outside before his death in 1881, and the interior work was finished by his team in 1891; it featured elaborate decorations including extensive use of symbolism drawing on themes from <a href=\"/wiki/Classical_mythology\" title=\"Classical mythology\">classical mythology</a> and <a href=\"/wiki/Legend\" title=\"Legend\">legend</a>. Crichton-Stuart planted a vineyard just below the castle, where wine production continued until the First World War. Castell Coch is considered to be one of the best surviving examples of Victorian architecture. (<b><a href=\"/wiki/Castell_Coch\" title=\"Castell Coch\">Full&#160;article...</a></b>)\\n</p>\\n<div class=\"tfa-recent\" style=\"text-align: right;\">\\nRecently featured: <style data-mw-deduplicate=\"TemplateStyles:r1129693374\">.mw-parser-output .hlist dl,.mw-parser-output .hlist ol,.mw-parser-output .hlist ul{margin:0;padding:0}.mw-parser-output .hlist dd,.mw-parser-output .hlist dt,.mw-parser-output .hlist li{margin:0;display:inline}.mw-parser-output .hlist.inline,.mw-parser-output .hlist.inline dl,.mw-parser-output .hlist.inline ol,.mw-parser-output .hlist.inline ul,.mw-parser-output .hlist dl dl,.mw-parser-output .hlist dl ol,.mw-parser-output .hlist dl ul,.mw-parser-output .hlist ol dl,.mw-parser-output .hlist ol ol,.mw-parser-output .hlist ol ul,.mw-parser-output .hlist ul dl,.mw-parser-output .hlist ul ol,.mw-parser-output .hlist ul ul{display:inline}.mw-parser-output .hlist .mw-empty-li{display:none}.mw-parser-output .hlist dt::after{content:\": \"}.mw-parser-output .hlist dd::after,.mw-parser-output .hlist li::after{content:\" · \";font-weight:bold}.mw-parser-output .hlist dd:last-child::after,.mw-parser-output .hlist dt:last-child::after,.mw-parser-output .hlist li:last-child::after{content:none}.mw-parser-output .hlist dd dd:first-child::before,.mw-parser-output .hlist dd dt:first-child::before,.mw-parser-output .hlist dd li:first-child::before,.mw-parser-output .hlist dt dd:first-child::before,.mw-parser-output .hlist dt dt:first-child::before,.mw-parser-output .hlist dt li:first-child::before,.mw-parser-output .hlist li dd:first-child::before,.mw-parser-output .hlist li dt:first-child::before,.mw-parser-output .hlist li li:first-child::before{content:\" (\";font-weight:normal}.mw-parser-output .hlist dd dd:last-child::after,.mw-parser-output .hlist dd dt:last-child::after,.mw-parser-output .hlist dd li:last-child::after,.mw-parser-output .hlist dt dd:last-child::after,.mw-parser-output .hlist dt dt:last-child::after,.mw-parser-output .hlist dt li:last-child::after,.mw-parser-output .hlist li dd:last-child::after,.mw-parser-output .hlist li dt:last-child::after,.mw-parser-output .hlist li li:last-child::after{content:\")\";font-weight:normal}.mw-parser-output .hlist ol{counter-reset:listitem}.mw-parser-output .hlist ol>li{counter-increment:listitem}.mw-parser-output .hlist ol>li::before{content:\" \"counter(listitem)\"\\\\a0 \"}.mw-parser-output .hlist dd ol>li:first-child::before,.mw-parser-output .hlist dt ol>li:first-child::before,.mw-parser-output .hlist li ol>li:first-child::before{content:\" (\"counter(listitem)\"\\\\a0 \"}</style><div class=\"hlist inline\">\\n<ul><li><a href=\"/wiki/Caitlin_Clark\" title=\"Caitlin Clark\">Caitlin Clark</a></li>\\n<li><a href=\"/wiki/Ada_Wong\" title=\"Ada Wong\">Ada Wong</a></li>\\n<li><a href=\"/wiki/Andrew_Jackson\" title=\"Andrew Jackson\">Andrew Jackson</a></li></ul>\\n</div></div>\\n<link rel=\"mw-deduplicated-inline-style\" href=\"mw-data:TemplateStyles:r1129693374\"><div class=\"hlist tfa-footer noprint\" style=\"text-align:right;\">\\n<ul><li><b><a href=\"/wiki/Wikipedia:Today%27s_featured_article/January_2025\" title=\"Wikipedia:Today&#39;s featured article/January 2025\">Archive</a></b></li>\\n<li><b><a href=\"https://lists.wikimedia.org/postorius/lists/daily-article-l.lists.wikimedia.org/\" class=\"extiw\" title=\"mail:daily-article-l\">By email</a></b></li>\\n<li><b><a href=\"/wiki/Wikipedia:Featured_articles\" title=\"Wikipedia:Featured articles\">More featured articles</a></b></li>\\n<li><b><a href=\"/wiki/Wikipedia:About_Today%27s_featured_article\" title=\"Wikipedia:About Today&#39;s featured article\">About</a></b></li></ul>\\n</div></div>\\n<h2 id=\"mp-dyk-h2\" class=\"mp-h2\">Did you know&#160;...</h2>\\n<div id=\"mp-dyk\" class=\"mp-contains-float\">\\n<div class=\"dyk-img\" style=\"float: right; margin-left: 0.5em;\">\\n<div class=\"thumbinner mp-thumb\" style=\"background: transparent; color: inherit; border: none; padding: 0; max-width: 140px;\">\\n<span typeof=\"mw:File\"><a href=\"/wiki/File:Maria,_from_Laurence_Sterne%27s_A_Sentimental_Journey_through_France_and_Italy._Angelica_Kauffman.jpg\" class=\"mw-file-description\" title=\"&quot;Poor Maria&quot; from A Sentimental Journey\"><img alt=\"&quot;Poor Maria&quot; from A Sentimental Journey\" src=\"//upload.wikimedia.org/wikipedia/commons/thumb/2/27/Maria%2C_from_Laurence_Sterne%27s_A_Sentimental_Journey_through_France_and_Italy._Angelica_Kauffman.jpg/140px-Maria%2C_from_Laurence_Sterne%27s_A_Sentimental_Journey_through_France_and_Italy._Angelica_Kauffman.jpg\" decoding=\"async\" width=\"140\" height=\"170\" class=\"mw-file-element\" srcset=\"//upload.wikimedia.org/wikipedia/commons/thumb/2/27/Maria%2C_from_Laurence_Sterne%27s_A_Sentimental_Journey_through_France_and_Italy._Angelica_Kauffman.jpg/210px-Maria%2C_from_Laurence_Sterne%27s_A_Sentimental_Journey_through_France_and_Italy._Angelica_Kauffman.jpg 1.5x, //upload.wikimedia.org/wikipedia/commons/thumb/2/27/Maria%2C_from_Laurence_Sterne%27s_A_Sentimental_Journey_through_France_and_Italy._Angelica_Kauffman.jpg/280px-Maria%2C_from_Laurence_Sterne%27s_A_Sentimental_Journey_through_France_and_Italy._Angelica_Kauffman.jpg 2x\" data-file-width=\"462\" data-file-height=\"560\" /></a></span><div class=\"thumbcaption\" style=\"padding: 0.25em 0; word-wrap: break-word;\">\"Poor Maria\" from <i>A Sentimental Journey</i></div></div>\\n</div>\\n<ul><li>... that one 18th-century reader was so offended by some chapters of <b><a href=\"/wiki/Laurence_Sterne\" title=\"Laurence Sterne\">Laurence Sterne</a></b><span class=\"nowrap\">&#39;s</span> 1768 novel <i><b><a href=\"/wiki/A_Sentimental_Journey_Through_France_and_Italy\" title=\"A Sentimental Journey Through France and Italy\">A Sentimental Journey Through France and Italy</a></b></i> <i>(scene pictured)</i> that they glued the pages shut?</li>\\n<li>... that only two people are known to have seen <b><a href=\"/wiki/Du_Toit%27s_torrent_frog\" title=\"Du Toit&#39;s torrent frog\">Du Toit\\'s torrent frog</a></b> alive?</li>\\n<li>... that <b><a href=\"/wiki/Jeanne_Trevor\" title=\"Jeanne Trevor\">Jeanne Trevor</a></b><span class=\"nowrap\">&#39;s</span> name was misspelled on the cover of her first album?</li>\\n<li>... that the <b><a href=\"/wiki/Sitaleshwar_Temple\" title=\"Sitaleshwar Temple\">Sitaleshwar Temple</a></b> remained a place of worship even when it was in ruins?</li>\\n<li>... that the comet <b><a href=\"/wiki/C/1975_T2_(Suzuki%E2%80%93Saigusa%E2%80%93Mori)\" title=\"C/1975 T2 (Suzuki–Saigusa–Mori)\">C/1975&#160;T2 (Suzuki–Saigusa–Mori)</a></b> was independently discovered by five observers within the span of half an hour?</li>\\n<li>... that viewers of <b><a href=\"/wiki/WSJV\" title=\"WSJV\">an Indiana TV station</a></b><span class=\"nowrap\">&#39;s</span> newscast in 1995 could send emails to the presenter live on air?</li>\\n<li>... that the diary of <b><a href=\"/wiki/Erich_Lassota_von_Steblau\" title=\"Erich Lassota von Steblau\">Erich Lassota von Steblau</a></b> is an important primary source on the 16th-century <a href=\"/wiki/Zaporozhian_Cossacks\" title=\"Zaporozhian Cossacks\">Zaporozhian Cossacks</a> of Ukraine?</li>\\n<li>... that nearly half of the wins achieved in 2024 by the <b><a href=\"/wiki/San_Jose_State_Spartans_women%27s_volleyball\" title=\"San Jose State Spartans women&#39;s volleyball\">San Jose State Spartans women\\'s volleyball team</a></b> were by forfeit?</li>\\n<li>... that <b><a href=\"/wiki/Tokyo_Expressway\" title=\"Tokyo Expressway\">Japan\\'s oldest expressway</a></b> is intended to be transformed into a park?</li></ul>\\n<link rel=\"mw-deduplicated-inline-style\" href=\"mw-data:TemplateStyles:r1129693374\"><div class=\"hlist dyk-footer noprint\" style=\"margin-top: 0.5em; text-align: right;\">\\n<ul><li><b><a href=\"/wiki/Wikipedia:Recent_additions\" title=\"Wikipedia:Recent additions\">Archive</a></b></li>\\n<li><b><a href=\"/wiki/Help:Your_first_article\" title=\"Help:Your first article\">Start a new article</a></b></li>\\n<li><b><a href=\"/wiki/Template_talk:Did_you_know\" title=\"Template talk:Did you know\">Nominate an article</a></b></li></ul>\\n</div>\\n</div>\\n</div>\\n<div id=\"mp-right\" class=\"MainPageBG mp-box\">\\n<h2 id=\"mp-itn-h2\" class=\"mp-h2\">In the news</h2>\\n<div id=\"mp-itn\" class=\"mp-contains-float\"><style data-mw-deduplicate=\"TemplateStyles:r1053378754\">.mw-parser-output .itn-img{float:right;margin-left:0.5em;margin-top:0.2em}</style><div role=\"figure\" class=\"itn-img\">\\n<div class=\"thumbinner mp-thumb\" style=\"background: transparent; color: inherit; border: none; padding: 0; max-width: 162px;\">\\n<span typeof=\"mw:File\"><a href=\"/wiki/File:Grand_Kartal_Hotel_in_Kartalkaya.jpg\" class=\"mw-file-description\" title=\"Grand Kartal Hotel in 2007\"><img alt=\"Grand Kartal Hotel in 2007\" src=\"//upload.wikimedia.org/wikipedia/commons/thumb/c/c1/Grand_Kartal_Hotel_in_Kartalkaya.jpg/162px-Grand_Kartal_Hotel_in_Kartalkaya.jpg\" decoding=\"async\" width=\"162\" height=\"121\" class=\"mw-file-element\" srcset=\"//upload.wikimedia.org/wikipedia/commons/thumb/c/c1/Grand_Kartal_Hotel_in_Kartalkaya.jpg/243px-Grand_Kartal_Hotel_in_Kartalkaya.jpg 1.5x, //upload.wikimedia.org/wikipedia/commons/thumb/c/c1/Grand_Kartal_Hotel_in_Kartalkaya.jpg/324px-Grand_Kartal_Hotel_in_Kartalkaya.jpg 2x\" data-file-width=\"2608\" data-file-height=\"1952\" /></a></span><div class=\"thumbcaption\" style=\"padding: 0.25em 0; word-wrap: break-word; text-align: left;\">Grand Kartal Hotel <span class=\"nowrap\">in 2007</span></div></div>\\n</div>\\n<ul><li><b><a href=\"/wiki/2025_Kartalkaya_hotel_fire\" title=\"2025 Kartalkaya hotel fire\">A fire</a></b> at a ski resort hotel <i>(pictured)</i> in <a href=\"/wiki/Kartalkaya\" title=\"Kartalkaya\">Kartalkaya</a>, Turkey, leaves at least 79 people dead and 51 others injured.</li>\\n<li><b><a href=\"/wiki/2025_Catatumbo_attacks\" title=\"2025 Catatumbo attacks\">A series of attacks</a></b> by the <a href=\"/wiki/National_Liberation_Army_(Colombia)\" title=\"National Liberation Army (Colombia)\">National Liberation Army</a> in the <a href=\"/wiki/Catatumbo_region\" title=\"Catatumbo region\">Catatumbo region</a> of Colombia leaves more than a hundred people dead.</li>\\n<li><b><a href=\"/wiki/2025_Israel%E2%80%93Hamas_war_ceasefire\" title=\"2025 Israel–Hamas war ceasefire\">A ceasefire agreement</a></b> suspends the <a href=\"/wiki/Israel%E2%80%93Hamas_war\" title=\"Israel–Hamas war\">Israel–Hamas war</a>, involving the release of <a href=\"/wiki/Israel%E2%80%93Hamas_war_hostage_crisis\" title=\"Israel–Hamas war hostage crisis\">Israeli hostages</a> and <a href=\"/wiki/Palestinians_in_Israeli_custody\" title=\"Palestinians in Israeli custody\">Palestinian prisoners</a>.</li>\\n<li>Two <a href=\"/wiki/Qadi\" title=\"Qadi\">Supreme Court judges</a> are assassinated in <b><a href=\"/wiki/2025_assassination_of_Iranian_Supreme_Court_judges\" title=\"2025 assassination of Iranian Supreme Court judges\">a shooting</a></b> at the <a href=\"/wiki/Supreme_Court_of_Iran\" title=\"Supreme Court of Iran\">Supreme Court of Iran</a> in <a href=\"/wiki/Tehran\" title=\"Tehran\">Tehran</a>.</li></ul>\\n<div class=\"itn-footer\" style=\"margin-top: 0.5em;\">\\n<div><b><a href=\"/wiki/Portal:Current_events\" title=\"Portal:Current events\">Ongoing</a></b>: <link rel=\"mw-deduplicated-inline-style\" href=\"mw-data:TemplateStyles:r1129693374\"><div class=\"hlist inline\">\\n<ul><li><a href=\"/wiki/Russian_invasion_of_Ukraine\" title=\"Russian invasion of Ukraine\">Russian invasion of Ukraine</a>\\n<ul><li><a href=\"/wiki/Timeline_of_the_Russian_invasion_of_Ukraine_(1_January_2025_%E2%80%93_present)\" title=\"Timeline of the Russian invasion of Ukraine (1 January 2025 – present)\">timeline</a></li></ul></li>\\n<li><a href=\"/wiki/Sudanese_civil_war_(2023%E2%80%93present)\" title=\"Sudanese civil war (2023–present)\">Sudanese civil war</a>\\n<ul><li><a href=\"/wiki/Timeline_of_the_Sudanese_civil_war_(2025)\" title=\"Timeline of the Sudanese civil war (2025)\">timeline</a></li></ul></li></ul></div></div>\\n<div><b><a href=\"/wiki/Deaths_in_2025\" title=\"Deaths in 2025\">Recent deaths</a></b>&#58; <link rel=\"mw-deduplicated-inline-style\" href=\"mw-data:TemplateStyles:r1129693374\"><div class=\"hlist inline\">\\n<ul><li><a href=\"/wiki/Russell_Marshall\" title=\"Russell Marshall\">Russell Marshall</a></li>\\n<li><a href=\"/wiki/Didier_Guillaume\" title=\"Didier Guillaume\">Didier Guillaume</a></li>\\n<li><a href=\"/wiki/Denis_Law\" title=\"Denis Law\">Denis Law</a></li>\\n<li><a href=\"/wiki/Hans_Dobida\" title=\"Hans Dobida\">Hans Dobida</a></li>\\n<li><a href=\"/wiki/Linda_Nolan\" title=\"Linda Nolan\">Linda Nolan</a></li>\\n<li><a href=\"/wiki/Tommy_Brown_(baseball)\" title=\"Tommy Brown (baseball)\">Tommy Brown</a></li></ul></div></div></div>\\n<link rel=\"mw-deduplicated-inline-style\" href=\"mw-data:TemplateStyles:r1129693374\"><div class=\"hlist itn-footer noprint\" style=\"text-align:right;\">\\n<ul><li><b><a href=\"/wiki/Wikipedia:In_the_news/Candidates\" title=\"Wikipedia:In the news/Candidates\">Nominate an article</a></b></li></ul>\\n</div></div>\\n<h2 id=\"mp-otd-h2\" class=\"mp-h2\">On this day</h2>\\n<div id=\"mp-otd\" class=\"mp-contains-float\">\\n<p><b><a href=\"/wiki/January_23\" title=\"January 23\">January 23</a></b>: <b><a href=\"/wiki/Little_New_Year\" title=\"Little New Year\">Little New Year</a></b> in southern China (2025)\\n</p>\\n<div style=\"float:right;margin-left:0.5em;\" id=\"mp-otd-img\">\\n<div class=\"thumbinner mp-thumb\" style=\"background: transparent; color: inherit; border: none; padding: 0; max-width: 124px;\">\\n<span typeof=\"mw:File\"><a href=\"/wiki/File:%E6%98%8E%E5%A4%AA%E7%A5%96%E7%94%BB%E5%83%8F.jpg\" class=\"mw-file-description\" title=\"Hongwu Emperor\"><img alt=\"Hongwu Emperor\" src=\"//upload.wikimedia.org/wikipedia/commons/thumb/b/b3/%E6%98%8E%E5%A4%AA%E7%A5%96%E7%94%BB%E5%83%8F.jpg/124px-%E6%98%8E%E5%A4%AA%E7%A5%96%E7%94%BB%E5%83%8F.jpg\" decoding=\"async\" width=\"124\" height=\"158\" class=\"mw-file-element\" srcset=\"//upload.wikimedia.org/wikipedia/commons/thumb/b/b3/%E6%98%8E%E5%A4%AA%E7%A5%96%E7%94%BB%E5%83%8F.jpg/186px-%E6%98%8E%E5%A4%AA%E7%A5%96%E7%94%BB%E5%83%8F.jpg 1.5x, //upload.wikimedia.org/wikipedia/commons/thumb/b/b3/%E6%98%8E%E5%A4%AA%E7%A5%96%E7%94%BB%E5%83%8F.jpg/248px-%E6%98%8E%E5%A4%AA%E7%A5%96%E7%94%BB%E5%83%8F.jpg 2x\" data-file-width=\"3080\" data-file-height=\"3932\" /></a></span><div class=\"thumbcaption\" style=\"padding: 0.25em 0; word-wrap: break-word;\">Hongwu Emperor</div></div>\\n</div>\\n<ul><li><a href=\"/wiki/1368\" title=\"1368\">1368</a> – The <b><a href=\"/wiki/Hongwu_Emperor\" title=\"Hongwu Emperor\">Hongwu Emperor</a></b> <i>(pictured)</i> ascended to the throne, initiating the <a href=\"/wiki/Ming_dynasty\" title=\"Ming dynasty\">Ming dynasty</a>, which would rule China for three centuries.</li>\\n<li><a href=\"/wiki/1571\" title=\"1571\">1571</a> – <a href=\"/wiki/Elizabeth_I\" title=\"Elizabeth I\">Queen&#160;Elizabeth I</a> opened the <b><a href=\"/wiki/Royal_Exchange,_London\" title=\"Royal Exchange, London\">Royal Exchange</a></b> in London, giving it its royal title.</li>\\n<li><a href=\"/wiki/1846\" title=\"1846\">1846</a> –&#160;<a href=\"/wiki/Ahmad_I_ibn_Mustafa\" title=\"Ahmad I ibn Mustafa\">Ahmad Bey</a> declared the legal abolition of <b><a href=\"/wiki/Slavery_in_Tunisia\" title=\"Slavery in Tunisia\">slavery in Tunisia</a></b>.</li>\\n<li><a href=\"/wiki/1870\" title=\"1870\">1870</a> – <a href=\"/wiki/American_Indian_Wars\" title=\"American Indian Wars\">American Indian Wars</a>: The <a href=\"/wiki/United_States_Army\" title=\"United States Army\">United States Army</a> killed about 200 <a href=\"/wiki/Piegan_Blackfeet\" title=\"Piegan Blackfeet\">Piegan Blackfeet</a>, mostly women, children, and the elderly, in the <b><a href=\"/wiki/Marias_Massacre\" title=\"Marias Massacre\">Marias Massacre</a></b>.</li>\\n<li><a href=\"/wiki/1915\" title=\"1915\">1915</a> – Rebels led by <a href=\"/wiki/John_Chilembwe\" title=\"John Chilembwe\">John Chilembwe</a> attacked local plantation owners, beginning <b><a href=\"/wiki/Chilembwe_uprising\" title=\"Chilembwe uprising\">an uprising</a></b> regarded as a key moment in the history of Malawi.</li>\\n<li><a href=\"/wiki/2003\" title=\"2003\">2003</a> – The final signal was detected from the <a href=\"/wiki/NASA\" title=\"NASA\">NASA</a> space probe <i><b><a href=\"/wiki/Pioneer_10\" title=\"Pioneer 10\">Pioneer&#160;10</a></b></i>, then about 12&#160;billion kilometres (7.5&#160;billion miles) from Earth.</li></ul>\\n<link rel=\"mw-deduplicated-inline-style\" href=\"mw-data:TemplateStyles:r1129693374\"><div class=\"hlist\" style=\"margin-top: 0.5em;\"><ul><li><b><a href=\"/wiki/Antonio_D%C3%ADaz_Soto_y_Gama\" title=\"Antonio Díaz Soto y Gama\">Antonio Díaz Soto y Gama</a></b>  (<abbr title=\"born\">b.</abbr>&#160;1880)</li><li><b><a href=\"/wiki/Guida_Maria\" title=\"Guida Maria\">Guida Maria</a></b>  (<abbr title=\"born\">b.</abbr>&#160;1950)</li><li><b><a href=\"/wiki/Hsu_Tain-tsair\" title=\"Hsu Tain-tsair\">Hsu Tain-tsair</a></b> (<abbr title=\"born\">b.</abbr>&#160;1953)</li></ul></div>\\n<div style=\"margin-top:0.5em;\">\\nMore anniversaries: <link rel=\"mw-deduplicated-inline-style\" href=\"mw-data:TemplateStyles:r1129693374\"><div class=\"hlist inline nowraplinks\">\\n<ul><li><a href=\"/wiki/January_22\" title=\"January 22\">January 22</a></li>\\n<li><b><a href=\"/wiki/January_23\" title=\"January 23\">January 23</a></b></li>\\n<li><a href=\"/wiki/January_24\" title=\"January 24\">January 24</a></li></ul>\\n</div></div>\\n<link rel=\"mw-deduplicated-inline-style\" href=\"mw-data:TemplateStyles:r1129693374\"><div class=\"hlist otd-footer noprint\" style=\"text-align:right;\">\\n<ul><li><b><a href=\"/wiki/Wikipedia:Selected_anniversaries/January\" title=\"Wikipedia:Selected anniversaries/January\">Archive</a></b></li>\\n<li><b><a href=\"https://lists.wikimedia.org/postorius/lists/daily-article-l.lists.wikimedia.org/\" class=\"extiw\" title=\"mail:daily-article-l\">By email</a></b></li>\\n<li><b><a href=\"/wiki/List_of_days_of_the_year\" title=\"List of days of the year\">List of days of the year</a></b></li>\\n<li><b><a href=\"/wiki/Wikipedia:Selected_anniversaries\" title=\"Wikipedia:Selected anniversaries\">About</a></b></li></ul>\\n</div></div>\\n</div>\\n</div>\\n<div id=\"mp-lower\" class=\"MainPageBG mp-box\">\\n<h2 id=\"mp-tfp-h2\" class=\"mp-h2\">Today\\'s featured picture</h2>\\n<div id=\"mp-tfp\">\\n<table role=\"presentation\" style=\"margin:0 3px 3px; width:100%; box-sizing:border-box; text-align:left; border-collapse:collapse;\">\\n<tbody><tr>\\n<td style=\"padding:0 0.9em 0 0; width:300px;\"><span typeof=\"mw:File\"><a href=\"/wiki/File:Garlic_bulbs_and_cloves.jpg\" class=\"mw-file-description\" title=\"Garlic\"><img alt=\"Garlic\" src=\"//upload.wikimedia.org/wikipedia/commons/thumb/9/9a/Garlic_bulbs_and_cloves.jpg/300px-Garlic_bulbs_and_cloves.jpg\" decoding=\"async\" width=\"300\" height=\"200\" class=\"mw-file-element\" srcset=\"//upload.wikimedia.org/wikipedia/commons/thumb/9/9a/Garlic_bulbs_and_cloves.jpg/450px-Garlic_bulbs_and_cloves.jpg 1.5x, //upload.wikimedia.org/wikipedia/commons/thumb/9/9a/Garlic_bulbs_and_cloves.jpg/600px-Garlic_bulbs_and_cloves.jpg 2x\" data-file-width=\"8256\" data-file-height=\"5504\" /></a></span>\\n</td>\\n<td style=\"padding:0 6px 0 0\">\\n<p><b><a href=\"/wiki/Garlic\" title=\"Garlic\">Garlic</a></b> (<i>Allium sativum</i>) is a species of <a href=\"/wiki/Bulb\" title=\"Bulb\">bulbous</a> <a href=\"/wiki/Flowering_plant\" title=\"Flowering plant\">flowering plants</a> in the genus <i><a href=\"/wiki/Allium\" title=\"Allium\">Allium</a></i>. Its close relatives include the <a href=\"/wiki/Onion\" title=\"Onion\">onion</a>, <a href=\"/wiki/Shallot\" title=\"Shallot\">shallot</a>, <a href=\"/wiki/Leek\" title=\"Leek\">leek</a>, <a href=\"/wiki/Chives\" title=\"Chives\">chives</a>, <a href=\"/wiki/Allium_fistulosum\" title=\"Allium fistulosum\">Welsh onion</a>, and <a href=\"/wiki/Allium_chinense\" title=\"Allium chinense\">Chinese onion</a>. It is native to <a href=\"/wiki/Central_Asia\" title=\"Central Asia\">Central Asia</a>, <a href=\"/wiki/South_Asia\" title=\"South Asia\">South Asia</a>, and northeastern Iran. It has long been used as a seasoning and culinary ingredient worldwide, with a history of several thousand years of human consumption and use, including use in <a href=\"/wiki/Traditional_medicine\" title=\"Traditional medicine\">traditional medicine</a>. It was known to <a href=\"/wiki/Ancient_Egypt\" title=\"Ancient Egypt\">ancient Egyptians</a> and other ancient cultures for which its consumption has had a significant culinary cultural impact, especially across the Mediterranean region and across parts of Asia. It is produced globally, but <a href=\"/wiki/Garlic_production_in_China\" title=\"Garlic production in China\">the largest producer is China</a>, which produced 73% of the world\\'s supply of garlic in 2021. This photograph shows a bulb and cloves of garlic, and was <a href=\"/wiki/Focus_stacking\" title=\"Focus stacking\">focus-stacked</a> from 37 individual images.\\n</p>\\n<p style=\"text-align:left;\"><small>Photograph credit: <a href=\"https://commons.wikimedia.org/wiki/User:Iifar\" class=\"extiw\" title=\"c:User:Iifar\">Ivar Leidus</a></small></p>\\n<div class=\"potd-recent\" style=\"text-align:right;\">\\nRecently featured: <link rel=\"mw-deduplicated-inline-style\" href=\"mw-data:TemplateStyles:r1129693374\"><div class=\"hlist inline\">\\n<ul><li><a href=\"/wiki/Template:POTD/2025-01-22\" title=\"Template:POTD/2025-01-22\">Cattle tyrant and capybara</a></li>\\n<li><a href=\"/wiki/Template:POTD/2025-01-21\" title=\"Template:POTD/2025-01-21\"><i>In the Loge</i></a></li>\\n<li><a href=\"/wiki/Template:POTD/2025-01-20\" title=\"Template:POTD/2025-01-20\">Racial segregation in the United States</a></li></ul>\\n</div></div>\\n<link rel=\"mw-deduplicated-inline-style\" href=\"mw-data:TemplateStyles:r1129693374\"><div class=\"hlist potd-footer noprint\" style=\"text-align:right;\">\\n<ul><li><b><a href=\"/wiki/Wikipedia:Picture_of_the_day/Archive\" title=\"Wikipedia:Picture of the day/Archive\">Archive</a></b></li>\\n<li><b><a href=\"/wiki/Wikipedia:Featured_pictures\" title=\"Wikipedia:Featured pictures\">More featured pictures</a></b></li></ul>\\n</div>\\n</td></tr></tbody></table></div>\\n</div>\\n<div id=\"mp-bottom\" class=\"mp-box\">\\n<h2 id=\"mp-other\" class=\"mp-h2\">Other areas of Wikipedia</h2>\\n<div id=\"mp-other-content\">\\n<ul><li><b><a href=\"/wiki/Wikipedia:Community_portal\" title=\"Wikipedia:Community portal\">Community portal</a></b> – The central hub for editors, with resources, links, tasks, and announcements.</li>\\n<li><b><a href=\"/wiki/Wikipedia:Village_pump\" title=\"Wikipedia:Village pump\">Village pump</a></b> – Forum for discussions about Wikipedia itself, including policies and technical issues.</li>\\n<li><b><a href=\"/wiki/Wikipedia:News\" title=\"Wikipedia:News\">Site news</a></b> – Sources of news about Wikipedia and the broader Wikimedia movement.</li>\\n<li><b><a href=\"/wiki/Wikipedia:Teahouse\" title=\"Wikipedia:Teahouse\">Teahouse</a></b> – Ask basic questions about using or editing Wikipedia.</li>\\n<li><b><a href=\"/wiki/Wikipedia:Help_desk\" title=\"Wikipedia:Help desk\">Help desk</a></b> – Ask questions about using or editing Wikipedia.</li>\\n<li><b><a href=\"/wiki/Wikipedia:Reference_desk\" title=\"Wikipedia:Reference desk\">Reference desk</a></b> – Ask research questions about encyclopedic topics.</li>\\n<li><b><a href=\"/wiki/Wikipedia:Contents/Portals\" title=\"Wikipedia:Contents/Portals\">Content portals</a></b> – A unique way to navigate the encyclopedia.</li></ul>\\n</div>\\n<h2 id=\"mp-sister\" class=\"mp-h2\">Wikipedia\\'s sister projects</h2>\\n<div id=\"mp-sister-content\"><style data-mw-deduplicate=\"TemplateStyles:r1239335380\">.mw-parser-output #sister-projects-list{display:flex;flex-wrap:wrap}.mw-parser-output #sister-projects-list li{display:inline-block}.mw-parser-output #sister-projects-list li span{font-weight:bold}.mw-parser-output #sister-projects-list li>div{display:inline-block;vertical-align:middle;padding:6px 4px}.mw-parser-output #sister-projects-list li>div:first-child{text-align:center}@media screen{.mw-parser-output .sister-projects-wikt-icon-dark,html.skin-theme-clientpref-night .mw-parser-output .sister-projects-wikt-icon-light{display:none}html.skin-theme-clientpref-night .mw-parser-output .sister-projects-wikt-icon-dark{display:inline}}@media screen and (prefers-color-scheme:dark){html.skin-theme-clientpref-os .mw-parser-output .sister-projects-wikt-icon-dark{display:inline}html.skin-theme-clientpref-os .mw-parser-output .sister-projects-wikt-icon-light{display:none}}@media(min-width:360px){.mw-parser-output #sister-projects-list li{width:33%;min-width:20em;white-space:nowrap;flex:1 0 25%}.mw-parser-output #sister-projects-list li>div:first-child{min-width:50px}}</style>\\n<p>Wikipedia is written by volunteer editors and hosted by the <a href=\"/wiki/Wikimedia_Foundation\" title=\"Wikimedia Foundation\">Wikimedia Foundation</a>, a non-profit organization that also hosts a range of other volunteer <a href=\"https://wikimediafoundation.org/our-work/wikimedia-projects/\" class=\"extiw\" title=\"foundationsite:our-work/wikimedia-projects/\">projects</a>:\\n</p>\\n<style data-mw-deduplicate=\"TemplateStyles:r1126788409\">.mw-parser-output .plainlist ol,.mw-parser-output .plainlist ul{line-height:inherit;list-style:none;margin:0;padding:0}.mw-parser-output .plainlist ol li,.mw-parser-output .plainlist ul li{margin-bottom:0}</style><div class=\"plainlist\">\\n<ul id=\"sister-projects-list\">\\n<li>\\n  <div><span typeof=\"mw:File\"><a href=\"https://commons.wikimedia.org/wiki/\" title=\"Commons\"><img alt=\"Commons logo\" src=\"//upload.wikimedia.org/wikipedia/en/thumb/4/4a/Commons-logo.svg/31px-Commons-logo.svg.png\" decoding=\"async\" width=\"31\" height=\"42\" class=\"mw-file-element\" srcset=\"//upload.wikimedia.org/wikipedia/en/thumb/4/4a/Commons-logo.svg/47px-Commons-logo.svg.png 1.5x, //upload.wikimedia.org/wikipedia/en/thumb/4/4a/Commons-logo.svg/62px-Commons-logo.svg.png 2x\" data-file-width=\"1024\" data-file-height=\"1376\" /></a></span></div>\\n  <div><span><a href=\"https://commons.wikimedia.org/wiki/\" class=\"extiw\" title=\"c:\">Commons</a></span><br />Free media repository</div>\\n</li>\\n<li>\\n  <div><span typeof=\"mw:File\"><a href=\"https://www.mediawiki.org/wiki/\" title=\"MediaWiki\"><img alt=\"MediaWiki logo\" src=\"//upload.wikimedia.org/wikipedia/commons/thumb/a/a6/MediaWiki-2020-icon.svg/35px-MediaWiki-2020-icon.svg.png\" decoding=\"async\" width=\"35\" height=\"35\" class=\"mw-file-element\" srcset=\"//upload.wikimedia.org/wikipedia/commons/thumb/a/a6/MediaWiki-2020-icon.svg/53px-MediaWiki-2020-icon.svg.png 1.5x, //upload.wikimedia.org/wikipedia/commons/thumb/a/a6/MediaWiki-2020-icon.svg/70px-MediaWiki-2020-icon.svg.png 2x\" data-file-width=\"100\" data-file-height=\"100\" /></a></span></div>\\n  <div><span><a href=\"https://www.mediawiki.org/wiki/\" class=\"extiw\" title=\"mw:\">MediaWiki</a></span><br />Wiki software development</div>\\n</li>\\n<li>\\n  <div><span typeof=\"mw:File\"><a href=\"https://meta.wikimedia.org/wiki/\" title=\"Meta-Wiki\"><img alt=\"Meta-Wiki logo\" src=\"//upload.wikimedia.org/wikipedia/commons/thumb/7/75/Wikimedia_Community_Logo.svg/35px-Wikimedia_Community_Logo.svg.png\" decoding=\"async\" width=\"35\" height=\"35\" class=\"mw-file-element\" srcset=\"//upload.wikimedia.org/wikipedia/commons/thumb/7/75/Wikimedia_Community_Logo.svg/53px-Wikimedia_Community_Logo.svg.png 1.5x, //upload.wikimedia.org/wikipedia/commons/thumb/7/75/Wikimedia_Community_Logo.svg/70px-Wikimedia_Community_Logo.svg.png 2x\" data-file-width=\"900\" data-file-height=\"900\" /></a></span></div>\\n  <div><span><a href=\"https://meta.wikimedia.org/wiki/\" class=\"extiw\" title=\"m:\">Meta-Wiki</a></span><br />Wikimedia project coordination</div>\\n</li>\\n<li>\\n  <div><span typeof=\"mw:File\"><a href=\"https://en.wikibooks.org/wiki/\" title=\"Wikibooks\"><img alt=\"Wikibooks logo\" src=\"//upload.wikimedia.org/wikipedia/commons/thumb/f/fa/Wikibooks-logo.svg/35px-Wikibooks-logo.svg.png\" decoding=\"async\" width=\"35\" height=\"35\" class=\"mw-file-element\" srcset=\"//upload.wikimedia.org/wikipedia/commons/thumb/f/fa/Wikibooks-logo.svg/53px-Wikibooks-logo.svg.png 1.5x, //upload.wikimedia.org/wikipedia/commons/thumb/f/fa/Wikibooks-logo.svg/70px-Wikibooks-logo.svg.png 2x\" data-file-width=\"300\" data-file-height=\"300\" /></a></span></div>\\n  <div><span><a href=\"https://en.wikibooks.org/wiki/\" class=\"extiw\" title=\"b:\">Wikibooks</a></span><br />Free textbooks and manuals</div>\\n</li>\\n<li>\\n  <div><span typeof=\"mw:File\"><a href=\"https://www.wikidata.org/wiki/\" title=\"Wikidata\"><img alt=\"Wikidata logo\" src=\"//upload.wikimedia.org/wikipedia/commons/thumb/f/ff/Wikidata-logo.svg/47px-Wikidata-logo.svg.png\" decoding=\"async\" width=\"47\" height=\"26\" class=\"mw-file-element\" srcset=\"//upload.wikimedia.org/wikipedia/commons/thumb/f/ff/Wikidata-logo.svg/71px-Wikidata-logo.svg.png 1.5x, //upload.wikimedia.org/wikipedia/commons/thumb/f/ff/Wikidata-logo.svg/94px-Wikidata-logo.svg.png 2x\" data-file-width=\"1050\" data-file-height=\"590\" /></a></span></div>\\n  <div><span><a href=\"https://www.wikidata.org/wiki/\" class=\"extiw\" title=\"d:\">Wikidata</a></span><br />Free knowledge base</div>\\n</li>\\n<li>\\n  <div><span typeof=\"mw:File\"><a href=\"https://en.wikinews.org/wiki/\" title=\"Wikinews\"><img alt=\"Wikinews logo\" src=\"//upload.wikimedia.org/wikipedia/commons/thumb/2/24/Wikinews-logo.svg/51px-Wikinews-logo.svg.png\" decoding=\"async\" width=\"51\" height=\"28\" class=\"mw-file-element\" srcset=\"//upload.wikimedia.org/wikipedia/commons/thumb/2/24/Wikinews-logo.svg/77px-Wikinews-logo.svg.png 1.5x, //upload.wikimedia.org/wikipedia/commons/thumb/2/24/Wikinews-logo.svg/102px-Wikinews-logo.svg.png 2x\" data-file-width=\"759\" data-file-height=\"415\" /></a></span></div>\\n  <div><span><a href=\"https://en.wikinews.org/wiki/\" class=\"extiw\" title=\"n:\">Wikinews</a></span><br />Free-content news</div>\\n</li>\\n<li>\\n  <div><span typeof=\"mw:File\"><a href=\"https://en.wikiquote.org/wiki/\" title=\"Wikiquote\"><img alt=\"Wikiquote logo\" src=\"//upload.wikimedia.org/wikipedia/commons/thumb/f/fa/Wikiquote-logo.svg/35px-Wikiquote-logo.svg.png\" decoding=\"async\" width=\"35\" height=\"41\" class=\"mw-file-element\" srcset=\"//upload.wikimedia.org/wikipedia/commons/thumb/f/fa/Wikiquote-logo.svg/53px-Wikiquote-logo.svg.png 1.5x, //upload.wikimedia.org/wikipedia/commons/thumb/f/fa/Wikiquote-logo.svg/70px-Wikiquote-logo.svg.png 2x\" data-file-width=\"300\" data-file-height=\"355\" /></a></span></div>\\n  <div><span><a href=\"https://en.wikiquote.org/wiki/\" class=\"extiw\" title=\"q:\">Wikiquote</a></span><br />Collection of quotations</div>\\n</li>\\n<li>\\n  <div><span typeof=\"mw:File\"><a href=\"https://en.wikisource.org/wiki/\" title=\"Wikisource\"><img alt=\"Wikisource logo\" src=\"//upload.wikimedia.org/wikipedia/commons/thumb/4/4c/Wikisource-logo.svg/35px-Wikisource-logo.svg.png\" decoding=\"async\" width=\"35\" height=\"37\" class=\"mw-file-element\" srcset=\"//upload.wikimedia.org/wikipedia/commons/thumb/4/4c/Wikisource-logo.svg/53px-Wikisource-logo.svg.png 1.5x, //upload.wikimedia.org/wikipedia/commons/thumb/4/4c/Wikisource-logo.svg/70px-Wikisource-logo.svg.png 2x\" data-file-width=\"410\" data-file-height=\"430\" /></a></span></div>\\n  <div><span><a href=\"https://en.wikisource.org/wiki/\" class=\"extiw\" title=\"s:\">Wikisource</a></span><br />Free-content library</div>\\n</li>\\n<li>\\n  <div><span typeof=\"mw:File\"><a href=\"https://species.wikimedia.org/wiki/\" title=\"Wikispecies\"><img alt=\"Wikispecies logo\" src=\"//upload.wikimedia.org/wikipedia/commons/thumb/d/df/Wikispecies-logo.svg/35px-Wikispecies-logo.svg.png\" decoding=\"async\" width=\"35\" height=\"41\" class=\"mw-file-element\" srcset=\"//upload.wikimedia.org/wikipedia/commons/thumb/d/df/Wikispecies-logo.svg/53px-Wikispecies-logo.svg.png 1.5x, //upload.wikimedia.org/wikipedia/commons/thumb/d/df/Wikispecies-logo.svg/70px-Wikispecies-logo.svg.png 2x\" data-file-width=\"941\" data-file-height=\"1103\" /></a></span></div>\\n  <div><span><a href=\"https://species.wikimedia.org/wiki/\" class=\"extiw\" title=\"species:\">Wikispecies</a></span><br />Directory of species</div>\\n</li>\\n<li>\\n  <div><span typeof=\"mw:File\"><a href=\"https://en.wikiversity.org/wiki/\" title=\"Wikiversity\"><img alt=\"Wikiversity logo\" src=\"//upload.wikimedia.org/wikipedia/commons/thumb/0/0b/Wikiversity_logo_2017.svg/41px-Wikiversity_logo_2017.svg.png\" decoding=\"async\" width=\"41\" height=\"34\" class=\"mw-file-element\" srcset=\"//upload.wikimedia.org/wikipedia/commons/thumb/0/0b/Wikiversity_logo_2017.svg/62px-Wikiversity_logo_2017.svg.png 1.5x, //upload.wikimedia.org/wikipedia/commons/thumb/0/0b/Wikiversity_logo_2017.svg/82px-Wikiversity_logo_2017.svg.png 2x\" data-file-width=\"626\" data-file-height=\"512\" /></a></span></div>\\n  <div><span><a href=\"https://en.wikiversity.org/wiki/\" class=\"extiw\" title=\"v:\">Wikiversity</a></span><br />Free learning tools</div>\\n</li>\\n<li>\\n  <div><span typeof=\"mw:File\"><a href=\"https://en.wikivoyage.org/wiki/\" title=\"Wikivoyage\"><img alt=\"Wikivoyage logo\" src=\"//upload.wikimedia.org/wikipedia/commons/thumb/d/dd/Wikivoyage-Logo-v3-icon.svg/35px-Wikivoyage-Logo-v3-icon.svg.png\" decoding=\"async\" width=\"35\" height=\"35\" class=\"mw-file-element\" srcset=\"//upload.wikimedia.org/wikipedia/commons/thumb/d/dd/Wikivoyage-Logo-v3-icon.svg/53px-Wikivoyage-Logo-v3-icon.svg.png 1.5x, //upload.wikimedia.org/wikipedia/commons/thumb/d/dd/Wikivoyage-Logo-v3-icon.svg/70px-Wikivoyage-Logo-v3-icon.svg.png 2x\" data-file-width=\"193\" data-file-height=\"193\" /></a></span></div>\\n  <div><span><a href=\"https://en.wikivoyage.org/wiki/\" class=\"extiw\" title=\"voy:\">Wikivoyage</a></span><br />Free travel guide</div>\\n</li>\\n<li>\\n  <div><span class=\"sister-projects-wikt-icon-light\"><span typeof=\"mw:File\"><a href=\"https://en.wiktionary.org/wiki/\" title=\"Wiktionary\"><img alt=\"Wiktionary logo\" src=\"//upload.wikimedia.org/wikipedia/en/thumb/0/06/Wiktionary-logo-v2.svg/35px-Wiktionary-logo-v2.svg.png\" decoding=\"async\" width=\"35\" height=\"35\" class=\"mw-file-element\" srcset=\"//upload.wikimedia.org/wikipedia/en/thumb/0/06/Wiktionary-logo-v2.svg/53px-Wiktionary-logo-v2.svg.png 1.5x, //upload.wikimedia.org/wikipedia/en/thumb/0/06/Wiktionary-logo-v2.svg/70px-Wiktionary-logo-v2.svg.png 2x\" data-file-width=\"391\" data-file-height=\"391\" /></a></span></span><span class=\"sister-projects-wikt-icon-dark\"><span typeof=\"mw:File\"><a href=\"https://en.wiktionary.org/wiki/\" title=\"Wiktionary\"><img alt=\"Wiktionary logo\" src=\"//upload.wikimedia.org/wikipedia/commons/thumb/e/ec/Wiktionary-logo.svg/41px-Wiktionary-logo.svg.png\" decoding=\"async\" width=\"41\" height=\"39\" class=\"mw-file-element\" srcset=\"//upload.wikimedia.org/wikipedia/commons/thumb/e/ec/Wiktionary-logo.svg/62px-Wiktionary-logo.svg.png 1.5x, //upload.wikimedia.org/wikipedia/commons/thumb/e/ec/Wiktionary-logo.svg/82px-Wiktionary-logo.svg.png 2x\" data-file-width=\"370\" data-file-height=\"350\" /></a></span></span></div>\\n  <div><span><a href=\"https://en.wiktionary.org/wiki/\" class=\"extiw\" title=\"wikt:\">Wiktionary</a></span><br />Dictionary and thesaurus</div>\\n</li>\\n</ul>\\n</div></div>\\n<h2 id=\"mp-lang\" class=\"mp-h2\">Wikipedia languages</h2>\\n<div><style data-mw-deduplicate=\"TemplateStyles:r997272951\">.mw-parser-output .wikipedia-languages-complete{font-weight:bold}.mw-parser-output .wikipedia-languages ul{margin-left:0}.mw-parser-output .wikipedia-languages ul a{white-space:nowrap}.mw-parser-output .wikipedia-languages>ul{list-style:none;text-align:center;clear:both}.mw-parser-output .wikipedia-languages-count-container{width:90%;display:flex;justify-content:center;padding-top:1em;margin:0 auto}.mw-parser-output .wikipedia-languages-prettybars{width:100%;height:1px;margin:0.5em 0;background-color:#c8ccd1;flex-shrink:1;align-self:center}.mw-parser-output .wikipedia-languages-count{padding:0 1em;white-space:nowrap}</style>\\n<div class=\"wikipedia-languages nourlexpansion\">\\n<p>This Wikipedia is written in <a href=\"/wiki/English_language\" title=\"English language\">English</a>. Many <a href=\"https://meta.wikimedia.org/wiki/List_of_Wikipedias\" class=\"extiw\" title=\"meta:List of Wikipedias\">other Wikipedias are available</a>; some of the largest are listed below.\\n</p>\\n<ul class=\"plainlinks\">\\n<li>\\n  <div class=\"wikipedia-languages-count-container\">\\n    <div class=\"wikipedia-languages-prettybars\"></div>\\n    <div role=\"heading\" aria-level=\"3\" class=\"wikipedia-languages-count\">1,000,000+ articles</div>\\n    <div class=\"wikipedia-languages-prettybars\"></div>\\n  </div>\\n<link rel=\"mw-deduplicated-inline-style\" href=\"mw-data:TemplateStyles:r1129693374\"><div class=\"hlist wikipedia-languages-langs inline\">\\n<ul><li><a class=\"external text\" href=\"https://ar.wikipedia.org/wiki/\"><span class=\"autonym\" title=\"Arabic (ar:)\" lang=\"ar\">العربية</span></a></li>\\n<li><a class=\"external text\" href=\"https://de.wikipedia.org/wiki/\"><span class=\"autonym\" title=\"German (de:)\" lang=\"de\">Deutsch</span></a></li>\\n<li><a class=\"external text\" href=\"https://es.wikipedia.org/wiki/\"><span class=\"autonym\" title=\"Spanish (es:)\" lang=\"es\">Español</span></a></li>\\n<li><a class=\"external text\" href=\"https://fa.wikipedia.org/wiki/\"><span class=\"autonym\" title=\"Persian (fa:)\" lang=\"fa\">فارسی</span></a>&#8206;</li>\\n<li><a class=\"external text\" href=\"https://fr.wikipedia.org/wiki/\"><span class=\"autonym\" title=\"French (fr:)\" lang=\"fr\">Français</span></a></li>\\n<li><a class=\"external text\" href=\"https://it.wikipedia.org/wiki/\"><span class=\"autonym\" title=\"Italian (it:)\" lang=\"it\">Italiano</span></a></li>\\n<li><a class=\"external text\" href=\"https://nl.wikipedia.org/wiki/\"><span class=\"autonym\" title=\"Dutch (nl:)\" lang=\"nl\">Nederlands</span></a></li>\\n<li><a class=\"external text\" href=\"https://ja.wikipedia.org/wiki/\"><span class=\"autonym\" title=\"Japanese (ja:)\" lang=\"ja\">日本語</span></a></li>\\n<li><a class=\"external text\" href=\"https://pl.wikipedia.org/wiki/\"><span class=\"autonym\" title=\"Polish (pl:)\" lang=\"pl\">Polski</span></a></li>\\n<li><a class=\"external text\" href=\"https://pt.wikipedia.org/wiki/\"><span class=\"autonym\" title=\"Portuguese (pt:)\" lang=\"pt\">Português</span></a></li>\\n<li><a class=\"external text\" href=\"https://ru.wikipedia.org/wiki/\"><span class=\"autonym\" title=\"Russian (ru:)\" lang=\"ru\">Русский</span></a></li>\\n<li><a class=\"external text\" href=\"https://sv.wikipedia.org/wiki/\"><span class=\"autonym\" title=\"Swedish (sv:)\" lang=\"sv\">Svenska</span></a></li>\\n<li><a class=\"external text\" href=\"https://uk.wikipedia.org/wiki/\"><span class=\"autonym\" title=\"Ukrainian (uk:)\" lang=\"uk\">Українська</span></a></li>\\n<li><a class=\"external text\" href=\"https://vi.wikipedia.org/wiki/\"><span class=\"autonym\" title=\"Vietnamese (vi:)\" lang=\"vi\">Tiếng Việt</span></a></li>\\n<li><a class=\"external text\" href=\"https://zh.wikipedia.org/wiki/\"><span class=\"autonym\" title=\"Chinese (zh:)\" lang=\"zh\">中文</span></a></li></ul>\\n</div>\\n</li>\\n<li>\\n  <div class=\"wikipedia-languages-count-container\">\\n    <div class=\"wikipedia-languages-prettybars\"></div>\\n    <div role=\"heading\" aria-level=\"3\" class=\"wikipedia-languages-count\">250,000+ articles</div>\\n    <div class=\"wikipedia-languages-prettybars\"></div>\\n  </div>\\n<link rel=\"mw-deduplicated-inline-style\" href=\"mw-data:TemplateStyles:r1129693374\"><div class=\"hlist wikipedia-languages-langs inline\">\\n<ul><li><a class=\"external text\" href=\"https://id.wikipedia.org/wiki/\"><span class=\"autonym\" title=\"Indonesian (id:)\" lang=\"id\">Bahasa Indonesia</span></a></li>\\n<li><a class=\"external text\" href=\"https://ms.wikipedia.org/wiki/\"><span class=\"autonym\" title=\"Malay (ms:)\" lang=\"ms\">Bahasa Melayu</span></a></li>\\n<li><a class=\"external text\" href=\"https://zh-min-nan.wikipedia.org/wiki/\"><span class=\"autonym\" title=\"Minnan (nan:)\" lang=\"nan\">閩南語</span></a></li>\\n<li><a class=\"external text\" href=\"https://bg.wikipedia.org/wiki/\"><span class=\"autonym\" title=\"Bulgarian (bg:)\" lang=\"bg\">Български</span></a></li>\\n<li><a class=\"external text\" href=\"https://ca.wikipedia.org/wiki/\"><span class=\"autonym\" title=\"Catalan (ca:)\" lang=\"ca\">Català</span></a></li>\\n<li><a class=\"external text\" href=\"https://cs.wikipedia.org/wiki/\"><span class=\"autonym\" title=\"Czech (cs:)\" lang=\"cs\">Čeština</span></a></li>\\n<li><a class=\"external text\" href=\"https://da.wikipedia.org/wiki/\"><span class=\"autonym\" title=\"Danish (da:)\" lang=\"da\">Dansk</span></a></li>\\n<li><a class=\"external text\" href=\"https://eo.wikipedia.org/wiki/\"><span class=\"autonym\" title=\"Esperanto (eo:)\" lang=\"eo\">Esperanto</span></a></li>\\n<li><a class=\"external text\" href=\"https://eu.wikipedia.org/wiki/\"><span class=\"autonym\" title=\"Basque (eu:)\" lang=\"eu\">Euskara</span></a></li>\\n<li><a class=\"external text\" href=\"https://he.wikipedia.org/wiki/\"><span class=\"autonym\" title=\"Hebrew (he:)\" lang=\"he\">עברית</span></a></li>\\n<li><a class=\"external text\" href=\"https://hy.wikipedia.org/wiki/\"><span class=\"autonym\" title=\"Armenian (hy:)\" lang=\"hy\">Հայերեն</span></a></li>\\n<li><a class=\"external text\" href=\"https://ko.wikipedia.org/wiki/\"><span class=\"autonym\" title=\"Korean (ko:)\" lang=\"ko\">한국어</span></a></li>\\n<li><a class=\"external text\" href=\"https://hu.wikipedia.org/wiki/\"><span class=\"autonym\" title=\"Hungarian (hu:)\" lang=\"hu\">Magyar</span></a></li>\\n<li><a class=\"external text\" href=\"https://no.wikipedia.org/wiki/\"><span class=\"autonym\" title=\"Norwegian (no:)\" lang=\"no\">Norsk bokmål</span></a></li>\\n<li><a class=\"external text\" href=\"https://ro.wikipedia.org/wiki/\"><span class=\"autonym\" title=\"Romanian (ro:)\" lang=\"ro\">Română</span></a></li>\\n<li><a class=\"external text\" href=\"https://simple.wikipedia.org/wiki/\"><span class=\"autonym\" title=\"Simple English (simple:)\" lang=\"en\">Simple English</span></a></li>\\n<li><a class=\"external text\" href=\"https://sk.wikipedia.org/wiki/\"><span class=\"autonym\" title=\"Slovak (sk:)\" lang=\"sk\">Slovenčina</span></a></li>\\n<li><a class=\"external text\" href=\"https://sr.wikipedia.org/wiki/\"><span class=\"autonym\" title=\"Serbian (sr:)\" lang=\"sr\">Srpski</span></a></li>\\n<li><a class=\"external text\" href=\"https://sh.wikipedia.org/wiki/\"><span class=\"autonym\" title=\"Serbo-Croatian (sh:)\" lang=\"sh\">Srpskohrvatski</span></a></li>\\n<li><a class=\"external text\" href=\"https://fi.wikipedia.org/wiki/\"><span class=\"autonym\" title=\"Finnish (fi:)\" lang=\"fi\">Suomi</span></a></li>\\n<li><a class=\"external text\" href=\"https://tr.wikipedia.org/wiki/\"><span class=\"autonym\" title=\"Turkish (tr:)\" lang=\"tr\">Türkçe</span></a></li>\\n<li><a class=\"external text\" href=\"https://uz.wikipedia.org/wiki/\"><span class=\"autonym\" title=\"Uzbek (uz:)\" lang=\"uz\">Oʻzbekcha</span></a></li></ul>\\n</div>\\n</li>\\n<li>\\n  <div class=\"wikipedia-languages-count-container\">\\n    <div class=\"wikipedia-languages-prettybars\"></div>\\n    <div role=\"heading\" aria-level=\"3\" class=\"wikipedia-languages-count\">50,000+ articles</div>\\n    <div class=\"wikipedia-languages-prettybars\"></div>\\n  </div>\\n<link rel=\"mw-deduplicated-inline-style\" href=\"mw-data:TemplateStyles:r1129693374\"><div class=\"hlist wikipedia-languages-langs inline\">\\n<ul><li><a class=\"external text\" href=\"https://ast.wikipedia.org/wiki/\"><span class=\"autonym\" title=\"Asturian (ast:)\" lang=\"ast\">Asturianu</span></a></li>\\n<li><a class=\"external text\" href=\"https://az.wikipedia.org/wiki/\"><span class=\"autonym\" title=\"Azerbaijani (az:)\" lang=\"az\">Azərbaycanca</span></a></li>\\n<li><a class=\"external text\" href=\"https://bn.wikipedia.org/wiki/\"><span class=\"autonym\" title=\"Bangla (bn:)\" lang=\"bn\">বাংলা</span></a></li>\\n<li><a class=\"external text\" href=\"https://bs.wikipedia.org/wiki/\"><span class=\"autonym\" title=\"Bosnian (bs:)\" lang=\"bs\">Bosanski</span></a></li>\\n<li><a class=\"external text\" href=\"https://ckb.wikipedia.org/wiki/\"><span class=\"autonym\" title=\"Central Kurdish (ckb:)\" lang=\"ckb\">کوردی</span></a></li>\\n<li><a class=\"external text\" href=\"https://et.wikipedia.org/wiki/\"><span class=\"autonym\" title=\"Estonian (et:)\" lang=\"et\">Eesti</span></a></li>\\n<li><a class=\"external text\" href=\"https://el.wikipedia.org/wiki/\"><span class=\"autonym\" title=\"Greek (el:)\" lang=\"el\">Ελληνικά</span></a></li>\\n<li><a class=\"external text\" href=\"https://fy.wikipedia.org/wiki/\"><span class=\"autonym\" title=\"Western Frisian (fy:)\" lang=\"fy\">Frysk</span></a></li>\\n<li><a class=\"external text\" href=\"https://ga.wikipedia.org/wiki/\"><span class=\"autonym\" title=\"Irish (ga:)\" lang=\"ga\">Gaeilge</span></a></li>\\n<li><a class=\"external text\" href=\"https://gl.wikipedia.org/wiki/\"><span class=\"autonym\" title=\"Galician (gl:)\" lang=\"gl\">Galego</span></a></li>\\n<li><a class=\"external text\" href=\"https://hr.wikipedia.org/wiki/\"><span class=\"autonym\" title=\"Croatian (hr:)\" lang=\"hr\">Hrvatski</span></a></li>\\n<li><a class=\"external text\" href=\"https://ka.wikipedia.org/wiki/\"><span class=\"autonym\" title=\"Georgian (ka:)\" lang=\"ka\">ქართული</span></a></li>\\n<li><a class=\"external text\" href=\"https://ku.wikipedia.org/wiki/\"><span class=\"autonym\" title=\"Kurdish (ku:)\" lang=\"ku\">Kurdî</span></a></li>\\n<li><a class=\"external text\" href=\"https://lv.wikipedia.org/wiki/\"><span class=\"autonym\" title=\"Latvian (lv:)\" lang=\"lv\">Latviešu</span></a></li>\\n<li><a class=\"external text\" href=\"https://lt.wikipedia.org/wiki/\"><span class=\"autonym\" title=\"Lithuanian (lt:)\" lang=\"lt\">Lietuvių</span></a></li>\\n<li><a class=\"external text\" href=\"https://ml.wikipedia.org/wiki/\"><span class=\"autonym\" title=\"Malayalam (ml:)\" lang=\"ml\">മലയാളം</span></a></li>\\n<li><a class=\"external text\" href=\"https://mk.wikipedia.org/wiki/\"><span class=\"autonym\" title=\"Macedonian (mk:)\" lang=\"mk\">Македонски</span></a></li>\\n<li><a class=\"external text\" href=\"https://my.wikipedia.org/wiki/\"><span class=\"autonym\" title=\"Burmese (my:)\" lang=\"my\">မြန်မာဘာသာ</span></a></li>\\n<li><a class=\"external text\" href=\"https://nn.wikipedia.org/wiki/\"><span class=\"autonym\" title=\"Norwegian Nynorsk (nn:)\" lang=\"nn\">Norsk nynorsk</span></a></li>\\n<li><a class=\"external text\" href=\"https://pa.wikipedia.org/wiki/\"><span class=\"autonym\" title=\"Punjabi (pa:)\" lang=\"pa\">ਪੰਜਾਬੀ</span></a></li>\\n<li><a class=\"external text\" href=\"https://sq.wikipedia.org/wiki/\"><span class=\"autonym\" title=\"Albanian (sq:)\" lang=\"sq\">Shqip</span></a></li>\\n<li><a class=\"external text\" href=\"https://sl.wikipedia.org/wiki/\"><span class=\"autonym\" title=\"Slovenian (sl:)\" lang=\"sl\">Slovenščina</span></a></li>\\n<li><a class=\"external text\" href=\"https://th.wikipedia.org/wiki/\"><span class=\"autonym\" title=\"Thai (th:)\" lang=\"th\">ไทย</span></a></li>\\n<li><a class=\"external text\" href=\"https://te.wikipedia.org/wiki/\"><span class=\"autonym\" title=\"Telugu (te:)\" lang=\"te\">తెలుగు</span></a></li>\\n<li><a class=\"external text\" href=\"https://ur.wikipedia.org/wiki/\"><span class=\"autonym\" title=\"Urdu (ur:)\" lang=\"ur\">اردو</span></a></li></ul>\\n</div>\\n</li>\\n</ul>\\n</div></div>\\n</div>                                                \\n<!-- \\nNewPP limit report\\nParsed by mw‐web.codfw.main‐55fb7f9564‐zt5rx\\nCached time: 20250123195650\\nCache expiry: 3600\\nReduced expiry: true\\nComplications: [no‐toc]\\nCPU time usage: 0.326 seconds\\nReal time usage: 0.449 seconds\\nPreprocessor visited node count: 5646/1000000\\nPost‐expand include size: 146452/2097152 bytes\\nTemplate argument size: 13931/2097152 bytes\\nHighest expansion depth: 20/100\\nExpensive parser function count: 15/500\\nUnstrip recursion depth: 0/20\\nUnstrip post‐expand size: 41921/5000000 bytes\\nLua time usage: 0.053/10.000 seconds\\nLua memory usage: 1687607/52428800 bytes\\nNumber of Wikibase entities loaded: 0/400\\n-->\\n<!--\\nTransclusion expansion time report (%,ms,calls,template)\\n100.00%  320.755      1 -total\\n 33.94%  108.872      1 Wikipedia:Main_Page/Tomorrow\\n 28.91%   92.746      1 Wikipedia:Today\\'s_featured_article/January_23,_2025\\n 28.48%   91.343      9 Template:Main_page_image\\n 22.39%   71.823      9 Template:Str_number/trim\\n 19.20%   61.580      2 Template:Main_page_image/TFA\\n 12.60%   40.425      2 Template:Wikipedia_languages\\n 12.37%   39.686      1 Template:Did_you_know/Queue/5\\n 11.28%   36.183      9 Template:If_empty\\n 10.69%   34.305     28 Template:Flatlist\\n-->\\n\\n<!-- Saved in parser cache with key enwiki:pcache:15580374:|#|:idhash:canonical and timestamp 20250123195650 and revision id 1267837350. Rendering was triggered because: page-view\\n -->\\n</div><!--esi <esi:include src=\"/esitest-fa8a495983347898/content\" /> --><noscript><img src=\"https://login.wikimedia.org/wiki/Special:CentralAutoLogin/start?useformat=desktop&amp;type=1x1&amp;usesul3=0\" alt=\"\" width=\"1\" height=\"1\" style=\"border: none; position: absolute;\"></noscript>\\n<div class=\"printfooter\" data-nosnippet=\"\">Retrieved from \"<a dir=\"ltr\" href=\"https://en.wikipedia.org/w/index.php?title=Main_Page&amp;oldid=1267837350\">https://en.wikipedia.org/w/index.php?title=Main_Page&amp;oldid=1267837350</a>\"</div></div>\\n\\t\\t\\t\\t\\t<div id=\"catlinks\" class=\"catlinks catlinks-allhidden\" data-mw=\"interface\"></div>\\n\\t\\t\\t\\t\\t\\t\\n<div id=\"p-lang-btn\" class=\"vector-dropdown mw-portlet mw-portlet-lang\"  >\\n\\t<input type=\"checkbox\" id=\"p-lang-btn-checkbox\" role=\"button\" aria-haspopup=\"true\" data-event-name=\"ui.dropdown-p-lang-btn\" class=\"vector-dropdown-checkbox mw-interlanguage-selector\" aria-label=\"Go to an article in another language. Available in 49 languages\"   >\\n\\t<label id=\"p-lang-btn-label\" for=\"p-lang-btn-checkbox\" class=\"vector-dropdown-label cdx-button cdx-button--fake-button cdx-button--fake-button--enabled cdx-button--weight-quiet cdx-button--action-progressive mw-portlet-lang-heading-49\" aria-hidden=\"true\"  ><span class=\"vector-icon mw-ui-icon-language-progressive mw-ui-icon-wikimedia-language-progressive\"></span>\\n\\n<span class=\"vector-dropdown-label-text\">49 languages</span>\\n\\t</label>\\n\\t<div class=\"vector-dropdown-content\">\\n\\n\\t\\t<div class=\"vector-menu-content\">\\n\\t\\t\\t\\n\\t\\t\\t<ul class=\"vector-menu-content-list\">\\n\\t\\t\\t\\t\\n\\t\\t\\t\\t<li class=\"interlanguage-link interwiki-ar mw-list-item\"><a href=\"https://ar.wikipedia.org/wiki/\" title=\"Arabic\" lang=\"ar\" hreflang=\"ar\" data-title=\"\" data-language-autonym=\"العربية\" data-language-local-name=\"Arabic\" class=\"interlanguage-link-target\"><span>العربية</span></a></li><li class=\"interlanguage-link interwiki-az mw-list-item\"><a href=\"https://az.wikipedia.org/wiki/\" title=\"Azerbaijani\" lang=\"az\" hreflang=\"az\" data-title=\"\" data-language-autonym=\"Azərbaycanca\" data-language-local-name=\"Azerbaijani\" class=\"interlanguage-link-target\"><span>Azərbaycanca</span></a></li><li class=\"interlanguage-link interwiki-bn mw-list-item\"><a href=\"https://bn.wikipedia.org/wiki/\" title=\"Bangla\" lang=\"bn\" hreflang=\"bn\" data-title=\"\" data-language-autonym=\"বাংলা\" data-language-local-name=\"Bangla\" class=\"interlanguage-link-target\"><span>বাংলা</span></a></li><li class=\"interlanguage-link interwiki-bg mw-list-item\"><a href=\"https://bg.wikipedia.org/wiki/\" title=\"Bulgarian\" lang=\"bg\" hreflang=\"bg\" data-title=\"\" data-language-autonym=\"Български\" data-language-local-name=\"Bulgarian\" class=\"interlanguage-link-target\"><span>Български</span></a></li><li class=\"interlanguage-link interwiki-bs mw-list-item\"><a href=\"https://bs.wikipedia.org/wiki/\" title=\"Bosnian\" lang=\"bs\" hreflang=\"bs\" data-title=\"\" data-language-autonym=\"Bosanski\" data-language-local-name=\"Bosnian\" class=\"interlanguage-link-target\"><span>Bosanski</span></a></li><li class=\"interlanguage-link interwiki-ca mw-list-item\"><a href=\"https://ca.wikipedia.org/wiki/\" title=\"Catalan\" lang=\"ca\" hreflang=\"ca\" data-title=\"\" data-language-autonym=\"Català\" data-language-local-name=\"Catalan\" class=\"interlanguage-link-target\"><span>Català</span></a></li><li class=\"interlanguage-link interwiki-cs mw-list-item\"><a href=\"https://cs.wikipedia.org/wiki/\" title=\"Czech\" lang=\"cs\" hreflang=\"cs\" data-title=\"\" data-language-autonym=\"Čeština\" data-language-local-name=\"Czech\" class=\"interlanguage-link-target\"><span>Čeština</span></a></li><li class=\"interlanguage-link interwiki-da mw-list-item\"><a href=\"https://da.wikipedia.org/wiki/\" title=\"Danish\" lang=\"da\" hreflang=\"da\" data-title=\"\" data-language-autonym=\"Dansk\" data-language-local-name=\"Danish\" class=\"interlanguage-link-target\"><span>Dansk</span></a></li><li class=\"interlanguage-link interwiki-de mw-list-item\"><a href=\"https://de.wikipedia.org/wiki/\" title=\"German\" lang=\"de\" hreflang=\"de\" data-title=\"\" data-language-autonym=\"Deutsch\" data-language-local-name=\"German\" class=\"interlanguage-link-target\"><span>Deutsch</span></a></li><li class=\"interlanguage-link interwiki-et mw-list-item\"><a href=\"https://et.wikipedia.org/wiki/\" title=\"Estonian\" lang=\"et\" hreflang=\"et\" data-title=\"\" data-language-autonym=\"Eesti\" data-language-local-name=\"Estonian\" class=\"interlanguage-link-target\"><span>Eesti</span></a></li><li class=\"interlanguage-link interwiki-el mw-list-item\"><a href=\"https://el.wikipedia.org/wiki/\" title=\"Greek\" lang=\"el\" hreflang=\"el\" data-title=\"\" data-language-autonym=\"Ελληνικά\" data-language-local-name=\"Greek\" class=\"interlanguage-link-target\"><span>Ελληνικά</span></a></li><li class=\"interlanguage-link interwiki-es mw-list-item\"><a href=\"https://es.wikipedia.org/wiki/\" title=\"Spanish\" lang=\"es\" hreflang=\"es\" data-title=\"\" data-language-autonym=\"Español\" data-language-local-name=\"Spanish\" class=\"interlanguage-link-target\"><span>Español</span></a></li><li class=\"interlanguage-link interwiki-eo mw-list-item\"><a href=\"https://eo.wikipedia.org/wiki/\" title=\"Esperanto\" lang=\"eo\" hreflang=\"eo\" data-title=\"\" data-language-autonym=\"Esperanto\" data-language-local-name=\"Esperanto\" class=\"interlanguage-link-target\"><span>Esperanto</span></a></li><li class=\"interlanguage-link interwiki-eu mw-list-item\"><a href=\"https://eu.wikipedia.org/wiki/\" title=\"Basque\" lang=\"eu\" hreflang=\"eu\" data-title=\"\" data-language-autonym=\"Euskara\" data-language-local-name=\"Basque\" class=\"interlanguage-link-target\"><span>Euskara</span></a></li><li class=\"interlanguage-link interwiki-fa mw-list-item\"><a href=\"https://fa.wikipedia.org/wiki/\" title=\"Persian\" lang=\"fa\" hreflang=\"fa\" data-title=\"\" data-language-autonym=\"فارسی\" data-language-local-name=\"Persian\" class=\"interlanguage-link-target\"><span>فارسی</span></a></li><li class=\"interlanguage-link interwiki-fr mw-list-item\"><a href=\"https://fr.wikipedia.org/wiki/\" title=\"French\" lang=\"fr\" hreflang=\"fr\" data-title=\"\" data-language-autonym=\"Français\" data-language-local-name=\"French\" class=\"interlanguage-link-target\"><span>Français</span></a></li><li class=\"interlanguage-link interwiki-gl mw-list-item\"><a href=\"https://gl.wikipedia.org/wiki/\" title=\"Galician\" lang=\"gl\" hreflang=\"gl\" data-title=\"\" data-language-autonym=\"Galego\" data-language-local-name=\"Galician\" class=\"interlanguage-link-target\"><span>Galego</span></a></li><li class=\"interlanguage-link interwiki-ko mw-list-item\"><a href=\"https://ko.wikipedia.org/wiki/\" title=\"Korean\" lang=\"ko\" hreflang=\"ko\" data-title=\"\" data-language-autonym=\"한국어\" data-language-local-name=\"Korean\" class=\"interlanguage-link-target\"><span>한국어</span></a></li><li class=\"interlanguage-link interwiki-hr mw-list-item\"><a href=\"https://hr.wikipedia.org/wiki/\" title=\"Croatian\" lang=\"hr\" hreflang=\"hr\" data-title=\"\" data-language-autonym=\"Hrvatski\" data-language-local-name=\"Croatian\" class=\"interlanguage-link-target\"><span>Hrvatski</span></a></li><li class=\"interlanguage-link interwiki-id mw-list-item\"><a href=\"https://id.wikipedia.org/wiki/\" title=\"Indonesian\" lang=\"id\" hreflang=\"id\" data-title=\"\" data-language-autonym=\"Bahasa Indonesia\" data-language-local-name=\"Indonesian\" class=\"interlanguage-link-target\"><span>Bahasa Indonesia</span></a></li><li class=\"interlanguage-link interwiki-it mw-list-item\"><a href=\"https://it.wikipedia.org/wiki/\" title=\"Italian\" lang=\"it\" hreflang=\"it\" data-title=\"\" data-language-autonym=\"Italiano\" data-language-local-name=\"Italian\" class=\"interlanguage-link-target\"><span>Italiano</span></a></li><li class=\"interlanguage-link interwiki-he mw-list-item\"><a href=\"https://he.wikipedia.org/wiki/\" title=\"Hebrew\" lang=\"he\" hreflang=\"he\" data-title=\"\" data-language-autonym=\"עברית\" data-language-local-name=\"Hebrew\" class=\"interlanguage-link-target\"><span>עברית</span></a></li><li class=\"interlanguage-link interwiki-ka mw-list-item\"><a href=\"https://ka.wikipedia.org/wiki/\" title=\"Georgian\" lang=\"ka\" hreflang=\"ka\" data-title=\"\" data-language-autonym=\"ქართული\" data-language-local-name=\"Georgian\" class=\"interlanguage-link-target\"><span>ქართული</span></a></li><li class=\"interlanguage-link interwiki-lv mw-list-item\"><a href=\"https://lv.wikipedia.org/wiki/\" title=\"Latvian\" lang=\"lv\" hreflang=\"lv\" data-title=\"\" data-language-autonym=\"Latviešu\" data-language-local-name=\"Latvian\" class=\"interlanguage-link-target\"><span>Latviešu</span></a></li><li class=\"interlanguage-link interwiki-lt mw-list-item\"><a href=\"https://lt.wikipedia.org/wiki/\" title=\"Lithuanian\" lang=\"lt\" hreflang=\"lt\" data-title=\"\" data-language-autonym=\"Lietuvių\" data-language-local-name=\"Lithuanian\" class=\"interlanguage-link-target\"><span>Lietuvių</span></a></li><li class=\"interlanguage-link interwiki-hu mw-list-item\"><a href=\"https://hu.wikipedia.org/wiki/\" title=\"Hungarian\" lang=\"hu\" hreflang=\"hu\" data-title=\"\" data-language-autonym=\"Magyar\" data-language-local-name=\"Hungarian\" class=\"interlanguage-link-target\"><span>Magyar</span></a></li><li class=\"interlanguage-link interwiki-mk mw-list-item\"><a href=\"https://mk.wikipedia.org/wiki/\" title=\"Macedonian\" lang=\"mk\" hreflang=\"mk\" data-title=\"\" data-language-autonym=\"Македонски\" data-language-local-name=\"Macedonian\" class=\"interlanguage-link-target\"><span>Македонски</span></a></li><li class=\"interlanguage-link interwiki-ms mw-list-item\"><a href=\"https://ms.wikipedia.org/wiki/\" title=\"Malay\" lang=\"ms\" hreflang=\"ms\" data-title=\"\" data-language-autonym=\"Bahasa Melayu\" data-language-local-name=\"Malay\" class=\"interlanguage-link-target\"><span>Bahasa Melayu</span></a></li><li class=\"interlanguage-link interwiki-nl mw-list-item\"><a href=\"https://nl.wikipedia.org/wiki/\" title=\"Dutch\" lang=\"nl\" hreflang=\"nl\" data-title=\"\" data-language-autonym=\"Nederlands\" data-language-local-name=\"Dutch\" class=\"interlanguage-link-target\"><span>Nederlands</span></a></li><li class=\"interlanguage-link interwiki-ja mw-list-item\"><a href=\"https://ja.wikipedia.org/wiki/\" title=\"Japanese\" lang=\"ja\" hreflang=\"ja\" data-title=\"\" data-language-autonym=\"日本語\" data-language-local-name=\"Japanese\" class=\"interlanguage-link-target\"><span>日本語</span></a></li><li class=\"interlanguage-link interwiki-no mw-list-item\"><a href=\"https://no.wikipedia.org/wiki/\" title=\"Norwegian Bokmål\" lang=\"nb\" hreflang=\"nb\" data-title=\"\" data-language-autonym=\"Norsk bokmål\" data-language-local-name=\"Norwegian Bokmål\" class=\"interlanguage-link-target\"><span>Norsk bokmål</span></a></li><li class=\"interlanguage-link interwiki-nn mw-list-item\"><a href=\"https://nn.wikipedia.org/wiki/\" title=\"Norwegian Nynorsk\" lang=\"nn\" hreflang=\"nn\" data-title=\"\" data-language-autonym=\"Norsk nynorsk\" data-language-local-name=\"Norwegian Nynorsk\" class=\"interlanguage-link-target\"><span>Norsk nynorsk</span></a></li><li class=\"interlanguage-link interwiki-pl mw-list-item\"><a href=\"https://pl.wikipedia.org/wiki/\" title=\"Polish\" lang=\"pl\" hreflang=\"pl\" data-title=\"\" data-language-autonym=\"Polski\" data-language-local-name=\"Polish\" class=\"interlanguage-link-target\"><span>Polski</span></a></li><li class=\"interlanguage-link interwiki-pt mw-list-item\"><a href=\"https://pt.wikipedia.org/wiki/\" title=\"Portuguese\" lang=\"pt\" hreflang=\"pt\" data-title=\"\" data-language-autonym=\"Português\" data-language-local-name=\"Portuguese\" class=\"interlanguage-link-target\"><span>Português</span></a></li><li class=\"interlanguage-link interwiki-ro mw-list-item\"><a href=\"https://ro.wikipedia.org/wiki/\" title=\"Romanian\" lang=\"ro\" hreflang=\"ro\" data-title=\"\" data-language-autonym=\"Română\" data-language-local-name=\"Romanian\" class=\"interlanguage-link-target\"><span>Română</span></a></li><li class=\"interlanguage-link interwiki-ru mw-list-item\"><a href=\"https://ru.wikipedia.org/wiki/\" title=\"Russian\" lang=\"ru\" hreflang=\"ru\" data-title=\"\" data-language-autonym=\"Русский\" data-language-local-name=\"Russian\" class=\"interlanguage-link-target\"><span>Русский</span></a></li><li class=\"interlanguage-link interwiki-simple mw-list-item\"><a href=\"https://simple.wikipedia.org/wiki/\" title=\"Simple English\" lang=\"en-simple\" hreflang=\"en-simple\" data-title=\"\" data-language-autonym=\"Simple English\" data-language-local-name=\"Simple English\" class=\"interlanguage-link-target\"><span>Simple English</span></a></li><li class=\"interlanguage-link interwiki-sk mw-list-item\"><a href=\"https://sk.wikipedia.org/wiki/\" title=\"Slovak\" lang=\"sk\" hreflang=\"sk\" data-title=\"\" data-language-autonym=\"Slovenčina\" data-language-local-name=\"Slovak\" class=\"interlanguage-link-target\"><span>Slovenčina</span></a></li><li class=\"interlanguage-link interwiki-sl mw-list-item\"><a href=\"https://sl.wikipedia.org/wiki/\" title=\"Slovenian\" lang=\"sl\" hreflang=\"sl\" data-title=\"\" data-language-autonym=\"Slovenščina\" data-language-local-name=\"Slovenian\" class=\"interlanguage-link-target\"><span>Slovenščina</span></a></li><li class=\"interlanguage-link interwiki-ckb mw-list-item\"><a href=\"https://ckb.wikipedia.org/wiki/\" title=\"Central Kurdish\" lang=\"ckb\" hreflang=\"ckb\" data-title=\"\" data-language-autonym=\"کوردی\" data-language-local-name=\"Central Kurdish\" class=\"interlanguage-link-target\"><span>کوردی</span></a></li><li class=\"interlanguage-link interwiki-sr mw-list-item\"><a href=\"https://sr.wikipedia.org/wiki/\" title=\"Serbian\" lang=\"sr\" hreflang=\"sr\" data-title=\"\" data-language-autonym=\"Српски / srpski\" data-language-local-name=\"Serbian\" class=\"interlanguage-link-target\"><span>Српски / srpski</span></a></li><li class=\"interlanguage-link interwiki-sh mw-list-item\"><a href=\"https://sh.wikipedia.org/wiki/\" title=\"Serbo-Croatian\" lang=\"sh\" hreflang=\"sh\" data-title=\"\" data-language-autonym=\"Srpskohrvatski / српскохрватски\" data-language-local-name=\"Serbo-Croatian\" class=\"interlanguage-link-target\"><span>Srpskohrvatski / српскохрватски</span></a></li><li class=\"interlanguage-link interwiki-fi mw-list-item\"><a href=\"https://fi.wikipedia.org/wiki/\" title=\"Finnish\" lang=\"fi\" hreflang=\"fi\" data-title=\"\" data-language-autonym=\"Suomi\" data-language-local-name=\"Finnish\" class=\"interlanguage-link-target\"><span>Suomi</span></a></li><li class=\"interlanguage-link interwiki-sv mw-list-item\"><a href=\"https://sv.wikipedia.org/wiki/\" title=\"Swedish\" lang=\"sv\" hreflang=\"sv\" data-title=\"\" data-language-autonym=\"Svenska\" data-language-local-name=\"Swedish\" class=\"interlanguage-link-target\"><span>Svenska</span></a></li><li class=\"interlanguage-link interwiki-th mw-list-item\"><a href=\"https://th.wikipedia.org/wiki/\" title=\"Thai\" lang=\"th\" hreflang=\"th\" data-title=\"\" data-language-autonym=\"ไทย\" data-language-local-name=\"Thai\" class=\"interlanguage-link-target\"><span>ไทย</span></a></li><li class=\"interlanguage-link interwiki-tr mw-list-item\"><a href=\"https://tr.wikipedia.org/wiki/\" title=\"Turkish\" lang=\"tr\" hreflang=\"tr\" data-title=\"\" data-language-autonym=\"Türkçe\" data-language-local-name=\"Turkish\" class=\"interlanguage-link-target\"><span>Türkçe</span></a></li><li class=\"interlanguage-link interwiki-uk mw-list-item\"><a href=\"https://uk.wikipedia.org/wiki/\" title=\"Ukrainian\" lang=\"uk\" hreflang=\"uk\" data-title=\"\" data-language-autonym=\"Українська\" data-language-local-name=\"Ukrainian\" class=\"interlanguage-link-target\"><span>Українська</span></a></li><li class=\"interlanguage-link interwiki-vi mw-list-item\"><a href=\"https://vi.wikipedia.org/wiki/\" title=\"Vietnamese\" lang=\"vi\" hreflang=\"vi\" data-title=\"\" data-language-autonym=\"Tiếng Việt\" data-language-local-name=\"Vietnamese\" class=\"interlanguage-link-target\"><span>Tiếng Việt</span></a></li><li class=\"interlanguage-link interwiki-zh mw-list-item\"><a href=\"https://zh.wikipedia.org/wiki/\" title=\"Chinese\" lang=\"zh\" hreflang=\"zh\" data-title=\"\" data-language-autonym=\"中文\" data-language-local-name=\"Chinese\" class=\"interlanguage-link-target\"><span>中文</span></a></li>\\n\\t\\t\\t</ul>\\n\\t\\t\\t\\n\\t\\t</div>\\n\\n\\t</div>\\n</div>\\n\\n\\t\\t\\t\\t</div>\\n\\t\\t\\t</main>\\n\\t\\t\\t\\n\\t\\t</div>\\n\\t\\t<div class=\"mw-footer-container\">\\n\\t\\t\\t\\n<footer id=\"footer\" class=\"mw-footer\" >\\n\\t<ul id=\"footer-info\">\\n\\t<li id=\"footer-info-lastmod\"> This page was last edited on 6 January 2025, at 22:59<span class=\"anonymous-show\">&#160;(UTC)</span>.</li>\\n\\t<li id=\"footer-info-copyright\">Text is available under the <a href=\"/wiki/Wikipedia:Text_of_the_Creative_Commons_Attribution-ShareAlike_4.0_International_License\" title=\"Wikipedia:Text of the Creative Commons Attribution-ShareAlike 4.0 International License\">Creative Commons Attribution-ShareAlike 4.0 License</a>;\\nadditional terms may apply. By using this site, you agree to the <a href=\"https://foundation.wikimedia.org/wiki/Special:MyLanguage/Policy:Terms_of_Use\" class=\"extiw\" title=\"foundation:Special:MyLanguage/Policy:Terms of Use\">Terms of Use</a> and <a href=\"https://foundation.wikimedia.org/wiki/Special:MyLanguage/Policy:Privacy_policy\" class=\"extiw\" title=\"foundation:Special:MyLanguage/Policy:Privacy policy\">Privacy Policy</a>. Wikipedia® is a registered trademark of the <a rel=\"nofollow\" class=\"external text\" href=\"https://wikimediafoundation.org/\">Wikimedia Foundation, Inc.</a>, a non-profit organization.</li>\\n</ul>\\n\\n\\t<ul id=\"footer-places\">\\n\\t<li id=\"footer-places-privacy\"><a href=\"https://foundation.wikimedia.org/wiki/Special:MyLanguage/Policy:Privacy_policy\">Privacy policy</a></li>\\n\\t<li id=\"footer-places-about\"><a href=\"/wiki/Wikipedia:About\">About Wikipedia</a></li>\\n\\t<li id=\"footer-places-disclaimers\"><a href=\"/wiki/Wikipedia:General_disclaimer\">Disclaimers</a></li>\\n\\t<li id=\"footer-places-contact\"><a href=\"//en.wikipedia.org/wiki/Wikipedia:Contact_us\">Contact Wikipedia</a></li>\\n\\t<li id=\"footer-places-wm-codeofconduct\"><a href=\"https://foundation.wikimedia.org/wiki/Special:MyLanguage/Policy:Universal_Code_of_Conduct\">Code of Conduct</a></li>\\n\\t<li id=\"footer-places-developers\"><a href=\"https://developer.wikimedia.org\">Developers</a></li>\\n\\t<li id=\"footer-places-statslink\"><a href=\"https://stats.wikimedia.org/#/en.wikipedia.org\">Statistics</a></li>\\n\\t<li id=\"footer-places-cookiestatement\"><a href=\"https://foundation.wikimedia.org/wiki/Special:MyLanguage/Policy:Cookie_statement\">Cookie statement</a></li>\\n\\t<li id=\"footer-places-mobileview\"><a href=\"//en.m.wikipedia.org/w/index.php?title=Main_Page&amp;mobileaction=toggle_view_mobile\" class=\"noprint stopMobileRedirectToggle\">Mobile view</a></li>\\n</ul>\\n\\n\\t<ul id=\"footer-icons\" class=\"noprint\">\\n\\t<li id=\"footer-copyrightico\"><a href=\"https://wikimediafoundation.org/\" class=\"cdx-button cdx-button--fake-button cdx-button--size-large cdx-button--fake-button--enabled\"><img src=\"/static/images/footer/wikimedia-button.svg\" width=\"84\" height=\"29\" alt=\"Wikimedia Foundation\" loading=\"lazy\"></a></li>\\n\\t<li id=\"footer-poweredbyico\"><a href=\"https://www.mediawiki.org/\" class=\"cdx-button cdx-button--fake-button cdx-button--size-large cdx-button--fake-button--enabled\"><img src=\"/w/resources/assets/poweredby_mediawiki.svg\" alt=\"Powered by MediaWiki\" width=\"88\" height=\"31\" loading=\"lazy\"></a></li>\\n</ul>\\n\\n</footer>\\n\\n\\t\\t</div>\\n\\t</div> \\n</div> \\n<div class=\"vector-header-container vector-sticky-header-container\">\\n\\t<div id=\"vector-sticky-header\" class=\"vector-sticky-header\">\\n\\t\\t<div class=\"vector-sticky-header-start\">\\n\\t\\t\\t<div class=\"vector-sticky-header-icon-start vector-button-flush-left vector-button-flush-right\" aria-hidden=\"true\">\\n\\t\\t\\t\\t<button class=\"cdx-button cdx-button--weight-quiet cdx-button--icon-only vector-sticky-header-search-toggle\" tabindex=\"-1\" data-event-name=\"ui.vector-sticky-search-form.icon\"><span class=\"vector-icon mw-ui-icon-search mw-ui-icon-wikimedia-search\"></span>\\n\\n<span>Search</span>\\n\\t\\t\\t</button>\\n\\t\\t</div>\\n\\t\\t\\t\\n\\t\\t<div role=\"search\" class=\"vector-search-box-vue  vector-search-box-show-thumbnail vector-search-box\">\\n\\t\\t\\t<div class=\"vector-typeahead-search-container\">\\n\\t\\t\\t\\t<div class=\"cdx-typeahead-search cdx-typeahead-search--show-thumbnail\">\\n\\t\\t\\t\\t\\t<form action=\"/w/index.php\" id=\"vector-sticky-search-form\" class=\"cdx-search-input cdx-search-input--has-end-button\">\\n\\t\\t\\t\\t\\t\\t<div  class=\"cdx-search-input__input-wrapper\"  data-search-loc=\"header-moved\">\\n\\t\\t\\t\\t\\t\\t\\t<div class=\"cdx-text-input cdx-text-input--has-start-icon\">\\n\\t\\t\\t\\t\\t\\t\\t\\t<input\\n\\t\\t\\t\\t\\t\\t\\t\\t\\tclass=\"cdx-text-input__input\"\\n\\t\\t\\t\\t\\t\\t\\t\\t\\t\\n\\t\\t\\t\\t\\t\\t\\t\\t\\ttype=\"search\" name=\"search\" placeholder=\"Search Wikipedia\">\\n\\t\\t\\t\\t\\t\\t\\t\\t<span class=\"cdx-text-input__icon cdx-text-input__start-icon\"></span>\\n\\t\\t\\t\\t\\t\\t\\t</div>\\n\\t\\t\\t\\t\\t\\t\\t<input type=\"hidden\" name=\"title\" value=\"Special:Search\">\\n\\t\\t\\t\\t\\t\\t</div>\\n\\t\\t\\t\\t\\t\\t<button class=\"cdx-button cdx-search-input__end-button\">Search</button>\\n\\t\\t\\t\\t\\t</form>\\n\\t\\t\\t\\t</div>\\n\\t\\t\\t</div>\\n\\t\\t</div>\\n\\t\\t<div class=\"vector-sticky-header-context-bar\">\\n\\t\\t\\t\\t<div class=\"vector-sticky-header-context-bar-primary\" aria-hidden=\"true\" ><span class=\"mw-page-title-main\">Main Page</span></div>\\n\\t\\t\\t</div>\\n\\t\\t</div>\\n\\t\\t<div class=\"vector-sticky-header-end\" aria-hidden=\"true\">\\n\\t\\t\\t<div class=\"vector-sticky-header-icons\">\\n\\t\\t\\t\\t<a href=\"#\" class=\"cdx-button cdx-button--fake-button cdx-button--fake-button--enabled cdx-button--weight-quiet cdx-button--icon-only\" id=\"ca-talk-sticky-header\" tabindex=\"-1\" data-event-name=\"talk-sticky-header\"><span class=\"vector-icon mw-ui-icon-speechBubbles mw-ui-icon-wikimedia-speechBubbles\"></span>\\n\\n<span></span>\\n\\t\\t\\t</a>\\n\\t\\t\\t<a href=\"#\" class=\"cdx-button cdx-button--fake-button cdx-button--fake-button--enabled cdx-button--weight-quiet cdx-button--icon-only\" id=\"ca-subject-sticky-header\" tabindex=\"-1\" data-event-name=\"subject-sticky-header\"><span class=\"vector-icon mw-ui-icon-article mw-ui-icon-wikimedia-article\"></span>\\n\\n<span></span>\\n\\t\\t\\t</a>\\n\\t\\t\\t<a href=\"#\" class=\"cdx-button cdx-button--fake-button cdx-button--fake-button--enabled cdx-button--weight-quiet cdx-button--icon-only\" id=\"ca-history-sticky-header\" tabindex=\"-1\" data-event-name=\"history-sticky-header\"><span class=\"vector-icon mw-ui-icon-wikimedia-history mw-ui-icon-wikimedia-wikimedia-history\"></span>\\n\\n<span></span>\\n\\t\\t\\t</a>\\n\\t\\t\\t<a href=\"#\" class=\"cdx-button cdx-button--fake-button cdx-button--fake-button--enabled cdx-button--weight-quiet cdx-button--icon-only mw-watchlink\" id=\"ca-watchstar-sticky-header\" tabindex=\"-1\" data-event-name=\"watch-sticky-header\"><span class=\"vector-icon mw-ui-icon-wikimedia-star mw-ui-icon-wikimedia-wikimedia-star\"></span>\\n\\n<span></span>\\n\\t\\t\\t</a>\\n\\t\\t\\t<a href=\"#\" class=\"cdx-button cdx-button--fake-button cdx-button--fake-button--enabled cdx-button--weight-quiet cdx-button--icon-only\" id=\"ca-edit-sticky-header\" tabindex=\"-1\" data-event-name=\"wikitext-edit-sticky-header\"><span class=\"vector-icon mw-ui-icon-wikimedia-wikiText mw-ui-icon-wikimedia-wikimedia-wikiText\"></span>\\n\\n<span></span>\\n\\t\\t\\t</a>\\n\\t\\t\\t<a href=\"#\" class=\"cdx-button cdx-button--fake-button cdx-button--fake-button--enabled cdx-button--weight-quiet cdx-button--icon-only\" id=\"ca-ve-edit-sticky-header\" tabindex=\"-1\" data-event-name=\"ve-edit-sticky-header\"><span class=\"vector-icon mw-ui-icon-wikimedia-edit mw-ui-icon-wikimedia-wikimedia-edit\"></span>\\n\\n<span></span>\\n\\t\\t\\t</a>\\n\\t\\t\\t<a href=\"#\" class=\"cdx-button cdx-button--fake-button cdx-button--fake-button--enabled cdx-button--weight-quiet cdx-button--icon-only\" id=\"ca-viewsource-sticky-header\" tabindex=\"-1\" data-event-name=\"ve-edit-protected-sticky-header\"><span class=\"vector-icon mw-ui-icon-wikimedia-editLock mw-ui-icon-wikimedia-wikimedia-editLock\"></span>\\n\\n<span></span>\\n\\t\\t\\t</a>\\n\\t\\t</div>\\n\\t\\t\\t<div class=\"vector-sticky-header-buttons\">\\n\\t\\t\\t\\t<button class=\"cdx-button cdx-button--weight-quiet mw-interlanguage-selector\" id=\"p-lang-btn-sticky-header\" tabindex=\"-1\" data-event-name=\"ui.dropdown-p-lang-btn-sticky-header\"><span class=\"vector-icon mw-ui-icon-wikimedia-language mw-ui-icon-wikimedia-wikimedia-language\"></span>\\n\\n<span>49 languages</span>\\n\\t\\t\\t</button>\\n\\t\\t\\t<a href=\"#\" class=\"cdx-button cdx-button--fake-button cdx-button--fake-button--enabled cdx-button--weight-quiet cdx-button--action-progressive\" id=\"ca-addsection-sticky-header\" tabindex=\"-1\" data-event-name=\"addsection-sticky-header\"><span class=\"vector-icon mw-ui-icon-speechBubbleAdd-progressive mw-ui-icon-wikimedia-speechBubbleAdd-progressive\"></span>\\n\\n<span>Add topic</span>\\n\\t\\t\\t</a>\\n\\t\\t</div>\\n\\t\\t\\t<div class=\"vector-sticky-header-icon-end\">\\n\\t\\t\\t\\t<div class=\"vector-user-links\">\\n\\t\\t\\t\\t</div>\\n\\t\\t\\t</div>\\n\\t\\t</div>\\n\\t</div>\\n</div>\\n<div class=\"vector-settings\" id=\"p-dock-bottom\">\\n\\t<ul></ul>\\n</div><script>(RLQ=window.RLQ||[]).push(function(){mw.config.set({\"wgHostname\":\"mw-web.codfw.main-55fb7f9564-zt5rx\",\"wgBackendResponseTime\":613,\"wgPageParseReport\":{\"limitreport\":{\"cputime\":\"0.326\",\"walltime\":\"0.449\",\"ppvisitednodes\":{\"value\":5646,\"limit\":1000000},\"postexpandincludesize\":{\"value\":146452,\"limit\":2097152},\"templateargumentsize\":{\"value\":13931,\"limit\":2097152},\"expansiondepth\":{\"value\":20,\"limit\":100},\"expensivefunctioncount\":{\"value\":15,\"limit\":500},\"unstrip-depth\":{\"value\":0,\"limit\":20},\"unstrip-size\":{\"value\":41921,\"limit\":5000000},\"entityaccesscount\":{\"value\":0,\"limit\":400},\"timingprofile\":[\"100.00%  320.755      1 -total\",\" 33.94%  108.872      1 Wikipedia:Main_Page/Tomorrow\",\" 28.91%   92.746      1 Wikipedia:Today\\'s_featured_article/January_23,_2025\",\" 28.48%   91.343      9 Template:Main_page_image\",\" 22.39%   71.823      9 Template:Str_number/trim\",\" 19.20%   61.580      2 Template:Main_page_image/TFA\",\" 12.60%   40.425      2 Template:Wikipedia_languages\",\" 12.37%   39.686      1 Template:Did_you_know/Queue/5\",\" 11.28%   36.183      9 Template:If_empty\",\" 10.69%   34.305     28 Template:Flatlist\"]},\"scribunto\":{\"limitreport-timeusage\":{\"value\":\"0.053\",\"limit\":\"10.000\"},\"limitreport-memusage\":{\"value\":1687607,\"limit\":52428800}},\"cachereport\":{\"origin\":\"mw-web.codfw.main-55fb7f9564-zt5rx\",\"timestamp\":\"20250123195650\",\"ttl\":3600,\"transientcontent\":true}}});});</script>\\n<script type=\"application/ld+json\">{\"@context\":\"https:\\\\/\\\\/schema.org\",\"@type\":\"Article\",\"name\":\"Main Page\",\"url\":\"https:\\\\/\\\\/en.wikipedia.org\\\\/wiki\\\\/Main_Page\",\"sameAs\":\"http:\\\\/\\\\/www.wikidata.org\\\\/entity\\\\/Q5296\",\"mainEntity\":\"http:\\\\/\\\\/www.wikidata.org\\\\/entity\\\\/Q5296\",\"author\":{\"@type\":\"Organization\",\"name\":\"Contributors to Wikimedia projects\"},\"publisher\":{\"@type\":\"Organization\",\"name\":\"Wikimedia Foundation, Inc.\",\"logo\":{\"@type\":\"ImageObject\",\"url\":\"https:\\\\/\\\\/www.wikimedia.org\\\\/static\\\\/images\\\\/wmf-hor-googpub.png\"}},\"datePublished\":\"2002-01-26T15:28:12Z\",\"dateModified\":\"2025-01-06T22:59:03Z\",\"image\":\"https:\\\\/\\\\/upload.wikimedia.org\\\\/wikipedia\\\\/commons\\\\/d\\\\/d5\\\\/Castell_Coch_2018.jpg\",\"headline\":\"Wikimedia project page\"}</script>\\n</body>\\n</html>'"
      ],
      "application/vnd.google.colaboratory.intrinsic+json": {
       "type": "string"
      }
     },
     "metadata": {},
     "execution_count": 83
    }
   ],
   "source": [
    "next(pages)"
   ]
  },
  {
   "cell_type": "markdown",
   "metadata": {
    "id": "z9oXx2RWtniT"
   },
   "source": [
    "## Task 4"
   ]
  },
  {
   "cell_type": "markdown",
   "metadata": {
    "id": "OOm4WJW1tp7V"
   },
   "source": [
    "Create a class `ComputerScientist` that will contain information such as `name`, `birthdate`, `major_achievements`, `alma_mater`, etc.\n",
    "\n",
    "- Implement the methods you consider appropriate.\n",
    "\n",
    "- Make unit tests to make sure the methods work alright.\n",
    "\n",
    "Write a script to go to this [list of computer scientists](https://en.wikipedia.org/wiki/List_of_computer_scientists) and fetch information about 100 random scientists from this list, and create a python `list` containing `ComputerScientist()` objects with the information retrieved from the given link."
   ]
  },
  {
   "cell_type": "code",
   "source": [
    "class ComputerScientist:\n",
    "    def __init__(self, name, birthdate=None, major_achievements=None, alma_mater=None, field=None, notable_works=None):\n",
    "        self.name = name\n",
    "        self.birthdate = birthdate\n",
    "        self.major_achievements = major_achievements if major_achievements else []\n",
    "        self.alma_mater = alma_mater\n",
    "        self.field = field if field else []\n",
    "        self.notable_works = notable_works if notable_works else []\n",
    "\n",
    "    def __str__(self):\n",
    "        return f\"{self.name} ({self.birthdate})\"\n",
    "\n",
    "    def to_dict(self):\n",
    "        return {\n",
    "            \"Name\": self.name,\n",
    "            \"Birthdate\": self.birthdate,\n",
    "            \"Major Achievements\": self.major_achievements,\n",
    "            \"Alma Mater\": self.alma_mater,\n",
    "            \"Field\": self.field,\n",
    "            \"Notable Works\": self.notable_works\n",
    "        }"
   ],
   "metadata": {
    "id": "Y4A_erQLlWTC",
    "ExecuteTime": {
     "end_time": "2025-01-24T11:10:44.302618Z",
     "start_time": "2025-01-24T11:10:44.298125Z"
    }
   },
   "outputs": [],
   "execution_count": 7
  },
  {
   "cell_type": "code",
   "source": [
    "class TestComputerScientist(unittest.TestCase):\n",
    "    def setUp(self):\n",
    "        self.cs = ComputerScientist(\n",
    "            name=\"Alan Turing\",\n",
    "            birthdate=\"23 June 1912\",\n",
    "            major_achievements=[\"Turing Machine\", \"Breaking the Enigma code\"],\n",
    "            alma_mater=\"King's College, Cambridge\",\n",
    "            field=[\"Mathematics\", \"Computer Science\"],\n",
    "            notable_works=[\"On Computable Numbers\", \"Turing Test\"]\n",
    "        )\n",
    "\n",
    "    def test_object_creation(self):\n",
    "        self.assertEqual(self.cs.name, \"Alan Turing\")\n",
    "        self.assertEqual(self.cs.birthdate, \"23 June 1912\")\n",
    "        self.assertListEqual(self.cs.major_achievements, [\"Turing Machine\", \"Breaking the Enigma code\"])\n",
    "        self.assertEqual(self.cs.alma_mater, \"King's College, Cambridge\")\n",
    "        self.assertListEqual(self.cs.field, [\"Mathematics\", \"Computer Science\"])\n",
    "        self.assertListEqual(self.cs.notable_works, [\"On Computable Numbers\", \"Turing Test\"])\n",
    "\n",
    "    def test_str_method(self):\n",
    "        self.assertEqual(str(self.cs), \"Alan Turing (23 June 1912)\")\n",
    "\n",
    "    def test_to_dict_method(self):\n",
    "        expected_dict = {\n",
    "            \"Name\": \"Alan Turing\",\n",
    "            \"Birthdate\": \"23 June 1912\",\n",
    "            \"Major Achievements\": [\"Turing Machine\", \"Breaking the Enigma code\"],\n",
    "            \"Alma Mater\": \"King's College, Cambridge\",\n",
    "            \"Field\": [\"Mathematics\", \"Computer Science\"],\n",
    "            \"Notable Works\": [\"On Computable Numbers\", \"Turing Test\"]\n",
    "        }\n",
    "        self.assertDictEqual(self.cs.to_dict(), expected_dict)"
   ],
   "metadata": {
    "id": "ZACzvp23ldCa",
    "ExecuteTime": {
     "end_time": "2025-01-24T11:10:45.347097Z",
     "start_time": "2025-01-24T11:10:45.340039Z"
    }
   },
   "outputs": [],
   "execution_count": 8
  },
  {
   "cell_type": "code",
   "source": [
    "suite = unittest.TestLoader().loadTestsFromTestCase(TestComputerScientist)\n",
    "\n",
    "runner = unittest.TextTestRunner(verbosity=2)\n",
    "runner.run(suite)"
   ],
   "metadata": {
    "colab": {
     "base_uri": "https://localhost:8080/"
    },
    "id": "4pP2ROovlfN2",
    "outputId": "b527e849-ede6-4db5-de7d-29c0d5dc9e90",
    "ExecuteTime": {
     "end_time": "2025-01-24T11:10:46.272810Z",
     "start_time": "2025-01-24T11:10:46.265548Z"
    }
   },
   "outputs": [
    {
     "name": "stderr",
     "output_type": "stream",
     "text": [
      "test_object_creation (__main__.TestComputerScientist) ... ok\n",
      "test_str_method (__main__.TestComputerScientist) ... ok\n",
      "test_to_dict_method (__main__.TestComputerScientist) ... ok\n",
      "\n",
      "----------------------------------------------------------------------\n",
      "Ran 3 tests in 0.002s\n",
      "\n",
      "OK\n"
     ]
    },
    {
     "data": {
      "text/plain": [
       "<unittest.runner.TextTestResult run=3 errors=0 failures=0>"
      ]
     },
     "execution_count": 9,
     "metadata": {},
     "output_type": "execute_result"
    }
   ],
   "execution_count": 9
  },
  {
   "cell_type": "code",
   "source": [
    "def fetch_computer_scientists_list(url):\n",
    "    try:\n",
    "        response = requests.get(url, timeout=10)\n",
    "        response.raise_for_status()\n",
    "    except requests.exceptions.RequestException as e:\n",
    "        print(f\"Error fetching the main list page: {e}\")\n",
    "        return []\n",
    "\n",
    "    soup = BeautifulSoup(response.text, 'html.parser')\n",
    "    scientists = []\n",
    "\n",
    "    div_cols = soup.find_all('div', class_='div-col')\n",
    "\n",
    "    for div in div_cols:\n",
    "        links = div.find_all('a')\n",
    "        for link in links:\n",
    "            href = link.get('href')\n",
    "            name = link.text.strip()\n",
    "            if href and href.startswith('/wiki/') and not any(prefix in href for prefix in ['/wiki/Help:', '/wiki/Category:', '/wiki/File:', '/wiki/Special:']):\n",
    "                scientists.append((name, href))\n",
    "\n",
    "    return scientists\n",
    "\n",
    "def extract_infobox(soup):\n",
    "    infobox = soup.find('table', class_='infobox')\n",
    "    data = {}\n",
    "\n",
    "    if not infobox:\n",
    "        return data\n",
    "\n",
    "    for row in infobox.find_all('tr'):\n",
    "        if row.th and row.td:\n",
    "            key = row.th.text.strip().lower()\n",
    "            value = row.td.text.strip()\n",
    "            data[key] = value\n",
    "\n",
    "    return data\n",
    "\n",
    "def scrape_computer_scientist_data(base_url, relative_link):\n",
    "    full_url = urljoin(base_url, relative_link)\n",
    "\n",
    "    try:\n",
    "        response = requests.get(full_url, timeout=10)\n",
    "        response.raise_for_status()\n",
    "    except requests.exceptions.RequestException as e:\n",
    "        print(f\"Error fetching {full_url}: {e}\")\n",
    "        return None\n",
    "\n",
    "    soup = BeautifulSoup(response.text, 'html.parser')\n",
    "    infobox_data = extract_infobox(soup)\n",
    "\n",
    "    name = soup.find('h1', id='firstHeading').text.strip()\n",
    "\n",
    "    birthdate = None\n",
    "    if 'born' in infobox_data:\n",
    "        born_text = infobox_data['born']\n",
    "        match = re.search(r'\\d{1,2} \\w+ \\d{4}', born_text)\n",
    "        if match:\n",
    "            birthdate = match.group(0)\n",
    "\n",
    "    alma_mater = infobox_data.get('alma mater', None)\n",
    "\n",
    "    field = []\n",
    "    if 'fields' in infobox_data:\n",
    "        field = [f.strip() for f in infobox_data['fields'].split(',')]\n",
    "    elif 'field' in infobox_data:\n",
    "        field = [f.strip() for f in infobox_data['field'].split(',')]\n",
    "\n",
    "    major_achievements = []\n",
    "    if 'known for' in infobox_data:\n",
    "        major_achievements = [achievement.strip() for achievement in infobox_data['known for'].split(',')]\n",
    "\n",
    "    notable_works = []\n",
    "    if 'notable works' in infobox_data:\n",
    "        notable_works = [work.strip() for work in infobox_data['notable works'].split(',')]\n",
    "\n",
    "    return ComputerScientist(\n",
    "        name=name,\n",
    "        birthdate=birthdate,\n",
    "        major_achievements=major_achievements,\n",
    "        alma_mater=alma_mater,\n",
    "        field=field,\n",
    "        notable_works=notable_works\n",
    "    )\n",
    "\n",
    "def get_random_scientists(scientists_list, count=100):\n",
    "    if len(scientists_list) < count:\n",
    "        return scientists_list\n",
    "    return random.sample(scientists_list, count)\n"
   ],
   "metadata": {
    "id": "tST-pr6WlmFf",
    "ExecuteTime": {
     "end_time": "2025-01-24T11:10:47.491984Z",
     "start_time": "2025-01-24T11:10:47.479570Z"
    }
   },
   "outputs": [],
   "execution_count": 10
  },
  {
   "cell_type": "code",
   "source": [
    "base_url = \"https://en.wikipedia.org\"\n",
    "list_url = \"https://en.wikipedia.org/wiki/List_of_computer_scientists\"\n",
    "\n",
    "scientists = fetch_computer_scientists_list(list_url)\n",
    "print(f\"Total computer scientists found: {len(scientists)}\")\n",
    "\n",
    "if not scientists:\n",
    "    print(\"No computer scientists found. Exiting.\")\n",
    "else:\n",
    "  selected_scientists = get_random_scientists(scientists, count=100)\n",
    "  print(f\"Selected {len(selected_scientists)} random computer scientists.\")\n",
    "\n",
    "  computer_scientists = []\n",
    "  for idx, (name, relative_link) in enumerate(selected_scientists, start=1):\n",
    "      print(f\"Scraping ({idx}/{len(selected_scientists)}): {name}\")\n",
    "      cs = scrape_computer_scientist_data(base_url, relative_link)\n",
    "      if cs:\n",
    "          computer_scientists.append(cs)\n",
    "\n",
    "  print(f\"Scraped data for {len(computer_scientists)} computer scientists.\")"
   ],
   "metadata": {
    "colab": {
     "base_uri": "https://localhost:8080/"
    },
    "id": "2z1F0xLXls0f",
    "outputId": "f7b0c144-f436-4979-840f-ce492cb3f740",
    "ExecuteTime": {
     "end_time": "2025-01-24T11:10:53.779206Z",
     "start_time": "2025-01-24T11:10:48.583220Z"
    }
   },
   "outputs": [
    {
     "name": "stdout",
     "output_type": "stream",
     "text": [
      "Total computer scientists found: 9\n",
      "Selected 9 random computer scientists.\n",
      "Scraping (1/9): List of computing people\n",
      "Scraping (2/9): List of Jewish American computer scientists\n",
      "Scraping (3/9): List of members of the National Academy of Sciences (computer and information sciences)\n",
      "Scraping (4/9): List of pioneers in computer science\n",
      "Scraping (5/9): List of programmers\n",
      "Scraping (6/9): List of programming language researchers\n",
      "Scraping (7/9): List of Russian IT developers\n",
      "Scraping (8/9): List of Slovenian computer scientists\n",
      "Scraping (9/9): List of Indian computer scientists\n",
      "Scraped data for 9 computer scientists.\n"
     ]
    }
   ],
   "execution_count": 11
  },
  {
   "cell_type": "code",
   "source": [
    "class TestScrapingFunctions(unittest.TestCase):\n",
    "    def setUp(self):\n",
    "        self.base_url = \"https://en.wikipedia.org\"\n",
    "        self.list_url = \"https://en.wikipedia.org/wiki/List_of_computer_scientists\"\n",
    "        self.turing_name = \"Alan Turing\"\n",
    "        self.turing_link = \"/wiki/Alan_Turing\"\n",
    "\n",
    "    def test_fetch_computer_scientists_list(self):\n",
    "        scientists = fetch_computer_scientists_list(self.list_url)\n",
    "        self.assertIsInstance(scientists, list)\n",
    "        self.assertGreater(len(scientists), 0)\n",
    "        for name, href in scientists:\n",
    "            self.assertIsInstance(name, str)\n",
    "            self.assertIsInstance(href, str)\n",
    "            self.assertTrue(href.startswith(\"/wiki/\"))\n",
    "\n",
    "    def test_scrape_computer_scientist_data(self):\n",
    "        cs = scrape_computer_scientist_data(self.base_url, self.turing_link)\n",
    "        self.assertIsNotNone(cs)\n",
    "        self.assertIsInstance(cs, ComputerScientist)\n",
    "        self.assertIn(\"Alan Turing\", cs.name)"
   ],
   "metadata": {
    "id": "RxBKONhgl8oe",
    "ExecuteTime": {
     "end_time": "2025-01-24T11:11:48.070091Z",
     "start_time": "2025-01-24T11:11:48.057603Z"
    }
   },
   "outputs": [],
   "execution_count": 14
  },
  {
   "cell_type": "code",
   "source": [
    "suite = unittest.TestLoader().loadTestsFromTestCase(TestScrapingFunctions)\n",
    "\n",
    "runner = unittest.TextTestRunner(verbosity=2)\n",
    "runner.run(suite)"
   ],
   "metadata": {
    "colab": {
     "base_uri": "https://localhost:8080/"
    },
    "id": "HptcevFrmCEd",
    "outputId": "2cb77730-1f96-4e1c-8be1-522009bd434f",
    "ExecuteTime": {
     "end_time": "2025-01-24T11:11:50.934020Z",
     "start_time": "2025-01-24T11:11:49.988316Z"
    }
   },
   "outputs": [
    {
     "name": "stderr",
     "output_type": "stream",
     "text": [
      "test_fetch_computer_scientists_list (__main__.TestScrapingFunctions) ... ok\n",
      "test_scrape_computer_scientist_data (__main__.TestScrapingFunctions) ... ok\n",
      "\n",
      "----------------------------------------------------------------------\n",
      "Ran 2 tests in 0.938s\n",
      "\n",
      "OK\n"
     ]
    },
    {
     "data": {
      "text/plain": [
       "<unittest.runner.TextTestResult run=2 errors=0 failures=0>"
      ]
     },
     "execution_count": 15,
     "metadata": {},
     "output_type": "execute_result"
    }
   ],
   "execution_count": 15
  },
  {
   "cell_type": "markdown",
   "metadata": {
    "id": "E9_NoSnMvlS9"
   },
   "source": [
    "# Task 5"
   ]
  },
  {
   "cell_type": "markdown",
   "metadata": {
    "id": "8UXnEooLvrYu"
   },
   "source": [
    "Use the previously defined `ComputerScientist` class.\n",
    "\n",
    "Add a new attribute `wikipedia_link` without modifying the definition of the original class. Consider using `setattr()`.\n",
    "\n",
    "Write a function `fetch_scientist()` that will receive the name of a scientist, and will go to wikipedia and fetch the required scientist, and return a `ComputerScientist` object.\n",
    "\n",
    "- Remember checking edge cases, such as the scientist not existing.\n",
    "\n",
    "Add a decorator to cache the request, (i.e: store the answers, and if the scientist was already found before, to not execute the search again)."
   ]
  },
  {
   "cell_type": "code",
   "source": [
    "from functools import wraps\n",
    "\n",
    "def cache_results(func):\n",
    "    cache = {}\n",
    "\n",
    "    @wraps(func)\n",
    "    def wrapper(name):\n",
    "        if not isinstance(name, str) or not name.strip():\n",
    "            return func(name)\n",
    "\n",
    "        key = name.lower()\n",
    "        if key in cache:\n",
    "            print(f\"Fetching '{name}' from cache.\")\n",
    "            return cache[key]\n",
    "        else:\n",
    "            result = func(name)\n",
    "            cache[key] = result\n",
    "            return result\n",
    "    return wrapper"
   ],
   "metadata": {
    "id": "VGgP5zR_lL4O"
   },
   "execution_count": 91,
   "outputs": []
  },
  {
   "cell_type": "code",
   "source": [
    "def is_disambiguation_page(soup):\n",
    "    cat_links = soup.find('div', id='mw-normal-catlinks')\n",
    "    if cat_links:\n",
    "        categories = [a.text.lower() for a in cat_links.find_all('a')]\n",
    "        if 'disambiguation pages' in categories:\n",
    "            return True\n",
    "\n",
    "    if soup.find(\"table\", {\"id\": \"disambigbox\"}):\n",
    "        return True\n",
    "\n",
    "    body = soup.find('body')\n",
    "    if body and 'mw-disambig' in body.get('class', []):\n",
    "        return True\n",
    "\n",
    "    return False"
   ],
   "metadata": {
    "id": "FtorqssXodpR"
   },
   "execution_count": 92,
   "outputs": []
  },
  {
   "cell_type": "code",
   "source": [
    "from urllib.parse import quote\n",
    "\n",
    "@cache_results\n",
    "def fetch_scientist(name):\n",
    "    if not isinstance(name, str) or not name.strip():\n",
    "        raise ValueError(\"Name must be a non-empty string.\")\n",
    "\n",
    "    encoded_name = quote(name.strip())\n",
    "    url = f\"https://en.wikipedia.org/wiki/{encoded_name}\"\n",
    "\n",
    "    try:\n",
    "        response = requests.get(url, timeout=10)\n",
    "        response.raise_for_status()\n",
    "    except requests.exceptions.HTTPError as http_err:\n",
    "        if response.status_code == 404:\n",
    "            print(f\"Scientist '{name}' does not have a Wikipedia page.\")\n",
    "            return None\n",
    "        else:\n",
    "            print(f\"HTTP error occurred while fetching '{name}': {http_err}\")\n",
    "            return None\n",
    "    except requests.exceptions.RequestException as e:\n",
    "        print(f\"Error fetching '{name}': {e}\")\n",
    "        return None\n",
    "\n",
    "    soup = BeautifulSoup(response.text, 'html.parser')\n",
    "\n",
    "    if is_disambiguation_page(soup):\n",
    "        print(f\"Scientist '{name}' led to a disambiguation page.\")\n",
    "        return None\n",
    "\n",
    "    infobox = soup.find('table', class_='infobox')\n",
    "    if not infobox:\n",
    "        print(f\"No infobox found for '{name}'.\")\n",
    "        return None\n",
    "\n",
    "    data = {}\n",
    "    for row in infobox.find_all('tr'):\n",
    "        if row.th and row.td:\n",
    "            key = row.th.get_text(separator=' ', strip=True).lower()\n",
    "            value = row.td.get_text(separator=' ', strip=True)\n",
    "            data[key] = value\n",
    "\n",
    "    def extract_field(key_keywords):\n",
    "        for key in data:\n",
    "            if any(keyword in key for keyword in key_keywords):\n",
    "                return data[key]\n",
    "        return None\n",
    "\n",
    "    birthdate = extract_field(['born'])\n",
    "    alma_mater = extract_field(['alma mater'])\n",
    "    fields = extract_field(['field', 'fields'])\n",
    "    known_for = extract_field(['known for'])\n",
    "    notable_works = extract_field(['notable works'])\n",
    "\n",
    "    def process_field(field_value):\n",
    "        if field_value:\n",
    "            return [item.strip() for item in field_value.split(',')]\n",
    "        return []\n",
    "\n",
    "    fields = process_field(fields)\n",
    "    major_achievements = process_field(known_for)\n",
    "    notable_works = process_field(notable_works)\n",
    "\n",
    "    cs = ComputerScientist(\n",
    "        name=name,\n",
    "        birthdate=birthdate,\n",
    "        major_achievements=major_achievements,\n",
    "        alma_mater=alma_mater,\n",
    "        field=fields,\n",
    "        notable_works=notable_works\n",
    "    )\n",
    "\n",
    "\n",
    "    setattr(cs, 'wikipedia_link', url)\n",
    "    return cs"
   ],
   "metadata": {
    "id": "PIQnhxwEmaw8"
   },
   "execution_count": 93,
   "outputs": []
  },
  {
   "cell_type": "code",
   "source": [
    "class TestFetchScientist(unittest.TestCase):\n",
    "    def test_nonexistent_scientist(self):\n",
    "        name = \"ThisScientistDoesNotExist12345\"\n",
    "        cs = fetch_scientist(name)\n",
    "        self.assertIsNone(cs, f\"Expected None for non-existent scientist '{name}'.\")\n",
    "\n",
    "    def test_empty_name(self):\n",
    "        name = \"\"\n",
    "        with self.assertRaises(ValueError):\n",
    "            fetch_scientist(name)\n",
    "\n",
    "    def test_invalid_input_type(self):\n",
    "        name = 12345\n",
    "        with self.assertRaises(ValueError):\n",
    "            fetch_scientist(name)\n",
    "\n",
    "    def test_caching_mechanism(self):\n",
    "        name = \"Ada Lovelace\"\n",
    "\n",
    "        cs1 = fetch_scientist(name)\n",
    "        self.assertIsNotNone(cs1, f\"Failed to fetch data for '{name}' the first time.\")\n",
    "\n",
    "        cache_dict = fetch_scientist.__closure__[0].cell_contents\n",
    "        original_cache_size = len(cache_dict)\n",
    "\n",
    "        cs2 = fetch_scientist(name)\n",
    "        self.assertIsNotNone(cs2, f\"Failed to fetch data for '{name}' the second time.\")\n",
    "\n",
    "        self.assertEqual(cs1.to_dict(), cs2.to_dict(), \"Cached data does not match original data.\")\n",
    "\n",
    "        new_cache_size = len(cache_dict)\n",
    "        self.assertEqual(original_cache_size, new_cache_size, \"Cache size changed unexpectedly.\")"
   ],
   "metadata": {
    "id": "5ZA3M9FJmdJv"
   },
   "execution_count": 94,
   "outputs": []
  },
  {
   "cell_type": "code",
   "source": [
    "suite_fetch = unittest.TestLoader().loadTestsFromTestCase(TestFetchScientist)\n",
    "\n",
    "runner_fetch = unittest.TextTestRunner(verbosity=2)\n",
    "runner_fetch.run(suite_fetch)"
   ],
   "metadata": {
    "colab": {
     "base_uri": "https://localhost:8080/"
    },
    "id": "qd7l34nSmfYC",
    "outputId": "795de374-1097-4d77-e13a-afc89edf4c57"
   },
   "execution_count": 95,
   "outputs": [
    {
     "output_type": "stream",
     "name": "stderr",
     "text": [
      "test_caching_mechanism (__main__.TestFetchScientist.test_caching_mechanism) ... ok\n",
      "test_empty_name (__main__.TestFetchScientist.test_empty_name) ... ok\n",
      "test_invalid_input_type (__main__.TestFetchScientist.test_invalid_input_type) ... ok\n",
      "test_nonexistent_scientist (__main__.TestFetchScientist.test_nonexistent_scientist) ... "
     ]
    },
    {
     "output_type": "stream",
     "name": "stdout",
     "text": [
      "Fetching 'Ada Lovelace' from cache.\n"
     ]
    },
    {
     "output_type": "stream",
     "name": "stderr",
     "text": [
      "ok\n",
      "\n",
      "----------------------------------------------------------------------\n",
      "Ran 4 tests in 0.966s\n",
      "\n",
      "OK\n"
     ]
    },
    {
     "output_type": "stream",
     "name": "stdout",
     "text": [
      "Scientist 'ThisScientistDoesNotExist12345' does not have a Wikipedia page.\n"
     ]
    },
    {
     "output_type": "execute_result",
     "data": {
      "text/plain": [
       "<unittest.runner.TextTestResult run=4 errors=0 failures=0>"
      ]
     },
     "metadata": {},
     "execution_count": 95
    }
   ]
  },
  {
   "cell_type": "code",
   "source": [
    "valid_name = \"Ada Lovelace\"\n",
    "print(f\"\\nFetching data for '{valid_name}':\")\n",
    "cs_valid = fetch_scientist(valid_name)\n",
    "if cs_valid:\n",
    "    print(cs_valid.to_dict())\n",
    "\n",
    "invalid_name = \"NonExistentScientist12345\"\n",
    "print(f\"\\nFetching data for '{invalid_name}':\")\n",
    "cs_invalid = fetch_scientist(invalid_name)\n",
    "if cs_invalid:\n",
    "    print(cs_invalid.to_dict())\n",
    "else:\n",
    "    print(f\"No data found for '{invalid_name}'.\")\n",
    "\n",
    "\n",
    "print(f\"\\nFetching data for '{valid_name}' again to demonstrate caching:\")\n",
    "cs_cached = fetch_scientist(valid_name)\n",
    "if cs_cached:\n",
    "    print(cs_cached.to_dict())"
   ],
   "metadata": {
    "colab": {
     "base_uri": "https://localhost:8080/"
    },
    "id": "8s_u-tIqmmZR",
    "outputId": "ddc48a99-cd31-43cb-d161-63e3818c6ae9"
   },
   "execution_count": 96,
   "outputs": [
    {
     "output_type": "stream",
     "name": "stdout",
     "text": [
      "\n",
      "Fetching data for 'Ada Lovelace':\n",
      "Fetching 'Ada Lovelace' from cache.\n",
      "{'Name': 'Ada Lovelace', 'Birthdate': 'Hon. Augusta Ada Byron ( 1815-12-10 ) 10 December 1815 London, England', 'Major Achievements': [], 'Alma Mater': None, 'Field': [], 'Notable Works': []}\n",
      "\n",
      "Fetching data for 'NonExistentScientist12345':\n",
      "Scientist 'NonExistentScientist12345' does not have a Wikipedia page.\n",
      "No data found for 'NonExistentScientist12345'.\n",
      "\n",
      "Fetching data for 'Ada Lovelace' again to demonstrate caching:\n",
      "Fetching 'Ada Lovelace' from cache.\n",
      "{'Name': 'Ada Lovelace', 'Birthdate': 'Hon. Augusta Ada Byron ( 1815-12-10 ) 10 December 1815 London, England', 'Major Achievements': [], 'Alma Mater': None, 'Field': [], 'Notable Works': []}\n"
     ]
    }
   ]
  },
  {
   "cell_type": "markdown",
   "metadata": {
    "id": "Ptoc3isJLtVl"
   },
   "source": [
    "# Task 6**"
   ]
  },
  {
   "cell_type": "markdown",
   "metadata": {
    "id": "mH5GLZJ0LtVl"
   },
   "source": [
    "Consider the directed graph where the nodes represent the wikipedia pages of the scientists and the edges represent whether a scientist's page contains a link to the page of another scientist."
   ]
  },
  {
   "cell_type": "markdown",
   "metadata": {
    "id": "XTdf2NR6LtVl"
   },
   "source": [
    "Implement a class named `ScientistGraph`, with some attributes and methods like:\n",
    "- `scientist_list : list[ComputerScientist]`: the list of all scientists\n",
    "- `graph`: the graph of scientists connected to other scientists (you can use the graph object from `network`, or implement your own way of storing the graph, for e.g: with an adjacency list or an adjacency matrix).\n",
    "- `add_scientist(scientist_name: str)`: method that will receive the name of the scientist, fetch the corresponding wikipedia page, create the corresponding `ComputerScientist` object, and will add the new edges involving that scientist to the graph. Consider edge cases like the name being incorrect or the scientist being already stored.\n",
    "- `remove_scientist(scientist_name: str)`: method that will receive the name of a scientist, remove them from the list and removing its node and the edges involving it from the graph. Consider edge cases like the name being incorrect or the scientist not being stored.\n",
    "- `plot()`: method that will visualize the graph. Show how the graph changes when adding someone new or deleting someone. Bonus: perhaps you want to implement it in a dynamic way, so each time that a scientist is removed from or added to the graph, the visualization changes.\n",
    "- `rank_scientists():` method that will rank scientists. For this method you can be as creative as you wish: You can start by designing a ranking based on the number of neighbours of each scientists, or the number of times a scientist is mentioned in one of the articles, or by using the famous `PageRank (you need to google it)`, etc., or by any other methods you might like to consider."
   ]
  },
  {
   "cell_type": "markdown",
   "metadata": {
    "id": "YMRKwMU2LtVl"
   },
   "source": [
    "Show the usage of these methods in a proper way.\n",
    "Feel free to add more functionalities."
   ]
  },
  {
   "cell_type": "code",
   "source": [
    "class ScientistGraph:\n",
    "    def __init__(self):\n",
    "        self.scientist_list = []\n",
    "        self.graph = nx.DiGraph()\n",
    "        self._links_map = {}\n",
    "\n",
    "    def _fetch_links_and_page_text(self, name):\n",
    "        clean_name = name.replace(\" \", \"_\")\n",
    "        url = f\"https://en.wikipedia.org/wiki/{clean_name}\"\n",
    "        try:\n",
    "            response = requests.get(url, timeout=10)\n",
    "            if response.status_code != 200:\n",
    "                return None, []\n",
    "            html = BeautifulSoup(response.text, \"html.parser\")\n",
    "            if \"may refer to:\" in html.get_text().lower():\n",
    "                return None, []\n",
    "            paragraphs = html.select('p')\n",
    "            page_text = \"\"\n",
    "            for p in paragraphs:\n",
    "                text = p.get_text(strip=True)\n",
    "                if text:\n",
    "                    page_text += text + \" \"\n",
    "            links = []\n",
    "            for a in html.select('a[href^=\"/wiki/\"]'):\n",
    "                link_title = a['href'].split(\"/wiki/\")[1]\n",
    "                if \":\" in link_title:\n",
    "                    continue\n",
    "                if \"#\" in link_title:\n",
    "                    link_title = link_title.split(\"#\")[0]\n",
    "                link_title = link_title.replace(\"_\", \" \")\n",
    "                if link_title and link_title not in links:\n",
    "                    links.append(link_title)\n",
    "            return page_text.strip(), links\n",
    "        except:\n",
    "            return None, []\n",
    "\n",
    "    def add_scientist(self, scientist_name: str):\n",
    "        if scientist_name in self.graph.nodes:\n",
    "            print(f\"Scientist '{scientist_name}' is already in the graph.\")\n",
    "            return\n",
    "        page_text, links = self._fetch_links_and_page_text(scientist_name)\n",
    "        if not page_text:\n",
    "            print(f\"Failed to add '{scientist_name}' because no valid page was found.\")\n",
    "            return\n",
    "        new_scientist = ComputerScientist(name=scientist_name)\n",
    "        self.scientist_list.append(new_scientist)\n",
    "        self.graph.add_node(new_scientist.name)\n",
    "        self._links_map[new_scientist.name] = links\n",
    "        for existing_sci in self.scientist_list:\n",
    "            if existing_sci.name == new_scientist.name:\n",
    "                continue\n",
    "            if existing_sci.name in links:\n",
    "                self.graph.add_edge(new_scientist.name, existing_sci.name)\n",
    "            if new_scientist.name in self._links_map.get(existing_sci.name, []):\n",
    "                self.graph.add_edge(existing_sci.name, new_scientist.name)\n",
    "\n",
    "    def remove_scientist(self, scientist_name: str):\n",
    "        if scientist_name not in self.graph.nodes:\n",
    "            print(f\"Scientist '{scientist_name}' is not found in the graph.\")\n",
    "            return\n",
    "        self.scientist_list = [s for s in self.scientist_list if s.name != scientist_name]\n",
    "        self.graph.remove_node(scientist_name)\n",
    "        if scientist_name in self._links_map:\n",
    "            del self._links_map[scientist_name]\n",
    "        for k in self._links_map:\n",
    "            if scientist_name in self._links_map[k]:\n",
    "                self._links_map[k].remove(scientist_name)\n",
    "        print(f\"Scientist '{scientist_name}' has been removed from the graph.\")\n",
    "\n",
    "    def plot(self):\n",
    "        plt.figure(figsize=(8, 4))\n",
    "        pos = nx.spring_layout(self.graph, k=0.3, seed=42)\n",
    "        nx.draw(\n",
    "            self.graph, pos,\n",
    "            with_labels=True,\n",
    "            node_size=1500,\n",
    "            node_color='lightblue',\n",
    "            arrowstyle='->',\n",
    "            arrowsize=12,\n",
    "            font_size=10\n",
    "        )\n",
    "        plt.title(\"Scientist Graph\")\n",
    "        plt.show()\n",
    "\n",
    "    def rank_scientists(self, method: str = 'degree'):\n",
    "        if method == 'degree':\n",
    "            degrees = dict(self.graph.out_degree())\n",
    "            ranked = sorted(degrees.items(), key=lambda x: x[1], reverse=True)\n",
    "            print(\"Rank by out-degree (descending):\")\n",
    "            for name, deg in ranked:\n",
    "                print(f\"{name}: out-degree = {deg}\")\n",
    "            return ranked\n",
    "        elif method == 'pagerank':\n",
    "            pr = nx.pagerank(self.graph)\n",
    "            ranked = sorted(pr.items(), key=lambda x: x[1], reverse=True)\n",
    "            print(\"Rank by PageRank (descending):\")\n",
    "            for name, score in ranked:\n",
    "                print(f\"{name}: PageRank = {score:.4f}\")\n",
    "            return ranked\n",
    "        else:\n",
    "            print(f\"Unknown ranking method: {method}. Use 'degree' or 'pagerank'.\")\n",
    "            return []"
   ],
   "metadata": {
    "id": "v-S9rF_OugZ1"
   },
   "execution_count": 97,
   "outputs": []
  },
  {
   "cell_type": "code",
   "source": [
    "sg = ScientistGraph()\n",
    "sg.add_scientist(\"Donald Knuth\")\n",
    "sg.add_scientist(\"Edsger W. Dijkstra\")\n",
    "sg.plot()\n",
    "sg.add_scientist(\"Alan Turing\")\n",
    "sg.plot()\n",
    "sg.rank_scientists(method='degree')\n",
    "sg.rank_scientists(method='pagerank')\n",
    "sg.remove_scientist(\"Alan Turing\")\n",
    "sg.plot()"
   ],
   "metadata": {
    "colab": {
     "base_uri": "https://localhost:8080/",
     "height": 1000
    },
    "id": "tmIXEN_5scwS",
    "outputId": "6d65ebc8-b19d-484b-efa8-99385e548763"
   },
   "execution_count": 98,
   "outputs": [
    {
     "output_type": "display_data",
     "data": {
      "text/plain": [
       "<Figure size 800x400 with 1 Axes>"
      ],
      "image/png": "[encoded data removed]"
     },
     "metadata": {}
    },
    {
     "output_type": "display_data",
     "data": {
      "text/plain": [
       "<Figure size 800x400 with 1 Axes>"
      ],
      "image/png": "[encoded data removed]"
     },
     "metadata": {}
    },
    {
     "output_type": "stream",
     "name": "stdout",
     "text": [
      "Rank by out-degree (descending):\n",
      "Edsger W. Dijkstra: out-degree = 2\n",
      "Alan Turing: out-degree = 2\n",
      "Donald Knuth: out-degree = 1\n",
      "Rank by PageRank (descending):\n",
      "Edsger W. Dijkstra: PageRank = 0.4327\n",
      "Donald Knuth: PageRank = 0.3333\n",
      "Alan Turing: PageRank = 0.2339\n",
      "Scientist 'Alan Turing' has been removed from the graph.\n"
     ]
    },
    {
     "output_type": "display_data",
     "data": {
      "text/plain": [
       "<Figure size 800x400 with 1 Axes>"
      ],
      "image/png": "[encoded data removed]"
     },
     "metadata": {}
    }
   ]
  }
 ],
 "metadata": {
  "colab": {
   "provenance": []
  },
  "kernelspec": {
   "display_name": "dedalus3",
   "language": "python",
   "name": "python3"
  },
  "language_info": {
   "codemirror_mode": {
    "name": "ipython",
    "version": 3
   },
   "file_extension": ".py",
   "mimetype": "text/x-python",
   "name": "python",
   "nbconvert_exporter": "python",
   "pygments_lexer": "ipython3",
   "version": "3.12.6"
  }
 },
 "nbformat": 4,
 "nbformat_minor": 0
}
