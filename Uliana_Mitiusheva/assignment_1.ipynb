{
 "cells": [
  {
   "cell_type": "markdown",
   "metadata": {},
   "source": [
    "# Assignment 1"
   ]
  },
  {
   "cell_type": "code",
   "metadata": {
    "ExecuteTime": {
     "end_time": "2024-12-30T09:21:04.212308Z",
     "start_time": "2024-12-30T09:21:03.701215Z"
    }
   },
   "source": [
    "from sympy import factorial\n",
    "\n",
    "name = \"Mitiusheva Uliana\"\n",
    "if name is None:\n",
    "    raise ValueError(\"Put your full name in the `name` variable\")"
   ],
   "outputs": [],
   "execution_count": 216
  },
  {
   "cell_type": "markdown",
   "metadata": {},
   "source": [
    "The objective of this assignment is to test a bunch of different topics we've discussed during our introductory classes. Complete the following exercises:"
   ]
  },
  {
   "cell_type": "markdown",
   "metadata": {},
   "source": [
    "## Instructions"
   ]
  },
  {
   "cell_type": "markdown",
   "metadata": {},
   "source": [
    "Complete the notebook and create a folder with your name, and put the notebook in that folder. Make a Pull Request with your code."
   ]
  },
  {
   "cell_type": "markdown",
   "metadata": {
    "id": "hia1cPPnbt-6"
   },
   "source": [
    "## Exercise 0\n",
    "\n",
    "Write your own simple function with simple documentation and all types of arguments (positional, positional with defaults, arbitrary args, keyword args, arbitrary keyword args)"
   ]
  },
  {
   "cell_type": "code",
   "metadata": {
    "id": "82YW6fgZbppO",
    "ExecuteTime": {
     "end_time": "2024-12-30T09:21:06.036476Z",
     "start_time": "2024-12-30T09:21:06.033024Z"
    }
   },
   "source": [
    "# your code here\n",
    "def my_function(name, age=18, *profiles, city='Moscow', **marks):\n",
    "    \"\"\"\n",
    "    Parameters:\n",
    "    - name (str): The name of the person\n",
    "    - age (int): The age of the person. Default is 18\n",
    "    - *profiles: Profiles of study\n",
    "    - city (str): The city where the person lives. Default is \"Moscow\"\n",
    "    - **marks: Marks from attsetate\n",
    "    \"\"\"\n",
    "    return name"
   ],
   "outputs": [],
   "execution_count": 217
  },
  {
   "cell_type": "markdown",
   "metadata": {
    "id": "HYhlKVnwTYzD"
   },
   "source": [
    "## Exercise 1\n"
   ]
  },
  {
   "cell_type": "code",
   "metadata": {
    "id": "gv_TvLaHTXh8",
    "ExecuteTime": {
     "end_time": "2024-12-30T09:21:06.634039Z",
     "start_time": "2024-12-30T09:21:06.627662Z"
    }
   },
   "source": [
    "def is_prime(n):\n",
    "    \"\"\"\n",
    "    Check if the number is prime or not.\n",
    "    \"\"\"\n",
    "    for i in range(2, int(n ** 0.5) + 1):\n",
    "        if n % i == 0:\n",
    "            return False\n",
    "    return True"
   ],
   "outputs": [],
   "execution_count": 218
  },
  {
   "cell_type": "markdown",
   "metadata": {
    "id": "1FXsMX-RKOBG"
   },
   "source": [
    "## Exercise 2\n",
    "\n",
    "[Inspect](https://docs.python.org/3.7/library/inspect.html) will help you. Use `my_function` for tests.\n",
    "\n"
   ]
  },
  {
   "cell_type": "code",
   "metadata": {
    "id": "g68Y9DfNQcYD",
    "ExecuteTime": {
     "end_time": "2024-12-30T09:21:07.318275Z",
     "start_time": "2024-12-30T09:21:07.310689Z"
    }
   },
   "source": [
    "import inspect\n",
    "\n",
    "def inspect_function(func):\n",
    "    \"\"\"\n",
    "    Takes another function as an argument (but not built-in) \n",
    "    and print the following data: \n",
    "    the name of the analyzed function, \n",
    "    the name of all the arguments it takes \n",
    "    and their types (positional, keyword, etc.)\n",
    "    \"\"\"\n",
    "    print(func.__name__, inspect.signature(func),  sep='\\n')\n",
    "\n",
    "    for name, param in  inspect.signature(func).parameters.items():\n",
    "        if param.kind == inspect.Parameter.POSITIONAL_ONLY:\n",
    "            arg_type = \"Positional Only\"\n",
    "        elif param.kind == inspect.Parameter.POSITIONAL_OR_KEYWORD:\n",
    "            arg_type = \"Positional or Keyword\"\n",
    "        elif param.kind == inspect.Parameter.VAR_POSITIONAL:\n",
    "            arg_type = \"Arbitrary Positional (*args)\"\n",
    "        elif param.kind == inspect.Parameter.KEYWORD_ONLY:\n",
    "            arg_type = \"Keyword Only\"\n",
    "        elif param.kind == inspect.Parameter.VAR_KEYWORD:\n",
    "            arg_type = \"Arbitrary Keyword (**kwargs)\"\n",
    "        else:\n",
    "            arg_type = \"Unknown\"\n",
    "\n",
    "        print(f\"  - {name}: {arg_type}\")"
   ],
   "outputs": [],
   "execution_count": 219
  },
  {
   "metadata": {
    "ExecuteTime": {
     "end_time": "2024-12-30T09:21:07.624305Z",
     "start_time": "2024-12-30T09:21:07.620501Z"
    }
   },
   "cell_type": "code",
   "source": "inspect_function(my_function)",
   "outputs": [
    {
     "name": "stdout",
     "output_type": "stream",
     "text": [
      "my_function\n",
      "(name, age=18, *profiles, city='Moscow', **marks)\n",
      "  - name: Positional or Keyword\n",
      "  - age: Positional or Keyword\n",
      "  - profiles: Arbitrary Positional (*args)\n",
      "  - city: Keyword Only\n",
      "  - marks: Arbitrary Keyword (**kwargs)\n"
     ]
    }
   ],
   "execution_count": 220
  },
  {
   "cell_type": "markdown",
   "metadata": {
    "id": "oRaKEc0ZIgNs"
   },
   "source": [
    "## Exercise 3"
   ]
  },
  {
   "cell_type": "markdown",
   "metadata": {
    "id": "xmdOYiCrGpUd"
   },
   "source": [
    "The `my_time_now` function is not working correctly. Correct it so that it displays the current time with a message. "
   ]
  },
  {
   "cell_type": "code",
   "metadata": {
    "id": "645BoTXIGnHr",
    "ExecuteTime": {
     "end_time": "2024-12-30T09:21:08.888296Z",
     "start_time": "2024-12-30T09:21:08.883458Z"
    }
   },
   "source": [
    "from datetime import datetime\n",
    "from time import sleep\n",
    " \n",
    "# wrong function\n",
    "def my_time_now(msg):\n",
    "    print(msg, datetime.now())\n"
   ],
   "outputs": [],
   "execution_count": 221
  },
  {
   "cell_type": "code",
   "metadata": {
    "id": "3NeyF9UJHeyd",
    "ExecuteTime": {
     "end_time": "2024-12-30T09:21:11.362084Z",
     "start_time": "2024-12-30T09:21:09.349966Z"
    }
   },
   "source": [
    "# simple tests :)\n",
    "my_time_now('The time is now: ')\n",
    "sleep(1)\n",
    "my_time_now('The time is now: ')\n",
    "sleep(1)\n",
    "my_time_now('The time is now: ')"
   ],
   "outputs": [
    {
     "name": "stdout",
     "output_type": "stream",
     "text": [
      "The time is now:  2024-12-30 12:21:09.351357\n",
      "The time is now:  2024-12-30 12:21:10.353711\n",
      "The time is now:  2024-12-30 12:21:11.359117\n"
     ]
    }
   ],
   "execution_count": 222
  },
  {
   "cell_type": "markdown",
   "metadata": {
    "id": "Qap8_Jb2ENra"
   },
   "source": [
    "## Exercise 4"
   ]
  },
  {
   "cell_type": "code",
   "metadata": {
    "id": "JBwZGo84EMW1",
    "ExecuteTime": {
     "end_time": "2024-12-30T09:21:11.380808Z",
     "start_time": "2024-12-30T09:21:11.377322Z"
    }
   },
   "source": [
    "def limit(input_generator, max_count):\n",
    "    \"\"\"\n",
    "    Generator that returns not more than max_count values of the input_generator.\n",
    "    \"\"\"\n",
    "    count = 0\n",
    "    for value in input_generator:\n",
    "        if count < max_count:\n",
    "            yield value\n",
    "            count += 1\n",
    "        else:\n",
    "            break"
   ],
   "outputs": [],
   "execution_count": 223
  },
  {
   "cell_type": "markdown",
   "metadata": {
    "id": "BvwCKaOxRQ3N"
   },
   "source": [
    "## Exercise 5\n",
    "\n",
    "Write a generator for an infinite sequence of numbers from the Pascal's triangle. The sequence look like this:\n",
    "`1 1 1 1 2 1 1 3 3 1 1 4 6 4 1 1 5 10 10 5 1 1 6 15 20 15 6 1 1 7 21 35 35 21 7 1 1 8 28 56 70 56 28 8 1 1 9 36 84 126 126 84 36 9 1 ... '\n",
    "\n",
    "Test it with a generator from the previous task)"
   ]
  },
  {
   "cell_type": "code",
   "metadata": {
    "id": "EBNNXBUYUqKJ",
    "ExecuteTime": {
     "end_time": "2024-12-30T09:21:11.575466Z",
     "start_time": "2024-12-30T09:21:11.571095Z"
    }
   },
   "source": [
    "import math\n",
    "\n",
    "def pascal_triangle():\n",
    "    n = 0\n",
    "    while True:\n",
    "        for i in range(0, n + 1):\n",
    "            yield int(math.factorial(n) / (math.factorial(i) * math.factorial(n - i)))\n",
    "        n += 1\n"
   ],
   "outputs": [],
   "execution_count": 224
  },
  {
   "metadata": {
    "ExecuteTime": {
     "end_time": "2024-12-30T09:21:11.967681Z",
     "start_time": "2024-12-30T09:21:11.964365Z"
    }
   },
   "cell_type": "code",
   "source": [
    "limited_pascal = limit(pascal_triangle(), 20)\n",
    "\n",
    "for value in limited_pascal:\n",
    "    print(value)\n"
   ],
   "outputs": [
    {
     "name": "stdout",
     "output_type": "stream",
     "text": [
      "1\n",
      "1\n",
      "1\n",
      "1\n",
      "2\n",
      "1\n",
      "1\n",
      "3\n",
      "3\n",
      "1\n",
      "1\n",
      "4\n",
      "6\n",
      "4\n",
      "1\n",
      "1\n",
      "5\n",
      "10\n",
      "10\n",
      "5\n"
     ]
    }
   ],
   "execution_count": 225
  },
  {
   "cell_type": "markdown",
   "metadata": {
    "id": "vUiY14pIEiNC"
   },
   "source": [
    "## Exercise 6\n"
   ]
  },
  {
   "cell_type": "code",
   "metadata": {
    "id": "eGLSDqNHGFYn",
    "ExecuteTime": {
     "end_time": "2024-12-30T09:21:12.883772Z",
     "start_time": "2024-12-30T09:21:12.878686Z"
    }
   },
   "source": [
    "import pathlib  # can change to os module if you want\n",
    "import sys\n",
    "\n",
    "def files_sorted_by_size(path_to_dir):\n",
    "    \"\"\"\n",
    "    Return a list of files in path_to_dir sorted by size.\n",
    "    The same size files sorted alphabetically\n",
    "    \"\"\"\n",
    "    path_to_dir = pathlib.Path(path_to_dir)\n",
    "    list_to_sort = []\n",
    "    for path in path_to_dir.iterdir():\n",
    "        if path.is_file():\n",
    "            list_to_sort.append([path, path.name, path.stat().st_size])\n",
    "    sorted_list = sorted(list_to_sort, key=lambda x: (x[2], x[1]))\n",
    "    return (item[0] for item in sorted_list)"
   ],
   "outputs": [],
   "execution_count": 226
  },
  {
   "metadata": {
    "ExecuteTime": {
     "end_time": "2024-12-30T09:21:13.339370Z",
     "start_time": "2024-12-30T09:21:13.336006Z"
    }
   },
   "cell_type": "code",
   "source": [
    "path = pathlib.Path('../aoc_example')\n",
    "for file in files_sorted_by_size(path):\n",
    "    print(file)"
   ],
   "outputs": [
    {
     "name": "stdout",
     "output_type": "stream",
     "text": [
      "../aoc_example/test_day2.py\n",
      "../aoc_example/aoc1.py\n",
      "../aoc_example/aoc2.py\n",
      "../aoc_example/test_day1.py\n"
     ]
    }
   ],
   "execution_count": 227
  },
  {
   "cell_type": "markdown",
   "metadata": {
    "id": "43eeoixHSa9Y"
   },
   "source": [
    "## Exercise 7\n",
    "\n",
    "Write a `merge_sorter` generator that merges sorted sequences of integers.\n",
    "\n",
    "The generator takes an arbitrary number of arguments. The argument can be any iterable, including another generator. It is guaranteed that each argument is a sequence of integers, sorted in non-decreasing order."
   ]
  },
  {
   "cell_type": "code",
   "metadata": {
    "id": "VHmnqHVaScox",
    "ExecuteTime": {
     "end_time": "2024-12-30T09:21:14.464664Z",
     "start_time": "2024-12-30T09:21:14.459918Z"
    }
   },
   "source": [
    "import heapq\n",
    "\n",
    "def merge_sorter(*args):\n",
    "    heap = []\n",
    "    iterators = [iter(arg) for arg in args]\n",
    "    for i, it in enumerate(iterators):\n",
    "        first_element = next(it, None)\n",
    "        if first_element is not None:\n",
    "            heapq.heappush(heap, (first_element, i, it))\n",
    "    while heap:\n",
    "        smallest, i, it = heapq.heappop(heap)\n",
    "        yield smallest\n",
    "        next_element = next(it, None)\n",
    "        if next_element is not None:\n",
    "            heapq.heappush(heap, (next_element, i, it))"
   ],
   "outputs": [],
   "execution_count": 228
  },
  {
   "metadata": {
    "ExecuteTime": {
     "end_time": "2024-12-30T14:28:18.322612Z",
     "start_time": "2024-12-30T14:28:18.290547Z"
    }
   },
   "cell_type": "code",
   "source": [
    "seq1 = [0, 9, 10]\n",
    "seq2 = [1, 3, 6, 8]\n",
    "seq3 = [2, 4, 5, 7]\n",
    "\n",
    "for num in merge_sorter(seq1, seq2, seq3):\n",
    "    print(num)"
   ],
   "outputs": [
    {
     "name": "stdout",
     "output_type": "stream",
     "text": [
      "0\n",
      "1\n",
      "2\n",
      "3\n",
      "4\n",
      "5\n",
      "6\n",
      "7\n",
      "8\n",
      "9\n",
      "10\n"
     ]
    }
   ],
   "execution_count": 285
  },
  {
   "cell_type": "markdown",
   "metadata": {
    "id": "7AF_IQRQVQ-k"
   },
   "source": [
    "## Exercise 8\n",
    "\n",
    "Write the decorator `proﬁler`, which, when calling a function, will store in its attributes (not to be confused with arguments) the time of its execution (in seconds, it can be fractional) and the number of recursive calls that occurred during execution. Name the attributes `last_time_taken` and `calls`.\n",
    "It is forbidden to use global variables.\n",
    "The decorator must behave in a decent manner, that is, it must not overwrite the function's documentation.\n",
    "\n",
    "For tests write [Ackermann function](https://en.wikipedia.org/wiki/Ackermann_function)"
   ]
  },
  {
   "cell_type": "code",
   "metadata": {
    "id": "WyJ02jbTVQiu",
    "ExecuteTime": {
     "end_time": "2024-12-30T12:51:23.476086Z",
     "start_time": "2024-12-30T12:51:23.467148Z"
    }
   },
   "source": [
    "import time\n",
    "from functools import wraps\n",
    "\n",
    "def profiler(func):\n",
    "    @wraps(func)\n",
    "    def wrapper(*args, **kwargs):\n",
    "        if wrapper.call_depth == 0:\n",
    "            wrapper.calls = 0\n",
    "            start_time = time.time()\n",
    "\n",
    "        wrapper.call_depth += 1\n",
    "        wrapper.calls += 1\n",
    "\n",
    "        result = func(*args, **kwargs)\n",
    "\n",
    "        wrapper.call_depth -= 1\n",
    "        if wrapper.call_depth == 0:\n",
    "            wrapper.last_time_taken = time.time() - start_time\n",
    "        return result\n",
    "\n",
    "    wrapper.call_depth = 0\n",
    "    wrapper.calls = 0\n",
    "    wrapper.last_time_taken = 0.0\n",
    "    return wrapper\n",
    "\n",
    "@profiler\n",
    "def ackermann(n, m):\n",
    "    if n == 0:\n",
    "        return m + 1\n",
    "    elif m == 0:\n",
    "        return ackermann(n - 1, 1)\n",
    "    else:\n",
    "        return ackermann(n - 1, ackermann(n, m - 1))"
   ],
   "outputs": [],
   "execution_count": 244
  },
  {
   "metadata": {
    "ExecuteTime": {
     "end_time": "2024-12-30T12:51:25.363069Z",
     "start_time": "2024-12-30T12:51:25.351156Z"
    }
   },
   "cell_type": "code",
   "source": "ackermann(3, 4)",
   "outputs": [
    {
     "data": {
      "text/plain": [
       "125"
      ]
     },
     "execution_count": 245,
     "metadata": {},
     "output_type": "execute_result"
    }
   ],
   "execution_count": 245
  },
  {
   "cell_type": "markdown",
   "metadata": {
    "id": "QcjAealUfs2Q"
   },
   "source": [
    "## Exercise 9\n",
    "\n",
    "Write the function `encode` that implements [run-length encoding](https://en.wikipedia.org/wiki/Run-length_encoding) algorithm"
   ]
  },
  {
   "cell_type": "code",
   "metadata": {
    "id": "tBhwbMm9fsMv",
    "ExecuteTime": {
     "end_time": "2024-12-30T09:21:27.429195Z",
     "start_time": "2024-12-30T09:21:27.425519Z"
    }
   },
   "source": [
    "def encode(sequence):\n",
    "    i = 1\n",
    "    rle = ''\n",
    "    while i < len(sequence):\n",
    "        count = 1\n",
    "        while i < len(sequence) and sequence[i] == sequence[i - 1]:\n",
    "            count += 1\n",
    "            i += 1\n",
    "        rle += sequence[i - 1] + str(count)\n",
    "        i += 1\n",
    "    return rle"
   ],
   "outputs": [],
   "execution_count": 232
  },
  {
   "metadata": {
    "ExecuteTime": {
     "end_time": "2024-12-30T09:21:29.700050Z",
     "start_time": "2024-12-30T09:21:29.696032Z"
    }
   },
   "cell_type": "code",
   "source": "encode('uuulliiiiiaaaaannaaaa')",
   "outputs": [
    {
     "data": {
      "text/plain": [
       "'u3l2i5a5n2a4'"
      ]
     },
     "execution_count": 233,
     "metadata": {},
     "output_type": "execute_result"
    }
   ],
   "execution_count": 233
  },
  {
   "cell_type": "markdown",
   "metadata": {},
   "source": [
    "## Exercise 10\n",
    "\n",
    "Write a decorator `visualizer` that takes a recursive function and will visualize the recursive calls that are made during the execution.\n",
    "Consider using the `networkx` library or some other one in order to draw the recursion tree.\n",
    "Test it with a recursive function that computes fibonacci."
   ]
  },
  {
   "cell_type": "code",
   "metadata": {
    "ExecuteTime": {
     "end_time": "2024-12-30T12:51:29.219893Z",
     "start_time": "2024-12-30T12:51:29.208048Z"
    }
   },
   "source": [
    "import networkx as nx\n",
    "import matplotlib.pyplot as plt\n",
    "\n",
    "def visualizer(func):\n",
    "    func.call_id = 0\n",
    "    func.graph = nx.DiGraph()\n",
    "    func.call_stack = []\n",
    "\n",
    "    def wrapper(*args, **kwargs):\n",
    "        call_label = f\"{', '.join(map(str, args))}\"\n",
    "        func.call_id += 1\n",
    "        current_id = func.call_id\n",
    "        func.graph.add_node(current_id, label=call_label)\n",
    "        if func.call_stack:\n",
    "            parent_id = func.call_stack[-1]\n",
    "            func.graph.add_edge(parent_id, current_id)\n",
    "        func.call_stack.append(current_id)\n",
    "        result = func(*args, **kwargs)\n",
    "        func.call_stack.pop()\n",
    "        return result\n",
    "\n",
    "    def draw_graph():\n",
    "        labels = nx.get_node_attributes(func.graph, 'label')\n",
    "        pos = nx.spring_layout(func.graph, seed=47)\n",
    "        plt.figure(figsize=(8, 6))\n",
    "        nx.draw(\n",
    "            func.graph,\n",
    "            pos,\n",
    "            with_labels=True,\n",
    "            labels=labels,\n",
    "            node_size=1500,\n",
    "            font_size=8,\n",
    "            arrows=True,\n",
    "            node_color='red')\n",
    "        plt.title(\"Recursion Tree\")\n",
    "    wrapper.draw_graph = draw_graph\n",
    "    return wrapper"
   ],
   "outputs": [],
   "execution_count": 246
  },
  {
   "metadata": {
    "ExecuteTime": {
     "end_time": "2024-12-30T12:51:30.674049Z",
     "start_time": "2024-12-30T12:51:30.669558Z"
    }
   },
   "cell_type": "code",
   "source": [
    "@visualizer\n",
    "def fibonacci(n):\n",
    "    if n == 0 or n == 1:\n",
    "        return n\n",
    "    return fibonacci(n-1) + fibonacci(n-2)"
   ],
   "outputs": [],
   "execution_count": 247
  },
  {
   "metadata": {
    "ExecuteTime": {
     "end_time": "2024-12-30T12:51:31.281047Z",
     "start_time": "2024-12-30T12:51:31.117104Z"
    }
   },
   "cell_type": "code",
   "source": [
    "value = fibonacci(5)\n",
    "fibonacci.draw_graph()"
   ],
   "outputs": [
    {
     "data": {
      "text/plain": [
       "<Figure size 800x600 with 1 Axes>"
      ],
      "image/png": "[encoded data removed]"
     },
     "metadata": {},
     "output_type": "display_data"
    }
   ],
   "execution_count": 248
  },
  {
   "cell_type": "markdown",
   "metadata": {},
   "source": [
    "## Exercise 11\n",
    "\n",
    "Now write a decorator `memoizer` that will do caching on the calls of a function (memoization). \n",
    "Decorate fibonacci with the decorators `memoizer`, `profiler` and `visualizer` at the same time (not necessarily in that order). Test that they're working as one would expect."
   ]
  },
  {
   "cell_type": "code",
   "metadata": {
    "ExecuteTime": {
     "end_time": "2024-12-30T13:00:54.690685Z",
     "start_time": "2024-12-30T13:00:54.685645Z"
    }
   },
   "source": [
    "def memoizer(func):\n",
    "    cache = {}\n",
    "\n",
    "    @wraps(func)\n",
    "    def wrapper(*args, **kwargs):\n",
    "        key = (args, tuple(sorted(kwargs.items())))\n",
    "        if key in cache:\n",
    "            return cache[key]\n",
    "        result = func(*args, **kwargs)\n",
    "        cache[key] = result\n",
    "        return result\n",
    "\n",
    "    wrapper.cache = cache\n",
    "    return wrapper"
   ],
   "outputs": [],
   "execution_count": 260
  },
  {
   "metadata": {
    "ExecuteTime": {
     "end_time": "2024-12-30T13:00:56.324861Z",
     "start_time": "2024-12-30T13:00:56.321788Z"
    }
   },
   "cell_type": "code",
   "source": [
    "@profiler\n",
    "@visualizer\n",
    "@memoizer\n",
    "def fibonacci(n):\n",
    "    if n == 0 or n == 1:\n",
    "        return n\n",
    "    return fibonacci(n-1) + fibonacci(n-2)"
   ],
   "outputs": [],
   "execution_count": 261
  },
  {
   "metadata": {
    "ExecuteTime": {
     "end_time": "2024-12-30T13:00:57.867588Z",
     "start_time": "2024-12-30T13:00:57.477419Z"
    }
   },
   "cell_type": "code",
   "source": [
    "result = fibonacci(5)\n",
    "print(f\"function({5}) = {result}\")\n",
    "print(f\"Time: {fibonacci.last_time_taken:.6f} seconds\")\n",
    "print(f\"Number of calls: {fibonacci.calls}\")\n",
    "\n",
    "fibonacci.draw_graph()"
   ],
   "outputs": [
    {
     "name": "stdout",
     "output_type": "stream",
     "text": [
      "function(5) = 5\n",
      "Time: 0.000091 seconds\n",
      "Number of calls: 9\n"
     ]
    },
    {
     "data": {
      "text/plain": [
       "<Figure size 800x600 with 1 Axes>"
      ],
      "image/png": "[encoded data removed]"
     },
     "metadata": {},
     "output_type": "display_data"
    }
   ],
   "execution_count": 262
  },
  {
   "cell_type": "markdown",
   "metadata": {},
   "source": [
    "## Exercise 12"
   ]
  },
  {
   "cell_type": "markdown",
   "metadata": {},
   "source": [
    "By using the `isinstance` method, check whether the following objects belong to the proposed types (hint: `isinstance`).\n",
    "\n",
    "Visualize this correspondance matrix (object – type), e.g. using numpy and [pcolormesh](https://matplotlib.org/stable/api/_as_gen/matplotlib.pyplot.pcolormesh.html) for visualization."
   ]
  },
  {
   "cell_type": "code",
   "metadata": {
    "ExecuteTime": {
     "end_time": "2024-12-30T13:04:54.839664Z",
     "start_time": "2024-12-30T13:04:54.828315Z"
    }
   },
   "source": [
    "list_of_objects = [\n",
    "    int,\n",
    "    2,\n",
    "    2.,\n",
    "    None,\n",
    "    object,\n",
    "    str,\n",
    "    str(2.),\n",
    "    float('2.0'),\n",
    "    'hello',\n",
    "    dict,\n",
    "    list,\n",
    "    [dict],\n",
    "    {1: []}\n",
    "]\n",
    "\n",
    "list_of_types = [\n",
    "    int,\n",
    "    float,\n",
    "    object,\n",
    "    str,\n",
    "    dict,\n",
    "    list\n",
    "]"
   ],
   "outputs": [],
   "execution_count": 265
  },
  {
   "metadata": {
    "ExecuteTime": {
     "end_time": "2024-12-30T13:36:34.662730Z",
     "start_time": "2024-12-30T13:36:34.625521Z"
    }
   },
   "cell_type": "code",
   "source": [
    "import numpy as np\n",
    "\n",
    "correspondence_matrix = np.zeros((len(list_of_objects), len(list_of_types)), dtype=int)\n",
    "\n",
    "for i, obj in enumerate(list_of_objects):\n",
    "    for j, typ in enumerate(list_of_types):\n",
    "        correspondence_matrix[i, j] = isinstance(obj, typ)"
   ],
   "outputs": [],
   "execution_count": 268
  },
  {
   "metadata": {
    "ExecuteTime": {
     "end_time": "2024-12-30T13:37:10.827174Z",
     "start_time": "2024-12-30T13:37:10.818329Z"
    }
   },
   "cell_type": "code",
   "source": [
    "object_labels = [repr(obj) for obj in list_of_objects]\n",
    "type_labels = [typ.__name__ for typ in list_of_types]"
   ],
   "outputs": [],
   "execution_count": 270
  },
  {
   "metadata": {
    "ExecuteTime": {
     "end_time": "2024-12-30T13:49:39.554888Z",
     "start_time": "2024-12-30T13:49:39.459119Z"
    }
   },
   "cell_type": "code",
   "source": [
    "import warnings\n",
    "warnings.filterwarnings('ignore')"
   ],
   "outputs": [],
   "execution_count": 283
  },
  {
   "metadata": {
    "ExecuteTime": {
     "end_time": "2024-12-30T13:49:40.318025Z",
     "start_time": "2024-12-30T13:49:40.209093Z"
    }
   },
   "cell_type": "code",
   "source": [
    "fig, ax = plt.subplots()\n",
    "ax.pcolormesh(type_labels, object_labels, correspondence_matrix, edgecolors='k', linewidth=4)\n",
    "\n",
    "ax.invert_yaxis()\n",
    "ax.set_xlabel('Types')\n",
    "ax.set_ylabel('Objects')\n",
    "ax.set_title('Isinstance correspondence matrix')\n"
   ],
   "outputs": [
    {
     "data": {
      "text/plain": [
       "Text(0.5, 1.0, 'Isinstance correspondence matrix')"
      ]
     },
     "execution_count": 284,
     "metadata": {},
     "output_type": "execute_result"
    },
    {
     "data": {
      "text/plain": [
       "<Figure size 640x480 with 1 Axes>"
      ],
      "image/png": "[encoded data removed]"
     },
     "metadata": {},
     "output_type": "display_data"
    }
   ],
   "execution_count": 284
  }
 ],
 "metadata": {
  "colab": {
   "collapsed_sections": [],
   "name": "home-assignment04",
   "provenance": []
  },
  "kernelspec": {
   "display_name": "Python 3 (ipykernel)",
   "language": "python",
   "name": "python3"
  },
  "language_info": {
   "codemirror_mode": {
    "name": "ipython",
    "version": 3
   },
   "file_extension": ".py",
   "mimetype": "text/x-python",
   "name": "python",
   "nbconvert_exporter": "python",
   "pygments_lexer": "ipython3",
   "version": "3.8.12"
  }
 },
 "nbformat": 4,
 "nbformat_minor": 1
}
