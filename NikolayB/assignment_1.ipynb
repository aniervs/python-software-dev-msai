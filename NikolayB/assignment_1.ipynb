{
 "cells": [
  {
   "cell_type": "markdown",
   "metadata": {},
   "source": [
    "# Assignment 1"
   ]
  },
  {
   "cell_type": "markdown",
   "metadata": {},
   "source": []
  },
  {
   "cell_type": "code",
   "execution_count": 2,
   "metadata": {},
   "outputs": [],
   "source": [
    "name = \"NikolayB\"\n",
    "if name is None:\n",
    "    raise ValueError(\"Put your full name in the `name` variable\")"
   ]
  },
  {
   "cell_type": "markdown",
   "metadata": {},
   "source": [
    "The objective of this assignment is to test a bunch of different topics we've discussed during our introductory classes. Complete the following exercises:"
   ]
  },
  {
   "cell_type": "markdown",
   "metadata": {},
   "source": [
    "## Instructions"
   ]
  },
  {
   "cell_type": "markdown",
   "metadata": {},
   "source": [
    "Complete the notebook and create a folder with your name, and put the notebook in that folder. Make a Pull Request with your code."
   ]
  },
  {
   "cell_type": "markdown",
   "metadata": {
    "id": "hia1cPPnbt-6"
   },
   "source": [
    "## Exercise 0\n",
    "\n",
    "Write your own simple function with simple documentation and all types of arguments (positional, positional with defaults, arbitrary args, keyword args, arbitrary keyword args)"
   ]
  },
  {
   "cell_type": "code",
   "execution_count": 26,
   "metadata": {
    "id": "82YW6fgZbppO"
   },
   "outputs": [],
   "source": [
    "# your code here\n",
    "def my_function(x:float, x_pow=1.0, *ys, z=1.0, **zs):\n",
    "    \"\"\"\n",
    "    my_function calculates the math expression, using formula:\n",
    "        result = x^x_pow + (y_0+y_1+...+y_n) + z(z_0+z_1+...+z_n)\n",
    "    Parameters:\n",
    "        :param x      (float): x parameter of the formula (positional)\n",
    "        :param x_pow  (float): x_pow parameter of the formula (positional with defaults)\n",
    "        :param ys     (float): (y_0+y_1+...+y_n) parameters of the formula (arbitrary args)\n",
    "        :param z      (float): z parameter of the formula (keyword args,s)\n",
    "        :param zs     (keyword:float): (z_0+z_1+...+z_n) parameters of the formula (arbitrary keyword args)\n",
    "        :return       (float): Calculation result\n",
    "    \"\"\"\n",
    "    print(x_pow)\n",
    "    result = x**x_pow \n",
    "    result +=sum(ys)\n",
    "    for _, zv in zs.items():\n",
    "       result+=z*zv \n",
    "    \n",
    "    return result"
   ]
  },
  {
   "cell_type": "code",
   "execution_count": 15,
   "metadata": {},
   "outputs": [
    {
     "name": "stdout",
     "output_type": "stream",
     "text": [
      "3.0\n",
      "13.0\n"
     ]
    }
   ],
   "source": [
    "print(my_function(1.,3.,4.,5., z_0=1.0,z_1=2.0))"
   ]
  },
  {
   "cell_type": "markdown",
   "metadata": {
    "id": "HYhlKVnwTYzD"
   },
   "source": [
    "## Exercise 1\n"
   ]
  },
  {
   "cell_type": "code",
   "execution_count": 7,
   "metadata": {
    "id": "gv_TvLaHTXh8"
   },
   "outputs": [],
   "source": [
    "def is_prime(n):\n",
    "    \"\"\"\n",
    "    Check if the number is prime or not.\n",
    "    \"\"\"\n",
    "    # your code here\n",
    "    if(n==2):\n",
    "        return True\n",
    "    \n",
    "    for i in range (2, n//2):\n",
    "        if(n%i == 0):\n",
    "            return False\n",
    "        \n",
    "    return True"
   ]
  },
  {
   "cell_type": "code",
   "execution_count": 8,
   "metadata": {},
   "outputs": [
    {
     "name": "stdout",
     "output_type": "stream",
     "text": [
      "True\n",
      "True\n",
      "False\n",
      "True\n",
      "True\n",
      "False\n",
      "True\n"
     ]
    }
   ],
   "source": [
    "print(is_prime(2))\n",
    "print(is_prime(11))\n",
    "print(is_prime(300))\n",
    "print(is_prime(241))\n",
    "print(is_prime(2797))\n",
    "print(is_prime(2799))\n",
    "print(is_prime(47417))\n",
    "\n"
   ]
  },
  {
   "cell_type": "markdown",
   "metadata": {
    "id": "1FXsMX-RKOBG"
   },
   "source": [
    "## Exercise 2\n",
    "\n",
    "[Inspect](https://docs.python.org/3.7/library/inspect.html) will help you. Use `my_function` for tests.\n",
    "\n"
   ]
  },
  {
   "cell_type": "code",
   "execution_count": 29,
   "metadata": {
    "id": "g68Y9DfNQcYD"
   },
   "outputs": [],
   "source": [
    "import inspect\n",
    "\n",
    "def inspect_function(func):\n",
    "    \"\"\"\n",
    "    Takes another function as an argument (but not built-in) \n",
    "    and print the following data: \n",
    "    the name of the analyzed function, \n",
    "    the name of all the arguments it takes \n",
    "    and their types (positional, keyword, etc.)\n",
    "    \"\"\"\n",
    "    # your code here\n",
    "\n",
    "    print(\"Function name: \", func.__name__)\n",
    "    print()\n",
    "    sig = inspect.signature(func)\n",
    "    for name, param in sig.parameters.items():\n",
    "        print(f\"Parameter name: {name}\")\n",
    "        print(f\"  Default:   {param.default}\")\n",
    "        print(f\"  Type:      {param.kind}\")\n",
    "        print()\n"
   ]
  },
  {
   "cell_type": "code",
   "execution_count": 30,
   "metadata": {},
   "outputs": [
    {
     "name": "stdout",
     "output_type": "stream",
     "text": [
      "Function name:  my_function\n",
      "\n",
      "Parameter name: x\n",
      "  Default:   <class 'inspect._empty'>\n",
      "  Type:      POSITIONAL_OR_KEYWORD\n",
      "\n",
      "Parameter name: x_pow\n",
      "  Default:   1.0\n",
      "  Type:      POSITIONAL_OR_KEYWORD\n",
      "\n",
      "Parameter name: ys\n",
      "  Default:   <class 'inspect._empty'>\n",
      "  Type:      VAR_POSITIONAL\n",
      "\n",
      "Parameter name: z\n",
      "  Default:   1.0\n",
      "  Type:      KEYWORD_ONLY\n",
      "\n",
      "Parameter name: zs\n",
      "  Default:   <class 'inspect._empty'>\n",
      "  Type:      VAR_KEYWORD\n",
      "\n"
     ]
    }
   ],
   "source": [
    "inspect_function(my_function)"
   ]
  },
  {
   "cell_type": "markdown",
   "metadata": {
    "id": "oRaKEc0ZIgNs"
   },
   "source": [
    "## Exercise 3"
   ]
  },
  {
   "cell_type": "markdown",
   "metadata": {
    "id": "xmdOYiCrGpUd"
   },
   "source": [
    "The `my_time_now` function is not working correctly. Correct it so that it displays the current time with a message. "
   ]
  },
  {
   "cell_type": "code",
   "execution_count": 40,
   "metadata": {
    "id": "645BoTXIGnHr"
   },
   "outputs": [],
   "source": [
    "from datetime import datetime\n",
    "from time import sleep\n",
    " \n",
    "# wrong function\n",
    "def my_time_now(msg):\n",
    "    dt=datetime.now()\n",
    "    print(msg, dt)\n",
    " \n"
   ]
  },
  {
   "cell_type": "code",
   "execution_count": 41,
   "metadata": {
    "id": "3NeyF9UJHeyd"
   },
   "outputs": [
    {
     "name": "stdout",
     "output_type": "stream",
     "text": [
      "The time is now:  2024-12-21 13:57:22.105719\n",
      "The time is now:  2024-12-21 13:57:23.105911\n",
      "The time is now:  2024-12-21 13:57:24.106151\n"
     ]
    }
   ],
   "source": [
    "# simple tests :)\n",
    "my_time_now('The time is now: ')\n",
    "sleep(1)\n",
    "my_time_now('The time is now: ')\n",
    "sleep(1)\n",
    "my_time_now('The time is now: ')"
   ]
  },
  {
   "cell_type": "markdown",
   "metadata": {
    "id": "Qap8_Jb2ENra"
   },
   "source": [
    "## Exercise 4"
   ]
  },
  {
   "cell_type": "code",
   "execution_count": 42,
   "metadata": {
    "id": "JBwZGo84EMW1"
   },
   "outputs": [],
   "source": [
    "def limit(input_generator, max_count):\n",
    "    \"\"\"\n",
    "    Generator that returns not more than max_count values of the input_generator.\n",
    "    \"\"\"\n",
    "    # your code here    \n",
    "    i = 0\n",
    "    for item in input_generator:\n",
    "        if i == max_count:\n",
    "            break\n",
    "        yield item\n",
    "        i += 1"
   ]
  },
  {
   "cell_type": "markdown",
   "metadata": {
    "id": "BvwCKaOxRQ3N"
   },
   "source": [
    "## Exercise 5\n",
    "\n",
    "Write a generator for an infinite sequence of numbers from the Pascal's triangle. The sequence look like this:\n",
    "`1 1 1 1 2 1 1 3 3 1 1 4 6 4 1 1 5 10 10 5 1 1 6 15 20 15 6 1 1 7 21 35 35 21 7 1 1 8 28 56 70 56 28 8 1 1 9 36 84 126 126 84 36 9 1 ... '\n",
    "\n",
    "Test it with a generator from the previous task)"
   ]
  },
  {
   "cell_type": "code",
   "execution_count": 75,
   "metadata": {
    "id": "EBNNXBUYUqKJ"
   },
   "outputs": [],
   "source": [
    "def pascal_triangle():\n",
    "    x = [1]\n",
    "    while True:\n",
    "        yield x\n",
    "        x = [1] + [x[i] + x[i+1] for i in range(len(x) - 1)] + [1]"
   ]
  },
  {
   "cell_type": "code",
   "execution_count": 78,
   "metadata": {},
   "outputs": [
    {
     "name": "stdout",
     "output_type": "stream",
     "text": [
      "[1]\n",
      "[1, 1]\n",
      "[1, 2, 1]\n",
      "[1, 3, 3, 1]\n",
      "[1, 4, 6, 4, 1]\n",
      "[1, 5, 10, 10, 5, 1]\n",
      "[1, 6, 15, 20, 15, 6, 1]\n",
      "[1, 7, 21, 35, 35, 21, 7, 1]\n",
      "[1, 8, 28, 56, 70, 56, 28, 8, 1]\n",
      "[1, 9, 36, 84, 126, 126, 84, 36, 9, 1]\n",
      "[1, 10, 45, 120, 210, 252, 210, 120, 45, 10, 1]\n",
      "[1, 11, 55, 165, 330, 462, 462, 330, 165, 55, 11, 1]\n",
      "[1, 12, 66, 220, 495, 792, 924, 792, 495, 220, 66, 12, 1]\n",
      "[1, 13, 78, 286, 715, 1287, 1716, 1716, 1287, 715, 286, 78, 13, 1]\n",
      "[1, 14, 91, 364, 1001, 2002, 3003, 3432, 3003, 2002, 1001, 364, 91, 14, 1]\n",
      "[1, 15, 105, 455, 1365, 3003, 5005, 6435, 6435, 5005, 3003, 1365, 455, 105, 15, 1]\n",
      "[1, 16, 120, 560, 1820, 4368, 8008, 11440, 12870, 11440, 8008, 4368, 1820, 560, 120, 16, 1]\n",
      "[1, 17, 136, 680, 2380, 6188, 12376, 19448, 24310, 24310, 19448, 12376, 6188, 2380, 680, 136, 17, 1]\n",
      "[1, 18, 153, 816, 3060, 8568, 18564, 31824, 43758, 48620, 43758, 31824, 18564, 8568, 3060, 816, 153, 18, 1]\n",
      "[1, 19, 171, 969, 3876, 11628, 27132, 50388, 75582, 92378, 92378, 75582, 50388, 27132, 11628, 3876, 969, 171, 19, 1]\n",
      "[1, 20, 190, 1140, 4845, 15504, 38760, 77520, 125970, 167960, 184756, 167960, 125970, 77520, 38760, 15504, 4845, 1140, 190, 20, 1]\n",
      "[1, 21, 210, 1330, 5985, 20349, 54264, 116280, 203490, 293930, 352716, 352716, 293930, 203490, 116280, 54264, 20349, 5985, 1330, 210, 21, 1]\n",
      "[1, 22, 231, 1540, 7315, 26334, 74613, 170544, 319770, 497420, 646646, 705432, 646646, 497420, 319770, 170544, 74613, 26334, 7315, 1540, 231, 22, 1]\n",
      "[1, 23, 253, 1771, 8855, 33649, 100947, 245157, 490314, 817190, 1144066, 1352078, 1352078, 1144066, 817190, 490314, 245157, 100947, 33649, 8855, 1771, 253, 23, 1]\n",
      "[1, 24, 276, 2024, 10626, 42504, 134596, 346104, 735471, 1307504, 1961256, 2496144, 2704156, 2496144, 1961256, 1307504, 735471, 346104, 134596, 42504, 10626, 2024, 276, 24, 1]\n"
     ]
    }
   ],
   "source": [
    "N = 25\n",
    "ttt = limit(pascal_triangle(),N)\n",
    "for _ in range(N):\n",
    "    print(next(ttt))"
   ]
  },
  {
   "cell_type": "markdown",
   "metadata": {
    "id": "vUiY14pIEiNC"
   },
   "source": [
    "## Exercise 6\n"
   ]
  },
  {
   "cell_type": "code",
   "execution_count": 86,
   "metadata": {
    "id": "eGLSDqNHGFYn"
   },
   "outputs": [
    {
     "name": "stdout",
     "output_type": "stream",
     "text": [
      "/home/kola/Documents/MSAI-English/article_5_SGD.docx\n",
      "/home/kola/Documents/MSAI-English/article_3_FFT.docx\n",
      "/home/kola/Documents/MSAI-English/article_2_Random.doc\n",
      "/home/kola/Documents/MSAI-English/article_2_Random.pdf\n",
      "/home/kola/Documents/MSAI-English/article_5_SGD.pdf\n",
      "/home/kola/Documents/MSAI-English/article_3_FFT.pdf\n",
      "/home/kola/Documents/MSAI-English/article_7_DecisionTrees.pdf\n",
      "/home/kola/Documents/MSAI-English/article_6_BackProp.pdf\n",
      "/home/kola/Documents/MSAI-English/article_6_BackProp.odt\n",
      "/home/kola/Documents/MSAI-English/article_2_Random.odt\n",
      "/home/kola/Documents/MSAI-English/article_3_FFT.odt\n",
      "/home/kola/Documents/MSAI-English/article_7_DecisionTrees.odt\n",
      "/home/kola/Documents/MSAI-English/article_5_SGD.odt\n",
      "/home/kola/Documents/MSAI-English/MSAI-English.zip\n",
      "/home/kola/Documents/MSAI-English/test.odt\n"
     ]
    }
   ],
   "source": [
    "import pathlib  # can change to os module if you want\n",
    "import sys\n",
    "\n",
    "def files_sorted_by_size(path_to_dir):\n",
    "    \"\"\"\n",
    "    Return a list of files in path_to_dir sorted by size.\n",
    "    The same size files sorted alphabetically\n",
    "    \"\"\"\n",
    "    # your code here\n",
    "    directory = pathlib.Path(path_to_dir)\n",
    "\n",
    "    files = [ p for p in directory.iterdir() if p.is_file() ]\n",
    "\n",
    "    files_sorted = sorted( files,  key=lambda p: (p.stat().st_size, p.name) )\n",
    "    \n",
    "    return files_sorted\n",
    "\n",
    "for f in files_sorted_by_size(\"/home/kola/Documents/MSAI-English/\"):\n",
    "    print(f) "
   ]
  },
  {
   "cell_type": "markdown",
   "metadata": {
    "id": "43eeoixHSa9Y"
   },
   "source": [
    "## Exercise 7\n",
    "\n",
    "Write a `merge_sorter` generator that merges sorted sequences of integers.\n",
    "\n",
    "The generator takes an arbitrary number of arguments. The argument can be any iterable, including another generator. It is guaranteed that each argument is a sequence of integers, sorted in non-decreasing order."
   ]
  },
  {
   "cell_type": "code",
   "execution_count": 114,
   "metadata": {
    "id": "VHmnqHVaScox"
   },
   "outputs": [
    {
     "name": "stdout",
     "output_type": "stream",
     "text": [
      "Done\n"
     ]
    }
   ],
   "source": [
    "from collections import defaultdict\n",
    "\n",
    "def merge_sorter(*args):\n",
    "    # your code here\n",
    "    arrays = defaultdict(list)\n",
    "    to_sort = []\n",
    "    for arr in args:\n",
    "        arr_iter = iter(arr)\n",
    "        val = next(arr_iter, None)\n",
    "        if(val!=None):\n",
    "            arrays[val].append(arr_iter)\n",
    "            to_sort.append(val)\n",
    "            \n",
    "    while True:\n",
    "        min_val = min(to_sort)\n",
    "        yield min_val\n",
    "        arr_iter = arrays[min_val][0]\n",
    "        arrays[min_val].remove(arr_iter)\n",
    "        val = next(arr_iter, None)\n",
    "        if(val!=None):\n",
    "            arrays[val].append(arr_iter)\n",
    "            to_sort.append(val)\n",
    "\n",
    "print(\"Done\")\n",
    "\n"
   ]
  },
  {
   "cell_type": "code",
   "execution_count": 116,
   "metadata": {},
   "outputs": [
    {
     "name": "stdout",
     "output_type": "stream",
     "text": [
      "1\n",
      "1\n"
     ]
    },
    {
     "ename": "IndexError",
     "evalue": "list index out of range",
     "output_type": "error",
     "traceback": [
      "\u001b[0;31m---------------------------------------------------------------------------\u001b[0m",
      "\u001b[0;31mIndexError\u001b[0m                                Traceback (most recent call last)",
      "Cell \u001b[0;32mIn[116], line 2\u001b[0m\n\u001b[1;32m      1\u001b[0m ms \u001b[38;5;241m=\u001b[39m merge_sorter([\u001b[38;5;241m1\u001b[39m,\u001b[38;5;241m2\u001b[39m,\u001b[38;5;241m3\u001b[39m,\u001b[38;5;241m4\u001b[39m,\u001b[38;5;241m5\u001b[39m,\u001b[38;5;241m90\u001b[39m],[\u001b[38;5;241m6\u001b[39m,\u001b[38;5;241m7\u001b[39m,\u001b[38;5;241m8\u001b[39m,\u001b[38;5;241m9\u001b[39m,\u001b[38;5;241m11\u001b[39m,\u001b[38;5;241m23\u001b[39m],[\u001b[38;5;241m3\u001b[39m,\u001b[38;5;241m3\u001b[39m,\u001b[38;5;241m4\u001b[39m,\u001b[38;5;241m5\u001b[39m,\u001b[38;5;241m5\u001b[39m,\u001b[38;5;241m9\u001b[39m])\n\u001b[0;32m----> 2\u001b[0m \u001b[38;5;28;43;01mfor\u001b[39;49;00m\u001b[43m \u001b[49m\u001b[43mims\u001b[49m\u001b[43m \u001b[49m\u001b[38;5;129;43;01min\u001b[39;49;00m\u001b[43m \u001b[49m\u001b[43mms\u001b[49m\u001b[43m:\u001b[49m\n\u001b[1;32m      3\u001b[0m \u001b[43m    \u001b[49m\u001b[38;5;28;43mprint\u001b[39;49m\u001b[43m \u001b[49m\u001b[43m(\u001b[49m\u001b[43mims\u001b[49m\u001b[43m)\u001b[49m\n",
      "Cell \u001b[0;32mIn[114], line 17\u001b[0m, in \u001b[0;36mmerge_sorter\u001b[0;34m(*args)\u001b[0m\n\u001b[1;32m     15\u001b[0m min_val \u001b[38;5;241m=\u001b[39m \u001b[38;5;28mmin\u001b[39m(to_sort)\n\u001b[1;32m     16\u001b[0m \u001b[38;5;28;01myield\u001b[39;00m min_val\n\u001b[0;32m---> 17\u001b[0m arr_iter \u001b[38;5;241m=\u001b[39m \u001b[43marrays\u001b[49m\u001b[43m[\u001b[49m\u001b[43mmin_val\u001b[49m\u001b[43m]\u001b[49m\u001b[43m[\u001b[49m\u001b[38;5;241;43m0\u001b[39;49m\u001b[43m]\u001b[49m\n\u001b[1;32m     18\u001b[0m arrays[min_val]\u001b[38;5;241m.\u001b[39mremove(arr_iter)\n\u001b[1;32m     19\u001b[0m val \u001b[38;5;241m=\u001b[39m \u001b[38;5;28mnext\u001b[39m(arr_iter, \u001b[38;5;28;01mNone\u001b[39;00m)\n",
      "\u001b[0;31mIndexError\u001b[0m: list index out of range"
     ]
    }
   ],
   "source": [
    "ms = merge_sorter([1,2,3,4,5,90],[6,7,8,9,11,23],[3,3,4,5,5,9])\n",
    "for ims in ms:\n",
    "    print (ims)\n",
    "\n"
   ]
  },
  {
   "cell_type": "markdown",
   "metadata": {
    "id": "7AF_IQRQVQ-k"
   },
   "source": [
    "## Exercise 8\n",
    "\n",
    "Write the decorator `proﬁler`, which, when calling a function, will store in its attributes (not to be confused with arguments) the time of its execution (in seconds, it can be fractional) and the number of recursive calls that occurred during execution. Name the attributes `last_time_taken` and `calls`.\n",
    "It is forbidden to use global variables.\n",
    "The decorator must behave in a decent manner, that is, it must not overwrite the function's documentation.\n",
    "\n",
    "For tests write [Ackermann function](https://en.wikipedia.org/wiki/Ackermann_function)"
   ]
  },
  {
   "cell_type": "code",
   "execution_count": 20,
   "metadata": {
    "id": "WyJ02jbTVQiu"
   },
   "outputs": [],
   "source": [
    "import time\n",
    "import functools\n",
    "\n",
    "import sys\n",
    "sys.setrecursionlimit(10**7)  # Optional: increase recursion limit if needed\n",
    "\n",
    "\n",
    "def profiler(func):\n",
    "\n",
    "    @functools.wraps(func)\n",
    "    \n",
    "    def wrapper(*args, **kwargs):\n",
    "        # first function call\n",
    "        first_call = (wrapper._recur_depth == 0)\n",
    "        if first_call:\n",
    "            wrapper.calls = 0\n",
    "            start_time = time.time()\n",
    "\n",
    "        wrapper._recur_depth += 1\n",
    "\n",
    "        # If this is not first call, we have recursive call\n",
    "        if not first_call:\n",
    "            wrapper.calls += 1\n",
    "\n",
    "        result = func(*args, **kwargs)\n",
    "\n",
    "        wrapper._recur_depth -= 1\n",
    "\n",
    "        # If we’re back to the outermost call level, record the time\n",
    "        if first_call:\n",
    "            end_time = time.time()\n",
    "            wrapper.last_time_taken = end_time - start_time\n",
    "\n",
    "        return result\n",
    "\n",
    "    # Initialize recursion depth attribute on the wrapper\n",
    "    wrapper._recur_depth = 0\n",
    "    # Initialize the attributes that will be set during the call\n",
    "    wrapper.last_time_taken = 0.0\n",
    "    wrapper.calls = 0\n",
    "\n",
    "    return wrapper\n",
    "\n",
    "\n",
    "@profiler\n",
    "def ackermann(m,n):\n",
    "    if m == 0:\n",
    "        return n + 1\n",
    "    if n == 0:\n",
    "        return ackermann(m - 1, 1)\n",
    "    n2 = ackermann(m, n - 1)\n",
    "    return ackermann(m - 1, n2)"
   ]
  },
  {
   "cell_type": "code",
   "execution_count": 21,
   "metadata": {},
   "outputs": [
    {
     "name": "stdout",
     "output_type": "stream",
     "text": [
      "Ackermann(3, 4) = 125\n",
      "Time taken: 0.0035758018493652344\n",
      "Recursive calls: 10306 \n",
      "\n"
     ]
    }
   ],
   "source": [
    "print(\"Ackermann(3, 4) =\", ackermann(3, 4))\n",
    "print(\"Time taken:\", ackermann.last_time_taken)\n",
    "print(\"Recursive calls:\", ackermann.calls, \"\\n\")"
   ]
  },
  {
   "cell_type": "markdown",
   "metadata": {
    "id": "QcjAealUfs2Q"
   },
   "source": [
    "## Exercise 9\n",
    "\n",
    "Write the function `encode` that implements [run-length encoding](https://en.wikipedia.org/wiki/Run-length_encoding) algorithm"
   ]
  },
  {
   "cell_type": "code",
   "execution_count": 20,
   "metadata": {
    "id": "tBhwbMm9fsMv"
   },
   "outputs": [],
   "source": [
    "def encode(sequence):\n",
    "    res = []\n",
    "    prev = None\n",
    "    n = 0\n",
    "   \n",
    "    for s in sequence:\n",
    "        if prev == None:\n",
    "            prev = s\n",
    "        if(prev==s):\n",
    "            n+=1\n",
    "        else:\n",
    "            res.append((n,prev))\n",
    "            prev = None\n",
    "            n = 1\n",
    "           \n",
    "        prev = s\n",
    "\n",
    "    if(prev==s):\n",
    "        res.append((n,prev))\n",
    "    else:\n",
    "        res.append((1,s))\n",
    "    \n",
    "    return res"
   ]
  },
  {
   "cell_type": "code",
   "execution_count": 22,
   "metadata": {},
   "outputs": [
    {
     "name": "stdout",
     "output_type": "stream",
     "text": [
      "[(5, 'A'), (3, 'B'), (1, 'C'), (3, 'D'), (1, 'E')]\n",
      "[(2, 'A'), (3, 'B'), (3, 'A'), (1, 'B'), (1, 'C'), (3, 'D')]\n"
     ]
    }
   ],
   "source": [
    "print(encode(\"AAAAABBBCDDDE\"))\n",
    "print(encode(\"AABBBAAABCDDD\"))"
   ]
  },
  {
   "cell_type": "markdown",
   "metadata": {},
   "source": [
    "## Exercise 10\n",
    "\n",
    "Write a decorator `visualizer` that takes a recursive function and will visualize the recursive calls that are made during the execution.\n",
    "Consider using the `networkx` library or some other one in order to draw the recursion tree.\n",
    "Test it with a recursive function that computes fibonacci."
   ]
  },
  {
   "cell_type": "code",
   "execution_count": 40,
   "metadata": {},
   "outputs": [],
   "source": []
  },
  {
   "cell_type": "code",
   "execution_count": 22,
   "metadata": {},
   "outputs": [],
   "source": [
    "import networkx as nx\n",
    "import matplotlib.pyplot as plt\n",
    "import functools\n",
    "\n",
    "def visualizer(func):\n",
    "   # graph to store function calls\n",
    "    call_graph = nx.DiGraph()\n",
    "    # call stack wityh parent->child relationships\n",
    "    call_stack = []\n",
    "    # Counter to label the repeated calls distinctly\n",
    "    call_id = [0]  \n",
    "\n",
    "    @functools.wraps(func)\n",
    "    def wrapper(*args, **kwargs):\n",
    "        # Increment the count of calls \n",
    "        call_id[0] += 1\n",
    "        # Generate a unique node name based on the function's name & arguments\n",
    "        node_label = f\"{func.__name__}({', '.join(str(a) for a in args)})-{call_id[0]}\"\n",
    "        # If we hacve teh active call on the stack, link from the top of the stack\n",
    "        if call_stack:\n",
    "            call_graph.add_edge(call_stack[-1], node_label)\n",
    "        else:\n",
    "            # very first call!!!\n",
    "            call_graph.add_node(node_label)\n",
    "            \n",
    "        # Push the current node \n",
    "        call_stack.append(node_label)\n",
    "        # Call the function\n",
    "        result = func(*args, **kwargs)\n",
    "        # Pop after teh returning\n",
    "        call_stack.pop()\n",
    "        \n",
    "        return result\n",
    "\n",
    "    # Attach the  function to show the graph\n",
    "    def show_graph():\n",
    "        pos = nx.spring_layout(call_graph)\n",
    "        plt.figure(figsize=(10, 8))\n",
    "        nx.draw_networkx(  call_graph, pos,with_labels=True,   node_size=2000,\n",
    "            font_size=10,   arrows=True, arrowstyle='-|>',   arrowsize=15\n",
    "        )\n",
    "        plt.title(\"Call Graph Visualization\")\n",
    "        plt.axis('off')\n",
    "        plt.show()\n",
    "\n",
    "    # Add the 'show_graph' attribute \n",
    "    wrapper.show_graph = show_graph\n",
    "\n",
    "    return wrapper"
   ]
  },
  {
   "cell_type": "code",
   "execution_count": 23,
   "metadata": {},
   "outputs": [],
   "source": [
    "@visualizer\n",
    "def fibonacci(n):\n",
    "    if n == 0 or n == 1:\n",
    "        return n \n",
    "    return fibonacci(n-1) + fibonacci(n-2)"
   ]
  },
  {
   "cell_type": "code",
   "execution_count": 24,
   "metadata": {},
   "outputs": [
    {
     "name": "stdout",
     "output_type": "stream",
     "text": [
      "fibonacci(5) = 5\n"
     ]
    },
    {
     "data": {
      "image/png": "[encoded data removed]",
      "text/plain": [
       "<Figure size 1000x800 with 1 Axes>"
      ]
     },
     "metadata": {},
     "output_type": "display_data"
    }
   ],
   "source": [
    "result = fibonacci(5)\n",
    "print(f\"fibonacci(5) = {result}\")\n",
    "fibonacci.show_graph()"
   ]
  },
  {
   "cell_type": "markdown",
   "metadata": {},
   "source": [
    "## Exercise 11\n",
    "\n",
    "Now write a decorator `memoizer` that will do caching on the calls of a function (memoization). \n",
    "Decorate fibonacci with the decorators `memoizer`, `profiler` and `visualizer` at the same time (not necessarily in that order). Test that they're working as one would expect."
   ]
  },
  {
   "cell_type": "code",
   "execution_count": 25,
   "metadata": {},
   "outputs": [],
   "source": [
    "import functools\n",
    "def memoizer(func):\n",
    "    cache = {}  \n",
    "    \n",
    "    @functools.wraps(func)\n",
    "    def wrapper(*args, **kwargs):\n",
    "        # The key is a tuple of the arguments + the sorted keyword items,\n",
    "        # so we can handle both positional and keyword arguments.\n",
    "        key = (args, frozenset(kwargs.items()))\n",
    "        \n",
    "        if key in cache:\n",
    "            return cache[key]\n",
    "        \n",
    "        result = func(*args, **kwargs)\n",
    "        cache[key] = result\n",
    "        return result\n",
    "    \n",
    "    wrapper.cache = cache\n",
    "    return wrapper"
   ]
  },
  {
   "cell_type": "code",
   "execution_count": 32,
   "metadata": {},
   "outputs": [],
   "source": [
    "@memoizer\n",
    "#@visualizer\n",
    "@profiler\n",
    "def fibonacci(n):\n",
    "    if n == 0 or n == 1:\n",
    "        return n \n",
    "    return fibonacci(n-1) + fibonacci(n-2)"
   ]
  },
  {
   "cell_type": "code",
   "execution_count": 33,
   "metadata": {},
   "outputs": [
    {
     "name": "stdout",
     "output_type": "stream",
     "text": [
      "Time taken: 0.0\n",
      "Recursive calls: 0 \n",
      "\n"
     ]
    }
   ],
   "source": [
    "result = fibonacci(10)\n",
    "#print(f\"fibonacci_cache = {fibonacci.cache}\")\n",
    "print(\"Time taken:\", fibonacci.last_time_taken)\n",
    "print(\"Recursive calls:\", fibonacci.calls, \"\\n\")\n",
    "#fibonacci.show_graph()"
   ]
  },
  {
   "cell_type": "markdown",
   "metadata": {},
   "source": [
    "## Exercise 12"
   ]
  },
  {
   "cell_type": "markdown",
   "metadata": {},
   "source": [
    "By using the `isinstance` method, check whether the following objects belong to the proposed types (hint: `isinstance`).\n",
    "\n",
    "Visualize this correspondance matrix (object – type), e.g. using numpy and [pcolormesh](https://matplotlib.org/stable/api/_as_gen/matplotlib.pyplot.pcolormesh.html) for visualization."
   ]
  },
  {
   "cell_type": "code",
   "execution_count": 43,
   "metadata": {},
   "outputs": [],
   "source": [
    "list_of_objects = [\n",
    "    int,\n",
    "    2,\n",
    "    2.,\n",
    "    None,\n",
    "    object,\n",
    "    str,\n",
    "    str(2.),\n",
    "    float('2.0'),\n",
    "    'hello',\n",
    "    dict,\n",
    "    list,\n",
    "    [dict],\n",
    "    {1: []}\n",
    "]\n",
    "\n",
    "list_of_types = [\n",
    "    int,\n",
    "    float,\n",
    "    object,\n",
    "    str,\n",
    "    dict,\n",
    "    list\n",
    "]"
   ]
  },
  {
   "cell_type": "markdown",
   "metadata": {},
   "source": []
  }
 ],
 "metadata": {
  "colab": {
   "collapsed_sections": [],
   "name": "home-assignment04",
   "provenance": []
  },
  "kernelspec": {
   "display_name": "base",
   "language": "python",
   "name": "python3"
  },
  "language_info": {
   "codemirror_mode": {
    "name": "ipython",
    "version": 3
   },
   "file_extension": ".py",
   "mimetype": "text/x-python",
   "name": "python",
   "nbconvert_exporter": "python",
   "pygments_lexer": "ipython3",
   "version": "3.11.5"
  }
 },
 "nbformat": 4,
 "nbformat_minor": 1
}
