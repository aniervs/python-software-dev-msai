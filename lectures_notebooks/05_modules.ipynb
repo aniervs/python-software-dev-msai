{
  "nbformat": 4,
  "nbformat_minor": 0,
  "metadata": {
    "kernelspec": {
      "display_name": "Python 3",
      "language": "python3.6",
      "name": "python3"
    },
    "language_info": {
      "codemirror_mode": {
        "name": "ipython",
        "version": 3
      },
      "file_extension": ".py",
      "mimetype": "text/x-python",
      "name": "python",
      "nbconvert_exporter": "python",
      "pygments_lexer": "ipython3",
      "version": "3.6.1"
    },
    "colab": {
      "name": "09_modules",
      "provenance": [],
      "collapsed_sections": []
    }
  },
  "cells": [
    {
      "cell_type": "markdown",
      "metadata": {
        "id": "pqzO1tVEfgcw"
      },
      "source": [
        "# Modules\n",
        "\n",
        "A module is simply a `.py` file containing a sequence of python statements. It can be used in two ways: either run it as a program, or import it into another module to make available the functions and variables defined there. When imported, all the statements of a module are executed from start to finish, including function and class definitions and variable assignments. However, on re-import, the module is not executed. If you have changed it and want to import the changed version, you need to make special efforts."
      ]
    },
    {
      "cell_type": "code",
      "metadata": {
        "colab": {
          "base_uri": "https://localhost:8080/"
        },
        "id": "vzs88oi3fgcx",
        "outputId": "8d6ddd58-7430-4762-fad8-d32f00135988"
      },
      "source": [
        "import math\n",
        "math, type(math)"
      ],
      "execution_count": 6,
      "outputs": [
        {
          "output_type": "execute_result",
          "data": {
            "text/plain": [
              "(<module 'math' (built-in)>, module)"
            ]
          },
          "metadata": {},
          "execution_count": 6
        }
      ]
    },
    {
      "cell_type": "markdown",
      "metadata": {
        "id": "DnPof33vfgcz"
      },
      "source": [
        "The module has its own namespace. The `import math` statement introduces * an object of type module *` math` into the current namespace. The names defined in the module do not appear in the current namespace - they must be used as `math.what_that`. The dir function returns a list of names in a module (as in a class or object)."
      ]
    },
    {
      "cell_type": "code",
      "metadata": {
        "colab": {
          "base_uri": "https://localhost:8080/"
        },
        "id": "kf2cg9hlfgcz",
        "outputId": "f0c87d6b-4598-4764-eaeb-51961d6f12cf"
      },
      "source": [
        "print(dir(math))"
      ],
      "execution_count": 7,
      "outputs": [
        {
          "output_type": "stream",
          "name": "stdout",
          "text": [
            "['__doc__', '__loader__', '__name__', '__package__', '__spec__', 'acos', 'acosh', 'asin', 'asinh', 'atan', 'atan2', 'atanh', 'ceil', 'copysign', 'cos', 'cosh', 'degrees', 'e', 'erf', 'erfc', 'exp', 'expm1', 'fabs', 'factorial', 'floor', 'fmod', 'frexp', 'fsum', 'gamma', 'gcd', 'hypot', 'inf', 'isclose', 'isfinite', 'isinf', 'isnan', 'ldexp', 'lgamma', 'log', 'log10', 'log1p', 'log2', 'modf', 'nan', 'pi', 'pow', 'radians', 'remainder', 'sin', 'sinh', 'sqrt', 'tan', 'tanh', 'tau', 'trunc']\n"
          ]
        }
      ]
    },
    {
      "cell_type": "code",
      "metadata": {
        "colab": {
          "base_uri": "https://localhost:8080/",
          "height": 35
        },
        "id": "Y0outPX4fgc0",
        "outputId": "29763547-5be9-4ad8-e770-17a60c2e25fe"
      },
      "source": [
        "math.__doc__"
      ],
      "execution_count": 8,
      "outputs": [
        {
          "output_type": "execute_result",
          "data": {
            "application/vnd.google.colaboratory.intrinsic+json": {
              "type": "string"
            },
            "text/plain": [
              "'This module provides access to the mathematical functions\\ndefined by the C standard.'"
            ]
          },
          "metadata": {},
          "execution_count": 8
        }
      ]
    },
    {
      "cell_type": "code",
      "metadata": {
        "colab": {
          "base_uri": "https://localhost:8080/"
        },
        "id": "oiteU4B4fgc0",
        "outputId": "bd05325a-b4c4-4ca2-a874-62d2fa0c1120"
      },
      "source": [
        "math.pi, math.exp"
      ],
      "execution_count": 9,
      "outputs": [
        {
          "output_type": "execute_result",
          "data": {
            "text/plain": [
              "(3.141592653589793, <function math.exp>)"
            ]
          },
          "metadata": {},
          "execution_count": 9
        }
      ]
    },
    {
      "cell_type": "code",
      "metadata": {
        "colab": {
          "base_uri": "https://localhost:8080/"
        },
        "id": "r4mOwF9gfgc1",
        "outputId": "7eceb3af-95af-4e5d-c089-4d421990c68b"
      },
      "source": [
        "math.exp(math.pi)"
      ],
      "execution_count": 10,
      "outputs": [
        {
          "output_type": "execute_result",
          "data": {
            "text/plain": [
              "23.140692632779267"
            ]
          },
          "metadata": {},
          "execution_count": 10
        }
      ]
    },
    {
      "cell_type": "markdown",
      "metadata": {
        "id": "KmnQZnLgfgc2"
      },
      "source": [
        "Built-in functions, classes, etc. of the Python language live in the `builtins` module."
      ]
    },
    {
      "cell_type": "code",
      "metadata": {
        "colab": {
          "base_uri": "https://localhost:8080/"
        },
        "id": "qWyz1p7Nfgc2",
        "outputId": "734b60d4-d9b2-464c-82c6-cb5b0f7e0833"
      },
      "source": [
        "import builtins\n",
        "dir(builtins)"
      ],
      "execution_count": 11,
      "outputs": [
        {
          "output_type": "execute_result",
          "data": {
            "text/plain": [
              "['ArithmeticError',\n",
              " 'AssertionError',\n",
              " 'AttributeError',\n",
              " 'BaseException',\n",
              " 'BlockingIOError',\n",
              " 'BrokenPipeError',\n",
              " 'BufferError',\n",
              " 'BytesWarning',\n",
              " 'ChildProcessError',\n",
              " 'ConnectionAbortedError',\n",
              " 'ConnectionError',\n",
              " 'ConnectionRefusedError',\n",
              " 'ConnectionResetError',\n",
              " 'DeprecationWarning',\n",
              " 'EOFError',\n",
              " 'Ellipsis',\n",
              " 'EnvironmentError',\n",
              " 'Exception',\n",
              " 'False',\n",
              " 'FileExistsError',\n",
              " 'FileNotFoundError',\n",
              " 'FloatingPointError',\n",
              " 'FutureWarning',\n",
              " 'GeneratorExit',\n",
              " 'IOError',\n",
              " 'ImportError',\n",
              " 'ImportWarning',\n",
              " 'IndentationError',\n",
              " 'IndexError',\n",
              " 'InterruptedError',\n",
              " 'IsADirectoryError',\n",
              " 'KeyError',\n",
              " 'KeyboardInterrupt',\n",
              " 'LookupError',\n",
              " 'MemoryError',\n",
              " 'ModuleNotFoundError',\n",
              " 'NameError',\n",
              " 'None',\n",
              " 'NotADirectoryError',\n",
              " 'NotImplemented',\n",
              " 'NotImplementedError',\n",
              " 'OSError',\n",
              " 'OverflowError',\n",
              " 'PendingDeprecationWarning',\n",
              " 'PermissionError',\n",
              " 'ProcessLookupError',\n",
              " 'RecursionError',\n",
              " 'ReferenceError',\n",
              " 'ResourceWarning',\n",
              " 'RuntimeError',\n",
              " 'RuntimeWarning',\n",
              " 'StopAsyncIteration',\n",
              " 'StopIteration',\n",
              " 'SyntaxError',\n",
              " 'SyntaxWarning',\n",
              " 'SystemError',\n",
              " 'SystemExit',\n",
              " 'TabError',\n",
              " 'TimeoutError',\n",
              " 'True',\n",
              " 'TypeError',\n",
              " 'UnboundLocalError',\n",
              " 'UnicodeDecodeError',\n",
              " 'UnicodeEncodeError',\n",
              " 'UnicodeError',\n",
              " 'UnicodeTranslateError',\n",
              " 'UnicodeWarning',\n",
              " 'UserWarning',\n",
              " 'ValueError',\n",
              " 'Warning',\n",
              " 'ZeroDivisionError',\n",
              " '__IPYTHON__',\n",
              " '__build_class__',\n",
              " '__debug__',\n",
              " '__doc__',\n",
              " '__import__',\n",
              " '__loader__',\n",
              " '__name__',\n",
              " '__package__',\n",
              " '__spec__',\n",
              " 'abs',\n",
              " 'all',\n",
              " 'any',\n",
              " 'ascii',\n",
              " 'bin',\n",
              " 'bool',\n",
              " 'breakpoint',\n",
              " 'bytearray',\n",
              " 'bytes',\n",
              " 'callable',\n",
              " 'chr',\n",
              " 'classmethod',\n",
              " 'compile',\n",
              " 'complex',\n",
              " 'copyright',\n",
              " 'credits',\n",
              " 'delattr',\n",
              " 'dict',\n",
              " 'dir',\n",
              " 'display',\n",
              " 'divmod',\n",
              " 'dreload',\n",
              " 'enumerate',\n",
              " 'eval',\n",
              " 'exec',\n",
              " 'execfile',\n",
              " 'filter',\n",
              " 'float',\n",
              " 'format',\n",
              " 'frozenset',\n",
              " 'get_ipython',\n",
              " 'getattr',\n",
              " 'globals',\n",
              " 'hasattr',\n",
              " 'hash',\n",
              " 'help',\n",
              " 'hex',\n",
              " 'id',\n",
              " 'input',\n",
              " 'int',\n",
              " 'isinstance',\n",
              " 'issubclass',\n",
              " 'iter',\n",
              " 'len',\n",
              " 'license',\n",
              " 'list',\n",
              " 'locals',\n",
              " 'map',\n",
              " 'max',\n",
              " 'memoryview',\n",
              " 'min',\n",
              " 'next',\n",
              " 'object',\n",
              " 'oct',\n",
              " 'open',\n",
              " 'ord',\n",
              " 'pow',\n",
              " 'print',\n",
              " 'property',\n",
              " 'range',\n",
              " 'repr',\n",
              " 'reversed',\n",
              " 'round',\n",
              " 'runfile',\n",
              " 'set',\n",
              " 'setattr',\n",
              " 'slice',\n",
              " 'sorted',\n",
              " 'staticmethod',\n",
              " 'str',\n",
              " 'sum',\n",
              " 'super',\n",
              " 'tuple',\n",
              " 'type',\n",
              " 'vars',\n",
              " 'zip']"
            ]
          },
          "metadata": {},
          "execution_count": 11
        }
      ]
    },
    {
      "cell_type": "markdown",
      "metadata": {
        "id": "hQZ-6E2ufgc3"
      },
      "source": [
        "You can specify a short module name using the `as` operator"
      ]
    },
    {
      "cell_type": "code",
      "metadata": {
        "colab": {
          "base_uri": "https://localhost:8080/"
        },
        "id": "GQ5tZOvKfgc4",
        "outputId": "0383b233-0c3f-4510-e241-5f249693523a"
      },
      "source": [
        "import random as r\n",
        "r"
      ],
      "execution_count": 12,
      "outputs": [
        {
          "output_type": "execute_result",
          "data": {
            "text/plain": [
              "<module 'random' from '/usr/lib/python3.7/random.py'>"
            ]
          },
          "metadata": {},
          "execution_count": 12
        }
      ]
    },
    {
      "cell_type": "markdown",
      "metadata": {
        "id": "e5X4XvKSfgc5"
      },
      "source": [
        "This form of the import statement introduces the listed names (functions, variables, classes) from the module into the current namespace. Better to import only the functions and classes you need. In this case, you do not need to write the module name in front of each."
      ]
    },
    {
      "cell_type": "code",
      "metadata": {
        "collapsed": true,
        "id": "ri4xg164fgc6"
      },
      "source": [
        "from sys import path  \n",
        "# from module import smth1\n",
        "# from module import smth2"
      ],
      "execution_count": 14,
      "outputs": []
    },
    {
      "cell_type": "markdown",
      "metadata": {
        "id": "ywZeVxZHfgc6"
      },
      "source": [
        "The variable `path` is a list of directory names in which the` import` statement looks for modules. At the beginning, it includes `` '' - the directory in which the current program is located (or the current directory in the case of an interactive session); directories listed in the `PYTHONPATH` environment variable (if there is such a variable); and standard directories for this version of python. But this is a normal list, it can be changed using standard language tools. For example, it is dangerous to include the current directory in `path` - if someone slips a malicious version of` math.py` into his directory, and the user program executes `import math`, then this module will be executed, and may, say, delete all files of this user. But you can do `path = path [1:]`."
      ]
    },
    {
      "cell_type": "code",
      "metadata": {
        "colab": {
          "base_uri": "https://localhost:8080/"
        },
        "id": "HDxhuXGcfgc7",
        "outputId": "a5dbfebc-d305-40f4-fdcf-29e8e25e0ba3"
      },
      "source": [
        "path"
      ],
      "execution_count": 15,
      "outputs": [
        {
          "output_type": "execute_result",
          "data": {
            "text/plain": [
              "['',\n",
              " '/content',\n",
              " '/env/python',\n",
              " '/usr/lib/python37.zip',\n",
              " '/usr/lib/python3.7',\n",
              " '/usr/lib/python3.7/lib-dynload',\n",
              " '/usr/local/lib/python3.7/dist-packages',\n",
              " '/usr/lib/python3/dist-packages',\n",
              " '/usr/local/lib/python3.7/dist-packages/IPython/extensions',\n",
              " '/root/.ipython']"
            ]
          },
          "metadata": {},
          "execution_count": 15
        }
      ]
    },
    {
      "cell_type": "code",
      "metadata": {
        "colab": {
          "base_uri": "https://localhost:8080/"
        },
        "id": "ZMLaXUsDfgc7",
        "outputId": "530d6266-8b4b-4ed8-de5d-8c486aef3d01"
      },
      "source": [
        "path.append('/content/dir_name/one_more_dir_name')\n",
        "path"
      ],
      "execution_count": 16,
      "outputs": [
        {
          "output_type": "execute_result",
          "data": {
            "text/plain": [
              "['',\n",
              " '/content',\n",
              " '/env/python',\n",
              " '/usr/lib/python37.zip',\n",
              " '/usr/lib/python3.7',\n",
              " '/usr/lib/python3.7/lib-dynload',\n",
              " '/usr/local/lib/python3.7/dist-packages',\n",
              " '/usr/lib/python3/dist-packages',\n",
              " '/usr/local/lib/python3.7/dist-packages/IPython/extensions',\n",
              " '/root/.ipython',\n",
              " '/content/dir_name/one_more_dir_name']"
            ]
          },
          "metadata": {},
          "execution_count": 16
        }
      ]
    },
    {
      "cell_type": "markdown",
      "metadata": {
        "id": "gS_InhfLfgc8"
      },
      "source": [
        "In python, everything is an object that we can give our own names to."
      ]
    },
    {
      "cell_type": "code",
      "metadata": {
        "collapsed": true,
        "id": "BHcjcZeIfgc8"
      },
      "source": [
        "from math import factorial as f"
      ],
      "execution_count": 17,
      "outputs": []
    },
    {
      "cell_type": "code",
      "metadata": {
        "colab": {
          "base_uri": "https://localhost:8080/"
        },
        "id": "v96QcNlvfgc8",
        "outputId": "cc3753d8-c1be-4402-8f1b-3654413cec60"
      },
      "source": [
        "f(100)"
      ],
      "execution_count": 18,
      "outputs": [
        {
          "output_type": "execute_result",
          "data": {
            "text/plain": [
              "93326215443944152681699238856266700490715968264381621468592963895217599993229915608941463976156518286253697920827223758251185210916864000000000000000000000000"
            ]
          },
          "metadata": {},
          "execution_count": 18
        }
      ]
    },
    {
      "cell_type": "code",
      "metadata": {
        "colab": {
          "base_uri": "https://localhost:8080/",
          "height": 166
        },
        "id": "0H0uZ9K9mkUi",
        "outputId": "6b567306-9a03-419c-9137-de3871158c3f"
      },
      "source": [
        "factorial(100)"
      ],
      "execution_count": 19,
      "outputs": [
        {
          "output_type": "error",
          "ename": "NameError",
          "evalue": "ignored",
          "traceback": [
            "\u001b[0;31m---------------------------------------------------------------------------\u001b[0m",
            "\u001b[0;31mNameError\u001b[0m                                 Traceback (most recent call last)",
            "\u001b[0;32m<ipython-input-19-56d2ad2f5e21>\u001b[0m in \u001b[0;36m<module>\u001b[0;34m()\u001b[0m\n\u001b[0;32m----> 1\u001b[0;31m \u001b[0mfactorial\u001b[0m\u001b[0;34m(\u001b[0m\u001b[0;36m100\u001b[0m\u001b[0;34m)\u001b[0m\u001b[0;34m\u001b[0m\u001b[0;34m\u001b[0m\u001b[0m\n\u001b[0m",
            "\u001b[0;31mNameError\u001b[0m: name 'factorial' is not defined"
          ]
        }
      ]
    },
    {
      "cell_type": "markdown",
      "metadata": {
        "id": "O_fmL_Hmfgc8"
      },
      "source": [
        "There is also a `from ... import *` statement, which imports into the current namespace all names defined in the module. This is usually a bad idea.\n",
        "\n",
        "For example, the current directory contains the file `fact.py`. We are working in `ipython`, which provides all sorts of facilities for interactive work. For example, you can execute a `shell` command if you put`! `At the beginning of a line (just don't try this in a regular python interpreter). So it's easy to print this file. It defines one function `fact`."
      ]
    },
    {
      "cell_type": "code",
      "metadata": {
        "id": "km7uxSddnF0P"
      },
      "source": [
        "from fact import *"
      ],
      "execution_count": 23,
      "outputs": []
    },
    {
      "cell_type": "code",
      "metadata": {
        "colab": {
          "base_uri": "https://localhost:8080/"
        },
        "id": "vpbxR1G6fgc9",
        "outputId": "500c3a23-66ef-42de-f3ae-330a130a41f8"
      },
      "source": [
        "!cat fact.py"
      ],
      "execution_count": 21,
      "outputs": [
        {
          "output_type": "stream",
          "name": "stdout",
          "text": [
            "#!/usr/bin/env python3\n",
            "'This module defines the function fact'\n",
            "\n",
            "def fact(n):\n",
            "    'calculate factorial of n'\n",
            "    assert type(n) is int and n >= 0\n",
            "    r = 1\n",
            "    for i in range(2, n + 1):\n",
            "        r *= i\n",
            "    return r\n",
            "\n",
            "if __name__ == '__main__':\n",
            "    from sys import argv, exit\n",
            "    if len(argv) != 2:\n",
            "        print('usage: ./fact.py n')\n",
            "        exit(1)\n",
            "    print(fact(int(argv[1])))"
          ]
        }
      ]
    },
    {
      "cell_type": "code",
      "metadata": {
        "colab": {
          "base_uri": "https://localhost:8080/",
          "height": 35
        },
        "id": "gjYLyUUQ057F",
        "outputId": "3bb12417-bac1-4438-978e-06e3e0bd7155"
      },
      "source": [
        "fact.__doc__"
      ],
      "execution_count": 24,
      "outputs": [
        {
          "output_type": "execute_result",
          "data": {
            "application/vnd.google.colaboratory.intrinsic+json": {
              "type": "string"
            },
            "text/plain": [
              "'calculate factorial of n'"
            ]
          },
          "metadata": {},
          "execution_count": 24
        }
      ]
    },
    {
      "cell_type": "code",
      "metadata": {
        "id": "hhJE7a8SzoNJ"
      },
      "source": [
        "# python file.py arg1 arg2"
      ],
      "execution_count": null,
      "outputs": []
    },
    {
      "cell_type": "code",
      "metadata": {
        "colab": {
          "base_uri": "https://localhost:8080/"
        },
        "id": "EDofy6-HnXAI",
        "outputId": "68e71e58-97b5-433c-80d8-244d9169fb71"
      },
      "source": [
        "fact(10)"
      ],
      "execution_count": 26,
      "outputs": [
        {
          "output_type": "execute_result",
          "data": {
            "text/plain": [
              "3628800"
            ]
          },
          "metadata": {},
          "execution_count": 26
        }
      ]
    },
    {
      "cell_type": "code",
      "metadata": {
        "colab": {
          "base_uri": "https://localhost:8080/"
        },
        "id": "UkOa27KUfgc_",
        "outputId": "5947220f-1297-457f-d333-0393bc7f8845"
      },
      "source": [
        "help(fact)"
      ],
      "execution_count": 27,
      "outputs": [
        {
          "output_type": "stream",
          "name": "stdout",
          "text": [
            "Help on function fact in module fact:\n",
            "\n",
            "fact(n)\n",
            "    calculate factorial of n\n",
            "\n"
          ]
        }
      ]
    },
    {
      "cell_type": "code",
      "metadata": {
        "colab": {
          "base_uri": "https://localhost:8080/"
        },
        "id": "tZx8c7M-neDk",
        "outputId": "f4fd7dc3-ca1b-4f03-c038-f803ca3ba783"
      },
      "source": [
        "import fact\n",
        "type(fact)"
      ],
      "execution_count": 30,
      "outputs": [
        {
          "output_type": "execute_result",
          "data": {
            "text/plain": [
              "module"
            ]
          },
          "metadata": {},
          "execution_count": 30
        }
      ]
    },
    {
      "cell_type": "code",
      "metadata": {
        "colab": {
          "base_uri": "https://localhost:8080/"
        },
        "id": "4uDvnPa8nnqj",
        "outputId": "0839ecf4-ea64-4758-ab0d-a7b492a26a4f"
      },
      "source": [
        "help(fact)"
      ],
      "execution_count": 31,
      "outputs": [
        {
          "output_type": "stream",
          "name": "stdout",
          "text": [
            "Help on module fact:\n",
            "\n",
            "NAME\n",
            "    fact - This module defines the function fact\n",
            "\n",
            "FUNCTIONS\n",
            "    fact(n)\n",
            "        calculate factorial of n\n",
            "\n",
            "FILE\n",
            "    /content/fact.py\n",
            "\n",
            "\n"
          ]
        }
      ]
    },
    {
      "cell_type": "markdown",
      "metadata": {
        "id": "smzn0pBJfgdA"
      },
      "source": [
        "Each module has a string variable `__name__`, it contains the name of the module. The main program (or interactive session) is also a module, its name is `__main__`. This explains the form of the `if` statement, which appears at the end of the file` fact.py`."
      ]
    },
    {
      "cell_type": "code",
      "metadata": {
        "colab": {
          "base_uri": "https://localhost:8080/",
          "height": 35
        },
        "id": "CTwDqKc5fgdA",
        "outputId": "bd6caf06-543c-40c9-a3e0-dabf7a54e7a7"
      },
      "source": [
        "__name__"
      ],
      "execution_count": null,
      "outputs": [
        {
          "output_type": "execute_result",
          "data": {
            "application/vnd.google.colaboratory.intrinsic+json": {
              "type": "string"
            },
            "text/plain": [
              "'__main__'"
            ]
          },
          "metadata": {
            "tags": []
          },
          "execution_count": 79
        }
      ]
    },
    {
      "cell_type": "code",
      "metadata": {
        "colab": {
          "base_uri": "https://localhost:8080/",
          "height": 35
        },
        "id": "v-r87EbSfgdB",
        "outputId": "f30edda4-2233-4a5d-a5c3-bf0a1e9b2dab"
      },
      "source": [
        "r.__name__"
      ],
      "execution_count": 32,
      "outputs": [
        {
          "output_type": "execute_result",
          "data": {
            "application/vnd.google.colaboratory.intrinsic+json": {
              "type": "string"
            },
            "text/plain": [
              "'random'"
            ]
          },
          "metadata": {},
          "execution_count": 32
        }
      ]
    },
    {
      "cell_type": "markdown",
      "metadata": {
        "id": "EgfrY4QSfgdB"
      },
      "source": [
        "Modules do not have to be located directly in some directory from `sys.path`; they can be in a subdirectory. For example, in the current directory (included in `path`) there is a subdirectory` d1`, within which there is a subdirectory `d2`."
      ]
    },
    {
      "cell_type": "code",
      "metadata": {
        "colab": {
          "base_uri": "https://localhost:8080/"
        },
        "id": "cwZ1qy-_fgdB",
        "outputId": "82c4b36c-a051-4ca5-d2f6-7cfe2450d471"
      },
      "source": [
        "!ls"
      ],
      "execution_count": 33,
      "outputs": [
        {
          "output_type": "stream",
          "name": "stdout",
          "text": [
            "d1  fact.py  p1  __pycache__  sample_data\n"
          ]
        }
      ]
    },
    {
      "cell_type": "code",
      "metadata": {
        "colab": {
          "base_uri": "https://localhost:8080/"
        },
        "id": "4eqqAPPK6ts8",
        "outputId": "249f2246-047c-4c4c-d18b-6b61f6deb8ef"
      },
      "source": [
        "!ls d1"
      ],
      "execution_count": 34,
      "outputs": [
        {
          "output_type": "stream",
          "name": "stdout",
          "text": [
            "d2  m1.py\n"
          ]
        }
      ]
    },
    {
      "cell_type": "code",
      "metadata": {
        "colab": {
          "base_uri": "https://localhost:8080/"
        },
        "id": "Y8zYXfpS7HSh",
        "outputId": "b001dbc7-b1a6-4fac-f1ca-f9a895bc8eca"
      },
      "source": [
        "ls d1/d2"
      ],
      "execution_count": 37,
      "outputs": [
        {
          "output_type": "stream",
          "name": "stdout",
          "text": [
            "m2.py\n"
          ]
        }
      ]
    },
    {
      "cell_type": "code",
      "metadata": {
        "colab": {
          "base_uri": "https://localhost:8080/"
        },
        "id": "024H6gw27eE_",
        "outputId": "8877cae1-b1cb-4106-ae30-a8339fb55ba6"
      },
      "source": [
        "ls d1"
      ],
      "execution_count": 38,
      "outputs": [
        {
          "output_type": "stream",
          "name": "stdout",
          "text": [
            "\u001b[0m\u001b[01;34md2\u001b[0m/  m1.py\n"
          ]
        }
      ]
    },
    {
      "cell_type": "markdown",
      "metadata": {
        "id": "FakUiMd5fgdC"
      },
      "source": [
        "We can import the modules `m1` and` m2` like this."
      ]
    },
    {
      "cell_type": "code",
      "metadata": {
        "colab": {
          "base_uri": "https://localhost:8080/"
        },
        "id": "W6b_jWUJfgdC",
        "outputId": "20f85543-dabc-4bb0-b9f3-7fa749eb729e"
      },
      "source": [
        "import d1.m1\n",
        "d1.m1.f1()"
      ],
      "execution_count": 39,
      "outputs": [
        {
          "output_type": "execute_result",
          "data": {
            "text/plain": [
              "1"
            ]
          },
          "metadata": {},
          "execution_count": 39
        }
      ]
    },
    {
      "cell_type": "code",
      "metadata": {
        "colab": {
          "base_uri": "https://localhost:8080/"
        },
        "id": "EyFeongofgdD",
        "outputId": "8aefa575-f117-4b39-d0a4-1c025e2bc24e"
      },
      "source": [
        "import d1.d2.m2\n",
        "d1.d2.m2.f2()"
      ],
      "execution_count": 40,
      "outputs": [
        {
          "output_type": "execute_result",
          "data": {
            "text/plain": [
              "2"
            ]
          },
          "metadata": {},
          "execution_count": 40
        }
      ]
    },
    {
      "cell_type": "markdown",
      "metadata": {
        "id": "9rzcrJl8fgdD"
      },
      "source": [
        "This subtree of directories with modules can be turned into a package that looks like a single module from the user's point of view. To do this, add the file `__init __. Py`. Here is another subtree with the same files `m1.py` and` m2.py`."
      ]
    },
    {
      "cell_type": "code",
      "metadata": {
        "colab": {
          "base_uri": "https://localhost:8080/"
        },
        "id": "Uuo6LeKXfgdD",
        "outputId": "1c982402-ce64-4a5a-f5b9-7c1572be9efe"
      },
      "source": [
        "!ls p1"
      ],
      "execution_count": 41,
      "outputs": [
        {
          "output_type": "stream",
          "name": "stdout",
          "text": [
            "__init__.py  m1.py  p2\n"
          ]
        }
      ]
    },
    {
      "cell_type": "code",
      "metadata": {
        "colab": {
          "base_uri": "https://localhost:8080/"
        },
        "id": "cQZ-NIf1fgdD",
        "outputId": "11c07f9f-f4e3-4c9e-f69b-960f6243cfec"
      },
      "source": [
        "!ls p1/p2"
      ],
      "execution_count": 42,
      "outputs": [
        {
          "output_type": "stream",
          "name": "stdout",
          "text": [
            "m2.py\n"
          ]
        }
      ]
    },
    {
      "cell_type": "markdown",
      "metadata": {
        "id": "WUkj347IfgdE"
      },
      "source": [
        "Only added file `__init __.py`."
      ]
    },
    {
      "cell_type": "code",
      "metadata": {
        "colab": {
          "base_uri": "https://localhost:8080/"
        },
        "id": "G8ah-sftfgdE",
        "outputId": "0cd6df8b-eec1-4e4a-a881-c673cc3e796f"
      },
      "source": [
        "!cat p1/__init__.py"
      ],
      "execution_count": 43,
      "outputs": [
        {
          "output_type": "stream",
          "name": "stdout",
          "text": [
            "from p1.m1 import f1\n",
            "from p1.p2.m2 import f2\n"
          ]
        }
      ]
    },
    {
      "cell_type": "markdown",
      "metadata": {
        "id": "eIfJo0cxfgdE"
      },
      "source": [
        "We can now import this package."
      ]
    },
    {
      "cell_type": "code",
      "metadata": {
        "collapsed": true,
        "id": "6rKC0_fvfgdE"
      },
      "source": [
        "import p1"
      ],
      "execution_count": 49,
      "outputs": []
    },
    {
      "cell_type": "markdown",
      "metadata": {
        "id": "hoCvmUuEfgdE"
      },
      "source": [
        "Python finds in `sys.path` the directory` p1` containing `__init __. Py` and interprets it as a package. On import, this `__init __. Py` file is executed to initialize the package. All functions, variables, etc., defined in this file (directly or through import) become symbols of this package. `__init __. py` may not include all functions from modules in this directory tree (and not even all modules); symbols not defined in `__init __. py` are not available after importing the package (of course, the user can always import any module directly and access all of its symbols)."
      ]
    },
    {
      "cell_type": "code",
      "metadata": {
        "id": "_R4KNaNWfgdF"
      },
      "source": [
        "p1.__doc__"
      ],
      "execution_count": 50,
      "outputs": []
    },
    {
      "cell_type": "code",
      "metadata": {
        "colab": {
          "base_uri": "https://localhost:8080/"
        },
        "id": "F-sGUTrpfgdF",
        "outputId": "ab8fb813-0376-41e7-b829-9a05dee59ce7"
      },
      "source": [
        "p1.f1(), p1.f2()"
      ],
      "execution_count": 51,
      "outputs": [
        {
          "output_type": "execute_result",
          "data": {
            "text/plain": [
              "(1, 2)"
            ]
          },
          "metadata": {},
          "execution_count": 51
        }
      ]
    },
    {
      "cell_type": "code",
      "metadata": {
        "id": "ztFdZqcIpWfx"
      },
      "source": [
        ""
      ],
      "execution_count": null,
      "outputs": []
    }
  ]
}