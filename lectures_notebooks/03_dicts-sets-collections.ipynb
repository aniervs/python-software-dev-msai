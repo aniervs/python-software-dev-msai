{
  "nbformat": 4,
  "nbformat_minor": 0,
  "metadata": {
    "celltoolbar": "Slideshow",
    "kernelspec": {
      "display_name": "Python 3",
      "language": "python",
      "name": "python3"
    },
    "language_info": {
      "codemirror_mode": {
        "name": "ipython",
        "version": 3
      },
      "file_extension": ".py",
      "mimetype": "text/x-python",
      "name": "python",
      "nbconvert_exporter": "python",
      "pygments_lexer": "ipython3",
      "version": "3.8.2"
    },
    "colab": {
      "name": "dicts_sets_collections",
      "provenance": []
    }
  },
  "cells": [
    {
      "cell_type": "code",
      "metadata": {
        "id": "L8mE-jZjodnT"
      },
      "source": [
        "# doesn't work in colab\n",
        "from IPython.core.interactiveshell import InteractiveShell\n",
        "InteractiveShell.ast_node_interactivity = \"all\""
      ],
      "execution_count": 1,
      "outputs": []
    },
    {
      "cell_type": "markdown",
      "metadata": {
        "id": "o3FRY2d9odnW"
      },
      "source": [
        "## Dictionaries, sets, collections\n",
        "\n"
      ]
    },
    {
      "cell_type": "markdown",
      "metadata": {
        "id": "UycSYRpEodnX"
      },
      "source": [
        "### Creating and deleting\n",
        "\n",
        " \n",
        "- When creating two mutable objects separately, they will be guaranteed to be different. For immutable objects, this is not always true.\n",
        "- You do not need to worry about deleting objects, the interpreter will do everything for you"
      ]
    },
    {
      "cell_type": "markdown",
      "metadata": {
        "id": "VNzxaPpIodnX"
      },
      "source": [
        "## Dictionaries\n",
        "\n",
        "Dictionary is a universal tool for expressing relationships between objects, counting, grouping.\n",
        "\n",
        "They are also called **associative arrays or hash tables**."
      ]
    },
    {
      "cell_type": "code",
      "metadata": {
        "colab": {
          "base_uri": "https://localhost:8080/"
        },
        "id": "a29qj1aTodnY",
        "outputId": "12c6eaf8-11c9-4e68-9bf3-24471aa92bbe"
      },
      "source": [
        "a = {'Key1' : 'Value1', 'Key2' : 'Value2'}\n",
        "a"
      ],
      "execution_count": 2,
      "outputs": [
        {
          "output_type": "execute_result",
          "data": {
            "text/plain": [
              "{'Key1': 'Value1', 'Key2': 'Value2'}"
            ]
          },
          "metadata": {},
          "execution_count": 2
        }
      ]
    },
    {
      "cell_type": "code",
      "metadata": {
        "colab": {
          "base_uri": "https://localhost:8080/"
        },
        "id": "vFM74Po2odnY",
        "outputId": "1131ca83-54dd-4f16-9a4c-a6877bd66904"
      },
      "source": [
        "b = dict([(1, 1), (2, 4), (3, 9)])\n",
        "b"
      ],
      "execution_count": 3,
      "outputs": [
        {
          "output_type": "execute_result",
          "data": {
            "text/plain": [
              "{1: 1, 2: 4, 3: 9}"
            ]
          },
          "metadata": {},
          "execution_count": 3
        }
      ]
    },
    {
      "cell_type": "markdown",
      "metadata": {
        "id": "gKTG1mcCodnZ"
      },
      "source": [
        "- Any hashable object can be a key. (mutable == not hashable)\n",
        "\n",
        "The defnition of hashable from Python documentation:\n",
        "\n",
        "An object is hashable if it has a hash value which never changes during its lifetime (it needs a __hash__() method), and can be compared to other objects (it needs an __eq__() method). Hashable objects which compare equal must have the same hash value.\n",
        "\n",
        "Hashability makes an object usable as a dictionary key and a set member, because these data structures use the hash value internally.\n",
        "\n",
        "Most of Python’s immutable built-in objects are hashable; mutable containers (such as lists or dictionaries) are not; immutable containers (such as tuples and frozensets) are only hashable if their elements are hashable. Objects which are instances of user-defined classes are hashable by default. They all compare unequal (except with themselves), and their hash value is derived from their id().\n",
        "\n",
        "- In short, the object must have the `__hash __ ()` method defined correctly."
      ]
    },
    {
      "cell_type": "markdown",
      "metadata": {
        "id": "XMp38rl2odna"
      },
      "source": [
        "hash(integer1) == integer1"
      ]
    },
    {
      "cell_type": "code",
      "metadata": {
        "colab": {
          "base_uri": "https://localhost:8080/"
        },
        "id": "pB06CpEIodna",
        "outputId": "3d7f2051-62db-4b48-8757-5447bfb51370"
      },
      "source": [
        "print(hash(343))\n",
        "print(hash(True))\n",
        "print(hash(False))\n",
        "print(hash('hello'))"
      ],
      "execution_count": 4,
      "outputs": [
        {
          "output_type": "stream",
          "name": "stdout",
          "text": [
            "343\n",
            "1\n",
            "0\n",
            "4872922895244069508\n"
          ]
        }
      ]
    },
    {
      "cell_type": "code",
      "metadata": {
        "colab": {
          "base_uri": "https://localhost:8080/"
        },
        "id": "r0S-M1ibodnb",
        "outputId": "817ee0a0-5d10-4c05-d864-4aefdb6bd892"
      },
      "source": [
        "print(hash(6.5)) # it's tricky to hash floats because of accuracy of float number representations\n",
        "          # message: you better be careful with hashing floats or even avoid it at all\n",
        "hash(round(6.50443, 2)) # or at least you better use round() for hashing float"
      ],
      "execution_count": 5,
      "outputs": [
        {
          "output_type": "stream",
          "name": "stdout",
          "text": [
            "1152921504606846982\n"
          ]
        },
        {
          "output_type": "execute_result",
          "data": {
            "text/plain": [
              "1152921504606846982"
            ]
          },
          "metadata": {},
          "execution_count": 5
        }
      ]
    },
    {
      "cell_type": "code",
      "metadata": {
        "colab": {
          "base_uri": "https://localhost:8080/"
        },
        "id": "dNkiMtX9odnb",
        "outputId": "a8fbdb92-0edc-4447-c81a-fea2c4bc2575"
      },
      "source": [
        "print(hash('aaa'))\n",
        "print(hash('aab'))"
      ],
      "execution_count": 6,
      "outputs": [
        {
          "output_type": "stream",
          "name": "stdout",
          "text": [
            "-9115871340195304044\n",
            "-4237585056472642869\n"
          ]
        }
      ]
    },
    {
      "cell_type": "markdown",
      "metadata": {
        "id": "XHMDnAMIodnc"
      },
      "source": [
        "#### Note: after restarting the interpreter, complex objects (for example, strings) will have a different hash value"
      ]
    },
    {
      "cell_type": "markdown",
      "metadata": {
        "id": "UPuEoIlwodnc"
      },
      "source": [
        "lists in Python are not hashable"
      ]
    },
    {
      "cell_type": "code",
      "metadata": {
        "colab": {
          "base_uri": "https://localhost:8080/"
        },
        "id": "lBDFH0unodnc",
        "outputId": "056bb172-cda0-4ba7-e1cd-08a5f1efbc99"
      },
      "source": [
        "[1].__hash__ is None  # __hash__ method is not defined for list"
      ],
      "execution_count": 7,
      "outputs": [
        {
          "output_type": "execute_result",
          "data": {
            "text/plain": [
              "True"
            ]
          },
          "metadata": {},
          "execution_count": 7
        }
      ]
    },
    {
      "cell_type": "markdown",
      "metadata": {
        "id": "dFaM_mb_odnc"
      },
      "source": [
        "Can I use dict as a key for another dict?"
      ]
    },
    {
      "cell_type": "code",
      "metadata": {
        "colab": {
          "base_uri": "https://localhost:8080/",
          "height": 183
        },
        "id": "onG-B8M0odnc",
        "outputId": "3bcd9f18-0e0b-46f0-fe0f-17f7fa61e5fa"
      },
      "source": [
        "d1 = {1: 'b'}\n",
        "d2 = {d1: 'abc'}"
      ],
      "execution_count": 9,
      "outputs": [
        {
          "output_type": "error",
          "ename": "TypeError",
          "evalue": "ignored",
          "traceback": [
            "\u001b[0;31m---------------------------------------------------------------------------\u001b[0m",
            "\u001b[0;31mTypeError\u001b[0m                                 Traceback (most recent call last)",
            "\u001b[0;32m<ipython-input-9-26b72dd798aa>\u001b[0m in \u001b[0;36m<module>\u001b[0;34m()\u001b[0m\n\u001b[1;32m      1\u001b[0m \u001b[0md1\u001b[0m \u001b[0;34m=\u001b[0m \u001b[0;34m{\u001b[0m\u001b[0;36m1\u001b[0m\u001b[0;34m:\u001b[0m \u001b[0;34m'b'\u001b[0m\u001b[0;34m}\u001b[0m\u001b[0;34m\u001b[0m\u001b[0;34m\u001b[0m\u001b[0m\n\u001b[0;32m----> 2\u001b[0;31m \u001b[0md2\u001b[0m \u001b[0;34m=\u001b[0m \u001b[0;34m{\u001b[0m\u001b[0md1\u001b[0m\u001b[0;34m:\u001b[0m \u001b[0;34m'abc'\u001b[0m\u001b[0;34m}\u001b[0m\u001b[0;34m\u001b[0m\u001b[0;34m\u001b[0m\u001b[0m\n\u001b[0m",
            "\u001b[0;31mTypeError\u001b[0m: unhashable type: 'dict'"
          ]
        }
      ]
    },
    {
      "cell_type": "code",
      "metadata": {
        "colab": {
          "base_uri": "https://localhost:8080/"
        },
        "id": "EVSht7rFodnd",
        "outputId": "ba3f52f6-7c90-4bbd-d090-609cbdc3aac9"
      },
      "source": [
        "{1: 'b'}.__hash__ is None  # dict is also not hashable"
      ],
      "execution_count": 10,
      "outputs": [
        {
          "output_type": "execute_result",
          "data": {
            "text/plain": [
              "True"
            ]
          },
          "metadata": {},
          "execution_count": 10
        }
      ]
    },
    {
      "cell_type": "markdown",
      "metadata": {
        "id": "5Ph0z-sdodnd"
      },
      "source": [
        "You can iterate through the dictionary, both by key and by value."
      ]
    },
    {
      "cell_type": "code",
      "metadata": {
        "colab": {
          "base_uri": "https://localhost:8080/"
        },
        "id": "oszuJ5Bxtwlr",
        "outputId": "926ec09c-30d6-4966-a4ec-0c2670074ba7"
      },
      "source": [
        "# iterating\n",
        "dictionary = {'a': 1, 'b': 2, 'c': 3}\n",
        "   \n",
        "for k in dictionary.keys():\n",
        "    print(k)"
      ],
      "execution_count": 11,
      "outputs": [
        {
          "output_type": "stream",
          "name": "stdout",
          "text": [
            "a\n",
            "b\n",
            "c\n"
          ]
        }
      ]
    },
    {
      "cell_type": "code",
      "metadata": {
        "colab": {
          "base_uri": "https://localhost:8080/"
        },
        "id": "vspkjSXCodnd",
        "outputId": "dbd40cc4-547d-454a-f332-5de451d2f879"
      },
      "source": [
        "for k in dictionary:  # equivalent to iterating by keys but Python Zen says explicit is better than implicit\n",
        "    print(k)          # that's why it's better to add \".keys()\" in order to improve your code readability\n",
        "                      # too readable code hasn’t hurt anyone yet\n",
        "        \n",
        "# always keep order in mind!"
      ],
      "execution_count": 12,
      "outputs": [
        {
          "output_type": "stream",
          "name": "stdout",
          "text": [
            "a\n",
            "b\n",
            "c\n"
          ]
        }
      ]
    },
    {
      "cell_type": "code",
      "metadata": {
        "colab": {
          "base_uri": "https://localhost:8080/"
        },
        "id": "pbtPh4Y0odnd",
        "outputId": "369ba18a-bb16-4c98-f8c2-9c90e2629cf4"
      },
      "source": [
        "for v in dictionary.values(): # iterating by values\n",
        "    print(v)"
      ],
      "execution_count": 13,
      "outputs": [
        {
          "output_type": "stream",
          "name": "stdout",
          "text": [
            "1\n",
            "2\n",
            "3\n"
          ]
        }
      ]
    },
    {
      "cell_type": "code",
      "metadata": {
        "colab": {
          "base_uri": "https://localhost:8080/"
        },
        "id": "N6KK9axDodne",
        "outputId": "2d27ad98-e6f7-45b0-df64-65f5524f5b2d"
      },
      "source": [
        "for pair in dictionary.items(): # iterating by key-value pairs\n",
        "    print(pair)\n",
        "    \n",
        "    \n",
        "for k, v in dictionary.items(): # iterating by key-value pairs\n",
        "    print(k, v)"
      ],
      "execution_count": 14,
      "outputs": [
        {
          "output_type": "stream",
          "name": "stdout",
          "text": [
            "('a', 1)\n",
            "('b', 2)\n",
            "('c', 3)\n",
            "a 1\n",
            "b 2\n",
            "c 3\n"
          ]
        }
      ]
    },
    {
      "cell_type": "code",
      "metadata": {
        "colab": {
          "base_uri": "https://localhost:8080/"
        },
        "id": "fdalVW7sodne",
        "outputId": "4a0b9695-37a7-4759-e885-e22b9c498f28"
      },
      "source": [
        "print(a) # constructors:\n",
        "a = dict(a=1, b=2, c=3)\n",
        "print(a)\n",
        "keys = [\"Petya\", \"Vasya\", \"Masha\"]\n",
        "values = [20, 21, 22]\n",
        "\n",
        "dictionary = dict(zip(keys, values)) # probably the most convenient way to create a dict from two lists \n",
        "                                     # we will talk about zip() function later\n",
        "dictionary"
      ],
      "execution_count": 15,
      "outputs": [
        {
          "output_type": "stream",
          "name": "stdout",
          "text": [
            "{'Key1': 'Value1', 'Key2': 'Value2'}\n",
            "{'a': 1, 'b': 2, 'c': 3}\n"
          ]
        },
        {
          "output_type": "execute_result",
          "data": {
            "text/plain": [
              "{'Masha': 22, 'Petya': 20, 'Vasya': 21}"
            ]
          },
          "metadata": {},
          "execution_count": 15
        }
      ]
    },
    {
      "cell_type": "code",
      "metadata": {
        "colab": {
          "base_uri": "https://localhost:8080/"
        },
        "id": "Xal4ObbYvBAJ",
        "outputId": "4905132b-d71e-49e9-ace5-00de87fb0c12"
      },
      "source": [
        "print(type(a.keys()))"
      ],
      "execution_count": 16,
      "outputs": [
        {
          "output_type": "stream",
          "name": "stdout",
          "text": [
            "<class 'dict_keys'>\n"
          ]
        }
      ]
    },
    {
      "cell_type": "code",
      "metadata": {
        "colab": {
          "base_uri": "https://localhost:8080/"
        },
        "id": "zyL8g5icodne",
        "outputId": "00132747-3c9e-4393-8942-cb41d1831dde"
      },
      "source": [
        "print(list(a.keys()))\n",
        "print(list(a.values()))\n",
        "print(list(a.items()))"
      ],
      "execution_count": 17,
      "outputs": [
        {
          "output_type": "stream",
          "name": "stdout",
          "text": [
            "['a', 'b', 'c']\n",
            "[1, 2, 3]\n",
            "[('a', 1), ('b', 2), ('c', 3)]\n"
          ]
        }
      ]
    },
    {
      "cell_type": "code",
      "metadata": {
        "colab": {
          "base_uri": "https://localhost:8080/"
        },
        "id": "PqgnS1uOodne",
        "outputId": "d5838551-0a2d-46aa-bb95-c4c1f0e098f3"
      },
      "source": [
        "del dictionary['Vasya']\n",
        "dictionary"
      ],
      "execution_count": 18,
      "outputs": [
        {
          "output_type": "execute_result",
          "data": {
            "text/plain": [
              "{'Masha': 22, 'Petya': 20}"
            ]
          },
          "metadata": {},
          "execution_count": 18
        }
      ]
    },
    {
      "cell_type": "code",
      "metadata": {
        "colab": {
          "base_uri": "https://localhost:8080/"
        },
        "id": "4w5z6h0Nodne",
        "outputId": "ee02328c-c7c9-4ad2-c296-abdfc8c2598f"
      },
      "source": [
        "a.update(dictionary)  # union of two dicts\n",
        "a"
      ],
      "execution_count": 19,
      "outputs": [
        {
          "output_type": "execute_result",
          "data": {
            "text/plain": [
              "{'Masha': 22, 'Petya': 20, 'a': 1, 'b': 2, 'c': 3}"
            ]
          },
          "metadata": {},
          "execution_count": 19
        }
      ]
    },
    {
      "cell_type": "code",
      "metadata": {
        "colab": {
          "base_uri": "https://localhost:8080/"
        },
        "id": "SuRlgrtiodne",
        "outputId": "b79022cf-9aaa-4b4d-9f10-d552b4e867d4"
      },
      "source": [
        "a[('Composite', 'Key')] = [1, 2, 3]   # only immutable objects could be keys in dicts\n",
        "a"
      ],
      "execution_count": 20,
      "outputs": [
        {
          "output_type": "execute_result",
          "data": {
            "text/plain": [
              "{('Composite', 'Key'): [1, 2, 3],\n",
              " 'Masha': 22,\n",
              " 'Petya': 20,\n",
              " 'a': 1,\n",
              " 'b': 2,\n",
              " 'c': 3}"
            ]
          },
          "metadata": {},
          "execution_count": 20
        }
      ]
    },
    {
      "cell_type": "markdown",
      "metadata": {
        "id": "jCdXI73Wodne"
      },
      "source": [
        "## 5 minutes task\n",
        "### Use the new knowledge on dictionary iteration to reverse a dictionary, i.e. to create a dictionary with inverse pairs (value: key). Believe that in the original dictionary the values are also hashable."
      ]
    },
    {
      "cell_type": "code",
      "metadata": {
        "id": "Yv0YCYQmvwAe",
        "colab": {
          "base_uri": "https://localhost:8080/"
        },
        "outputId": "1704830e-7243-474e-d10a-02918497fd99"
      },
      "source": [
        "def rev_dict(d):\n",
        "    my_dict = dict([(v, k) for k, v in d.items()])\n",
        "    return my_dict\n",
        "\n",
        "fast_rev = lambda x : dict([(v, k) for k, v in x.items()])\n",
        "dict_com = lambda x : {v : k for k, v in x.items()}\n",
        "rev_dict(dictionary)\n",
        "fast_rev(dictionary)\n",
        "dict_com(dictionary)"
      ],
      "execution_count": 21,
      "outputs": [
        {
          "output_type": "execute_result",
          "data": {
            "text/plain": [
              "{20: 'Petya', 22: 'Masha'}"
            ]
          },
          "metadata": {},
          "execution_count": 21
        },
        {
          "output_type": "execute_result",
          "data": {
            "text/plain": [
              "{20: 'Petya', 22: 'Masha'}"
            ]
          },
          "metadata": {},
          "execution_count": 21
        },
        {
          "output_type": "execute_result",
          "data": {
            "text/plain": [
              "{20: 'Petya', 22: 'Masha'}"
            ]
          },
          "metadata": {},
          "execution_count": 21
        }
      ]
    },
    {
      "cell_type": "code",
      "metadata": {
        "id": "kp1RfAPow0Hz"
      },
      "source": [
        "dct = {i : i ** 3 for i in range(5)}\n",
        "a = dct.keys()\n",
        "b = dct.values()\n",
        "dct2 = dict(zip(b, a))"
      ],
      "execution_count": 22,
      "outputs": []
    },
    {
      "cell_type": "markdown",
      "metadata": {
        "id": "TvT9Iovyodne"
      },
      "source": [
        "### Remember list comprehensions? There are also dict comprehensions!"
      ]
    },
    {
      "cell_type": "code",
      "metadata": {
        "colab": {
          "base_uri": "https://localhost:8080/"
        },
        "id": "EErcS51_odne",
        "outputId": "a2436162-21da-42b3-ece3-17362aec16ab"
      },
      "source": [
        "dct = {i : i ** 3 for i in range(5)}\n",
        "dct"
      ],
      "execution_count": 23,
      "outputs": [
        {
          "output_type": "execute_result",
          "data": {
            "text/plain": [
              "{0: 0, 1: 1, 2: 8, 3: 27, 4: 64}"
            ]
          },
          "metadata": {},
          "execution_count": 23
        }
      ]
    },
    {
      "cell_type": "code",
      "metadata": {
        "colab": {
          "base_uri": "https://localhost:8080/"
        },
        "id": "IODWwEhgodne",
        "outputId": "284a8f35-abed-411e-94f5-35201c60776b"
      },
      "source": [
        "# Handling the unknown carefully\n",
        "\n",
        "dct = {1:2, 3:4}\n",
        "\n",
        "key = 5\n",
        "\n",
        "res1 = dct.get(key, 'not found')\n",
        "res2 = dct.setdefault(key, 'default')\n",
        "\n",
        "print(res1, res2)\n",
        "\n",
        "dct = {1:2, 3:4, 5:6}\n",
        "\n",
        "res1 = dct.get(key, 'not found')\n",
        "res2 = dct.setdefault(key, 'default')\n",
        "\n",
        "print(res1, res2)"
      ],
      "execution_count": 24,
      "outputs": [
        {
          "output_type": "stream",
          "name": "stdout",
          "text": [
            "not found default\n",
            "6 6\n"
          ]
        }
      ]
    },
    {
      "cell_type": "markdown",
      "metadata": {
        "id": "W3xvkh7Jodnf"
      },
      "source": [
        "### Sets\n",
        "Sets are also based on hash-tables"
      ]
    },
    {
      "cell_type": "code",
      "metadata": {
        "colab": {
          "base_uri": "https://localhost:8080/"
        },
        "id": "CP1VRTykodnf",
        "outputId": "bf0e8f92-1f9f-4c69-8e56-61697ce76a67"
      },
      "source": [
        "a = {1, 2, 3}\n",
        "b = set([2, 3, 4])\n",
        "\n",
        "a.add(5)\n",
        "b.update({5, 6}) # update b with an argument set (union of b and an argument, the result is stored in b)\n",
        "a, b"
      ],
      "execution_count": 25,
      "outputs": [
        {
          "output_type": "execute_result",
          "data": {
            "text/plain": [
              "({1, 2, 3, 5}, {2, 3, 4, 5, 6})"
            ]
          },
          "metadata": {},
          "execution_count": 25
        }
      ]
    },
    {
      "cell_type": "code",
      "metadata": {
        "id": "rx-bLWg_zOGe"
      },
      "source": [
        "t, s = b, a"
      ],
      "execution_count": 26,
      "outputs": []
    },
    {
      "cell_type": "code",
      "metadata": {
        "colab": {
          "base_uri": "https://localhost:8080/"
        },
        "id": "6vr3QvZeodnf",
        "outputId": "bc8b7fba-480d-40e2-c266-c9cba097f923"
      },
      "source": [
        "x = 1\n",
        "print(x in s)\n",
        "print(x not in s)\n",
        "print(s.issubset(t))   #equivalent to s <= t\n",
        "print(s.issuperset(t)) #equivalent to s >= t"
      ],
      "execution_count": 27,
      "outputs": [
        {
          "output_type": "stream",
          "name": "stdout",
          "text": [
            "True\n",
            "False\n",
            "False\n",
            "False\n"
          ]
        }
      ]
    },
    {
      "cell_type": "code",
      "metadata": {
        "colab": {
          "base_uri": "https://localhost:8080/"
        },
        "id": "Cd2YGQlAodnf",
        "outputId": "a0f839fe-23ae-4283-a723-dd33c66701c8"
      },
      "source": [
        "print(a - b)\n",
        "print(b - a)\n",
        "print(a | b) # union\n",
        "print(a & b) # intersection\n",
        "print(a ^ b) # ~ XOR"
      ],
      "execution_count": 28,
      "outputs": [
        {
          "output_type": "stream",
          "name": "stdout",
          "text": [
            "{1}\n",
            "{4, 6}\n",
            "{1, 2, 3, 4, 5, 6}\n",
            "{2, 3, 5}\n",
            "{1, 4, 6}\n"
          ]
        }
      ]
    },
    {
      "cell_type": "code",
      "metadata": {
        "id": "lw3i6_Ovodnf",
        "colab": {
          "base_uri": "https://localhost:8080/"
        },
        "outputId": "49dd8c5e-d31d-4181-a01b-d11cd47829aa"
      },
      "source": [
        "a.difference(b)             # a - b\n",
        "a.union(b)                  # a | b\n",
        "a.intersection(b)           # a & b\n",
        "a.symmetric_difference(b)   # a ^ b\n",
        "\n",
        "a.difference_update(b)            # a -= b\n",
        "a.update(b)                       # a |= b\n",
        "a.intersection_update(b)          # a &= b\n",
        "a.symmetric_difference_update(b)  # a ^= b"
      ],
      "execution_count": 29,
      "outputs": [
        {
          "output_type": "execute_result",
          "data": {
            "text/plain": [
              "{1}"
            ]
          },
          "metadata": {},
          "execution_count": 29
        },
        {
          "output_type": "execute_result",
          "data": {
            "text/plain": [
              "{1, 2, 3, 4, 5, 6}"
            ]
          },
          "metadata": {},
          "execution_count": 29
        },
        {
          "output_type": "execute_result",
          "data": {
            "text/plain": [
              "{2, 3, 5}"
            ]
          },
          "metadata": {},
          "execution_count": 29
        },
        {
          "output_type": "execute_result",
          "data": {
            "text/plain": [
              "{1, 4, 6}"
            ]
          },
          "metadata": {},
          "execution_count": 29
        }
      ]
    },
    {
      "cell_type": "code",
      "metadata": {
        "colab": {
          "base_uri": "https://localhost:8080/",
          "height": 218
        },
        "id": "4lCAn1gUodnf",
        "outputId": "81efcf40-f368-4881-f667-2c606b4e4ea6"
      },
      "source": [
        "a = {1, 2, 3}\n",
        "a.remove(3)\n",
        "print(a)\n",
        "a.remove(3)"
      ],
      "execution_count": 30,
      "outputs": [
        {
          "output_type": "stream",
          "name": "stdout",
          "text": [
            "{1, 2}\n"
          ]
        },
        {
          "output_type": "error",
          "ename": "KeyError",
          "evalue": "ignored",
          "traceback": [
            "\u001b[0;31m---------------------------------------------------------------------------\u001b[0m",
            "\u001b[0;31mKeyError\u001b[0m                                  Traceback (most recent call last)",
            "\u001b[0;32m<ipython-input-30-c5ac46712412>\u001b[0m in \u001b[0;36m<module>\u001b[0;34m()\u001b[0m\n\u001b[1;32m      2\u001b[0m \u001b[0ma\u001b[0m\u001b[0;34m.\u001b[0m\u001b[0mremove\u001b[0m\u001b[0;34m(\u001b[0m\u001b[0;36m3\u001b[0m\u001b[0;34m)\u001b[0m\u001b[0;34m\u001b[0m\u001b[0;34m\u001b[0m\u001b[0m\n\u001b[1;32m      3\u001b[0m \u001b[0mprint\u001b[0m\u001b[0;34m(\u001b[0m\u001b[0ma\u001b[0m\u001b[0;34m)\u001b[0m\u001b[0;34m\u001b[0m\u001b[0;34m\u001b[0m\u001b[0m\n\u001b[0;32m----> 4\u001b[0;31m \u001b[0ma\u001b[0m\u001b[0;34m.\u001b[0m\u001b[0mremove\u001b[0m\u001b[0;34m(\u001b[0m\u001b[0;36m3\u001b[0m\u001b[0;34m)\u001b[0m\u001b[0;34m\u001b[0m\u001b[0;34m\u001b[0m\u001b[0m\n\u001b[0m",
            "\u001b[0;31mKeyError\u001b[0m: 3"
          ]
        }
      ]
    },
    {
      "cell_type": "code",
      "metadata": {
        "colab": {
          "base_uri": "https://localhost:8080/"
        },
        "id": "YL4mj3Iqodng",
        "outputId": "27726f63-e956-48f1-dde5-11bdce03df88"
      },
      "source": [
        "a = {1, 2, 3}\n",
        "a.discard(3)\n",
        "a.discard(3)\n",
        "a"
      ],
      "execution_count": 31,
      "outputs": [
        {
          "output_type": "execute_result",
          "data": {
            "text/plain": [
              "{1, 2}"
            ]
          },
          "metadata": {},
          "execution_count": 31
        }
      ]
    },
    {
      "cell_type": "markdown",
      "metadata": {
        "id": "o7NLJMoEodng"
      },
      "source": [
        "There are also set comprehensions"
      ]
    },
    {
      "cell_type": "code",
      "metadata": {
        "colab": {
          "base_uri": "https://localhost:8080/"
        },
        "id": "ZqOQKnLBodng",
        "outputId": "730ca853-f69c-4328-839c-2ab6d7af4da1"
      },
      "source": [
        "st = {i for i in range(10) if not i % 3}\n",
        "st"
      ],
      "execution_count": 32,
      "outputs": [
        {
          "output_type": "execute_result",
          "data": {
            "text/plain": [
              "{0, 3, 6, 9}"
            ]
          },
          "metadata": {},
          "execution_count": 32
        }
      ]
    },
    {
      "cell_type": "code",
      "metadata": {
        "colab": {
          "base_uri": "https://localhost:8080/",
          "height": 166
        },
        "id": "7-zacSgLodng",
        "outputId": "1705a29c-6b4e-4f04-cc35-110e99a88023"
      },
      "source": [
        "d = {st: 1} # sets are also not hashable"
      ],
      "execution_count": 33,
      "outputs": [
        {
          "output_type": "error",
          "ename": "TypeError",
          "evalue": "ignored",
          "traceback": [
            "\u001b[0;31m---------------------------------------------------------------------------\u001b[0m",
            "\u001b[0;31mTypeError\u001b[0m                                 Traceback (most recent call last)",
            "\u001b[0;32m<ipython-input-33-9ade40c5fec0>\u001b[0m in \u001b[0;36m<module>\u001b[0;34m()\u001b[0m\n\u001b[0;32m----> 1\u001b[0;31m \u001b[0md\u001b[0m \u001b[0;34m=\u001b[0m \u001b[0;34m{\u001b[0m\u001b[0mst\u001b[0m\u001b[0;34m:\u001b[0m \u001b[0;36m1\u001b[0m\u001b[0;34m}\u001b[0m \u001b[0;31m# sets are also not hashable\u001b[0m\u001b[0;34m\u001b[0m\u001b[0;34m\u001b[0m\u001b[0m\n\u001b[0m",
            "\u001b[0;31mTypeError\u001b[0m: unhashable type: 'set'"
          ]
        }
      ]
    },
    {
      "cell_type": "code",
      "metadata": {
        "id": "Xr7mL2NZodng",
        "colab": {
          "base_uri": "https://localhost:8080/"
        },
        "outputId": "9171af74-a59d-4844-c578-29eaa927ad93"
      },
      "source": [
        "d = {frozenset(st): 6}  # but there is a type frozenset that you actually can hash (because it's immutable!)\n",
        "d"
      ],
      "execution_count": 44,
      "outputs": [
        {
          "output_type": "execute_result",
          "data": {
            "text/plain": [
              "{frozenset({0, 3, 6, 9}): 6}"
            ]
          },
          "metadata": {},
          "execution_count": 44
        }
      ]
    },
    {
      "cell_type": "markdown",
      "metadata": {
        "id": "bVGZQOPKodng"
      },
      "source": [
        "# When to use dict and set?\n",
        "\n",
        "### Establishing a one to one correspondence among two sets of objects (e.g. it is convenient to implement a dictionary for translation from one language to another)\n",
        "\n",
        "### Counting unique elements\n",
        "\n",
        "### Fast checking an element for occurence (a key search in dict and set is performed in O (1) (on average): a hash is calculated from the object and it is checked whether there is such a hash in the container)\n"
      ]
    },
    {
      "cell_type": "code",
      "metadata": {
        "id": "PhFHyB3Podng",
        "colab": {
          "base_uri": "https://localhost:8080/"
        },
        "outputId": "394defa3-7ffb-42d5-dca4-f4d66a6f4de3"
      },
      "source": [
        "2 in a     # O(1)"
      ],
      "execution_count": 45,
      "outputs": [
        {
          "output_type": "execute_result",
          "data": {
            "text/plain": [
              "True"
            ]
          },
          "metadata": {},
          "execution_count": 45
        }
      ]
    },
    {
      "cell_type": "markdown",
      "metadata": {
        "id": "ol0jRWGModng"
      },
      "source": [
        "### \"Interview tasks\"\n",
        "\n",
        "Given two sorted lists with numbers (not necessarily the same length). Print all the numbers that are in the first list, but not in the second"
      ]
    },
    {
      "cell_type": "code",
      "metadata": {
        "id": "0Ed9Og0-odng"
      },
      "source": [
        "lst1 = [1, 2, 8]\n",
        "lst2 = [2, 6]"
      ],
      "execution_count": 46,
      "outputs": []
    },
    {
      "cell_type": "markdown",
      "metadata": {
        "id": "DUNaj6zWodng"
      },
      "source": [
        "#### method 1: using set"
      ]
    },
    {
      "cell_type": "code",
      "metadata": {
        "colab": {
          "base_uri": "https://localhost:8080/"
        },
        "id": "1CuqaqvFodng",
        "outputId": "b33ec774-7a33-48ca-ed91-39627389fc65"
      },
      "source": [
        "# способ 1\n",
        "set(lst1) - set(lst2) "
      ],
      "execution_count": 47,
      "outputs": [
        {
          "output_type": "execute_result",
          "data": {
            "text/plain": [
              "{1, 8}"
            ]
          },
          "metadata": {},
          "execution_count": 47
        }
      ]
    },
    {
      "cell_type": "markdown",
      "metadata": {
        "id": "TmP5dcSWodng"
      },
      "source": [
        "formally for O (n) in time (O (n) takes to create a set, but with a considerable constant), but requires additional memory, and sorted property is not used"
      ]
    },
    {
      "cell_type": "markdown",
      "metadata": {
        "id": "0cUXcWEQodng"
      },
      "source": [
        "#### method 2: let's think how to do it in O(n) time but without additional memory"
      ]
    },
    {
      "cell_type": "code",
      "metadata": {
        "id": "RO0ZN5KZodng"
      },
      "source": [
        "lst1 = [1, 2, 8]\n",
        "lst2 = [2, 6]"
      ],
      "execution_count": 48,
      "outputs": []
    },
    {
      "cell_type": "code",
      "metadata": {
        "colab": {
          "base_uri": "https://localhost:8080/"
        },
        "id": "8Q8yMS0Lodnh",
        "outputId": "8fd71fc3-ab48-4caa-c4c6-69d787cb8610"
      },
      "source": [
        "i, j = 0, 0\n",
        "\n",
        "while i < len(lst1):\n",
        "\n",
        "    if j >= len(lst2) or lst1[i] < lst2[j]: \n",
        "        \n",
        "        print(lst1[i])\n",
        "        i += 1\n",
        "   \n",
        "    elif lst1[i] == lst2[j]:\n",
        "        \n",
        "        i += 1\n",
        "        j += 1\n",
        "    \n",
        "    else:\n",
        "        \n",
        "        j += 1"
      ],
      "execution_count": 49,
      "outputs": [
        {
          "output_type": "stream",
          "name": "stdout",
          "text": [
            "1\n",
            "8\n"
          ]
        }
      ]
    },
    {
      "cell_type": "markdown",
      "metadata": {
        "id": "9vZPJy4bodnh"
      },
      "source": [
        "### collections\n",
        "\n",
        "The objects in Collections are dictionaries modified for different needs and some other convenient data structures.\n",
        "\n",
        "A good overview of the collections module can be read [here](https://book.pythontips.com/en/latest/collections.html) "
      ]
    },
    {
      "cell_type": "code",
      "metadata": {
        "colab": {
          "base_uri": "https://localhost:8080/"
        },
        "id": "F3LVIE2yodnh",
        "outputId": "54a79b09-219c-425e-eeac-b9d6c2572bf2"
      },
      "source": [
        "from collections import defaultdict\n",
        "dct = defaultdict(float)\n",
        "\n",
        "# dct[42] = 42\n",
        "\n",
        "print(dct[2]) # if a key is not in dict, it creates a pair {a key: default value} instead of raising an error\n",
        "print(dct)"
      ],
      "execution_count": 50,
      "outputs": [
        {
          "output_type": "stream",
          "name": "stdout",
          "text": [
            "0.0\n",
            "defaultdict(<class 'float'>, {2: 0.0})\n"
          ]
        }
      ]
    },
    {
      "cell_type": "code",
      "metadata": {
        "colab": {
          "base_uri": "https://localhost:8080/"
        },
        "id": "N5HCJ26aodnh",
        "outputId": "1c6f09e9-34eb-4c36-cdf5-2efd862a8a6c"
      },
      "source": [
        "from collections import deque\n",
        "q = deque()\n",
        "\n",
        "for i in range(10):\n",
        "    q.append(i)\n",
        "\n",
        "while len(q) > 5: \n",
        "    print(q.pop(), q) # O(1)\n",
        "\n",
        "print()\n",
        "    \n",
        "while len(q):  # while deque is not empty\n",
        "    print(q.popleft(), q) # O(1)"
      ],
      "execution_count": 51,
      "outputs": [
        {
          "output_type": "stream",
          "name": "stdout",
          "text": [
            "9 deque([0, 1, 2, 3, 4, 5, 6, 7, 8])\n",
            "8 deque([0, 1, 2, 3, 4, 5, 6, 7])\n",
            "7 deque([0, 1, 2, 3, 4, 5, 6])\n",
            "6 deque([0, 1, 2, 3, 4, 5])\n",
            "5 deque([0, 1, 2, 3, 4])\n",
            "\n",
            "0 deque([1, 2, 3, 4])\n",
            "1 deque([2, 3, 4])\n",
            "2 deque([3, 4])\n",
            "3 deque([4])\n",
            "4 deque([])\n"
          ]
        }
      ]
    },
    {
      "cell_type": "code",
      "metadata": {
        "colab": {
          "base_uri": "https://localhost:8080/"
        },
        "id": "NZjYpY9iodnh",
        "outputId": "fc84ccd4-3dcf-4cae-929e-a917e415ef46"
      },
      "source": [
        "from collections import OrderedDict # remembers the order in which the keys were created\n",
        "\n",
        "# Since version 3.7, order preservation is guaranteed for dict as well, but:\n",
        "# Comparisons for regular dicts still do not respect order, unlike OrderedDict\n",
        "# OrderedDict also has a move_to_end method (move an existing element to the end), which is absent in the dict\n",
        "\n",
        "data = [(1, 'a'), (3, 'c'), (2, 'b')]\n",
        "\n",
        "print(dict(data))\n",
        "print(OrderedDict(data))"
      ],
      "execution_count": 52,
      "outputs": [
        {
          "output_type": "stream",
          "name": "stdout",
          "text": [
            "{1: 'a', 3: 'c', 2: 'b'}\n",
            "OrderedDict([(1, 'a'), (3, 'c'), (2, 'b')])\n"
          ]
        }
      ]
    },
    {
      "cell_type": "markdown",
      "metadata": {
        "id": "Z7XbPW70odnh"
      },
      "source": [
        "## Exercise - Input == a list; Output == the largest element of the list that occurs more often than others"
      ]
    },
    {
      "cell_type": "code",
      "metadata": {
        "id": "dbjR1otqodnh"
      },
      "source": [
        "# see Counter from collections, it can do this:\n",
        "# Counter(lst).most_common(2)"
      ],
      "execution_count": 53,
      "outputs": []
    }
  ]
}