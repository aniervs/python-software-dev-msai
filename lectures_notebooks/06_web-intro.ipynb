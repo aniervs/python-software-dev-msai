{
  "nbformat": 4,
  "nbformat_minor": 0,
  "metadata": {
    "celltoolbar": "Slideshow",
    "kernelspec": {
      "display_name": "Python 3",
      "language": "python",
      "name": "python3"
    },
    "language_info": {
      "codemirror_mode": {
        "name": "ipython",
        "version": 3
      },
      "file_extension": ".py",
      "mimetype": "text/x-python",
      "name": "python",
      "nbconvert_exporter": "python",
      "pygments_lexer": "ipython3",
      "version": "3.8.5"
    },
    "colab": {
      "name": "web-intro",
      "provenance": [],
      "collapsed_sections": [
        "K0Ksbpxc7AWU"
      ]
    }
  },
  "cells": [
    {
      "cell_type": "markdown",
      "metadata": {
        "id": "hP9X8U-T7AV_"
      },
      "source": [
        "# Web & Scraping\n",
        "\n",
        "Requires: urllib, requests, socket, urllib3, re, lxml, io, bs4, scrapy, sqlite3, pandas.\n",
        "\n",
        "Plan:\n",
        "* 101 101\n",
        "* HTML 101\n",
        "* HTTP + REST 101\n",
        "* Web scraping"
      ]
    },
    {
      "cell_type": "code",
      "metadata": {
        "id": "ObZovbqq7QVJ"
      },
      "source": [
        "!pip install scrapy"
      ],
      "execution_count": null,
      "outputs": []
    },
    {
      "cell_type": "code",
      "metadata": {
        "id": "0j7Yk5WV7AWD"
      },
      "source": [
        "# make sure they are all installed\n",
        "import urllib, requests, socket, re, lxml, io, bs4, scrapy, sqlite3, pandas, sqlalchemy \n"
      ],
      "execution_count": null,
      "outputs": []
    },
    {
      "cell_type": "markdown",
      "metadata": {
        "id": "jpYxg1RV7AWE"
      },
      "source": [
        "Notes:\n",
        "# 101 101\n",
        "\n",
        " [CS101](https://lagunita.stanford.edu/courses/Engineering/CS101/Summer2014/about).\n",
        "\n",
        "101 is an introductory course in some topic, it's just that. Intro.\n"
      ]
    },
    {
      "cell_type": "markdown",
      "metadata": {
        "id": "4OaH0HNm7AWE"
      },
      "source": [
        "# Internet 101\n",
        "\n",
        "What happens when you type in a path in the address bar and press Enter?\n",
        "\n",
        "URL:  \n",
        "```<scheme>:[//[<login>[:<passwd>]@]<host>[:<port>]][/<URL‐path>][?<parameters>][#<fragment>]```\n",
        "\n",
        "Example:  \n",
        "`https://pp.userapi.com/c834101/v834101778/13450d/9yxFBjsPxN8.jpg`"
      ]
    },
    {
      "cell_type": "markdown",
      "metadata": {
        "id": "EBQ-5wBv7AWF"
      },
      "source": [
        "You are a **client**\n",
        "\n",
        "1. **DNS**: URL -> IP-address and port of the **server** (87.240.129.71:443)\n",
        "2. **HTTP(S)**: IP + URL-path + parameters -> **resource** (text (e.g. *HTML-document*), picture, sound, etc.)\n",
        "3. **Browser engine** tries to parse and **draw** your document\n",
        "4. *Usually* the document contains links to other documents. They have their own URI. We go back to p.1\n",
        "5. Concurrently and after that the **JavaScript**-code is being executed"
      ]
    },
    {
      "cell_type": "markdown",
      "metadata": {
        "id": "HGjcKy7d7AWF"
      },
      "source": [
        "# HTML 101\n",
        "\n",
        "HyperText Markup Language\n",
        "\n",
        "HTML is a markup language used for web-pages.\n",
        "\n",
        "This is a mechanism for obtaining structural text that browsers can understand.\n",
        "\n",
        "The structure in the text is set by nested tags, tags determine how the text will be displayed (rendered).\n",
        "\n",
        "This is a tag: `<tag>`, tags can be opening (`<tag>`) and closing ones (`</tag>`).\n",
        "\n",
        "Example of HTML-markup:\n",
        "\n",
        "```html\n",
        "<!DOCTYPE html>\n",
        "<html>\n",
        "   <head>\n",
        "      <meta charset=\"utf-8\" />\n",
        "      <title>HTML Document</title>\n",
        "   </head>\n",
        "   <body>\n",
        "      <p> <!-- p is a paragraph, and in such strange brackets is a comment -->\n",
        "         <b>\n",
        "            This text will be bold, <i>and this one will be also italic</i>.\n",
        "         </b>\n",
        "      </p>\n",
        "   </body>\n",
        "</html>\n",
        "```\n",
        "\n",
        "So it looks after rendering:\n",
        "\n",
        "<!DOCTYPE html>\n",
        "<html>\n",
        "   <head>\n",
        "      <meta charset=\"utf-8\" />\n",
        "      <title>HTML Document</title>\n",
        "   </head>\n",
        "   <body>\n",
        "      <p> <!-- p is a paragraph, and in such strange brackets is a comment -->\n",
        "         <b>\n",
        "            This text will be bold, <i>and this one will be also italic</i>.\n",
        "         </b>\n",
        "      </p>\n",
        "   </body>\n",
        "</html>\n",
        "\n",
        "You can see that the HTML markup has a tree structure:<br>\n",
        "each tag (a node of the tree) has 0 (then it is a leaf of the tree) or more (then it is an inside vertex) of the tags embedded in it.\n",
        "\n",
        "So, to get some information from HTML, you can use its structure.\n",
        "\n",
        "We will deal with this a bit later.\n",
        "\n",
        "### P.S. \n",
        "In fact, the XML format (another markup language) has the same structure.\n",
        "\n",
        "Formally, HTML is a more standardized subset of XML.\n",
        "\n",
        "### P.P.S.\n",
        "\n",
        "Tags also have **attributes**:\n",
        "\n",
        "```html\n",
        "<a href=\"http://example.com\">Hyperlink to example.com</a>\n",
        "```\n",
        "Render this piece:\n",
        "<a href=\"http://example.com\">Hyperlink to  example.com</a>\n",
        "\n",
        "### P.P.P.S.\n",
        "\n",
        "And this text (certainly having a structure) was written using another markup language - **Markdown**."
      ]
    },
    {
      "cell_type": "markdown",
      "metadata": {
        "id": "Gl6trrBe7AWH"
      },
      "source": [
        "## HTTP 101\n",
        "\n",
        "HyperText Transfer Protocol\n",
        "\n",
        "* **Protocol** -- a set of logical agreements on the interaction of programs, a standard;\n",
        "* **Transfer** -- we live on the Internet, i.e. the world is not limited to our computer => information must be transmitted;\n",
        "* **Hypertext** -- HTML, for instance.\n",
        "\n",
        "The main idea: all computers are divided into **servers** (those that store information) and **clients** (those that request it).\n",
        "\n",
        "In fact, in HTTP we transmit not only hypertext, but **resources** - a philosophical generalization, which includes hypertext, pictures, music, etc. But the standard is suitable for all of this.\n",
        "\n",
        "Each resource has its address - **URI** (Uniform Resource Identifier) - an analogue of the path in the computer system.\n",
        "\n",
        "```<scheme>:[//[<login>[:<passwd>]@]<host>[:<port>]][/<URL‐path>][?<parameters>][#<fragment>]```\n",
        "\n",
        "We omit the low-level side of the issue: the TCP/IP stack, sockets, ports, etc.\n",
        "\n",
        "## HTTP structure\n",
        "\n",
        "To receive data, the client makes a request to the server. The request must contain 3 parts:\n",
        "* **Starting line** defines the type of message;\n",
        "* **Headers** characterize the message body, transmission parameters and other information;\n",
        "* **Message body**.\n",
        "\n",
        "The response message from the server has the same structure.\n",
        "\n",
        "To send these requests by hand, rather than through the browser, you can use the `curl` utility. Let's use it."
      ]
    },
    {
      "cell_type": "code",
      "metadata": {
        "id": "Op4a99Gt7AWI"
      },
      "source": [
        "# !curl example.com/index.html \n",
        "!curl example.com/index.html -v"
      ],
      "execution_count": null,
      "outputs": []
    },
    {
      "cell_type": "markdown",
      "metadata": {
        "id": "ezTAQFAm7AWJ"
      },
      "source": [
        "## HTTP methods\n",
        "\n",
        "The HTTP method defines the operation that we want to perform on the resource.\n",
        "\n",
        "The most frequent methods: GET, POST, PUT, DELETE (but there are others).\n",
        "\n",
        "* **GET** -- request for resource content. <br> GET requests are idempotent. Therefore, they can be cached.\n",
        "* **POST** -- transferring data to a resource (for example, when sending a comment on a forum or entering a password on a site). <br>Not idempotent => when sending the same comment to the forum, it will appear there twice. <br> Not being cached.\n",
        "* **PUT** -- transferring data to a specific URI (modification of an existing resource). Not being cached.\n",
        "* **DELETE** -- resource deletion.\n",
        "\n",
        "## HTTP codes\n",
        "\n",
        "The response message will return an HTTP response code that determines the result of the operation.\n",
        "\n",
        "The most frequent codes: `200 OK`, `400 BadRequest`, `404 Not Found`, `500 Internal Server Error`.\n",
        "\n",
        "Overview:\n",
        "* **1xx** -- Informational. For example, `102 Processing` (the request is still being processed);\n",
        "* **2xx** -- Success. Everything is fine, the request worked out and did not break anything. At least for now.\n",
        "* **3xx** -- Redirection. Redirect to another resource/page.\n",
        "* **4xx** -- Client error. Client error (invalid request data or wrong path).\n",
        "* **5xx** -- Server error. Something failed on the server (there they divided it by zero, for example)."
      ]
    },
    {
      "cell_type": "markdown",
      "metadata": {
        "id": "rQPgcYli7AWJ"
      },
      "source": [
        "## Example\n",
        "\n",
        "Let's look again at the request to example.com/index.html.\n",
        "\n",
        "Service information from `curl`:\n",
        "\n",
        "```\n",
        "*   Trying 2606:2800:220:1:248:1893:25c8:1946...\n",
        "*   Trying 93.184.216.34...\n",
        "* Connected to example.com (2606:2800:220:1:248:1893:25c8:1946) port 80 (#0)\n",
        "```\n",
        "Client request:\n",
        "```\n",
        "> GET /index.html HTTP/1.1    # Starting line: GET method, URI -- /index.html, protocol version -- HTTP/1.1\n",
        "> Host: example.com           # Headers\n",
        "> User-Agent: curl/7.47.0\n",
        "> Accept: */*\n",
        ">                             # Empty body\n",
        "```\n",
        "\n",
        "Server response:\n",
        "```\n",
        "< HTTP/1.1 200 OK                          # Starting line: protocol version and the message code\n",
        "< Cache-Control: max-age=604800            # Headers\n",
        "< Content-Type: text/html; charset=UTF-8\n",
        "< Date: Tue, 19 Mar 2019 21:25:21 GMT\n",
        "< Etag: \"1541025663+gzip+ident\"\n",
        "< Expires: Tue, 26 Mar 2019 21:25:21 GMT\n",
        "< Last-Modified: Fri, 09 Aug 2013 23:54:35 GMT\n",
        "< Server: ECS (bsa/EB1E)\n",
        "< Vary: Accept-Encoding\n",
        "< X-Cache: HIT\n",
        "< Content-Length: 1270\n",
        "<                                          # Empty line - required by the standard\n",
        "<!doctype html>                            # Response body -- HTML-document\n",
        "<html>\n",
        "<head>\n",
        "    <title>Example Domain</title>\n",
        ". . .\n",
        "```\n"
      ]
    },
    {
      "cell_type": "markdown",
      "metadata": {
        "id": "e9_sjfA37AWK"
      },
      "source": [
        "## REST\n",
        "\n",
        " <a href=\"https://en.wikipedia.org/wiki/Representational_state_transfer\">Representational State Transfer</a>\n",
        "\n",
        "A set of additional restrictions on HTTP, indicating how to work correctly with methods, codes, etc.\n",
        "\n",
        "You can call it an analog of PEP-8 for Python."
      ]
    },
    {
      "cell_type": "markdown",
      "metadata": {
        "id": "a7A_1IjK7AWK"
      },
      "source": [
        "# Web scraping. \n",
        "\n",
        "* Getting html\n",
        "* Html parsing"
      ]
    },
    {
      "cell_type": "markdown",
      "metadata": {
        "id": "nokXl5O57AWK"
      },
      "source": [
        "## Getting html\n",
        "\n",
        "Alternative libraries:\n",
        "\n",
        "* urllib \n",
        "* requests (de-facto standard)\n",
        "* socket (low-level)\n",
        "\n"
      ]
    },
    {
      "cell_type": "markdown",
      "metadata": {
        "id": "nGx8n1aE7AWL"
      },
      "source": [
        "### urllib "
      ]
    },
    {
      "cell_type": "code",
      "metadata": {
        "id": "7BiD1liP7AWL"
      },
      "source": [
        "import urllib.request"
      ],
      "execution_count": null,
      "outputs": []
    },
    {
      "cell_type": "code",
      "metadata": {
        "scrolled": true,
        "id": "ppb5_3Tf7AWL",
        "colab": {
          "base_uri": "https://localhost:8080/"
        },
        "outputId": "0a24d790-cf66-4924-bc90-1e88ae76c0af"
      },
      "source": [
        "response = urllib.request.urlopen('http://example.com/')\n",
        "html = response.read()\n",
        "print(html)"
      ],
      "execution_count": 97,
      "outputs": [
        {
          "output_type": "stream",
          "name": "stdout",
          "text": [
            "b'<!doctype html>\\n<html>\\n<head>\\n    <title>Example Domain</title>\\n\\n    <meta charset=\"utf-8\" />\\n    <meta http-equiv=\"Content-type\" content=\"text/html; charset=utf-8\" />\\n    <meta name=\"viewport\" content=\"width=device-width, initial-scale=1\" />\\n    <style type=\"text/css\">\\n    body {\\n        background-color: #f0f0f2;\\n        margin: 0;\\n        padding: 0;\\n        font-family: -apple-system, system-ui, BlinkMacSystemFont, \"Segoe UI\", \"Open Sans\", \"Helvetica Neue\", Helvetica, Arial, sans-serif;\\n        \\n    }\\n    div {\\n        width: 600px;\\n        margin: 5em auto;\\n        padding: 2em;\\n        background-color: #fdfdff;\\n        border-radius: 0.5em;\\n        box-shadow: 2px 3px 7px 2px rgba(0,0,0,0.02);\\n    }\\n    a:link, a:visited {\\n        color: #38488f;\\n        text-decoration: none;\\n    }\\n    @media (max-width: 700px) {\\n        div {\\n            margin: 0 auto;\\n            width: auto;\\n        }\\n    }\\n    </style>    \\n</head>\\n\\n<body>\\n<div>\\n    <h1>Example Domain</h1>\\n    <p>This domain is for use in illustrative examples in documents. You may use this\\n    domain in literature without prior coordination or asking for permission.</p>\\n    <p><a href=\"https://www.iana.org/domains/example\">More information...</a></p>\\n</div>\\n</body>\\n</html>\\n'\n"
          ]
        }
      ]
    },
    {
      "cell_type": "code",
      "metadata": {
        "id": "MHADbu057AWM",
        "colab": {
          "base_uri": "https://localhost:8080/"
        },
        "outputId": "ba8108e0-8a3a-423a-f2f5-a673e4bc58ad"
      },
      "source": [
        "html = html.decode('utf-8')\n",
        "print(html)"
      ],
      "execution_count": 98,
      "outputs": [
        {
          "output_type": "stream",
          "name": "stdout",
          "text": [
            "<!doctype html>\n",
            "<html>\n",
            "<head>\n",
            "    <title>Example Domain</title>\n",
            "\n",
            "    <meta charset=\"utf-8\" />\n",
            "    <meta http-equiv=\"Content-type\" content=\"text/html; charset=utf-8\" />\n",
            "    <meta name=\"viewport\" content=\"width=device-width, initial-scale=1\" />\n",
            "    <style type=\"text/css\">\n",
            "    body {\n",
            "        background-color: #f0f0f2;\n",
            "        margin: 0;\n",
            "        padding: 0;\n",
            "        font-family: -apple-system, system-ui, BlinkMacSystemFont, \"Segoe UI\", \"Open Sans\", \"Helvetica Neue\", Helvetica, Arial, sans-serif;\n",
            "        \n",
            "    }\n",
            "    div {\n",
            "        width: 600px;\n",
            "        margin: 5em auto;\n",
            "        padding: 2em;\n",
            "        background-color: #fdfdff;\n",
            "        border-radius: 0.5em;\n",
            "        box-shadow: 2px 3px 7px 2px rgba(0,0,0,0.02);\n",
            "    }\n",
            "    a:link, a:visited {\n",
            "        color: #38488f;\n",
            "        text-decoration: none;\n",
            "    }\n",
            "    @media (max-width: 700px) {\n",
            "        div {\n",
            "            margin: 0 auto;\n",
            "            width: auto;\n",
            "        }\n",
            "    }\n",
            "    </style>    \n",
            "</head>\n",
            "\n",
            "<body>\n",
            "<div>\n",
            "    <h1>Example Domain</h1>\n",
            "    <p>This domain is for use in illustrative examples in documents. You may use this\n",
            "    domain in literature without prior coordination or asking for permission.</p>\n",
            "    <p><a href=\"https://www.iana.org/domains/example\">More information...</a></p>\n",
            "</div>\n",
            "</body>\n",
            "</html>\n",
            "\n"
          ]
        }
      ]
    },
    {
      "cell_type": "markdown",
      "metadata": {
        "id": "mvkFnAI37AWM"
      },
      "source": [
        "Let's save this html just in case."
      ]
    },
    {
      "cell_type": "code",
      "metadata": {
        "id": "fXAtW6fO7AWM"
      },
      "source": [
        "with open('example.com.txt', 'w', encoding='utf-8') as f:\n",
        "    f.write(html)"
      ],
      "execution_count": 100,
      "outputs": []
    },
    {
      "cell_type": "markdown",
      "metadata": {
        "id": "xMsj3mM37AWM"
      },
      "source": [
        "What except html?"
      ]
    },
    {
      "cell_type": "code",
      "metadata": {
        "id": "XYyfJMSC7AWM",
        "colab": {
          "base_uri": "https://localhost:8080/"
        },
        "outputId": "214f9dce-84ab-438b-e60f-c3fb3b04f3f6"
      },
      "source": [
        "print(dir(response))"
      ],
      "execution_count": 101,
      "outputs": [
        {
          "output_type": "stream",
          "name": "stdout",
          "text": [
            "['__abstractmethods__', '__class__', '__del__', '__delattr__', '__dict__', '__dir__', '__doc__', '__enter__', '__eq__', '__exit__', '__format__', '__ge__', '__getattribute__', '__gt__', '__hash__', '__init__', '__init_subclass__', '__iter__', '__le__', '__lt__', '__module__', '__ne__', '__new__', '__next__', '__reduce__', '__reduce_ex__', '__repr__', '__setattr__', '__sizeof__', '__str__', '__subclasshook__', '_abc_impl', '_checkClosed', '_checkReadable', '_checkSeekable', '_checkWritable', '_check_close', '_close_conn', '_get_chunk_left', '_method', '_peek_chunked', '_read1_chunked', '_read_and_discard_trailer', '_read_next_chunk_size', '_read_status', '_readall_chunked', '_readinto_chunked', '_safe_read', '_safe_readinto', 'begin', 'chunk_left', 'chunked', 'close', 'closed', 'code', 'debuglevel', 'detach', 'fileno', 'flush', 'fp', 'getcode', 'getheader', 'getheaders', 'geturl', 'headers', 'info', 'isatty', 'isclosed', 'length', 'msg', 'peek', 'read', 'read1', 'readable', 'readinto', 'readinto1', 'readline', 'readlines', 'reason', 'seek', 'seekable', 'status', 'tell', 'truncate', 'url', 'version', 'will_close', 'writable', 'write', 'writelines']\n"
          ]
        }
      ]
    },
    {
      "cell_type": "markdown",
      "metadata": {
        "id": "wcZG-fw67AWN"
      },
      "source": [
        "Everything that is in the HTTP message."
      ]
    },
    {
      "cell_type": "code",
      "metadata": {
        "id": "TdZ1FBvg7AWN",
        "colab": {
          "base_uri": "https://localhost:8080/"
        },
        "outputId": "6a43fad6-3037-4c5b-ba93-8c61b979f82f"
      },
      "source": [
        "print(response.url)\n",
        "print('_________')\n",
        "print(response.msg)\n",
        "print('_________')\n",
        "print(response.code)\n",
        "print('_________')\n",
        "print('Headers: \\n{}'.format(response.headers))\n",
        "# . . ."
      ],
      "execution_count": 103,
      "outputs": [
        {
          "output_type": "stream",
          "name": "stdout",
          "text": [
            "http://example.com/\n",
            "_________\n",
            "OK\n",
            "_________\n",
            "200\n",
            "_________\n",
            "Headers: \n",
            "Accept-Ranges: bytes\n",
            "Age: 278748\n",
            "Cache-Control: max-age=604800\n",
            "Content-Type: text/html; charset=UTF-8\n",
            "Date: Thu, 18 Nov 2021 08:56:20 GMT\n",
            "Etag: \"3147526947\"\n",
            "Expires: Thu, 25 Nov 2021 08:56:20 GMT\n",
            "Last-Modified: Thu, 17 Oct 2019 07:18:26 GMT\n",
            "Server: ECS (sec/97A6)\n",
            "Vary: Accept-Encoding\n",
            "X-Cache: HIT\n",
            "Content-Length: 1256\n",
            "Connection: close\n",
            "\n",
            "\n"
          ]
        }
      ]
    },
    {
      "cell_type": "markdown",
      "metadata": {
        "id": "PX1RQ4r-7AWN"
      },
      "source": [
        "### requests\n",
        "HTTP for Humans"
      ]
    },
    {
      "cell_type": "code",
      "metadata": {
        "id": "dMx0fPi27AWN"
      },
      "source": [
        "import requests"
      ],
      "execution_count": 104,
      "outputs": []
    },
    {
      "cell_type": "code",
      "metadata": {
        "id": "F1kymZEz7AWN",
        "colab": {
          "base_uri": "https://localhost:8080/"
        },
        "outputId": "976648a3-2603-4fa1-9f63-83b9122561ae"
      },
      "source": [
        "response = requests.get('http://example.com')\n",
        "response"
      ],
      "execution_count": 105,
      "outputs": [
        {
          "output_type": "execute_result",
          "data": {
            "text/plain": [
              "<Response [200]>"
            ]
          },
          "metadata": {},
          "execution_count": 105
        }
      ]
    },
    {
      "cell_type": "code",
      "metadata": {
        "id": "pNhI6ygr7AWO",
        "colab": {
          "base_uri": "https://localhost:8080/"
        },
        "outputId": "99d64827-90b6-4df6-fdee-9b5daf95b27c"
      },
      "source": [
        "print(dir(response))"
      ],
      "execution_count": 106,
      "outputs": [
        {
          "output_type": "stream",
          "name": "stdout",
          "text": [
            "['__attrs__', '__bool__', '__class__', '__delattr__', '__dict__', '__dir__', '__doc__', '__enter__', '__eq__', '__exit__', '__format__', '__ge__', '__getattribute__', '__getstate__', '__gt__', '__hash__', '__init__', '__init_subclass__', '__iter__', '__le__', '__lt__', '__module__', '__ne__', '__new__', '__nonzero__', '__reduce__', '__reduce_ex__', '__repr__', '__setattr__', '__setstate__', '__sizeof__', '__str__', '__subclasshook__', '__weakref__', '_content', '_content_consumed', '_next', 'apparent_encoding', 'close', 'connection', 'content', 'cookies', 'elapsed', 'encoding', 'headers', 'history', 'is_permanent_redirect', 'is_redirect', 'iter_content', 'iter_lines', 'json', 'links', 'next', 'ok', 'raise_for_status', 'raw', 'reason', 'request', 'status_code', 'text', 'url']\n"
          ]
        }
      ]
    },
    {
      "cell_type": "code",
      "metadata": {
        "id": "bm1hG_cf7AWO",
        "colab": {
          "base_uri": "https://localhost:8080/"
        },
        "outputId": "93d72b0f-7440-4de9-efc9-e79d924177b2"
      },
      "source": [
        "print(response.url)\n",
        "print('_________')\n",
        "print(response.connection)\n",
        "print('_________')\n",
        "print(response.headers)\n",
        "print('_________')\n",
        "print(response.ok)\n",
        "print('_________')\n",
        "print(response.status_code)\n",
        "print('_________')\n",
        "print(response.encoding)\n",
        "print('_________')\n",
        "print(response.links)"
      ],
      "execution_count": 107,
      "outputs": [
        {
          "output_type": "stream",
          "name": "stdout",
          "text": [
            "http://example.com/\n",
            "_________\n",
            "<requests.adapters.HTTPAdapter object at 0x7f463b70d510>\n",
            "_________\n",
            "{'Content-Encoding': 'gzip', 'Accept-Ranges': 'bytes', 'Age': '230058', 'Cache-Control': 'max-age=604800', 'Content-Type': 'text/html; charset=UTF-8', 'Date': 'Thu, 18 Nov 2021 08:59:55 GMT', 'Etag': '\"3147526947\"', 'Expires': 'Thu, 25 Nov 2021 08:59:55 GMT', 'Last-Modified': 'Thu, 17 Oct 2019 07:18:26 GMT', 'Server': 'ECS (sec/976A)', 'Vary': 'Accept-Encoding', 'X-Cache': 'HIT', 'Content-Length': '648'}\n",
            "_________\n",
            "True\n",
            "_________\n",
            "200\n",
            "_________\n",
            "UTF-8\n",
            "_________\n",
            "{}\n"
          ]
        }
      ]
    },
    {
      "cell_type": "code",
      "metadata": {
        "id": "-iqB-UqJ7AWO",
        "colab": {
          "base_uri": "https://localhost:8080/"
        },
        "outputId": "bb879f69-b814-498f-8ed1-5b552b9f770e"
      },
      "source": [
        "print(response.text)"
      ],
      "execution_count": 108,
      "outputs": [
        {
          "output_type": "stream",
          "name": "stdout",
          "text": [
            "<!doctype html>\n",
            "<html>\n",
            "<head>\n",
            "    <title>Example Domain</title>\n",
            "\n",
            "    <meta charset=\"utf-8\" />\n",
            "    <meta http-equiv=\"Content-type\" content=\"text/html; charset=utf-8\" />\n",
            "    <meta name=\"viewport\" content=\"width=device-width, initial-scale=1\" />\n",
            "    <style type=\"text/css\">\n",
            "    body {\n",
            "        background-color: #f0f0f2;\n",
            "        margin: 0;\n",
            "        padding: 0;\n",
            "        font-family: -apple-system, system-ui, BlinkMacSystemFont, \"Segoe UI\", \"Open Sans\", \"Helvetica Neue\", Helvetica, Arial, sans-serif;\n",
            "        \n",
            "    }\n",
            "    div {\n",
            "        width: 600px;\n",
            "        margin: 5em auto;\n",
            "        padding: 2em;\n",
            "        background-color: #fdfdff;\n",
            "        border-radius: 0.5em;\n",
            "        box-shadow: 2px 3px 7px 2px rgba(0,0,0,0.02);\n",
            "    }\n",
            "    a:link, a:visited {\n",
            "        color: #38488f;\n",
            "        text-decoration: none;\n",
            "    }\n",
            "    @media (max-width: 700px) {\n",
            "        div {\n",
            "            margin: 0 auto;\n",
            "            width: auto;\n",
            "        }\n",
            "    }\n",
            "    </style>    \n",
            "</head>\n",
            "\n",
            "<body>\n",
            "<div>\n",
            "    <h1>Example Domain</h1>\n",
            "    <p>This domain is for use in illustrative examples in documents. You may use this\n",
            "    domain in literature without prior coordination or asking for permission.</p>\n",
            "    <p><a href=\"https://www.iana.org/domains/example\">More information...</a></p>\n",
            "</div>\n",
            "</body>\n",
            "</html>\n",
            "\n"
          ]
        }
      ]
    },
    {
      "cell_type": "markdown",
      "metadata": {
        "id": "k2YwvTZg7AWO"
      },
      "source": [
        "### socket (low-level, if assembler is not enough for you)"
      ]
    },
    {
      "cell_type": "code",
      "metadata": {
        "id": "DKjJiqs57AWP"
      },
      "source": [
        "import socket"
      ],
      "execution_count": 109,
      "outputs": []
    },
    {
      "cell_type": "code",
      "metadata": {
        "id": "gb5QDEUk7AWP",
        "colab": {
          "base_uri": "https://localhost:8080/"
        },
        "outputId": "398a567c-a42b-47f7-df41-36bac99ebfa6"
      },
      "source": [
        "sock = socket.socket(socket.AF_INET, socket.SOCK_STREAM)\n",
        "host = socket.gethostbyname('www.example.com')\n",
        "port = 80\n",
        "\n",
        "sock.connect((host,port))\n",
        "sock.sendall(b'GET / HTTP/1.1\\r\\nHost: www.example.com\\r\\n\\r\\n')\n",
        "\n",
        "val = sock.recv(4096)\n",
        "print(val.decode('utf-8'))\n",
        "#help(sock.recv)"
      ],
      "execution_count": 110,
      "outputs": [
        {
          "output_type": "stream",
          "name": "stdout",
          "text": [
            "HTTP/1.1 200 OK\r\n",
            "Age: 230164\r\n",
            "Cache-Control: max-age=604800\r\n",
            "Content-Type: text/html; charset=UTF-8\r\n",
            "Date: Thu, 18 Nov 2021 09:01:41 GMT\r\n",
            "Etag: \"3147526947+ident\"\r\n",
            "Expires: Thu, 25 Nov 2021 09:01:41 GMT\r\n",
            "Last-Modified: Thu, 17 Oct 2019 07:18:26 GMT\r\n",
            "Server: ECS (sec/976A)\r\n",
            "Vary: Accept-Encoding\r\n",
            "X-Cache: HIT\r\n",
            "Content-Length: 1256\r\n",
            "\r\n",
            "<!doctype html>\n",
            "<html>\n",
            "<head>\n",
            "    <title>Example Domain</title>\n",
            "\n",
            "    <meta charset=\"utf-8\" />\n",
            "    <meta http-equiv=\"Content-type\" content=\"text/html; charset=utf-8\" />\n",
            "    <meta name=\"viewport\" content=\"width=device-width, initial-scale=1\" />\n",
            "    <style type=\"text/css\">\n",
            "    body {\n",
            "        background-color: #f0f0f2;\n",
            "        margin: 0;\n",
            "        padding: 0;\n",
            "        font-family: -apple-system, system-ui, BlinkMacSystemFont, \"Segoe UI\", \"Open Sans\", \"Helvetica Neue\", Helvetica, Arial, sans-serif;\n",
            "        \n",
            "    }\n",
            "    div {\n",
            "        width: 600px;\n",
            "        margin: 5em auto;\n",
            "        padding: 2em;\n",
            "        background-color: #fdfdff;\n",
            "        border-radius: 0.5em;\n",
            "        box-shadow: 2px 3px 7px 2px rgba(0,0,0,0.02);\n",
            "    }\n",
            "    a:link, a:visited {\n",
            "        color: #38488f;\n",
            "        text-decoration: none;\n",
            "    }\n",
            "    @media (max-width: 700px) {\n",
            "        div {\n",
            "            margin: 0 auto;\n",
            "            width: auto;\n",
            "        }\n",
            "    }\n",
            "    </style>    \n",
            "</head>\n",
            "\n",
            "<body>\n",
            "<div>\n",
            "    <h1>Example Domain</h1>\n",
            "    <p>This domain is for use in illustrative examples in documents. You may use this\n",
            "    domain in literature without prior coordination or asking for permission.</p>\n",
            "    <p><a href=\"https://www.iana.org/domains/example\">More information...</a></p>\n",
            "</div>\n",
            "</body>\n",
            "</html>\n",
            "\n"
          ]
        }
      ]
    },
    {
      "cell_type": "code",
      "metadata": {
        "id": "P6u-sIdE7AWP",
        "colab": {
          "base_uri": "https://localhost:8080/"
        },
        "outputId": "244fb8d1-8f2e-431a-e899-c0139520030c"
      },
      "source": [
        "# Split off the HTTP headers\n",
        "val = val.split(b'\\r\\n\\r\\n',1)[1]\n",
        "print(val.decode('utf-8'))"
      ],
      "execution_count": 111,
      "outputs": [
        {
          "output_type": "stream",
          "name": "stdout",
          "text": [
            "<!doctype html>\n",
            "<html>\n",
            "<head>\n",
            "    <title>Example Domain</title>\n",
            "\n",
            "    <meta charset=\"utf-8\" />\n",
            "    <meta http-equiv=\"Content-type\" content=\"text/html; charset=utf-8\" />\n",
            "    <meta name=\"viewport\" content=\"width=device-width, initial-scale=1\" />\n",
            "    <style type=\"text/css\">\n",
            "    body {\n",
            "        background-color: #f0f0f2;\n",
            "        margin: 0;\n",
            "        padding: 0;\n",
            "        font-family: -apple-system, system-ui, BlinkMacSystemFont, \"Segoe UI\", \"Open Sans\", \"Helvetica Neue\", Helvetica, Arial, sans-serif;\n",
            "        \n",
            "    }\n",
            "    div {\n",
            "        width: 600px;\n",
            "        margin: 5em auto;\n",
            "        padding: 2em;\n",
            "        background-color: #fdfdff;\n",
            "        border-radius: 0.5em;\n",
            "        box-shadow: 2px 3px 7px 2px rgba(0,0,0,0.02);\n",
            "    }\n",
            "    a:link, a:visited {\n",
            "        color: #38488f;\n",
            "        text-decoration: none;\n",
            "    }\n",
            "    @media (max-width: 700px) {\n",
            "        div {\n",
            "            margin: 0 auto;\n",
            "            width: auto;\n",
            "        }\n",
            "    }\n",
            "    </style>    \n",
            "</head>\n",
            "\n",
            "<body>\n",
            "<div>\n",
            "    <h1>Example Domain</h1>\n",
            "    <p>This domain is for use in illustrative examples in documents. You may use this\n",
            "    domain in literature without prior coordination or asking for permission.</p>\n",
            "    <p><a href=\"https://www.iana.org/domains/example\">More information...</a></p>\n",
            "</div>\n",
            "</body>\n",
            "</html>\n",
            "\n"
          ]
        }
      ]
    },
    {
      "cell_type": "markdown",
      "metadata": {
        "id": "dTeFr29o7AWP"
      },
      "source": [
        "## HTML Parsing\n",
        "\n",
        "Alternative libraries:\n",
        "* re\n",
        "* lxml\n",
        "* BeautifulSoup"
      ]
    },
    {
      "cell_type": "code",
      "metadata": {
        "id": "uUKRLa337AWP",
        "colab": {
          "base_uri": "https://localhost:8080/"
        },
        "outputId": "3c0b07ab-63b2-40f5-f658-f4824e980cab"
      },
      "source": [
        "with open('example.com.txt', 'r', encoding='utf-8') as f:\n",
        "    html = f.read()\n",
        "print(html)"
      ],
      "execution_count": 112,
      "outputs": [
        {
          "output_type": "stream",
          "name": "stdout",
          "text": [
            "<!doctype html>\n",
            "<html>\n",
            "<head>\n",
            "    <title>Example Domain</title>\n",
            "\n",
            "    <meta charset=\"utf-8\" />\n",
            "    <meta http-equiv=\"Content-type\" content=\"text/html; charset=utf-8\" />\n",
            "    <meta name=\"viewport\" content=\"width=device-width, initial-scale=1\" />\n",
            "    <style type=\"text/css\">\n",
            "    body {\n",
            "        background-color: #f0f0f2;\n",
            "        margin: 0;\n",
            "        padding: 0;\n",
            "        font-family: -apple-system, system-ui, BlinkMacSystemFont, \"Segoe UI\", \"Open Sans\", \"Helvetica Neue\", Helvetica, Arial, sans-serif;\n",
            "        \n",
            "    }\n",
            "    div {\n",
            "        width: 600px;\n",
            "        margin: 5em auto;\n",
            "        padding: 2em;\n",
            "        background-color: #fdfdff;\n",
            "        border-radius: 0.5em;\n",
            "        box-shadow: 2px 3px 7px 2px rgba(0,0,0,0.02);\n",
            "    }\n",
            "    a:link, a:visited {\n",
            "        color: #38488f;\n",
            "        text-decoration: none;\n",
            "    }\n",
            "    @media (max-width: 700px) {\n",
            "        div {\n",
            "            margin: 0 auto;\n",
            "            width: auto;\n",
            "        }\n",
            "    }\n",
            "    </style>    \n",
            "</head>\n",
            "\n",
            "<body>\n",
            "<div>\n",
            "    <h1>Example Domain</h1>\n",
            "    <p>This domain is for use in illustrative examples in documents. You may use this\n",
            "    domain in literature without prior coordination or asking for permission.</p>\n",
            "    <p><a href=\"https://www.iana.org/domains/example\">More information...</a></p>\n",
            "</div>\n",
            "</body>\n",
            "</html>\n",
            "\n"
          ]
        }
      ]
    },
    {
      "cell_type": "markdown",
      "metadata": {
        "id": "CB9-Fcf57AWP"
      },
      "source": [
        "### re\n",
        "\n",
        "Let's forget that HTML is a tree, and try to parse it like a line."
      ]
    },
    {
      "cell_type": "code",
      "metadata": {
        "id": "waBKQ19A7AWP"
      },
      "source": [
        "import re"
      ],
      "execution_count": 113,
      "outputs": []
    },
    {
      "cell_type": "code",
      "metadata": {
        "id": "RnjAGgdt7AWP",
        "colab": {
          "base_uri": "https://localhost:8080/"
        },
        "outputId": "992b0087-dd36-46c7-9473-fc8efdf51f8b"
      },
      "source": [
        "h1 = re.findall(r'<h1>[\\w ]+</h1>', html)\n",
        "print(h1)\n",
        "h1 = re.findall(r'<h1>([\\w ]+)</h1>', html)\n",
        "print(h1)"
      ],
      "execution_count": 114,
      "outputs": [
        {
          "output_type": "stream",
          "name": "stdout",
          "text": [
            "['<h1>Example Domain</h1>']\n",
            "['Example Domain']\n"
          ]
        }
      ]
    },
    {
      "cell_type": "code",
      "metadata": {
        "id": "Tm5mKeSM7AWQ",
        "colab": {
          "base_uri": "https://localhost:8080/"
        },
        "outputId": "a9052cc0-4019-42a1-d247-7ef641824cbe"
      },
      "source": [
        "paragraphs = re.findall(r'<p>(.*)</p>', html)\n",
        "paragraphs"
      ],
      "execution_count": 115,
      "outputs": [
        {
          "output_type": "execute_result",
          "data": {
            "text/plain": [
              "['<a href=\"https://www.iana.org/domains/example\">More information...</a>']"
            ]
          },
          "metadata": {},
          "execution_count": 115
        }
      ]
    },
    {
      "cell_type": "markdown",
      "metadata": {
        "id": "CaUlccUK7AWQ"
      },
      "source": [
        "Where is the other paragraph?\n"
      ]
    },
    {
      "cell_type": "code",
      "metadata": {
        "id": "g6E3kPHS7AWQ",
        "colab": {
          "base_uri": "https://localhost:8080/"
        },
        "outputId": "55a0434e-ae5c-4d14-86da-507fec71b5c1"
      },
      "source": [
        "paragraphs = re.findall(r'<p>([\\w\\W]*)</p>', html) \n",
        "paragraphs"
      ],
      "execution_count": 116,
      "outputs": [
        {
          "output_type": "execute_result",
          "data": {
            "text/plain": [
              "['This domain is for use in illustrative examples in documents. You may use this\\n    domain in literature without prior coordination or asking for permission.</p>\\n    <p><a href=\"https://www.iana.org/domains/example\">More information...</a>']"
            ]
          },
          "metadata": {},
          "execution_count": 116
        }
      ]
    },
    {
      "cell_type": "markdown",
      "metadata": {
        "id": "c-rECul77AWQ"
      },
      "source": [
        "again not what we need.."
      ]
    },
    {
      "cell_type": "code",
      "metadata": {
        "id": "IDVaLnYi7AWQ",
        "colab": {
          "base_uri": "https://localhost:8080/"
        },
        "outputId": "9c73b9b3-52ab-4186-e3e2-3570a8bf08f7"
      },
      "source": [
        "paragraphs = re.findall(r'<p>([\\w\\W]*?)</p>', html) # * - greedy; *? - lazy (non-greedy) \n",
        "paragraphs"
      ],
      "execution_count": 117,
      "outputs": [
        {
          "output_type": "execute_result",
          "data": {
            "text/plain": [
              "['This domain is for use in illustrative examples in documents. You may use this\\n    domain in literature without prior coordination or asking for permission.',\n",
              " '<a href=\"https://www.iana.org/domains/example\">More information...</a>']"
            ]
          },
          "metadata": {},
          "execution_count": 117
        }
      ]
    },
    {
      "cell_type": "markdown",
      "metadata": {
        "id": "9vhCZkW87AWQ"
      },
      "source": [
        "tough, huh?"
      ]
    },
    {
      "cell_type": "markdown",
      "metadata": {
        "id": "yiCI1eYq7AWQ"
      },
      "source": [
        "### lxml\n",
        "\n",
        "Let's use a library that knows about the structure of XML (and HTML)."
      ]
    },
    {
      "cell_type": "code",
      "metadata": {
        "id": "T5-o1Z0F7AWQ"
      },
      "source": [
        "from lxml import etree\n",
        "from io import StringIO, BytesIO"
      ],
      "execution_count": 118,
      "outputs": []
    },
    {
      "cell_type": "code",
      "metadata": {
        "id": "jxo46g547AWQ",
        "colab": {
          "base_uri": "https://localhost:8080/"
        },
        "outputId": "cf914f2b-2e7a-4a98-b430-8a6eb1d1867c"
      },
      "source": [
        "parser = etree.HTMLParser()\n",
        "tree = etree.parse(StringIO(html), parser)\n",
        "tree"
      ],
      "execution_count": 119,
      "outputs": [
        {
          "output_type": "execute_result",
          "data": {
            "text/plain": [
              "<lxml.etree._ElementTree at 0x7f463b6410a0>"
            ]
          },
          "metadata": {},
          "execution_count": 119
        }
      ]
    },
    {
      "cell_type": "code",
      "metadata": {
        "id": "j1NhZ_UI7AWQ",
        "colab": {
          "base_uri": "https://localhost:8080/"
        },
        "outputId": "843884a8-775b-422b-d1cf-8b4da3084284"
      },
      "source": [
        "print(dir(tree))"
      ],
      "execution_count": 120,
      "outputs": [
        {
          "output_type": "stream",
          "name": "stdout",
          "text": [
            "['__class__', '__copy__', '__deepcopy__', '__delattr__', '__dir__', '__doc__', '__eq__', '__format__', '__ge__', '__getattribute__', '__gt__', '__hash__', '__init__', '__init_subclass__', '__le__', '__lt__', '__ne__', '__new__', '__pyx_vtable__', '__reduce__', '__reduce_ex__', '__repr__', '__setattr__', '__sizeof__', '__str__', '__subclasshook__', '_setroot', 'docinfo', 'find', 'findall', 'findtext', 'getelementpath', 'getiterator', 'getpath', 'getroot', 'iter', 'iterfind', 'parse', 'parser', 'relaxng', 'write', 'write_c14n', 'xinclude', 'xmlschema', 'xpath', 'xslt']\n"
          ]
        }
      ]
    },
    {
      "cell_type": "code",
      "metadata": {
        "id": "ryJgis3_7AWQ",
        "colab": {
          "base_uri": "https://localhost:8080/"
        },
        "outputId": "68cdf7d4-8dfe-487e-b9fd-90ad46a27288"
      },
      "source": [
        "print(tree.getroot())\n",
        "print(etree.tostring(tree.getroot(), pretty_print=True, method=\"html\"))"
      ],
      "execution_count": 121,
      "outputs": [
        {
          "output_type": "stream",
          "name": "stdout",
          "text": [
            "<Element html at 0x7f463b6418c0>\n",
            "b'<html>\\n<head>\\n    <title>Example Domain</title>\\n\\n    <meta charset=\"utf-8\">\\n    <meta http-equiv=\"Content-type\" content=\"text/html; charset=utf-8\">\\n    <meta name=\"viewport\" content=\"width=device-width, initial-scale=1\">\\n    <style type=\"text/css\">\\n    body {\\n        background-color: #f0f0f2;\\n        margin: 0;\\n        padding: 0;\\n        font-family: -apple-system, system-ui, BlinkMacSystemFont, \"Segoe UI\", \"Open Sans\", \"Helvetica Neue\", Helvetica, Arial, sans-serif;\\n        \\n    }\\n    div {\\n        width: 600px;\\n        margin: 5em auto;\\n        padding: 2em;\\n        background-color: #fdfdff;\\n        border-radius: 0.5em;\\n        box-shadow: 2px 3px 7px 2px rgba(0,0,0,0.02);\\n    }\\n    a:link, a:visited {\\n        color: #38488f;\\n        text-decoration: none;\\n    }\\n    @media (max-width: 700px) {\\n        div {\\n            margin: 0 auto;\\n            width: auto;\\n        }\\n    }\\n    </style>    \\n</head>\\n\\n<body>\\n<div>\\n    <h1>Example Domain</h1>\\n    <p>This domain is for use in illustrative examples in documents. You may use this\\n    domain in literature without prior coordination or asking for permission.</p>\\n    <p><a href=\"https://www.iana.org/domains/example\">More information...</a></p>\\n</div>\\n</body>\\n</html>\\n'\n"
          ]
        }
      ]
    },
    {
      "cell_type": "code",
      "metadata": {
        "id": "sw6rDenj7AWR",
        "colab": {
          "base_uri": "https://localhost:8080/"
        },
        "outputId": "ef6d4a27-7d85-4476-ac8c-bb8ded48fd8e"
      },
      "source": [
        "paragraphs = tree.xpath('//p')\n",
        "for p in paragraphs:\n",
        "    print(p.text)  "
      ],
      "execution_count": 122,
      "outputs": [
        {
          "output_type": "stream",
          "name": "stdout",
          "text": [
            "This domain is for use in illustrative examples in documents. You may use this\n",
            "    domain in literature without prior coordination or asking for permission.\n",
            "None\n"
          ]
        }
      ]
    },
    {
      "cell_type": "code",
      "metadata": {
        "id": "QWPv91bL7AWR",
        "colab": {
          "base_uri": "https://localhost:8080/"
        },
        "outputId": "7d30835c-e2ca-4cf4-ae4a-711ad49c8a5b"
      },
      "source": [
        "for p in paragraphs:\n",
        "    print(etree.tostring(p, pretty_print=True, method='html'))  "
      ],
      "execution_count": 123,
      "outputs": [
        {
          "output_type": "stream",
          "name": "stdout",
          "text": [
            "b'<p>This domain is for use in illustrative examples in documents. You may use this\\n    domain in literature without prior coordination or asking for permission.</p>\\n    \\n'\n",
            "b'<p><a href=\"https://www.iana.org/domains/example\">More information...</a></p>\\n\\n'\n"
          ]
        }
      ]
    },
    {
      "cell_type": "code",
      "metadata": {
        "id": "WzTzcaOx7AWR",
        "colab": {
          "base_uri": "https://localhost:8080/"
        },
        "outputId": "a8f666bf-1e12-406e-a0ef-a7b14108526e"
      },
      "source": [
        "hrefs = tree.xpath('//a')\n",
        "for href in hrefs:\n",
        "    print(href.text)  \n",
        "    print(href.attrib)  "
      ],
      "execution_count": 124,
      "outputs": [
        {
          "output_type": "stream",
          "name": "stdout",
          "text": [
            "More information...\n",
            "{'href': 'https://www.iana.org/domains/example'}\n"
          ]
        }
      ]
    },
    {
      "cell_type": "code",
      "metadata": {
        "id": "YbjfLr-07AWR",
        "colab": {
          "base_uri": "https://localhost:8080/"
        },
        "outputId": "bb0cdc1a-9178-43b9-869d-8736843ce36d"
      },
      "source": [
        "specific_hrefs = tree.xpath('//a[@href=\"http://www.non-existing-domain.org/\"]')\n",
        "specific_hrefs"
      ],
      "execution_count": 125,
      "outputs": [
        {
          "output_type": "execute_result",
          "data": {
            "text/plain": [
              "[]"
            ]
          },
          "metadata": {},
          "execution_count": 125
        }
      ]
    },
    {
      "cell_type": "markdown",
      "metadata": {
        "id": "1b08qfsE7AWR"
      },
      "source": [
        "### BeautifulSoup\n",
        "\n",
        "Another option that works well for parsing HTML."
      ]
    },
    {
      "cell_type": "code",
      "metadata": {
        "scrolled": true,
        "id": "JNrOynZu7AWR"
      },
      "source": [
        "try:\n",
        "    from bs4 import BeautifulSoup\n",
        "except:\n",
        "    !pip install bs4 "
      ],
      "execution_count": 126,
      "outputs": []
    },
    {
      "cell_type": "code",
      "metadata": {
        "id": "-DiIbV2P7AWR"
      },
      "source": [
        "soup = BeautifulSoup(html, 'lxml')"
      ],
      "execution_count": 127,
      "outputs": []
    },
    {
      "cell_type": "code",
      "metadata": {
        "id": "B15eA4yi7AWR",
        "colab": {
          "base_uri": "https://localhost:8080/"
        },
        "outputId": "f4aa8fad-deb5-4a56-eb67-4c2179b9d15a"
      },
      "source": [
        "paragraphs = soup.find_all('p')\n",
        "paragraphs"
      ],
      "execution_count": 128,
      "outputs": [
        {
          "output_type": "execute_result",
          "data": {
            "text/plain": [
              "[<p>This domain is for use in illustrative examples in documents. You may use this\n",
              "     domain in literature without prior coordination or asking for permission.</p>,\n",
              " <p><a href=\"https://www.iana.org/domains/example\">More information...</a></p>]"
            ]
          },
          "metadata": {},
          "execution_count": 128
        }
      ]
    },
    {
      "cell_type": "code",
      "metadata": {
        "id": "bkNOUfdu7AWR",
        "colab": {
          "base_uri": "https://localhost:8080/"
        },
        "outputId": "e110bd1e-6ab0-484a-80c3-5ef138937e36"
      },
      "source": [
        "hrefs = soup.find_all('a')\n",
        "hrefs"
      ],
      "execution_count": 129,
      "outputs": [
        {
          "output_type": "execute_result",
          "data": {
            "text/plain": [
              "[<a href=\"https://www.iana.org/domains/example\">More information...</a>]"
            ]
          },
          "metadata": {},
          "execution_count": 129
        }
      ]
    },
    {
      "cell_type": "code",
      "metadata": {
        "id": "sPXlGBFs7AWR",
        "colab": {
          "base_uri": "https://localhost:8080/"
        },
        "outputId": "d390223c-2ced-4a53-cbb3-ca91371c8b22"
      },
      "source": [
        "hrefs = soup.find_all('a', href='https://www.iana.org/domains/example')\n",
        "hrefs"
      ],
      "execution_count": 130,
      "outputs": [
        {
          "output_type": "execute_result",
          "data": {
            "text/plain": [
              "[<a href=\"https://www.iana.org/domains/example\">More information...</a>]"
            ]
          },
          "metadata": {},
          "execution_count": 130
        }
      ]
    },
    {
      "cell_type": "code",
      "metadata": {
        "id": "JN_F_nA17AWS",
        "colab": {
          "base_uri": "https://localhost:8080/"
        },
        "outputId": "f01fe9e5-7f9c-4d40-ef44-18d9696f69ad"
      },
      "source": [
        "hrefs = soup.find_all('a', href='http://www.other-website.org/domains/example')\n",
        "hrefs"
      ],
      "execution_count": 131,
      "outputs": [
        {
          "output_type": "execute_result",
          "data": {
            "text/plain": [
              "[]"
            ]
          },
          "metadata": {},
          "execution_count": 131
        }
      ]
    },
    {
      "cell_type": "markdown",
      "metadata": {
        "id": "ol6FQmz07AWS"
      },
      "source": [
        "## Performance"
      ]
    },
    {
      "cell_type": "code",
      "metadata": {
        "id": "ui9_FL3m7AWT",
        "colab": {
          "base_uri": "https://localhost:8080/"
        },
        "outputId": "f6ce2c65-ec8c-478a-b097-0bd1474a5a5d"
      },
      "source": [
        "%timeit re.findall(r'<p>.*?</p>', html, re.DOTALL)\n",
        "%timeit tree.xpath('//p')\n",
        "%timeit soup.find_all('p')"
      ],
      "execution_count": 132,
      "outputs": [
        {
          "output_type": "stream",
          "name": "stdout",
          "text": [
            "The slowest run took 5.38 times longer than the fastest. This could mean that an intermediate result is being cached.\n",
            "100000 loops, best of 5: 5.62 µs per loop\n",
            "The slowest run took 21.15 times longer than the fastest. This could mean that an intermediate result is being cached.\n",
            "100000 loops, best of 5: 11.1 µs per loop\n",
            "10000 loops, best of 5: 20 µs per loop\n"
          ]
        }
      ]
    },
    {
      "cell_type": "markdown",
      "metadata": {
        "id": "wlsorCYa7AWT"
      },
      "source": [
        "Moral: regex is fast.\n",
        "\n",
        "BeautifulSoup is a bit slower than lxml, as for convenience, it converts the document into a certain internal format - in fact, soup."
      ]
    },
    {
      "cell_type": "markdown",
      "metadata": {
        "id": "-RgVbXOD7AWU"
      },
      "source": [
        "## If enough time and you want a very lively practice: scrapy\n",
        "\n",
        "It takes about 5-10 minutes, depending on the quality of the Internet.\n",
        "\n",
        "And at the same time we'll practice ipython magic!\n",
        "\n",
        "We will parse a site with an archive of cryptocurrency rates: https://coinmarketcap.com/.\n",
        "\n",
        "We want to open [historical snapshots](https://coinmarketcap.com/historical/) and for each week to download the full table.\n",
        "\n",
        "### Important!\n",
        "\n",
        "It is not necessary to understand what will happen next.\n",
        "\n",
        "Moral: there are frameworks that take full responsibility for receiving and parsing HTML.\n",
        "\n",
        "And they also know how to parallelize the process, insert random delays (so that the servers do not think that you are a robot and block your requests) and it is convenient to export the received data (for example, to the database). And much more. <br> And all this is controlled by `scrapy.cfg` - one configuration file.\n",
        "\n",
        "You just have to indicate which pieces of text you need to grab. And into what base to put it. Well, almost. :)"
      ]
    },
    {
      "cell_type": "code",
      "metadata": {
        "id": "UDR_vH2-7AWU"
      },
      "source": [
        "try:\n",
        "    import scrapy\n",
        "except:\n",
        "    !pip install scrapy"
      ],
      "execution_count": 133,
      "outputs": []
    },
    {
      "cell_type": "code",
      "metadata": {
        "id": "RE-bua8F7AWU"
      },
      "source": [
        "try:\n",
        "    !rm -rf coinmarketcap\n",
        "except:\n",
        "    pass"
      ],
      "execution_count": 134,
      "outputs": []
    },
    {
      "cell_type": "code",
      "metadata": {
        "id": "1sj_JlEj7AWU",
        "colab": {
          "base_uri": "https://localhost:8080/"
        },
        "outputId": "074535b4-6124-4c4a-eda3-36e82694a42f"
      },
      "source": [
        "!scrapy startproject coinmarketcap"
      ],
      "execution_count": 135,
      "outputs": [
        {
          "output_type": "stream",
          "name": "stdout",
          "text": [
            "New Scrapy project 'coinmarketcap', using template directory '/usr/local/lib/python3.7/dist-packages/scrapy/templates/project', created in:\n",
            "    /content/coinmarketcap\n",
            "\n",
            "You can start your first spider with:\n",
            "    cd coinmarketcap\n",
            "    scrapy genspider example example.com\n"
          ]
        }
      ]
    },
    {
      "cell_type": "markdown",
      "metadata": {
        "id": "TqkJgtN77AWU"
      },
      "source": [
        "What's inside?"
      ]
    },
    {
      "cell_type": "code",
      "metadata": {
        "id": "-OVfNykj7AWU",
        "colab": {
          "base_uri": "https://localhost:8080/"
        },
        "outputId": "ab1047eb-ff63-463a-c1df-f12bc1b0e580"
      },
      "source": [
        "!cd coinmarketcap; ls -R"
      ],
      "execution_count": 136,
      "outputs": [
        {
          "output_type": "stream",
          "name": "stdout",
          "text": [
            ".:\n",
            "coinmarketcap  scrapy.cfg\n",
            "\n",
            "./coinmarketcap:\n",
            "__init__.py  items.py  middlewares.py  pipelines.py  settings.py  spiders\n",
            "\n",
            "./coinmarketcap/spiders:\n",
            "__init__.py\n"
          ]
        }
      ]
    },
    {
      "cell_type": "markdown",
      "metadata": {
        "id": "jysiKzKN7AWU"
      },
      "source": [
        "A special function to form code in a scrapy project from an ipynb:"
      ]
    },
    {
      "cell_type": "code",
      "metadata": {
        "id": "_zqmjDlH7AWU"
      },
      "source": [
        "def dump_to(path):\n",
        "    with open(path, 'w') as f:\n",
        "        f.write(_i)  # _i is \"the last executed Input\" in iPython"
      ],
      "execution_count": 137,
      "outputs": []
    },
    {
      "cell_type": "markdown",
      "metadata": {
        "id": "K0Ksbpxc7AWU"
      },
      "source": [
        "### Attention!\n",
        "\n",
        "The following cells will fail. <br> We simply put the code in Input, and then transfer it to the desired file."
      ]
    },
    {
      "cell_type": "markdown",
      "metadata": {
        "id": "fXmwLRI37AWU"
      },
      "source": [
        "### Item: first we’ll determine what we want to collect"
      ]
    },
    {
      "cell_type": "code",
      "metadata": {
        "id": "Myy8h3Dc7AWU"
      },
      "source": [
        "# -*- coding:utf8 -*-\n",
        "\n",
        "import scrapy\n",
        "\n",
        "\n",
        "class CurrencyItem(scrapy.Item):\n",
        "    date = scrapy.Field()\n",
        "    name = scrapy.Field()\n",
        "    symbol = scrapy.Field()\n",
        "    market_cap = scrapy.Field()\n",
        "    price = scrapy.Field()"
      ],
      "execution_count": 138,
      "outputs": []
    },
    {
      "cell_type": "code",
      "metadata": {
        "id": "aZkQt_BR7AWU"
      },
      "source": [
        "dump_to('./coinmarketcap/coinmarketcap/items.py')"
      ],
      "execution_count": 139,
      "outputs": []
    },
    {
      "cell_type": "markdown",
      "metadata": {
        "id": "s9bAbVnt7AWU"
      },
      "source": [
        "### Spider: the one who collects Items"
      ]
    },
    {
      "cell_type": "code",
      "metadata": {
        "id": "s3KHd40l7AWV",
        "colab": {
          "base_uri": "https://localhost:8080/",
          "height": 374
        },
        "outputId": "694341a2-a536-4ac4-8c0f-81155330daa3"
      },
      "source": [
        "# -*- coding:utf8 -*-\n",
        "\n",
        "from scrapy import Request\n",
        "from scrapy.spiders import CrawlSpider, Rule\n",
        "from scrapy.linkextractors import LinkExtractor\n",
        "from scrapy.loader.processors import Join\n",
        "from scrapy.loader import ItemLoader\n",
        "from scrapy.selector import Selector\n",
        "from coinmarketcap.items import CurrencyItem\n",
        "\n",
        "class CurrencyLoader(ItemLoader):\n",
        "    pass\n",
        "\n",
        "class WeeklySpider(CrawlSpider):\n",
        "    name = 'weekly'\n",
        "    allowed_domains = ['coinmarketcap.com']\n",
        "    start_urls = ['https://coinmarketcap.com/historical/']\n",
        "    only_2021_april_regex = '/202104[0-9]{2}' # full history parsing takes ~4 hrs \n",
        "\n",
        "    rules = (\n",
        "        Rule(LinkExtractor(allow=(only_2021_april_regex, )), callback='parse_weekly_report', follow=False),\n",
        "    )\n",
        "\n",
        "    def parse_weekly_report(self, response):\n",
        "        \n",
        "        hxs = Selector(response)\n",
        "        items_html = hxs.xpath('//table//tr')\n",
        "        #print(len(items_html),type(items_html),dir(items_html))\n",
        "        #print(items_html)\n",
        "        items = []\n",
        "        \n",
        "        item_names = items_html.xpath('//td[@class=\"cmc-table__cell cmc-table__cell--sticky cmc-table__cell--sortable cmc-table__cell--left cmc-table__cell--sort-by__name\"]//div//a/text()').extract()\n",
        "        item_symbols = items_html.xpath('//td[@class=\"cmc-table__cell cmc-table__cell--sortable cmc-table__cell--left cmc-table__cell--sort-by__symbol\"]//div/text()').extract()\n",
        "        item_caps = items_html.xpath('//td[@class=\"cmc-table__cell cmc-table__cell--sortable cmc-table__cell--right cmc-table__cell--sort-by__market-cap\"]//p/text()').extract()\n",
        "        item_prices = items_html.xpath('//td[@class=\"cmc-table__cell cmc-table__cell--sortable cmc-table__cell--right cmc-table__cell--sort-by__price\"]//a/text()').extract()\n",
        "        print(response.request.url)\n",
        "        #print(len(item_prices),item_prices)\n",
        "        \n",
        "        for i in range(200):\n",
        "\n",
        "            item = CurrencyItem()\n",
        "            item['date'] = response.request.url.split('/')[-2]\n",
        "            item['name'] = item_names[i]\n",
        "            item['symbol'] = item_symbols[i]\n",
        "            item['market_cap'] = item_caps[i]\n",
        "            item['price'] = item_prices[i]\n",
        "\n",
        "            yield item\n",
        "          "
      ],
      "execution_count": 142,
      "outputs": [
        {
          "output_type": "error",
          "ename": "ModuleNotFoundError",
          "evalue": "ignored",
          "traceback": [
            "\u001b[0;31m---------------------------------------------------------------------------\u001b[0m",
            "\u001b[0;31mModuleNotFoundError\u001b[0m                       Traceback (most recent call last)",
            "\u001b[0;32m<ipython-input-142-ebd35b0ec8ed>\u001b[0m in \u001b[0;36m<module>\u001b[0;34m()\u001b[0m\n\u001b[1;32m      7\u001b[0m \u001b[0;32mfrom\u001b[0m \u001b[0mscrapy\u001b[0m\u001b[0;34m.\u001b[0m\u001b[0mloader\u001b[0m \u001b[0;32mimport\u001b[0m \u001b[0mItemLoader\u001b[0m\u001b[0;34m\u001b[0m\u001b[0;34m\u001b[0m\u001b[0m\n\u001b[1;32m      8\u001b[0m \u001b[0;32mfrom\u001b[0m \u001b[0mscrapy\u001b[0m\u001b[0;34m.\u001b[0m\u001b[0mselector\u001b[0m \u001b[0;32mimport\u001b[0m \u001b[0mSelector\u001b[0m\u001b[0;34m\u001b[0m\u001b[0;34m\u001b[0m\u001b[0m\n\u001b[0;32m----> 9\u001b[0;31m \u001b[0;32mfrom\u001b[0m \u001b[0mcoinmarketcap\u001b[0m\u001b[0;34m.\u001b[0m\u001b[0mitems\u001b[0m \u001b[0;32mimport\u001b[0m \u001b[0mCurrencyItem\u001b[0m\u001b[0;34m\u001b[0m\u001b[0;34m\u001b[0m\u001b[0m\n\u001b[0m\u001b[1;32m     10\u001b[0m \u001b[0;34m\u001b[0m\u001b[0m\n\u001b[1;32m     11\u001b[0m \u001b[0;32mclass\u001b[0m \u001b[0mCurrencyLoader\u001b[0m\u001b[0;34m(\u001b[0m\u001b[0mItemLoader\u001b[0m\u001b[0;34m)\u001b[0m\u001b[0;34m:\u001b[0m\u001b[0;34m\u001b[0m\u001b[0;34m\u001b[0m\u001b[0m\n",
            "\u001b[0;31mModuleNotFoundError\u001b[0m: No module named 'coinmarketcap.items'",
            "",
            "\u001b[0;31m---------------------------------------------------------------------------\u001b[0;32m\nNOTE: If your import is failing due to a missing package, you can\nmanually install dependencies using either !pip or !apt.\n\nTo view examples of installing some common dependencies, click the\n\"Open Examples\" button below.\n\u001b[0;31m---------------------------------------------------------------------------\u001b[0m\n"
          ],
          "errorDetails": {
            "actions": [
              {
                "action": "open_url",
                "actionText": "Open Examples",
                "url": "/notebooks/snippets/importing_libraries.ipynb"
              }
            ]
          }
        }
      ]
    },
    {
      "cell_type": "code",
      "metadata": {
        "id": "2griPK3O7AWV"
      },
      "source": [
        "dump_to('./coinmarketcap/coinmarketcap/spiders/weekly.py')"
      ],
      "execution_count": 141,
      "outputs": []
    },
    {
      "cell_type": "markdown",
      "metadata": {
        "id": "JqEjtl3F7AWV"
      },
      "source": [
        "### Pipeline: for instance, export to a database\n"
      ]
    },
    {
      "cell_type": "code",
      "metadata": {
        "id": "VccI_Uvo7AWV",
        "colab": {
          "base_uri": "https://localhost:8080/",
          "height": 374
        },
        "outputId": "03ddc66e-a97c-48dc-eeec-d965b22151f3"
      },
      "source": [
        "# -*- coding: utf-8 -*-\n",
        "\n",
        "import os, logging\n",
        "from sqlalchemy.ext.declarative import declarative_base\n",
        "from sqlalchemy import create_engine, Table, Column, Integer, String, Date, MetaData, ForeignKey\n",
        "from sqlalchemy.engine.url import URL\n",
        "from sqlalchemy.orm import sessionmaker\n",
        "from sqlalchemy.pool import NullPool\n",
        "from scrapy.exceptions import DropItem\n",
        "from scrapy import signals\n",
        "from coinmarketcap.items import CurrencyItem\n",
        "import pandas as pd\n",
        "from collections import Counter\n",
        "\n",
        "logger = logging.getLogger(__name__)\n",
        "\n",
        "DeclarativeBase = declarative_base()\n",
        "\n",
        "class Currency(DeclarativeBase):\n",
        "    __tablename__ = 'currency'\n",
        "    __table_args__ = {'sqlite_autoincrement': True}\n",
        "\n",
        "    id = Column('id', Integer, primary_key=True)\n",
        "    date = Column('date', Date)\n",
        "    name = Column('name', String)\n",
        "    symbol = Column('symbol', String)\n",
        "    market_cap = Column('market_cap', String)\n",
        "    price = Column('price', String)\n",
        "\n",
        "    def __init__(self, item):\n",
        "        self.date = pd.to_datetime(item['date'], format='%Y%m%d')\n",
        "        self.name = item['name']\n",
        "        self.symbol = item['symbol']\n",
        "        self.market_cap = item['market_cap']\n",
        "        self.price = item['price']\n",
        "\n",
        "    def __repr__(self):\n",
        "        return \"<Currency({0}, {1}, {2})>\".format(self.id, self.symbol, self.market_cap)\n",
        "\n",
        "\n",
        "class SqlitePipeline(object):\n",
        "    def __init__(self, settings):\n",
        "        self.database = settings.get('DATABASE')\n",
        "        self.sessions = {}\n",
        "\n",
        "    @classmethod\n",
        "    def from_crawler(cls, crawler):\n",
        "        pipeline = cls(crawler.settings)\n",
        "        crawler.signals.connect(pipeline.spider_closed, signals.spider_closed)\n",
        "        crawler.signals.connect(pipeline.spider_opened, signals.spider_opened)\n",
        "        return pipeline\n",
        "\n",
        "    def create_engine(self):\n",
        "        engine = create_engine(URL(**self.database), poolclass=NullPool)\n",
        "        return engine\n",
        "\n",
        "    def create_tables(self, engine):\n",
        "        DeclarativeBase.metadata.create_all(engine, checkfirst=True)\n",
        "\n",
        "    def create_session(self, engine):\n",
        "        session = sessionmaker(bind=engine)()\n",
        "        return session\n",
        "\n",
        "    def spider_opened(self, spider):\n",
        "        engine = self.create_engine()\n",
        "        self.create_tables(engine)\n",
        "        session = self.create_session(engine)\n",
        "        self.sessions[spider] = session\n",
        "\n",
        "    def spider_closed(self, spider):\n",
        "        session = self.sessions.pop(spider)\n",
        "        session.close()\n",
        "\n",
        "    def process_item(self, item, spider):\n",
        "        session = self.sessions[spider]\n",
        "        currency = Currency(item)\n",
        "        link_exists = session.query(Currency).filter_by(symbol=item['symbol'], date=item['date']).first() is not None\n",
        "        \n",
        "        if link_exists:\n",
        "            logger.info('Item {} is in db'.format(currency))\n",
        "            return item\n",
        "\n",
        "        try:\n",
        "            session.add(currency)\n",
        "            session.commit()\n",
        "            logger.info('Item {} stored in db'.format(currency))\n",
        "        except Exception as e:\n",
        "            logger.info('Failed to add {} to db'.format(currency))\n",
        "            session.rollback()\n",
        "            raise e\n",
        "\n",
        "        return item"
      ],
      "execution_count": 154,
      "outputs": [
        {
          "output_type": "error",
          "ename": "ModuleNotFoundError",
          "evalue": "ignored",
          "traceback": [
            "\u001b[0;31m---------------------------------------------------------------------------\u001b[0m",
            "\u001b[0;31mModuleNotFoundError\u001b[0m                       Traceback (most recent call last)",
            "\u001b[0;32m<ipython-input-154-6bbed3252719>\u001b[0m in \u001b[0;36m<module>\u001b[0;34m()\u001b[0m\n\u001b[1;32m      9\u001b[0m \u001b[0;32mfrom\u001b[0m \u001b[0mscrapy\u001b[0m\u001b[0;34m.\u001b[0m\u001b[0mexceptions\u001b[0m \u001b[0;32mimport\u001b[0m \u001b[0mDropItem\u001b[0m\u001b[0;34m\u001b[0m\u001b[0;34m\u001b[0m\u001b[0m\n\u001b[1;32m     10\u001b[0m \u001b[0;32mfrom\u001b[0m \u001b[0mscrapy\u001b[0m \u001b[0;32mimport\u001b[0m \u001b[0msignals\u001b[0m\u001b[0;34m\u001b[0m\u001b[0;34m\u001b[0m\u001b[0m\n\u001b[0;32m---> 11\u001b[0;31m \u001b[0;32mfrom\u001b[0m \u001b[0mcoinmarketcap\u001b[0m\u001b[0;34m.\u001b[0m\u001b[0mitems\u001b[0m \u001b[0;32mimport\u001b[0m \u001b[0mCurrencyItem\u001b[0m\u001b[0;34m\u001b[0m\u001b[0;34m\u001b[0m\u001b[0m\n\u001b[0m\u001b[1;32m     12\u001b[0m \u001b[0;32mimport\u001b[0m \u001b[0mpandas\u001b[0m \u001b[0;32mas\u001b[0m \u001b[0mpd\u001b[0m\u001b[0;34m\u001b[0m\u001b[0;34m\u001b[0m\u001b[0m\n\u001b[1;32m     13\u001b[0m \u001b[0;32mfrom\u001b[0m \u001b[0mcollections\u001b[0m \u001b[0;32mimport\u001b[0m \u001b[0mCounter\u001b[0m\u001b[0;34m\u001b[0m\u001b[0;34m\u001b[0m\u001b[0m\n",
            "\u001b[0;31mModuleNotFoundError\u001b[0m: No module named 'coinmarketcap.items'",
            "",
            "\u001b[0;31m---------------------------------------------------------------------------\u001b[0;32m\nNOTE: If your import is failing due to a missing package, you can\nmanually install dependencies using either !pip or !apt.\n\nTo view examples of installing some common dependencies, click the\n\"Open Examples\" button below.\n\u001b[0;31m---------------------------------------------------------------------------\u001b[0m\n"
          ],
          "errorDetails": {
            "actions": [
              {
                "action": "open_url",
                "actionText": "Open Examples",
                "url": "/notebooks/snippets/importing_libraries.ipynb"
              }
            ]
          }
        }
      ]
    },
    {
      "cell_type": "code",
      "metadata": {
        "id": "PdKY4nbD7AWV"
      },
      "source": [
        "dump_to('./coinmarketcap/coinmarketcap/pipelines.py')"
      ],
      "execution_count": 155,
      "outputs": []
    },
    {
      "cell_type": "markdown",
      "metadata": {
        "id": "Eebjj_Ut7AWV"
      },
      "source": [
        "### Settings:  scrapy settings"
      ]
    },
    {
      "cell_type": "code",
      "metadata": {
        "id": "kEO_nLwT7AWV"
      },
      "source": [
        "# -*- coding: utf-8 -*-\n",
        "\n",
        "# Scrapy settings for coinmarketcap project\n",
        "#\n",
        "# For simplicity, this file contains only settings considered important or\n",
        "# commonly used. You can find more settings consulting the documentation:\n",
        "#\n",
        "#     https://doc.scrapy.org/en/latest/topics/settings.html\n",
        "#     https://doc.scrapy.org/en/latest/topics/downloader-middleware.html\n",
        "#     https://doc.scrapy.org/en/latest/topics/spider-middleware.html\n",
        "\n",
        "BOT_NAME = 'coinmarketcap'\n",
        "\n",
        "SPIDER_MODULES = ['coinmarketcap.spiders']\n",
        "NEWSPIDER_MODULE = 'coinmarketcap.spiders'\n",
        "\n",
        "DATABASE = {\n",
        "    'drivername': 'sqlite',\n",
        "    # 'host': 'localhost',\n",
        "    # 'port': '5432',\n",
        "    # 'username': 'YOUR_USERNAME',\n",
        "    # 'password': 'YOUR_PASSWORD',\n",
        "    'database': 'weekly.sqlite'\n",
        "}\n",
        "\n",
        "# Crawl responsibly by identifying yourself (and your website) on the user-agent\n",
        "USER_AGENT = '%s' % (BOT_NAME)\n",
        "\n",
        "# Obey robots.txt rules\n",
        "# ROBOTSTXT_OBEY = True\n",
        "\n",
        "# Configure maximum concurrent requests performed by Scrapy (default: 16)\n",
        "CONCURRENT_REQUESTS = 1\n",
        "\n",
        "# Configure a delay for requests for the same website (default: 0)\n",
        "# See https://doc.scrapy.org/en/latest/topics/settings.html#download-delay\n",
        "# See also autothrottle settings and docs\n",
        "#DOWNLOAD_DELAY = 3\n",
        "# The download delay setting will honor only one of:\n",
        "#CONCURRENT_REQUESTS_PER_DOMAIN = 16\n",
        "#CONCURRENT_REQUESTS_PER_IP = 16\n",
        "\n",
        "# Disable cookies (enabled by default)\n",
        "#COOKIES_ENABLED = False\n",
        "\n",
        "# Disable Telnet Console (enabled by default)\n",
        "#TELNETCONSOLE_ENABLED = False\n",
        "\n",
        "# Override the default request headers:\n",
        "#DEFAULT_REQUEST_HEADERS = {\n",
        "#   'Accept': 'text/html,application/xhtml+xml,application/xml;q=0.9,*/*;q=0.8',\n",
        "#   'Accept-Language': 'en',\n",
        "#}\n",
        "\n",
        "# Enable or disable spider middlewares\n",
        "# See https://doc.scrapy.org/en/latest/topics/spider-middleware.html\n",
        "#SPIDER_MIDDLEWARES = {\n",
        "#    'coinmarketcap.middlewares.CoinmarketcapSpiderMiddleware': 543,\n",
        "#}\n",
        "\n",
        "# Enable or disable downloader middlewares\n",
        "# See https://doc.scrapy.org/en/latest/topics/downloader-middleware.html\n",
        "#DOWNLOADER_MIDDLEWARES = {\n",
        "#    'coinmarketcap.middlewares.CoinmarketcapDownloaderMiddleware': 543,\n",
        "#}\n",
        "\n",
        "# Enable or disable extensions\n",
        "# See https://doc.scrapy.org/en/latest/topics/extensions.html\n",
        "#EXTENSIONS = {\n",
        "#    'scrapy.extensions.telnet.TelnetConsole': None,\n",
        "#}\n",
        "\n",
        "# Configure item pipelines\n",
        "# See https://doc.scrapy.org/en/latest/topics/item-pipeline.html\n",
        "ITEM_PIPELINES = {\n",
        "   'coinmarketcap.pipelines.SqlitePipeline': 300,\n",
        "}\n",
        "\n",
        "# Enable and configure the AutoThrottle extension (disabled by default)\n",
        "# See https://doc.scrapy.org/en/latest/topics/autothrottle.html\n",
        "AUTOTHROTTLE_ENABLED = False\n",
        "# The initial download delay\n",
        "AUTOTHROTTLE_START_DELAY = 5\n",
        "# The maximum download delay to be set in case of high latencies\n",
        "AUTOTHROTTLE_MAX_DELAY = 60\n",
        "# The average number of requests Scrapy should be sending in parallel to\n",
        "# each remote server\n",
        "#AUTOTHROTTLE_TARGET_CONCURRENCY = 1.0\n",
        "# Enable showing throttling stats for every response received:\n",
        "#AUTOTHROTTLE_DEBUG = False\n",
        "\n",
        "# Enable and configure HTTP caching (disabled by default)\n",
        "# See https://doc.scrapy.org/en/latest/topics/downloader-middleware.html#httpcache-middleware-settings\n",
        "#HTTPCACHE_ENABLED = True\n",
        "#HTTPCACHE_EXPIRATION_SECS = 0\n",
        "#HTTPCACHE_DIR = 'httpcache'\n",
        "#HTTPCACHE_IGNORE_HTTP_CODES = []\n",
        "#HTTPCACHE_STORAGE = 'scrapy.extensions.httpcache.FilesystemCacheStorage'\n",
        "\n",
        "LOG_FILE = 'crawling.log'"
      ],
      "execution_count": 146,
      "outputs": []
    },
    {
      "cell_type": "code",
      "metadata": {
        "id": "xcfxvOi47AWW"
      },
      "source": [
        "dump_to('./coinmarketcap/coinmarketcap/settings.py')"
      ],
      "execution_count": 147,
      "outputs": []
    },
    {
      "cell_type": "markdown",
      "metadata": {
        "id": "CcT8qGVQ7AWW"
      },
      "source": [
        "Let's look at the structure of the scrapy project one more time"
      ]
    },
    {
      "cell_type": "code",
      "metadata": {
        "id": "hNAOcgqc7AWW",
        "colab": {
          "base_uri": "https://localhost:8080/"
        },
        "outputId": "a24df540-22fc-4392-d3b4-31f761de0f1c"
      },
      "source": [
        "!cd coinmarketcap; ls -R"
      ],
      "execution_count": 148,
      "outputs": [
        {
          "output_type": "stream",
          "name": "stdout",
          "text": [
            ".:\n",
            "coinmarketcap  scrapy.cfg\n",
            "\n",
            "./coinmarketcap:\n",
            "__init__.py  items.py  middlewares.py  pipelines.py  settings.py  spiders\n",
            "\n",
            "./coinmarketcap/spiders:\n",
            "__init__.py  weekly.py\n"
          ]
        }
      ]
    },
    {
      "cell_type": "markdown",
      "metadata": {
        "id": "D8DSLulE7AWW"
      },
      "source": [
        "### That's all! \n",
        "\n",
        "Let's run the spider! \n",
        "\n",
        "We go through only the April data.\n",
        "\n",
        "5-7 minutes with good internet."
      ]
    },
    {
      "cell_type": "code",
      "metadata": {
        "id": "CBiZ67Q67AWW",
        "colab": {
          "base_uri": "https://localhost:8080/"
        },
        "outputId": "7013fa66-d05d-458e-c887-a821bcbfa49c"
      },
      "source": [
        "%%timeit -n 1 -r 1\n",
        "!cd coinmarketcap ; scrapy crawl weekly"
      ],
      "execution_count": 156,
      "outputs": [
        {
          "output_type": "stream",
          "name": "stdout",
          "text": [
            "https://coinmarketcap.com/historical/20210404/\n",
            "https://coinmarketcap.com/historical/20210425/\n",
            "https://coinmarketcap.com/historical/20210418/\n",
            "https://coinmarketcap.com/historical/20210411/\n",
            "1 loop, best of 1: 4.43 s per loop\n"
          ]
        }
      ]
    },
    {
      "cell_type": "markdown",
      "metadata": {
        "id": "FVfdh3YB7AWW"
      },
      "source": [
        "Let's see what we've got:"
      ]
    },
    {
      "cell_type": "code",
      "metadata": {
        "id": "-HgFwWKA7AWW",
        "colab": {
          "base_uri": "https://localhost:8080/",
          "height": 67
        },
        "outputId": "5602c235-f919-49d3-a552-af5c85bef58b"
      },
      "source": [
        "import sqlite3\n",
        "import pandas as pd\n",
        "\n",
        "connection = sqlite3.connect('./coinmarketcap/weekly.sqlite')\n",
        "\n",
        "df = pd.read_sql_query(\"SELECT * FROM currency\", connection)\n",
        "print(df.shape)\n",
        "df.head()"
      ],
      "execution_count": 157,
      "outputs": [
        {
          "output_type": "stream",
          "name": "stdout",
          "text": [
            "(0, 6)\n"
          ]
        },
        {
          "output_type": "execute_result",
          "data": {
            "text/html": [
              "<div>\n",
              "<style scoped>\n",
              "    .dataframe tbody tr th:only-of-type {\n",
              "        vertical-align: middle;\n",
              "    }\n",
              "\n",
              "    .dataframe tbody tr th {\n",
              "        vertical-align: top;\n",
              "    }\n",
              "\n",
              "    .dataframe thead th {\n",
              "        text-align: right;\n",
              "    }\n",
              "</style>\n",
              "<table border=\"1\" class=\"dataframe\">\n",
              "  <thead>\n",
              "    <tr style=\"text-align: right;\">\n",
              "      <th></th>\n",
              "      <th>id</th>\n",
              "      <th>date</th>\n",
              "      <th>name</th>\n",
              "      <th>symbol</th>\n",
              "      <th>market_cap</th>\n",
              "      <th>price</th>\n",
              "    </tr>\n",
              "  </thead>\n",
              "  <tbody>\n",
              "  </tbody>\n",
              "</table>\n",
              "</div>"
            ],
            "text/plain": [
              "Empty DataFrame\n",
              "Columns: [id, date, name, symbol, market_cap, price]\n",
              "Index: []"
            ]
          },
          "metadata": {},
          "execution_count": 157
        }
      ]
    },
    {
      "cell_type": "code",
      "metadata": {
        "id": "VEcxeoHT7AWW"
      },
      "source": [
        ""
      ],
      "execution_count": null,
      "outputs": []
    }
  ]
}