{
  "nbformat": 4,
  "nbformat_minor": 0,
  "metadata": {
    "celltoolbar": "Slideshow",
    "kernelspec": {
      "display_name": "Python 3",
      "language": "python",
      "name": "python3"
    },
    "language_info": {
      "codemirror_mode": {
        "name": "ipython",
        "version": 3
      },
      "file_extension": ".py",
      "mimetype": "text/x-python",
      "name": "python",
      "nbconvert_exporter": "python",
      "pygments_lexer": "ipython3",
      "version": "3.8.5"
    },
    "colab": {
      "name": "strings_bytes_functions",
      "provenance": []
    }
  },
  "cells": [
    {
      "cell_type": "markdown",
      "metadata": {
        "id": "V6cjyyKB5kTb"
      },
      "source": [
        "# Text, bytes and functions"
      ]
    },
    {
      "cell_type": "markdown",
      "metadata": {
        "id": "TPNztCga5kTf"
      },
      "source": [
        "Suppose you want to write an open-source library in Python. \n",
        "\n",
        "Consider a piece of very important core code of your library:"
      ]
    },
    {
      "cell_type": "code",
      "metadata": {
        "collapsed": true,
        "id": "UTdJ57eL5kTg"
      },
      "source": [
        "# this is my first open-source library\n",
        "\n",
        "def some_really_complex_function(arg, another_arg, *here_go_more_args, **and_some_kwargs_too):\n",
        "    print('Here I do some really complicated code')\n",
        "    return 42"
      ],
      "execution_count": 10,
      "outputs": []
    },
    {
      "cell_type": "code",
      "metadata": {
        "id": "vc7M6rhG5kTh",
        "colab": {
          "base_uri": "https://localhost:8080/"
        },
        "outputId": "d1df606b-f339-4042-9b4b-2aa8e92ea2ae"
      },
      "source": [
        "some_really_complex_function(1, 2)"
      ],
      "execution_count": 11,
      "outputs": [
        {
          "output_type": "stream",
          "name": "stdout",
          "text": [
            "Here I do some really complicated code\n"
          ]
        },
        {
          "output_type": "execute_result",
          "data": {
            "text/plain": [
              "42"
            ]
          },
          "metadata": {},
          "execution_count": 11
        }
      ]
    },
    {
      "cell_type": "markdown",
      "metadata": {
        "id": "POSD6eVt5kTi"
      },
      "source": [
        "How to make this function self-explanatory?\n",
        "\n",
        "You should use docstings!"
      ]
    },
    {
      "cell_type": "code",
      "metadata": {
        "collapsed": true,
        "id": "FL2A5vFO5kTj"
      },
      "source": [
        "def some_really_complex_function_with_docstring(arg, another_arg, *here_go_more_args, **and_some_kwargs_too):\n",
        "    '''\n",
        "    This is a really complex function.\n",
        "    \n",
        "    Args:\n",
        "        arg: some argument\n",
        "        another_arg: some other argument\n",
        "        \n",
        "    (c) smbd <------- you see that?\n",
        "    '''\n",
        "    print('Here I do some really complicated code')\n",
        "    # Yeah, and returns 42\n",
        "    return 42"
      ],
      "execution_count": 12,
      "outputs": []
    },
    {
      "cell_type": "code",
      "metadata": {
        "id": "5HvNZEif5kTk",
        "colab": {
          "base_uri": "https://localhost:8080/"
        },
        "outputId": "966623f5-74ba-42a8-e80e-cc809c1bea71"
      },
      "source": [
        "help(some_really_complex_function_with_docstring)"
      ],
      "execution_count": 13,
      "outputs": [
        {
          "output_type": "stream",
          "name": "stdout",
          "text": [
            "Help on function some_really_complex_function_with_docstring in module __main__:\n",
            "\n",
            "some_really_complex_function_with_docstring(arg, another_arg, *here_go_more_args, **and_some_kwargs_too)\n",
            "    This is a really complex function.\n",
            "    \n",
            "    Args:\n",
            "        arg: some argument\n",
            "        another_arg: some other argument\n",
            "        \n",
            "    (c) smbd <------- you see that?\n",
            "\n"
          ]
        }
      ]
    },
    {
      "cell_type": "markdown",
      "metadata": {
        "id": "ywr_xZSY5kTk"
      },
      "source": [
        "Wait a minute, does Python allow Unicode?"
      ]
    },
    {
      "cell_type": "code",
      "metadata": {
        "id": "ggiv6CVQ5kTl",
        "colab": {
          "base_uri": "https://localhost:8080/"
        },
        "outputId": "da290f42-1f1c-4030-ebfc-bb83da96a2f1"
      },
      "source": [
        "def дважды_принт(аргумент): # double_print(argument)\n",
        "    print(аргумент * 2)\n",
        "    \n",
        "дважды_принт(42)"
      ],
      "execution_count": 14,
      "outputs": [
        {
          "output_type": "stream",
          "name": "stdout",
          "text": [
            "84\n"
          ]
        }
      ]
    },
    {
      "cell_type": "code",
      "metadata": {
        "id": "bkTGu9rr5kTm",
        "colab": {
          "base_uri": "https://localhost:8080/",
          "height": 35
        },
        "outputId": "de98e6d5-e0c3-4f1a-ce70-b11f00f6dccb"
      },
      "source": [
        "дважды_принт.__name__"
      ],
      "execution_count": 15,
      "outputs": [
        {
          "output_type": "execute_result",
          "data": {
            "application/vnd.google.colaboratory.intrinsic+json": {
              "type": "string"
            },
            "text/plain": [
              "'дважды_принт'"
            ]
          },
          "metadata": {},
          "execution_count": 15
        }
      ]
    },
    {
      "cell_type": "markdown",
      "metadata": {
        "id": "RTHJjevV5kTm"
      },
      "source": [
        "0_o with great power comes great responsibility\n",
        "\n",
        "Let's harness it."
      ]
    },
    {
      "cell_type": "markdown",
      "metadata": {
        "id": "sLl2K0qi5kTm"
      },
      "source": [
        "# Today's agenda\n",
        "* Strings in Python 3.x\n",
        "* `str` and `bytes`\n",
        "* < Intermission > : Python's builtin functions\n",
        "* Unicode support: encoding & decoding\n",
        "* Encoding detection\n",
        "* Regular expressions 101"
      ]
    },
    {
      "cell_type": "markdown",
      "metadata": {
        "id": "mvBjs3fd5kTn"
      },
      "source": [
        " ### (not relevant for english-speakers)\n",
        "Rule #0: you shouldn't use cyrillic letters in code. `def дважды_принт():` is unacceptable."
      ]
    },
    {
      "cell_type": "markdown",
      "metadata": {
        "id": "cvkcAec95kTn"
      },
      "source": [
        "## Some simple string methods"
      ]
    },
    {
      "cell_type": "markdown",
      "metadata": {
        "id": "5SdA2Kgd5kTn"
      },
      "source": [
        "* Strings support slices"
      ]
    },
    {
      "cell_type": "code",
      "metadata": {
        "id": "C1cOXWXY5kTn",
        "colab": {
          "base_uri": "https://localhost:8080/"
        },
        "outputId": "3aa0c330-c112-4251-e48e-5026735fec87"
      },
      "source": [
        "s = 'Lorem ipsum dolor sit amet, consectetur adipiscing elit'\n",
        "print(s[10 : 20])\n",
        "print(s[10 : 20 : 3])"
      ],
      "execution_count": 16,
      "outputs": [
        {
          "output_type": "stream",
          "name": "stdout",
          "text": [
            "m dolor si\n",
            "mori\n"
          ]
        }
      ]
    },
    {
      "cell_type": "markdown",
      "metadata": {
        "id": "trujvBGK5kTn"
      },
      "source": [
        "* Immutable, support basic maths (addition, multiplication)"
      ]
    },
    {
      "cell_type": "code",
      "metadata": {
        "colab": {
          "base_uri": "https://localhost:8080/",
          "height": 35
        },
        "id": "fu9W6oSy9Y3i",
        "outputId": "a96da193-2e98-4747-b709-8b837a2adc2f"
      },
      "source": [
        "'hello' + ' ' + 'world'"
      ],
      "execution_count": 17,
      "outputs": [
        {
          "output_type": "execute_result",
          "data": {
            "application/vnd.google.colaboratory.intrinsic+json": {
              "type": "string"
            },
            "text/plain": [
              "'hello world'"
            ]
          },
          "metadata": {},
          "execution_count": 17
        }
      ]
    },
    {
      "cell_type": "code",
      "metadata": {
        "id": "_S1lUqXv5kTo",
        "colab": {
          "base_uri": "https://localhost:8080/",
          "height": 218
        },
        "outputId": "19dd00ec-c35b-4a08-e4d6-8e9348fe0f67"
      },
      "source": [
        "s += '!' * 2\n",
        "print(s)\n",
        "s[1] = '?'"
      ],
      "execution_count": 19,
      "outputs": [
        {
          "output_type": "stream",
          "name": "stdout",
          "text": [
            "Lorem ipsum dolor sit amet, consectetur adipiscing elit!!!!\n"
          ]
        },
        {
          "output_type": "error",
          "ename": "TypeError",
          "evalue": "ignored",
          "traceback": [
            "\u001b[0;31m---------------------------------------------------------------------------\u001b[0m",
            "\u001b[0;31mTypeError\u001b[0m                                 Traceback (most recent call last)",
            "\u001b[0;32m<ipython-input-19-e7aa54b21ecb>\u001b[0m in \u001b[0;36m<module>\u001b[0;34m()\u001b[0m\n\u001b[1;32m      1\u001b[0m \u001b[0ms\u001b[0m \u001b[0;34m+=\u001b[0m \u001b[0;34m'!'\u001b[0m \u001b[0;34m*\u001b[0m \u001b[0;36m2\u001b[0m\u001b[0;34m\u001b[0m\u001b[0;34m\u001b[0m\u001b[0m\n\u001b[1;32m      2\u001b[0m \u001b[0mprint\u001b[0m\u001b[0;34m(\u001b[0m\u001b[0ms\u001b[0m\u001b[0;34m)\u001b[0m\u001b[0;34m\u001b[0m\u001b[0;34m\u001b[0m\u001b[0m\n\u001b[0;32m----> 3\u001b[0;31m \u001b[0ms\u001b[0m\u001b[0;34m[\u001b[0m\u001b[0;36m1\u001b[0m\u001b[0;34m]\u001b[0m \u001b[0;34m=\u001b[0m \u001b[0;34m'?'\u001b[0m\u001b[0;34m\u001b[0m\u001b[0;34m\u001b[0m\u001b[0m\n\u001b[0m",
            "\u001b[0;31mTypeError\u001b[0m: 'str' object does not support item assignment"
          ]
        }
      ]
    },
    {
      "cell_type": "markdown",
      "metadata": {
        "id": "YZHGQ1BE5kTo"
      },
      "source": [
        "* String join / split"
      ]
    },
    {
      "cell_type": "code",
      "metadata": {
        "colab": {
          "base_uri": "https://localhost:8080/",
          "height": 35
        },
        "id": "77UV-CC9-Dy8",
        "outputId": "15a1bbf9-3255-4d35-ec51-290bc1ff2a71"
      },
      "source": [
        "s"
      ],
      "execution_count": 20,
      "outputs": [
        {
          "output_type": "execute_result",
          "data": {
            "application/vnd.google.colaboratory.intrinsic+json": {
              "type": "string"
            },
            "text/plain": [
              "'Lorem ipsum dolor sit amet, consectetur adipiscing elit!!!!'"
            ]
          },
          "metadata": {},
          "execution_count": 20
        }
      ]
    },
    {
      "cell_type": "code",
      "metadata": {
        "id": "hRCD_4Uq5kTo",
        "colab": {
          "base_uri": "https://localhost:8080/"
        },
        "outputId": "eac7af8d-0972-41b7-c620-e82656f50e32"
      },
      "source": [
        "print(s.split())\n",
        "print(s.split('sit'))"
      ],
      "execution_count": 21,
      "outputs": [
        {
          "output_type": "stream",
          "name": "stdout",
          "text": [
            "['Lorem', 'ipsum', 'dolor', 'sit', 'amet,', 'consectetur', 'adipiscing', 'elit!!!!']\n",
            "['Lorem ipsum dolor ', ' amet, consectetur adipiscing elit!!!!']\n"
          ]
        }
      ]
    },
    {
      "cell_type": "code",
      "metadata": {
        "collapsed": true,
        "id": "JPuaChYn5kTo",
        "colab": {
          "base_uri": "https://localhost:8080/"
        },
        "outputId": "b1021c12-1639-4339-deab-db774cec05b6"
      },
      "source": [
        "words = s.split(' ') # in default str.split() == {'\\n', '\\b', '\\t', ...}\n",
        "words"
      ],
      "execution_count": 22,
      "outputs": [
        {
          "output_type": "execute_result",
          "data": {
            "text/plain": [
              "['Lorem',\n",
              " 'ipsum',\n",
              " 'dolor',\n",
              " 'sit',\n",
              " 'amet,',\n",
              " 'consectetur',\n",
              " 'adipiscing',\n",
              " 'elit!!!!']"
            ]
          },
          "metadata": {},
          "execution_count": 22
        }
      ]
    },
    {
      "cell_type": "code",
      "metadata": {
        "id": "KnDNI96I5kTo",
        "colab": {
          "base_uri": "https://localhost:8080/"
        },
        "outputId": "c370321d-5db5-46a7-f9f2-6465dcff3438"
      },
      "source": [
        "print(''.join(words))\n",
        "print(' '.join(words))\n",
        "print(' ^_^ '.join(words))"
      ],
      "execution_count": 23,
      "outputs": [
        {
          "output_type": "stream",
          "name": "stdout",
          "text": [
            "Loremipsumdolorsitamet,consecteturadipiscingelit!!!!\n",
            "Lorem ipsum dolor sit amet, consectetur adipiscing elit!!!!\n",
            "Lorem ^_^ ipsum ^_^ dolor ^_^ sit ^_^ amet, ^_^ consectetur ^_^ adipiscing ^_^ elit!!!!\n"
          ]
        }
      ]
    },
    {
      "cell_type": "markdown",
      "metadata": {
        "id": "RzUG4kVr5kTp"
      },
      "source": [
        "* Basic transformations: upper, lower"
      ]
    },
    {
      "cell_type": "code",
      "metadata": {
        "id": "aFgfz5jW5kTp",
        "colab": {
          "base_uri": "https://localhost:8080/",
          "height": 35
        },
        "outputId": "3e085555-1a47-4903-a560-9689e72f09ab"
      },
      "source": [
        "s.upper()"
      ],
      "execution_count": 24,
      "outputs": [
        {
          "output_type": "execute_result",
          "data": {
            "application/vnd.google.colaboratory.intrinsic+json": {
              "type": "string"
            },
            "text/plain": [
              "'LOREM IPSUM DOLOR SIT AMET, CONSECTETUR ADIPISCING ELIT!!!!'"
            ]
          },
          "metadata": {},
          "execution_count": 24
        }
      ]
    },
    {
      "cell_type": "code",
      "metadata": {
        "id": "kuKFJFsd5kTp",
        "colab": {
          "base_uri": "https://localhost:8080/",
          "height": 35
        },
        "outputId": "9a0d3558-5533-4c9a-8085-cc70b1b4a453"
      },
      "source": [
        "s.lower()"
      ],
      "execution_count": 25,
      "outputs": [
        {
          "output_type": "execute_result",
          "data": {
            "application/vnd.google.colaboratory.intrinsic+json": {
              "type": "string"
            },
            "text/plain": [
              "'lorem ipsum dolor sit amet, consectetur adipiscing elit!!!!'"
            ]
          },
          "metadata": {},
          "execution_count": 25
        }
      ]
    },
    {
      "cell_type": "code",
      "metadata": {
        "id": "2RGOBYAc5kTp",
        "colab": {
          "base_uri": "https://localhost:8080/",
          "height": 35
        },
        "outputId": "c3cbb9e4-c2b2-4426-e4a9-d38b79547843"
      },
      "source": [
        "s.lower().capitalize()"
      ],
      "execution_count": 26,
      "outputs": [
        {
          "output_type": "execute_result",
          "data": {
            "application/vnd.google.colaboratory.intrinsic+json": {
              "type": "string"
            },
            "text/plain": [
              "'Lorem ipsum dolor sit amet, consectetur adipiscing elit!!!!'"
            ]
          },
          "metadata": {},
          "execution_count": 26
        }
      ]
    },
    {
      "cell_type": "code",
      "metadata": {
        "id": "yxUJdysw5kTq",
        "colab": {
          "base_uri": "https://localhost:8080/",
          "height": 35
        },
        "outputId": "7c04281a-8dcd-4d7c-8872-fcf3364e4e1b"
      },
      "source": [
        "s.title()"
      ],
      "execution_count": 27,
      "outputs": [
        {
          "output_type": "execute_result",
          "data": {
            "application/vnd.google.colaboratory.intrinsic+json": {
              "type": "string"
            },
            "text/plain": [
              "'Lorem Ipsum Dolor Sit Amet, Consectetur Adipiscing Elit!!!!'"
            ]
          },
          "metadata": {},
          "execution_count": 27
        }
      ]
    },
    {
      "cell_type": "markdown",
      "metadata": {
        "id": "nqtChZrU5kTq"
      },
      "source": [
        "* Substring search"
      ]
    },
    {
      "cell_type": "code",
      "metadata": {
        "id": "P508eIHL5kTq",
        "colab": {
          "base_uri": "https://localhost:8080/"
        },
        "outputId": "8802dbe7-a629-4dae-cd0c-8e5ce30f89fe"
      },
      "source": [
        "'lorem' in s, 'lorem' in s.lower()"
      ],
      "execution_count": 28,
      "outputs": [
        {
          "output_type": "execute_result",
          "data": {
            "text/plain": [
              "(False, True)"
            ]
          },
          "metadata": {},
          "execution_count": 28
        }
      ]
    },
    {
      "cell_type": "code",
      "metadata": {
        "colab": {
          "base_uri": "https://localhost:8080/",
          "height": 35
        },
        "id": "LjnECCDj_CA9",
        "outputId": "d8a94012-2658-4a0d-ca8f-02720fc5ee59"
      },
      "source": [
        "s"
      ],
      "execution_count": 29,
      "outputs": [
        {
          "output_type": "execute_result",
          "data": {
            "application/vnd.google.colaboratory.intrinsic+json": {
              "type": "string"
            },
            "text/plain": [
              "'Lorem ipsum dolor sit amet, consectetur adipiscing elit!!!!'"
            ]
          },
          "metadata": {},
          "execution_count": 29
        }
      ]
    },
    {
      "cell_type": "code",
      "metadata": {
        "id": "FHihoGWN5kTq",
        "colab": {
          "base_uri": "https://localhost:8080/"
        },
        "outputId": "58582be2-d5b7-4eae-a268-712bbc6290b4"
      },
      "source": [
        "s.find('ipsum') # returns first index"
      ],
      "execution_count": 30,
      "outputs": [
        {
          "output_type": "execute_result",
          "data": {
            "text/plain": [
              "6"
            ]
          },
          "metadata": {},
          "execution_count": 30
        }
      ]
    },
    {
      "cell_type": "code",
      "metadata": {
        "id": "f8SNAjE65kTq",
        "colab": {
          "base_uri": "https://localhost:8080/"
        },
        "outputId": "442a2bea-a038-4ed1-f8e4-ea32d9f5ac90"
      },
      "source": [
        "s.find('nonexistent') # or -1 "
      ],
      "execution_count": 31,
      "outputs": [
        {
          "output_type": "execute_result",
          "data": {
            "text/plain": [
              "-1"
            ]
          },
          "metadata": {},
          "execution_count": 31
        }
      ]
    },
    {
      "cell_type": "code",
      "metadata": {
        "id": "Dvuz8G4C5kTq",
        "colab": {
          "base_uri": "https://localhost:8080/"
        },
        "outputId": "7d9ac429-d7bf-415a-f7eb-9286850d23d6"
      },
      "source": [
        "s.index('ipsum')"
      ],
      "execution_count": 32,
      "outputs": [
        {
          "output_type": "execute_result",
          "data": {
            "text/plain": [
              "6"
            ]
          },
          "metadata": {},
          "execution_count": 32
        }
      ]
    },
    {
      "cell_type": "code",
      "metadata": {
        "id": "UwAWKnTQ5kTq",
        "colab": {
          "base_uri": "https://localhost:8080/",
          "height": 166
        },
        "outputId": "8e92efd2-9210-4d58-8427-938dcff184b0"
      },
      "source": [
        "s.index('nonexistent')"
      ],
      "execution_count": 34,
      "outputs": [
        {
          "output_type": "error",
          "ename": "ValueError",
          "evalue": "ignored",
          "traceback": [
            "\u001b[0;31m---------------------------------------------------------------------------\u001b[0m",
            "\u001b[0;31mValueError\u001b[0m                                Traceback (most recent call last)",
            "\u001b[0;32m<ipython-input-34-e483f12804f9>\u001b[0m in \u001b[0;36m<module>\u001b[0;34m()\u001b[0m\n\u001b[0;32m----> 1\u001b[0;31m \u001b[0ms\u001b[0m\u001b[0;34m.\u001b[0m\u001b[0mindex\u001b[0m\u001b[0;34m(\u001b[0m\u001b[0;34m'nonexistent'\u001b[0m\u001b[0;34m)\u001b[0m\u001b[0;34m\u001b[0m\u001b[0;34m\u001b[0m\u001b[0m\n\u001b[0m",
            "\u001b[0;31mValueError\u001b[0m: substring not found"
          ]
        }
      ]
    },
    {
      "cell_type": "markdown",
      "metadata": {
        "id": "48aDwlT15kTq"
      },
      "source": [
        "* String examination: isalpha, isdigit etc"
      ]
    },
    {
      "cell_type": "code",
      "metadata": {
        "id": "lPax7t3G5kTq",
        "colab": {
          "base_uri": "https://localhost:8080/"
        },
        "outputId": "44d2ae6a-0e1e-42a9-c1cb-91c59df90301"
      },
      "source": [
        "strings = ['abc', '2', '   ']\n",
        "\n",
        "print('\\t\\t'.join('string isalpha isdigit isspace'.split()))\n",
        "\n",
        "for s in strings:\n",
        "    print('\"{}\"'.format(s), s.isalpha(), s.isdigit(), s.isspace(), sep='\\t\\t')"
      ],
      "execution_count": 35,
      "outputs": [
        {
          "output_type": "stream",
          "name": "stdout",
          "text": [
            "string\t\tisalpha\t\tisdigit\t\tisspace\n",
            "\"abc\"\t\tTrue\t\tFalse\t\tFalse\n",
            "\"2\"\t\tFalse\t\tTrue\t\tFalse\n",
            "\"   \"\t\tFalse\t\tFalse\t\tTrue\n"
          ]
        }
      ]
    },
    {
      "cell_type": "markdown",
      "metadata": {
        "id": "cZwPjMRU5kTr"
      },
      "source": [
        "* Misc: startswith, endswith, strip"
      ]
    },
    {
      "cell_type": "code",
      "metadata": {
        "id": "mSf1T0lK5kTr",
        "colab": {
          "base_uri": "https://localhost:8080/"
        },
        "outputId": "f3caf167-1ce6-44d2-ee12-90b5a2ce58c7"
      },
      "source": [
        "'Hello, world!'.startswith('Hel')"
      ],
      "execution_count": 36,
      "outputs": [
        {
          "output_type": "execute_result",
          "data": {
            "text/plain": [
              "True"
            ]
          },
          "metadata": {},
          "execution_count": 36
        }
      ]
    },
    {
      "cell_type": "code",
      "metadata": {
        "id": "reS7Q2Fz5kTr",
        "colab": {
          "base_uri": "https://localhost:8080/"
        },
        "outputId": "bceee52d-c7f7-40cc-a913-321913f8768f"
      },
      "source": [
        "'Hello, world!'.endswith('world')"
      ],
      "execution_count": 37,
      "outputs": [
        {
          "output_type": "execute_result",
          "data": {
            "text/plain": [
              "False"
            ]
          },
          "metadata": {},
          "execution_count": 37
        }
      ]
    },
    {
      "cell_type": "code",
      "metadata": {
        "id": "NVnC60oX5kTr",
        "colab": {
          "base_uri": "https://localhost:8080/",
          "height": 35
        },
        "outputId": "046f44dc-2235-4609-e450-fd9fd338eb4a"
      },
      "source": [
        "'    Hello world    '.strip()"
      ],
      "execution_count": 38,
      "outputs": [
        {
          "output_type": "execute_result",
          "data": {
            "application/vnd.google.colaboratory.intrinsic+json": {
              "type": "string"
            },
            "text/plain": [
              "'Hello world'"
            ]
          },
          "metadata": {},
          "execution_count": 38
        }
      ]
    },
    {
      "cell_type": "markdown",
      "metadata": {
        "id": "4wMF6q1j5kTr"
      },
      "source": [
        "## String module"
      ]
    },
    {
      "cell_type": "code",
      "metadata": {
        "id": "Uwc-G0_p5kTr",
        "colab": {
          "base_uri": "https://localhost:8080/",
          "height": 0
        },
        "outputId": "21ae32f4-9895-4e3e-b032-8f4cc2440bcd"
      },
      "source": [
        "import string\n",
        "\n",
        "print(string.ascii_letters)\n",
        "print(string.ascii_lowercase)\n",
        "print(string.digits)\n",
        "string.whitespace"
      ],
      "execution_count": 39,
      "outputs": [
        {
          "output_type": "stream",
          "name": "stdout",
          "text": [
            "abcdefghijklmnopqrstuvwxyzABCDEFGHIJKLMNOPQRSTUVWXYZ\n",
            "abcdefghijklmnopqrstuvwxyz\n",
            "0123456789\n"
          ]
        },
        {
          "output_type": "execute_result",
          "data": {
            "application/vnd.google.colaboratory.intrinsic+json": {
              "type": "string"
            },
            "text/plain": [
              "' \\t\\n\\r\\x0b\\x0c'"
            ]
          },
          "metadata": {},
          "execution_count": 39
        }
      ]
    },
    {
      "cell_type": "code",
      "metadata": {
        "id": "8iInVnYPAhBu",
        "colab": {
          "base_uri": "https://localhost:8080/"
        },
        "outputId": "078c5b7b-2c92-431c-9b60-c4ec222cd71d"
      },
      "source": [
        "help(string)"
      ],
      "execution_count": 40,
      "outputs": [
        {
          "output_type": "stream",
          "name": "stdout",
          "text": [
            "Help on module string:\n",
            "\n",
            "NAME\n",
            "    string - A collection of string constants.\n",
            "\n",
            "MODULE REFERENCE\n",
            "    https://docs.python.org/3.7/library/string\n",
            "    \n",
            "    The following documentation is automatically generated from the Python\n",
            "    source files.  It may be incomplete, incorrect or include features that\n",
            "    are considered implementation detail and may vary between Python\n",
            "    implementations.  When in doubt, consult the module reference at the\n",
            "    location listed above.\n",
            "\n",
            "DESCRIPTION\n",
            "    Public module variables:\n",
            "    \n",
            "    whitespace -- a string containing all ASCII whitespace\n",
            "    ascii_lowercase -- a string containing all ASCII lowercase letters\n",
            "    ascii_uppercase -- a string containing all ASCII uppercase letters\n",
            "    ascii_letters -- a string containing all ASCII letters\n",
            "    digits -- a string containing all ASCII decimal digits\n",
            "    hexdigits -- a string containing all ASCII hexadecimal digits\n",
            "    octdigits -- a string containing all ASCII octal digits\n",
            "    punctuation -- a string containing all ASCII punctuation characters\n",
            "    printable -- a string containing all ASCII characters considered printable\n",
            "\n",
            "CLASSES\n",
            "    builtins.object\n",
            "        Formatter\n",
            "        Template\n",
            "    \n",
            "    class Formatter(builtins.object)\n",
            "     |  Methods defined here:\n",
            "     |  \n",
            "     |  check_unused_args(self, used_args, args, kwargs)\n",
            "     |  \n",
            "     |  convert_field(self, value, conversion)\n",
            "     |  \n",
            "     |  format(*args, **kwargs)\n",
            "     |  \n",
            "     |  format_field(self, value, format_spec)\n",
            "     |  \n",
            "     |  get_field(self, field_name, args, kwargs)\n",
            "     |      # given a field_name, find the object it references.\n",
            "     |      #  field_name:   the field being looked up, e.g. \"0.name\"\n",
            "     |      #                 or \"lookup[3]\"\n",
            "     |      #  used_args:    a set of which args have been used\n",
            "     |      #  args, kwargs: as passed in to vformat\n",
            "     |  \n",
            "     |  get_value(self, key, args, kwargs)\n",
            "     |  \n",
            "     |  parse(self, format_string)\n",
            "     |      # returns an iterable that contains tuples of the form:\n",
            "     |      # (literal_text, field_name, format_spec, conversion)\n",
            "     |      # literal_text can be zero length\n",
            "     |      # field_name can be None, in which case there's no\n",
            "     |      #  object to format and output\n",
            "     |      # if field_name is not None, it is looked up, formatted\n",
            "     |      #  with format_spec and conversion and then used\n",
            "     |  \n",
            "     |  vformat(self, format_string, args, kwargs)\n",
            "     |  \n",
            "     |  ----------------------------------------------------------------------\n",
            "     |  Data descriptors defined here:\n",
            "     |  \n",
            "     |  __dict__\n",
            "     |      dictionary for instance variables (if defined)\n",
            "     |  \n",
            "     |  __weakref__\n",
            "     |      list of weak references to the object (if defined)\n",
            "    \n",
            "    class Template(builtins.object)\n",
            "     |  Template(template)\n",
            "     |  \n",
            "     |  A string class for supporting $-substitutions.\n",
            "     |  \n",
            "     |  Methods defined here:\n",
            "     |  \n",
            "     |  __init__(self, template)\n",
            "     |      Initialize self.  See help(type(self)) for accurate signature.\n",
            "     |  \n",
            "     |  safe_substitute(*args, **kws)\n",
            "     |  \n",
            "     |  substitute(*args, **kws)\n",
            "     |  \n",
            "     |  ----------------------------------------------------------------------\n",
            "     |  Data descriptors defined here:\n",
            "     |  \n",
            "     |  __dict__\n",
            "     |      dictionary for instance variables (if defined)\n",
            "     |  \n",
            "     |  __weakref__\n",
            "     |      list of weak references to the object (if defined)\n",
            "     |  \n",
            "     |  ----------------------------------------------------------------------\n",
            "     |  Data and other attributes defined here:\n",
            "     |  \n",
            "     |  braceidpattern = None\n",
            "     |  \n",
            "     |  delimiter = '$'\n",
            "     |  \n",
            "     |  flags = <RegexFlag.IGNORECASE: 2>\n",
            "     |  \n",
            "     |  idpattern = '(?a:[_a-z][_a-z0-9]*)'\n",
            "     |  \n",
            "     |  pattern = re.compile('\\n    \\\\$(?:\\n      (?P<escaped>\\\\$)...ced>(?a:[...\n",
            "\n",
            "FUNCTIONS\n",
            "    capwords(s, sep=None)\n",
            "        capwords(s [,sep]) -> string\n",
            "        \n",
            "        Split the argument into words using split, capitalize each\n",
            "        word using capitalize, and join the capitalized words using\n",
            "        join.  If the optional second argument sep is absent or None,\n",
            "        runs of whitespace characters are replaced by a single space\n",
            "        and leading and trailing whitespace are removed, otherwise\n",
            "        sep is used to split and join the words.\n",
            "\n",
            "DATA\n",
            "    __all__ = ['ascii_letters', 'ascii_lowercase', 'ascii_uppercase', 'cap...\n",
            "    ascii_letters = 'abcdefghijklmnopqrstuvwxyzABCDEFGHIJKLMNOPQRSTUVWXYZ'\n",
            "    ascii_lowercase = 'abcdefghijklmnopqrstuvwxyz'\n",
            "    ascii_uppercase = 'ABCDEFGHIJKLMNOPQRSTUVWXYZ'\n",
            "    digits = '0123456789'\n",
            "    hexdigits = '0123456789abcdefABCDEF'\n",
            "    octdigits = '01234567'\n",
            "    printable = '0123456789abcdefghijklmnopqrstuvwxyzABCDEFGHIJKLMNOPQRSTU...\n",
            "    punctuation = '!\"#$%&\\'()*+,-./:;<=>?@[\\\\]^_`{|}~'\n",
            "    whitespace = ' \\t\\n\\r\\x0b\\x0c'\n",
            "\n",
            "FILE\n",
            "    /usr/lib/python3.7/string.py\n",
            "\n",
            "\n"
          ]
        }
      ]
    },
    {
      "cell_type": "markdown",
      "metadata": {
        "id": "W9zo8j_35kTr"
      },
      "source": [
        "### String formatting\n",
        "\n",
        "https://pyformat.info/"
      ]
    },
    {
      "cell_type": "code",
      "metadata": {
        "id": "1jJfU0FX5kTr",
        "colab": {
          "base_uri": "https://localhost:8080/",
          "height": 0
        },
        "outputId": "60662c10-a5b8-4d1a-f915-d36f675f3988"
      },
      "source": [
        "# Old style\n",
        "\n",
        "name = 'Bob'\n",
        "'Hello, %s' % name"
      ],
      "execution_count": 41,
      "outputs": [
        {
          "output_type": "execute_result",
          "data": {
            "application/vnd.google.colaboratory.intrinsic+json": {
              "type": "string"
            },
            "text/plain": [
              "'Hello, Bob'"
            ]
          },
          "metadata": {},
          "execution_count": 41
        }
      ]
    },
    {
      "cell_type": "code",
      "metadata": {
        "id": "mXlywB875kTr",
        "colab": {
          "base_uri": "https://localhost:8080/",
          "height": 0
        },
        "outputId": "52af3cc7-6b64-499e-c865-8f7f8771f17a"
      },
      "source": [
        "name = 'Bob'\n",
        "'Hello, %(name)s' % {'name': name} "
      ],
      "execution_count": 42,
      "outputs": [
        {
          "output_type": "execute_result",
          "data": {
            "application/vnd.google.colaboratory.intrinsic+json": {
              "type": "string"
            },
            "text/plain": [
              "'Hello, Bob'"
            ]
          },
          "metadata": {},
          "execution_count": 42
        }
      ]
    },
    {
      "cell_type": "code",
      "metadata": {
        "id": "xD5RMFSX5kTs",
        "colab": {
          "base_uri": "https://localhost:8080/",
          "height": 0
        },
        "outputId": "40a8ae13-8ec3-44db-fb39-5fccc5f09618"
      },
      "source": [
        "# New style\n",
        "name = 'Bob'\n",
        "'Hello, {}'.format(name)"
      ],
      "execution_count": 43,
      "outputs": [
        {
          "output_type": "execute_result",
          "data": {
            "application/vnd.google.colaboratory.intrinsic+json": {
              "type": "string"
            },
            "text/plain": [
              "'Hello, Bob'"
            ]
          },
          "metadata": {},
          "execution_count": 43
        }
      ]
    },
    {
      "cell_type": "code",
      "metadata": {
        "id": "AsnK89Bf5kTs",
        "colab": {
          "base_uri": "https://localhost:8080/"
        },
        "outputId": "90e7d04e-b7e2-4672-a9e7-cb76b08e82d7"
      },
      "source": [
        "names = ['Bob', 'Alice']\n",
        "print('Hello, {0}! Hello, {1}! Hello, {0} again!'.format(*names))"
      ],
      "execution_count": 44,
      "outputs": [
        {
          "output_type": "stream",
          "name": "stdout",
          "text": [
            "Hello, Bob! Hello, Alice! Hello, Bob again!\n"
          ]
        }
      ]
    },
    {
      "cell_type": "code",
      "metadata": {
        "id": "Jibd9d1J5kTs",
        "colab": {
          "base_uri": "https://localhost:8080/"
        },
        "outputId": "a3073e71-0582-40d8-abc6-f9a00226f175"
      },
      "source": [
        "names = {'name1':'Bob', 'name2':'Alice'}\n",
        "print('Hello, {name1}! Hello, {name2}! Hello, {name1} again!'.format(**names))"
      ],
      "execution_count": 45,
      "outputs": [
        {
          "output_type": "stream",
          "name": "stdout",
          "text": [
            "Hello, Bob! Hello, Alice! Hello, Bob again!\n"
          ]
        }
      ]
    },
    {
      "cell_type": "code",
      "metadata": {
        "id": "EVO4C3S-5kTs",
        "colab": {
          "base_uri": "https://localhost:8080/"
        },
        "outputId": "6b96a623-790a-411e-b580-14b6cc547ae7"
      },
      "source": [
        "number = 50159747054\n",
        "name = 'Bob'\n",
        "\n",
        "print('Hey {}, I have a decimal number {}!'.format(name, number))\n",
        "\n",
        "# Supports indexes\n",
        "print('Sammy is {} {} {} {}!'.format('a', 'happy', 'blue', 'shark'))\n",
        "print('Sammy is {3} {2} {1} {0}!'.format('a', 'happy', 'blue', 'shark'))\n",
        "print('Sammy is {1} {1} {1} {3}!'.format('a', 'happy', 'blue', 'shark'))\n",
        "\n",
        "# and named args\n",
        "print('Coordinates: {latitude}, {longitude}'.format(latitude=37.24, longitude=-115.81))"
      ],
      "execution_count": 46,
      "outputs": [
        {
          "output_type": "stream",
          "name": "stdout",
          "text": [
            "Hey Bob, I have a decimal number 50159747054!\n",
            "Sammy is a happy blue shark!\n",
            "Sammy is shark blue happy a!\n",
            "Sammy is happy happy happy shark!\n",
            "Coordinates: 37.24, -115.81\n"
          ]
        }
      ]
    },
    {
      "cell_type": "code",
      "metadata": {
        "id": "siHwXYh05kTs",
        "colab": {
          "base_uri": "https://localhost:8080/"
        },
        "outputId": "af64f005-89ce-4298-83fc-cabafe3859f8"
      },
      "source": [
        "# f-strings\n",
        "\n",
        "year = 2021\n",
        "season = 4\n",
        "\n",
        "print(f'В {year}-м году состоится {season}-й сезон курса Python 3') # Notice f symbol in front of the string!"
      ],
      "execution_count": 47,
      "outputs": [
        {
          "output_type": "stream",
          "name": "stdout",
          "text": [
            "В 2021-м году состоится 4-й сезон курса Python 3\n"
          ]
        }
      ]
    },
    {
      "cell_type": "code",
      "metadata": {
        "id": "ArvxsR_X5kTs",
        "colab": {
          "base_uri": "https://localhost:8080/"
        },
        "outputId": "a54f8677-1777-4cd4-dbb4-e1f6a3327e22"
      },
      "source": [
        "year = 2021\n",
        "module = 3\n",
        "\n",
        "print(f'It\\'s our {module}\\'d module in {year} year')"
      ],
      "execution_count": 48,
      "outputs": [
        {
          "output_type": "stream",
          "name": "stdout",
          "text": [
            "It's our 3'd module in 2021 year\n"
          ]
        }
      ]
    },
    {
      "cell_type": "code",
      "metadata": {
        "id": "wvn_DKpZ5kTs",
        "colab": {
          "base_uri": "https://localhost:8080/"
        },
        "outputId": "a4e11615-5a96-4a85-f13b-f5358eafba47"
      },
      "source": [
        "# f-strings support number formatting\n",
        "\n",
        "year = 2021\n",
        "module = 3\n",
        "print(f'It\\'s our {module: .2f}\\'d module in {year} year')\n",
        "\n",
        "# .2f - float with two digits after the decimal point"
      ],
      "execution_count": 49,
      "outputs": [
        {
          "output_type": "stream",
          "name": "stdout",
          "text": [
            "It's our  3.00'd module in 2021 year\n"
          ]
        }
      ]
    },
    {
      "cell_type": "code",
      "metadata": {
        "id": "IJVYJfle5kTs",
        "colab": {
          "base_uri": "https://localhost:8080/"
        },
        "outputId": "ec0eaae5-1f34-4632-ce34-24408060ae47"
      },
      "source": [
        "# various operations can be performed inside f-strings\n",
        "\n",
        "year = 2021\n",
        "module = 3\n",
        "print(f'It\\'s our {module: .2f}\\'d module in {year - 3 + 1 + 1 * 2} year')"
      ],
      "execution_count": 50,
      "outputs": [
        {
          "output_type": "stream",
          "name": "stdout",
          "text": [
            "It's our  3.00'd module in 2021 year\n"
          ]
        }
      ]
    },
    {
      "cell_type": "code",
      "metadata": {
        "id": "P1WFtxkl5kTs",
        "colab": {
          "base_uri": "https://localhost:8080/"
        },
        "outputId": "b8281fb9-f269-4152-97de-c7412aa04309"
      },
      "source": [
        "# you can access list items by index\n",
        "\n",
        "years = [2016, 2017, 2021, 2019, 2020]\n",
        "year = 2021\n",
        "module = 3\n",
        "print(f'It\\'s our {module: .2f}\\'d module in {years[2]} year')"
      ],
      "execution_count": 51,
      "outputs": [
        {
          "output_type": "stream",
          "name": "stdout",
          "text": [
            "It's our  3.00'd module in 2021 year\n"
          ]
        }
      ]
    },
    {
      "cell_type": "code",
      "metadata": {
        "id": "FLn6uwDw5kTt",
        "colab": {
          "base_uri": "https://localhost:8080/"
        },
        "outputId": "68470e6a-981a-4db9-cae4-4ffc74a220f5"
      },
      "source": [
        "# And even call methods and functions!\n",
        "\n",
        "years = [2016, 2017, 2021, 2019, 2020]\n",
        "year = 2021\n",
        "module = 3\n",
        "s = 'third'\n",
        "print(f'It\\'s our {s.upper()} module in {years[2]} year')"
      ],
      "execution_count": 52,
      "outputs": [
        {
          "output_type": "stream",
          "name": "stdout",
          "text": [
            "It's our THIRD module in 2021 year\n"
          ]
        }
      ]
    },
    {
      "cell_type": "markdown",
      "metadata": {
        "id": "OQXqYG4E5kTt"
      },
      "source": [
        "## Symbols & bytes\n",
        "\n",
        "Unicode: symbol identifier (such as `r`, `Я` or `韩`) != byte representation.\n",
        "\n",
        "You can switch between the Unicode symbol (e.g. \"U+1D11E\") and its integer identifier with `ord` and `chr`:"
      ]
    },
    {
      "cell_type": "code",
      "metadata": {
        "id": "xCMgK8x25kTt",
        "colab": {
          "base_uri": "https://localhost:8080/"
        },
        "outputId": "4862ccdc-1392-4c5b-dc6e-c3b12e534295"
      },
      "source": [
        "ord('r')"
      ],
      "execution_count": 53,
      "outputs": [
        {
          "output_type": "execute_result",
          "data": {
            "text/plain": [
              "114"
            ]
          },
          "metadata": {},
          "execution_count": 53
        }
      ]
    },
    {
      "cell_type": "code",
      "metadata": {
        "id": "8AMAhbSD5kTt",
        "colab": {
          "base_uri": "https://localhost:8080/"
        },
        "outputId": "81810ea9-36ce-43d9-f957-09f2d053d577"
      },
      "source": [
        "ord('\\U0001D11E'), chr(ord('\\U0001D11E')), chr(119070)"
      ],
      "execution_count": 54,
      "outputs": [
        {
          "output_type": "execute_result",
          "data": {
            "text/plain": [
              "(119070, '𝄞', '𝄞')"
            ]
          },
          "metadata": {},
          "execution_count": 54
        }
      ]
    },
    {
      "cell_type": "code",
      "metadata": {
        "id": "oZlcehzF5kTt",
        "colab": {
          "base_uri": "https://localhost:8080/"
        },
        "outputId": "87e7eb5d-297f-40c1-fa35-9f304a884eac"
      },
      "source": [
        "ord('韩')"
      ],
      "execution_count": 55,
      "outputs": [
        {
          "output_type": "execute_result",
          "data": {
            "text/plain": [
              "38889"
            ]
          },
          "metadata": {},
          "execution_count": 55
        }
      ]
    },
    {
      "cell_type": "code",
      "metadata": {
        "id": "eG4r0MtX5kTt",
        "colab": {
          "base_uri": "https://localhost:8080/"
        },
        "outputId": "a7a4b673-2caa-40ae-e4c1-3453519fe1c8"
      },
      "source": [
        "chr(ord('韩')) == '韩'"
      ],
      "execution_count": 56,
      "outputs": [
        {
          "output_type": "execute_result",
          "data": {
            "text/plain": [
              "True"
            ]
          },
          "metadata": {},
          "execution_count": 56
        }
      ]
    },
    {
      "cell_type": "markdown",
      "metadata": {
        "id": "wxWfiQ135kTu"
      },
      "source": [
        "How can we store it in memory?\n",
        "\n",
        "```\n",
        "Encoding: symbols (human-readable) -> bytes \n",
        "Decoding: bytes -> symbols\n",
        "```"
      ]
    },
    {
      "cell_type": "code",
      "metadata": {
        "id": "iaHrWljo5kTu",
        "colab": {
          "base_uri": "https://localhost:8080/"
        },
        "outputId": "25abe370-5663-48a3-dce9-bbc812790c00"
      },
      "source": [
        "s = 'café'\n",
        "len(s)"
      ],
      "execution_count": 57,
      "outputs": [
        {
          "output_type": "execute_result",
          "data": {
            "text/plain": [
              "4"
            ]
          },
          "metadata": {},
          "execution_count": 57
        }
      ]
    },
    {
      "cell_type": "code",
      "metadata": {
        "id": "D3lu_CVc5kTu",
        "colab": {
          "base_uri": "https://localhost:8080/"
        },
        "outputId": "ee7165c7-effd-4f80-edec-b8c3ad20c486"
      },
      "source": [
        "b = s.encode('utf8')\n",
        "print(len(b), type(b))\n",
        "print(*b)\n",
        "b # binary representation"
      ],
      "execution_count": 58,
      "outputs": [
        {
          "output_type": "stream",
          "name": "stdout",
          "text": [
            "5 <class 'bytes'>\n",
            "99 97 102 195 169\n"
          ]
        },
        {
          "output_type": "execute_result",
          "data": {
            "text/plain": [
              "b'caf\\xc3\\xa9'"
            ]
          },
          "metadata": {},
          "execution_count": 58
        }
      ]
    },
    {
      "cell_type": "code",
      "metadata": {
        "id": "qRF6O3od5kTu",
        "colab": {
          "base_uri": "https://localhost:8080/",
          "height": 0
        },
        "outputId": "623a891e-2c9c-4c26-a900-45af27e5b050"
      },
      "source": [
        "b.decode('utf8')"
      ],
      "execution_count": 59,
      "outputs": [
        {
          "output_type": "execute_result",
          "data": {
            "application/vnd.google.colaboratory.intrinsic+json": {
              "type": "string"
            },
            "text/plain": [
              "'café'"
            ]
          },
          "metadata": {},
          "execution_count": 59
        }
      ]
    },
    {
      "cell_type": "code",
      "metadata": {
        "id": "TlH7on6T5kTu",
        "colab": {
          "base_uri": "https://localhost:8080/"
        },
        "outputId": "6abf4579-778f-4a6a-9881-729a36b560e4"
      },
      "source": [
        "print(b)\n",
        "for byte in b:\n",
        "    print(hex(byte), byte, chr(byte))"
      ],
      "execution_count": 60,
      "outputs": [
        {
          "output_type": "stream",
          "name": "stdout",
          "text": [
            "b'caf\\xc3\\xa9'\n",
            "0x63 99 c\n",
            "0x61 97 a\n",
            "0x66 102 f\n",
            "0xc3 195 Ã\n",
            "0xa9 169 ©\n"
          ]
        }
      ]
    },
    {
      "cell_type": "markdown",
      "metadata": {
        "id": "MB_4p_fz5kTu"
      },
      "source": [
        "## Functions\n",
        "Let's print the full ASCII table with one print statement"
      ]
    },
    {
      "cell_type": "markdown",
      "metadata": {
        "id": "UqZUuFbL5kTu"
      },
      "source": [
        "### First, some Python built-in functions\n",
        "\n",
        "* `map(function, *iterables)`"
      ]
    },
    {
      "cell_type": "code",
      "metadata": {
        "id": "D3b-mIZP5kTu",
        "colab": {
          "base_uri": "https://localhost:8080/"
        },
        "outputId": "4fed422c-90aa-4210-c260-74f87d18372b"
      },
      "source": [
        "map(chr, range(50, 70))"
      ],
      "execution_count": 61,
      "outputs": [
        {
          "output_type": "execute_result",
          "data": {
            "text/plain": [
              "<map at 0x7f05ec60c150>"
            ]
          },
          "metadata": {},
          "execution_count": 61
        }
      ]
    },
    {
      "cell_type": "code",
      "metadata": {
        "id": "AcjxJM0B5kTu",
        "colab": {
          "base_uri": "https://localhost:8080/"
        },
        "outputId": "b6a9a94a-cd85-4cb1-855a-499b2e7dd61b"
      },
      "source": [
        "print(list(map(chr, range(50, 70))))"
      ],
      "execution_count": 62,
      "outputs": [
        {
          "output_type": "stream",
          "name": "stdout",
          "text": [
            "['2', '3', '4', '5', '6', '7', '8', '9', ':', ';', '<', '=', '>', '?', '@', 'A', 'B', 'C', 'D', 'E']\n"
          ]
        }
      ]
    },
    {
      "cell_type": "code",
      "metadata": {
        "id": "My9eDKPP5kTu",
        "colab": {
          "base_uri": "https://localhost:8080/"
        },
        "outputId": "ff44a3bd-c864-4b80-a0a7-4b4861118e81"
      },
      "source": [
        "string = '2 3 5 7 11 13' # input()\n",
        "print(string.split())\n",
        "integers = list(map(int, string.split()))\n",
        "integers"
      ],
      "execution_count": 63,
      "outputs": [
        {
          "output_type": "stream",
          "name": "stdout",
          "text": [
            "['2', '3', '5', '7', '11', '13']\n"
          ]
        },
        {
          "output_type": "execute_result",
          "data": {
            "text/plain": [
              "[2, 3, 5, 7, 11, 13]"
            ]
          },
          "metadata": {},
          "execution_count": 63
        }
      ]
    },
    {
      "cell_type": "markdown",
      "metadata": {
        "id": "kQX32gWU5kTu"
      },
      "source": [
        "* `zip(*iterables)`"
      ]
    },
    {
      "cell_type": "code",
      "metadata": {
        "id": "UmcTh13E5kTu",
        "colab": {
          "base_uri": "https://localhost:8080/"
        },
        "outputId": "32c771ee-7c7d-4ebe-9516-14e96b88eada"
      },
      "source": [
        "names = ['Bob', 'Sam']\n",
        "surnames = ['Bronx', 'Jackson']\n",
        "print(zip(names, surnames))\n",
        "print(list(zip(names, surnames)))"
      ],
      "execution_count": 64,
      "outputs": [
        {
          "output_type": "stream",
          "name": "stdout",
          "text": [
            "<zip object at 0x7f05ec5fdd70>\n",
            "[('Bob', 'Bronx'), ('Sam', 'Jackson')]\n"
          ]
        }
      ]
    },
    {
      "cell_type": "markdown",
      "metadata": {
        "id": "guHCWKuQ5kTu"
      },
      "source": [
        "### ASCII table"
      ]
    },
    {
      "cell_type": "code",
      "metadata": {
        "id": "NvGuBnuj5kTv",
        "colab": {
          "base_uri": "https://localhost:8080/"
        },
        "outputId": "bd51a2bf-ecea-47b5-a914-3b9e41c66623"
      },
      "source": [
        "for char_index in range(128):\n",
        "    print('{}\\t||\\t{}\\t||\\t{}'.format(char_index, hex(char_index), chr(char_index)))"
      ],
      "execution_count": 65,
      "outputs": [
        {
          "output_type": "stream",
          "name": "stdout",
          "text": [
            "0\t||\t0x0\t||\t\u0000\n",
            "1\t||\t0x1\t||\t\u0001\n",
            "2\t||\t0x2\t||\t\u0002\n",
            "3\t||\t0x3\t||\t\u0003\n",
            "4\t||\t0x4\t||\t\u0004\n",
            "5\t||\t0x5\t||\t\u0005\n",
            "6\t||\t0x6\t||\t\u0006\n",
            "7\t||\t0x7\t||\t\u0007\n",
            "8\t||\t0x8\t||\t\b\n",
            "9\t||\t0x9\t||\t\t\n",
            "10\t||\t0xa\t||\t\n",
            "\n",
            "11\t||\t0xb\t||\t\u000b\n",
            "12\t||\t0xc\t||\t\f\n",
            "13\t||\t0xd\t||\t\r\n",
            "14\t||\t0xe\t||\t\u000e\n",
            "15\t||\t0xf\t||\t\u000f\n",
            "16\t||\t0x10\t||\t\u0010\n",
            "17\t||\t0x11\t||\t\u0011\n",
            "18\t||\t0x12\t||\t\u0012\n",
            "19\t||\t0x13\t||\t\u0013\n",
            "20\t||\t0x14\t||\t\u0014\n",
            "21\t||\t0x15\t||\t\u0015\n",
            "22\t||\t0x16\t||\t\u0016\n",
            "23\t||\t0x17\t||\t\u0017\n",
            "24\t||\t0x18\t||\t\u0018\n",
            "25\t||\t0x19\t||\t\u0019\n",
            "26\t||\t0x1a\t||\t\u001a\n",
            "27\t||\t0x1b\t||\t\u001b\n",
            "28\t||\t0x1c\t||\t\u001c\n",
            "29\t||\t0x1d\t||\t\u001d\n",
            "30\t||\t0x1e\t||\t\u001e\n",
            "31\t||\t0x1f\t||\t\u001f\n",
            "32\t||\t0x20\t||\t \n",
            "33\t||\t0x21\t||\t!\n",
            "34\t||\t0x22\t||\t\"\n",
            "35\t||\t0x23\t||\t#\n",
            "36\t||\t0x24\t||\t$\n",
            "37\t||\t0x25\t||\t%\n",
            "38\t||\t0x26\t||\t&\n",
            "39\t||\t0x27\t||\t'\n",
            "40\t||\t0x28\t||\t(\n",
            "41\t||\t0x29\t||\t)\n",
            "42\t||\t0x2a\t||\t*\n",
            "43\t||\t0x2b\t||\t+\n",
            "44\t||\t0x2c\t||\t,\n",
            "45\t||\t0x2d\t||\t-\n",
            "46\t||\t0x2e\t||\t.\n",
            "47\t||\t0x2f\t||\t/\n",
            "48\t||\t0x30\t||\t0\n",
            "49\t||\t0x31\t||\t1\n",
            "50\t||\t0x32\t||\t2\n",
            "51\t||\t0x33\t||\t3\n",
            "52\t||\t0x34\t||\t4\n",
            "53\t||\t0x35\t||\t5\n",
            "54\t||\t0x36\t||\t6\n",
            "55\t||\t0x37\t||\t7\n",
            "56\t||\t0x38\t||\t8\n",
            "57\t||\t0x39\t||\t9\n",
            "58\t||\t0x3a\t||\t:\n",
            "59\t||\t0x3b\t||\t;\n",
            "60\t||\t0x3c\t||\t<\n",
            "61\t||\t0x3d\t||\t=\n",
            "62\t||\t0x3e\t||\t>\n",
            "63\t||\t0x3f\t||\t?\n",
            "64\t||\t0x40\t||\t@\n",
            "65\t||\t0x41\t||\tA\n",
            "66\t||\t0x42\t||\tB\n",
            "67\t||\t0x43\t||\tC\n",
            "68\t||\t0x44\t||\tD\n",
            "69\t||\t0x45\t||\tE\n",
            "70\t||\t0x46\t||\tF\n",
            "71\t||\t0x47\t||\tG\n",
            "72\t||\t0x48\t||\tH\n",
            "73\t||\t0x49\t||\tI\n",
            "74\t||\t0x4a\t||\tJ\n",
            "75\t||\t0x4b\t||\tK\n",
            "76\t||\t0x4c\t||\tL\n",
            "77\t||\t0x4d\t||\tM\n",
            "78\t||\t0x4e\t||\tN\n",
            "79\t||\t0x4f\t||\tO\n",
            "80\t||\t0x50\t||\tP\n",
            "81\t||\t0x51\t||\tQ\n",
            "82\t||\t0x52\t||\tR\n",
            "83\t||\t0x53\t||\tS\n",
            "84\t||\t0x54\t||\tT\n",
            "85\t||\t0x55\t||\tU\n",
            "86\t||\t0x56\t||\tV\n",
            "87\t||\t0x57\t||\tW\n",
            "88\t||\t0x58\t||\tX\n",
            "89\t||\t0x59\t||\tY\n",
            "90\t||\t0x5a\t||\tZ\n",
            "91\t||\t0x5b\t||\t[\n",
            "92\t||\t0x5c\t||\t\\\n",
            "93\t||\t0x5d\t||\t]\n",
            "94\t||\t0x5e\t||\t^\n",
            "95\t||\t0x5f\t||\t_\n",
            "96\t||\t0x60\t||\t`\n",
            "97\t||\t0x61\t||\ta\n",
            "98\t||\t0x62\t||\tb\n",
            "99\t||\t0x63\t||\tc\n",
            "100\t||\t0x64\t||\td\n",
            "101\t||\t0x65\t||\te\n",
            "102\t||\t0x66\t||\tf\n",
            "103\t||\t0x67\t||\tg\n",
            "104\t||\t0x68\t||\th\n",
            "105\t||\t0x69\t||\ti\n",
            "106\t||\t0x6a\t||\tj\n",
            "107\t||\t0x6b\t||\tk\n",
            "108\t||\t0x6c\t||\tl\n",
            "109\t||\t0x6d\t||\tm\n",
            "110\t||\t0x6e\t||\tn\n",
            "111\t||\t0x6f\t||\to\n",
            "112\t||\t0x70\t||\tp\n",
            "113\t||\t0x71\t||\tq\n",
            "114\t||\t0x72\t||\tr\n",
            "115\t||\t0x73\t||\ts\n",
            "116\t||\t0x74\t||\tt\n",
            "117\t||\t0x75\t||\tu\n",
            "118\t||\t0x76\t||\tv\n",
            "119\t||\t0x77\t||\tw\n",
            "120\t||\t0x78\t||\tx\n",
            "121\t||\t0x79\t||\ty\n",
            "122\t||\t0x7a\t||\tz\n",
            "123\t||\t0x7b\t||\t{\n",
            "124\t||\t0x7c\t||\t|\n",
            "125\t||\t0x7d\t||\t}\n",
            "126\t||\t0x7e\t||\t~\n",
            "127\t||\t0x7f\t||\t\n"
          ]
        }
      ]
    },
    {
      "cell_type": "markdown",
      "metadata": {
        "id": "mpDBkqVH5kTv"
      },
      "source": [
        "Can you do this in one line?"
      ]
    },
    {
      "cell_type": "code",
      "metadata": {
        "id": "Y60SBUDu5kTv",
        "colab": {
          "base_uri": "https://localhost:8080/"
        },
        "outputId": "4775566c-8fbe-4a84-bf49-3d8fcddc6b71"
      },
      "source": [
        "# ascii_range = range(128)\n",
        "\n",
        "print(*['\\t||\\t'.join(map(str, row)) for row in zip(range(128), map(hex, range(128)), map(chr, range(128)))], sep='\\n')"
      ],
      "execution_count": 66,
      "outputs": [
        {
          "output_type": "stream",
          "name": "stdout",
          "text": [
            "0\t||\t0x0\t||\t\u0000\n",
            "1\t||\t0x1\t||\t\u0001\n",
            "2\t||\t0x2\t||\t\u0002\n",
            "3\t||\t0x3\t||\t\u0003\n",
            "4\t||\t0x4\t||\t\u0004\n",
            "5\t||\t0x5\t||\t\u0005\n",
            "6\t||\t0x6\t||\t\u0006\n",
            "7\t||\t0x7\t||\t\u0007\n",
            "8\t||\t0x8\t||\t\b\n",
            "9\t||\t0x9\t||\t\t\n",
            "10\t||\t0xa\t||\t\n",
            "\n",
            "11\t||\t0xb\t||\t\u000b\n",
            "12\t||\t0xc\t||\t\f\n",
            "13\t||\t0xd\t||\t\n",
            "14\t||\t0xe\t||\t\u000e\n",
            "15\t||\t0xf\t||\t\u000f\n",
            "16\t||\t0x10\t||\t\u0010\n",
            "17\t||\t0x11\t||\t\u0011\n",
            "18\t||\t0x12\t||\t\u0012\n",
            "19\t||\t0x13\t||\t\u0013\n",
            "20\t||\t0x14\t||\t\u0014\n",
            "21\t||\t0x15\t||\t\u0015\n",
            "22\t||\t0x16\t||\t\u0016\n",
            "23\t||\t0x17\t||\t\u0017\n",
            "24\t||\t0x18\t||\t\u0018\n",
            "25\t||\t0x19\t||\t\u0019\n",
            "26\t||\t0x1a\t||\t\u001a\n",
            "27\t||\t0x1b\t||\t\u001b\n",
            "28\t||\t0x1c\t||\t\u001c\n",
            "29\t||\t0x1d\t||\t\u001d\n",
            "30\t||\t0x1e\t||\t\u001e\n",
            "31\t||\t0x1f\t||\t\u001f\n",
            "32\t||\t0x20\t||\t \n",
            "33\t||\t0x21\t||\t!\n",
            "34\t||\t0x22\t||\t\"\n",
            "35\t||\t0x23\t||\t#\n",
            "36\t||\t0x24\t||\t$\n",
            "37\t||\t0x25\t||\t%\n",
            "38\t||\t0x26\t||\t&\n",
            "39\t||\t0x27\t||\t'\n",
            "40\t||\t0x28\t||\t(\n",
            "41\t||\t0x29\t||\t)\n",
            "42\t||\t0x2a\t||\t*\n",
            "43\t||\t0x2b\t||\t+\n",
            "44\t||\t0x2c\t||\t,\n",
            "45\t||\t0x2d\t||\t-\n",
            "46\t||\t0x2e\t||\t.\n",
            "47\t||\t0x2f\t||\t/\n",
            "48\t||\t0x30\t||\t0\n",
            "49\t||\t0x31\t||\t1\n",
            "50\t||\t0x32\t||\t2\n",
            "51\t||\t0x33\t||\t3\n",
            "52\t||\t0x34\t||\t4\n",
            "53\t||\t0x35\t||\t5\n",
            "54\t||\t0x36\t||\t6\n",
            "55\t||\t0x37\t||\t7\n",
            "56\t||\t0x38\t||\t8\n",
            "57\t||\t0x39\t||\t9\n",
            "58\t||\t0x3a\t||\t:\n",
            "59\t||\t0x3b\t||\t;\n",
            "60\t||\t0x3c\t||\t<\n",
            "61\t||\t0x3d\t||\t=\n",
            "62\t||\t0x3e\t||\t>\n",
            "63\t||\t0x3f\t||\t?\n",
            "64\t||\t0x40\t||\t@\n",
            "65\t||\t0x41\t||\tA\n",
            "66\t||\t0x42\t||\tB\n",
            "67\t||\t0x43\t||\tC\n",
            "68\t||\t0x44\t||\tD\n",
            "69\t||\t0x45\t||\tE\n",
            "70\t||\t0x46\t||\tF\n",
            "71\t||\t0x47\t||\tG\n",
            "72\t||\t0x48\t||\tH\n",
            "73\t||\t0x49\t||\tI\n",
            "74\t||\t0x4a\t||\tJ\n",
            "75\t||\t0x4b\t||\tK\n",
            "76\t||\t0x4c\t||\tL\n",
            "77\t||\t0x4d\t||\tM\n",
            "78\t||\t0x4e\t||\tN\n",
            "79\t||\t0x4f\t||\tO\n",
            "80\t||\t0x50\t||\tP\n",
            "81\t||\t0x51\t||\tQ\n",
            "82\t||\t0x52\t||\tR\n",
            "83\t||\t0x53\t||\tS\n",
            "84\t||\t0x54\t||\tT\n",
            "85\t||\t0x55\t||\tU\n",
            "86\t||\t0x56\t||\tV\n",
            "87\t||\t0x57\t||\tW\n",
            "88\t||\t0x58\t||\tX\n",
            "89\t||\t0x59\t||\tY\n",
            "90\t||\t0x5a\t||\tZ\n",
            "91\t||\t0x5b\t||\t[\n",
            "92\t||\t0x5c\t||\t\\\n",
            "93\t||\t0x5d\t||\t]\n",
            "94\t||\t0x5e\t||\t^\n",
            "95\t||\t0x5f\t||\t_\n",
            "96\t||\t0x60\t||\t`\n",
            "97\t||\t0x61\t||\ta\n",
            "98\t||\t0x62\t||\tb\n",
            "99\t||\t0x63\t||\tc\n",
            "100\t||\t0x64\t||\td\n",
            "101\t||\t0x65\t||\te\n",
            "102\t||\t0x66\t||\tf\n",
            "103\t||\t0x67\t||\tg\n",
            "104\t||\t0x68\t||\th\n",
            "105\t||\t0x69\t||\ti\n",
            "106\t||\t0x6a\t||\tj\n",
            "107\t||\t0x6b\t||\tk\n",
            "108\t||\t0x6c\t||\tl\n",
            "109\t||\t0x6d\t||\tm\n",
            "110\t||\t0x6e\t||\tn\n",
            "111\t||\t0x6f\t||\to\n",
            "112\t||\t0x70\t||\tp\n",
            "113\t||\t0x71\t||\tq\n",
            "114\t||\t0x72\t||\tr\n",
            "115\t||\t0x73\t||\ts\n",
            "116\t||\t0x74\t||\tt\n",
            "117\t||\t0x75\t||\tu\n",
            "118\t||\t0x76\t||\tv\n",
            "119\t||\t0x77\t||\tw\n",
            "120\t||\t0x78\t||\tx\n",
            "121\t||\t0x79\t||\ty\n",
            "122\t||\t0x7a\t||\tz\n",
            "123\t||\t0x7b\t||\t{\n",
            "124\t||\t0x7c\t||\t|\n",
            "125\t||\t0x7d\t||\t}\n",
            "126\t||\t0x7e\t||\t~\n",
            "127\t||\t0x7f\t||\t\n"
          ]
        }
      ]
    },
    {
      "cell_type": "markdown",
      "metadata": {
        "id": "f87iVS7K5kTv"
      },
      "source": [
        "## < /Fun >"
      ]
    },
    {
      "cell_type": "markdown",
      "metadata": {
        "id": "YSkgIQOb5kTv"
      },
      "source": [
        "Which encodings can we use? Lots."
      ]
    },
    {
      "cell_type": "code",
      "metadata": {
        "id": "wi0FCHir5kTv",
        "colab": {
          "base_uri": "https://localhost:8080/"
        },
        "outputId": "66106ecf-7772-43e7-fa16-bb6409926c82"
      },
      "source": [
        "string = 'El Niño'\n",
        "\n",
        "for codec in ['latin_1', 'utf_8', 'utf_16', 'cp437']:\n",
        "    encoded = string.encode(codec)\n",
        "    print(codec, encoded.decode(codec), encoded, sep='\\t\\t')"
      ],
      "execution_count": 67,
      "outputs": [
        {
          "output_type": "stream",
          "name": "stdout",
          "text": [
            "latin_1\t\tEl Niño\t\tb'El Ni\\xf1o'\n",
            "utf_8\t\tEl Niño\t\tb'El Ni\\xc3\\xb1o'\n",
            "utf_16\t\tEl Niño\t\tb'\\xff\\xfeE\\x00l\\x00 \\x00N\\x00i\\x00\\xf1\\x00o\\x00'\n",
            "cp437\t\tEl Niño\t\tb'El Ni\\xa4o'\n"
          ]
        }
      ]
    },
    {
      "cell_type": "markdown",
      "metadata": {
        "id": "uoKaaXjX5kTv"
      },
      "source": [
        "Some of them won't work:"
      ]
    },
    {
      "cell_type": "code",
      "metadata": {
        "id": "amGeuOi65kTv",
        "colab": {
          "base_uri": "https://localhost:8080/",
          "height": 374
        },
        "outputId": "d8c38c25-9aed-4564-95a5-fcb4c3ae2d54"
      },
      "source": [
        "city = 'São Paulo'\n",
        "print(city.encode('utf_8'))\n",
        "print(city.encode('utf_16'))\n",
        "print(city.encode('iso8859_1'))\n",
        "print(city.encode('cp437'))"
      ],
      "execution_count": 73,
      "outputs": [
        {
          "output_type": "stream",
          "name": "stdout",
          "text": [
            "b'S\\xc3\\xa3o Paulo'\n",
            "b'\\xff\\xfeS\\x00\\xe3\\x00o\\x00 \\x00P\\x00a\\x00u\\x00l\\x00o\\x00'\n",
            "b'S\\xe3o Paulo'\n"
          ]
        },
        {
          "output_type": "error",
          "ename": "UnicodeEncodeError",
          "evalue": "ignored",
          "traceback": [
            "\u001b[0;31m---------------------------------------------------------------------------\u001b[0m",
            "\u001b[0;31mUnicodeEncodeError\u001b[0m                        Traceback (most recent call last)",
            "\u001b[0;32m<ipython-input-73-c0871d73a1d9>\u001b[0m in \u001b[0;36m<module>\u001b[0;34m()\u001b[0m\n\u001b[1;32m      3\u001b[0m \u001b[0mprint\u001b[0m\u001b[0;34m(\u001b[0m\u001b[0mcity\u001b[0m\u001b[0;34m.\u001b[0m\u001b[0mencode\u001b[0m\u001b[0;34m(\u001b[0m\u001b[0;34m'utf_16'\u001b[0m\u001b[0;34m)\u001b[0m\u001b[0;34m)\u001b[0m\u001b[0;34m\u001b[0m\u001b[0;34m\u001b[0m\u001b[0m\n\u001b[1;32m      4\u001b[0m \u001b[0mprint\u001b[0m\u001b[0;34m(\u001b[0m\u001b[0mcity\u001b[0m\u001b[0;34m.\u001b[0m\u001b[0mencode\u001b[0m\u001b[0;34m(\u001b[0m\u001b[0;34m'iso8859_1'\u001b[0m\u001b[0;34m)\u001b[0m\u001b[0;34m)\u001b[0m\u001b[0;34m\u001b[0m\u001b[0;34m\u001b[0m\u001b[0m\n\u001b[0;32m----> 5\u001b[0;31m \u001b[0mprint\u001b[0m\u001b[0;34m(\u001b[0m\u001b[0mcity\u001b[0m\u001b[0;34m.\u001b[0m\u001b[0mencode\u001b[0m\u001b[0;34m(\u001b[0m\u001b[0;34m'cp437'\u001b[0m\u001b[0;34m)\u001b[0m\u001b[0;34m)\u001b[0m\u001b[0;34m\u001b[0m\u001b[0;34m\u001b[0m\u001b[0m\n\u001b[0m",
            "\u001b[0;32m/usr/lib/python3.7/encodings/cp437.py\u001b[0m in \u001b[0;36mencode\u001b[0;34m(self, input, errors)\u001b[0m\n\u001b[1;32m     10\u001b[0m \u001b[0;34m\u001b[0m\u001b[0m\n\u001b[1;32m     11\u001b[0m     \u001b[0;32mdef\u001b[0m \u001b[0mencode\u001b[0m\u001b[0;34m(\u001b[0m\u001b[0mself\u001b[0m\u001b[0;34m,\u001b[0m\u001b[0minput\u001b[0m\u001b[0;34m,\u001b[0m\u001b[0merrors\u001b[0m\u001b[0;34m=\u001b[0m\u001b[0;34m'strict'\u001b[0m\u001b[0;34m)\u001b[0m\u001b[0;34m:\u001b[0m\u001b[0;34m\u001b[0m\u001b[0;34m\u001b[0m\u001b[0m\n\u001b[0;32m---> 12\u001b[0;31m         \u001b[0;32mreturn\u001b[0m \u001b[0mcodecs\u001b[0m\u001b[0;34m.\u001b[0m\u001b[0mcharmap_encode\u001b[0m\u001b[0;34m(\u001b[0m\u001b[0minput\u001b[0m\u001b[0;34m,\u001b[0m\u001b[0merrors\u001b[0m\u001b[0;34m,\u001b[0m\u001b[0mencoding_map\u001b[0m\u001b[0;34m)\u001b[0m\u001b[0;34m\u001b[0m\u001b[0;34m\u001b[0m\u001b[0m\n\u001b[0m\u001b[1;32m     13\u001b[0m \u001b[0;34m\u001b[0m\u001b[0m\n\u001b[1;32m     14\u001b[0m     \u001b[0;32mdef\u001b[0m \u001b[0mdecode\u001b[0m\u001b[0;34m(\u001b[0m\u001b[0mself\u001b[0m\u001b[0;34m,\u001b[0m\u001b[0minput\u001b[0m\u001b[0;34m,\u001b[0m\u001b[0merrors\u001b[0m\u001b[0;34m=\u001b[0m\u001b[0;34m'strict'\u001b[0m\u001b[0;34m)\u001b[0m\u001b[0;34m:\u001b[0m\u001b[0;34m\u001b[0m\u001b[0;34m\u001b[0m\u001b[0m\n",
            "\u001b[0;31mUnicodeEncodeError\u001b[0m: 'charmap' codec can't encode character '\\xe3' in position 1: character maps to <undefined>"
          ]
        }
      ]
    },
    {
      "cell_type": "markdown",
      "metadata": {
        "id": "2c2jrcim5kTv"
      },
      "source": [
        "Oops!"
      ]
    },
    {
      "cell_type": "code",
      "metadata": {
        "id": "4uKuzUrO5kTv",
        "colab": {
          "base_uri": "https://localhost:8080/"
        },
        "outputId": "788dcdea-b199-4333-bdae-a2c0bfdd6ee2"
      },
      "source": [
        "print(city.encode('cp437', errors='ignore')) # bad\n",
        "print(city.encode('cp437', errors='replace')) # better\n",
        "print(city.encode('cp437', errors='xmlcharrefreplace')) # still not perfect"
      ],
      "execution_count": 75,
      "outputs": [
        {
          "output_type": "stream",
          "name": "stdout",
          "text": [
            "b'So Paulo'\n",
            "b'S?o Paulo'\n",
            "b'S&#227;o Paulo'\n"
          ]
        }
      ]
    },
    {
      "cell_type": "markdown",
      "metadata": {
        "id": "Ky3lFe6I5kTv"
      },
      "source": [
        "You can also look at the `codecs` module, it was widely used in Python 2 but is obsolete now."
      ]
    },
    {
      "cell_type": "markdown",
      "metadata": {
        "id": "BjJYzJsl5kTv"
      },
      "source": [
        "## Files support"
      ]
    },
    {
      "cell_type": "code",
      "metadata": {
        "collapsed": true,
        "id": "j9XeK_4b5kTv"
      },
      "source": [
        "with open('unicode_file.txt', 'w', encoding='utf-16le') as file_object:\n",
        "    file_object.write('韩国烧酒')"
      ],
      "execution_count": 76,
      "outputs": []
    },
    {
      "cell_type": "code",
      "metadata": {
        "id": "swjrOchc5kTv",
        "colab": {
          "base_uri": "https://localhost:8080/",
          "height": 305
        },
        "outputId": "daf22f8e-8d29-45da-b4ea-52191daca1ce"
      },
      "source": [
        "with open('unicode_file.txt', 'r') as f:\n",
        "    print(f.read())"
      ],
      "execution_count": 78,
      "outputs": [
        {
          "output_type": "error",
          "ename": "UnicodeDecodeError",
          "evalue": "ignored",
          "traceback": [
            "\u001b[0;31m---------------------------------------------------------------------------\u001b[0m",
            "\u001b[0;31mUnicodeDecodeError\u001b[0m                        Traceback (most recent call last)",
            "\u001b[0;32m<ipython-input-78-35fe901e1e13>\u001b[0m in \u001b[0;36m<module>\u001b[0;34m()\u001b[0m\n\u001b[1;32m      1\u001b[0m \u001b[0;32mwith\u001b[0m \u001b[0mopen\u001b[0m\u001b[0;34m(\u001b[0m\u001b[0;34m'unicode_file.txt'\u001b[0m\u001b[0;34m,\u001b[0m \u001b[0;34m'r'\u001b[0m\u001b[0;34m)\u001b[0m \u001b[0;32mas\u001b[0m \u001b[0mf\u001b[0m\u001b[0;34m:\u001b[0m\u001b[0;34m\u001b[0m\u001b[0;34m\u001b[0m\u001b[0m\n\u001b[0;32m----> 2\u001b[0;31m     \u001b[0mprint\u001b[0m\u001b[0;34m(\u001b[0m\u001b[0mf\u001b[0m\u001b[0;34m.\u001b[0m\u001b[0mread\u001b[0m\u001b[0;34m(\u001b[0m\u001b[0;34m)\u001b[0m\u001b[0;34m)\u001b[0m\u001b[0;34m\u001b[0m\u001b[0;34m\u001b[0m\u001b[0m\n\u001b[0m",
            "\u001b[0;32m/usr/lib/python3.7/codecs.py\u001b[0m in \u001b[0;36mdecode\u001b[0;34m(self, input, final)\u001b[0m\n\u001b[1;32m    320\u001b[0m         \u001b[0;31m# decode input (taking the buffer into account)\u001b[0m\u001b[0;34m\u001b[0m\u001b[0;34m\u001b[0m\u001b[0;34m\u001b[0m\u001b[0m\n\u001b[1;32m    321\u001b[0m         \u001b[0mdata\u001b[0m \u001b[0;34m=\u001b[0m \u001b[0mself\u001b[0m\u001b[0;34m.\u001b[0m\u001b[0mbuffer\u001b[0m \u001b[0;34m+\u001b[0m \u001b[0minput\u001b[0m\u001b[0;34m\u001b[0m\u001b[0;34m\u001b[0m\u001b[0m\n\u001b[0;32m--> 322\u001b[0;31m         \u001b[0;34m(\u001b[0m\u001b[0mresult\u001b[0m\u001b[0;34m,\u001b[0m \u001b[0mconsumed\u001b[0m\u001b[0;34m)\u001b[0m \u001b[0;34m=\u001b[0m \u001b[0mself\u001b[0m\u001b[0;34m.\u001b[0m\u001b[0m_buffer_decode\u001b[0m\u001b[0;34m(\u001b[0m\u001b[0mdata\u001b[0m\u001b[0;34m,\u001b[0m \u001b[0mself\u001b[0m\u001b[0;34m.\u001b[0m\u001b[0merrors\u001b[0m\u001b[0;34m,\u001b[0m \u001b[0mfinal\u001b[0m\u001b[0;34m)\u001b[0m\u001b[0;34m\u001b[0m\u001b[0;34m\u001b[0m\u001b[0m\n\u001b[0m\u001b[1;32m    323\u001b[0m         \u001b[0;31m# keep undecoded input until the next call\u001b[0m\u001b[0;34m\u001b[0m\u001b[0;34m\u001b[0m\u001b[0;34m\u001b[0m\u001b[0m\n\u001b[1;32m    324\u001b[0m         \u001b[0mself\u001b[0m\u001b[0;34m.\u001b[0m\u001b[0mbuffer\u001b[0m \u001b[0;34m=\u001b[0m \u001b[0mdata\u001b[0m\u001b[0;34m[\u001b[0m\u001b[0mconsumed\u001b[0m\u001b[0;34m:\u001b[0m\u001b[0;34m]\u001b[0m\u001b[0;34m\u001b[0m\u001b[0;34m\u001b[0m\u001b[0m\n",
            "\u001b[0;31mUnicodeDecodeError\u001b[0m: 'utf-8' codec can't decode bytes in position 0-1: invalid continuation byte"
          ]
        }
      ]
    },
    {
      "cell_type": "code",
      "metadata": {
        "id": "hAkdvReu5kTw",
        "colab": {
          "base_uri": "https://localhost:8080/",
          "height": 329
        },
        "outputId": "fbaac07e-1d18-4566-8cf9-c8fc7e08154f"
      },
      "source": [
        "with open('unicode_file.txt', 'r', encoding='utf-16') as f:\n",
        "    print(f.read())"
      ],
      "execution_count": 80,
      "outputs": [
        {
          "output_type": "error",
          "ename": "UnicodeError",
          "evalue": "ignored",
          "traceback": [
            "\u001b[0;31m---------------------------------------------------------------------------\u001b[0m",
            "\u001b[0;31mUnicodeError\u001b[0m                              Traceback (most recent call last)",
            "\u001b[0;32m<ipython-input-80-339b00e3c746>\u001b[0m in \u001b[0;36m<module>\u001b[0;34m()\u001b[0m\n\u001b[1;32m      1\u001b[0m \u001b[0;32mwith\u001b[0m \u001b[0mopen\u001b[0m\u001b[0;34m(\u001b[0m\u001b[0;34m'unicode_file.txt'\u001b[0m\u001b[0;34m,\u001b[0m \u001b[0;34m'r'\u001b[0m\u001b[0;34m,\u001b[0m \u001b[0mencoding\u001b[0m\u001b[0;34m=\u001b[0m\u001b[0;34m'utf-16'\u001b[0m\u001b[0;34m)\u001b[0m \u001b[0;32mas\u001b[0m \u001b[0mf\u001b[0m\u001b[0;34m:\u001b[0m\u001b[0;34m\u001b[0m\u001b[0;34m\u001b[0m\u001b[0m\n\u001b[0;32m----> 2\u001b[0;31m     \u001b[0mprint\u001b[0m\u001b[0;34m(\u001b[0m\u001b[0mf\u001b[0m\u001b[0;34m.\u001b[0m\u001b[0mread\u001b[0m\u001b[0;34m(\u001b[0m\u001b[0;34m)\u001b[0m\u001b[0;34m)\u001b[0m\u001b[0;34m\u001b[0m\u001b[0;34m\u001b[0m\u001b[0m\n\u001b[0m",
            "\u001b[0;32m/usr/lib/python3.7/codecs.py\u001b[0m in \u001b[0;36mdecode\u001b[0;34m(self, input, final)\u001b[0m\n\u001b[1;32m    320\u001b[0m         \u001b[0;31m# decode input (taking the buffer into account)\u001b[0m\u001b[0;34m\u001b[0m\u001b[0;34m\u001b[0m\u001b[0;34m\u001b[0m\u001b[0m\n\u001b[1;32m    321\u001b[0m         \u001b[0mdata\u001b[0m \u001b[0;34m=\u001b[0m \u001b[0mself\u001b[0m\u001b[0;34m.\u001b[0m\u001b[0mbuffer\u001b[0m \u001b[0;34m+\u001b[0m \u001b[0minput\u001b[0m\u001b[0;34m\u001b[0m\u001b[0;34m\u001b[0m\u001b[0m\n\u001b[0;32m--> 322\u001b[0;31m         \u001b[0;34m(\u001b[0m\u001b[0mresult\u001b[0m\u001b[0;34m,\u001b[0m \u001b[0mconsumed\u001b[0m\u001b[0;34m)\u001b[0m \u001b[0;34m=\u001b[0m \u001b[0mself\u001b[0m\u001b[0;34m.\u001b[0m\u001b[0m_buffer_decode\u001b[0m\u001b[0;34m(\u001b[0m\u001b[0mdata\u001b[0m\u001b[0;34m,\u001b[0m \u001b[0mself\u001b[0m\u001b[0;34m.\u001b[0m\u001b[0merrors\u001b[0m\u001b[0;34m,\u001b[0m \u001b[0mfinal\u001b[0m\u001b[0;34m)\u001b[0m\u001b[0;34m\u001b[0m\u001b[0;34m\u001b[0m\u001b[0m\n\u001b[0m\u001b[1;32m    323\u001b[0m         \u001b[0;31m# keep undecoded input until the next call\u001b[0m\u001b[0;34m\u001b[0m\u001b[0;34m\u001b[0m\u001b[0;34m\u001b[0m\u001b[0m\n\u001b[1;32m    324\u001b[0m         \u001b[0mself\u001b[0m\u001b[0;34m.\u001b[0m\u001b[0mbuffer\u001b[0m \u001b[0;34m=\u001b[0m \u001b[0mdata\u001b[0m\u001b[0;34m[\u001b[0m\u001b[0mconsumed\u001b[0m\u001b[0;34m:\u001b[0m\u001b[0;34m]\u001b[0m\u001b[0;34m\u001b[0m\u001b[0;34m\u001b[0m\u001b[0m\n",
            "\u001b[0;32m/usr/lib/python3.7/encodings/utf_16.py\u001b[0m in \u001b[0;36m_buffer_decode\u001b[0;34m(self, input, errors, final)\u001b[0m\n\u001b[1;32m     65\u001b[0m                 \u001b[0mself\u001b[0m\u001b[0;34m.\u001b[0m\u001b[0mdecoder\u001b[0m \u001b[0;34m=\u001b[0m \u001b[0mcodecs\u001b[0m\u001b[0;34m.\u001b[0m\u001b[0mutf_16_be_decode\u001b[0m\u001b[0;34m\u001b[0m\u001b[0;34m\u001b[0m\u001b[0m\n\u001b[1;32m     66\u001b[0m             \u001b[0;32melif\u001b[0m \u001b[0mconsumed\u001b[0m \u001b[0;34m>=\u001b[0m \u001b[0;36m2\u001b[0m\u001b[0;34m:\u001b[0m\u001b[0;34m\u001b[0m\u001b[0;34m\u001b[0m\u001b[0m\n\u001b[0;32m---> 67\u001b[0;31m                 \u001b[0;32mraise\u001b[0m \u001b[0mUnicodeError\u001b[0m\u001b[0;34m(\u001b[0m\u001b[0;34m\"UTF-16 stream does not start with BOM\"\u001b[0m\u001b[0;34m)\u001b[0m\u001b[0;34m\u001b[0m\u001b[0;34m\u001b[0m\u001b[0m\n\u001b[0m\u001b[1;32m     68\u001b[0m             \u001b[0;32mreturn\u001b[0m \u001b[0;34m(\u001b[0m\u001b[0moutput\u001b[0m\u001b[0;34m,\u001b[0m \u001b[0mconsumed\u001b[0m\u001b[0;34m)\u001b[0m\u001b[0;34m\u001b[0m\u001b[0;34m\u001b[0m\u001b[0m\n\u001b[1;32m     69\u001b[0m         \u001b[0;32mreturn\u001b[0m \u001b[0mself\u001b[0m\u001b[0;34m.\u001b[0m\u001b[0mdecoder\u001b[0m\u001b[0;34m(\u001b[0m\u001b[0minput\u001b[0m\u001b[0;34m,\u001b[0m \u001b[0mself\u001b[0m\u001b[0;34m.\u001b[0m\u001b[0merrors\u001b[0m\u001b[0;34m,\u001b[0m \u001b[0mfinal\u001b[0m\u001b[0;34m)\u001b[0m\u001b[0;34m\u001b[0m\u001b[0;34m\u001b[0m\u001b[0m\n",
            "\u001b[0;31mUnicodeError\u001b[0m: UTF-16 stream does not start with BOM"
          ]
        }
      ]
    },
    {
      "cell_type": "code",
      "metadata": {
        "id": "rVyBNJFA5kTw",
        "colab": {
          "base_uri": "https://localhost:8080/"
        },
        "outputId": "d67c404c-3b02-41da-c307-20507b89fdb8"
      },
      "source": [
        "with open('unicode_file.txt', 'r', encoding='utf-16le') as f:\n",
        "    print(f.read())"
      ],
      "execution_count": 85,
      "outputs": [
        {
          "output_type": "stream",
          "name": "stdout",
          "text": [
            "韩国烧酒\n"
          ]
        }
      ]
    },
    {
      "cell_type": "markdown",
      "metadata": {
        "id": "w_nBaUuh5kTw"
      },
      "source": [
        "So far we didn't encounter any **tough** cases.\n",
        "\n",
        "We can handle them with `chardet` and `UnicodeDammit`, which is part of BeautifulSoup package."
      ]
    },
    {
      "cell_type": "markdown",
      "metadata": {
        "collapsed": true,
        "id": "WXZwl-E95kTx"
      },
      "source": [
        "## Regular expressions 101\n",
        "\n",
        "Regular expressions debuggins is easy to do with https://regex101.com/\n",
        "\n",
        "Metasymbols: ```. ˆ $ * + ? { } [ ] | ( )```\n",
        "\n",
        "Documentation: https://docs.python.org/3/library/re.html"
      ]
    },
    {
      "cell_type": "code",
      "metadata": {
        "id": "uoVASwvk5kTx",
        "colab": {
          "base_uri": "https://localhost:8080/"
        },
        "outputId": "ed7c9827-1721-458f-a478-5ae56afeb152"
      },
      "source": [
        "import re\n",
        "\n",
        "string = '__abc__acc__abc__a6c__'\n",
        "print(re.findall(r'abc', string))\n",
        "print(re.findall(r'a\\dc', string))\n",
        "print(re.findall(r'a\\wc', string))"
      ],
      "execution_count": 86,
      "outputs": [
        {
          "output_type": "stream",
          "name": "stdout",
          "text": [
            "['abc', 'abc']\n",
            "['a6c']\n",
            "['abc', 'acc', 'abc', 'a6c']\n"
          ]
        }
      ]
    },
    {
      "cell_type": "code",
      "metadata": {
        "id": "7AQ_EBww5kTx",
        "colab": {
          "base_uri": "https://localhost:8080/"
        },
        "outputId": "1f626d92-3898-4d65-f2db-36f1a276b461"
      },
      "source": [
        "print(re.sub(r'a\\wc', '***', string))"
      ],
      "execution_count": 87,
      "outputs": [
        {
          "output_type": "stream",
          "name": "stdout",
          "text": [
            "__***__***__***__***__\n"
          ]
        }
      ]
    },
    {
      "cell_type": "code",
      "metadata": {
        "id": "vzSHqbDs5kTx",
        "colab": {
          "base_uri": "https://localhost:8080/"
        },
        "outputId": "475bb846-0a19-4c23-992f-fd62ca6383af"
      },
      "source": [
        "text = u'Français złoty Österreich'\n",
        "pattern = r'\\w+'\n",
        "ascii_pattern = re.compile(pattern, re.ASCII)\n",
        "unicode_pattern = re.compile(pattern)\n",
        "\n",
        "print('Text    :', text)\n",
        "print('Pattern :', pattern)\n",
        "print('ASCII   :', list(ascii_pattern.findall(text)))\n",
        "print('Unicode :', list(unicode_pattern.findall(text)))"
      ],
      "execution_count": 88,
      "outputs": [
        {
          "output_type": "stream",
          "name": "stdout",
          "text": [
            "Text    : Français złoty Österreich\n",
            "Pattern : \\w+\n",
            "ASCII   : ['Fran', 'ais', 'z', 'oty', 'sterreich']\n",
            "Unicode : ['Français', 'złoty', 'Österreich']\n"
          ]
        }
      ]
    }
  ]
}