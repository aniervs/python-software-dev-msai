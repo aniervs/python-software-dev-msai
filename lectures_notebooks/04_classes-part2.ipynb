{
  "nbformat": 4,
  "nbformat_minor": 0,
  "metadata": {
    "celltoolbar": "Slideshow",
    "kernelspec": {
      "display_name": "Python 3",
      "language": "python",
      "name": "python3"
    },
    "language_info": {
      "codemirror_mode": {
        "name": "ipython",
        "version": 3
      },
      "file_extension": ".py",
      "mimetype": "text/x-python",
      "name": "python",
      "nbconvert_exporter": "python",
      "pygments_lexer": "ipython3",
      "version": "3.8.5"
    },
    "colab": {
      "name": "classes-part2",
      "provenance": [],
      "collapsed_sections": [],
      "toc_visible": true
    }
  },
  "cells": [
    {
      "cell_type": "markdown",
      "metadata": {
        "id": "jZn1Eoiv8XM2"
      },
      "source": [
        "# Special class methods"
      ]
    },
    {
      "cell_type": "code",
      "metadata": {
        "id": "ZdUUxHqa8XM6"
      },
      "source": [
        "import random\n",
        "\n",
        "class Vector:        \n",
        "    def __init__(self, x=0, y=0, color=None):\n",
        "        print(\"initializing a vector\")\n",
        "        if type(x) != int or type(y) != int:\n",
        "            raise AttributeError('x and y should be int')\n",
        "        \n",
        "        self._x = x\n",
        "        self._y = y\n",
        "        self._color = color\n",
        "    \n",
        "    def get_x(self):\n",
        "        return self._x\n",
        "    \n",
        "    def get_y(self):\n",
        "        return self._y"
      ],
      "execution_count": null,
      "outputs": []
    },
    {
      "cell_type": "markdown",
      "metadata": {
        "id": "aaO9bKqH8XM8"
      },
      "source": [
        "Methods with double underscore (dunder) at the beginning and the end of their names have special meaning.\n",
        "\n",
        "We are already familiar with `__next__` and `__iter__`, it's time to learn about the rest."
      ]
    },
    {
      "cell_type": "code",
      "metadata": {
        "id": "dUK750Fj8XM9"
      },
      "source": [
        "vector = Vector(1, 2, 'red')\n",
        "str(vector)"
      ],
      "execution_count": null,
      "outputs": []
    },
    {
      "cell_type": "code",
      "metadata": {
        "id": "56aqrvh88XM-"
      },
      "source": [
        "class VectorWithStr(Vector):\n",
        "    def __str__(self):\n",
        "        return 'vector ({}, {}) of color {}'.format(self._x, self._y, self._color)"
      ],
      "execution_count": null,
      "outputs": []
    },
    {
      "cell_type": "code",
      "metadata": {
        "colab": {
          "base_uri": "https://localhost:8080/",
          "height": 53
        },
        "id": "Mclc8VB-8XM-",
        "outputId": "a2b51f6a-813a-46fd-e1e4-2058ef0d34a5"
      },
      "source": [
        "vector = VectorWithStr(1, 2, 'red')\n",
        "str(vector)"
      ],
      "execution_count": 7,
      "outputs": [
        {
          "output_type": "stream",
          "name": "stdout",
          "text": [
            "initializing a vector\n"
          ]
        },
        {
          "output_type": "execute_result",
          "data": {
            "application/vnd.google.colaboratory.intrinsic+json": {
              "type": "string"
            },
            "text/plain": [
              "'vector (1, 2) of color red'"
            ]
          },
          "metadata": {},
          "execution_count": 7
        }
      ]
    },
    {
      "cell_type": "markdown",
      "metadata": {
        "id": "UAzyO8tI8XM_"
      },
      "source": [
        "__Q:__ Casting to string and that's all?\n",
        "\n",
        "__A:__ Of course not. Implicit conversions sometimes occur where we do not expect them"
      ]
    },
    {
      "cell_type": "code",
      "metadata": {
        "colab": {
          "base_uri": "https://localhost:8080/"
        },
        "id": "071zqirE8XNA",
        "outputId": "d651d720-69a9-456e-85bd-cffc74204818"
      },
      "source": [
        "print(vector)"
      ],
      "execution_count": 6,
      "outputs": [
        {
          "output_type": "stream",
          "name": "stdout",
          "text": [
            "vector (1, 2) of color red\n"
          ]
        }
      ]
    },
    {
      "cell_type": "code",
      "metadata": {
        "colab": {
          "base_uri": "https://localhost:8080/"
        },
        "id": "unsrU0488XNA",
        "outputId": "e2653077-d58b-4d4f-caf0-bb57d2b8f870"
      },
      "source": [
        "print(\"OBJECT: {}\".format(vector))"
      ],
      "execution_count": 8,
      "outputs": [
        {
          "output_type": "stream",
          "name": "stdout",
          "text": [
            "OBJECT: vector (1, 2) of color red\n"
          ]
        }
      ]
    },
    {
      "cell_type": "code",
      "metadata": {
        "colab": {
          "base_uri": "https://localhost:8080/"
        },
        "id": "GGvgTa_A8XNB",
        "outputId": "029a199c-e2c5-4db9-c79e-e01658f8b703"
      },
      "source": [
        "mylist = [vector]\n",
        "print(mylist)"
      ],
      "execution_count": 9,
      "outputs": [
        {
          "output_type": "stream",
          "name": "stdout",
          "text": [
            "[<__main__.VectorWithStr object at 0x7effa69b9910>]\n"
          ]
        }
      ]
    },
    {
      "cell_type": "markdown",
      "metadata": {
        "id": "b0e2fICR8XNB"
      },
      "source": [
        "__Q:__ And where are the ugly lines again from?!\n",
        "\n",
        "__A:__ Python uses two methods of casting to a string. These are the functions `str` and` repr`, which differ in their purpose.\n",
        "\n",
        "`str` is used where human readability is needed, and` repr` is implemented so that it is possible to unambiguously determine which object we are talking about. If `repr` is not implemented, the standard option is used, and if` str` is not implemented, then `repr` is used instead.\n",
        "\n",
        "Let's try!"
      ]
    },
    {
      "cell_type": "code",
      "metadata": {
        "id": "zrlYkAQo8XNC"
      },
      "source": [
        "class VectorWithRepr(Vector):\n",
        "    def __repr__(self):\n",
        "        return 'vector representation (x: {}, y: {}, color: {})'.format(self._x, self._y, self._color)"
      ],
      "execution_count": 10,
      "outputs": []
    },
    {
      "cell_type": "code",
      "metadata": {
        "colab": {
          "base_uri": "https://localhost:8080/",
          "height": 253
        },
        "id": "DWTO45Z88XNC",
        "outputId": "f8569089-7358-4fc5-a3b2-b6ab6a49e924"
      },
      "source": [
        "vector = VectorWithRepr(1, 2, 'red')\n",
        "\n",
        "print(vector)\n",
        "mylist = [vector]\n",
        "print(mylist)\n",
        "mydict = {}\n",
        "mydict[vector]"
      ],
      "execution_count": 11,
      "outputs": [
        {
          "output_type": "stream",
          "name": "stdout",
          "text": [
            "initializing a vector\n",
            "vector representation (x: 1, y: 2, color: red)\n",
            "[vector representation (x: 1, y: 2, color: red)]\n"
          ]
        },
        {
          "output_type": "error",
          "ename": "KeyError",
          "evalue": "ignored",
          "traceback": [
            "\u001b[0;31m---------------------------------------------------------------------------\u001b[0m",
            "\u001b[0;31mKeyError\u001b[0m                                  Traceback (most recent call last)",
            "\u001b[0;32m<ipython-input-11-afd413e6a5fd>\u001b[0m in \u001b[0;36m<module>\u001b[0;34m()\u001b[0m\n\u001b[1;32m      5\u001b[0m \u001b[0mprint\u001b[0m\u001b[0;34m(\u001b[0m\u001b[0mmylist\u001b[0m\u001b[0;34m)\u001b[0m\u001b[0;34m\u001b[0m\u001b[0;34m\u001b[0m\u001b[0m\n\u001b[1;32m      6\u001b[0m \u001b[0mmydict\u001b[0m \u001b[0;34m=\u001b[0m \u001b[0;34m{\u001b[0m\u001b[0;34m}\u001b[0m\u001b[0;34m\u001b[0m\u001b[0;34m\u001b[0m\u001b[0m\n\u001b[0;32m----> 7\u001b[0;31m \u001b[0mmydict\u001b[0m\u001b[0;34m[\u001b[0m\u001b[0mvector\u001b[0m\u001b[0;34m]\u001b[0m\u001b[0;34m\u001b[0m\u001b[0;34m\u001b[0m\u001b[0m\n\u001b[0m",
            "\u001b[0;31mKeyError\u001b[0m: vector representation (x: 1, y: 2, color: red)"
          ]
        }
      ]
    },
    {
      "cell_type": "code",
      "metadata": {
        "id": "wXkKMTnP8XNC"
      },
      "source": [
        "class VectorWithBothReprAndStr(VectorWithRepr, VectorWithStr):\n",
        "    pass"
      ],
      "execution_count": 12,
      "outputs": []
    },
    {
      "cell_type": "code",
      "metadata": {
        "id": "xOBUH_qY8XND",
        "colab": {
          "base_uri": "https://localhost:8080/"
        },
        "outputId": "2a16589c-6ab6-437f-8189-fde28d4aac8e"
      },
      "source": [
        "vector = VectorWithBothReprAndStr(1, 2, 'red')\n",
        "# now we should get different outputs\n",
        "print(vector)\n",
        "print([vector])"
      ],
      "execution_count": 13,
      "outputs": [
        {
          "output_type": "stream",
          "name": "stdout",
          "text": [
            "initializing a vector\n",
            "vector (1, 2) of color red\n",
            "[vector representation (x: 1, y: 2, color: red)]\n"
          ]
        }
      ]
    },
    {
      "cell_type": "markdown",
      "metadata": {
        "id": "izZ930Ow8XND"
      },
      "source": [
        "## Arithmetic"
      ]
    },
    {
      "cell_type": "code",
      "metadata": {
        "id": "vpeK0Wk18XND"
      },
      "source": [
        "import math\n",
        "import random\n",
        "\n",
        "class VectorWithMath(VectorWithBothReprAndStr):    \n",
        "    def __abs__(self):\n",
        "        return math.hypot(self._x, self._y)\n",
        "    \n",
        "    def __add__(self, other):\n",
        "        return VectorWithMath(self.get_x() + other.get_x(),\n",
        "                     self.get_y() + other.get_y(),\n",
        "                     random.choice((str(self._color), str(other._color))))\n",
        "    \n",
        "    def __sub__(self, other):\n",
        "        return VectorWithMath(self.get_x() - other.get_x(),\n",
        "                     self.get_y() - other.get_y(),\n",
        "                     random.choice((str(self._color), str(other._color))))\n",
        "    \n",
        "    # there also div, mul and many other methods"
      ],
      "execution_count": 14,
      "outputs": []
    },
    {
      "cell_type": "code",
      "metadata": {
        "id": "CvLzkzrr8XNF",
        "colab": {
          "base_uri": "https://localhost:8080/"
        },
        "outputId": "dbc31394-68b8-41f7-952f-68d2fef39174"
      },
      "source": [
        "vector1 = VectorWithMath(3, 4, 'blue')\n",
        "vector2 = VectorWithMath(1, 2, 'red')"
      ],
      "execution_count": 15,
      "outputs": [
        {
          "output_type": "stream",
          "name": "stdout",
          "text": [
            "initializing a vector\n",
            "initializing a vector\n"
          ]
        }
      ]
    },
    {
      "cell_type": "code",
      "metadata": {
        "id": "pzUBwMF18XNF",
        "colab": {
          "base_uri": "https://localhost:8080/"
        },
        "outputId": "5c38823b-f901-43e1-fdbb-5e1842419604"
      },
      "source": [
        "print(abs(vector1))\n",
        "print(vector1 + vector2)"
      ],
      "execution_count": 16,
      "outputs": [
        {
          "output_type": "stream",
          "name": "stdout",
          "text": [
            "5.0\n",
            "initializing a vector\n",
            "vector (4, 6) of color red\n"
          ]
        }
      ]
    },
    {
      "cell_type": "markdown",
      "metadata": {
        "id": "phR1FFh68XNF"
      },
      "source": [
        "## Type conversions"
      ]
    },
    {
      "cell_type": "code",
      "metadata": {
        "id": "86wMDJbV8XNF"
      },
      "source": [
        "import math\n",
        "\n",
        "class VectorWithTypes(VectorWithMath):\n",
        "    def __bool__(self):\n",
        "        return bool(self._x) or bool(self._y)\n",
        "    \n",
        "    def __int__(self): # int()\n",
        "        return int(float(self))\n",
        "    \n",
        "    def __float__(self):\n",
        "        return abs(self)"
      ],
      "execution_count": 17,
      "outputs": []
    },
    {
      "cell_type": "code",
      "metadata": {
        "id": "I9ZR9Bfa8XNG",
        "colab": {
          "base_uri": "https://localhost:8080/"
        },
        "outputId": "f5421a0a-3fbb-4cce-a425-5bf34403199c"
      },
      "source": [
        "vector = VectorWithTypes(3, 4, 'blue')\n",
        "print(vector)\n",
        "print(int(vector))\n",
        "print(float(vector))\n",
        "if vector:\n",
        "    print(\"vector ~ True\")"
      ],
      "execution_count": 18,
      "outputs": [
        {
          "output_type": "stream",
          "name": "stdout",
          "text": [
            "initializing a vector\n",
            "vector (3, 4) of color blue\n",
            "5\n",
            "5.0\n",
            "vector ~ True\n"
          ]
        }
      ]
    },
    {
      "cell_type": "code",
      "metadata": {
        "id": "aWgDSbsn8XNG",
        "colab": {
          "base_uri": "https://localhost:8080/"
        },
        "outputId": "e16cd743-1e80-4d62-d735-56725f416976"
      },
      "source": [
        "vector = VectorWithTypes()\n",
        "print(vector)\n",
        "if not vector:\n",
        "    print(\"vector ~ False\")"
      ],
      "execution_count": 19,
      "outputs": [
        {
          "output_type": "stream",
          "name": "stdout",
          "text": [
            "initializing a vector\n",
            "vector (0, 0) of color None\n",
            "vector ~ False\n"
          ]
        }
      ]
    },
    {
      "cell_type": "markdown",
      "metadata": {
        "id": "tP776Tbh8XNG"
      },
      "source": [
        "## Iterating"
      ]
    },
    {
      "cell_type": "markdown",
      "metadata": {
        "id": "5bXxNnTn8XNG"
      },
      "source": [
        "We already know one way to make the object \"iterable\", the `__iter__` and `__next__` methods. But it is not the only way."
      ]
    },
    {
      "cell_type": "code",
      "metadata": {
        "id": "hBHt7zRS8XNG"
      },
      "source": [
        "class VectorIterable(VectorWithTypes):\n",
        "    def __getitem__(self, position):\n",
        "        return (self._x, self._y)[position]\n",
        "    \n",
        "    def __len__(self):\n",
        "        return 2\n",
        "    \n",
        "    def __reversed__(self):\n",
        "        return (self._x, self._y)[::-1]"
      ],
      "execution_count": 20,
      "outputs": []
    },
    {
      "cell_type": "code",
      "metadata": {
        "id": "oXiTQen98XNG",
        "colab": {
          "base_uri": "https://localhost:8080/",
          "height": 357
        },
        "outputId": "d52fb281-2aec-49ad-f958-d0b397156b1b"
      },
      "source": [
        "vector = VectorIterable(100, 500)\n",
        "print(vector[0])\n",
        "print(vector[3])"
      ],
      "execution_count": 21,
      "outputs": [
        {
          "output_type": "stream",
          "name": "stdout",
          "text": [
            "initializing a vector\n",
            "100\n"
          ]
        },
        {
          "output_type": "error",
          "ename": "IndexError",
          "evalue": "ignored",
          "traceback": [
            "\u001b[0;31m---------------------------------------------------------------------------\u001b[0m",
            "\u001b[0;31mIndexError\u001b[0m                                Traceback (most recent call last)",
            "\u001b[0;32m<ipython-input-21-624b3984d471>\u001b[0m in \u001b[0;36m<module>\u001b[0;34m()\u001b[0m\n\u001b[1;32m      1\u001b[0m \u001b[0mvector\u001b[0m \u001b[0;34m=\u001b[0m \u001b[0mVectorIterable\u001b[0m\u001b[0;34m(\u001b[0m\u001b[0;36m100\u001b[0m\u001b[0;34m,\u001b[0m \u001b[0;36m500\u001b[0m\u001b[0;34m)\u001b[0m\u001b[0;34m\u001b[0m\u001b[0;34m\u001b[0m\u001b[0m\n\u001b[1;32m      2\u001b[0m \u001b[0mprint\u001b[0m\u001b[0;34m(\u001b[0m\u001b[0mvector\u001b[0m\u001b[0;34m[\u001b[0m\u001b[0;36m0\u001b[0m\u001b[0;34m]\u001b[0m\u001b[0;34m)\u001b[0m\u001b[0;34m\u001b[0m\u001b[0;34m\u001b[0m\u001b[0m\n\u001b[0;32m----> 3\u001b[0;31m \u001b[0mprint\u001b[0m\u001b[0;34m(\u001b[0m\u001b[0mvector\u001b[0m\u001b[0;34m[\u001b[0m\u001b[0;36m3\u001b[0m\u001b[0;34m]\u001b[0m\u001b[0;34m)\u001b[0m\u001b[0;34m\u001b[0m\u001b[0;34m\u001b[0m\u001b[0m\n\u001b[0m",
            "\u001b[0;32m<ipython-input-20-e2ab28d06881>\u001b[0m in \u001b[0;36m__getitem__\u001b[0;34m(self, position)\u001b[0m\n\u001b[1;32m      1\u001b[0m \u001b[0;32mclass\u001b[0m \u001b[0mVectorIterable\u001b[0m\u001b[0;34m(\u001b[0m\u001b[0mVectorWithTypes\u001b[0m\u001b[0;34m)\u001b[0m\u001b[0;34m:\u001b[0m\u001b[0;34m\u001b[0m\u001b[0;34m\u001b[0m\u001b[0m\n\u001b[1;32m      2\u001b[0m     \u001b[0;32mdef\u001b[0m \u001b[0m__getitem__\u001b[0m\u001b[0;34m(\u001b[0m\u001b[0mself\u001b[0m\u001b[0;34m,\u001b[0m \u001b[0mposition\u001b[0m\u001b[0;34m)\u001b[0m\u001b[0;34m:\u001b[0m\u001b[0;34m\u001b[0m\u001b[0;34m\u001b[0m\u001b[0m\n\u001b[0;32m----> 3\u001b[0;31m         \u001b[0;32mreturn\u001b[0m \u001b[0;34m(\u001b[0m\u001b[0mself\u001b[0m\u001b[0;34m.\u001b[0m\u001b[0m_x\u001b[0m\u001b[0;34m,\u001b[0m \u001b[0mself\u001b[0m\u001b[0;34m.\u001b[0m\u001b[0m_y\u001b[0m\u001b[0;34m)\u001b[0m\u001b[0;34m[\u001b[0m\u001b[0mposition\u001b[0m\u001b[0;34m]\u001b[0m\u001b[0;34m\u001b[0m\u001b[0;34m\u001b[0m\u001b[0m\n\u001b[0m\u001b[1;32m      4\u001b[0m \u001b[0;34m\u001b[0m\u001b[0m\n\u001b[1;32m      5\u001b[0m     \u001b[0;32mdef\u001b[0m \u001b[0m__len__\u001b[0m\u001b[0;34m(\u001b[0m\u001b[0mself\u001b[0m\u001b[0;34m)\u001b[0m\u001b[0;34m:\u001b[0m\u001b[0;34m\u001b[0m\u001b[0;34m\u001b[0m\u001b[0m\n",
            "\u001b[0;31mIndexError\u001b[0m: tuple index out of range"
          ]
        }
      ]
    },
    {
      "cell_type": "code",
      "metadata": {
        "id": "UuKuZsWX8XNH",
        "colab": {
          "base_uri": "https://localhost:8080/"
        },
        "outputId": "ba117824-c937-43e4-c86e-15905d4893ea"
      },
      "source": [
        "for coordinate in vector:\n",
        "    print(coordinate)"
      ],
      "execution_count": 22,
      "outputs": [
        {
          "output_type": "stream",
          "name": "stdout",
          "text": [
            "100\n",
            "500\n"
          ]
        }
      ]
    },
    {
      "cell_type": "code",
      "metadata": {
        "id": "ZpVvgG4J8XNH",
        "colab": {
          "base_uri": "https://localhost:8080/"
        },
        "outputId": "df6de9b9-a8fb-4045-cce0-5128217cf4a3"
      },
      "source": [
        "for coordinate in reversed(vector):\n",
        "    print(coordinate)"
      ],
      "execution_count": 23,
      "outputs": [
        {
          "output_type": "stream",
          "name": "stdout",
          "text": [
            "500\n",
            "100\n"
          ]
        }
      ]
    },
    {
      "cell_type": "code",
      "metadata": {
        "id": "Hc-SCPGx8XNH"
      },
      "source": [
        "class VectorIterable(VectorWithTypes):\n",
        "    \n",
        "    def __getitem__(self, position):\n",
        "        return (self._y, self._x)[position]\n",
        "    \n",
        "    def __iter__(self):\n",
        "        \n",
        "        #return iter((self._x, self._y))\n",
        "        return self\n",
        "    \n",
        "    def __next__(self):\n",
        "        \n",
        "        if not hasattr(self, 'count'):\n",
        "            self.count = 0\n",
        "        \n",
        "        self.count += 1\n",
        "        \n",
        "        if self.count < 3:\n",
        "            return (self._x, self._y)[self.count - 1]\n",
        "        else:\n",
        "            raise StopIteration\n",
        "    \n",
        "    def __len__(self):\n",
        "        return 2\n",
        "    \n",
        "    def __reversed__(self):\n",
        "        return (self._x, self._y)[::-1]"
      ],
      "execution_count": 24,
      "outputs": []
    },
    {
      "cell_type": "code",
      "metadata": {
        "id": "YcVdykbA8XNH",
        "colab": {
          "base_uri": "https://localhost:8080/"
        },
        "outputId": "8609e0ab-a26e-474e-eea2-f6431fb19412"
      },
      "source": [
        "vect = VectorIterable(3, 5)\n",
        "\n",
        "for c in vect:\n",
        "    print(c)"
      ],
      "execution_count": 25,
      "outputs": [
        {
          "output_type": "stream",
          "name": "stdout",
          "text": [
            "initializing a vector\n",
            "3\n",
            "5\n"
          ]
        }
      ]
    },
    {
      "cell_type": "markdown",
      "metadata": {
        "id": "LPiwlcs38XNH"
      },
      "source": [
        "## Dynamic work with attributes"
      ]
    },
    {
      "cell_type": "markdown",
      "metadata": {
        "collapsed": true,
        "id": "BZexhtay8XNH"
      },
      "source": [
        "It seems that in python there is no protection against \"hacking\". But is it possible to do it yourself?"
      ]
    },
    {
      "cell_type": "code",
      "metadata": {
        "id": "hcVKUd4E8XNH"
      },
      "source": [
        "class VectorWithAllAttributes(VectorIterable):\n",
        "    def __getattr__(self, attr_name):\n",
        "        return \"value of {}\".format(attr_name)\n",
        "    \n",
        "    def __setattr__(self, attr_name, attr_value):\n",
        "        if attr_name not in ('_x', '_y', '_color'):\n",
        "            raise Exception('you shall not add new attributes here, young padawan!')\n",
        "        else:\n",
        "            super().__setattr__(attr_name, attr_value)\n",
        "            \n",
        "    def __delattr__(self, attr_name):\n",
        "        print('Heh, you can delete nothing')"
      ],
      "execution_count": 174,
      "outputs": []
    },
    {
      "cell_type": "code",
      "metadata": {
        "id": "txNXIR5P8XNH",
        "colab": {
          "base_uri": "https://localhost:8080/"
        },
        "outputId": "0a1c441a-95f4-4892-a179-757f497f6a80"
      },
      "source": [
        "vector = VectorWithAllAttributes(1, 2, 'violet')\n",
        "print(dir(vector))"
      ],
      "execution_count": 175,
      "outputs": [
        {
          "output_type": "stream",
          "name": "stdout",
          "text": [
            "initializing a vector\n",
            "['__abs__', '__add__', '__bool__', '__class__', '__delattr__', '__dict__', '__dir__', '__doc__', '__eq__', '__float__', '__format__', '__ge__', '__getattr__', '__getattribute__', '__getitem__', '__gt__', '__hash__', '__init__', '__init_subclass__', '__int__', '__iter__', '__le__', '__len__', '__lt__', '__module__', '__ne__', '__new__', '__next__', '__reduce__', '__reduce_ex__', '__repr__', '__reversed__', '__setattr__', '__sizeof__', '__str__', '__sub__', '__subclasshook__', '__weakref__', '_color', '_x', '_y', 'get_x', 'get_y']\n"
          ]
        }
      ]
    },
    {
      "cell_type": "code",
      "metadata": {
        "id": "AuXH8M5V8XNI",
        "colab": {
          "base_uri": "https://localhost:8080/"
        },
        "outputId": "51501232-54bd-45f7-a676-dcbf83969bd9"
      },
      "source": [
        "print(vector.some_attribute)\n",
        "print(vector._color)\n",
        "print(vector.get_x())"
      ],
      "execution_count": 176,
      "outputs": [
        {
          "output_type": "stream",
          "name": "stdout",
          "text": [
            "value of some_attribute\n",
            "violet\n",
            "1\n"
          ]
        }
      ]
    },
    {
      "cell_type": "code",
      "metadata": {
        "id": "1vVVwcek8XNI",
        "colab": {
          "base_uri": "https://localhost:8080/",
          "height": 288
        },
        "outputId": "f35e6e86-e8de-47de-929b-e868891994a2"
      },
      "source": [
        "vector.new_attribute = \"value\""
      ],
      "execution_count": 177,
      "outputs": [
        {
          "output_type": "error",
          "ename": "Exception",
          "evalue": "ignored",
          "traceback": [
            "\u001b[0;31m---------------------------------------------------------------------------\u001b[0m",
            "\u001b[0;31mException\u001b[0m                                 Traceback (most recent call last)",
            "\u001b[0;32m<ipython-input-177-8f1d7f8427cb>\u001b[0m in \u001b[0;36m<module>\u001b[0;34m()\u001b[0m\n\u001b[0;32m----> 1\u001b[0;31m \u001b[0mvector\u001b[0m\u001b[0;34m.\u001b[0m\u001b[0mnew_attribute\u001b[0m \u001b[0;34m=\u001b[0m \u001b[0;34m\"value\"\u001b[0m\u001b[0;34m\u001b[0m\u001b[0;34m\u001b[0m\u001b[0m\n\u001b[0m",
            "\u001b[0;32m<ipython-input-174-41ddb907f5b2>\u001b[0m in \u001b[0;36m__setattr__\u001b[0;34m(self, attr_name, attr_value)\u001b[0m\n\u001b[1;32m      5\u001b[0m     \u001b[0;32mdef\u001b[0m \u001b[0m__setattr__\u001b[0m\u001b[0;34m(\u001b[0m\u001b[0mself\u001b[0m\u001b[0;34m,\u001b[0m \u001b[0mattr_name\u001b[0m\u001b[0;34m,\u001b[0m \u001b[0mattr_value\u001b[0m\u001b[0;34m)\u001b[0m\u001b[0;34m:\u001b[0m\u001b[0;34m\u001b[0m\u001b[0;34m\u001b[0m\u001b[0m\n\u001b[1;32m      6\u001b[0m         \u001b[0;32mif\u001b[0m \u001b[0mattr_name\u001b[0m \u001b[0;32mnot\u001b[0m \u001b[0;32min\u001b[0m \u001b[0;34m(\u001b[0m\u001b[0;34m'_x'\u001b[0m\u001b[0;34m,\u001b[0m \u001b[0;34m'_y'\u001b[0m\u001b[0;34m,\u001b[0m \u001b[0;34m'_color'\u001b[0m\u001b[0;34m)\u001b[0m\u001b[0;34m:\u001b[0m\u001b[0;34m\u001b[0m\u001b[0;34m\u001b[0m\u001b[0m\n\u001b[0;32m----> 7\u001b[0;31m             \u001b[0;32mraise\u001b[0m \u001b[0mException\u001b[0m\u001b[0;34m(\u001b[0m\u001b[0;34m'you shall not add new attributes here, young padawan!'\u001b[0m\u001b[0;34m)\u001b[0m\u001b[0;34m\u001b[0m\u001b[0;34m\u001b[0m\u001b[0m\n\u001b[0m\u001b[1;32m      8\u001b[0m         \u001b[0;32melse\u001b[0m\u001b[0;34m:\u001b[0m\u001b[0;34m\u001b[0m\u001b[0;34m\u001b[0m\u001b[0m\n\u001b[1;32m      9\u001b[0m             \u001b[0msuper\u001b[0m\u001b[0;34m(\u001b[0m\u001b[0;34m)\u001b[0m\u001b[0;34m.\u001b[0m\u001b[0m__setattr__\u001b[0m\u001b[0;34m(\u001b[0m\u001b[0mattr_name\u001b[0m\u001b[0;34m,\u001b[0m \u001b[0mattr_value\u001b[0m\u001b[0;34m)\u001b[0m\u001b[0;34m\u001b[0m\u001b[0;34m\u001b[0m\u001b[0m\n",
            "\u001b[0;31mException\u001b[0m: you shall not add new attributes here, young padawan!"
          ]
        }
      ]
    },
    {
      "cell_type": "code",
      "metadata": {
        "id": "EQcSMwSZ8XNI",
        "colab": {
          "base_uri": "https://localhost:8080/"
        },
        "outputId": "775382e5-c39a-4d0e-a318-e1bc164b1eba"
      },
      "source": [
        "del vector._color\n",
        "delattr(vector, '_color')\n",
        "print(vector._color)"
      ],
      "execution_count": 178,
      "outputs": [
        {
          "output_type": "stream",
          "name": "stdout",
          "text": [
            "Heh, you can delete nothing\n",
            "Heh, you can delete nothing\n",
            "violet\n"
          ]
        }
      ]
    },
    {
      "cell_type": "markdown",
      "metadata": {
        "id": "5_ps3fjv8XNM"
      },
      "source": [
        "### ```__getattr__ vs. __getattribute__```"
      ]
    },
    {
      "cell_type": "code",
      "metadata": {
        "id": "6qzTtajc8XNM"
      },
      "source": [
        "class GetAttr:\n",
        "    attr1 = 1\n",
        "    def __init__(self):\n",
        "        self.attr2 = 2\n",
        "    def __getattr__(self, attr):   # for non-existing attrs only\n",
        "        print('get: ' + attr)      # Not for attr1: it's inherited from the class\n",
        "        return 3                   # Not for attr2: it exists for the object\n",
        "    \n",
        "\n",
        "class GetAttribute:\n",
        "    attr1 = 1\n",
        "    def __init__(self):\n",
        "        self.attr2 = 2\n",
        "    def __getattribute__(self, attr):  # Is called by all assigning operations\n",
        "        print('get: ' + attr)          # Use superclass in order to not get stuck in an infinite cycle\n",
        "        if attr == 'attr3':\n",
        "            return 3\n",
        "        else:\n",
        "            return super().__getattribute__(attr)"
      ],
      "execution_count": 179,
      "outputs": []
    },
    {
      "cell_type": "code",
      "metadata": {
        "id": "6taoQlTZ8XNM",
        "colab": {
          "base_uri": "https://localhost:8080/"
        },
        "outputId": "1c075a44-61d1-4400-9b45-87600ae08071"
      },
      "source": [
        "X = GetAttr()\n",
        "print(X.attr1)\n",
        "print(X.attr2)\n",
        "print(X.attr3)\n",
        "print('-' * 40)        \n",
        "X = GetAttribute()\n",
        "print(X.attr1)\n",
        "print(X.attr2)\n",
        "print(X.attr3)"
      ],
      "execution_count": 180,
      "outputs": [
        {
          "output_type": "stream",
          "name": "stdout",
          "text": [
            "1\n",
            "2\n",
            "get: attr3\n",
            "3\n",
            "----------------------------------------\n",
            "get: attr1\n",
            "1\n",
            "get: attr2\n",
            "2\n",
            "get: attr3\n",
            "3\n"
          ]
        }
      ]
    },
    {
      "cell_type": "markdown",
      "metadata": {
        "id": "y0AuUwGS8XNM"
      },
      "source": [
        "## Contexts"
      ]
    },
    {
      "cell_type": "code",
      "metadata": {
        "id": "m307XWex8XNM"
      },
      "source": [
        "class VectorWithContextManager(VectorWithAllAttributes):\n",
        "    def __enter__(self):\n",
        "        print('entering context')\n",
        "    def __exit__(self, *args):\n",
        "        print(args)\n",
        "        print(dir(args[2]), args[2].tb_lineno)\n",
        "        print('leaving context')\n",
        "        return False # -- throwing error \n",
        "        # return True  # -- not throwing error"
      ],
      "execution_count": 217,
      "outputs": []
    },
    {
      "cell_type": "code",
      "metadata": {
        "id": "Pc5D3cuf8XNM",
        "colab": {
          "base_uri": "https://localhost:8080/"
        },
        "outputId": "42dd44dd-29bb-46b0-dad6-01bf31b931f4"
      },
      "source": [
        "try:\n",
        "    with VectorWithContextManager() as vec:\n",
        "        for i in range(3):\n",
        "            print(i)\n",
        "        raise Exception('something happened inside!')\n",
        "except Exception:\n",
        "    print('an exception was raised...')\n",
        "    pass\n",
        "print('we are out of the context')"
      ],
      "execution_count": 182,
      "outputs": [
        {
          "output_type": "stream",
          "name": "stdout",
          "text": [
            "initializing a vector\n",
            "entering context\n",
            "0\n",
            "1\n",
            "2\n",
            "(<class 'Exception'>, Exception('something happened inside!'), <traceback object at 0x7effa68030f0>)\n",
            "['tb_frame', 'tb_lasti', 'tb_lineno', 'tb_next'] 5\n",
            "leaving context\n",
            "we are out of the context\n"
          ]
        }
      ]
    },
    {
      "cell_type": "markdown",
      "metadata": {
        "id": "xXxQLcBI8XNM"
      },
      "source": [
        "But we can do better!"
      ]
    },
    {
      "cell_type": "code",
      "metadata": {
        "id": "4ZO9e8Rx8XNM",
        "colab": {
          "base_uri": "https://localhost:8080/"
        },
        "outputId": "2095304b-1cd2-4956-b41b-07bb0d233bc0"
      },
      "source": [
        "from contextlib import contextmanager\n",
        "\n",
        "@contextmanager\n",
        "def vector_mgr():\n",
        "    print('handling entering the context')\n",
        "    yield Vector()\n",
        "    print('handling leaving the context')\n",
        "          \n",
        "print('statement before context')\n",
        "with vector_mgr() as vector:\n",
        "    for i in range(3):\n",
        "        print(vector)\n",
        "print('statement after context')"
      ],
      "execution_count": 183,
      "outputs": [
        {
          "output_type": "stream",
          "name": "stdout",
          "text": [
            "statement before context\n",
            "handling entering the context\n",
            "initializing a vector\n",
            "<__main__.Vector object at 0x7effa68d9a50>\n",
            "<__main__.Vector object at 0x7effa68d9a50>\n",
            "<__main__.Vector object at 0x7effa68d9a50>\n",
            "handling leaving the context\n",
            "statement after context\n"
          ]
        }
      ]
    },
    {
      "cell_type": "code",
      "metadata": {
        "id": "LEQbpRWG8XNN",
        "colab": {
          "base_uri": "https://localhost:8080/"
        },
        "outputId": "2754e4d2-86b0-42d5-a994-244768373a5d"
      },
      "source": [
        "# And now with error handling:\n",
        "\n",
        "@contextmanager\n",
        "def vector_mgr():\n",
        "    try:\n",
        "        print('handling entering the context')\n",
        "        yield Vector()\n",
        "    except ZeroDivisionError as e:\n",
        "        pass\n",
        "    finally:\n",
        "        print('handling leaving the context')\n",
        "          \n",
        "print('statement before context')\n",
        "with vector_mgr() as vector:\n",
        "    for i in range(3):\n",
        "        print(vector)\n",
        "        infin = 1 / 0\n",
        "print('statement after context')"
      ],
      "execution_count": 184,
      "outputs": [
        {
          "output_type": "stream",
          "name": "stdout",
          "text": [
            "statement before context\n",
            "handling entering the context\n",
            "initializing a vector\n",
            "<__main__.Vector object at 0x7effa67fbc10>\n",
            "handling leaving the context\n",
            "statement after context\n"
          ]
        }
      ]
    },
    {
      "cell_type": "markdown",
      "metadata": {
        "id": "QLzFkZ7O8XNN"
      },
      "source": [
        "## Creating and deleting objects"
      ]
    },
    {
      "cell_type": "code",
      "metadata": {
        "id": "KDl4_0_18XNN"
      },
      "source": [
        "class VectorInitialized(VectorWithContextManager):\n",
        "    def __new__(cls, *args, **kwargs):\n",
        "        print('invoking __new__ method')\n",
        "        print(cls, args, kwargs)\n",
        "        print(object)\n",
        "        return object.__new__(cls)\n",
        "    \n",
        "    def __del__(self):\n",
        "        print('deleting an object')\n",
        "        raise Exception(\"exception while destructing\")"
      ],
      "execution_count": 218,
      "outputs": []
    },
    {
      "cell_type": "code",
      "metadata": {
        "id": "Jaw0h3oE8XNN",
        "colab": {
          "base_uri": "https://localhost:8080/"
        },
        "outputId": "dfd3521a-44ee-4912-9cd8-19fffec38abe"
      },
      "source": [
        "vector = VectorInitialized(1, 2, color='navy blue')\n",
        "print(vector)"
      ],
      "execution_count": 224,
      "outputs": [
        {
          "output_type": "stream",
          "name": "stdout",
          "text": [
            "invoking __new__ method\n",
            "<class '__main__.VectorInitialized'> (1, 2) {'color': 'navy blue'}\n",
            "<class 'object'>\n",
            "initializing a vector\n",
            "vector (1, 2) of color navy blue\n"
          ]
        }
      ]
    },
    {
      "cell_type": "code",
      "metadata": {
        "id": "vYb5tE0E8XNN",
        "colab": {
          "base_uri": "https://localhost:8080/"
        },
        "outputId": "37b0b391-4eb2-47c7-9b8c-3337a8ced0ca"
      },
      "source": [
        "del vector"
      ],
      "execution_count": 225,
      "outputs": [
        {
          "output_type": "stream",
          "name": "stderr",
          "text": [
            "Exception ignored in: <function VectorInitialized.__del__ at 0x7effa67fe560>\n",
            "Traceback (most recent call last):\n",
            "  File \"<ipython-input-218-0767888d90a6>\", line 10, in __del__\n",
            "Exception: exception while destructing\n"
          ]
        },
        {
          "output_type": "stream",
          "name": "stdout",
          "text": [
            "deleting an object\n"
          ]
        }
      ]
    },
    {
      "cell_type": "markdown",
      "metadata": {
        "id": "q4AmsBs68XNN"
      },
      "source": [
        "### Task! \n",
        "\n",
        "How to use the `__new__` method in order to create a singleton class? i.e. the class allowing to create the only object and returning the same object when you try to create another one."
      ]
    },
    {
      "cell_type": "code",
      "metadata": {
        "id": "DO3js-TB8XNN"
      },
      "source": [
        "class SingletonClass:\n",
        "    \n",
        "    #...your code here...\n",
        "    \n",
        "    def __new__(cls, *args, **kwargs):\n",
        "        #...your code here...\n",
        "        \n",
        "\n",
        "obj1 = SingletonClass()\n",
        "obj2 = SingletonClass()\n",
        "assert id(obj1) == id(obj2)"
      ],
      "execution_count": 165,
      "outputs": []
    },
    {
      "cell_type": "markdown",
      "metadata": {
        "id": "kWLCrE_x8XNN"
      },
      "source": [
        "### Function annotations - https://www.python.org/dev/peps/pep-3107/"
      ]
    },
    {
      "cell_type": "code",
      "metadata": {
        "id": "Rswk6tSs8XNN",
        "colab": {
          "base_uri": "https://localhost:8080/",
          "height": 122
        },
        "outputId": "bbdb6ae5-13d3-4c57-bf01-e119258cfba3"
      },
      "source": [
        "def Sum(x: 10, y: 'term 2', z: int = 0) -> max(2, 9):\n",
        "    \"returns x + y + z\"\n",
        "    return x + y + z\n",
        "help(Sum)\n",
        "\n",
        "Sum('for ','reading ','only')"
      ],
      "execution_count": 89,
      "outputs": [
        {
          "output_type": "stream",
          "name": "stdout",
          "text": [
            "Help on function Sum in module __main__:\n",
            "\n",
            "Sum(x: 10, y: 'term 2', z: int = 0) -> 9\n",
            "    returns x + y + z\n",
            "\n"
          ]
        },
        {
          "output_type": "execute_result",
          "data": {
            "application/vnd.google.colaboratory.intrinsic+json": {
              "type": "string"
            },
            "text/plain": [
              "'for reading only'"
            ]
          },
          "metadata": {},
          "execution_count": 89
        }
      ]
    },
    {
      "cell_type": "markdown",
      "metadata": {
        "id": "3uEoyLE98XNO"
      },
      "source": [
        "## Once again on modules - https://docs.python.org/3/tutorial/modules.html"
      ]
    },
    {
      "cell_type": "code",
      "metadata": {
        "id": "F7j9UDgv8XNO"
      },
      "source": [
        ""
      ],
      "execution_count": null,
      "outputs": []
    }
  ]
}