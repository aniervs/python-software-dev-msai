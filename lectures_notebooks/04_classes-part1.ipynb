{
  "nbformat": 4,
  "nbformat_minor": 0,
  "metadata": {
    "celltoolbar": "Slideshow",
    "kernelspec": {
      "display_name": "Python 3",
      "language": "python",
      "name": "python3"
    },
    "language_info": {
      "codemirror_mode": {
        "name": "ipython",
        "version": 3
      },
      "file_extension": ".py",
      "mimetype": "text/x-python",
      "name": "python",
      "nbconvert_exporter": "python",
      "pygments_lexer": "ipython3",
      "version": "3.8.5"
    },
    "colab": {
      "name": "classes_1",
      "provenance": []
    }
  },
  "cells": [
    {
      "cell_type": "markdown",
      "metadata": {
        "id": "qbv3Qb8n8bd8"
      },
      "source": [
        "# Classes"
      ]
    },
    {
      "cell_type": "markdown",
      "metadata": {
        "id": "CDiQEZS68bd_"
      },
      "source": [
        "## Attributes and methods"
      ]
    },
    {
      "cell_type": "code",
      "metadata": {
        "id": "WSuU8s_78bd_"
      },
      "source": [
        "class MyLittleClass:\n",
        "    color = \"blue\"\n",
        "    \n",
        "    def set_color(self, color_):\n",
        "        color = color_\n",
        "        print('set color to {}'.format(color))\n"
      ],
      "execution_count": null,
      "outputs": []
    },
    {
      "cell_type": "code",
      "metadata": {
        "colab": {
          "base_uri": "https://localhost:8080/"
        },
        "id": "dFcy62hN8beB",
        "outputId": "9c443447-9817-43e8-984a-5ff2c3398faf"
      },
      "source": [
        "obj = MyLittleClass()\n",
        "print(obj.color)\n",
        "\n",
        "obj.set_color('red')\n",
        "print(obj.color)"
      ],
      "execution_count": null,
      "outputs": [
        {
          "output_type": "stream",
          "name": "stdout",
          "text": [
            "blue\n",
            "set color to red\n",
            "blue\n"
          ]
        }
      ]
    },
    {
      "cell_type": "markdown",
      "metadata": {
        "id": "aSbn9ezK8beC"
      },
      "source": [
        "__Whaaaaaa?!!!\n",
        "\n",
        "Because for object attributes you should use `self.attribute_name`, and `color` in `set_color` method is just a local variable :)"
      ]
    },
    {
      "cell_type": "code",
      "metadata": {
        "id": "v8LvCzMy8beC"
      },
      "source": [
        "class MyLittleClass2:\n",
        "    color = \"blue\" # attribute of the class\n",
        "    \n",
        "    def set_color(self, color_):\n",
        "        self.color = color_  # attribute of objects :)\n",
        "        MyLittleClass2.color = 'blue' # how to change attribute of the class\n",
        "        print('set color to {}'.format(self.color))"
      ],
      "execution_count": null,
      "outputs": []
    },
    {
      "cell_type": "code",
      "metadata": {
        "colab": {
          "base_uri": "https://localhost:8080/"
        },
        "id": "zjD8BQ298beC",
        "outputId": "7ddd636e-141f-4db0-8914-51e42c6e256a"
      },
      "source": [
        "obj = MyLittleClass2()\n",
        "print(obj.color)\n",
        "\n",
        "obj.set_color('red')\n",
        "print(obj.color)"
      ],
      "execution_count": null,
      "outputs": [
        {
          "output_type": "stream",
          "name": "stdout",
          "text": [
            "blue\n",
            "set color to red\n",
            "red\n"
          ]
        }
      ]
    },
    {
      "cell_type": "code",
      "metadata": {
        "colab": {
          "base_uri": "https://localhost:8080/"
        },
        "id": "Lm83Xz4L8beD",
        "outputId": "bb6dfd7f-6b64-4964-c976-f48c51648a8b"
      },
      "source": [
        "# in fact, this is also possible, but good programmers write the so-called getter and setter methods\n",
        "obj.color = 'green'\n",
        "print(obj.color)"
      ],
      "execution_count": null,
      "outputs": [
        {
          "output_type": "stream",
          "name": "stdout",
          "text": [
            "green\n"
          ]
        }
      ]
    },
    {
      "cell_type": "markdown",
      "metadata": {
        "id": "VWyZQKcB8beE"
      },
      "source": [
        "__Q:__ Dynamically define attributes that were not in the class definition at all?\n",
        "\n",
        "__A:__ Easy!"
      ]
    },
    {
      "cell_type": "code",
      "metadata": {
        "colab": {
          "base_uri": "https://localhost:8080/"
        },
        "id": "l5EF-NR88beE",
        "outputId": "64e7a9a8-f6e0-4500-d1b0-339bd1ee7a1f"
      },
      "source": [
        "obj.some_attribute = 42\n",
        "print(obj.some_attribute)"
      ],
      "execution_count": null,
      "outputs": [
        {
          "output_type": "stream",
          "name": "stdout",
          "text": [
            "42\n"
          ]
        }
      ]
    },
    {
      "cell_type": "markdown",
      "metadata": {
        "id": "J3-hmk3v8beF"
      },
      "source": [
        "__Q:__ And what does self mean in the definition of a method?\n",
        "\n",
        "__A:__ When we call the method as obj.methodname(), the first argument is a reference to obj (as self)"
      ]
    },
    {
      "cell_type": "code",
      "metadata": {
        "id": "_o7K3m4G8beF"
      },
      "source": [
        "class MyLittleClass3:\n",
        "    \n",
        "    def method_with_self(self, arg):\n",
        "        print(arg)\n",
        "    \n",
        "    def method_without_self(arg):\n",
        "        print(arg)\n",
        "        "
      ],
      "execution_count": null,
      "outputs": []
    },
    {
      "cell_type": "code",
      "metadata": {
        "id": "A8PZ89bE8beF"
      },
      "source": [
        "obj = MyLittleClass3()\n",
        "obj.method_with_self('i am an argument')\n",
        "obj.method_without_self('i am another argument') # here we are actually passing two arguments, self and arg"
      ],
      "execution_count": null,
      "outputs": []
    },
    {
      "cell_type": "markdown",
      "metadata": {
        "id": "KgSCrOgl8beF"
      },
      "source": [
        "__Q:__ But how to call them then?!\n",
        "\n",
        "__A:__ They are not bound to an instance (because they do not have access to its local data), but are bound to a class"
      ]
    },
    {
      "cell_type": "code",
      "metadata": {
        "colab": {
          "base_uri": "https://localhost:8080/"
        },
        "id": "Iel7u0IL8beG",
        "outputId": "92c0ef73-2669-496e-a6e6-e41cee8c7182"
      },
      "source": [
        "MyLittleClass3.method_without_self('i am another argument') # and here we pass only one argument"
      ],
      "execution_count": null,
      "outputs": [
        {
          "output_type": "stream",
          "name": "stdout",
          "text": [
            "i am another argument\n"
          ]
        }
      ]
    },
    {
      "cell_type": "markdown",
      "metadata": {
        "id": "gyQ9lujg8beG"
      },
      "source": [
        "__Q:__ Is it possible to detach a method from a class?\n",
        "\n",
        "__A:__ Well, let's try"
      ]
    },
    {
      "cell_type": "code",
      "metadata": {
        "colab": {
          "base_uri": "https://localhost:8080/"
        },
        "id": "s_dRrS8C8beG",
        "outputId": "f4e73e78-790d-4ad4-f277-5ac10819f6eb"
      },
      "source": [
        "func = MyLittleClass3.method_without_self\n",
        "func(\"hello\")"
      ],
      "execution_count": null,
      "outputs": [
        {
          "output_type": "stream",
          "name": "stdout",
          "text": [
            "hello\n"
          ]
        }
      ]
    },
    {
      "cell_type": "code",
      "metadata": {
        "colab": {
          "base_uri": "https://localhost:8080/",
          "height": 250
        },
        "id": "abQHTIbK8beG",
        "outputId": "bd1b8ce0-2529-4039-fd57-fad15b086e9e"
      },
      "source": [
        "func2 = MyLittleClass3.method_with_self\n",
        "func2(\"hello\") # passing one argument"
      ],
      "execution_count": null,
      "outputs": [
        {
          "output_type": "error",
          "ename": "TypeError",
          "evalue": "ignored",
          "traceback": [
            "\u001b[0;31m---------------------------------------------------------------------------\u001b[0m",
            "\u001b[0;31mTypeError\u001b[0m                                 Traceback (most recent call last)",
            "\u001b[0;32m<ipython-input-11-41c1d0dd55c8>\u001b[0m in \u001b[0;36m<module>\u001b[0;34m()\u001b[0m\n\u001b[1;32m      1\u001b[0m \u001b[0mfunc2\u001b[0m \u001b[0;34m=\u001b[0m \u001b[0mMyLittleClass3\u001b[0m\u001b[0;34m.\u001b[0m\u001b[0mmethod_with_self\u001b[0m\u001b[0;34m\u001b[0m\u001b[0;34m\u001b[0m\u001b[0m\n\u001b[0;32m----> 2\u001b[0;31m \u001b[0mfunc2\u001b[0m\u001b[0;34m(\u001b[0m\u001b[0;34m\"hello\"\u001b[0m\u001b[0;34m)\u001b[0m \u001b[0;31m# passing one argument\u001b[0m\u001b[0;34m\u001b[0m\u001b[0;34m\u001b[0m\u001b[0m\n\u001b[0m",
            "\u001b[0;31mTypeError\u001b[0m: method_with_self() missing 1 required positional argument: 'arg'"
          ]
        }
      ]
    },
    {
      "cell_type": "code",
      "metadata": {
        "colab": {
          "base_uri": "https://localhost:8080/"
        },
        "id": "sv_aKE3K8beH",
        "outputId": "60243a96-fa17-4759-f8d4-f63f35ebd9df"
      },
      "source": [
        "obj = MyLittleClass3()\n",
        "func2(obj, \"hello\") # oh, we still need an object for self!"
      ],
      "execution_count": null,
      "outputs": [
        {
          "output_type": "stream",
          "name": "stdout",
          "text": [
            "hello\n"
          ]
        }
      ]
    },
    {
      "cell_type": "markdown",
      "metadata": {
        "id": "ZSV33kgu8beH"
      },
      "source": [
        "__Q:__ And vice versa?\n",
        "\n",
        "__A:__ Yes, it's a python. Sure!"
      ]
    },
    {
      "cell_type": "code",
      "metadata": {
        "colab": {
          "base_uri": "https://localhost:8080/",
          "height": 196
        },
        "id": "09krq5na8beH",
        "outputId": "dab02972-f65c-42d2-cead-970399d47a2e"
      },
      "source": [
        "obj.get_color()"
      ],
      "execution_count": null,
      "outputs": [
        {
          "output_type": "error",
          "ename": "AttributeError",
          "evalue": "ignored",
          "traceback": [
            "\u001b[0;31m---------------------------------------------------------------------------\u001b[0m",
            "\u001b[0;31mAttributeError\u001b[0m                            Traceback (most recent call last)",
            "\u001b[0;32m<ipython-input-13-78f1df7c55df>\u001b[0m in \u001b[0;36m<module>\u001b[0;34m()\u001b[0m\n\u001b[0;32m----> 1\u001b[0;31m \u001b[0mobj\u001b[0m\u001b[0;34m.\u001b[0m\u001b[0mget_color\u001b[0m\u001b[0;34m(\u001b[0m\u001b[0;34m)\u001b[0m\u001b[0;34m\u001b[0m\u001b[0;34m\u001b[0m\u001b[0m\n\u001b[0m",
            "\u001b[0;31mAttributeError\u001b[0m: 'MyLittleClass3' object has no attribute 'get_color'"
          ]
        }
      ]
    },
    {
      "cell_type": "code",
      "metadata": {
        "colab": {
          "base_uri": "https://localhost:8080/",
          "height": 347
        },
        "id": "8x9Jkct_8beH",
        "outputId": "d6feaca9-1e9e-451f-e7e0-238b964ddfa8"
      },
      "source": [
        "def get_color_function(self):\n",
        "    return self.color\n",
        "\n",
        "MyLittleClass3.get_color = get_color_function\n",
        "obj = MyLittleClass3()\n",
        "obj.get_color()"
      ],
      "execution_count": null,
      "outputs": [
        {
          "output_type": "error",
          "ename": "AttributeError",
          "evalue": "ignored",
          "traceback": [
            "\u001b[0;31m---------------------------------------------------------------------------\u001b[0m",
            "\u001b[0;31mAttributeError\u001b[0m                            Traceback (most recent call last)",
            "\u001b[0;32m<ipython-input-14-b7cf1c2d2966>\u001b[0m in \u001b[0;36m<module>\u001b[0;34m()\u001b[0m\n\u001b[1;32m      4\u001b[0m \u001b[0mMyLittleClass3\u001b[0m\u001b[0;34m.\u001b[0m\u001b[0mget_color\u001b[0m \u001b[0;34m=\u001b[0m \u001b[0mget_color_function\u001b[0m\u001b[0;34m\u001b[0m\u001b[0;34m\u001b[0m\u001b[0m\n\u001b[1;32m      5\u001b[0m \u001b[0mobj\u001b[0m \u001b[0;34m=\u001b[0m \u001b[0mMyLittleClass3\u001b[0m\u001b[0;34m(\u001b[0m\u001b[0;34m)\u001b[0m\u001b[0;34m\u001b[0m\u001b[0;34m\u001b[0m\u001b[0m\n\u001b[0;32m----> 6\u001b[0;31m \u001b[0mobj\u001b[0m\u001b[0;34m.\u001b[0m\u001b[0mget_color\u001b[0m\u001b[0;34m(\u001b[0m\u001b[0;34m)\u001b[0m\u001b[0;34m\u001b[0m\u001b[0;34m\u001b[0m\u001b[0m\n\u001b[0m",
            "\u001b[0;32m<ipython-input-14-b7cf1c2d2966>\u001b[0m in \u001b[0;36mget_color_function\u001b[0;34m(self)\u001b[0m\n\u001b[1;32m      1\u001b[0m \u001b[0;32mdef\u001b[0m \u001b[0mget_color_function\u001b[0m\u001b[0;34m(\u001b[0m\u001b[0mself\u001b[0m\u001b[0;34m)\u001b[0m\u001b[0;34m:\u001b[0m\u001b[0;34m\u001b[0m\u001b[0;34m\u001b[0m\u001b[0m\n\u001b[0;32m----> 2\u001b[0;31m     \u001b[0;32mreturn\u001b[0m \u001b[0mself\u001b[0m\u001b[0;34m.\u001b[0m\u001b[0mcolor\u001b[0m\u001b[0;34m\u001b[0m\u001b[0;34m\u001b[0m\u001b[0m\n\u001b[0m\u001b[1;32m      3\u001b[0m \u001b[0;34m\u001b[0m\u001b[0m\n\u001b[1;32m      4\u001b[0m \u001b[0mMyLittleClass3\u001b[0m\u001b[0;34m.\u001b[0m\u001b[0mget_color\u001b[0m \u001b[0;34m=\u001b[0m \u001b[0mget_color_function\u001b[0m\u001b[0;34m\u001b[0m\u001b[0;34m\u001b[0m\u001b[0m\n\u001b[1;32m      5\u001b[0m \u001b[0mobj\u001b[0m \u001b[0;34m=\u001b[0m \u001b[0mMyLittleClass3\u001b[0m\u001b[0;34m(\u001b[0m\u001b[0;34m)\u001b[0m\u001b[0;34m\u001b[0m\u001b[0;34m\u001b[0m\u001b[0m\n",
            "\u001b[0;31mAttributeError\u001b[0m: 'MyLittleClass3' object has no attribute 'color'"
          ]
        }
      ]
    },
    {
      "cell_type": "markdown",
      "metadata": {
        "id": "HPK5CwhA8beH"
      },
      "source": [
        "Oh yes, we have no color. But it doesn’t matter, it's python!"
      ]
    },
    {
      "cell_type": "code",
      "metadata": {
        "colab": {
          "base_uri": "https://localhost:8080/",
          "height": 35
        },
        "id": "7Bh6jL6L8beI",
        "outputId": "223028fe-787c-471a-aa57-7ec0b0c58f6c"
      },
      "source": [
        "obj.color = 'pink'\n",
        "obj.get_color()"
      ],
      "execution_count": null,
      "outputs": [
        {
          "output_type": "execute_result",
          "data": {
            "application/vnd.google.colaboratory.intrinsic+json": {
              "type": "string"
            },
            "text/plain": [
              "'pink'"
            ]
          },
          "metadata": {},
          "execution_count": 15
        }
      ]
    },
    {
      "cell_type": "markdown",
      "metadata": {
        "id": "ShcW04Bb8beI"
      },
      "source": [
        "__Q:__ But how to know what is already defined and what is not?\n",
        "\n",
        "__A:__ Easy!"
      ]
    },
    {
      "cell_type": "code",
      "metadata": {
        "colab": {
          "base_uri": "https://localhost:8080/"
        },
        "id": "lhrXt5W58beI",
        "outputId": "21752813-bd0c-4ec7-82c5-09b855401aae"
      },
      "source": [
        "print(dir(obj))"
      ],
      "execution_count": null,
      "outputs": [
        {
          "output_type": "stream",
          "name": "stdout",
          "text": [
            "['__class__', '__delattr__', '__dict__', '__dir__', '__doc__', '__eq__', '__format__', '__ge__', '__getattribute__', '__gt__', '__hash__', '__init__', '__init_subclass__', '__le__', '__lt__', '__module__', '__ne__', '__new__', '__reduce__', '__reduce_ex__', '__repr__', '__setattr__', '__sizeof__', '__str__', '__subclasshook__', '__weakref__', 'color', 'get_color', 'method_with_self', 'method_without_self']\n"
          ]
        }
      ]
    },
    {
      "cell_type": "code",
      "metadata": {
        "colab": {
          "base_uri": "https://localhost:8080/"
        },
        "id": "gVn1qT7_8beI",
        "outputId": "04746616-37d7-4c30-dee0-9012429e9d09"
      },
      "source": [
        "# and now only methods\n",
        "print([name for name in dir(obj) if callable(getattr(obj, name))])"
      ],
      "execution_count": null,
      "outputs": [
        {
          "output_type": "stream",
          "name": "stdout",
          "text": [
            "['__class__', '__delattr__', '__dir__', '__eq__', '__format__', '__ge__', '__getattribute__', '__gt__', '__hash__', '__init__', '__init_subclass__', '__le__', '__lt__', '__ne__', '__new__', '__reduce__', '__reduce_ex__', '__repr__', '__setattr__', '__sizeof__', '__str__', '__subclasshook__', 'get_color', 'method_with_self', 'method_without_self']\n"
          ]
        }
      ]
    },
    {
      "cell_type": "code",
      "metadata": {
        "colab": {
          "base_uri": "https://localhost:8080/"
        },
        "id": "IVBPlpg-8beI",
        "outputId": "8bac0dc4-de77-469b-80af-1a53462e4fb8"
      },
      "source": [
        "class ClassWithNothing:\n",
        "    pass\n",
        "\n",
        "nobject = ClassWithNothing()\n",
        "\n",
        "def print_custom_attrs(obj=None):\n",
        "    if obj is None:\n",
        "        # in local scope!\n",
        "        attrs = dir()\n",
        "    else:\n",
        "        attrs = dir(obj)\n",
        "    print([name for name in attrs if not name.startswith('__')])\n",
        "\n",
        "\n",
        "print(nobject is None)\n",
        "print_custom_attrs(nobject)\n",
        "print(ClassWithNothing is None)\n",
        "print_custom_attrs(ClassWithNothing)\n",
        "print_custom_attrs()\n",
        "print(dir())"
      ],
      "execution_count": null,
      "outputs": [
        {
          "output_type": "stream",
          "name": "stdout",
          "text": [
            "False\n",
            "[]\n",
            "False\n",
            "[]\n",
            "['obj']\n",
            "['ClassWithNothing', 'In', 'MyLittleClass', 'MyLittleClass2', 'MyLittleClass3', 'Out', '_', '_15', '__', '___', '__builtin__', '__builtins__', '__doc__', '__loader__', '__name__', '__package__', '__spec__', '_dh', '_i', '_i1', '_i10', '_i11', '_i12', '_i13', '_i14', '_i15', '_i16', '_i17', '_i18', '_i19', '_i2', '_i20', '_i21', '_i22', '_i3', '_i4', '_i5', '_i6', '_i7', '_i8', '_i9', '_ih', '_ii', '_iii', '_oh', '_sh', 'exit', 'func', 'func2', 'get_color_function', 'get_ipython', 'nobject', 'obj', 'print_custom_attrs', 'quit']\n"
          ]
        }
      ]
    },
    {
      "cell_type": "code",
      "metadata": {
        "colab": {
          "base_uri": "https://localhost:8080/"
        },
        "id": "AijM6kGzPo1C",
        "outputId": "fdae20f7-cb09-4ea0-feca-8b1cd173c3da"
      },
      "source": [
        "print(dir())"
      ],
      "execution_count": null,
      "outputs": [
        {
          "output_type": "stream",
          "name": "stdout",
          "text": [
            "['ClassWithNothing', 'In', 'MyLittleClass', 'MyLittleClass2', 'MyLittleClass3', 'Out', '_', '_15', '__', '___', '__builtin__', '__builtins__', '__doc__', '__loader__', '__name__', '__package__', '__spec__', '_dh', '_i', '_i1', '_i10', '_i11', '_i12', '_i13', '_i14', '_i15', '_i16', '_i17', '_i18', '_i19', '_i2', '_i20', '_i21', '_i22', '_i23', '_i3', '_i4', '_i5', '_i6', '_i7', '_i8', '_i9', '_ih', '_ii', '_iii', '_oh', '_sh', 'exit', 'func', 'func2', 'get_color_function', 'get_ipython', 'nobject', 'obj', 'print_custom_attrs', 'quit']\n"
          ]
        }
      ]
    },
    {
      "cell_type": "code",
      "metadata": {
        "id": "_MxtqCZf8beI"
      },
      "source": [
        "help(dir)\n"
      ],
      "execution_count": null,
      "outputs": []
    },
    {
      "cell_type": "code",
      "metadata": {
        "colab": {
          "base_uri": "https://localhost:8080/"
        },
        "id": "KawUVFzo8beI",
        "outputId": "a7e4b599-0662-4e9c-df7a-e80634a67074"
      },
      "source": [
        "ClassWithNothing.my_attribute = 'my value'\n",
        "nobject.my_instance_attribute = \"my value 2\"\n",
        "\n",
        "print_custom_attrs(nobject)\n",
        "print_custom_attrs(ClassWithNothing)\n"
      ],
      "execution_count": null,
      "outputs": [
        {
          "output_type": "stream",
          "name": "stdout",
          "text": [
            "['my_attribute', 'my_instance_attribute']\n",
            "['my_attribute']\n"
          ]
        }
      ]
    },
    {
      "cell_type": "markdown",
      "metadata": {
        "id": "Vvhokk4X8beI"
      },
      "source": [
        "## Inheritance"
      ]
    },
    {
      "cell_type": "code",
      "metadata": {
        "colab": {
          "base_uri": "https://localhost:8080/",
          "height": 196
        },
        "id": "zPCb-wsbRkfn",
        "outputId": "b2957a45-38a3-492b-fe14-d78181672423"
      },
      "source": [
        "raise NotImplementedError('some info')"
      ],
      "execution_count": null,
      "outputs": [
        {
          "output_type": "error",
          "ename": "NotImplementedError",
          "evalue": "ignored",
          "traceback": [
            "\u001b[0;31m---------------------------------------------------------------------------\u001b[0m",
            "\u001b[0;31mNotImplementedError\u001b[0m                       Traceback (most recent call last)",
            "\u001b[0;32m<ipython-input-27-c848b3257976>\u001b[0m in \u001b[0;36m<module>\u001b[0;34m()\u001b[0m\n\u001b[0;32m----> 1\u001b[0;31m \u001b[0;32mraise\u001b[0m \u001b[0mNotImplementedError\u001b[0m\u001b[0;34m(\u001b[0m\u001b[0;34m'some info'\u001b[0m\u001b[0;34m)\u001b[0m\u001b[0;34m\u001b[0m\u001b[0;34m\u001b[0m\u001b[0m\n\u001b[0m",
            "\u001b[0;31mNotImplementedError\u001b[0m: some info"
          ]
        }
      ]
    },
    {
      "cell_type": "code",
      "metadata": {
        "id": "uny1rKTi8beI"
      },
      "source": [
        "class Animal:\n",
        "    some_value = \"animal\"\n",
        "    def __init__(self):\n",
        "        print(\"i am an animal\")\n",
        "    \n",
        "    def speak(self):\n",
        "        raise NotImplementedError('i don\\'t know how to speak')\n",
        "\n",
        "        \n",
        "class Cat(Animal):\n",
        "    some_value = \"cat\"\n",
        "    def __init__(self):\n",
        "        super().__init__()\n",
        "        print(\"i am a cat\")\n",
        "    \n",
        "    def speak(self):\n",
        "        print('meoooow')\n",
        "\n",
        "        \n",
        "class Hedgehog(Animal):\n",
        "    def __init__(self):\n",
        "        super().__init__()\n",
        "        print(\"i am a hedgehog\")\n",
        "\n",
        "        \n",
        "class Dog(Animal):\n",
        "    some_value = \"dog\"\n",
        "    def __init__(self):\n",
        "        super().__init__()\n",
        "        print(\"i am a dog\")\n",
        "\n",
        "        \n",
        "class CatDog(Cat, Dog):  # rhomb-shaped inheritance is possible, but don't do this, please!\n",
        "    def __init__(self):\n",
        "        super().__init__()\n",
        "        print(\"i am a CatDog!\")"
      ],
      "execution_count": null,
      "outputs": []
    },
    {
      "cell_type": "code",
      "metadata": {
        "colab": {
          "base_uri": "https://localhost:8080/",
          "height": 52
        },
        "id": "Q8ogIvQ08beJ",
        "outputId": "b882eb35-bfb8-4a77-9a9d-a2e7b57303d0"
      },
      "source": [
        "animal = Animal()\n",
        "animal.some_value"
      ],
      "execution_count": null,
      "outputs": [
        {
          "output_type": "stream",
          "name": "stdout",
          "text": [
            "i am an animal\n"
          ]
        },
        {
          "output_type": "execute_result",
          "data": {
            "application/vnd.google.colaboratory.intrinsic+json": {
              "type": "string"
            },
            "text/plain": [
              "'animal'"
            ]
          },
          "metadata": {},
          "execution_count": 29
        }
      ]
    },
    {
      "cell_type": "code",
      "metadata": {
        "colab": {
          "base_uri": "https://localhost:8080/",
          "height": 69
        },
        "id": "2eMBAgOo8beJ",
        "outputId": "e25a84de-c131-4677-e317-d30caaad0304"
      },
      "source": [
        "cat = Cat()\n",
        "cat.some_value # redefined"
      ],
      "execution_count": null,
      "outputs": [
        {
          "output_type": "stream",
          "name": "stdout",
          "text": [
            "i am an animal\n",
            "i am a cat\n"
          ]
        },
        {
          "output_type": "execute_result",
          "data": {
            "application/vnd.google.colaboratory.intrinsic+json": {
              "type": "string"
            },
            "text/plain": [
              "'cat'"
            ]
          },
          "metadata": {},
          "execution_count": 30
        }
      ]
    },
    {
      "cell_type": "code",
      "metadata": {
        "colab": {
          "base_uri": "https://localhost:8080/",
          "height": 69
        },
        "id": "mJDUOPwg8beJ",
        "outputId": "007c66ff-33d9-4552-e811-5e2141464c0c"
      },
      "source": [
        "hedgehog = Hedgehog()\n",
        "hedgehog.some_value # not redefined"
      ],
      "execution_count": null,
      "outputs": [
        {
          "output_type": "stream",
          "name": "stdout",
          "text": [
            "i am an animal\n",
            "i am a hedgehog\n"
          ]
        },
        {
          "output_type": "execute_result",
          "data": {
            "application/vnd.google.colaboratory.intrinsic+json": {
              "type": "string"
            },
            "text/plain": [
              "'animal'"
            ]
          },
          "metadata": {},
          "execution_count": 32
        }
      ]
    },
    {
      "cell_type": "code",
      "metadata": {
        "colab": {
          "base_uri": "https://localhost:8080/",
          "height": 69
        },
        "id": "nSp1Md-Q8beJ",
        "outputId": "fb8ced75-48ce-4a5a-bcd8-c011d76b264a"
      },
      "source": [
        "dog = Dog()\n",
        "dog.some_value # redefined"
      ],
      "execution_count": null,
      "outputs": [
        {
          "output_type": "stream",
          "name": "stdout",
          "text": [
            "i am an animal\n",
            "i am a dog\n"
          ]
        },
        {
          "output_type": "execute_result",
          "data": {
            "application/vnd.google.colaboratory.intrinsic+json": {
              "type": "string"
            },
            "text/plain": [
              "'dog'"
            ]
          },
          "metadata": {},
          "execution_count": 33
        }
      ]
    },
    {
      "cell_type": "code",
      "metadata": {
        "colab": {
          "base_uri": "https://localhost:8080/",
          "height": 102
        },
        "id": "ARjkdXCq8beJ",
        "outputId": "a29b1b7b-3290-43b3-f809-f68b076d87d7"
      },
      "source": [
        "catdog = CatDog()\n",
        "catdog.some_value"
      ],
      "execution_count": null,
      "outputs": [
        {
          "output_type": "stream",
          "name": "stdout",
          "text": [
            "i am an animal\n",
            "i am a dog\n",
            "i am a cat\n",
            "i am a CatDog!\n"
          ]
        },
        {
          "output_type": "execute_result",
          "data": {
            "application/vnd.google.colaboratory.intrinsic+json": {
              "type": "string"
            },
            "text/plain": [
              "'cat'"
            ]
          },
          "metadata": {},
          "execution_count": 34
        }
      ]
    },
    {
      "cell_type": "markdown",
      "metadata": {
        "id": "RGAun_NM8beJ"
      },
      "source": [
        "__Q:__ And how is the order determined?\n",
        "    \n",
        "__A:__ The order of listing parents is important!"
      ]
    },
    {
      "cell_type": "code",
      "metadata": {
        "colab": {
          "base_uri": "https://localhost:8080/",
          "height": 102
        },
        "id": "-N5na-l78beJ",
        "outputId": "e8aac95f-1d4e-49ca-e5b4-d83f5a598f9e"
      },
      "source": [
        "class CatDog(Dog, Cat):  # now Dog is first\n",
        "    def __init__(self):\n",
        "        super().__init__()\n",
        "        print(\"i am a CatDog!\")\n",
        "\n",
        "catdog = CatDog()\n",
        "catdog.some_value"
      ],
      "execution_count": null,
      "outputs": [
        {
          "output_type": "stream",
          "name": "stdout",
          "text": [
            "i am an animal\n",
            "i am a cat\n",
            "i am a dog\n",
            "i am a CatDog!\n"
          ]
        },
        {
          "output_type": "execute_result",
          "data": {
            "application/vnd.google.colaboratory.intrinsic+json": {
              "type": "string"
            },
            "text/plain": [
              "'dog'"
            ]
          },
          "metadata": {},
          "execution_count": 35
        }
      ]
    },
    {
      "cell_type": "markdown",
      "metadata": {
        "id": "9qhFk4Vn8beJ"
      },
      "source": [
        "__Q:__ And what about the methods?\n",
        "    \n",
        "__A:__ All the same, as with the attributes!"
      ]
    },
    {
      "cell_type": "code",
      "metadata": {
        "colab": {
          "base_uri": "https://localhost:8080/",
          "height": 347
        },
        "id": "WmjeXJ-q8beJ",
        "outputId": "2410a30c-18a2-4c2b-bc80-3afc2d2e5c6d"
      },
      "source": [
        "cat.speak() # redefined\n",
        "dog.speak() # not redefined"
      ],
      "execution_count": null,
      "outputs": [
        {
          "output_type": "stream",
          "name": "stdout",
          "text": [
            "meoooow\n"
          ]
        },
        {
          "output_type": "error",
          "ename": "NotImplementedError",
          "evalue": "ignored",
          "traceback": [
            "\u001b[0;31m---------------------------------------------------------------------------\u001b[0m",
            "\u001b[0;31mNotImplementedError\u001b[0m                       Traceback (most recent call last)",
            "\u001b[0;32m<ipython-input-36-a03e4934a088>\u001b[0m in \u001b[0;36m<module>\u001b[0;34m()\u001b[0m\n\u001b[1;32m      1\u001b[0m \u001b[0mcat\u001b[0m\u001b[0;34m.\u001b[0m\u001b[0mspeak\u001b[0m\u001b[0;34m(\u001b[0m\u001b[0;34m)\u001b[0m \u001b[0;31m# redefined\u001b[0m\u001b[0;34m\u001b[0m\u001b[0;34m\u001b[0m\u001b[0m\n\u001b[0;32m----> 2\u001b[0;31m \u001b[0mdog\u001b[0m\u001b[0;34m.\u001b[0m\u001b[0mspeak\u001b[0m\u001b[0;34m(\u001b[0m\u001b[0;34m)\u001b[0m \u001b[0;31m# not redefined\u001b[0m\u001b[0;34m\u001b[0m\u001b[0;34m\u001b[0m\u001b[0m\n\u001b[0m",
            "\u001b[0;32m<ipython-input-28-baadc35f2d7f>\u001b[0m in \u001b[0;36mspeak\u001b[0;34m(self)\u001b[0m\n\u001b[1;32m      5\u001b[0m \u001b[0;34m\u001b[0m\u001b[0m\n\u001b[1;32m      6\u001b[0m     \u001b[0;32mdef\u001b[0m \u001b[0mspeak\u001b[0m\u001b[0;34m(\u001b[0m\u001b[0mself\u001b[0m\u001b[0;34m)\u001b[0m\u001b[0;34m:\u001b[0m\u001b[0;34m\u001b[0m\u001b[0;34m\u001b[0m\u001b[0m\n\u001b[0;32m----> 7\u001b[0;31m         \u001b[0;32mraise\u001b[0m \u001b[0mNotImplementedError\u001b[0m\u001b[0;34m(\u001b[0m\u001b[0;34m'i don\\'t know how to speak'\u001b[0m\u001b[0;34m)\u001b[0m\u001b[0;34m\u001b[0m\u001b[0;34m\u001b[0m\u001b[0m\n\u001b[0m\u001b[1;32m      8\u001b[0m \u001b[0;34m\u001b[0m\u001b[0m\n\u001b[1;32m      9\u001b[0m \u001b[0;34m\u001b[0m\u001b[0m\n",
            "\u001b[0;31mNotImplementedError\u001b[0m: i don't know how to speak"
          ]
        }
      ]
    },
    {
      "cell_type": "code",
      "metadata": {
        "colab": {
          "base_uri": "https://localhost:8080/"
        },
        "id": "fZSZvEs0b-Ji",
        "outputId": "b7ad06d9-ab50-44f0-8531-2305f7a48f44"
      },
      "source": [
        "isinstance(Cat, object)"
      ],
      "execution_count": null,
      "outputs": [
        {
          "output_type": "execute_result",
          "data": {
            "text/plain": [
              "True"
            ]
          },
          "metadata": {},
          "execution_count": 59
        }
      ]
    },
    {
      "cell_type": "code",
      "metadata": {
        "colab": {
          "base_uri": "https://localhost:8080/"
        },
        "id": "rDAmQ1OCcGHn",
        "outputId": "225e72be-92aa-48ea-8482-d28f08f3bea1"
      },
      "source": [
        "issubclass(CatDog, (Cat, Dog, Animal, object))"
      ],
      "execution_count": null,
      "outputs": [
        {
          "output_type": "execute_result",
          "data": {
            "text/plain": [
              "True"
            ]
          },
          "metadata": {},
          "execution_count": 61
        }
      ]
    },
    {
      "cell_type": "markdown",
      "metadata": {
        "id": "hS0tTS6k8beK"
      },
      "source": [
        "## Privacy?"
      ]
    },
    {
      "cell_type": "code",
      "metadata": {
        "id": "ZZSYyEWa8beK"
      },
      "source": [
        "class VeryPrivateDataHolder:\n",
        "    _secret = 1\n",
        "    __another_secret__ = 2\n",
        "    __very_secret = 3"
      ],
      "execution_count": null,
      "outputs": []
    },
    {
      "cell_type": "code",
      "metadata": {
        "colab": {
          "base_uri": "https://localhost:8080/",
          "height": 280
        },
        "id": "5Tz6G6DV8beK",
        "outputId": "3d1ebc39-1f25-46c9-e9b8-9faefe32b41d"
      },
      "source": [
        "obj = VeryPrivateDataHolder()\n",
        "print(obj._secret)\n",
        "print(obj.__another_secret__)\n",
        "print(obj.__very_secret)"
      ],
      "execution_count": null,
      "outputs": [
        {
          "output_type": "stream",
          "name": "stdout",
          "text": [
            "1\n",
            "2\n"
          ]
        },
        {
          "output_type": "error",
          "ename": "AttributeError",
          "evalue": "ignored",
          "traceback": [
            "\u001b[0;31m---------------------------------------------------------------------------\u001b[0m",
            "\u001b[0;31mAttributeError\u001b[0m                            Traceback (most recent call last)",
            "\u001b[0;32m<ipython-input-39-55b89eb1fbed>\u001b[0m in \u001b[0;36m<module>\u001b[0;34m()\u001b[0m\n\u001b[1;32m      2\u001b[0m \u001b[0mprint\u001b[0m\u001b[0;34m(\u001b[0m\u001b[0mobj\u001b[0m\u001b[0;34m.\u001b[0m\u001b[0m_secret\u001b[0m\u001b[0;34m)\u001b[0m\u001b[0;34m\u001b[0m\u001b[0;34m\u001b[0m\u001b[0m\n\u001b[1;32m      3\u001b[0m \u001b[0mprint\u001b[0m\u001b[0;34m(\u001b[0m\u001b[0mobj\u001b[0m\u001b[0;34m.\u001b[0m\u001b[0m__another_secret__\u001b[0m\u001b[0;34m)\u001b[0m\u001b[0;34m\u001b[0m\u001b[0;34m\u001b[0m\u001b[0m\n\u001b[0;32m----> 4\u001b[0;31m \u001b[0mprint\u001b[0m\u001b[0;34m(\u001b[0m\u001b[0mobj\u001b[0m\u001b[0;34m.\u001b[0m\u001b[0m__very_secret\u001b[0m\u001b[0;34m)\u001b[0m\u001b[0;34m\u001b[0m\u001b[0;34m\u001b[0m\u001b[0m\n\u001b[0m",
            "\u001b[0;31mAttributeError\u001b[0m: 'VeryPrivateDataHolder' object has no attribute '__very_secret'"
          ]
        }
      ]
    },
    {
      "cell_type": "markdown",
      "metadata": {
        "id": "jwVuzkIf8beK"
      },
      "source": [
        "__Q:__ That is, Python nevertheless has privacy?\n",
        "\n",
        "__A:__ Well..."
      ]
    },
    {
      "cell_type": "code",
      "metadata": {
        "colab": {
          "base_uri": "https://localhost:8080/"
        },
        "id": "9q7I6qa98beK",
        "outputId": "7a4a2841-cc88-4f9d-8243-14271d23eacf"
      },
      "source": [
        "obj._VeryPrivateDataHolder__very_secret  # and never do that, especially with other people's classes"
      ],
      "execution_count": null,
      "outputs": [
        {
          "output_type": "execute_result",
          "data": {
            "text/plain": [
              "3"
            ]
          },
          "metadata": {},
          "execution_count": 40
        }
      ]
    },
    {
      "cell_type": "code",
      "metadata": {
        "colab": {
          "base_uri": "https://localhost:8080/",
          "height": 35
        },
        "id": "oOqSDibO8beK",
        "outputId": "1dfc8171-1e28-40bc-e183-6df064b7291d"
      },
      "source": [
        "obj._VeryPrivateDataHolder__very_secret = 'new secret'\n",
        "obj._VeryPrivateDataHolder__very_secret"
      ],
      "execution_count": null,
      "outputs": [
        {
          "output_type": "execute_result",
          "data": {
            "application/vnd.google.colaboratory.intrinsic+json": {
              "type": "string"
            },
            "text/plain": [
              "'new secret'"
            ]
          },
          "metadata": {},
          "execution_count": 41
        }
      ]
    },
    {
      "cell_type": "markdown",
      "metadata": {
        "id": "GTN3a9PP8beK"
      },
      "source": [
        "# Generators and iterators: new perspective"
      ]
    },
    {
      "cell_type": "markdown",
      "metadata": {
        "id": "ymR0llZF8beK"
      },
      "source": [
        "theory:\n",
        "\n",
        "1. Iterator is an object with implemented `__iter__` and `__next__` methods.\n",
        "\n",
        "2. Generator is a result of calling a function that... well, generating. For example with `yield`. It simplifies creating of iterators.\n",
        "\n",
        "3. Each generator is an iterator (implicitly implements an iterator interface). The converse, of course, is not true."
      ]
    },
    {
      "cell_type": "markdown",
      "metadata": {
        "id": "O2rPDQKB8beK"
      },
      "source": [
        "In practice, fortunately, everything looks a little clearer. Below is a typical iterator, view from under the hood:"
      ]
    },
    {
      "cell_type": "code",
      "metadata": {
        "id": "gMHmtgmt8beK"
      },
      "source": [
        "class my_range_iterator:\n",
        "    def __init__(self, n_max):\n",
        "        self.i = 0\n",
        "        self.n_max = n_max\n",
        "\n",
        "    def __iter__(self):\n",
        "        return self\n",
        "\n",
        "    def __next__(self):\n",
        "        if self.i < self.n_max:\n",
        "            i = self.i\n",
        "            self.i += 1\n",
        "            return i\n",
        "        else:\n",
        "            # special exception, which means \"items are out!\"\n",
        "            # however, it may be never thrown\n",
        "            raise StopIteration()"
      ],
      "execution_count": null,
      "outputs": []
    },
    {
      "cell_type": "code",
      "metadata": {
        "colab": {
          "base_uri": "https://localhost:8080/",
          "height": 364
        },
        "id": "sfEE9ZKY8beK",
        "outputId": "b6b4b753-d44c-4776-b6cd-3ac1dfab3f78"
      },
      "source": [
        "iterator_obj = my_range_iterator(3)\n",
        "print(iterator_obj.__next__())\n",
        "print(iterator_obj.__next__())\n",
        "print(iterator_obj.__next__())\n",
        "print(iterator_obj.__next__())"
      ],
      "execution_count": null,
      "outputs": [
        {
          "output_type": "stream",
          "name": "stdout",
          "text": [
            "0\n",
            "1\n",
            "2\n"
          ]
        },
        {
          "output_type": "error",
          "ename": "StopIteration",
          "evalue": "ignored",
          "traceback": [
            "\u001b[0;31m---------------------------------------------------------------------------\u001b[0m",
            "\u001b[0;31mStopIteration\u001b[0m                             Traceback (most recent call last)",
            "\u001b[0;32m<ipython-input-44-be1ec1dabe7b>\u001b[0m in \u001b[0;36m<module>\u001b[0;34m()\u001b[0m\n\u001b[1;32m      3\u001b[0m \u001b[0mprint\u001b[0m\u001b[0;34m(\u001b[0m\u001b[0miterator_obj\u001b[0m\u001b[0;34m.\u001b[0m\u001b[0m__next__\u001b[0m\u001b[0;34m(\u001b[0m\u001b[0;34m)\u001b[0m\u001b[0;34m)\u001b[0m\u001b[0;34m\u001b[0m\u001b[0;34m\u001b[0m\u001b[0m\n\u001b[1;32m      4\u001b[0m \u001b[0mprint\u001b[0m\u001b[0;34m(\u001b[0m\u001b[0miterator_obj\u001b[0m\u001b[0;34m.\u001b[0m\u001b[0m__next__\u001b[0m\u001b[0;34m(\u001b[0m\u001b[0;34m)\u001b[0m\u001b[0;34m)\u001b[0m\u001b[0;34m\u001b[0m\u001b[0;34m\u001b[0m\u001b[0m\n\u001b[0;32m----> 5\u001b[0;31m \u001b[0mprint\u001b[0m\u001b[0;34m(\u001b[0m\u001b[0miterator_obj\u001b[0m\u001b[0;34m.\u001b[0m\u001b[0m__next__\u001b[0m\u001b[0;34m(\u001b[0m\u001b[0;34m)\u001b[0m\u001b[0;34m)\u001b[0m\u001b[0;34m\u001b[0m\u001b[0;34m\u001b[0m\u001b[0m\n\u001b[0m",
            "\u001b[0;32m<ipython-input-43-07a1a0898940>\u001b[0m in \u001b[0;36m__next__\u001b[0;34m(self)\u001b[0m\n\u001b[1;32m     15\u001b[0m             \u001b[0;31m# special exception, which means \"items are out!\"\u001b[0m\u001b[0;34m\u001b[0m\u001b[0;34m\u001b[0m\u001b[0;34m\u001b[0m\u001b[0m\n\u001b[1;32m     16\u001b[0m             \u001b[0;31m# however, it may be never thrown\u001b[0m\u001b[0;34m\u001b[0m\u001b[0;34m\u001b[0m\u001b[0;34m\u001b[0m\u001b[0m\n\u001b[0;32m---> 17\u001b[0;31m             \u001b[0;32mraise\u001b[0m \u001b[0mStopIteration\u001b[0m\u001b[0;34m(\u001b[0m\u001b[0;34m)\u001b[0m\u001b[0;34m\u001b[0m\u001b[0;34m\u001b[0m\u001b[0m\n\u001b[0m",
            "\u001b[0;31mStopIteration\u001b[0m: "
          ]
        }
      ]
    },
    {
      "cell_type": "markdown",
      "metadata": {
        "id": "_YTHIySa8beL"
      },
      "source": [
        "__Q:__ And what, in order to use it, it is necessary to handle exceptions?\n",
        "\n",
        "__A:__ Of course not! This is non-pythonic way."
      ]
    },
    {
      "cell_type": "code",
      "metadata": {
        "colab": {
          "base_uri": "https://localhost:8080/"
        },
        "id": "Bv6WNtky8beL",
        "outputId": "989075cd-da95-494e-df17-8ec2cf1d6250"
      },
      "source": [
        "iterator_obj = my_range_iterator(3)\n",
        "print(type(iterator_obj))\n",
        "for x in iterator_obj:\n",
        "    print(x)"
      ],
      "execution_count": null,
      "outputs": [
        {
          "output_type": "stream",
          "name": "stdout",
          "text": [
            "<class '__main__.my_range_iterator'>\n",
            "0\n",
            "1\n",
            "2\n"
          ]
        }
      ]
    },
    {
      "cell_type": "code",
      "metadata": {
        "id": "VyUJrW4R8beL"
      },
      "source": [
        "for x in iterator_obj:\n",
        "    print(x)"
      ],
      "execution_count": null,
      "outputs": []
    },
    {
      "cell_type": "code",
      "metadata": {
        "colab": {
          "base_uri": "https://localhost:8080/"
        },
        "id": "s8RW1-D8YQQo",
        "outputId": "d3645842-15bb-4eb3-a399-4d1ffe9c82bf"
      },
      "source": [
        "iterator_obj.i"
      ],
      "execution_count": null,
      "outputs": [
        {
          "output_type": "execute_result",
          "data": {
            "text/plain": [
              "3"
            ]
          },
          "metadata": {},
          "execution_count": 47
        }
      ]
    },
    {
      "cell_type": "markdown",
      "metadata": {
        "id": "1aSPbyOx8beL"
      },
      "source": [
        "__Q:__ Can't be reused?!\n",
        "\n",
        "__A:__ The iterator object, as can be understood from the code, stores its state. He has already given us everything that he should have"
      ]
    },
    {
      "cell_type": "code",
      "metadata": {
        "id": "R_xtfpW28beL"
      },
      "source": [
        "def my_range_generator(n_max):\n",
        "    i = 0\n",
        "    while i < n_max:\n",
        "        yield i\n",
        "        i += 1"
      ],
      "execution_count": null,
      "outputs": []
    },
    {
      "cell_type": "code",
      "metadata": {
        "colab": {
          "base_uri": "https://localhost:8080/"
        },
        "id": "3Ebgcatl8beL",
        "outputId": "d4fc1dd4-9d75-42fa-83fd-2815f1231b28"
      },
      "source": [
        "generator_obj = my_range_generator(3)\n",
        "print(type(generator_obj))\n",
        "# we did not define the magic functions of the iterator, but ...\n",
        "print(generator_obj.__iter__)\n",
        "print(generator_obj.__iter__())\n",
        "print(generator_obj.__next__)"
      ],
      "execution_count": null,
      "outputs": [
        {
          "output_type": "stream",
          "name": "stdout",
          "text": [
            "<class 'generator'>\n",
            "<method-wrapper '__iter__' of generator object at 0x7fd36b3add50>\n",
            "<generator object my_range_generator at 0x7fd36b3add50>\n",
            "<method-wrapper '__next__' of generator object at 0x7fd36b3add50>\n"
          ]
        }
      ]
    },
    {
      "cell_type": "code",
      "metadata": {
        "colab": {
          "base_uri": "https://localhost:8080/"
        },
        "id": "BUPl7Ds48beL",
        "outputId": "98c8851b-cbb7-4772-a996-9d54a5d2fd8b"
      },
      "source": [
        "for x in generator_obj:\n",
        "    print(x)"
      ],
      "execution_count": null,
      "outputs": [
        {
          "output_type": "stream",
          "name": "stdout",
          "text": [
            "0\n",
            "1\n",
            "2\n"
          ]
        }
      ]
    },
    {
      "cell_type": "code",
      "metadata": {
        "id": "laAIfTYb8beL"
      },
      "source": [
        "for x in generator_obj:\n",
        "    print(x)"
      ],
      "execution_count": null,
      "outputs": []
    },
    {
      "cell_type": "markdown",
      "metadata": {
        "id": "6xho2COS8beL"
      },
      "source": [
        "__Q:__ And what is the difference in practical use?\n",
        "\n",
        "__A:__ As a rule, almost nothing."
      ]
    },
    {
      "cell_type": "code",
      "metadata": {
        "colab": {
          "base_uri": "https://localhost:8080/"
        },
        "id": "Ko-AG7hX8beL",
        "outputId": "ec12055e-8bd7-4be9-bcb3-8904485b32d5"
      },
      "source": [
        "print(sum(my_range_generator(5)))\n",
        "print(sum(my_range_iterator(5)))"
      ],
      "execution_count": null,
      "outputs": [
        {
          "output_type": "stream",
          "name": "stdout",
          "text": [
            "10\n",
            "10\n"
          ]
        }
      ]
    },
    {
      "cell_type": "markdown",
      "metadata": {
        "id": "B-Fq-4G-8beL"
      },
      "source": [
        "## Syntactic sugar"
      ]
    },
    {
      "cell_type": "code",
      "metadata": {
        "id": "LcQhih6F8beL"
      },
      "source": [
        "class MyClass:\n",
        "    \n",
        "    clsval = 0\n",
        "    \n",
        "    def __init__(self,val):\n",
        "        self.objval = val\n",
        "\n",
        "    def Set(self, val):\n",
        "        type(self).clsval = val  # class'es attribute\n",
        "        self.objval = val        # object's attribute\n",
        "    \n",
        "    @staticmethod  #we can call it like obj.Set(val) or MyClass.Set(val)!\n",
        "    def statSet(val):\n",
        "        MyClass.clsval = val\n",
        "        \n",
        "    @classmethod # first argument is the class\n",
        "    def clsSet(cls, val):\n",
        "        cls.clsval = val\n",
        "\n"
      ],
      "execution_count": null,
      "outputs": []
    },
    {
      "cell_type": "code",
      "metadata": {
        "colab": {
          "base_uri": "https://localhost:8080/"
        },
        "id": "DbwfLkczZvG8",
        "outputId": "2474d5b6-cceb-406c-8ff1-dc2739c73383"
      },
      "source": [
        "type(obj)"
      ],
      "execution_count": null,
      "outputs": [
        {
          "output_type": "execute_result",
          "data": {
            "text/plain": [
              "__main__.MyClass"
            ]
          },
          "metadata": {},
          "execution_count": 57
        }
      ]
    },
    {
      "cell_type": "code",
      "metadata": {
        "colab": {
          "base_uri": "https://localhost:8080/"
        },
        "id": "19z5uEzx8beL",
        "outputId": "3d5927ce-8109-4701-ef10-2a8b9fa41309"
      },
      "source": [
        "obj = MyClass(5)\n",
        "print('clsval', obj.clsval, 'objval', obj.objval)\n",
        "\n",
        "obj.Set(9)\n",
        "print('clsval',obj.clsval,'objval',obj.objval)\n",
        "\n",
        "obj.statSet(4)\n",
        "print('clsval',obj.clsval,'objval',obj.objval)\n",
        "\n",
        "MyClass.statSet(3)\n",
        "print('clsval',obj.clsval,'objval',obj.objval)\n",
        "\n",
        "MyClass.clsSet(7)\n",
        "print('clsval',obj.clsval,'objval',obj.objval)"
      ],
      "execution_count": null,
      "outputs": [
        {
          "output_type": "stream",
          "name": "stdout",
          "text": [
            "clsval 0 objval 5\n",
            "clsval 9 objval 9\n",
            "clsval 4 objval 9\n",
            "clsval 3 objval 9\n",
            "clsval 7 objval 9\n"
          ]
        }
      ]
    },
    {
      "cell_type": "markdown",
      "metadata": {
        "id": "ssAIdY7-8beM"
      },
      "source": [
        "## Callable-objects"
      ]
    },
    {
      "cell_type": "code",
      "metadata": {
        "colab": {
          "base_uri": "https://localhost:8080/"
        },
        "id": "JDYAVnpR8beM",
        "outputId": "1eabab69-2b72-47c8-80fb-89c46ed60d68"
      },
      "source": [
        "class Adder:\n",
        "    def __init__(self, x):\n",
        "        self.x = x\n",
        "    def __call__(self, y):\n",
        "        return self.x + y\n",
        "    \n",
        "adder = Adder(10)\n",
        "\n",
        "adder(14)"
      ],
      "execution_count": null,
      "outputs": [
        {
          "output_type": "execute_result",
          "data": {
            "text/plain": [
              "24"
            ]
          },
          "metadata": {},
          "execution_count": 58
        }
      ]
    },
    {
      "cell_type": "markdown",
      "metadata": {
        "id": "fHw2vapo8beM"
      },
      "source": [
        "## Imports\n"
      ]
    },
    {
      "cell_type": "code",
      "metadata": {
        "id": "qHkpCU_38beM"
      },
      "source": [
        "import math\n",
        "\n",
        "print(math.pi)"
      ],
      "execution_count": null,
      "outputs": []
    },
    {
      "cell_type": "code",
      "metadata": {
        "id": "HANT7aS28beM"
      },
      "source": [
        "import math as m\n",
        "\n",
        "print(m.pi)"
      ],
      "execution_count": null,
      "outputs": []
    },
    {
      "cell_type": "code",
      "metadata": {
        "id": "OZ2fJm1y8beM"
      },
      "source": [
        "from math import pi\n",
        "\n",
        "print(pi)"
      ],
      "execution_count": null,
      "outputs": []
    },
    {
      "cell_type": "code",
      "metadata": {
        "id": "bsy3DBZg8beM"
      },
      "source": [
        "from math import * # import everything into the global scope - DO NOT DO THAT!\n",
        "\n",
        "print(pi)"
      ],
      "execution_count": null,
      "outputs": []
    },
    {
      "cell_type": "code",
      "metadata": {
        "id": "6-4dPt0h8beM"
      },
      "source": [
        ""
      ],
      "execution_count": null,
      "outputs": []
    }
  ]
}