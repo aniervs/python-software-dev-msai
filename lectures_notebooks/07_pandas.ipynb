{
  "nbformat": 4,
  "nbformat_minor": 0,
  "metadata": {
    "celltoolbar": "Slideshow",
    "kernelspec": {
      "display_name": "Python 3",
      "language": "python",
      "name": "python3"
    },
    "language_info": {
      "codemirror_mode": {
        "name": "ipython",
        "version": 3
      },
      "file_extension": ".py",
      "mimetype": "text/x-python",
      "name": "python",
      "nbconvert_exporter": "python",
      "pygments_lexer": "ipython3",
      "version": "3.8.5"
    },
    "colab": {
      "name": "session11_pandas",
      "provenance": []
    }
  },
  "cells": [
    {
      "cell_type": "markdown",
      "metadata": {
        "id": "u-CCxmySrWZz"
      },
      "source": [
        "## Pandas"
      ]
    },
    {
      "cell_type": "markdown",
      "metadata": {
        "id": "CH4xlU3PrWZ3"
      },
      "source": [
        "In this notebook we will get to know the main features of **pandas**. This library is huge, so we can only play a little with the available functionality. For a detailed review, read the documentation."
      ]
    },
    {
      "cell_type": "markdown",
      "metadata": {
        "id": "QLJh2dOSrWZ3"
      },
      "source": [
        "### 1. First glance"
      ]
    },
    {
      "cell_type": "code",
      "metadata": {
        "collapsed": true,
        "id": "3y90e2torWZ4"
      },
      "source": [
        "import pandas as pd  # common alias for pandas"
      ],
      "execution_count": null,
      "outputs": []
    },
    {
      "cell_type": "code",
      "metadata": {
        "collapsed": true,
        "scrolled": false,
        "id": "6KhngBX1rWZ5"
      },
      "source": [
        "# Read dataset from csv file\n",
        "coins = pd.read_csv('coins.csv')  "
      ],
      "execution_count": null,
      "outputs": []
    },
    {
      "cell_type": "code",
      "metadata": {
        "scrolled": false,
        "id": "F8uLZfXrrWZ5"
      },
      "source": [
        "# Let's see what we've got\n",
        "coins"
      ],
      "execution_count": null,
      "outputs": []
    },
    {
      "cell_type": "markdown",
      "metadata": {
        "id": "IXeHQ5y8rWZ7"
      },
      "source": [
        "column descriptions:\n",
        " - date - date of measurement\n",
        " - name - coin's name\n",
        " - symbol - coin's symbol\n",
        " - price - average coin price per trading day in USD\n",
        " - txCount - the number of transactions in the coin network\n",
        " - txVolume - coin's volume transferred between the coin network addresses\n",
        " - activeAddresses - the number of addresses that transacted on the trading day in the coin network\n",
        " - open - coin price at the beginning of the trading day\n",
        " - close - coin price at the end of the trading day\n",
        " - high - highest coin price during the trading day\n",
        " - low - lowest coin price during the trading day\n",
        " - volume - trading volume of this coin on exchanges on the trading day\n",
        " - market - capitalization of this coin on the trading day"
      ]
    },
    {
      "cell_type": "markdown",
      "metadata": {
        "id": "G5V2kx5RrWZ8"
      },
      "source": [
        "From output you can get a general idea of the table. You can see that the table can store both numeric and categorical (string) data, the number of rows and columns. All this information and much more can be obtained in the code."
      ]
    },
    {
      "cell_type": "markdown",
      "metadata": {
        "id": "bUY-x0ZHrWZ8"
      },
      "source": [
        "For convenience, we will further limit the size of pandas output in jupyter notebook."
      ]
    },
    {
      "cell_type": "code",
      "metadata": {
        "collapsed": true,
        "id": "2cXwxv75rWZ9"
      },
      "source": [
        "pd.set_option('display.max_rows', 10)"
      ],
      "execution_count": null,
      "outputs": []
    },
    {
      "cell_type": "code",
      "metadata": {
        "id": "Nw2g2S57rWZ9"
      },
      "source": [
        "coins.shape  # Table's size"
      ],
      "execution_count": null,
      "outputs": []
    },
    {
      "cell_type": "code",
      "metadata": {
        "id": "lufdeG5BrWZ9"
      },
      "source": [
        "coins.head(3)  #  First three rows of the table. use .tail(n) for a number of last rows"
      ],
      "execution_count": null,
      "outputs": []
    },
    {
      "cell_type": "code",
      "metadata": {
        "id": "fGrX8RqjrWZ-"
      },
      "source": [
        "coins.describe()  # Simple statistics for numeric columns"
      ],
      "execution_count": null,
      "outputs": []
    },
    {
      "cell_type": "code",
      "metadata": {
        "id": "581fwRqCrWZ-"
      },
      "source": [
        "coins['price']  # A column can be selected "
      ],
      "execution_count": null,
      "outputs": []
    },
    {
      "cell_type": "code",
      "metadata": {
        "id": "strMEfgsrWZ_"
      },
      "source": [
        "coins['high'] - coins['low']  # element-wise operations work on columns"
      ],
      "execution_count": null,
      "outputs": []
    },
    {
      "cell_type": "code",
      "metadata": {
        "collapsed": true,
        "id": "L1pobNnxrWZ_"
      },
      "source": [
        "coins['spread'] = coins['high'] - coins['low']  # New columns can be added to the table"
      ],
      "execution_count": null,
      "outputs": []
    },
    {
      "cell_type": "code",
      "metadata": {
        "collapsed": true,
        "id": "i_K2mWUXrWZ_"
      },
      "source": [
        "del coins['spread']  # Removing a column. Alternative: coins.pop('spread')"
      ],
      "execution_count": null,
      "outputs": []
    },
    {
      "cell_type": "markdown",
      "metadata": {
        "id": "M5G3ntPwrWZ_"
      },
      "source": [
        "Columns in pandas tables behave like arrays of fixed length. The nice difference is that the columns have many useful analytic methods. For example,"
      ]
    },
    {
      "cell_type": "code",
      "metadata": {
        "id": "wtN2ePxBrWZ_"
      },
      "source": [
        "coins['symbol'].value_counts() # Number of rows for each coin"
      ],
      "execution_count": null,
      "outputs": []
    },
    {
      "cell_type": "code",
      "metadata": {
        "id": "vfSpr0WSrWaA"
      },
      "source": [
        "# Maximum value for price column\n",
        "coins['price'].max()"
      ],
      "execution_count": null,
      "outputs": []
    },
    {
      "cell_type": "markdown",
      "metadata": {
        "id": "caHm4QRFrWaA"
      },
      "source": [
        "**Task**: How many different coins are in the dataset?"
      ]
    },
    {
      "cell_type": "code",
      "metadata": {
        "collapsed": true,
        "id": "GHkHng8brWaA"
      },
      "source": [
        "# your code here"
      ],
      "execution_count": null,
      "outputs": []
    },
    {
      "cell_type": "code",
      "metadata": {
        "id": "Th3J0wCdrWaA"
      },
      "source": [
        "# Standard indexing works\n",
        "coins['txVolume'][:4]"
      ],
      "execution_count": null,
      "outputs": []
    },
    {
      "cell_type": "markdown",
      "metadata": {
        "id": "iPfPsVUnrWaB"
      },
      "source": [
        "Boolean masks also work"
      ]
    },
    {
      "cell_type": "code",
      "metadata": {
        "id": "Yx27YFJurWaB"
      },
      "source": [
        "coins['txCount'] > 1000"
      ],
      "execution_count": null,
      "outputs": []
    },
    {
      "cell_type": "code",
      "metadata": {
        "id": "jc7Px334rWaB"
      },
      "source": [
        "# Rows with txCount > 1000\n",
        "coins[coins['txCount'] > 1000]"
      ],
      "execution_count": null,
      "outputs": []
    },
    {
      "cell_type": "code",
      "metadata": {
        "id": "ndWtNI84rWaB"
      },
      "source": [
        "# coin's symbol is BTC or ADA\n",
        "coins['symbol'].isin(['BTC', 'ADA'])"
      ],
      "execution_count": null,
      "outputs": []
    },
    {
      "cell_type": "code",
      "metadata": {
        "id": "bxYWSVPnrWaB"
      },
      "source": [
        "# symbol contains 'C'\n",
        "coins['symbol'].str.contains('C')"
      ],
      "execution_count": null,
      "outputs": []
    },
    {
      "cell_type": "code",
      "metadata": {
        "id": "5sj18zCSrWaC"
      },
      "source": [
        "# Complex conditions (brackets are mandatory!)\n",
        "((coins['price'] > 18000) | (coins['market'] > 200000)) & (coins['symbol'] == 'BTC')"
      ],
      "execution_count": null,
      "outputs": []
    },
    {
      "cell_type": "markdown",
      "metadata": {
        "id": "IqhAWX0UrWaC"
      },
      "source": [
        "The main purpose of the resulting boolean columns is that they can be used as an indexing object. A kind of advanced slicing for columns and tables"
      ]
    },
    {
      "cell_type": "code",
      "metadata": {
        "id": "J7LwHEcVrWaC"
      },
      "source": [
        "# Rows with BTC priced less than 100 USD\n",
        "coins[(coins['price'] < 100) & (coins['symbol'] == 'BTC')]"
      ],
      "execution_count": null,
      "outputs": []
    },
    {
      "cell_type": "code",
      "metadata": {
        "id": "0G-gIEzUrWaC"
      },
      "source": [
        "# Transactions count for litecoin\n",
        "coins['txCount'][coins['symbol'] == 'LTC']"
      ],
      "execution_count": null,
      "outputs": []
    },
    {
      "cell_type": "markdown",
      "metadata": {
        "id": "pVwZyE28rWaC"
      },
      "source": [
        "**Task**: What coin has the maximum price?"
      ]
    },
    {
      "cell_type": "code",
      "metadata": {
        "collapsed": true,
        "id": "SoLrj_0zrWaC"
      },
      "source": [
        "# your code here"
      ],
      "execution_count": null,
      "outputs": []
    },
    {
      "cell_type": "markdown",
      "metadata": {
        "id": "sqpI20yRrWaC"
      },
      "source": [
        "Table indexing works both for rows and columns"
      ]
    },
    {
      "cell_type": "code",
      "metadata": {
        "id": "XfTdflIkrWaC"
      },
      "source": [
        "# highest price and volume for days when DOGE has been priced greater than 1 cent\n",
        "coins.loc[\n",
        "    (coins['symbol'] == 'DOGE') & (coins['price'] > 0.01),\n",
        "    ['high', 'volume']\n",
        "]"
      ],
      "execution_count": null,
      "outputs": []
    },
    {
      "cell_type": "code",
      "metadata": {
        "collapsed": true,
        "id": "YVdBzTDfrWaD"
      },
      "source": [
        "# TAB-completions!!!\n",
        "list."
      ],
      "execution_count": null,
      "outputs": []
    },
    {
      "cell_type": "markdown",
      "metadata": {
        "id": "HdKgjpGHrWaD"
      },
      "source": [
        "From now on, you can already make simple sets from the data and transform them a bit. Of course, remember to use help() and tab-completion to learn more about the features of pandas. It’s worth keeping this rule in mind: if you really want to use a loop to iterate through the table and do something with the data, it is very likely that you are doing something wrong and, most likely, pandas has a tool for your task. The rest of this notebook is dedicated to pandas features, and it may seem boring, but without knowing these features you will be reinventing the wheel each time."
      ]
    },
    {
      "cell_type": "markdown",
      "metadata": {
        "id": "RrOk3JdIrWaD"
      },
      "source": [
        "### 2. Global settings"
      ]
    },
    {
      "cell_type": "markdown",
      "metadata": {
        "id": "ziSQWgxlrWaD"
      },
      "source": [
        "You might want to configure pandas. Most global settings relate to displaying a table or data."
      ]
    },
    {
      "cell_type": "code",
      "metadata": {
        "id": "tU30cY55rWaD"
      },
      "source": [
        "# get the maximum number of columns being displayed\n",
        "pd.get_option('display.max_columns')"
      ],
      "execution_count": null,
      "outputs": []
    },
    {
      "cell_type": "code",
      "metadata": {
        "id": "4uh9bE2WrWaD"
      },
      "source": [
        "# To find out more about an option.  \n",
        "# The full list of options: https://pandas.pydata.org/pandas-docs/version/0.23.4/options.html#available-options\n",
        "pd.describe_option('display.max_columns')"
      ],
      "execution_count": null,
      "outputs": []
    },
    {
      "cell_type": "code",
      "metadata": {
        "collapsed": true,
        "id": "MLJqE9l5rWaD"
      },
      "source": [
        "# set the maximum number of columns being displayed\n",
        "pd.set_option('display.max_columns', 15)"
      ],
      "execution_count": null,
      "outputs": []
    },
    {
      "cell_type": "markdown",
      "metadata": {
        "id": "82r-l6sYrWaD"
      },
      "source": [
        "### 3. Data types in pandas"
      ]
    },
    {
      "cell_type": "markdown",
      "metadata": {
        "id": "9A57LSP6rWaD"
      },
      "source": [
        "There are two main types of data in pandas - pandas.Series and pandas.DataFrame."
      ]
    },
    {
      "cell_type": "markdown",
      "metadata": {
        "id": "pIW0v_A6rWaE"
      },
      "source": [
        "#### 3.1 pandas.Series"
      ]
    },
    {
      "cell_type": "markdown",
      "metadata": {
        "id": "owzKcjSMrWaE"
      },
      "source": [
        "Pandas.Series should be thought of as a one-dimensional array of a fixed size with data of the same type. Unlike arrays, access to elements can be at a non-numeric index. An index should be understood as row name.\n",
        "\n",
        "pandas.Series objects are very often used as return values in pandas."
      ]
    },
    {
      "cell_type": "code",
      "metadata": {
        "id": "jVRIx-HGrWaE"
      },
      "source": [
        "# pandas.Series with standard indexes\n",
        "pd.Series(data=['BTC', 'LTC', 'DOGE', 'DASH'])"
      ],
      "execution_count": null,
      "outputs": []
    },
    {
      "cell_type": "code",
      "metadata": {
        "id": "mNXdzqXbrWaE"
      },
      "source": [
        "# pandas.Series with str indexes\n",
        "pd.Series(data=['BTC', 'ETH', 'XRP'], \n",
        "          index=['first_coin', 'second_coin', 'third_coin'], dtype=str)"
      ],
      "execution_count": null,
      "outputs": []
    },
    {
      "cell_type": "code",
      "metadata": {
        "id": "ucBhWwPyrWaE"
      },
      "source": [
        "# casting a dictionary\n",
        "pd.Series({'first_coin': 'BTC', 'second_coin': 'ETH', 'third_coin': 'XRP'})"
      ],
      "execution_count": null,
      "outputs": []
    },
    {
      "cell_type": "code",
      "metadata": {
        "id": "mp_kN0rhrWaE"
      },
      "source": [
        "sequence = pd.Series(data=['!', 'the', 'Moon', 'To'])\n",
        "sequence[[3, 1, 2, 0, 0, 0]]  # Access elements by indexes"
      ],
      "execution_count": null,
      "outputs": []
    },
    {
      "cell_type": "code",
      "metadata": {
        "id": "sZls22WjrWaE"
      },
      "source": [
        "sequence[3]  # Getting an element by its index"
      ],
      "execution_count": null,
      "outputs": []
    },
    {
      "cell_type": "code",
      "metadata": {
        "collapsed": true,
        "id": "Ljlm8vsdrWaE"
      },
      "source": [
        "# Works with non-standard indexes too\n",
        "sequence = pd.Series(data=['!', 'the', 'Moon', 'To'], \n",
        "                     index=['04-11-2018', '02-11-2018', '03-11-2018', '01-11-2018'])"
      ],
      "execution_count": null,
      "outputs": []
    },
    {
      "cell_type": "code",
      "metadata": {
        "id": "DsCzHub4rWaE"
      },
      "source": [
        "sequence[['01-11-2018', '02-11-2018', '03-11-2018', '04-11-2018']] "
      ],
      "execution_count": null,
      "outputs": []
    },
    {
      "cell_type": "code",
      "metadata": {
        "id": "HQrye4GtrWaE"
      },
      "source": [
        "sequence['01-11-2018'] "
      ],
      "execution_count": null,
      "outputs": []
    },
    {
      "cell_type": "code",
      "metadata": {
        "collapsed": true,
        "id": "C1m8a8MzrWaF"
      },
      "source": [
        "# Remove an object\n",
        "del sequence"
      ],
      "execution_count": null,
      "outputs": []
    },
    {
      "cell_type": "markdown",
      "metadata": {
        "id": "2GHREMxLrWaF"
      },
      "source": [
        "#### 3.2 pandas.DataFrame"
      ]
    },
    {
      "cell_type": "markdown",
      "metadata": {
        "id": "NaIqyHrSrWaF"
      },
      "source": [
        "pandas.DataFrame is a two-dimensional array of variable size with heterogeneous data (but of the same type within each column). It’s better to think of pandas.DataFrame as a set of columns, where each column is of pandas.Series type."
      ]
    },
    {
      "cell_type": "code",
      "metadata": {
        "id": "n1BnMwS9rWaF"
      },
      "source": [
        "# Create a table\n",
        "pd.DataFrame(data=['BTC', 'LTC', 'XRP'])"
      ],
      "execution_count": null,
      "outputs": []
    },
    {
      "cell_type": "code",
      "metadata": {
        "id": "hpffF3J-rWaF"
      },
      "source": [
        "# Create a table with specified names of columns  \n",
        "pd.DataFrame(data=[['BTC', 10000],['LTC', 200],['XRP', 1]], \n",
        "             columns=['symbol', 'price'])"
      ],
      "execution_count": null,
      "outputs": []
    },
    {
      "cell_type": "code",
      "metadata": {
        "id": "owkA9fYzrWaF"
      },
      "source": [
        "# And now with specific indexes also\n",
        "pd.DataFrame(\n",
        "    data=[['BTC', 10000],['LTC', 200],['XRP', 1]],\n",
        "    columns=['symbol', 'price'],\n",
        "    index=pd.DatetimeIndex(['01-11-2018', '03-11-2018', '23-08-2018'])\n",
        ")"
      ],
      "execution_count": null,
      "outputs": []
    },
    {
      "cell_type": "code",
      "metadata": {
        "id": "JugSR9u_rWaF"
      },
      "source": [
        "# Create a table from a set of pandas.Series\n",
        "pd.DataFrame({\n",
        "    'symbol': pd.Series(data=['BTC','LTC'], index=pd.DatetimeIndex(['01-11-2018', '03-11-2018'])),\n",
        "    'price': pd.Series(data=[10000, 200], index=pd.DatetimeIndex(['01-11-2018', '03-11-2018']))\n",
        "})"
      ],
      "execution_count": null,
      "outputs": []
    },
    {
      "cell_type": "markdown",
      "metadata": {
        "id": "4NcmihrxrWaF"
      },
      "source": [
        "### 4. Basic methods of pandas.Series"
      ]
    },
    {
      "cell_type": "code",
      "metadata": {
        "collapsed": true,
        "id": "FhqzOeV0rWaF"
      },
      "source": [
        "sequence = pd.Series(data=['BTC', 'LTC', 'DOGE', 'DASH'], index=['leader', 'alternative', 'joke', 'bouncer'])"
      ],
      "execution_count": null,
      "outputs": []
    },
    {
      "cell_type": "code",
      "metadata": {
        "id": "pMEFC9_wrWaG"
      },
      "source": [
        "# Get indexes\n",
        "sequence.axes"
      ],
      "execution_count": null,
      "outputs": []
    },
    {
      "cell_type": "code",
      "metadata": {
        "id": "j5IFsnWFrWaG"
      },
      "source": [
        "# Get type of the data\n",
        "sequence.dtype"
      ],
      "execution_count": null,
      "outputs": []
    },
    {
      "cell_type": "code",
      "metadata": {
        "id": "-qfQa7IfrWaG"
      },
      "source": [
        "# Check if empty\n",
        "sequence.empty"
      ],
      "execution_count": null,
      "outputs": []
    },
    {
      "cell_type": "code",
      "metadata": {
        "id": "REAoju71rWaG"
      },
      "source": [
        "# Number of dimensions. Always 1 for pandas.Series\n",
        "sequence.ndim"
      ],
      "execution_count": null,
      "outputs": []
    },
    {
      "cell_type": "code",
      "metadata": {
        "id": "H-KnHEjzrWaG"
      },
      "source": [
        "# Number of elements\n",
        "sequence.size"
      ],
      "execution_count": null,
      "outputs": []
    },
    {
      "cell_type": "code",
      "metadata": {
        "id": "11YOhPRdrWaG"
      },
      "source": [
        "# Sizes\n",
        "sequence.shape"
      ],
      "execution_count": null,
      "outputs": []
    },
    {
      "cell_type": "code",
      "metadata": {
        "id": "QGW4hUPOrWaG"
      },
      "source": [
        "# Cast to numpy array\n",
        "sequence.values"
      ],
      "execution_count": null,
      "outputs": []
    },
    {
      "cell_type": "code",
      "metadata": {
        "id": "ALam_-n6rWaG"
      },
      "source": [
        "# Get first three elements\n",
        "sequence.head(3)"
      ],
      "execution_count": null,
      "outputs": []
    },
    {
      "cell_type": "code",
      "metadata": {
        "id": "6eGgZGxcrWaG"
      },
      "source": [
        "# Get last two elements\n",
        "sequence.tail(2)"
      ],
      "execution_count": null,
      "outputs": []
    },
    {
      "cell_type": "code",
      "metadata": {
        "collapsed": true,
        "id": "NdkI447xrWaG"
      },
      "source": [
        "del sequence"
      ],
      "execution_count": null,
      "outputs": []
    },
    {
      "cell_type": "markdown",
      "metadata": {
        "id": "G4BQMdTBrWaG"
      },
      "source": [
        "### 5. Basic methods of pandas.DataFrame"
      ]
    },
    {
      "cell_type": "markdown",
      "metadata": {
        "id": "HZsMJy6jrWaG"
      },
      "source": [
        "DataFrame is huge so we will look only at the most frequently used methods\n"
      ]
    },
    {
      "cell_type": "code",
      "metadata": {
        "collapsed": true,
        "id": "rFvjiAr5rWaG"
      },
      "source": [
        "table = pd.DataFrame(\n",
        "    data=[['BTC', 10000],['LTC', 200],['XRP', 1]],\n",
        "    columns=['symbol', 'price'],\n",
        "    index=pd.DatetimeIndex(['01-11-2018', '03-11-2018', '23-08-2018'])\n",
        ")"
      ],
      "execution_count": null,
      "outputs": []
    },
    {
      "cell_type": "code",
      "metadata": {
        "id": "BKgISjPlrWaH"
      },
      "source": [
        "# Transpose table\n",
        "table.T"
      ],
      "execution_count": null,
      "outputs": []
    },
    {
      "cell_type": "code",
      "metadata": {
        "id": "GR79cpj6rWaH"
      },
      "source": [
        "# Get indexes\n",
        "table.axes"
      ],
      "execution_count": null,
      "outputs": []
    },
    {
      "cell_type": "code",
      "metadata": {
        "id": "49XEBCubrWaH"
      },
      "source": [
        "# Get data types\n",
        "table.dtypes"
      ],
      "execution_count": null,
      "outputs": []
    },
    {
      "cell_type": "code",
      "metadata": {
        "id": "UtzUJySNrWaH"
      },
      "source": [
        "# Check if empty\n",
        "table.empty"
      ],
      "execution_count": null,
      "outputs": []
    },
    {
      "cell_type": "code",
      "metadata": {
        "id": "qYlpzcVprWaH"
      },
      "source": [
        "# Sizes\n",
        "table.shape"
      ],
      "execution_count": null,
      "outputs": []
    },
    {
      "cell_type": "code",
      "metadata": {
        "id": "Vz31vXClrWaH"
      },
      "source": [
        "# Number of cells\n",
        "table.size"
      ],
      "execution_count": null,
      "outputs": []
    },
    {
      "cell_type": "code",
      "metadata": {
        "id": "O8De2fvcrWaH"
      },
      "source": [
        "# Cast to numpy ndarray\n",
        "table.values"
      ],
      "execution_count": null,
      "outputs": []
    },
    {
      "cell_type": "code",
      "metadata": {
        "id": "OEOOR4OerWaH"
      },
      "source": [
        "# Get first three rows\n",
        "table.head(3)"
      ],
      "execution_count": null,
      "outputs": []
    },
    {
      "cell_type": "code",
      "metadata": {
        "id": "BHJ4CVN_rWaH"
      },
      "source": [
        "# Get last two rows\n",
        "table.tail(2)"
      ],
      "execution_count": null,
      "outputs": []
    },
    {
      "cell_type": "code",
      "metadata": {
        "collapsed": true,
        "id": "i9g_y5IIrWaH"
      },
      "source": [
        "del table"
      ],
      "execution_count": null,
      "outputs": []
    },
    {
      "cell_type": "markdown",
      "metadata": {
        "id": "69Wf5L78rWaH"
      },
      "source": [
        "### 6. Working with rows and columns"
      ]
    },
    {
      "cell_type": "markdown",
      "metadata": {
        "id": "4PooPbOArWaH"
      },
      "source": [
        "We can get rows either by indexes or by ordinal numbers"
      ]
    },
    {
      "cell_type": "code",
      "metadata": {
        "id": "r4zRvmbYrWaH"
      },
      "source": [
        "table = pd.DataFrame(\n",
        "    data=[['BTC', 10000],['LTC', 200],['XRP', 1], ['BTC', 9000]],\n",
        "    columns=['symbol', 'price'],\n",
        "    index=pd.DatetimeIndex(['01-11-2018', '03-11-2018', '23-08-2018', '02-11-2018'])\n",
        ")\n",
        "table"
      ],
      "execution_count": null,
      "outputs": []
    },
    {
      "cell_type": "markdown",
      "metadata": {
        "id": "f6aEVSH7rWaI"
      },
      "source": [
        "#### 6.1. Getting rows"
      ]
    },
    {
      "cell_type": "code",
      "metadata": {
        "id": "S_EfSu0grWaI"
      },
      "source": [
        "# By ordinal number\n",
        "table.iloc[2]"
      ],
      "execution_count": null,
      "outputs": []
    },
    {
      "cell_type": "code",
      "metadata": {
        "id": "mbtkx2zArWaI"
      },
      "source": [
        "# By range of numbers\n",
        "table[1:3]"
      ],
      "execution_count": null,
      "outputs": []
    },
    {
      "cell_type": "code",
      "metadata": {
        "id": "hHCROD9_rWaI"
      },
      "source": [
        "# By index\n",
        "table.loc[pd.Timestamp('01-11-2018')]"
      ],
      "execution_count": null,
      "outputs": []
    },
    {
      "cell_type": "code",
      "metadata": {
        "id": "_UZ9IaQ4rWaI"
      },
      "source": [
        "# By range of indexes\n",
        "table.loc['01-11-2018':'03-11-2019']"
      ],
      "execution_count": null,
      "outputs": []
    },
    {
      "cell_type": "markdown",
      "metadata": {
        "id": "xwUuQ88crWaI"
      },
      "source": [
        "#### 6.2. Adding, removing and renaming rows and columns"
      ]
    },
    {
      "cell_type": "code",
      "metadata": {
        "id": "A47lK35frWaI"
      },
      "source": [
        "# Remove rows by indexes.  Can be used for column removal with axis=1 parameter.\n",
        "# See also drop_duplicates and dropna\n",
        "table.drop([pd.Timestamp('2018-08-23'), pd.Timestamp('2018-01-11')])"
      ],
      "execution_count": null,
      "outputs": []
    },
    {
      "cell_type": "code",
      "metadata": {
        "id": "XnbHQ6EVrWaI"
      },
      "source": [
        "# Add new column\n",
        "table['volume'] = [1e9, 1e6, 1e4, 1e9]\n",
        "table"
      ],
      "execution_count": null,
      "outputs": []
    },
    {
      "cell_type": "code",
      "metadata": {
        "collapsed": true,
        "id": "Uj5n_WYhrWaI"
      },
      "source": [
        "# Remove a column\n",
        "del table['volume']"
      ],
      "execution_count": null,
      "outputs": []
    },
    {
      "cell_type": "code",
      "metadata": {
        "id": "Br5BRQZIrWaI"
      },
      "source": [
        "# Rename columns\n",
        "table.rename(columns={'symbol': 'Symbol', 'price': 'Price'})"
      ],
      "execution_count": null,
      "outputs": []
    },
    {
      "cell_type": "markdown",
      "metadata": {
        "id": "zl1L9ocBrWaJ"
      },
      "source": [
        "#### 6.3. Iterating"
      ]
    },
    {
      "cell_type": "markdown",
      "metadata": {
        "id": "iAuGNcm1rWaJ"
      },
      "source": [
        "Iterating through a table can be done in a number of ways. But better not to use loops at all, use pandas methods instead. "
      ]
    },
    {
      "cell_type": "code",
      "metadata": {
        "id": "0MMAbCJWrWaJ"
      },
      "source": [
        "# By columns\n",
        "for column in table:\n",
        "    print(column)"
      ],
      "execution_count": null,
      "outputs": []
    },
    {
      "cell_type": "code",
      "metadata": {
        "id": "xh6TrRPYrWaJ"
      },
      "source": [
        "# By columns as dictionaries\n",
        "for column, series in table.iteritems():\n",
        "    print(column)\n",
        "    print(series)"
      ],
      "execution_count": null,
      "outputs": []
    },
    {
      "cell_type": "code",
      "metadata": {
        "id": "0dMv16h6rWaJ"
      },
      "source": [
        "# By rows as dictionaries\n",
        "for index, row in table.iterrows():\n",
        "    print(index)\n",
        "    print(row)"
      ],
      "execution_count": null,
      "outputs": []
    },
    {
      "cell_type": "markdown",
      "metadata": {
        "id": "R6EaOm4zrWaJ"
      },
      "source": [
        "#### 6.4. Sorting"
      ]
    },
    {
      "cell_type": "markdown",
      "metadata": {
        "id": "t1_Rf31FrWaJ"
      },
      "source": [
        "Rows and columns of the table can be sorted. Sorting methods return a new table!"
      ]
    },
    {
      "cell_type": "code",
      "metadata": {
        "id": "SzGTcD6mrWaJ"
      },
      "source": [
        "# Sort rows in decreasing order of index\n",
        "table.sort_index(ascending=False)"
      ],
      "execution_count": null,
      "outputs": []
    },
    {
      "cell_type": "code",
      "metadata": {
        "id": "Mdi_kSsTrWaJ"
      },
      "source": [
        "# Sort columns in increasing order of names\n",
        "table.sort_index(axis=1, ascending=True)"
      ],
      "execution_count": null,
      "outputs": []
    },
    {
      "cell_type": "code",
      "metadata": {
        "id": "2Stg8VsDrWaJ"
      },
      "source": [
        "# Sort rows by symbol, price using quicksort algorithm\n",
        "table.sort_values(by=['symbol', 'price'], kind='quicksort')"
      ],
      "execution_count": null,
      "outputs": []
    },
    {
      "cell_type": "markdown",
      "metadata": {
        "id": "Pwar3FAvrWaJ"
      },
      "source": [
        "### 7. Stat functions"
      ]
    },
    {
      "cell_type": "markdown",
      "metadata": {
        "id": "DiDXZVzrrWaJ"
      },
      "source": [
        "Let's see how pandas allows you to calculate the simplest statistics for datasets. The methods that we list below have the axis argument, which indicates along which axis statistics should be calculated. By default axis = 0, which corresponds to row-based calculations. If there are gaps in the data, then they are not taken into account when calculating statistics!"
      ]
    },
    {
      "cell_type": "code",
      "metadata": {
        "id": "1l-7DFrcrWaJ"
      },
      "source": [
        "earnings = pd.DataFrame(\n",
        "    data=[[7629.39, -9357.49, -1661.3, 8597.23],\n",
        "          [560.68, None, 10.46, 3578.5],\n",
        "          [487.38, 7560.38, 1090.87, -5164.93]],\n",
        "    columns=['BTC', 'DOGE', 'ADA', 'ETH'],\n",
        "    index=['yesterday', 'today', 'tomorrow']\n",
        ")\n",
        "earnings"
      ],
      "execution_count": null,
      "outputs": []
    },
    {
      "cell_type": "code",
      "metadata": {
        "id": "hgaoXdOrrWaK"
      },
      "source": [
        "# Count non-NaN values for each column\n",
        "earnings.count()"
      ],
      "execution_count": null,
      "outputs": []
    },
    {
      "cell_type": "code",
      "metadata": {
        "id": "INUjU91drWaK"
      },
      "source": [
        "# earnings by day\n",
        "earnings.sum(axis=1)"
      ],
      "execution_count": null,
      "outputs": []
    },
    {
      "cell_type": "code",
      "metadata": {
        "id": "HD4GcfabrWaK"
      },
      "source": [
        "# Mean values\n",
        "earnings.mean()"
      ],
      "execution_count": null,
      "outputs": []
    },
    {
      "cell_type": "code",
      "metadata": {
        "id": "_3poytGFrWaK"
      },
      "source": [
        "# Median values\n",
        "earnings.median()"
      ],
      "execution_count": null,
      "outputs": []
    },
    {
      "cell_type": "code",
      "metadata": {
        "id": "Pf1ZrQ0PrWaK"
      },
      "source": [
        "# Modes\n",
        "earnings.mode()"
      ],
      "execution_count": null,
      "outputs": []
    },
    {
      "cell_type": "code",
      "metadata": {
        "id": "KB_MNw4WrWaK"
      },
      "source": [
        "# Standard deviations\n",
        "earnings.std()"
      ],
      "execution_count": null,
      "outputs": []
    },
    {
      "cell_type": "code",
      "metadata": {
        "id": "Xvj__ZKYrWaK"
      },
      "source": [
        "# Quantiles\n",
        "earnings.quantile(q=(0.25, 0.5, 0.75))"
      ],
      "execution_count": null,
      "outputs": []
    },
    {
      "cell_type": "code",
      "metadata": {
        "id": "dMr5nCb1rWaK"
      },
      "source": [
        "# Minimum values\n",
        "earnings.min()"
      ],
      "execution_count": null,
      "outputs": []
    },
    {
      "cell_type": "code",
      "metadata": {
        "id": "3TmDB_wIrWaK"
      },
      "source": [
        "# Maximum values\n",
        "earnings.max()"
      ],
      "execution_count": null,
      "outputs": []
    },
    {
      "cell_type": "code",
      "metadata": {
        "id": "QyGt9ntGrWaK"
      },
      "source": [
        "# Absolute values\n",
        "earnings.abs()"
      ],
      "execution_count": null,
      "outputs": []
    },
    {
      "cell_type": "code",
      "metadata": {
        "id": "ItxM2R90rWaL"
      },
      "source": [
        "# Productions of all values within each column. I know it makes no sense here\n",
        "earnings.prod()"
      ],
      "execution_count": null,
      "outputs": []
    },
    {
      "cell_type": "code",
      "metadata": {
        "id": "ivWObGNmrWaL"
      },
      "source": [
        "# Cumulative productions\n",
        "earnings.cumprod()"
      ],
      "execution_count": null,
      "outputs": []
    },
    {
      "cell_type": "code",
      "metadata": {
        "id": "hFMUzBegrWaL"
      },
      "source": [
        "# Cumulative sums\n",
        "earnings.cumsum()"
      ],
      "execution_count": null,
      "outputs": []
    },
    {
      "cell_type": "code",
      "metadata": {
        "id": "qiQm0LA4rWaL"
      },
      "source": [
        "earnings"
      ],
      "execution_count": null,
      "outputs": []
    },
    {
      "cell_type": "code",
      "metadata": {
        "id": "KXYgBKr4rWaL"
      },
      "source": [
        "# Percent changes comparing with previous row\n",
        "earnings.pct_change()"
      ],
      "execution_count": null,
      "outputs": []
    },
    {
      "cell_type": "code",
      "metadata": {
        "id": "ppM0LIhJrWaL"
      },
      "source": [
        "# Covariance between BTC and DOGE\n",
        "earnings['BTC'].cov(earnings['DOGE'])"
      ],
      "execution_count": null,
      "outputs": []
    },
    {
      "cell_type": "code",
      "metadata": {
        "id": "uqooObbYrWaL"
      },
      "source": [
        "# Correlation between BTC and DOGE\n",
        "earnings['BTC'].corr(earnings['DOGE'])"
      ],
      "execution_count": null,
      "outputs": []
    },
    {
      "cell_type": "markdown",
      "metadata": {
        "id": "k4fsodsNrWaL"
      },
      "source": [
        "One describe() to rule them all"
      ]
    },
    {
      "cell_type": "code",
      "metadata": {
        "id": "so0bjEyUrWaL"
      },
      "source": [
        "earnings.describe()"
      ],
      "execution_count": null,
      "outputs": []
    },
    {
      "cell_type": "code",
      "metadata": {
        "collapsed": true,
        "id": "jAEIGN9DrWaL"
      },
      "source": [
        "del earnings"
      ],
      "execution_count": null,
      "outputs": []
    },
    {
      "cell_type": "markdown",
      "metadata": {
        "id": "89-FAQPvrWaL"
      },
      "source": [
        "### 8. Applying custom functions"
      ]
    },
    {
      "cell_type": "markdown",
      "metadata": {
        "id": "8J780y98rWaL"
      },
      "source": [
        "Sometimes you want to apply a function to a dataset or one of its columns. You can apply them to the entire table, element-wise, column-wise or row-wise"
      ]
    },
    {
      "cell_type": "code",
      "metadata": {
        "collapsed": true,
        "id": "xEe6jAuNrWaM"
      },
      "source": [
        "earnings = pd.DataFrame(\n",
        "    data=[[7629.39, -9357.49, -1661.3, 8597.23],\n",
        "          [560.68, None, 10.46, 3578.5],\n",
        "          [487.38, 7560.38, 1090.87, -5164.93]],\n",
        "    columns=['BTC', 'DOGE', 'ADA', 'ETH'],\n",
        "    index=['yesterday', 'today', 'tomorrow']\n",
        ")"
      ],
      "execution_count": null,
      "outputs": []
    },
    {
      "cell_type": "markdown",
      "metadata": {
        "id": "6cOMtCpHrWaM"
      },
      "source": [
        "To apply in row-based way, use the apply function. If you want column-based way add axis = 1"
      ]
    },
    {
      "cell_type": "code",
      "metadata": {
        "id": "Jjw1HxfCrWaM"
      },
      "source": [
        "# Calculate dispersions. Lambda takes pandas.Series of each column\n",
        "earnings.apply(lambda money: money.std() ** 2)"
      ],
      "execution_count": null,
      "outputs": []
    },
    {
      "cell_type": "markdown",
      "metadata": {
        "id": "4CHSWNAHrWaM"
      },
      "source": [
        "To apply a function element by element use applymap"
      ]
    },
    {
      "cell_type": "code",
      "metadata": {
        "id": "OsL-Vi6UrWaM"
      },
      "source": [
        "# Let's pretend that the losses turned into a profit\n",
        "earnings.applymap(abs)"
      ],
      "execution_count": null,
      "outputs": []
    },
    {
      "cell_type": "code",
      "metadata": {
        "id": "wzJisqZirWaM"
      },
      "source": [
        "# Apply to one column\n",
        "earnings['BTC'].apply(lambda money: money + 100500)"
      ],
      "execution_count": null,
      "outputs": []
    },
    {
      "cell_type": "code",
      "metadata": {
        "collapsed": true,
        "id": "vwTnHNPmrWaM"
      },
      "source": [
        "earnings.pipe() # Figure it out by yourself"
      ],
      "execution_count": null,
      "outputs": []
    },
    {
      "cell_type": "code",
      "metadata": {
        "collapsed": true,
        "id": "sWH7MAw8rWaM"
      },
      "source": [
        "del earnings"
      ],
      "execution_count": null,
      "outputs": []
    },
    {
      "cell_type": "markdown",
      "metadata": {
        "id": "xXvRVX3FrWaM"
      },
      "source": [
        "### 9. Working with string columns"
      ]
    },
    {
      "cell_type": "markdown",
      "metadata": {
        "id": "gEAUSTZorWaM"
      },
      "source": [
        "At the moment, to work with string columns, we would have to constantly use the apply method. This is inconvenient and therefore pandas has convenient string manipulation tools"
      ]
    },
    {
      "cell_type": "code",
      "metadata": {
        "id": "5Pk85ORKrWaM"
      },
      "source": [
        "taxonomy = pd.DataFrame(\n",
        "    data=[['BTC', 'Bitcoin'],['LTC', 'Litecoin'], ['ETC', 'Etherium'], ['DOGE', 'Doge coin']],\n",
        "    columns=['symbol', 'name']\n",
        ")\n",
        "taxonomy"
      ],
      "execution_count": null,
      "outputs": []
    },
    {
      "cell_type": "markdown",
      "metadata": {
        "id": "9uV3vK_vrWaM"
      },
      "source": [
        "To apply string functions to a column, you need to refer to the .str property."
      ]
    },
    {
      "cell_type": "code",
      "metadata": {
        "id": "cYoXusNGrWaM"
      },
      "source": [
        "# To lowercase\n",
        "taxonomy['symbol'].str.lower()"
      ],
      "execution_count": null,
      "outputs": []
    },
    {
      "cell_type": "code",
      "metadata": {
        "id": "J7thj9HjrWaM"
      },
      "source": [
        "# To uppercase\n",
        "taxonomy['name'].str.upper()"
      ],
      "execution_count": null,
      "outputs": []
    },
    {
      "cell_type": "code",
      "metadata": {
        "id": "V32WyMetrWaN"
      },
      "source": [
        "# String lengths\n",
        "taxonomy['symbol'].str.len()"
      ],
      "execution_count": null,
      "outputs": []
    },
    {
      "cell_type": "code",
      "metadata": {
        "id": "Gjcb_YTgrWaN"
      },
      "source": [
        "# Strip strings\n",
        "taxonomy['name'].str.strip()"
      ],
      "execution_count": null,
      "outputs": []
    },
    {
      "cell_type": "code",
      "metadata": {
        "id": "BtxnVJzBrWaN"
      },
      "source": [
        "# Split strings\n",
        "taxonomy['name'].str.split(' ')"
      ],
      "execution_count": null,
      "outputs": []
    },
    {
      "cell_type": "code",
      "metadata": {
        "id": "kSF_WJQfrWaN"
      },
      "source": [
        "# Concatenate (analogous to str.join)\n",
        "taxonomy['symbol'].str.cat(sep=' $$$ ')"
      ],
      "execution_count": null,
      "outputs": []
    },
    {
      "cell_type": "code",
      "metadata": {
        "id": "2HdPyTmVrWaN"
      },
      "source": [
        "# Find substring\n",
        "taxonomy['name'].str.contains('coin')"
      ],
      "execution_count": null,
      "outputs": []
    },
    {
      "cell_type": "code",
      "metadata": {
        "id": "lQW8kr94rWaN"
      },
      "source": [
        "# Replace substring by another substring\n",
        "taxonomy['name'].str.replace('coin', 'dough')"
      ],
      "execution_count": null,
      "outputs": []
    },
    {
      "cell_type": "code",
      "metadata": {
        "id": "p3h2LB3ArWaN"
      },
      "source": [
        "# Repeat string N times\n",
        "taxonomy['name'].str.repeat(2)"
      ],
      "execution_count": null,
      "outputs": []
    },
    {
      "cell_type": "code",
      "metadata": {
        "id": "_GaEYcFZrWaN"
      },
      "source": [
        "# Count substring occurences\n",
        "taxonomy['name'].str.count('coin')"
      ],
      "execution_count": null,
      "outputs": []
    },
    {
      "cell_type": "code",
      "metadata": {
        "id": "Mo-1_9k9rWaN"
      },
      "source": [
        "# Check prefix\n",
        "taxonomy['symbol'].str.startswith('B')"
      ],
      "execution_count": null,
      "outputs": []
    },
    {
      "cell_type": "code",
      "metadata": {
        "id": "MOhSP-KArWaN"
      },
      "source": [
        "# Check suffix\n",
        "taxonomy['symbol'].str.endswith('C')"
      ],
      "execution_count": null,
      "outputs": []
    },
    {
      "cell_type": "code",
      "metadata": {
        "id": "DUjwOJkerWaN"
      },
      "source": [
        "# Index of substring leftmost occurence\n",
        "taxonomy['name'].str.find('coin')"
      ],
      "execution_count": null,
      "outputs": []
    },
    {
      "cell_type": "code",
      "metadata": {
        "id": "TwrwkQ6brWaO"
      },
      "source": [
        "# Check if all in uppercase\n",
        "taxonomy['symbol'].str.isupper()"
      ],
      "execution_count": null,
      "outputs": []
    },
    {
      "cell_type": "code",
      "metadata": {
        "id": "TE5nfZBOrWaO"
      },
      "source": [
        "# Check if all in lowercase\n",
        "taxonomy['symbol'].str.islower()"
      ],
      "execution_count": null,
      "outputs": []
    },
    {
      "cell_type": "code",
      "metadata": {
        "id": "6Aj-zGVJrWaO"
      },
      "source": [
        "# Check if numeric\n",
        "taxonomy['name'].str.isnumeric()"
      ],
      "execution_count": null,
      "outputs": []
    },
    {
      "cell_type": "markdown",
      "metadata": {
        "id": "8G8AK4UUrWaO"
      },
      "source": [
        "### 10. Aggregations, transformations, and filtration"
      ]
    },
    {
      "cell_type": "markdown",
      "metadata": {
        "id": "HwFRUmb7rWaO"
      },
      "source": [
        "#### 10.1. Rolling windows"
      ]
    },
    {
      "cell_type": "code",
      "metadata": {
        "id": "3wEDk62CrWaO"
      },
      "source": [
        "price = pd.DataFrame(\n",
        "    data=[\n",
        "        [0.1, 0.2],\n",
        "        [0.2, 0.3],\n",
        "        [0.3, 0.4],\n",
        "        [0.4, 0.5],\n",
        "        [0.5, None],\n",
        "        [0.6, 0.7]],\n",
        "    columns=['ADA', 'DOGE'],\n",
        "    # Date range of 6 days starting at 2018-11-01 \n",
        "    index=pd.date_range('2018-11-01', periods=6)\n",
        ")"
      ],
      "execution_count": null,
      "outputs": []
    },
    {
      "cell_type": "code",
      "metadata": {
        "id": "q-FoU75HrWaO"
      },
      "source": [
        "price"
      ],
      "execution_count": null,
      "outputs": []
    },
    {
      "cell_type": "markdown",
      "metadata": {
        "id": "6xyxQNUQrWaO"
      },
      "source": [
        "If you want to calculate some statistical function (sum, mean, median, std) in a sliding window you can use rolling method (normal window) and ewm (window with exponential weights). They return special objects that can aggregate using a standard or custom function."
      ]
    },
    {
      "cell_type": "code",
      "metadata": {
        "id": "4Mz7oIzorWaO"
      },
      "source": [
        "# Rolling mean\n",
        "price.rolling(window=2).mean()"
      ],
      "execution_count": null,
      "outputs": []
    },
    {
      "cell_type": "code",
      "metadata": {
        "id": "9FflHle9rWaO"
      },
      "source": [
        "#Expanding mean\n",
        "price.expanding().mean()"
      ],
      "execution_count": null,
      "outputs": []
    },
    {
      "cell_type": "code",
      "metadata": {
        "id": "G-XimLihrWaO"
      },
      "source": [
        "# And now with custom function\n",
        "price.rolling(window=2).agg(lambda series: sum(series ** 2))"
      ],
      "execution_count": null,
      "outputs": []
    },
    {
      "cell_type": "code",
      "metadata": {
        "id": "HsaHQ3mhrWaO"
      },
      "source": [
        "# Aggregation by function's name\n",
        "price.rolling(window=2).agg('max')"
      ],
      "execution_count": null,
      "outputs": []
    },
    {
      "cell_type": "code",
      "metadata": {
        "id": "T7jnNtr0rWaP"
      },
      "source": [
        "# Several aggregations\n",
        "price.rolling(window=2).agg(['mean', sum, lambda series: max(series ** 2)])"
      ],
      "execution_count": null,
      "outputs": []
    },
    {
      "cell_type": "code",
      "metadata": {
        "id": "fvjLaKUwrWaP"
      },
      "source": [
        "# Several aggregations different for each column\n",
        "price.rolling(window=2).agg({'ADA': [sum, max], 'DOGE': lambda series: max(series ** 2)})"
      ],
      "execution_count": null,
      "outputs": []
    },
    {
      "cell_type": "markdown",
      "metadata": {
        "id": "QnYKzxkprWaP"
      },
      "source": [
        "The ewm object works similarly to rolling, with the only difference being that it assigns weights. Values $x_0,\\ldots,x_t$ will be assigned with weights $(1-\\alpha)^t, (1-\\alpha)^{t-1}, \\ldots, 1$, where $\\alpha$ - smoothing parameter. For example, exponential weighted moving average will be calculated like this:\n",
        "\n",
        "$$\n",
        "ewm_{\\alpha}(x)=\\frac{\\sum_{i=0}^t (1-\\alpha)^{t-i} x_i}{\\sum_{i=0}^t(1-\\alpha)^i}\n",
        "$$\n",
        "\n",
        "To use simpler form $y_i = \\alpha*x_i + (1-\\alpha)*y_{i-1}$ specify adjust=False"
      ]
    },
    {
      "cell_type": "code",
      "metadata": {
        "id": "cl5uotlyrWaP"
      },
      "source": [
        "# EWM mean\n",
        "price.ewm(alpha=0.5, adjust=False).mean()"
      ],
      "execution_count": null,
      "outputs": []
    },
    {
      "cell_type": "code",
      "metadata": {
        "collapsed": true,
        "id": "wXCUaZmXrWaP"
      },
      "source": [
        "del price"
      ],
      "execution_count": null,
      "outputs": []
    },
    {
      "cell_type": "markdown",
      "metadata": {
        "id": "-ysItuIbrWaP"
      },
      "source": [
        "#### 10.2. Grouping"
      ]
    },
    {
      "cell_type": "markdown",
      "metadata": {
        "id": "MgYpVtBrrWaP"
      },
      "source": [
        "Sometimes you want to break the data down into groups and calculate statistics or filter. There is a groupby method for this. It returns a special object for working with grouped data."
      ]
    },
    {
      "cell_type": "code",
      "metadata": {
        "collapsed": true,
        "id": "OEodxRZ5rWaP"
      },
      "source": [
        "operations = pd.DataFrame(\n",
        "    data=[\n",
        "        ['DOGE', 'buy', 5000, 0.2],\n",
        "        ['BTC', 'buy', 10, 6000],\n",
        "        ['BTC', 'buy', 2.5, 5900],\n",
        "        ['DOGE', 'sell', 3000, 0.1],\n",
        "        ['BTC', 'sell', 4, 6200],\n",
        "        ['ETH', 'sell', 10, 400],\n",
        "        ['BTC', 'buy', 1, 5600],\n",
        "        ['ETH', 'buy', 20, 350],\n",
        "        ['ETH', 'sell', 10, 300],\n",
        "        ['DOGE', 'sell', 3000, 0.15]\n",
        "    ],\n",
        "    columns=['symbol', 'type', 'amount', 'price'],\n",
        "    index=pd.date_range('2018-01-01', periods=10)\n",
        ")"
      ],
      "execution_count": null,
      "outputs": []
    },
    {
      "cell_type": "code",
      "metadata": {
        "id": "nsysXfELrWaP"
      },
      "source": [
        "operations"
      ],
      "execution_count": null,
      "outputs": []
    },
    {
      "cell_type": "code",
      "metadata": {
        "id": "2I52szhJrWaP"
      },
      "source": [
        "# Group by symbol\n",
        "operations.groupby('symbol')"
      ],
      "execution_count": null,
      "outputs": []
    },
    {
      "cell_type": "code",
      "metadata": {
        "id": "jccTMHtCrWaP"
      },
      "source": [
        "# Group by symbol and type\n",
        "operations.groupby(['symbol', 'type'])"
      ],
      "execution_count": null,
      "outputs": []
    },
    {
      "cell_type": "code",
      "metadata": {
        "id": "9mhgf78urWaQ"
      },
      "source": [
        "# Get indexes for each group\n",
        "operations.groupby(['symbol', 'type']).groups"
      ],
      "execution_count": null,
      "outputs": []
    },
    {
      "cell_type": "code",
      "metadata": {
        "id": "ZyZejegqrWaQ"
      },
      "source": [
        "# get each group\n",
        "for name, group in operations.groupby(['symbol', 'type']):\n",
        "    print(name)\n",
        "    print(group)"
      ],
      "execution_count": null,
      "outputs": []
    },
    {
      "cell_type": "code",
      "metadata": {
        "id": "ZIAK-RyGrWaQ"
      },
      "source": [
        "# get a group\n",
        "operations.groupby(['symbol', 'type']).get_group(('BTC', 'buy'))"
      ],
      "execution_count": null,
      "outputs": []
    },
    {
      "cell_type": "markdown",
      "metadata": {
        "id": "NPtrDwp1rWaQ"
      },
      "source": [
        "And now we will aggregate"
      ]
    },
    {
      "cell_type": "code",
      "metadata": {
        "id": "1LVX4OOhrWaQ"
      },
      "source": [
        "# Get buy and sell volumes for each coin\n",
        "grouper = operations.groupby(['symbol', 'type'])\n",
        "grouper['amount'].agg(sum)"
      ],
      "execution_count": null,
      "outputs": []
    },
    {
      "cell_type": "code",
      "metadata": {
        "id": "T8D8-f3KrWaQ"
      },
      "source": [
        "# Get buy and sell volumes and biggest deals for each coin\n",
        "grouper = operations.groupby(['symbol', 'type'])\n",
        "grouper['amount'].agg([sum, max])"
      ],
      "execution_count": null,
      "outputs": []
    },
    {
      "cell_type": "code",
      "metadata": {
        "id": "09LX4jEQrWaQ"
      },
      "source": [
        "# Get buy and sell volumes and mean price for each coin\n",
        "grouper = operations.groupby(['symbol', 'type'])\n",
        "grouper.agg({'amount': sum, 'price': lambda series: series.mean()})"
      ],
      "execution_count": null,
      "outputs": []
    },
    {
      "cell_type": "markdown",
      "metadata": {
        "id": "j0M-Nyu6rWaQ"
      },
      "source": [
        "Grouped data can not only be aggregated but also transformed."
      ]
    },
    {
      "cell_type": "code",
      "metadata": {
        "id": "ga9wYZ2orWaQ"
      },
      "source": [
        "# Get group sizes\n",
        "operations.groupby(['symbol', 'type']).transform(lambda series: series.count())"
      ],
      "execution_count": null,
      "outputs": []
    },
    {
      "cell_type": "markdown",
      "metadata": {
        "id": "CBATO2DsrWaQ"
      },
      "source": [
        "Grouped data can be filtered"
      ]
    },
    {
      "cell_type": "code",
      "metadata": {
        "id": "j7GqF3VxrWaQ"
      },
      "source": [
        "# Filter by the volume > 20\n",
        "operations.groupby(['symbol', 'type']).filter(lambda table: table['amount'].sum() > 20)"
      ],
      "execution_count": null,
      "outputs": []
    },
    {
      "cell_type": "code",
      "metadata": {
        "collapsed": true,
        "id": "RqtEwBfmrWaQ"
      },
      "source": [
        "del operations, name, group"
      ],
      "execution_count": null,
      "outputs": []
    },
    {
      "cell_type": "markdown",
      "metadata": {
        "id": "Ch5J6ph_rWaQ"
      },
      "source": [
        "#### 10.3 Pivot tables"
      ]
    },
    {
      "cell_type": "markdown",
      "metadata": {
        "id": "tdl31rIkrWaQ"
      },
      "source": [
        "Most raw tables look like logs where each row is a record. There is no organization in the data in these tables. There are pivot tables in pandas for this."
      ]
    },
    {
      "cell_type": "code",
      "metadata": {
        "collapsed": true,
        "id": "O5Wqq6LArWaR"
      },
      "source": [
        "operations = pd.DataFrame(\n",
        "    data=[\n",
        "        ['DOGE', 'buy', 5000, 0.2, 'Joe Doe', 'success'],\n",
        "        ['BTC', 'buy', 10, 6000, 'Elon Musk', 'error'],\n",
        "        ['BTC', 'buy', 2.5, 5900, 'George Bush', 'success'],\n",
        "        ['DOGE', 'sell', 3000, 0.1, 'John Romero', 'success'],\n",
        "        ['BTC', 'sell', 4, 6200, 'Jack Ma', 'success'],\n",
        "        ['ETH', 'sell', 10, 400, 'Satoshi Nakomoto', 'error'],\n",
        "        ['BTC', 'buy', 1, 5600, 'Vladimir Vladimirovich', 'success'],\n",
        "        ['ETH', 'buy', 20, 350, 'George Bush', 'success'],\n",
        "        ['ETH', 'sell', 10, 300, 'Jack Ma', 'error'],\n",
        "        ['DOGE', 'sell', 3000, 0.15, 'Joe Doe', 'success']\n",
        "    ],\n",
        "    columns=['symbol', 'type', 'amount', 'price', 'user', 'status'],\n",
        "    index=pd.date_range('2018-01-01', periods=10)\n",
        ")"
      ],
      "execution_count": null,
      "outputs": []
    },
    {
      "cell_type": "code",
      "metadata": {
        "id": "TYAQJQQ1rWaR"
      },
      "source": [
        "operations"
      ],
      "execution_count": null,
      "outputs": []
    },
    {
      "cell_type": "markdown",
      "metadata": {
        "id": "6Blvos6HrWaR"
      },
      "source": [
        "The best way to understand how they work is to parse an example. We will find how much in total each type of coin was bought and sold. In the resulting summary table, the index will be the name of the coin, the columns are the types of transactions (i.e., purchases or sales). In the cells themselves there will be a total amount of coins."
      ]
    },
    {
      "cell_type": "code",
      "metadata": {
        "id": "0iPYYrCJrWaR"
      },
      "source": [
        "operations.pivot_table(\n",
        "    values='amount', \n",
        "    index='symbol', \n",
        "    columns='type', \n",
        "    aggfunc='sum'\n",
        ")"
      ],
      "execution_count": null,
      "outputs": []
    },
    {
      "cell_type": "markdown",
      "metadata": {
        "id": "9ezqKiARrWaR"
      },
      "source": [
        "By default aggfunc is avg. Let's consider more complex example:"
      ]
    },
    {
      "cell_type": "code",
      "metadata": {
        "id": "pp3ZJNW_rWaR"
      },
      "source": [
        "operations.pivot_table(\n",
        "    values='amount',\n",
        "    index=['symbol', 'user'],  # Index can be multi-columned\n",
        "    columns=['type', 'status'],  # So as columns\n",
        "    aggfunc={'amount': ['sum', 'mean']}  # Several aggregations can be calculated\n",
        ")"
      ],
      "execution_count": null,
      "outputs": []
    },
    {
      "cell_type": "markdown",
      "metadata": {
        "id": "ShQKR1aArWaR"
      },
      "source": [
        "And the most monstruose example:"
      ]
    },
    {
      "cell_type": "code",
      "metadata": {
        "id": "pGfaOQJ5rWaR"
      },
      "source": [
        "operations.pivot_table(\n",
        "    values=['amount', 'price'],  # Several values\n",
        "    index=['symbol', 'user'],\n",
        "    columns=['type', 'status'],\n",
        "    aggfunc={\n",
        "        'amount': ['sum', 'mean'], \n",
        "        'price': 'max'}  # with specific aggfuncs\n",
        ")"
      ],
      "execution_count": null,
      "outputs": []
    },
    {
      "cell_type": "markdown",
      "metadata": {
        "id": "92P0ELaTrWaR"
      },
      "source": [
        "### 11. Gaps, errors and NaNs"
      ]
    },
    {
      "cell_type": "code",
      "metadata": {
        "collapsed": true,
        "id": "b2JC1wyBrWaR"
      },
      "source": [
        "price = pd.DataFrame(\n",
        "    data=[\n",
        "        [0.547, 0.745],\n",
        "        [-2, -1],\n",
        "        [None, 0.718],\n",
        "        [0.135, 0.845],\n",
        "        [0.53, None],\n",
        "        [None, -1]],\n",
        "    columns=['ADA', 'DOGE'],\n",
        "\n",
        "    index=pd.date_range('2018-11-01', periods=6)\n",
        ")"
      ],
      "execution_count": null,
      "outputs": []
    },
    {
      "cell_type": "code",
      "metadata": {
        "id": "nIz0UGg3rWaR"
      },
      "source": [
        "price"
      ],
      "execution_count": null,
      "outputs": []
    },
    {
      "cell_type": "code",
      "metadata": {
        "id": "Y3ZIbKB8rWaR"
      },
      "source": [
        "# Find all NaNs. There is also notnull()\n",
        "price.isnull()"
      ],
      "execution_count": null,
      "outputs": []
    },
    {
      "cell_type": "code",
      "metadata": {
        "id": "ooAlCwyVrWaR"
      },
      "source": [
        "# Replace NaNs with specified default value\n",
        "price.fillna(0)"
      ],
      "execution_count": null,
      "outputs": []
    },
    {
      "cell_type": "code",
      "metadata": {
        "id": "_p7MzzCQrWaS"
      },
      "source": [
        "# Replace NaNs with next values (backward fill)\n",
        "price.fillna(method='bfill')"
      ],
      "execution_count": null,
      "outputs": []
    },
    {
      "cell_type": "code",
      "metadata": {
        "id": "SarjSApzrWaS"
      },
      "source": [
        "# Replace NaNs with previous values (forward fill)\n",
        "price.fillna(method='ffill')"
      ],
      "execution_count": null,
      "outputs": []
    },
    {
      "cell_type": "code",
      "metadata": {
        "id": "WpLNw7iWrWaS"
      },
      "source": [
        "# Drop rows with NaNs\n",
        "price.dropna()"
      ],
      "execution_count": null,
      "outputs": []
    },
    {
      "cell_type": "code",
      "metadata": {
        "id": "tjjpRwdjrWaS"
      },
      "source": [
        "# Drop columns with NaNs\n",
        "price.dropna(axis=1)"
      ],
      "execution_count": null,
      "outputs": []
    },
    {
      "cell_type": "code",
      "metadata": {
        "id": "IQLMFy3GrWaS"
      },
      "source": [
        "# Replace values\n",
        "price.replace({-1:0, -2:0})"
      ],
      "execution_count": null,
      "outputs": []
    },
    {
      "cell_type": "code",
      "metadata": {
        "collapsed": true,
        "id": "feP4F96trWaS"
      },
      "source": [
        "del price"
      ],
      "execution_count": null,
      "outputs": []
    },
    {
      "cell_type": "markdown",
      "metadata": {
        "id": "YypJQW3QrWaS"
      },
      "source": [
        "### 12. Merging and concatenating"
      ]
    },
    {
      "cell_type": "markdown",
      "metadata": {
        "id": "19Uhb9HvrWaS"
      },
      "source": [
        "If you have two tables, then the information in them can be combined in two ways: concatenation (\"stick a new table from the bottom\") and join (find the union of table entries if they have the same values in the selected columns)."
      ]
    },
    {
      "cell_type": "code",
      "metadata": {
        "id": "4yvBlTMgrWaS"
      },
      "source": [
        "operations_old = pd.DataFrame(\n",
        "    data=[\n",
        "        ['DOGE', 'buy', 5000, 0.2],\n",
        "        ['BTC', 'buy', 10, 6000],\n",
        "        ['BTC', 'buy', 2.5, 5900],\n",
        "        ['DOGE', 'sell', 3000, 0.1],\n",
        "        ['BTC', 'sell', 4, 6200],\n",
        "    ],\n",
        "    columns=['symbol', 'type', 'amount', 'price']\n",
        ")\n",
        "\n",
        "operations_new = pd.DataFrame(\n",
        "    data=[\n",
        "        ['ETH', 'sell', 10, 400],\n",
        "        ['BTC', 'buy', 1, 5600],\n",
        "        ['ETH', 'buy', 20, 350],\n",
        "        ['ETH', 'sell', 10, 300],\n",
        "        ['DOGE', 'sell', 3000, 0.15]\n",
        "    ],\n",
        "    columns=['symbol', 'type', 'amount', 'price']\n",
        ")\n",
        "print(operations_old)\n",
        "print(operations_new)"
      ],
      "execution_count": null,
      "outputs": []
    },
    {
      "cell_type": "code",
      "metadata": {
        "id": "1m7GoQ_QrWaS"
      },
      "source": [
        "#  Concatenate in a specified order\n",
        "pd.concat([operations_old, operations_new])"
      ],
      "execution_count": null,
      "outputs": []
    },
    {
      "cell_type": "code",
      "metadata": {
        "id": "g8EN7ztsrWaS"
      },
      "source": [
        "# You can use tags to remember to which table a row belongs\n",
        "pd.concat([operations_old, operations_new], keys=['old', 'new'])"
      ],
      "execution_count": null,
      "outputs": []
    },
    {
      "cell_type": "code",
      "metadata": {
        "id": "oRW6BScYrWaS"
      },
      "source": [
        "# to update indexes use ignore_index=True\n",
        "operations = pd.concat([operations_new, operations_old], ignore_index=True)\n",
        "operations"
      ],
      "execution_count": null,
      "outputs": []
    },
    {
      "cell_type": "markdown",
      "metadata": {
        "id": "867wwQTUrWaS"
      },
      "source": [
        "Data can be collected together in a smarter way. Namely, you choose which columns you are interested in. Further, if there are records from two tables which have the same values in the selected columns, we \"combine\" them. This is a very simplified explanation. In pandas, this operation is called merge (in SQL it is join). You can do the union in different ways, so several strategies arise: left, right, inner and full."
      ]
    },
    {
      "cell_type": "code",
      "metadata": {
        "id": "R616bOIdrWaS"
      },
      "source": [
        "transactions = pd.DataFrame(\n",
        "    data=[\n",
        "        ['DOGE', 'sell', 'Rockfeller'],\n",
        "        ['DOGE', 'buy', 'J.P. Morgan'],\n",
        "        ['BTC', 'buy', 'John Doe'],\n",
        "        ['ADA', 'sell', 'Rick'],\n",
        "        ['ETH', 'buy', 'Morty']\n",
        "    ],\n",
        "    columns=['symbol', 'type', 'user']\n",
        ")\n",
        "transactions"
      ],
      "execution_count": null,
      "outputs": []
    },
    {
      "cell_type": "code",
      "metadata": {
        "id": "U25-OxAKrWaT"
      },
      "source": [
        "# Merge by symbol and type\n",
        "# By default it's inner join\n",
        "pd.merge(operations, transactions, on=['symbol', 'type'])"
      ],
      "execution_count": null,
      "outputs": []
    },
    {
      "cell_type": "code",
      "metadata": {
        "id": "ij_9crBQrWaT"
      },
      "source": [
        "# Left join\n",
        "# (right join exists also)\n",
        "pd.merge(operations, transactions, on=['symbol', 'type'], how='left')"
      ],
      "execution_count": null,
      "outputs": []
    },
    {
      "cell_type": "code",
      "metadata": {
        "id": "I4J1kyMVrWaT"
      },
      "source": [
        "# Outer join\n",
        "pd.merge(operations, transactions, on=['symbol', 'type'], how='outer')"
      ],
      "execution_count": null,
      "outputs": []
    },
    {
      "cell_type": "code",
      "metadata": {
        "collapsed": true,
        "id": "s11YcoiUrWaT"
      },
      "source": [
        "del operations_new, operations_old, operations, transactions"
      ],
      "execution_count": null,
      "outputs": []
    },
    {
      "cell_type": "markdown",
      "metadata": {
        "id": "9oxvIs4KrWaT"
      },
      "source": [
        "### 13. Read table"
      ]
    },
    {
      "cell_type": "markdown",
      "metadata": {
        "id": "OfTFxqaSrWaT"
      },
      "source": [
        "In order to analyze data you should get it somewhere. In pandas there are functions with *read_* prefix for that. We will look at read_csv."
      ]
    },
    {
      "cell_type": "code",
      "metadata": {
        "id": "JxjBNbRXrWaT"
      },
      "source": [
        "# Just read a table from file\n",
        "pd.read_csv('coins.csv')"
      ],
      "execution_count": null,
      "outputs": []
    },
    {
      "cell_type": "code",
      "metadata": {
        "id": "BT9B6bhkrWaT"
      },
      "source": [
        "# Read and use date column as index\n",
        "pd.read_csv('coins.csv', index_col='date')"
      ],
      "execution_count": null,
      "outputs": []
    },
    {
      "cell_type": "code",
      "metadata": {
        "id": "oY-nHrd8rWaT"
      },
      "source": [
        "# Read and help pandas with data types for two columns\n",
        "pd.read_csv('coins.csv', dtype={'symbol': str, 'name': str})"
      ],
      "execution_count": null,
      "outputs": []
    },
    {
      "cell_type": "markdown",
      "metadata": {
        "id": "y1utPQAtrWaT"
      },
      "source": [
        "### 14. Visualization"
      ]
    },
    {
      "cell_type": "markdown",
      "metadata": {
        "id": "tqYDnu5irWaT"
      },
      "source": [
        "Pandas has very simple visualization tools. They are suitable for quick analysis, but if you want to do it beautifully and informatively, then you are not at the right place. Any visualization is done through the plot attribute of the pandas.Series or pandas.DataFrame object."
      ]
    },
    {
      "cell_type": "markdown",
      "metadata": {
        "id": "aNkDN3rBrWaT"
      },
      "source": [
        "Remember about this line in order to see your plots:\n",
        "```\n",
        "%matplotlib inline\n",
        "```"
      ]
    },
    {
      "cell_type": "code",
      "metadata": {
        "collapsed": true,
        "id": "SNykNg6LrWaT"
      },
      "source": [
        "%matplotlib inline"
      ],
      "execution_count": null,
      "outputs": []
    },
    {
      "cell_type": "code",
      "metadata": {
        "id": "Kq2vH25QrWaT"
      },
      "source": [
        "price = pd.DataFrame(\n",
        "    data=[\n",
        "        [0.547, 0.745],\n",
        "        [0.5, 0.964],\n",
        "        [0.77, 0.718],\n",
        "        [0.135, 0.845],\n",
        "        [0.53, None],\n",
        "        [0.15, 0.795]],\n",
        "    columns=['ADA', 'DOGE'],\n",
        "    index=pd.date_range('2018-11-01', periods=6)\n",
        ")\n",
        "price"
      ],
      "execution_count": null,
      "outputs": []
    },
    {
      "cell_type": "code",
      "metadata": {
        "id": "i_oMyGverWaT"
      },
      "source": [
        "# Plot prices for ADA coin\n",
        "price['ADA'].plot()"
      ],
      "execution_count": null,
      "outputs": []
    },
    {
      "cell_type": "code",
      "metadata": {
        "id": "BAonU1DYrWaT"
      },
      "source": [
        "# Plot several price graphs\n",
        "price[['ADA', 'DOGE']].plot()"
      ],
      "execution_count": null,
      "outputs": []
    },
    {
      "cell_type": "code",
      "metadata": {
        "id": "HEM8ttB3rWaT"
      },
      "source": [
        "# Bar chart\n",
        "price.plot.bar(stacked=True)"
      ],
      "execution_count": null,
      "outputs": []
    },
    {
      "cell_type": "code",
      "metadata": {
        "id": "TxxuxUy1rWaU"
      },
      "source": [
        "# Horizontal bar chart\n",
        "price.plot.barh()"
      ],
      "execution_count": null,
      "outputs": []
    },
    {
      "cell_type": "code",
      "metadata": {
        "id": "Inr0P4oFrWaU"
      },
      "source": [
        "# Histogram\n",
        "price.plot.hist(bins=10)"
      ],
      "execution_count": null,
      "outputs": []
    },
    {
      "cell_type": "code",
      "metadata": {
        "id": "t0Ja4BeSrWaU"
      },
      "source": [
        "# Box plot\n",
        "price.plot.box()"
      ],
      "execution_count": null,
      "outputs": []
    },
    {
      "cell_type": "code",
      "metadata": {
        "id": "uGQEiZV8rWaU"
      },
      "source": [
        "# Filled plots\n",
        "price.plot.area()"
      ],
      "execution_count": null,
      "outputs": []
    },
    {
      "cell_type": "code",
      "metadata": {
        "id": "EPSgacn0rWaU"
      },
      "source": [
        "# Scatter plot\n",
        "price.plot.scatter(x='ADA', y='DOGE')"
      ],
      "execution_count": null,
      "outputs": []
    },
    {
      "cell_type": "code",
      "metadata": {
        "id": "cZeYeYltrWaU"
      },
      "source": [
        "# Pie chart\n",
        "price.plot.pie(subplots=True, figsize=(15,7.5))"
      ],
      "execution_count": null,
      "outputs": []
    },
    {
      "cell_type": "code",
      "metadata": {
        "collapsed": true,
        "id": "7DaqKK9TrWaU"
      },
      "source": [
        "del price"
      ],
      "execution_count": null,
      "outputs": []
    },
    {
      "cell_type": "markdown",
      "metadata": {
        "id": "Hkc9gFsCrWaU"
      },
      "source": [
        "# NB\n",
        "\n",
        "\n",
        "## Other tools to work with data\n",
        "\n",
        "If your dataset is not too big, then pandas is de facto the best tool available. Otherwise, there are alternatives:\n",
        " - [numpy](http://www.numpy.org/) - library for low-level work with multidimensional arrays of primitive data types. Suitable for \"vectorized\" processing. Numpy is your last chance to still write in regular python without C bindings. Suitable for tasks of fast processing of not too large data. Actually pandas uses numpy under its hood.\n",
        " - [Graphlab](https://turi.com/) - Paid Python library for working with both big data and small datasets. Data is represented as SFrame objects, much like the DataFrame from pandas.\n",
        " - [Hadoop](https://hadoop.apache.org/) - for working with very large data, in particular there is a classic MapReduce.\n",
        " \n",
        "## Other visualization tools\n",
        "\n",
        "\n",
        "There are many more libraries for visualization. Here are the most popular\n",
        " - [Pandas](https://pandas.pydata.org/) - for quick and very easy visualization. Any customization will require knowledge of matplotlib\n",
        " - [Seaborn](https://seaborn.pydata.org/) - A wide but fixed set of sophisticated visualizations with beautiful color schemes. The library is an add-on for matplotlib, and again, fine tuning will require knowledge of matplotlib.\n",
        "   - [Gallery with examples](https://seaborn.pydata.org/examples/index.html)\n",
        "   - [Tutorial](https://seaborn.pydata.org/tutorial.html)\n",
        " - [ggplot](http://ggplot.yhathq.com/) - promising library copied from R. So far at the development stage\n",
        " - [Bokeh](https://bokeh.pydata.org/en/latest/) - for visualization in web\n",
        " - [Plot.ly](https://plot.ly/) - library for interactive and static visualizations. It is aimed at working in the cloud, but it can work locally.\n",
        "   - [Gallery with examples](https://plot.ly/python/)\n",
        "   - [Cheat sheet](https://images.plot.ly/plotly-documentation/images/python_cheat_sheet.pdf)"
      ]
    },
    {
      "cell_type": "code",
      "metadata": {
        "collapsed": true,
        "id": "eCet48zXrWaU"
      },
      "source": [
        ""
      ],
      "execution_count": null,
      "outputs": []
    }
  ]
}