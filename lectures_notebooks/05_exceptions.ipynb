{
  "nbformat": 4,
  "nbformat_minor": 0,
  "metadata": {
    "kernelspec": {
      "display_name": "Python 3",
      "language": "python",
      "name": "python3"
    },
    "language_info": {
      "codemirror_mode": {
        "name": "ipython",
        "version": 3
      },
      "file_extension": ".py",
      "mimetype": "text/x-python",
      "name": "python",
      "nbconvert_exporter": "python",
      "pygments_lexer": "ipython3",
      "version": "3.6.1"
    },
    "colab": {
      "name": "09_exceptions",
      "provenance": []
    }
  },
  "cells": [
    {
      "cell_type": "markdown",
      "metadata": {
        "deletable": true,
        "editable": true,
        "id": "4bb5y-_Jflf7"
      },
      "source": [
        "# Exceptions\n",
        "\n",
        "Any illegal operations such as division by 0 or opening a non-existent file will throw [exceptions](https://docs.python.org/3/library/exceptions.html)."
      ]
    },
    {
      "cell_type": "code",
      "metadata": {
        "deletable": true,
        "editable": true,
        "id": "T8guz-7Nflf9",
        "colab": {
          "base_uri": "https://localhost:8080/",
          "height": 166
        },
        "outputId": "79ac6db0-bdac-4c27-d061-efd49cd4f4e0"
      },
      "source": [
        "1 / 0"
      ],
      "execution_count": 1,
      "outputs": [
        {
          "output_type": "error",
          "ename": "ZeroDivisionError",
          "evalue": "ignored",
          "traceback": [
            "\u001b[0;31m---------------------------------------------------------------------------\u001b[0m",
            "\u001b[0;31mZeroDivisionError\u001b[0m                         Traceback (most recent call last)",
            "\u001b[0;32m<ipython-input-1-bc757c3fda29>\u001b[0m in \u001b[0;36m<module>\u001b[0;34m()\u001b[0m\n\u001b[0;32m----> 1\u001b[0;31m \u001b[0;36m1\u001b[0m \u001b[0;34m/\u001b[0m \u001b[0;36m0\u001b[0m\u001b[0;34m\u001b[0m\u001b[0;34m\u001b[0m\u001b[0m\n\u001b[0m",
            "\u001b[0;31mZeroDivisionError\u001b[0m: division by zero"
          ]
        }
      ]
    },
    {
      "cell_type": "markdown",
      "metadata": {
        "deletable": true,
        "editable": true,
        "id": "WR6Ak6IRflf-"
      },
      "source": [
        "Exceptions can be caught, and if they occur, some corrective code can be executed."
      ]
    },
    {
      "cell_type": "code",
      "metadata": {
        "collapsed": true,
        "deletable": true,
        "editable": true,
        "id": "I0JtRWl7flf-"
      },
      "source": [
        "try:\n",
        "    x = 0\n",
        "    # x = 1 / x\n",
        "except ZeroDivisionError:\n",
        "    x = 5"
      ],
      "execution_count": 7,
      "outputs": []
    },
    {
      "cell_type": "code",
      "metadata": {
        "deletable": true,
        "editable": true,
        "id": "mSnH9FVfflf-",
        "colab": {
          "base_uri": "https://localhost:8080/"
        },
        "outputId": "49979016-02f1-415c-a0c1-b9498bb2a350"
      },
      "source": [
        "x"
      ],
      "execution_count": 5,
      "outputs": [
        {
          "output_type": "execute_result",
          "data": {
            "text/plain": [
              "0"
            ]
          },
          "metadata": {},
          "execution_count": 5
        }
      ]
    },
    {
      "cell_type": "code",
      "metadata": {
        "deletable": true,
        "editable": true,
        "id": "a66WtP1uflf_",
        "colab": {
          "base_uri": "https://localhost:8080/"
        },
        "outputId": "e8bf61ac-e4f1-407a-9163-d6546dc47687"
      },
      "source": [
        "try:\n",
        "    s = 'xyzzy'\n",
        "    f = open(s)\n",
        "except IOError:\n",
        "    print('cannot open ' + s)"
      ],
      "execution_count": 6,
      "outputs": [
        {
          "output_type": "stream",
          "name": "stdout",
          "text": [
            "cannot open xyzzy\n"
          ]
        }
      ]
    },
    {
      "cell_type": "markdown",
      "metadata": {
        "deletable": true,
        "editable": true,
        "id": "xlNUfXLIflf_"
      },
      "source": [
        "Exceptions are objects. The `Exception` class is the root of the exception class tree. This object can be caught and examined."
      ]
    },
    {
      "cell_type": "code",
      "metadata": {
        "deletable": true,
        "editable": true,
        "id": "VVD2OQcKflf_",
        "colab": {
          "base_uri": "https://localhost:8080/"
        },
        "outputId": "a17082b6-36ea-4b18-9c20-db19041cc439"
      },
      "source": [
        "try:\n",
        "    x = 1 / 0\n",
        "except Exception as err:\n",
        "    print(type(err))\n",
        "    print(err)\n",
        "    print(repr(err))\n",
        "    print(err.args)"
      ],
      "execution_count": 8,
      "outputs": [
        {
          "output_type": "stream",
          "name": "stdout",
          "text": [
            "<class 'ZeroDivisionError'>\n",
            "division by zero\n",
            "ZeroDivisionError('division by zero')\n",
            "('division by zero',)\n"
          ]
        }
      ]
    },
    {
      "cell_type": "markdown",
      "metadata": {
        "deletable": true,
        "editable": true,
        "id": "dZ_GGMW0flf_"
      },
      "source": [
        "If an unacceptable situation occurs in your code, you need to raise an exception with the `raise` kw."
      ]
    },
    {
      "cell_type": "code",
      "metadata": {
        "deletable": true,
        "editable": true,
        "id": "Bp4Y2MlMflgA",
        "colab": {
          "base_uri": "https://localhost:8080/",
          "height": 166
        },
        "outputId": "727a15fc-f6dc-4e15-c4d2-f5112160ea06"
      },
      "source": [
        "raise NameError('Hi there')"
      ],
      "execution_count": 9,
      "outputs": [
        {
          "output_type": "error",
          "ename": "NameError",
          "evalue": "ignored",
          "traceback": [
            "\u001b[0;31m---------------------------------------------------------------------------\u001b[0m",
            "\u001b[0;31mNameError\u001b[0m                                 Traceback (most recent call last)",
            "\u001b[0;32m<ipython-input-9-8d5113bf2eff>\u001b[0m in \u001b[0;36m<module>\u001b[0;34m()\u001b[0m\n\u001b[0;32m----> 1\u001b[0;31m \u001b[0;32mraise\u001b[0m \u001b[0mNameError\u001b[0m\u001b[0;34m(\u001b[0m\u001b[0;34m'Hi there'\u001b[0m\u001b[0;34m)\u001b[0m\u001b[0;34m\u001b[0m\u001b[0;34m\u001b[0m\u001b[0m\n\u001b[0m",
            "\u001b[0;31mNameError\u001b[0m: Hi there"
          ]
        }
      ]
    },
    {
      "cell_type": "markdown",
      "metadata": {
        "deletable": true,
        "editable": true,
        "id": "kJaOqFmXflgA"
      },
      "source": [
        "Here's a more helpful example."
      ]
    },
    {
      "cell_type": "code",
      "metadata": {
        "collapsed": true,
        "deletable": true,
        "editable": true,
        "id": "8I3rpN0rflgA"
      },
      "source": [
        "def f(x):\n",
        "    if x == 0:\n",
        "        raise ValueError('x should not be 0')\n",
        "    return x"
      ],
      "execution_count": 10,
      "outputs": []
    },
    {
      "cell_type": "code",
      "metadata": {
        "deletable": true,
        "editable": true,
        "id": "QRDmxCulflgA",
        "colab": {
          "base_uri": "https://localhost:8080/"
        },
        "outputId": "95b0906e-004a-4576-8afb-9fbcafa31a27"
      },
      "source": [
        "try:\n",
        "    x = f(1)\n",
        "    x = f(0)\n",
        "except ValueError as err:\n",
        "    print(repr(err))"
      ],
      "execution_count": 11,
      "outputs": [
        {
          "output_type": "stream",
          "name": "stdout",
          "text": [
            "ValueError('x should not be 0')\n"
          ]
        }
      ]
    },
    {
      "cell_type": "markdown",
      "metadata": {
        "deletable": true,
        "editable": true,
        "id": "1PCLc3wmflgB"
      },
      "source": [
        "Naturally, you can define your own exception classes by inheriting from `Exception` or from some of its descendants that are suitable in meaning. This is exactly what you need to do so that your exceptions are not confused with system exceptions."
      ]
    },
    {
      "cell_type": "code",
      "metadata": {
        "collapsed": true,
        "deletable": true,
        "editable": true,
        "id": "Mw7yyPOTflgB"
      },
      "source": [
        "class MyError(Exception):\n",
        "    \n",
        "    def __init__(self, value):\n",
        "        self.value = value\n",
        "        \n",
        "    def __str__(self):\n",
        "        return 'wrong value ' + str(self.value)"
      ],
      "execution_count": 18,
      "outputs": []
    },
    {
      "cell_type": "code",
      "metadata": {
        "collapsed": true,
        "deletable": true,
        "editable": true,
        "id": "qlSnH1s_flgB"
      },
      "source": [
        "def f(x):\n",
        "    if x < 0:\n",
        "        raise MyError(x)\n",
        "    else:\n",
        "        return x"
      ],
      "execution_count": 20,
      "outputs": []
    },
    {
      "cell_type": "code",
      "metadata": {
        "deletable": true,
        "editable": true,
        "id": "VhB7lx_BflgB",
        "colab": {
          "base_uri": "https://localhost:8080/"
        },
        "outputId": "71a47329-2ceb-4a57-f7a0-71eea18ef4f0"
      },
      "source": [
        "try:\n",
        "    x = f(2)\n",
        "    x = f(-2)\n",
        "except MyError as err:\n",
        "    print(err)"
      ],
      "execution_count": 21,
      "outputs": [
        {
          "output_type": "stream",
          "name": "stdout",
          "text": [
            "wrong value -2\n"
          ]
        }
      ]
    },
    {
      "cell_type": "code",
      "metadata": {
        "deletable": true,
        "editable": true,
        "id": "cujqHjjFflgB",
        "colab": {
          "base_uri": "https://localhost:8080/"
        },
        "outputId": "ed9c356b-eaa1-4f78-e99b-02391de0d390"
      },
      "source": [
        "x"
      ],
      "execution_count": 14,
      "outputs": [
        {
          "output_type": "execute_result",
          "data": {
            "text/plain": [
              "2"
            ]
          },
          "metadata": {},
          "execution_count": 14
        }
      ]
    }
  ]
}