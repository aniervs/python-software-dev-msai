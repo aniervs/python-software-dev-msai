{
  "nbformat": 4,
  "nbformat_minor": 0,
  "metadata": {
    "kernelspec": {
      "display_name": "Python 3",
      "language": "python",
      "name": "python3"
    },
    "language_info": {
      "codemirror_mode": {
        "name": "ipython",
        "version": 3
      },
      "file_extension": ".py",
      "mimetype": "text/x-python",
      "name": "python",
      "nbconvert_exporter": "python",
      "pygments_lexer": "ipython3",
      "version": "3.6.1"
    },
    "colab": {
      "name": "09_input_output",
      "provenance": [],
      "collapsed_sections": []
    }
  },
  "cells": [
    {
      "cell_type": "code",
      "metadata": {
        "id": "DXCsfc3f3L8W"
      },
      "source": [
        "# create simple file with 3 strings\n",
        "!echo 'abcd' >> sample_text.txt\n",
        "!echo 'efgh' >> sample_text.txt\n",
        "!echo 'ijkl' >> sample_text.txt"
      ],
      "execution_count": 33,
      "outputs": []
    },
    {
      "cell_type": "markdown",
      "metadata": {
        "deletable": true,
        "editable": true,
        "id": "_TUJzRkGfOOw"
      },
      "source": [
        "# I / O, files, directories\n",
        "\n",
        "Let's open a text file for reading (when the second argument is not specified, the file is opened for reading)"
      ]
    },
    {
      "cell_type": "code",
      "metadata": {
        "deletable": true,
        "editable": true,
        "colab": {
          "base_uri": "https://localhost:8080/",
          "height": 184
        },
        "id": "Z9XZgS3FfOOz",
        "outputId": "8668f4e9-d135-4370-c4af-e3761d7d12ef"
      },
      "source": [
        "f = open('sample_text.txt')\n",
        "f, type(f)"
      ],
      "execution_count": 21,
      "outputs": [
        {
          "output_type": "error",
          "ename": "FileNotFoundError",
          "evalue": "ignored",
          "traceback": [
            "\u001b[0;31m---------------------------------------------------------------------------\u001b[0m",
            "\u001b[0;31mFileNotFoundError\u001b[0m                         Traceback (most recent call last)",
            "\u001b[0;32m<ipython-input-21-f2202d2f04d2>\u001b[0m in \u001b[0;36m<module>\u001b[0;34m()\u001b[0m\n\u001b[0;32m----> 1\u001b[0;31m \u001b[0mf\u001b[0m \u001b[0;34m=\u001b[0m \u001b[0mopen\u001b[0m\u001b[0;34m(\u001b[0m\u001b[0;34m'text.txt'\u001b[0m\u001b[0;34m)\u001b[0m\u001b[0;34m\u001b[0m\u001b[0;34m\u001b[0m\u001b[0m\n\u001b[0m\u001b[1;32m      2\u001b[0m \u001b[0mf\u001b[0m\u001b[0;34m,\u001b[0m \u001b[0mtype\u001b[0m\u001b[0;34m(\u001b[0m\u001b[0mf\u001b[0m\u001b[0;34m)\u001b[0m\u001b[0;34m\u001b[0m\u001b[0;34m\u001b[0m\u001b[0m\n",
            "\u001b[0;31mFileNotFoundError\u001b[0m: [Errno 2] No such file or directory: 'text.txt'"
          ]
        }
      ]
    },
    {
      "cell_type": "markdown",
      "metadata": {
        "deletable": true,
        "editable": true,
        "id": "i4H9yEp8fOO1"
      },
      "source": [
        "The result is an object `f` of one of the file types. What can you do with it? You can use it in a `for` loop, each time the next line of the file will be returned (including the `'\\n'` at the end; at the end of the last line of the text file there may be no `'\\n'`)."
      ]
    },
    {
      "cell_type": "code",
      "metadata": {
        "deletable": true,
        "editable": true,
        "colab": {
          "base_uri": "https://localhost:8080/"
        },
        "id": "VVyMeQdnfOO2",
        "outputId": "2b28d25e-a776-40b8-dfb9-0ea4874d68c7"
      },
      "source": [
        "for s in f:\n",
        "    print(s)"
      ],
      "execution_count": 9,
      "outputs": [
        {
          "output_type": "stream",
          "name": "stdout",
          "text": [
            "abcd\n",
            "\n",
            "efgh\n",
            "\n",
            "ijkl\n"
          ]
        }
      ]
    },
    {
      "cell_type": "markdown",
      "metadata": {
        "deletable": true,
        "editable": true,
        "id": "4v2sNpU-fOO3"
      },
      "source": [
        "Now the file needs to be closed."
      ]
    },
    {
      "cell_type": "code",
      "metadata": {
        "collapsed": true,
        "deletable": true,
        "editable": true,
        "id": "L6eEconzfOO3"
      },
      "source": [
        "f.close()"
      ],
      "execution_count": 10,
      "outputs": []
    },
    {
      "cell_type": "code",
      "metadata": {
        "id": "DpNVSiiMKOPV"
      },
      "source": [
        "# open()\n",
        "# work with file\n",
        "# close()"
      ],
      "execution_count": null,
      "outputs": []
    },
    {
      "cell_type": "code",
      "metadata": {
        "deletable": true,
        "editable": true,
        "id": "pUTwjhG8fOO5"
      },
      "source": [
        "with open('sample_data/text.txt') as f:\n",
        "    for s in f:\n",
        "        print(s[:-1])"
      ],
      "execution_count": null,
      "outputs": []
    },
    {
      "cell_type": "markdown",
      "metadata": {
        "deletable": true,
        "editable": true,
        "id": "EqBRjBYMfOO5"
      },
      "source": [
        "The `f.read (n)` method reads `n` characters (when the file is near the end and it is already impossible to read exactly` n` characters, it reads less; the last time it reads 0 characters and returns `` ''). Let's read the file 1 character at a time."
      ]
    },
    {
      "cell_type": "code",
      "metadata": {
        "id": "JrlEyqEnf4li"
      },
      "source": [
        "!mv sample_data/text.txt ."
      ],
      "execution_count": 12,
      "outputs": []
    },
    {
      "cell_type": "code",
      "metadata": {
        "colab": {
          "base_uri": "https://localhost:8080/"
        },
        "id": "d7UwatO3f9oT",
        "outputId": "30311151-b06e-412d-a10f-ba6ce9693892"
      },
      "source": [
        "!ls"
      ],
      "execution_count": 13,
      "outputs": [
        {
          "output_type": "stream",
          "name": "stdout",
          "text": [
            "sample_data  text.txt\n"
          ]
        }
      ]
    },
    {
      "cell_type": "code",
      "metadata": {
        "deletable": true,
        "editable": true,
        "colab": {
          "base_uri": "https://localhost:8080/"
        },
        "id": "71l2WwVTfOO6",
        "outputId": "90273ee4-155e-4cb8-f289-dd794d918c4a"
      },
      "source": [
        "with open('text.txt') as f:\n",
        "    while True:\n",
        "        c = f.read(1)\n",
        "        if c == '':\n",
        "            break\n",
        "        else:\n",
        "            print(c)"
      ],
      "execution_count": 14,
      "outputs": [
        {
          "output_type": "stream",
          "name": "stdout",
          "text": [
            "a\n",
            "b\n",
            "c\n",
            "d\n",
            "\n",
            "\n",
            "e\n",
            "f\n",
            "g\n",
            "h\n",
            "\n",
            "\n",
            "i\n",
            "j\n",
            "k\n",
            "l\n"
          ]
        }
      ]
    },
    {
      "cell_type": "code",
      "metadata": {
        "deletable": true,
        "editable": true,
        "colab": {
          "base_uri": "https://localhost:8080/",
          "height": 35
        },
        "id": "zfth2Xw-fOO7",
        "outputId": "636f2aff-ced2-423b-f723-4378056cc0cd"
      },
      "source": [
        "with open('text.txt') as f:\n",
        "    s = f.read()\n",
        "s"
      ],
      "execution_count": 15,
      "outputs": [
        {
          "output_type": "execute_result",
          "data": {
            "application/vnd.google.colaboratory.intrinsic+json": {
              "type": "string"
            },
            "text/plain": [
              "'abcd\\nefgh\\nijkl'"
            ]
          },
          "metadata": {},
          "execution_count": 15
        }
      ]
    },
    {
      "cell_type": "code",
      "metadata": {
        "deletable": true,
        "editable": true,
        "colab": {
          "base_uri": "https://localhost:8080/"
        },
        "id": "5drUgnNkfOO8",
        "outputId": "69a1670a-c6ff-45a4-82bb-3d4a6ec7891c"
      },
      "source": [
        "with open('text.txt') as f:\n",
        "    while True:\n",
        "        s = f.readline()\n",
        "        if s == '':\n",
        "            break\n",
        "        else:\n",
        "            print(s)"
      ],
      "execution_count": 16,
      "outputs": [
        {
          "output_type": "stream",
          "name": "stdout",
          "text": [
            "abcd\n",
            "\n",
            "efgh\n",
            "\n",
            "ijkl\n"
          ]
        }
      ]
    },
    {
      "cell_type": "code",
      "metadata": {
        "colab": {
          "base_uri": "https://localhost:8080/"
        },
        "id": "_SpjHzFpL3lJ",
        "outputId": "f9286f6a-3e54-4ebd-edce-c27fa49a5843"
      },
      "source": [
        "with open('text.txt') as f:\n",
        "    s1 = f.readline()\n",
        "    s2 = f.readline()\n",
        "    s3 = f.readline()\n",
        "\n",
        "print(s1, s2, s3, sep='\\n')"
      ],
      "execution_count": 17,
      "outputs": [
        {
          "output_type": "stream",
          "name": "stdout",
          "text": [
            "abcd\n",
            "\n",
            "efgh\n",
            "\n",
            "ijkl\n"
          ]
        }
      ]
    },
    {
      "cell_type": "markdown",
      "metadata": {
        "deletable": true,
        "editable": true,
        "id": "F8QVYE0-fOO8"
      },
      "source": [
        "The `f.readlines ()` method returns a list of strings (again, it's best not to use it for very large files)."
      ]
    },
    {
      "cell_type": "code",
      "metadata": {
        "deletable": true,
        "editable": true,
        "colab": {
          "base_uri": "https://localhost:8080/"
        },
        "id": "DrjMn2S_fOO9",
        "outputId": "4f5413dd-859f-447d-811a-30a21ddef1f1"
      },
      "source": [
        "with open('text.txt') as f:\n",
        "    lst = f.readlines()\n",
        "lst"
      ],
      "execution_count": 19,
      "outputs": [
        {
          "output_type": "execute_result",
          "data": {
            "text/plain": [
              "['abcd\\n', 'efgh\\n', 'ijkl']"
            ]
          },
          "metadata": {},
          "execution_count": 19
        }
      ]
    },
    {
      "cell_type": "markdown",
      "metadata": {
        "deletable": true,
        "editable": true,
        "id": "8voxVsf8fOO9"
      },
      "source": [
        "Now let's see why the with statement is better than the open - close pair."
      ]
    },
    {
      "cell_type": "code",
      "metadata": {
        "collapsed": true,
        "deletable": true,
        "editable": true,
        "id": "5dOGPtOAfOO9"
      },
      "source": [
        "def a(name):\n",
        "    global f\n",
        "    f = open(name)\n",
        "    s = f.readline()\n",
        "    n = 1 / 0\n",
        "    f.close()\n",
        "    return s"
      ],
      "execution_count": 20,
      "outputs": []
    },
    {
      "cell_type": "code",
      "metadata": {
        "deletable": true,
        "editable": true,
        "colab": {
          "base_uri": "https://localhost:8080/",
          "height": 288
        },
        "id": "NjthTZonfOO9",
        "outputId": "2c7646b5-885b-4864-c286-f5fcf9ee8077"
      },
      "source": [
        "a('text.txt')"
      ],
      "execution_count": 21,
      "outputs": [
        {
          "output_type": "error",
          "ename": "ZeroDivisionError",
          "evalue": "ignored",
          "traceback": [
            "\u001b[0;31m---------------------------------------------------------------------------\u001b[0m",
            "\u001b[0;31mZeroDivisionError\u001b[0m                         Traceback (most recent call last)",
            "\u001b[0;32m<ipython-input-21-531c388ec361>\u001b[0m in \u001b[0;36m<module>\u001b[0;34m()\u001b[0m\n\u001b[0;32m----> 1\u001b[0;31m \u001b[0ma\u001b[0m\u001b[0;34m(\u001b[0m\u001b[0;34m'text.txt'\u001b[0m\u001b[0;34m)\u001b[0m\u001b[0;34m\u001b[0m\u001b[0;34m\u001b[0m\u001b[0m\n\u001b[0m",
            "\u001b[0;32m<ipython-input-20-0b2fccf1c47f>\u001b[0m in \u001b[0;36ma\u001b[0;34m(name)\u001b[0m\n\u001b[1;32m      3\u001b[0m     \u001b[0mf\u001b[0m \u001b[0;34m=\u001b[0m \u001b[0mopen\u001b[0m\u001b[0;34m(\u001b[0m\u001b[0mname\u001b[0m\u001b[0;34m)\u001b[0m\u001b[0;34m\u001b[0m\u001b[0;34m\u001b[0m\u001b[0m\n\u001b[1;32m      4\u001b[0m     \u001b[0ms\u001b[0m \u001b[0;34m=\u001b[0m \u001b[0mf\u001b[0m\u001b[0;34m.\u001b[0m\u001b[0mreadline\u001b[0m\u001b[0;34m(\u001b[0m\u001b[0;34m)\u001b[0m\u001b[0;34m\u001b[0m\u001b[0;34m\u001b[0m\u001b[0m\n\u001b[0;32m----> 5\u001b[0;31m     \u001b[0mn\u001b[0m \u001b[0;34m=\u001b[0m \u001b[0;36m1\u001b[0m \u001b[0;34m/\u001b[0m \u001b[0;36m0\u001b[0m\u001b[0;34m\u001b[0m\u001b[0;34m\u001b[0m\u001b[0m\n\u001b[0m\u001b[1;32m      6\u001b[0m     \u001b[0mf\u001b[0m\u001b[0;34m.\u001b[0m\u001b[0mclose\u001b[0m\u001b[0;34m(\u001b[0m\u001b[0;34m)\u001b[0m\u001b[0;34m\u001b[0m\u001b[0;34m\u001b[0m\u001b[0m\n\u001b[1;32m      7\u001b[0m     \u001b[0;32mreturn\u001b[0m \u001b[0ms\u001b[0m\u001b[0;34m\u001b[0m\u001b[0;34m\u001b[0m\u001b[0m\n",
            "\u001b[0;31mZeroDivisionError\u001b[0m: division by zero"
          ]
        }
      ]
    },
    {
      "cell_type": "code",
      "metadata": {
        "deletable": true,
        "editable": true,
        "colab": {
          "base_uri": "https://localhost:8080/"
        },
        "id": "_S1AmqPwfOO-",
        "outputId": "02893c3e-7dc7-4bf2-e508-ed552a1e6000"
      },
      "source": [
        "f.closed"
      ],
      "execution_count": 22,
      "outputs": [
        {
          "output_type": "execute_result",
          "data": {
            "text/plain": [
              "False"
            ]
          },
          "metadata": {},
          "execution_count": 22
        }
      ]
    },
    {
      "cell_type": "code",
      "metadata": {
        "collapsed": true,
        "deletable": true,
        "editable": true,
        "id": "zSvUdpdNfOO-"
      },
      "source": [
        "f.close()"
      ],
      "execution_count": 23,
      "outputs": []
    },
    {
      "cell_type": "markdown",
      "metadata": {
        "deletable": true,
        "editable": true,
        "id": "00pDllA5fOO-"
      },
      "source": [
        "An exception occurred, we left the function before the `close` line, and the file was not closed."
      ]
    },
    {
      "cell_type": "code",
      "metadata": {
        "collapsed": true,
        "deletable": true,
        "editable": true,
        "id": "8M8p-ZwofOO_"
      },
      "source": [
        "def a(name):\n",
        "    global f\n",
        "    with open(name) as f:\n",
        "        s = f.readline()\n",
        "        n = 1 / 0\n",
        "    return s"
      ],
      "execution_count": 24,
      "outputs": []
    },
    {
      "cell_type": "code",
      "metadata": {
        "deletable": true,
        "editable": true,
        "colab": {
          "base_uri": "https://localhost:8080/",
          "height": 270
        },
        "id": "MtvqurMXfOO_",
        "outputId": "620ec837-a9dd-499f-90ca-0d11eeea0a7b"
      },
      "source": [
        "a('text.txt')"
      ],
      "execution_count": 25,
      "outputs": [
        {
          "output_type": "error",
          "ename": "ZeroDivisionError",
          "evalue": "ignored",
          "traceback": [
            "\u001b[0;31m---------------------------------------------------------------------------\u001b[0m",
            "\u001b[0;31mZeroDivisionError\u001b[0m                         Traceback (most recent call last)",
            "\u001b[0;32m<ipython-input-25-531c388ec361>\u001b[0m in \u001b[0;36m<module>\u001b[0;34m()\u001b[0m\n\u001b[0;32m----> 1\u001b[0;31m \u001b[0ma\u001b[0m\u001b[0;34m(\u001b[0m\u001b[0;34m'text.txt'\u001b[0m\u001b[0;34m)\u001b[0m\u001b[0;34m\u001b[0m\u001b[0;34m\u001b[0m\u001b[0m\n\u001b[0m",
            "\u001b[0;32m<ipython-input-24-6e32ca59bd45>\u001b[0m in \u001b[0;36ma\u001b[0;34m(name)\u001b[0m\n\u001b[1;32m      3\u001b[0m     \u001b[0;32mwith\u001b[0m \u001b[0mopen\u001b[0m\u001b[0;34m(\u001b[0m\u001b[0mname\u001b[0m\u001b[0;34m)\u001b[0m \u001b[0;32mas\u001b[0m \u001b[0mf\u001b[0m\u001b[0;34m:\u001b[0m\u001b[0;34m\u001b[0m\u001b[0;34m\u001b[0m\u001b[0m\n\u001b[1;32m      4\u001b[0m         \u001b[0ms\u001b[0m \u001b[0;34m=\u001b[0m \u001b[0mf\u001b[0m\u001b[0;34m.\u001b[0m\u001b[0mreadline\u001b[0m\u001b[0;34m(\u001b[0m\u001b[0;34m)\u001b[0m\u001b[0;34m\u001b[0m\u001b[0;34m\u001b[0m\u001b[0m\n\u001b[0;32m----> 5\u001b[0;31m         \u001b[0mn\u001b[0m \u001b[0;34m=\u001b[0m \u001b[0;36m1\u001b[0m \u001b[0;34m/\u001b[0m \u001b[0;36m0\u001b[0m\u001b[0;34m\u001b[0m\u001b[0;34m\u001b[0m\u001b[0m\n\u001b[0m\u001b[1;32m      6\u001b[0m     \u001b[0;32mreturn\u001b[0m \u001b[0ms\u001b[0m\u001b[0;34m\u001b[0m\u001b[0;34m\u001b[0m\u001b[0m\n",
            "\u001b[0;31mZeroDivisionError\u001b[0m: division by zero"
          ]
        }
      ]
    },
    {
      "cell_type": "code",
      "metadata": {
        "deletable": true,
        "editable": true,
        "colab": {
          "base_uri": "https://localhost:8080/"
        },
        "id": "VfuIw2OKfOO_",
        "outputId": "36e12180-f698-4952-ad23-8104e2f9d336"
      },
      "source": [
        "f.closed"
      ],
      "execution_count": 26,
      "outputs": [
        {
          "output_type": "execute_result",
          "data": {
            "text/plain": [
              "True"
            ]
          },
          "metadata": {},
          "execution_count": 26
        }
      ]
    },
    {
      "cell_type": "markdown",
      "metadata": {
        "deletable": true,
        "editable": true,
        "id": "2M9_CrsIfOO_"
      },
      "source": [
        "Now everything is all right.\n",
        "\n",
        "To open the file for writing, you need to include the second argument `` w ''."
      ]
    },
    {
      "cell_type": "code",
      "metadata": {
        "collapsed": true,
        "deletable": true,
        "editable": true,
        "id": "ypQctoTXfOPA"
      },
      "source": [
        "f = open('newtext.txt', 'w')"
      ],
      "execution_count": 27,
      "outputs": []
    },
    {
      "cell_type": "code",
      "metadata": {
        "deletable": true,
        "editable": true,
        "colab": {
          "base_uri": "https://localhost:8080/"
        },
        "id": "tEV-TQYVfOPA",
        "outputId": "c5a4e319-9fd8-48e8-8a59-d3d7c0887279"
      },
      "source": [
        "f.write('aaa\\n')"
      ],
      "execution_count": 28,
      "outputs": [
        {
          "output_type": "execute_result",
          "data": {
            "text/plain": [
              "4"
            ]
          },
          "metadata": {},
          "execution_count": 28
        }
      ]
    },
    {
      "cell_type": "code",
      "metadata": {
        "deletable": true,
        "editable": true,
        "colab": {
          "base_uri": "https://localhost:8080/"
        },
        "id": "gYeZo0ZHfOPA",
        "outputId": "464d6d96-ee09-40da-9651-a9fb3b4dbc37"
      },
      "source": [
        "f.write('bbb\\n')"
      ],
      "execution_count": 29,
      "outputs": [
        {
          "output_type": "execute_result",
          "data": {
            "text/plain": [
              "4"
            ]
          },
          "metadata": {},
          "execution_count": 29
        }
      ]
    },
    {
      "cell_type": "code",
      "metadata": {
        "deletable": true,
        "editable": true,
        "colab": {
          "base_uri": "https://localhost:8080/"
        },
        "id": "fA8LA7lzfOPA",
        "outputId": "e210425f-8563-45ae-99ae-775ce20f915b"
      },
      "source": [
        "f.write('ccc\\n')"
      ],
      "execution_count": 30,
      "outputs": [
        {
          "output_type": "execute_result",
          "data": {
            "text/plain": [
              "4"
            ]
          },
          "metadata": {},
          "execution_count": 30
        }
      ]
    },
    {
      "cell_type": "code",
      "metadata": {
        "collapsed": true,
        "deletable": true,
        "editable": true,
        "id": "nq9ECxASfOPB"
      },
      "source": [
        "f.close()"
      ],
      "execution_count": 31,
      "outputs": []
    },
    {
      "cell_type": "code",
      "metadata": {
        "colab": {
          "base_uri": "https://localhost:8080/"
        },
        "id": "FFgsA3d9NhbS",
        "outputId": "34373b58-44bd-4f25-c55d-6bd96404b227"
      },
      "source": [
        "!cat newtext.txt"
      ],
      "execution_count": 32,
      "outputs": [
        {
          "output_type": "stream",
          "name": "stdout",
          "text": [
            "aaa\n",
            "bbb\n",
            "ccc\n"
          ]
        }
      ]
    },
    {
      "cell_type": "code",
      "metadata": {
        "deletable": true,
        "editable": true,
        "id": "wxkaE9RZfOPB"
      },
      "source": [
        "with open('newtext.txt', 'w') as f:\n",
        "    f.write('aaa\\n')\n",
        "    f.write('bbb\\n')\n",
        "    f.write('ccc\\n')"
      ],
      "execution_count": 33,
      "outputs": []
    },
    {
      "cell_type": "code",
      "metadata": {
        "deletable": true,
        "editable": true,
        "colab": {
          "base_uri": "https://localhost:8080/"
        },
        "id": "7QU2ezyPfOPB",
        "outputId": "ee4486d0-976d-4906-b239-6f734305cd60"
      },
      "source": [
        "!cat newtext.txt"
      ],
      "execution_count": 34,
      "outputs": [
        {
          "output_type": "stream",
          "name": "stdout",
          "text": [
            "aaa\n",
            "bbb\n",
            "ccc\n"
          ]
        }
      ]
    },
    {
      "cell_type": "markdown",
      "metadata": {
        "deletable": true,
        "editable": true,
        "id": "4VFPp7jffOPB"
      },
      "source": [
        "This function copies the old text file to the new one. If the lines need to be processed somehow, the last line will contain something like `f (line)` instead of `line`."
      ]
    },
    {
      "cell_type": "code",
      "metadata": {
        "collapsed": true,
        "deletable": true,
        "editable": true,
        "id": "00Kk9VUjfOPC"
      },
      "source": [
        "def copy(old_name, new_name):\n",
        "    with open(old_name) as old, open(new_name, 'w') as new:\n",
        "        for line in old:\n",
        "            new.write(line)"
      ],
      "execution_count": 35,
      "outputs": []
    },
    {
      "cell_type": "code",
      "metadata": {
        "collapsed": true,
        "deletable": true,
        "editable": true,
        "id": "tvd3P227fOPC"
      },
      "source": [
        "copy('text.txt', 'newtext.txt')"
      ],
      "execution_count": 36,
      "outputs": []
    },
    {
      "cell_type": "code",
      "metadata": {
        "deletable": true,
        "editable": true,
        "colab": {
          "base_uri": "https://localhost:8080/"
        },
        "id": "b9SHjRqUfOPC",
        "outputId": "6fe29832-9d61-432e-ead5-93c13a30909a"
      },
      "source": [
        "!cat newtext.txt"
      ],
      "execution_count": 37,
      "outputs": [
        {
          "output_type": "stream",
          "name": "stdout",
          "text": [
            "abcd\n",
            "efgh\n",
            "ijkl"
          ]
        }
      ]
    },
    {
      "cell_type": "code",
      "metadata": {
        "id": "ZQuWyqZ6QLRa"
      },
      "source": [
        "class Connection:\n",
        "\n",
        "    def __init__(self):\n",
        "        self.opened = False\n",
        "    \n",
        "    def __enter__(self):\n",
        "        print('Opening')\n",
        "        self.opened = True\n",
        "    \n",
        "    def __exit__(self, ex_type, ex_value, ex_traceback):\n",
        "        if ex_value:\n",
        "            print(f'Exeption {ex_value}')\n",
        "        print('Closing')\n",
        "        self.opened = False\n"
      ],
      "execution_count": 38,
      "outputs": []
    },
    {
      "cell_type": "code",
      "metadata": {
        "id": "7A9RCEtARtI0"
      },
      "source": [
        "def f(x):\n",
        "    with Connection() as f:\n",
        "        x = 1 / x\n",
        "    return x"
      ],
      "execution_count": 39,
      "outputs": []
    },
    {
      "cell_type": "code",
      "metadata": {
        "colab": {
          "base_uri": "https://localhost:8080/"
        },
        "id": "GrsBuQCESFFY",
        "outputId": "0f738bbd-fb70-4ba4-f59f-c7cd0b615540"
      },
      "source": [
        "f(2)"
      ],
      "execution_count": 40,
      "outputs": [
        {
          "output_type": "stream",
          "name": "stdout",
          "text": [
            "Opening\n",
            "Closing\n"
          ]
        },
        {
          "output_type": "execute_result",
          "data": {
            "text/plain": [
              "0.5"
            ]
          },
          "metadata": {},
          "execution_count": 40
        }
      ]
    },
    {
      "cell_type": "code",
      "metadata": {
        "colab": {
          "base_uri": "https://localhost:8080/",
          "height": 322
        },
        "id": "Ry65mV6ISIz2",
        "outputId": "183e6e67-a465-4e85-aa4e-19a349c5539d"
      },
      "source": [
        "f(0)"
      ],
      "execution_count": 41,
      "outputs": [
        {
          "output_type": "stream",
          "name": "stdout",
          "text": [
            "Opening\n",
            "Exeption division by zero\n",
            "Closing\n"
          ]
        },
        {
          "output_type": "error",
          "ename": "ZeroDivisionError",
          "evalue": "ignored",
          "traceback": [
            "\u001b[0;31m---------------------------------------------------------------------------\u001b[0m",
            "\u001b[0;31mZeroDivisionError\u001b[0m                         Traceback (most recent call last)",
            "\u001b[0;32m<ipython-input-41-6bfbdbfff9c4>\u001b[0m in \u001b[0;36m<module>\u001b[0;34m()\u001b[0m\n\u001b[0;32m----> 1\u001b[0;31m \u001b[0mf\u001b[0m\u001b[0;34m(\u001b[0m\u001b[0;36m0\u001b[0m\u001b[0;34m)\u001b[0m\u001b[0;34m\u001b[0m\u001b[0;34m\u001b[0m\u001b[0m\n\u001b[0m",
            "\u001b[0;32m<ipython-input-39-69f768c22b41>\u001b[0m in \u001b[0;36mf\u001b[0;34m(x)\u001b[0m\n\u001b[1;32m      1\u001b[0m \u001b[0;32mdef\u001b[0m \u001b[0mf\u001b[0m\u001b[0;34m(\u001b[0m\u001b[0mx\u001b[0m\u001b[0;34m)\u001b[0m\u001b[0;34m:\u001b[0m\u001b[0;34m\u001b[0m\u001b[0;34m\u001b[0m\u001b[0m\n\u001b[1;32m      2\u001b[0m     \u001b[0;32mwith\u001b[0m \u001b[0mConnection\u001b[0m\u001b[0;34m(\u001b[0m\u001b[0;34m)\u001b[0m \u001b[0;32mas\u001b[0m \u001b[0mf\u001b[0m\u001b[0;34m:\u001b[0m\u001b[0;34m\u001b[0m\u001b[0;34m\u001b[0m\u001b[0m\n\u001b[0;32m----> 3\u001b[0;31m         \u001b[0mx\u001b[0m \u001b[0;34m=\u001b[0m \u001b[0;36m1\u001b[0m \u001b[0;34m/\u001b[0m \u001b[0mx\u001b[0m\u001b[0;34m\u001b[0m\u001b[0;34m\u001b[0m\u001b[0m\n\u001b[0m\u001b[1;32m      4\u001b[0m     \u001b[0;32mreturn\u001b[0m \u001b[0mx\u001b[0m\u001b[0;34m\u001b[0m\u001b[0;34m\u001b[0m\u001b[0m\n",
            "\u001b[0;31mZeroDivisionError\u001b[0m: division by zero"
          ]
        }
      ]
    },
    {
      "cell_type": "markdown",
      "metadata": {
        "deletable": true,
        "editable": true,
        "id": "_rr4viXVfOPC"
      },
      "source": [
        "In an interactive session (or in a program launched from the command line), you can ask the user to enter something. The argument to the `input` function is a prompt. You can just use `input ()`, then there will be no prompt. But this is inconvenient, because in this case, it is difficult to notice that the program is waiting for something."
      ]
    },
    {
      "cell_type": "code",
      "metadata": {
        "deletable": true,
        "editable": true,
        "colab": {
          "base_uri": "https://localhost:8080/"
        },
        "id": "9xemk-PifOPC",
        "outputId": "2c173e26-c290-431e-c523-ca04c6894027"
      },
      "source": [
        "s = input('Number ')"
      ],
      "execution_count": 43,
      "outputs": [
        {
          "name": "stdout",
          "output_type": "stream",
          "text": [
            "Number 42\n"
          ]
        }
      ]
    },
    {
      "cell_type": "code",
      "metadata": {
        "deletable": true,
        "editable": true,
        "colab": {
          "base_uri": "https://localhost:8080/",
          "height": 35
        },
        "id": "xFoibsMOfOPD",
        "outputId": "8becb9c5-99a7-4052-885c-a94f54ae130a"
      },
      "source": [
        "s"
      ],
      "execution_count": 45,
      "outputs": [
        {
          "output_type": "execute_result",
          "data": {
            "application/vnd.google.colaboratory.intrinsic+json": {
              "type": "string"
            },
            "text/plain": [
              "'42'"
            ]
          },
          "metadata": {},
          "execution_count": 45
        }
      ]
    },
    {
      "cell_type": "code",
      "metadata": {
        "deletable": true,
        "editable": true,
        "colab": {
          "base_uri": "https://localhost:8080/"
        },
        "id": "j23IfV8WfOPD",
        "outputId": "683fb6cc-9380-4473-99ff-fe0ad5ce7e32"
      },
      "source": [
        "n = int(s)\n",
        "n"
      ],
      "execution_count": 46,
      "outputs": [
        {
          "output_type": "execute_result",
          "data": {
            "text/plain": [
              "42"
            ]
          },
          "metadata": {},
          "execution_count": 46
        }
      ]
    },
    {
      "cell_type": "markdown",
      "metadata": {
        "deletable": true,
        "editable": true,
        "id": "5Hyq-6g5fOPD"
      },
      "source": [
        "Python is an interpreter, so it can interpret strings as chunks of Python source code at runtime. For example, the `eval` function interprets a string as an expression and evaluates it (in the current context, substituting the current values of the variables)."
      ]
    },
    {
      "cell_type": "code",
      "metadata": {
        "id": "2tD8YS8iO99Z"
      },
      "source": [
        "a, b, c = 20, 21, 1"
      ],
      "execution_count": 47,
      "outputs": []
    },
    {
      "cell_type": "code",
      "metadata": {
        "deletable": true,
        "editable": true,
        "colab": {
          "base_uri": "https://localhost:8080/"
        },
        "id": "9y3ioxT0fOPD",
        "outputId": "69fd4461-7a73-45f7-e7db-63e72f2cc0ed"
      },
      "source": [
        "s = input('expression: ')"
      ],
      "execution_count": 48,
      "outputs": [
        {
          "name": "stdout",
          "output_type": "stream",
          "text": [
            "expression: a + b + c\n"
          ]
        }
      ]
    },
    {
      "cell_type": "code",
      "metadata": {
        "deletable": true,
        "editable": true,
        "colab": {
          "base_uri": "https://localhost:8080/",
          "height": 35
        },
        "id": "TeYTCHlefOPD",
        "outputId": "a81a18c5-3e4e-4899-c3f6-7cd0c6140ad3"
      },
      "source": [
        "s"
      ],
      "execution_count": 50,
      "outputs": [
        {
          "output_type": "execute_result",
          "data": {
            "application/vnd.google.colaboratory.intrinsic+json": {
              "type": "string"
            },
            "text/plain": [
              "'a + b + c'"
            ]
          },
          "metadata": {},
          "execution_count": 50
        }
      ]
    },
    {
      "cell_type": "code",
      "metadata": {
        "deletable": true,
        "editable": true,
        "colab": {
          "base_uri": "https://localhost:8080/"
        },
        "id": "wQ2RSnrAfOPE",
        "outputId": "bdad426c-ee4d-43ce-8319-6ad44214af13"
      },
      "source": [
        "eval(s)"
      ],
      "execution_count": 51,
      "outputs": [
        {
          "output_type": "execute_result",
          "data": {
            "text/plain": [
              "42"
            ]
          },
          "metadata": {},
          "execution_count": 51
        }
      ]
    },
    {
      "cell_type": "code",
      "metadata": {
        "id": "wL1KgsmXPiN6"
      },
      "source": [
        "try:\n",
        "    del x\n",
        "except:\n",
        "    pass"
      ],
      "execution_count": 56,
      "outputs": []
    },
    {
      "cell_type": "code",
      "metadata": {
        "deletable": true,
        "editable": true,
        "colab": {
          "base_uri": "https://localhost:8080/"
        },
        "id": "_1rPqFecfOPE",
        "outputId": "f71b07e6-028c-4abb-b0c6-2c71a7d7c196"
      },
      "source": [
        "s = input('assign ')"
      ],
      "execution_count": 57,
      "outputs": [
        {
          "name": "stdout",
          "output_type": "stream",
          "text": [
            "assign x = 42\n"
          ]
        }
      ]
    },
    {
      "cell_type": "code",
      "metadata": {
        "deletable": true,
        "editable": true,
        "colab": {
          "base_uri": "https://localhost:8080/",
          "height": 35
        },
        "id": "wEfIKF0BfOPE",
        "outputId": "ca6b8b29-d82f-4e62-d56d-3e859aea3b03"
      },
      "source": [
        "s"
      ],
      "execution_count": 58,
      "outputs": [
        {
          "output_type": "execute_result",
          "data": {
            "application/vnd.google.colaboratory.intrinsic+json": {
              "type": "string"
            },
            "text/plain": [
              "'x = 42'"
            ]
          },
          "metadata": {},
          "execution_count": 58
        }
      ]
    },
    {
      "cell_type": "code",
      "metadata": {
        "deletable": true,
        "editable": true,
        "colab": {
          "base_uri": "https://localhost:8080/"
        },
        "id": "yfl3iUU1fOPF",
        "outputId": "db2b03a0-1093-498c-e72d-a1d279e623b4"
      },
      "source": [
        "exec(s)\n",
        "x"
      ],
      "execution_count": 59,
      "outputs": [
        {
          "output_type": "execute_result",
          "data": {
            "text/plain": [
              "42"
            ]
          },
          "metadata": {},
          "execution_count": 59
        }
      ]
    },
    {
      "cell_type": "markdown",
      "metadata": {
        "id": "4Q_b7c2IH8gI"
      },
      "source": [
        "***\n",
        "\n",
        "***\n",
        "\n",
        "***\n",
        "\n",
        "***\n",
        "\n",
        "***"
      ]
    },
    {
      "cell_type": "markdown",
      "metadata": {
        "id": "pERfYb0Oidjh"
      },
      "source": [
        "[pathlib](https://docs.python.org/3/library/pathlib.html)"
      ]
    },
    {
      "cell_type": "code",
      "metadata": {
        "collapsed": true,
        "deletable": true,
        "editable": true,
        "id": "Nx4REfzJfOPF"
      },
      "source": [
        "from pathlib import Path"
      ],
      "execution_count": 60,
      "outputs": []
    },
    {
      "cell_type": "code",
      "metadata": {
        "colab": {
          "base_uri": "https://localhost:8080/",
          "height": 35
        },
        "id": "vjVb1klgSwGq",
        "outputId": "70b55fac-8f78-4d26-d99c-78a5db1d95a2"
      },
      "source": [
        "s = 'sample_data' + '/' + 'text' + '.' + 'txt'\n",
        "s"
      ],
      "execution_count": 61,
      "outputs": [
        {
          "output_type": "execute_result",
          "data": {
            "application/vnd.google.colaboratory.intrinsic+json": {
              "type": "string"
            },
            "text/plain": [
              "'sample_data/text.txt'"
            ]
          },
          "metadata": {},
          "execution_count": 61
        }
      ]
    },
    {
      "cell_type": "code",
      "metadata": {
        "colab": {
          "base_uri": "https://localhost:8080/",
          "height": 35
        },
        "id": "xhfRnlrfTEHE",
        "outputId": "72f3a5de-ef9f-45b3-e63d-ed3748a4a698"
      },
      "source": [
        "s_new = './' + s\n",
        "s_new"
      ],
      "execution_count": 62,
      "outputs": [
        {
          "output_type": "execute_result",
          "data": {
            "application/vnd.google.colaboratory.intrinsic+json": {
              "type": "string"
            },
            "text/plain": [
              "'./sample_data/text.txt'"
            ]
          },
          "metadata": {},
          "execution_count": 62
        }
      ]
    },
    {
      "cell_type": "markdown",
      "metadata": {
        "deletable": true,
        "editable": true,
        "id": "Uapk0YTQfOPF"
      },
      "source": [
        "`Path ()` returns the current directory."
      ]
    },
    {
      "cell_type": "code",
      "metadata": {
        "deletable": true,
        "editable": true,
        "colab": {
          "base_uri": "https://localhost:8080/"
        },
        "id": "_tzz5JKnfOPF",
        "outputId": "58f41cbd-2ed8-4685-daa3-7fc255bae2c9"
      },
      "source": [
        "p = Path()\n",
        "p"
      ],
      "execution_count": 64,
      "outputs": [
        {
          "output_type": "execute_result",
          "data": {
            "text/plain": [
              "PosixPath('.')"
            ]
          },
          "metadata": {},
          "execution_count": 64
        }
      ]
    },
    {
      "cell_type": "markdown",
      "metadata": {
        "deletable": true,
        "editable": true,
        "id": "rK9uw6vCfOPF"
      },
      "source": [
        "The very useful `resolve` method brings the path to the canonical view."
      ]
    },
    {
      "cell_type": "code",
      "metadata": {
        "deletable": true,
        "editable": true,
        "colab": {
          "base_uri": "https://localhost:8080/"
        },
        "id": "R0ve0m_ufOPG",
        "outputId": "3bf536c5-ae31-48b4-dd51-358afb2d4b9e"
      },
      "source": [
        "p.resolve()"
      ],
      "execution_count": 65,
      "outputs": [
        {
          "output_type": "execute_result",
          "data": {
            "text/plain": [
              "PosixPath('/content')"
            ]
          },
          "metadata": {},
          "execution_count": 65
        }
      ]
    },
    {
      "cell_type": "markdown",
      "metadata": {
        "deletable": true,
        "editable": true,
        "id": "HG86tAPwfOPG"
      },
      "source": [
        "The path can be recorded in a completely idiotic way; resolve will fix it."
      ]
    },
    {
      "cell_type": "code",
      "metadata": {
        "deletable": true,
        "editable": true,
        "colab": {
          "base_uri": "https://localhost:8080/"
        },
        "id": "Wu6b4na-fOPG",
        "outputId": "d549baa2-0800-43d6-e363-c7367cf8a2e2"
      },
      "source": [
        "p = Path('.././/book')\n",
        "p = p.resolve()\n",
        "p"
      ],
      "execution_count": 66,
      "outputs": [
        {
          "output_type": "execute_result",
          "data": {
            "text/plain": [
              "PosixPath('/book')"
            ]
          },
          "metadata": {},
          "execution_count": 66
        }
      ]
    },
    {
      "cell_type": "markdown",
      "metadata": {
        "deletable": true,
        "editable": true,
        "id": "VVnTjjNCfOPG"
      },
      "source": [
        "The static method `cwd` returns the current working directory."
      ]
    },
    {
      "cell_type": "code",
      "metadata": {
        "colab": {
          "base_uri": "https://localhost:8080/"
        },
        "id": "lQ0q2pbRT4JO",
        "outputId": "928a8dbd-3a83-4946-dbf0-c5de27f065a1"
      },
      "source": [
        "!pwd"
      ],
      "execution_count": 67,
      "outputs": [
        {
          "output_type": "stream",
          "name": "stdout",
          "text": [
            "/content\n"
          ]
        }
      ]
    },
    {
      "cell_type": "code",
      "metadata": {
        "deletable": true,
        "editable": true,
        "colab": {
          "base_uri": "https://localhost:8080/"
        },
        "id": "ZVB5GDtMfOPG",
        "outputId": "7b58bad9-e285-4505-bff7-78caf003f8ac"
      },
      "source": [
        "Path.cwd()"
      ],
      "execution_count": 68,
      "outputs": [
        {
          "output_type": "execute_result",
          "data": {
            "text/plain": [
              "PosixPath('/content')"
            ]
          },
          "metadata": {},
          "execution_count": 68
        }
      ]
    },
    {
      "cell_type": "markdown",
      "metadata": {
        "deletable": true,
        "editable": true,
        "id": "UsfS1lyLfOPH"
      },
      "source": [
        "If `p` is the path to a directory, then you can see all the files in it."
      ]
    },
    {
      "cell_type": "code",
      "metadata": {
        "id": "g2I73K-1UHBQ"
      },
      "source": [
        "p = Path('./sample_data')"
      ],
      "execution_count": 69,
      "outputs": []
    },
    {
      "cell_type": "code",
      "metadata": {
        "deletable": true,
        "editable": true,
        "colab": {
          "base_uri": "https://localhost:8080/"
        },
        "id": "wm-NFnHJfOPH",
        "outputId": "a02d964e-e91a-4c55-e875-219c5fe80cae"
      },
      "source": [
        "for f in p.iterdir():\n",
        "    print(f)"
      ],
      "execution_count": 70,
      "outputs": [
        {
          "output_type": "stream",
          "name": "stdout",
          "text": [
            "sample_data/README.md\n",
            "sample_data/anscombe.json\n",
            "sample_data/.ipynb_checkpoints\n",
            "sample_data/mnist_train_small.csv\n",
            "sample_data/california_housing_test.csv\n",
            "sample_data/mnist_test.csv\n",
            "sample_data/california_housing_train.csv\n"
          ]
        }
      ]
    },
    {
      "cell_type": "markdown",
      "metadata": {
        "deletable": true,
        "editable": true,
        "id": "f4MuleHjfOPH"
      },
      "source": [
        "If `p` is the path to a directory, then` p / 'fname' 'is the path to the file `fname` in it (of course, it can also be a directory)."
      ]
    },
    {
      "cell_type": "code",
      "metadata": {
        "id": "wjz0QmCgUYtD"
      },
      "source": [
        "!mkdir sample_data/dir1"
      ],
      "execution_count": 71,
      "outputs": []
    },
    {
      "cell_type": "code",
      "metadata": {
        "id": "pUfxO5IyUilP"
      },
      "source": [
        "!mkdir sample_data/dir2"
      ],
      "execution_count": 72,
      "outputs": []
    },
    {
      "cell_type": "code",
      "metadata": {
        "id": "6qKiJYWdUyGJ"
      },
      "source": [
        "!mkdir sample_data/dir3/"
      ],
      "execution_count": 73,
      "outputs": []
    },
    {
      "cell_type": "code",
      "metadata": {
        "id": "FkXSFtk4Ulou"
      },
      "source": [
        "!mkdir sample_data/dir3/subdir3"
      ],
      "execution_count": 74,
      "outputs": []
    },
    {
      "cell_type": "code",
      "metadata": {
        "colab": {
          "base_uri": "https://localhost:8080/"
        },
        "id": "trIP9j03U3jQ",
        "outputId": "17bfd23a-5262-465b-c488-d4967cb2fd32"
      },
      "source": [
        "p"
      ],
      "execution_count": 75,
      "outputs": [
        {
          "output_type": "execute_result",
          "data": {
            "text/plain": [
              "PosixPath('sample_data')"
            ]
          },
          "metadata": {},
          "execution_count": 75
        }
      ]
    },
    {
      "cell_type": "code",
      "metadata": {
        "deletable": true,
        "editable": true,
        "colab": {
          "base_uri": "https://localhost:8080/"
        },
        "id": "ePAv_rdCfOPH",
        "outputId": "3b8e122a-65ff-4c21-b9aa-339c5a651a90"
      },
      "source": [
        "p2 = p / 'dir3'\n",
        "p2"
      ],
      "execution_count": 76,
      "outputs": [
        {
          "output_type": "execute_result",
          "data": {
            "text/plain": [
              "PosixPath('sample_data/dir3')"
            ]
          },
          "metadata": {},
          "execution_count": 76
        }
      ]
    },
    {
      "cell_type": "code",
      "metadata": {
        "deletable": true,
        "editable": true,
        "colab": {
          "base_uri": "https://localhost:8080/"
        },
        "id": "DizTeBXjfOPI",
        "outputId": "d112834b-4f8b-4d88-98ea-9792bd2d8a82"
      },
      "source": [
        "p2.exists()"
      ],
      "execution_count": 77,
      "outputs": [
        {
          "output_type": "execute_result",
          "data": {
            "text/plain": [
              "True"
            ]
          },
          "metadata": {},
          "execution_count": 77
        }
      ]
    },
    {
      "cell_type": "code",
      "metadata": {
        "id": "6AcqEVsvVFB8"
      },
      "source": [
        "p3 = p / 'dir4'"
      ],
      "execution_count": 78,
      "outputs": []
    },
    {
      "cell_type": "code",
      "metadata": {
        "colab": {
          "base_uri": "https://localhost:8080/"
        },
        "id": "m4VQng3DVQAx",
        "outputId": "cd328136-ad9c-4152-8028-3f756f5653cb"
      },
      "source": [
        "p3.exists()"
      ],
      "execution_count": 79,
      "outputs": [
        {
          "output_type": "execute_result",
          "data": {
            "text/plain": [
              "False"
            ]
          },
          "metadata": {},
          "execution_count": 79
        }
      ]
    },
    {
      "cell_type": "code",
      "metadata": {
        "deletable": true,
        "editable": true,
        "colab": {
          "base_uri": "https://localhost:8080/"
        },
        "id": "yL49XSDFfOPK",
        "outputId": "52305370-d026-40a3-f7af-ab188b18c6ba"
      },
      "source": [
        "p2.is_symlink(), p2.is_dir(), p2.is_file()"
      ],
      "execution_count": 80,
      "outputs": [
        {
          "output_type": "execute_result",
          "data": {
            "text/plain": [
              "(False, True, False)"
            ]
          },
          "metadata": {},
          "execution_count": 80
        }
      ]
    },
    {
      "cell_type": "code",
      "metadata": {
        "colab": {
          "base_uri": "https://localhost:8080/"
        },
        "id": "594-Y13qVlnH",
        "outputId": "f720dc71-1df6-4fb0-aa99-6f5c7c42b595"
      },
      "source": [
        "p2"
      ],
      "execution_count": 81,
      "outputs": [
        {
          "output_type": "execute_result",
          "data": {
            "text/plain": [
              "PosixPath('sample_data/dir3')"
            ]
          },
          "metadata": {},
          "execution_count": 81
        }
      ]
    },
    {
      "cell_type": "code",
      "metadata": {
        "deletable": true,
        "editable": true,
        "colab": {
          "base_uri": "https://localhost:8080/"
        },
        "id": "ZdBtc1mKfOPL",
        "outputId": "572780e0-fd66-4e72-c92f-120ba5c6f614"
      },
      "source": [
        "p2.parts"
      ],
      "execution_count": 82,
      "outputs": [
        {
          "output_type": "execute_result",
          "data": {
            "text/plain": [
              "('sample_data', 'dir3')"
            ]
          },
          "metadata": {},
          "execution_count": 82
        }
      ]
    },
    {
      "cell_type": "code",
      "metadata": {
        "deletable": true,
        "editable": true,
        "colab": {
          "base_uri": "https://localhost:8080/"
        },
        "id": "KtGyG6HrfOPL",
        "outputId": "69ad321a-a375-43c8-c470-89b6e71a6144"
      },
      "source": [
        "p2.parent, p2.parent.parent"
      ],
      "execution_count": 83,
      "outputs": [
        {
          "output_type": "execute_result",
          "data": {
            "text/plain": [
              "(PosixPath('sample_data'), PosixPath('.'))"
            ]
          },
          "metadata": {},
          "execution_count": 83
        }
      ]
    },
    {
      "cell_type": "code",
      "metadata": {
        "deletable": true,
        "editable": true,
        "colab": {
          "base_uri": "https://localhost:8080/"
        },
        "id": "CJCPMrs4fOPL",
        "outputId": "4dedc7c2-2321-4a33-929e-fa02093e7546"
      },
      "source": [
        "p2.name, p2.stem, p2.suffix"
      ],
      "execution_count": 84,
      "outputs": [
        {
          "output_type": "execute_result",
          "data": {
            "text/plain": [
              "('dir3', 'dir3', '')"
            ]
          },
          "metadata": {},
          "execution_count": 84
        }
      ]
    },
    {
      "cell_type": "code",
      "metadata": {
        "id": "18qi0Oq6V12o"
      },
      "source": [
        "!echo 'stroka' >> sample_data/dir3/subdir3/stroka.txt"
      ],
      "execution_count": 85,
      "outputs": []
    },
    {
      "cell_type": "code",
      "metadata": {
        "colab": {
          "base_uri": "https://localhost:8080/"
        },
        "id": "tSPPsKWEWXa8",
        "outputId": "301010f6-acb7-49b8-bd90-67e3b1bb7283"
      },
      "source": [
        "p2"
      ],
      "execution_count": 86,
      "outputs": [
        {
          "output_type": "execute_result",
          "data": {
            "text/plain": [
              "PosixPath('sample_data/dir3')"
            ]
          },
          "metadata": {},
          "execution_count": 86
        }
      ]
    },
    {
      "cell_type": "code",
      "metadata": {
        "id": "-vOWAUYBWQeF"
      },
      "source": [
        "p3 = p2 / 'subdir3/stroka.txt'"
      ],
      "execution_count": 87,
      "outputs": []
    },
    {
      "cell_type": "code",
      "metadata": {
        "colab": {
          "base_uri": "https://localhost:8080/"
        },
        "id": "zoZhJsR3Wf8I",
        "outputId": "02f0143b-ddaa-4fd5-fc7e-cf51afdfb338"
      },
      "source": [
        "p3.name, p3.stem, p3.suffix"
      ],
      "execution_count": 88,
      "outputs": [
        {
          "output_type": "execute_result",
          "data": {
            "text/plain": [
              "('stroka.txt', 'stroka', '.txt')"
            ]
          },
          "metadata": {},
          "execution_count": 88
        }
      ]
    },
    {
      "cell_type": "markdown",
      "metadata": {
        "id": "OuTJWCrnI3X3"
      },
      "source": [
        "Get the status of a file or a file descriptor with `.stat()`"
      ]
    },
    {
      "cell_type": "code",
      "metadata": {
        "deletable": true,
        "editable": true,
        "colab": {
          "base_uri": "https://localhost:8080/"
        },
        "id": "vlNVGmVhfOPM",
        "outputId": "a46a5e09-e652-424b-d188-da7ecb1448c8"
      },
      "source": [
        "s = p3.stat()\n",
        "s"
      ],
      "execution_count": 89,
      "outputs": [
        {
          "output_type": "execute_result",
          "data": {
            "text/plain": [
              "os.stat_result(st_mode=33188, st_ino=6946826, st_dev=36, st_nlink=1, st_uid=0, st_gid=0, st_size=7, st_atime=1637230843, st_mtime=1637230843, st_ctime=1637230843)"
            ]
          },
          "metadata": {},
          "execution_count": 89
        }
      ]
    },
    {
      "cell_type": "code",
      "metadata": {
        "colab": {
          "base_uri": "https://localhost:8080/"
        },
        "id": "cubXASXOWxWV",
        "outputId": "0b01bd76-350a-4808-b832-54bfc0436df8"
      },
      "source": [
        "s.st_size"
      ],
      "execution_count": 90,
      "outputs": [
        {
          "output_type": "execute_result",
          "data": {
            "text/plain": [
              "7"
            ]
          },
          "metadata": {},
          "execution_count": 90
        }
      ]
    },
    {
      "cell_type": "code",
      "metadata": {
        "id": "AQczmjNYkSN7"
      },
      "source": [
        ""
      ],
      "execution_count": null,
      "outputs": []
    }
  ]
}